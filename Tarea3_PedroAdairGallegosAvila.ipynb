{
  "nbformat": 4,
  "nbformat_minor": 0,
  "metadata": {
    "colab": {
      "provenance": [],
      "collapsed_sections": [
        "2-2juhipl8Sm",
        "xG12Y1KxNrTO",
        "74OMqMxaiqrH",
        "nrRsoJEowfLj",
        "VxyfuYZgKoC9",
        "o5YvTGiQKsPM",
        "JgvIYR5foCOv",
        "l-vLaNt8oClb",
        "NEev8RydoCoB",
        "j4gZEZ9_W-Fo",
        "KOZR2k4HuKOY",
        "jlIybQoAKITU",
        "gaCekUYKFHyE",
        "lE4DZwcNGptU",
        "R4b_EI0nG7Yr",
        "q7HDt2GUR9Fh",
        "xz3WPtB4Ttrt",
        "i8zkBovMd4og"
      ],
      "toc_visible": true,
      "include_colab_link": true
    },
    "kernelspec": {
      "name": "python3",
      "display_name": "Python 3"
    },
    "language_info": {
      "name": "python"
    },
    "widgets": {
      "application/vnd.jupyter.widget-state+json": {
        "dc5f00ab83f741b4aea2734ead284876": {
          "model_module": "@jupyter-widgets/controls",
          "model_name": "HBoxModel",
          "model_module_version": "1.5.0",
          "state": {
            "_dom_classes": [],
            "_model_module": "@jupyter-widgets/controls",
            "_model_module_version": "1.5.0",
            "_model_name": "HBoxModel",
            "_view_count": null,
            "_view_module": "@jupyter-widgets/controls",
            "_view_module_version": "1.5.0",
            "_view_name": "HBoxView",
            "box_style": "",
            "children": [
              "IPY_MODEL_00443df3609645f5a14f4e85982471fc",
              "IPY_MODEL_218448e361d94984a8574f656d724395",
              "IPY_MODEL_e5edc5e59fff4d028aed85d5939112b8"
            ],
            "layout": "IPY_MODEL_1bea374b5a1849979915fd4795f3aa20"
          }
        },
        "00443df3609645f5a14f4e85982471fc": {
          "model_module": "@jupyter-widgets/controls",
          "model_name": "HTMLModel",
          "model_module_version": "1.5.0",
          "state": {
            "_dom_classes": [],
            "_model_module": "@jupyter-widgets/controls",
            "_model_module_version": "1.5.0",
            "_model_name": "HTMLModel",
            "_view_count": null,
            "_view_module": "@jupyter-widgets/controls",
            "_view_module_version": "1.5.0",
            "_view_name": "HTMLView",
            "description": "",
            "description_tooltip": null,
            "layout": "IPY_MODEL_d4492620a0e941ebbd0a160b9f80bc31",
            "placeholder": "​",
            "style": "IPY_MODEL_4100ff4c52a54a538921866b1f089a8c",
            "value": ""
          }
        },
        "218448e361d94984a8574f656d724395": {
          "model_module": "@jupyter-widgets/controls",
          "model_name": "FloatProgressModel",
          "model_module_version": "1.5.0",
          "state": {
            "_dom_classes": [],
            "_model_module": "@jupyter-widgets/controls",
            "_model_module_version": "1.5.0",
            "_model_name": "FloatProgressModel",
            "_view_count": null,
            "_view_module": "@jupyter-widgets/controls",
            "_view_module_version": "1.5.0",
            "_view_name": "ProgressView",
            "bar_style": "success",
            "description": "",
            "description_tooltip": null,
            "layout": "IPY_MODEL_267469760e1643229208e60394db34da",
            "max": 1,
            "min": 0,
            "orientation": "horizontal",
            "style": "IPY_MODEL_918f6ffd19454a72a6dc1e7a49befc65",
            "value": 1
          }
        },
        "e5edc5e59fff4d028aed85d5939112b8": {
          "model_module": "@jupyter-widgets/controls",
          "model_name": "HTMLModel",
          "model_module_version": "1.5.0",
          "state": {
            "_dom_classes": [],
            "_model_module": "@jupyter-widgets/controls",
            "_model_module_version": "1.5.0",
            "_model_name": "HTMLModel",
            "_view_count": null,
            "_view_module": "@jupyter-widgets/controls",
            "_view_module_version": "1.5.0",
            "_view_name": "HTMLView",
            "description": "",
            "description_tooltip": null,
            "layout": "IPY_MODEL_47fc6ef94c094fba9b04afe2a18d4af7",
            "placeholder": "​",
            "style": "IPY_MODEL_11b31c2464f04479b2648cda5232ede1",
            "value": " 1313423/? [00:45&lt;00:00, 50121.39it/s]"
          }
        },
        "1bea374b5a1849979915fd4795f3aa20": {
          "model_module": "@jupyter-widgets/base",
          "model_name": "LayoutModel",
          "model_module_version": "1.2.0",
          "state": {
            "_model_module": "@jupyter-widgets/base",
            "_model_module_version": "1.2.0",
            "_model_name": "LayoutModel",
            "_view_count": null,
            "_view_module": "@jupyter-widgets/base",
            "_view_module_version": "1.2.0",
            "_view_name": "LayoutView",
            "align_content": null,
            "align_items": null,
            "align_self": null,
            "border": null,
            "bottom": null,
            "display": null,
            "flex": null,
            "flex_flow": null,
            "grid_area": null,
            "grid_auto_columns": null,
            "grid_auto_flow": null,
            "grid_auto_rows": null,
            "grid_column": null,
            "grid_gap": null,
            "grid_row": null,
            "grid_template_areas": null,
            "grid_template_columns": null,
            "grid_template_rows": null,
            "height": null,
            "justify_content": null,
            "justify_items": null,
            "left": null,
            "margin": null,
            "max_height": null,
            "max_width": null,
            "min_height": null,
            "min_width": null,
            "object_fit": null,
            "object_position": null,
            "order": null,
            "overflow": null,
            "overflow_x": null,
            "overflow_y": null,
            "padding": null,
            "right": null,
            "top": null,
            "visibility": null,
            "width": null
          }
        },
        "d4492620a0e941ebbd0a160b9f80bc31": {
          "model_module": "@jupyter-widgets/base",
          "model_name": "LayoutModel",
          "model_module_version": "1.2.0",
          "state": {
            "_model_module": "@jupyter-widgets/base",
            "_model_module_version": "1.2.0",
            "_model_name": "LayoutModel",
            "_view_count": null,
            "_view_module": "@jupyter-widgets/base",
            "_view_module_version": "1.2.0",
            "_view_name": "LayoutView",
            "align_content": null,
            "align_items": null,
            "align_self": null,
            "border": null,
            "bottom": null,
            "display": null,
            "flex": null,
            "flex_flow": null,
            "grid_area": null,
            "grid_auto_columns": null,
            "grid_auto_flow": null,
            "grid_auto_rows": null,
            "grid_column": null,
            "grid_gap": null,
            "grid_row": null,
            "grid_template_areas": null,
            "grid_template_columns": null,
            "grid_template_rows": null,
            "height": null,
            "justify_content": null,
            "justify_items": null,
            "left": null,
            "margin": null,
            "max_height": null,
            "max_width": null,
            "min_height": null,
            "min_width": null,
            "object_fit": null,
            "object_position": null,
            "order": null,
            "overflow": null,
            "overflow_x": null,
            "overflow_y": null,
            "padding": null,
            "right": null,
            "top": null,
            "visibility": null,
            "width": null
          }
        },
        "4100ff4c52a54a538921866b1f089a8c": {
          "model_module": "@jupyter-widgets/controls",
          "model_name": "DescriptionStyleModel",
          "model_module_version": "1.5.0",
          "state": {
            "_model_module": "@jupyter-widgets/controls",
            "_model_module_version": "1.5.0",
            "_model_name": "DescriptionStyleModel",
            "_view_count": null,
            "_view_module": "@jupyter-widgets/base",
            "_view_module_version": "1.2.0",
            "_view_name": "StyleView",
            "description_width": ""
          }
        },
        "267469760e1643229208e60394db34da": {
          "model_module": "@jupyter-widgets/base",
          "model_name": "LayoutModel",
          "model_module_version": "1.2.0",
          "state": {
            "_model_module": "@jupyter-widgets/base",
            "_model_module_version": "1.2.0",
            "_model_name": "LayoutModel",
            "_view_count": null,
            "_view_module": "@jupyter-widgets/base",
            "_view_module_version": "1.2.0",
            "_view_name": "LayoutView",
            "align_content": null,
            "align_items": null,
            "align_self": null,
            "border": null,
            "bottom": null,
            "display": null,
            "flex": null,
            "flex_flow": null,
            "grid_area": null,
            "grid_auto_columns": null,
            "grid_auto_flow": null,
            "grid_auto_rows": null,
            "grid_column": null,
            "grid_gap": null,
            "grid_row": null,
            "grid_template_areas": null,
            "grid_template_columns": null,
            "grid_template_rows": null,
            "height": null,
            "justify_content": null,
            "justify_items": null,
            "left": null,
            "margin": null,
            "max_height": null,
            "max_width": null,
            "min_height": null,
            "min_width": null,
            "object_fit": null,
            "object_position": null,
            "order": null,
            "overflow": null,
            "overflow_x": null,
            "overflow_y": null,
            "padding": null,
            "right": null,
            "top": null,
            "visibility": null,
            "width": "20px"
          }
        },
        "918f6ffd19454a72a6dc1e7a49befc65": {
          "model_module": "@jupyter-widgets/controls",
          "model_name": "ProgressStyleModel",
          "model_module_version": "1.5.0",
          "state": {
            "_model_module": "@jupyter-widgets/controls",
            "_model_module_version": "1.5.0",
            "_model_name": "ProgressStyleModel",
            "_view_count": null,
            "_view_module": "@jupyter-widgets/base",
            "_view_module_version": "1.2.0",
            "_view_name": "StyleView",
            "bar_color": null,
            "description_width": ""
          }
        },
        "47fc6ef94c094fba9b04afe2a18d4af7": {
          "model_module": "@jupyter-widgets/base",
          "model_name": "LayoutModel",
          "model_module_version": "1.2.0",
          "state": {
            "_model_module": "@jupyter-widgets/base",
            "_model_module_version": "1.2.0",
            "_model_name": "LayoutModel",
            "_view_count": null,
            "_view_module": "@jupyter-widgets/base",
            "_view_module_version": "1.2.0",
            "_view_name": "LayoutView",
            "align_content": null,
            "align_items": null,
            "align_self": null,
            "border": null,
            "bottom": null,
            "display": null,
            "flex": null,
            "flex_flow": null,
            "grid_area": null,
            "grid_auto_columns": null,
            "grid_auto_flow": null,
            "grid_auto_rows": null,
            "grid_column": null,
            "grid_gap": null,
            "grid_row": null,
            "grid_template_areas": null,
            "grid_template_columns": null,
            "grid_template_rows": null,
            "height": null,
            "justify_content": null,
            "justify_items": null,
            "left": null,
            "margin": null,
            "max_height": null,
            "max_width": null,
            "min_height": null,
            "min_width": null,
            "object_fit": null,
            "object_position": null,
            "order": null,
            "overflow": null,
            "overflow_x": null,
            "overflow_y": null,
            "padding": null,
            "right": null,
            "top": null,
            "visibility": null,
            "width": null
          }
        },
        "11b31c2464f04479b2648cda5232ede1": {
          "model_module": "@jupyter-widgets/controls",
          "model_name": "DescriptionStyleModel",
          "model_module_version": "1.5.0",
          "state": {
            "_model_module": "@jupyter-widgets/controls",
            "_model_module_version": "1.5.0",
            "_model_name": "DescriptionStyleModel",
            "_view_count": null,
            "_view_module": "@jupyter-widgets/base",
            "_view_module_version": "1.2.0",
            "_view_name": "StyleView",
            "description_width": ""
          }
        },
        "13570a79bd2a46f9ae93bc9b2342973a": {
          "model_module": "@jupyter-widgets/controls",
          "model_name": "HBoxModel",
          "model_module_version": "1.5.0",
          "state": {
            "_dom_classes": [],
            "_model_module": "@jupyter-widgets/controls",
            "_model_module_version": "1.5.0",
            "_model_name": "HBoxModel",
            "_view_count": null,
            "_view_module": "@jupyter-widgets/controls",
            "_view_module_version": "1.5.0",
            "_view_name": "HBoxView",
            "box_style": "",
            "children": [
              "IPY_MODEL_4caf44b36db240b68977fbb29eb316aa",
              "IPY_MODEL_928383136a75401db5d4b441d296773c",
              "IPY_MODEL_9039dd848de54dd18bea65a941d85386"
            ],
            "layout": "IPY_MODEL_8bb45e71a30547d79a0708d3fae5f58d"
          }
        },
        "4caf44b36db240b68977fbb29eb316aa": {
          "model_module": "@jupyter-widgets/controls",
          "model_name": "HTMLModel",
          "model_module_version": "1.5.0",
          "state": {
            "_dom_classes": [],
            "_model_module": "@jupyter-widgets/controls",
            "_model_module_version": "1.5.0",
            "_model_name": "HTMLModel",
            "_view_count": null,
            "_view_module": "@jupyter-widgets/controls",
            "_view_module_version": "1.5.0",
            "_view_name": "HTMLView",
            "description": "",
            "description_tooltip": null,
            "layout": "IPY_MODEL_e2ed74f57f2b47f08cfc4ef79287c483",
            "placeholder": "​",
            "style": "IPY_MODEL_0c1eba6772fe48a0a81beef09976f196",
            "value": ""
          }
        },
        "928383136a75401db5d4b441d296773c": {
          "model_module": "@jupyter-widgets/controls",
          "model_name": "FloatProgressModel",
          "model_module_version": "1.5.0",
          "state": {
            "_dom_classes": [],
            "_model_module": "@jupyter-widgets/controls",
            "_model_module_version": "1.5.0",
            "_model_name": "FloatProgressModel",
            "_view_count": null,
            "_view_module": "@jupyter-widgets/controls",
            "_view_module_version": "1.5.0",
            "_view_name": "ProgressView",
            "bar_style": "success",
            "description": "",
            "description_tooltip": null,
            "layout": "IPY_MODEL_d9be0ea566a1424e832faf4b9881e841",
            "max": 1,
            "min": 0,
            "orientation": "horizontal",
            "style": "IPY_MODEL_bc5a752817fe40229711ed9202fd5da7",
            "value": 1
          }
        },
        "9039dd848de54dd18bea65a941d85386": {
          "model_module": "@jupyter-widgets/controls",
          "model_name": "HTMLModel",
          "model_module_version": "1.5.0",
          "state": {
            "_dom_classes": [],
            "_model_module": "@jupyter-widgets/controls",
            "_model_module_version": "1.5.0",
            "_model_name": "HTMLModel",
            "_view_count": null,
            "_view_module": "@jupyter-widgets/controls",
            "_view_module_version": "1.5.0",
            "_view_name": "HTMLView",
            "description": "",
            "description_tooltip": null,
            "layout": "IPY_MODEL_229e88e5e0404633a188200f05599205",
            "placeholder": "​",
            "style": "IPY_MODEL_7a8bee6d85ad49e6b20c91d598614d03",
            "value": " 1000653/? [00:38&lt;00:00, 45527.06it/s]"
          }
        },
        "8bb45e71a30547d79a0708d3fae5f58d": {
          "model_module": "@jupyter-widgets/base",
          "model_name": "LayoutModel",
          "model_module_version": "1.2.0",
          "state": {
            "_model_module": "@jupyter-widgets/base",
            "_model_module_version": "1.2.0",
            "_model_name": "LayoutModel",
            "_view_count": null,
            "_view_module": "@jupyter-widgets/base",
            "_view_module_version": "1.2.0",
            "_view_name": "LayoutView",
            "align_content": null,
            "align_items": null,
            "align_self": null,
            "border": null,
            "bottom": null,
            "display": null,
            "flex": null,
            "flex_flow": null,
            "grid_area": null,
            "grid_auto_columns": null,
            "grid_auto_flow": null,
            "grid_auto_rows": null,
            "grid_column": null,
            "grid_gap": null,
            "grid_row": null,
            "grid_template_areas": null,
            "grid_template_columns": null,
            "grid_template_rows": null,
            "height": null,
            "justify_content": null,
            "justify_items": null,
            "left": null,
            "margin": null,
            "max_height": null,
            "max_width": null,
            "min_height": null,
            "min_width": null,
            "object_fit": null,
            "object_position": null,
            "order": null,
            "overflow": null,
            "overflow_x": null,
            "overflow_y": null,
            "padding": null,
            "right": null,
            "top": null,
            "visibility": null,
            "width": null
          }
        },
        "e2ed74f57f2b47f08cfc4ef79287c483": {
          "model_module": "@jupyter-widgets/base",
          "model_name": "LayoutModel",
          "model_module_version": "1.2.0",
          "state": {
            "_model_module": "@jupyter-widgets/base",
            "_model_module_version": "1.2.0",
            "_model_name": "LayoutModel",
            "_view_count": null,
            "_view_module": "@jupyter-widgets/base",
            "_view_module_version": "1.2.0",
            "_view_name": "LayoutView",
            "align_content": null,
            "align_items": null,
            "align_self": null,
            "border": null,
            "bottom": null,
            "display": null,
            "flex": null,
            "flex_flow": null,
            "grid_area": null,
            "grid_auto_columns": null,
            "grid_auto_flow": null,
            "grid_auto_rows": null,
            "grid_column": null,
            "grid_gap": null,
            "grid_row": null,
            "grid_template_areas": null,
            "grid_template_columns": null,
            "grid_template_rows": null,
            "height": null,
            "justify_content": null,
            "justify_items": null,
            "left": null,
            "margin": null,
            "max_height": null,
            "max_width": null,
            "min_height": null,
            "min_width": null,
            "object_fit": null,
            "object_position": null,
            "order": null,
            "overflow": null,
            "overflow_x": null,
            "overflow_y": null,
            "padding": null,
            "right": null,
            "top": null,
            "visibility": null,
            "width": null
          }
        },
        "0c1eba6772fe48a0a81beef09976f196": {
          "model_module": "@jupyter-widgets/controls",
          "model_name": "DescriptionStyleModel",
          "model_module_version": "1.5.0",
          "state": {
            "_model_module": "@jupyter-widgets/controls",
            "_model_module_version": "1.5.0",
            "_model_name": "DescriptionStyleModel",
            "_view_count": null,
            "_view_module": "@jupyter-widgets/base",
            "_view_module_version": "1.2.0",
            "_view_name": "StyleView",
            "description_width": ""
          }
        },
        "d9be0ea566a1424e832faf4b9881e841": {
          "model_module": "@jupyter-widgets/base",
          "model_name": "LayoutModel",
          "model_module_version": "1.2.0",
          "state": {
            "_model_module": "@jupyter-widgets/base",
            "_model_module_version": "1.2.0",
            "_model_name": "LayoutModel",
            "_view_count": null,
            "_view_module": "@jupyter-widgets/base",
            "_view_module_version": "1.2.0",
            "_view_name": "LayoutView",
            "align_content": null,
            "align_items": null,
            "align_self": null,
            "border": null,
            "bottom": null,
            "display": null,
            "flex": null,
            "flex_flow": null,
            "grid_area": null,
            "grid_auto_columns": null,
            "grid_auto_flow": null,
            "grid_auto_rows": null,
            "grid_column": null,
            "grid_gap": null,
            "grid_row": null,
            "grid_template_areas": null,
            "grid_template_columns": null,
            "grid_template_rows": null,
            "height": null,
            "justify_content": null,
            "justify_items": null,
            "left": null,
            "margin": null,
            "max_height": null,
            "max_width": null,
            "min_height": null,
            "min_width": null,
            "object_fit": null,
            "object_position": null,
            "order": null,
            "overflow": null,
            "overflow_x": null,
            "overflow_y": null,
            "padding": null,
            "right": null,
            "top": null,
            "visibility": null,
            "width": "20px"
          }
        },
        "bc5a752817fe40229711ed9202fd5da7": {
          "model_module": "@jupyter-widgets/controls",
          "model_name": "ProgressStyleModel",
          "model_module_version": "1.5.0",
          "state": {
            "_model_module": "@jupyter-widgets/controls",
            "_model_module_version": "1.5.0",
            "_model_name": "ProgressStyleModel",
            "_view_count": null,
            "_view_module": "@jupyter-widgets/base",
            "_view_module_version": "1.2.0",
            "_view_name": "StyleView",
            "bar_color": null,
            "description_width": ""
          }
        },
        "229e88e5e0404633a188200f05599205": {
          "model_module": "@jupyter-widgets/base",
          "model_name": "LayoutModel",
          "model_module_version": "1.2.0",
          "state": {
            "_model_module": "@jupyter-widgets/base",
            "_model_module_version": "1.2.0",
            "_model_name": "LayoutModel",
            "_view_count": null,
            "_view_module": "@jupyter-widgets/base",
            "_view_module_version": "1.2.0",
            "_view_name": "LayoutView",
            "align_content": null,
            "align_items": null,
            "align_self": null,
            "border": null,
            "bottom": null,
            "display": null,
            "flex": null,
            "flex_flow": null,
            "grid_area": null,
            "grid_auto_columns": null,
            "grid_auto_flow": null,
            "grid_auto_rows": null,
            "grid_column": null,
            "grid_gap": null,
            "grid_row": null,
            "grid_template_areas": null,
            "grid_template_columns": null,
            "grid_template_rows": null,
            "height": null,
            "justify_content": null,
            "justify_items": null,
            "left": null,
            "margin": null,
            "max_height": null,
            "max_width": null,
            "min_height": null,
            "min_width": null,
            "object_fit": null,
            "object_position": null,
            "order": null,
            "overflow": null,
            "overflow_x": null,
            "overflow_y": null,
            "padding": null,
            "right": null,
            "top": null,
            "visibility": null,
            "width": null
          }
        },
        "7a8bee6d85ad49e6b20c91d598614d03": {
          "model_module": "@jupyter-widgets/controls",
          "model_name": "DescriptionStyleModel",
          "model_module_version": "1.5.0",
          "state": {
            "_model_module": "@jupyter-widgets/controls",
            "_model_module_version": "1.5.0",
            "_model_name": "DescriptionStyleModel",
            "_view_count": null,
            "_view_module": "@jupyter-widgets/base",
            "_view_module_version": "1.2.0",
            "_view_name": "StyleView",
            "description_width": ""
          }
        },
        "5f25fa88c7c84cb58f92b9f5ef9eb6bf": {
          "model_module": "@jupyter-widgets/controls",
          "model_name": "HBoxModel",
          "model_module_version": "1.5.0",
          "state": {
            "_dom_classes": [],
            "_model_module": "@jupyter-widgets/controls",
            "_model_module_version": "1.5.0",
            "_model_name": "HBoxModel",
            "_view_count": null,
            "_view_module": "@jupyter-widgets/controls",
            "_view_module_version": "1.5.0",
            "_view_name": "HBoxView",
            "box_style": "",
            "children": [
              "IPY_MODEL_41dd96b49ead40a5b3cb8ecc9b47f3e9",
              "IPY_MODEL_81661c6db9f14f0a924c0a12102c9be7",
              "IPY_MODEL_6edb32f8ca124b13a2c5a9712de00f95"
            ],
            "layout": "IPY_MODEL_d2d42ce85b8a4b76bc52332c9a6dfa9a"
          }
        },
        "41dd96b49ead40a5b3cb8ecc9b47f3e9": {
          "model_module": "@jupyter-widgets/controls",
          "model_name": "HTMLModel",
          "model_module_version": "1.5.0",
          "state": {
            "_dom_classes": [],
            "_model_module": "@jupyter-widgets/controls",
            "_model_module_version": "1.5.0",
            "_model_name": "HTMLModel",
            "_view_count": null,
            "_view_module": "@jupyter-widgets/controls",
            "_view_module_version": "1.5.0",
            "_view_name": "HTMLView",
            "description": "",
            "description_tooltip": null,
            "layout": "IPY_MODEL_22bf609d760342bb84969aab86e5098b",
            "placeholder": "​",
            "style": "IPY_MODEL_7fa14de97409484087b9fe71dafce40e",
            "value": ""
          }
        },
        "81661c6db9f14f0a924c0a12102c9be7": {
          "model_module": "@jupyter-widgets/controls",
          "model_name": "FloatProgressModel",
          "model_module_version": "1.5.0",
          "state": {
            "_dom_classes": [],
            "_model_module": "@jupyter-widgets/controls",
            "_model_module_version": "1.5.0",
            "_model_name": "FloatProgressModel",
            "_view_count": null,
            "_view_module": "@jupyter-widgets/controls",
            "_view_module_version": "1.5.0",
            "_view_name": "ProgressView",
            "bar_style": "success",
            "description": "",
            "description_tooltip": null,
            "layout": "IPY_MODEL_15b1db2d5e6e4cb6966c2e1d7058819d",
            "max": 1,
            "min": 0,
            "orientation": "horizontal",
            "style": "IPY_MODEL_696c8f39c263453c840bc5e465b9e0aa",
            "value": 1
          }
        },
        "6edb32f8ca124b13a2c5a9712de00f95": {
          "model_module": "@jupyter-widgets/controls",
          "model_name": "HTMLModel",
          "model_module_version": "1.5.0",
          "state": {
            "_dom_classes": [],
            "_model_module": "@jupyter-widgets/controls",
            "_model_module_version": "1.5.0",
            "_model_name": "HTMLModel",
            "_view_count": null,
            "_view_module": "@jupyter-widgets/controls",
            "_view_module_version": "1.5.0",
            "_view_name": "HTMLView",
            "description": "",
            "description_tooltip": null,
            "layout": "IPY_MODEL_133252c724704b9e9b51b9898e925600",
            "placeholder": "​",
            "style": "IPY_MODEL_b30c4d65f7d24ccfb21ad2c990624f55",
            "value": " 855380/? [00:33&lt;00:00, 50649.79it/s]"
          }
        },
        "d2d42ce85b8a4b76bc52332c9a6dfa9a": {
          "model_module": "@jupyter-widgets/base",
          "model_name": "LayoutModel",
          "model_module_version": "1.2.0",
          "state": {
            "_model_module": "@jupyter-widgets/base",
            "_model_module_version": "1.2.0",
            "_model_name": "LayoutModel",
            "_view_count": null,
            "_view_module": "@jupyter-widgets/base",
            "_view_module_version": "1.2.0",
            "_view_name": "LayoutView",
            "align_content": null,
            "align_items": null,
            "align_self": null,
            "border": null,
            "bottom": null,
            "display": null,
            "flex": null,
            "flex_flow": null,
            "grid_area": null,
            "grid_auto_columns": null,
            "grid_auto_flow": null,
            "grid_auto_rows": null,
            "grid_column": null,
            "grid_gap": null,
            "grid_row": null,
            "grid_template_areas": null,
            "grid_template_columns": null,
            "grid_template_rows": null,
            "height": null,
            "justify_content": null,
            "justify_items": null,
            "left": null,
            "margin": null,
            "max_height": null,
            "max_width": null,
            "min_height": null,
            "min_width": null,
            "object_fit": null,
            "object_position": null,
            "order": null,
            "overflow": null,
            "overflow_x": null,
            "overflow_y": null,
            "padding": null,
            "right": null,
            "top": null,
            "visibility": null,
            "width": null
          }
        },
        "22bf609d760342bb84969aab86e5098b": {
          "model_module": "@jupyter-widgets/base",
          "model_name": "LayoutModel",
          "model_module_version": "1.2.0",
          "state": {
            "_model_module": "@jupyter-widgets/base",
            "_model_module_version": "1.2.0",
            "_model_name": "LayoutModel",
            "_view_count": null,
            "_view_module": "@jupyter-widgets/base",
            "_view_module_version": "1.2.0",
            "_view_name": "LayoutView",
            "align_content": null,
            "align_items": null,
            "align_self": null,
            "border": null,
            "bottom": null,
            "display": null,
            "flex": null,
            "flex_flow": null,
            "grid_area": null,
            "grid_auto_columns": null,
            "grid_auto_flow": null,
            "grid_auto_rows": null,
            "grid_column": null,
            "grid_gap": null,
            "grid_row": null,
            "grid_template_areas": null,
            "grid_template_columns": null,
            "grid_template_rows": null,
            "height": null,
            "justify_content": null,
            "justify_items": null,
            "left": null,
            "margin": null,
            "max_height": null,
            "max_width": null,
            "min_height": null,
            "min_width": null,
            "object_fit": null,
            "object_position": null,
            "order": null,
            "overflow": null,
            "overflow_x": null,
            "overflow_y": null,
            "padding": null,
            "right": null,
            "top": null,
            "visibility": null,
            "width": null
          }
        },
        "7fa14de97409484087b9fe71dafce40e": {
          "model_module": "@jupyter-widgets/controls",
          "model_name": "DescriptionStyleModel",
          "model_module_version": "1.5.0",
          "state": {
            "_model_module": "@jupyter-widgets/controls",
            "_model_module_version": "1.5.0",
            "_model_name": "DescriptionStyleModel",
            "_view_count": null,
            "_view_module": "@jupyter-widgets/base",
            "_view_module_version": "1.2.0",
            "_view_name": "StyleView",
            "description_width": ""
          }
        },
        "15b1db2d5e6e4cb6966c2e1d7058819d": {
          "model_module": "@jupyter-widgets/base",
          "model_name": "LayoutModel",
          "model_module_version": "1.2.0",
          "state": {
            "_model_module": "@jupyter-widgets/base",
            "_model_module_version": "1.2.0",
            "_model_name": "LayoutModel",
            "_view_count": null,
            "_view_module": "@jupyter-widgets/base",
            "_view_module_version": "1.2.0",
            "_view_name": "LayoutView",
            "align_content": null,
            "align_items": null,
            "align_self": null,
            "border": null,
            "bottom": null,
            "display": null,
            "flex": null,
            "flex_flow": null,
            "grid_area": null,
            "grid_auto_columns": null,
            "grid_auto_flow": null,
            "grid_auto_rows": null,
            "grid_column": null,
            "grid_gap": null,
            "grid_row": null,
            "grid_template_areas": null,
            "grid_template_columns": null,
            "grid_template_rows": null,
            "height": null,
            "justify_content": null,
            "justify_items": null,
            "left": null,
            "margin": null,
            "max_height": null,
            "max_width": null,
            "min_height": null,
            "min_width": null,
            "object_fit": null,
            "object_position": null,
            "order": null,
            "overflow": null,
            "overflow_x": null,
            "overflow_y": null,
            "padding": null,
            "right": null,
            "top": null,
            "visibility": null,
            "width": "20px"
          }
        },
        "696c8f39c263453c840bc5e465b9e0aa": {
          "model_module": "@jupyter-widgets/controls",
          "model_name": "ProgressStyleModel",
          "model_module_version": "1.5.0",
          "state": {
            "_model_module": "@jupyter-widgets/controls",
            "_model_module_version": "1.5.0",
            "_model_name": "ProgressStyleModel",
            "_view_count": null,
            "_view_module": "@jupyter-widgets/base",
            "_view_module_version": "1.2.0",
            "_view_name": "StyleView",
            "bar_color": null,
            "description_width": ""
          }
        },
        "133252c724704b9e9b51b9898e925600": {
          "model_module": "@jupyter-widgets/base",
          "model_name": "LayoutModel",
          "model_module_version": "1.2.0",
          "state": {
            "_model_module": "@jupyter-widgets/base",
            "_model_module_version": "1.2.0",
            "_model_name": "LayoutModel",
            "_view_count": null,
            "_view_module": "@jupyter-widgets/base",
            "_view_module_version": "1.2.0",
            "_view_name": "LayoutView",
            "align_content": null,
            "align_items": null,
            "align_self": null,
            "border": null,
            "bottom": null,
            "display": null,
            "flex": null,
            "flex_flow": null,
            "grid_area": null,
            "grid_auto_columns": null,
            "grid_auto_flow": null,
            "grid_auto_rows": null,
            "grid_column": null,
            "grid_gap": null,
            "grid_row": null,
            "grid_template_areas": null,
            "grid_template_columns": null,
            "grid_template_rows": null,
            "height": null,
            "justify_content": null,
            "justify_items": null,
            "left": null,
            "margin": null,
            "max_height": null,
            "max_width": null,
            "min_height": null,
            "min_width": null,
            "object_fit": null,
            "object_position": null,
            "order": null,
            "overflow": null,
            "overflow_x": null,
            "overflow_y": null,
            "padding": null,
            "right": null,
            "top": null,
            "visibility": null,
            "width": null
          }
        },
        "b30c4d65f7d24ccfb21ad2c990624f55": {
          "model_module": "@jupyter-widgets/controls",
          "model_name": "DescriptionStyleModel",
          "model_module_version": "1.5.0",
          "state": {
            "_model_module": "@jupyter-widgets/controls",
            "_model_module_version": "1.5.0",
            "_model_name": "DescriptionStyleModel",
            "_view_count": null,
            "_view_module": "@jupyter-widgets/base",
            "_view_module_version": "1.2.0",
            "_view_name": "StyleView",
            "description_width": ""
          }
        },
        "a5fa2d12e1c64522bb5d774a0408fec3": {
          "model_module": "@jupyter-widgets/controls",
          "model_name": "HBoxModel",
          "model_module_version": "1.5.0",
          "state": {
            "_dom_classes": [],
            "_model_module": "@jupyter-widgets/controls",
            "_model_module_version": "1.5.0",
            "_model_name": "HBoxModel",
            "_view_count": null,
            "_view_module": "@jupyter-widgets/controls",
            "_view_module_version": "1.5.0",
            "_view_name": "HBoxView",
            "box_style": "",
            "children": [
              "IPY_MODEL_b3920934456a4177a450b9cd6ddf2d7f",
              "IPY_MODEL_4d1ce5dd8dc049cc9dd3c4ce953366d8",
              "IPY_MODEL_7e1c29efc4944cb3923602165bac4d8d"
            ],
            "layout": "IPY_MODEL_1fb26dd9322743a5a5a157a06737c5a8"
          }
        },
        "b3920934456a4177a450b9cd6ddf2d7f": {
          "model_module": "@jupyter-widgets/controls",
          "model_name": "HTMLModel",
          "model_module_version": "1.5.0",
          "state": {
            "_dom_classes": [],
            "_model_module": "@jupyter-widgets/controls",
            "_model_module_version": "1.5.0",
            "_model_name": "HTMLModel",
            "_view_count": null,
            "_view_module": "@jupyter-widgets/controls",
            "_view_module_version": "1.5.0",
            "_view_name": "HTMLView",
            "description": "",
            "description_tooltip": null,
            "layout": "IPY_MODEL_31a550d4080b44f3b35faef3267fba0d",
            "placeholder": "​",
            "style": "IPY_MODEL_1298edeedcd342ed93e4473fe8ec0d6c",
            "value": "100%"
          }
        },
        "4d1ce5dd8dc049cc9dd3c4ce953366d8": {
          "model_module": "@jupyter-widgets/controls",
          "model_name": "FloatProgressModel",
          "model_module_version": "1.5.0",
          "state": {
            "_dom_classes": [],
            "_model_module": "@jupyter-widgets/controls",
            "_model_module_version": "1.5.0",
            "_model_name": "FloatProgressModel",
            "_view_count": null,
            "_view_module": "@jupyter-widgets/controls",
            "_view_module_version": "1.5.0",
            "_view_name": "ProgressView",
            "bar_style": "success",
            "description": "",
            "description_tooltip": null,
            "layout": "IPY_MODEL_afc3ce303a414a189b1e9aa7cb5f30df",
            "max": 3,
            "min": 0,
            "orientation": "horizontal",
            "style": "IPY_MODEL_9cd267251e72423db3b3246c763eb895",
            "value": 3
          }
        },
        "7e1c29efc4944cb3923602165bac4d8d": {
          "model_module": "@jupyter-widgets/controls",
          "model_name": "HTMLModel",
          "model_module_version": "1.5.0",
          "state": {
            "_dom_classes": [],
            "_model_module": "@jupyter-widgets/controls",
            "_model_module_version": "1.5.0",
            "_model_name": "HTMLModel",
            "_view_count": null,
            "_view_module": "@jupyter-widgets/controls",
            "_view_module_version": "1.5.0",
            "_view_name": "HTMLView",
            "description": "",
            "description_tooltip": null,
            "layout": "IPY_MODEL_7a2987c9ed704339962f1b08cf3b1b42",
            "placeholder": "​",
            "style": "IPY_MODEL_430423cc4d8f4751aff77c1e4c6c0baf",
            "value": " 3/3 [00:00&lt;00:00,  4.78it/s]"
          }
        },
        "1fb26dd9322743a5a5a157a06737c5a8": {
          "model_module": "@jupyter-widgets/base",
          "model_name": "LayoutModel",
          "model_module_version": "1.2.0",
          "state": {
            "_model_module": "@jupyter-widgets/base",
            "_model_module_version": "1.2.0",
            "_model_name": "LayoutModel",
            "_view_count": null,
            "_view_module": "@jupyter-widgets/base",
            "_view_module_version": "1.2.0",
            "_view_name": "LayoutView",
            "align_content": null,
            "align_items": null,
            "align_self": null,
            "border": null,
            "bottom": null,
            "display": null,
            "flex": null,
            "flex_flow": null,
            "grid_area": null,
            "grid_auto_columns": null,
            "grid_auto_flow": null,
            "grid_auto_rows": null,
            "grid_column": null,
            "grid_gap": null,
            "grid_row": null,
            "grid_template_areas": null,
            "grid_template_columns": null,
            "grid_template_rows": null,
            "height": null,
            "justify_content": null,
            "justify_items": null,
            "left": null,
            "margin": null,
            "max_height": null,
            "max_width": null,
            "min_height": null,
            "min_width": null,
            "object_fit": null,
            "object_position": null,
            "order": null,
            "overflow": null,
            "overflow_x": null,
            "overflow_y": null,
            "padding": null,
            "right": null,
            "top": null,
            "visibility": null,
            "width": null
          }
        },
        "31a550d4080b44f3b35faef3267fba0d": {
          "model_module": "@jupyter-widgets/base",
          "model_name": "LayoutModel",
          "model_module_version": "1.2.0",
          "state": {
            "_model_module": "@jupyter-widgets/base",
            "_model_module_version": "1.2.0",
            "_model_name": "LayoutModel",
            "_view_count": null,
            "_view_module": "@jupyter-widgets/base",
            "_view_module_version": "1.2.0",
            "_view_name": "LayoutView",
            "align_content": null,
            "align_items": null,
            "align_self": null,
            "border": null,
            "bottom": null,
            "display": null,
            "flex": null,
            "flex_flow": null,
            "grid_area": null,
            "grid_auto_columns": null,
            "grid_auto_flow": null,
            "grid_auto_rows": null,
            "grid_column": null,
            "grid_gap": null,
            "grid_row": null,
            "grid_template_areas": null,
            "grid_template_columns": null,
            "grid_template_rows": null,
            "height": null,
            "justify_content": null,
            "justify_items": null,
            "left": null,
            "margin": null,
            "max_height": null,
            "max_width": null,
            "min_height": null,
            "min_width": null,
            "object_fit": null,
            "object_position": null,
            "order": null,
            "overflow": null,
            "overflow_x": null,
            "overflow_y": null,
            "padding": null,
            "right": null,
            "top": null,
            "visibility": null,
            "width": null
          }
        },
        "1298edeedcd342ed93e4473fe8ec0d6c": {
          "model_module": "@jupyter-widgets/controls",
          "model_name": "DescriptionStyleModel",
          "model_module_version": "1.5.0",
          "state": {
            "_model_module": "@jupyter-widgets/controls",
            "_model_module_version": "1.5.0",
            "_model_name": "DescriptionStyleModel",
            "_view_count": null,
            "_view_module": "@jupyter-widgets/base",
            "_view_module_version": "1.2.0",
            "_view_name": "StyleView",
            "description_width": ""
          }
        },
        "afc3ce303a414a189b1e9aa7cb5f30df": {
          "model_module": "@jupyter-widgets/base",
          "model_name": "LayoutModel",
          "model_module_version": "1.2.0",
          "state": {
            "_model_module": "@jupyter-widgets/base",
            "_model_module_version": "1.2.0",
            "_model_name": "LayoutModel",
            "_view_count": null,
            "_view_module": "@jupyter-widgets/base",
            "_view_module_version": "1.2.0",
            "_view_name": "LayoutView",
            "align_content": null,
            "align_items": null,
            "align_self": null,
            "border": null,
            "bottom": null,
            "display": null,
            "flex": null,
            "flex_flow": null,
            "grid_area": null,
            "grid_auto_columns": null,
            "grid_auto_flow": null,
            "grid_auto_rows": null,
            "grid_column": null,
            "grid_gap": null,
            "grid_row": null,
            "grid_template_areas": null,
            "grid_template_columns": null,
            "grid_template_rows": null,
            "height": null,
            "justify_content": null,
            "justify_items": null,
            "left": null,
            "margin": null,
            "max_height": null,
            "max_width": null,
            "min_height": null,
            "min_width": null,
            "object_fit": null,
            "object_position": null,
            "order": null,
            "overflow": null,
            "overflow_x": null,
            "overflow_y": null,
            "padding": null,
            "right": null,
            "top": null,
            "visibility": null,
            "width": null
          }
        },
        "9cd267251e72423db3b3246c763eb895": {
          "model_module": "@jupyter-widgets/controls",
          "model_name": "ProgressStyleModel",
          "model_module_version": "1.5.0",
          "state": {
            "_model_module": "@jupyter-widgets/controls",
            "_model_module_version": "1.5.0",
            "_model_name": "ProgressStyleModel",
            "_view_count": null,
            "_view_module": "@jupyter-widgets/base",
            "_view_module_version": "1.2.0",
            "_view_name": "StyleView",
            "bar_color": null,
            "description_width": ""
          }
        },
        "7a2987c9ed704339962f1b08cf3b1b42": {
          "model_module": "@jupyter-widgets/base",
          "model_name": "LayoutModel",
          "model_module_version": "1.2.0",
          "state": {
            "_model_module": "@jupyter-widgets/base",
            "_model_module_version": "1.2.0",
            "_model_name": "LayoutModel",
            "_view_count": null,
            "_view_module": "@jupyter-widgets/base",
            "_view_module_version": "1.2.0",
            "_view_name": "LayoutView",
            "align_content": null,
            "align_items": null,
            "align_self": null,
            "border": null,
            "bottom": null,
            "display": null,
            "flex": null,
            "flex_flow": null,
            "grid_area": null,
            "grid_auto_columns": null,
            "grid_auto_flow": null,
            "grid_auto_rows": null,
            "grid_column": null,
            "grid_gap": null,
            "grid_row": null,
            "grid_template_areas": null,
            "grid_template_columns": null,
            "grid_template_rows": null,
            "height": null,
            "justify_content": null,
            "justify_items": null,
            "left": null,
            "margin": null,
            "max_height": null,
            "max_width": null,
            "min_height": null,
            "min_width": null,
            "object_fit": null,
            "object_position": null,
            "order": null,
            "overflow": null,
            "overflow_x": null,
            "overflow_y": null,
            "padding": null,
            "right": null,
            "top": null,
            "visibility": null,
            "width": null
          }
        },
        "430423cc4d8f4751aff77c1e4c6c0baf": {
          "model_module": "@jupyter-widgets/controls",
          "model_name": "DescriptionStyleModel",
          "model_module_version": "1.5.0",
          "state": {
            "_model_module": "@jupyter-widgets/controls",
            "_model_module_version": "1.5.0",
            "_model_name": "DescriptionStyleModel",
            "_view_count": null,
            "_view_module": "@jupyter-widgets/base",
            "_view_module_version": "1.2.0",
            "_view_name": "StyleView",
            "description_width": ""
          }
        },
        "4218eef9be5a48b09c11e77c7978c647": {
          "model_module": "@jupyter-widgets/controls",
          "model_name": "HBoxModel",
          "model_module_version": "1.5.0",
          "state": {
            "_dom_classes": [],
            "_model_module": "@jupyter-widgets/controls",
            "_model_module_version": "1.5.0",
            "_model_name": "HBoxModel",
            "_view_count": null,
            "_view_module": "@jupyter-widgets/controls",
            "_view_module_version": "1.5.0",
            "_view_name": "HBoxView",
            "box_style": "",
            "children": [
              "IPY_MODEL_602791efdf7b43bb95a0f90c8045d6e3",
              "IPY_MODEL_5adca3c8fd944f45b6f27bbb0d2573ec",
              "IPY_MODEL_352209604d564fd4be6b1d29994e0066"
            ],
            "layout": "IPY_MODEL_45563a77b29b4d7db2e6e868b0538bf1"
          }
        },
        "602791efdf7b43bb95a0f90c8045d6e3": {
          "model_module": "@jupyter-widgets/controls",
          "model_name": "HTMLModel",
          "model_module_version": "1.5.0",
          "state": {
            "_dom_classes": [],
            "_model_module": "@jupyter-widgets/controls",
            "_model_module_version": "1.5.0",
            "_model_name": "HTMLModel",
            "_view_count": null,
            "_view_module": "@jupyter-widgets/controls",
            "_view_module_version": "1.5.0",
            "_view_name": "HTMLView",
            "description": "",
            "description_tooltip": null,
            "layout": "IPY_MODEL_82679dff27364decbe9b660aa766cd96",
            "placeholder": "​",
            "style": "IPY_MODEL_55e8b8a0dade495294417f10a71b5c0e",
            "value": ""
          }
        },
        "5adca3c8fd944f45b6f27bbb0d2573ec": {
          "model_module": "@jupyter-widgets/controls",
          "model_name": "FloatProgressModel",
          "model_module_version": "1.5.0",
          "state": {
            "_dom_classes": [],
            "_model_module": "@jupyter-widgets/controls",
            "_model_module_version": "1.5.0",
            "_model_name": "FloatProgressModel",
            "_view_count": null,
            "_view_module": "@jupyter-widgets/controls",
            "_view_module_version": "1.5.0",
            "_view_name": "ProgressView",
            "bar_style": "success",
            "description": "",
            "description_tooltip": null,
            "layout": "IPY_MODEL_60cd73c796484a4194eb76357bd4d460",
            "max": 1,
            "min": 0,
            "orientation": "horizontal",
            "style": "IPY_MODEL_499e6abd71d14428965f437ef46edbb0",
            "value": 1
          }
        },
        "352209604d564fd4be6b1d29994e0066": {
          "model_module": "@jupyter-widgets/controls",
          "model_name": "HTMLModel",
          "model_module_version": "1.5.0",
          "state": {
            "_dom_classes": [],
            "_model_module": "@jupyter-widgets/controls",
            "_model_module_version": "1.5.0",
            "_model_name": "HTMLModel",
            "_view_count": null,
            "_view_module": "@jupyter-widgets/controls",
            "_view_module_version": "1.5.0",
            "_view_name": "HTMLView",
            "description": "",
            "description_tooltip": null,
            "layout": "IPY_MODEL_fbd1b70df3614857afcde39b54291098",
            "placeholder": "​",
            "style": "IPY_MODEL_5fd0342db2494357bd73f4a9d0ea0c80",
            "value": " 1313423/? [00:52&lt;00:00, 40078.07it/s]"
          }
        },
        "45563a77b29b4d7db2e6e868b0538bf1": {
          "model_module": "@jupyter-widgets/base",
          "model_name": "LayoutModel",
          "model_module_version": "1.2.0",
          "state": {
            "_model_module": "@jupyter-widgets/base",
            "_model_module_version": "1.2.0",
            "_model_name": "LayoutModel",
            "_view_count": null,
            "_view_module": "@jupyter-widgets/base",
            "_view_module_version": "1.2.0",
            "_view_name": "LayoutView",
            "align_content": null,
            "align_items": null,
            "align_self": null,
            "border": null,
            "bottom": null,
            "display": null,
            "flex": null,
            "flex_flow": null,
            "grid_area": null,
            "grid_auto_columns": null,
            "grid_auto_flow": null,
            "grid_auto_rows": null,
            "grid_column": null,
            "grid_gap": null,
            "grid_row": null,
            "grid_template_areas": null,
            "grid_template_columns": null,
            "grid_template_rows": null,
            "height": null,
            "justify_content": null,
            "justify_items": null,
            "left": null,
            "margin": null,
            "max_height": null,
            "max_width": null,
            "min_height": null,
            "min_width": null,
            "object_fit": null,
            "object_position": null,
            "order": null,
            "overflow": null,
            "overflow_x": null,
            "overflow_y": null,
            "padding": null,
            "right": null,
            "top": null,
            "visibility": null,
            "width": null
          }
        },
        "82679dff27364decbe9b660aa766cd96": {
          "model_module": "@jupyter-widgets/base",
          "model_name": "LayoutModel",
          "model_module_version": "1.2.0",
          "state": {
            "_model_module": "@jupyter-widgets/base",
            "_model_module_version": "1.2.0",
            "_model_name": "LayoutModel",
            "_view_count": null,
            "_view_module": "@jupyter-widgets/base",
            "_view_module_version": "1.2.0",
            "_view_name": "LayoutView",
            "align_content": null,
            "align_items": null,
            "align_self": null,
            "border": null,
            "bottom": null,
            "display": null,
            "flex": null,
            "flex_flow": null,
            "grid_area": null,
            "grid_auto_columns": null,
            "grid_auto_flow": null,
            "grid_auto_rows": null,
            "grid_column": null,
            "grid_gap": null,
            "grid_row": null,
            "grid_template_areas": null,
            "grid_template_columns": null,
            "grid_template_rows": null,
            "height": null,
            "justify_content": null,
            "justify_items": null,
            "left": null,
            "margin": null,
            "max_height": null,
            "max_width": null,
            "min_height": null,
            "min_width": null,
            "object_fit": null,
            "object_position": null,
            "order": null,
            "overflow": null,
            "overflow_x": null,
            "overflow_y": null,
            "padding": null,
            "right": null,
            "top": null,
            "visibility": null,
            "width": null
          }
        },
        "55e8b8a0dade495294417f10a71b5c0e": {
          "model_module": "@jupyter-widgets/controls",
          "model_name": "DescriptionStyleModel",
          "model_module_version": "1.5.0",
          "state": {
            "_model_module": "@jupyter-widgets/controls",
            "_model_module_version": "1.5.0",
            "_model_name": "DescriptionStyleModel",
            "_view_count": null,
            "_view_module": "@jupyter-widgets/base",
            "_view_module_version": "1.2.0",
            "_view_name": "StyleView",
            "description_width": ""
          }
        },
        "60cd73c796484a4194eb76357bd4d460": {
          "model_module": "@jupyter-widgets/base",
          "model_name": "LayoutModel",
          "model_module_version": "1.2.0",
          "state": {
            "_model_module": "@jupyter-widgets/base",
            "_model_module_version": "1.2.0",
            "_model_name": "LayoutModel",
            "_view_count": null,
            "_view_module": "@jupyter-widgets/base",
            "_view_module_version": "1.2.0",
            "_view_name": "LayoutView",
            "align_content": null,
            "align_items": null,
            "align_self": null,
            "border": null,
            "bottom": null,
            "display": null,
            "flex": null,
            "flex_flow": null,
            "grid_area": null,
            "grid_auto_columns": null,
            "grid_auto_flow": null,
            "grid_auto_rows": null,
            "grid_column": null,
            "grid_gap": null,
            "grid_row": null,
            "grid_template_areas": null,
            "grid_template_columns": null,
            "grid_template_rows": null,
            "height": null,
            "justify_content": null,
            "justify_items": null,
            "left": null,
            "margin": null,
            "max_height": null,
            "max_width": null,
            "min_height": null,
            "min_width": null,
            "object_fit": null,
            "object_position": null,
            "order": null,
            "overflow": null,
            "overflow_x": null,
            "overflow_y": null,
            "padding": null,
            "right": null,
            "top": null,
            "visibility": null,
            "width": "20px"
          }
        },
        "499e6abd71d14428965f437ef46edbb0": {
          "model_module": "@jupyter-widgets/controls",
          "model_name": "ProgressStyleModel",
          "model_module_version": "1.5.0",
          "state": {
            "_model_module": "@jupyter-widgets/controls",
            "_model_module_version": "1.5.0",
            "_model_name": "ProgressStyleModel",
            "_view_count": null,
            "_view_module": "@jupyter-widgets/base",
            "_view_module_version": "1.2.0",
            "_view_name": "StyleView",
            "bar_color": null,
            "description_width": ""
          }
        },
        "fbd1b70df3614857afcde39b54291098": {
          "model_module": "@jupyter-widgets/base",
          "model_name": "LayoutModel",
          "model_module_version": "1.2.0",
          "state": {
            "_model_module": "@jupyter-widgets/base",
            "_model_module_version": "1.2.0",
            "_model_name": "LayoutModel",
            "_view_count": null,
            "_view_module": "@jupyter-widgets/base",
            "_view_module_version": "1.2.0",
            "_view_name": "LayoutView",
            "align_content": null,
            "align_items": null,
            "align_self": null,
            "border": null,
            "bottom": null,
            "display": null,
            "flex": null,
            "flex_flow": null,
            "grid_area": null,
            "grid_auto_columns": null,
            "grid_auto_flow": null,
            "grid_auto_rows": null,
            "grid_column": null,
            "grid_gap": null,
            "grid_row": null,
            "grid_template_areas": null,
            "grid_template_columns": null,
            "grid_template_rows": null,
            "height": null,
            "justify_content": null,
            "justify_items": null,
            "left": null,
            "margin": null,
            "max_height": null,
            "max_width": null,
            "min_height": null,
            "min_width": null,
            "object_fit": null,
            "object_position": null,
            "order": null,
            "overflow": null,
            "overflow_x": null,
            "overflow_y": null,
            "padding": null,
            "right": null,
            "top": null,
            "visibility": null,
            "width": null
          }
        },
        "5fd0342db2494357bd73f4a9d0ea0c80": {
          "model_module": "@jupyter-widgets/controls",
          "model_name": "DescriptionStyleModel",
          "model_module_version": "1.5.0",
          "state": {
            "_model_module": "@jupyter-widgets/controls",
            "_model_module_version": "1.5.0",
            "_model_name": "DescriptionStyleModel",
            "_view_count": null,
            "_view_module": "@jupyter-widgets/base",
            "_view_module_version": "1.2.0",
            "_view_name": "StyleView",
            "description_width": ""
          }
        },
        "0d84c4e16c534f0fa2694fc5f87a3c93": {
          "model_module": "@jupyter-widgets/controls",
          "model_name": "HBoxModel",
          "model_module_version": "1.5.0",
          "state": {
            "_dom_classes": [],
            "_model_module": "@jupyter-widgets/controls",
            "_model_module_version": "1.5.0",
            "_model_name": "HBoxModel",
            "_view_count": null,
            "_view_module": "@jupyter-widgets/controls",
            "_view_module_version": "1.5.0",
            "_view_name": "HBoxView",
            "box_style": "",
            "children": [
              "IPY_MODEL_c45dca5ed46b441d923d140c3c3add4c",
              "IPY_MODEL_9de60f6b91fe4dc58a1d507abbe6b48b",
              "IPY_MODEL_a90c1362aa8543a88a74ea20f350a6de"
            ],
            "layout": "IPY_MODEL_70673b599f30471bad9691e9b2375438"
          }
        },
        "c45dca5ed46b441d923d140c3c3add4c": {
          "model_module": "@jupyter-widgets/controls",
          "model_name": "HTMLModel",
          "model_module_version": "1.5.0",
          "state": {
            "_dom_classes": [],
            "_model_module": "@jupyter-widgets/controls",
            "_model_module_version": "1.5.0",
            "_model_name": "HTMLModel",
            "_view_count": null,
            "_view_module": "@jupyter-widgets/controls",
            "_view_module_version": "1.5.0",
            "_view_name": "HTMLView",
            "description": "",
            "description_tooltip": null,
            "layout": "IPY_MODEL_f41effda1dff4601a5efe4dcbd6d5d5b",
            "placeholder": "​",
            "style": "IPY_MODEL_12e55edec0914f20983bdd55f092dd5e",
            "value": ""
          }
        },
        "9de60f6b91fe4dc58a1d507abbe6b48b": {
          "model_module": "@jupyter-widgets/controls",
          "model_name": "FloatProgressModel",
          "model_module_version": "1.5.0",
          "state": {
            "_dom_classes": [],
            "_model_module": "@jupyter-widgets/controls",
            "_model_module_version": "1.5.0",
            "_model_name": "FloatProgressModel",
            "_view_count": null,
            "_view_module": "@jupyter-widgets/controls",
            "_view_module_version": "1.5.0",
            "_view_name": "ProgressView",
            "bar_style": "success",
            "description": "",
            "description_tooltip": null,
            "layout": "IPY_MODEL_c071180bf3524077beb1704d61280d0a",
            "max": 1,
            "min": 0,
            "orientation": "horizontal",
            "style": "IPY_MODEL_eaafee924e754d408c28a76330101c3b",
            "value": 1
          }
        },
        "a90c1362aa8543a88a74ea20f350a6de": {
          "model_module": "@jupyter-widgets/controls",
          "model_name": "HTMLModel",
          "model_module_version": "1.5.0",
          "state": {
            "_dom_classes": [],
            "_model_module": "@jupyter-widgets/controls",
            "_model_module_version": "1.5.0",
            "_model_name": "HTMLModel",
            "_view_count": null,
            "_view_module": "@jupyter-widgets/controls",
            "_view_module_version": "1.5.0",
            "_view_name": "HTMLView",
            "description": "",
            "description_tooltip": null,
            "layout": "IPY_MODEL_0b7499b37ae44a04a051a2cfa1d2a02f",
            "placeholder": "​",
            "style": "IPY_MODEL_8a554a6cf1ec49bcb12fc86d1008b5f6",
            "value": " 1000653/? [00:41&lt;00:00, 41646.01it/s]"
          }
        },
        "70673b599f30471bad9691e9b2375438": {
          "model_module": "@jupyter-widgets/base",
          "model_name": "LayoutModel",
          "model_module_version": "1.2.0",
          "state": {
            "_model_module": "@jupyter-widgets/base",
            "_model_module_version": "1.2.0",
            "_model_name": "LayoutModel",
            "_view_count": null,
            "_view_module": "@jupyter-widgets/base",
            "_view_module_version": "1.2.0",
            "_view_name": "LayoutView",
            "align_content": null,
            "align_items": null,
            "align_self": null,
            "border": null,
            "bottom": null,
            "display": null,
            "flex": null,
            "flex_flow": null,
            "grid_area": null,
            "grid_auto_columns": null,
            "grid_auto_flow": null,
            "grid_auto_rows": null,
            "grid_column": null,
            "grid_gap": null,
            "grid_row": null,
            "grid_template_areas": null,
            "grid_template_columns": null,
            "grid_template_rows": null,
            "height": null,
            "justify_content": null,
            "justify_items": null,
            "left": null,
            "margin": null,
            "max_height": null,
            "max_width": null,
            "min_height": null,
            "min_width": null,
            "object_fit": null,
            "object_position": null,
            "order": null,
            "overflow": null,
            "overflow_x": null,
            "overflow_y": null,
            "padding": null,
            "right": null,
            "top": null,
            "visibility": null,
            "width": null
          }
        },
        "f41effda1dff4601a5efe4dcbd6d5d5b": {
          "model_module": "@jupyter-widgets/base",
          "model_name": "LayoutModel",
          "model_module_version": "1.2.0",
          "state": {
            "_model_module": "@jupyter-widgets/base",
            "_model_module_version": "1.2.0",
            "_model_name": "LayoutModel",
            "_view_count": null,
            "_view_module": "@jupyter-widgets/base",
            "_view_module_version": "1.2.0",
            "_view_name": "LayoutView",
            "align_content": null,
            "align_items": null,
            "align_self": null,
            "border": null,
            "bottom": null,
            "display": null,
            "flex": null,
            "flex_flow": null,
            "grid_area": null,
            "grid_auto_columns": null,
            "grid_auto_flow": null,
            "grid_auto_rows": null,
            "grid_column": null,
            "grid_gap": null,
            "grid_row": null,
            "grid_template_areas": null,
            "grid_template_columns": null,
            "grid_template_rows": null,
            "height": null,
            "justify_content": null,
            "justify_items": null,
            "left": null,
            "margin": null,
            "max_height": null,
            "max_width": null,
            "min_height": null,
            "min_width": null,
            "object_fit": null,
            "object_position": null,
            "order": null,
            "overflow": null,
            "overflow_x": null,
            "overflow_y": null,
            "padding": null,
            "right": null,
            "top": null,
            "visibility": null,
            "width": null
          }
        },
        "12e55edec0914f20983bdd55f092dd5e": {
          "model_module": "@jupyter-widgets/controls",
          "model_name": "DescriptionStyleModel",
          "model_module_version": "1.5.0",
          "state": {
            "_model_module": "@jupyter-widgets/controls",
            "_model_module_version": "1.5.0",
            "_model_name": "DescriptionStyleModel",
            "_view_count": null,
            "_view_module": "@jupyter-widgets/base",
            "_view_module_version": "1.2.0",
            "_view_name": "StyleView",
            "description_width": ""
          }
        },
        "c071180bf3524077beb1704d61280d0a": {
          "model_module": "@jupyter-widgets/base",
          "model_name": "LayoutModel",
          "model_module_version": "1.2.0",
          "state": {
            "_model_module": "@jupyter-widgets/base",
            "_model_module_version": "1.2.0",
            "_model_name": "LayoutModel",
            "_view_count": null,
            "_view_module": "@jupyter-widgets/base",
            "_view_module_version": "1.2.0",
            "_view_name": "LayoutView",
            "align_content": null,
            "align_items": null,
            "align_self": null,
            "border": null,
            "bottom": null,
            "display": null,
            "flex": null,
            "flex_flow": null,
            "grid_area": null,
            "grid_auto_columns": null,
            "grid_auto_flow": null,
            "grid_auto_rows": null,
            "grid_column": null,
            "grid_gap": null,
            "grid_row": null,
            "grid_template_areas": null,
            "grid_template_columns": null,
            "grid_template_rows": null,
            "height": null,
            "justify_content": null,
            "justify_items": null,
            "left": null,
            "margin": null,
            "max_height": null,
            "max_width": null,
            "min_height": null,
            "min_width": null,
            "object_fit": null,
            "object_position": null,
            "order": null,
            "overflow": null,
            "overflow_x": null,
            "overflow_y": null,
            "padding": null,
            "right": null,
            "top": null,
            "visibility": null,
            "width": "20px"
          }
        },
        "eaafee924e754d408c28a76330101c3b": {
          "model_module": "@jupyter-widgets/controls",
          "model_name": "ProgressStyleModel",
          "model_module_version": "1.5.0",
          "state": {
            "_model_module": "@jupyter-widgets/controls",
            "_model_module_version": "1.5.0",
            "_model_name": "ProgressStyleModel",
            "_view_count": null,
            "_view_module": "@jupyter-widgets/base",
            "_view_module_version": "1.2.0",
            "_view_name": "StyleView",
            "bar_color": null,
            "description_width": ""
          }
        },
        "0b7499b37ae44a04a051a2cfa1d2a02f": {
          "model_module": "@jupyter-widgets/base",
          "model_name": "LayoutModel",
          "model_module_version": "1.2.0",
          "state": {
            "_model_module": "@jupyter-widgets/base",
            "_model_module_version": "1.2.0",
            "_model_name": "LayoutModel",
            "_view_count": null,
            "_view_module": "@jupyter-widgets/base",
            "_view_module_version": "1.2.0",
            "_view_name": "LayoutView",
            "align_content": null,
            "align_items": null,
            "align_self": null,
            "border": null,
            "bottom": null,
            "display": null,
            "flex": null,
            "flex_flow": null,
            "grid_area": null,
            "grid_auto_columns": null,
            "grid_auto_flow": null,
            "grid_auto_rows": null,
            "grid_column": null,
            "grid_gap": null,
            "grid_row": null,
            "grid_template_areas": null,
            "grid_template_columns": null,
            "grid_template_rows": null,
            "height": null,
            "justify_content": null,
            "justify_items": null,
            "left": null,
            "margin": null,
            "max_height": null,
            "max_width": null,
            "min_height": null,
            "min_width": null,
            "object_fit": null,
            "object_position": null,
            "order": null,
            "overflow": null,
            "overflow_x": null,
            "overflow_y": null,
            "padding": null,
            "right": null,
            "top": null,
            "visibility": null,
            "width": null
          }
        },
        "8a554a6cf1ec49bcb12fc86d1008b5f6": {
          "model_module": "@jupyter-widgets/controls",
          "model_name": "DescriptionStyleModel",
          "model_module_version": "1.5.0",
          "state": {
            "_model_module": "@jupyter-widgets/controls",
            "_model_module_version": "1.5.0",
            "_model_name": "DescriptionStyleModel",
            "_view_count": null,
            "_view_module": "@jupyter-widgets/base",
            "_view_module_version": "1.2.0",
            "_view_name": "StyleView",
            "description_width": ""
          }
        },
        "990003993eb94c82b0b53dad8ee02fbd": {
          "model_module": "@jupyter-widgets/controls",
          "model_name": "HBoxModel",
          "model_module_version": "1.5.0",
          "state": {
            "_dom_classes": [],
            "_model_module": "@jupyter-widgets/controls",
            "_model_module_version": "1.5.0",
            "_model_name": "HBoxModel",
            "_view_count": null,
            "_view_module": "@jupyter-widgets/controls",
            "_view_module_version": "1.5.0",
            "_view_name": "HBoxView",
            "box_style": "",
            "children": [
              "IPY_MODEL_fe174881eea44cb58dda17f5774695b3",
              "IPY_MODEL_d2aaae9b31d64299ae97cbc856af1526",
              "IPY_MODEL_939426c993e14ec7a4f0c2592e7b1e41"
            ],
            "layout": "IPY_MODEL_3dcce140e69f47c2ab6ef144bd7cf552"
          }
        },
        "fe174881eea44cb58dda17f5774695b3": {
          "model_module": "@jupyter-widgets/controls",
          "model_name": "HTMLModel",
          "model_module_version": "1.5.0",
          "state": {
            "_dom_classes": [],
            "_model_module": "@jupyter-widgets/controls",
            "_model_module_version": "1.5.0",
            "_model_name": "HTMLModel",
            "_view_count": null,
            "_view_module": "@jupyter-widgets/controls",
            "_view_module_version": "1.5.0",
            "_view_name": "HTMLView",
            "description": "",
            "description_tooltip": null,
            "layout": "IPY_MODEL_73c7484e017c42c4a5e48932795d01e4",
            "placeholder": "​",
            "style": "IPY_MODEL_fdd539a3796a48a8909615f05089dfe1",
            "value": ""
          }
        },
        "d2aaae9b31d64299ae97cbc856af1526": {
          "model_module": "@jupyter-widgets/controls",
          "model_name": "FloatProgressModel",
          "model_module_version": "1.5.0",
          "state": {
            "_dom_classes": [],
            "_model_module": "@jupyter-widgets/controls",
            "_model_module_version": "1.5.0",
            "_model_name": "FloatProgressModel",
            "_view_count": null,
            "_view_module": "@jupyter-widgets/controls",
            "_view_module_version": "1.5.0",
            "_view_name": "ProgressView",
            "bar_style": "success",
            "description": "",
            "description_tooltip": null,
            "layout": "IPY_MODEL_cd2895150d944b7cbcc2d3e27f872a51",
            "max": 1,
            "min": 0,
            "orientation": "horizontal",
            "style": "IPY_MODEL_8ffcc1f8c57c4f7c89e23b7c74984da6",
            "value": 1
          }
        },
        "939426c993e14ec7a4f0c2592e7b1e41": {
          "model_module": "@jupyter-widgets/controls",
          "model_name": "HTMLModel",
          "model_module_version": "1.5.0",
          "state": {
            "_dom_classes": [],
            "_model_module": "@jupyter-widgets/controls",
            "_model_module_version": "1.5.0",
            "_model_name": "HTMLModel",
            "_view_count": null,
            "_view_module": "@jupyter-widgets/controls",
            "_view_module_version": "1.5.0",
            "_view_name": "HTMLView",
            "description": "",
            "description_tooltip": null,
            "layout": "IPY_MODEL_0ebd9344f4744ed8b75191a30df7371a",
            "placeholder": "​",
            "style": "IPY_MODEL_895753c5bc9d4b42b1516c011639c6b8",
            "value": " 855380/? [00:33&lt;00:00, 42004.66it/s]"
          }
        },
        "3dcce140e69f47c2ab6ef144bd7cf552": {
          "model_module": "@jupyter-widgets/base",
          "model_name": "LayoutModel",
          "model_module_version": "1.2.0",
          "state": {
            "_model_module": "@jupyter-widgets/base",
            "_model_module_version": "1.2.0",
            "_model_name": "LayoutModel",
            "_view_count": null,
            "_view_module": "@jupyter-widgets/base",
            "_view_module_version": "1.2.0",
            "_view_name": "LayoutView",
            "align_content": null,
            "align_items": null,
            "align_self": null,
            "border": null,
            "bottom": null,
            "display": null,
            "flex": null,
            "flex_flow": null,
            "grid_area": null,
            "grid_auto_columns": null,
            "grid_auto_flow": null,
            "grid_auto_rows": null,
            "grid_column": null,
            "grid_gap": null,
            "grid_row": null,
            "grid_template_areas": null,
            "grid_template_columns": null,
            "grid_template_rows": null,
            "height": null,
            "justify_content": null,
            "justify_items": null,
            "left": null,
            "margin": null,
            "max_height": null,
            "max_width": null,
            "min_height": null,
            "min_width": null,
            "object_fit": null,
            "object_position": null,
            "order": null,
            "overflow": null,
            "overflow_x": null,
            "overflow_y": null,
            "padding": null,
            "right": null,
            "top": null,
            "visibility": null,
            "width": null
          }
        },
        "73c7484e017c42c4a5e48932795d01e4": {
          "model_module": "@jupyter-widgets/base",
          "model_name": "LayoutModel",
          "model_module_version": "1.2.0",
          "state": {
            "_model_module": "@jupyter-widgets/base",
            "_model_module_version": "1.2.0",
            "_model_name": "LayoutModel",
            "_view_count": null,
            "_view_module": "@jupyter-widgets/base",
            "_view_module_version": "1.2.0",
            "_view_name": "LayoutView",
            "align_content": null,
            "align_items": null,
            "align_self": null,
            "border": null,
            "bottom": null,
            "display": null,
            "flex": null,
            "flex_flow": null,
            "grid_area": null,
            "grid_auto_columns": null,
            "grid_auto_flow": null,
            "grid_auto_rows": null,
            "grid_column": null,
            "grid_gap": null,
            "grid_row": null,
            "grid_template_areas": null,
            "grid_template_columns": null,
            "grid_template_rows": null,
            "height": null,
            "justify_content": null,
            "justify_items": null,
            "left": null,
            "margin": null,
            "max_height": null,
            "max_width": null,
            "min_height": null,
            "min_width": null,
            "object_fit": null,
            "object_position": null,
            "order": null,
            "overflow": null,
            "overflow_x": null,
            "overflow_y": null,
            "padding": null,
            "right": null,
            "top": null,
            "visibility": null,
            "width": null
          }
        },
        "fdd539a3796a48a8909615f05089dfe1": {
          "model_module": "@jupyter-widgets/controls",
          "model_name": "DescriptionStyleModel",
          "model_module_version": "1.5.0",
          "state": {
            "_model_module": "@jupyter-widgets/controls",
            "_model_module_version": "1.5.0",
            "_model_name": "DescriptionStyleModel",
            "_view_count": null,
            "_view_module": "@jupyter-widgets/base",
            "_view_module_version": "1.2.0",
            "_view_name": "StyleView",
            "description_width": ""
          }
        },
        "cd2895150d944b7cbcc2d3e27f872a51": {
          "model_module": "@jupyter-widgets/base",
          "model_name": "LayoutModel",
          "model_module_version": "1.2.0",
          "state": {
            "_model_module": "@jupyter-widgets/base",
            "_model_module_version": "1.2.0",
            "_model_name": "LayoutModel",
            "_view_count": null,
            "_view_module": "@jupyter-widgets/base",
            "_view_module_version": "1.2.0",
            "_view_name": "LayoutView",
            "align_content": null,
            "align_items": null,
            "align_self": null,
            "border": null,
            "bottom": null,
            "display": null,
            "flex": null,
            "flex_flow": null,
            "grid_area": null,
            "grid_auto_columns": null,
            "grid_auto_flow": null,
            "grid_auto_rows": null,
            "grid_column": null,
            "grid_gap": null,
            "grid_row": null,
            "grid_template_areas": null,
            "grid_template_columns": null,
            "grid_template_rows": null,
            "height": null,
            "justify_content": null,
            "justify_items": null,
            "left": null,
            "margin": null,
            "max_height": null,
            "max_width": null,
            "min_height": null,
            "min_width": null,
            "object_fit": null,
            "object_position": null,
            "order": null,
            "overflow": null,
            "overflow_x": null,
            "overflow_y": null,
            "padding": null,
            "right": null,
            "top": null,
            "visibility": null,
            "width": "20px"
          }
        },
        "8ffcc1f8c57c4f7c89e23b7c74984da6": {
          "model_module": "@jupyter-widgets/controls",
          "model_name": "ProgressStyleModel",
          "model_module_version": "1.5.0",
          "state": {
            "_model_module": "@jupyter-widgets/controls",
            "_model_module_version": "1.5.0",
            "_model_name": "ProgressStyleModel",
            "_view_count": null,
            "_view_module": "@jupyter-widgets/base",
            "_view_module_version": "1.2.0",
            "_view_name": "StyleView",
            "bar_color": null,
            "description_width": ""
          }
        },
        "0ebd9344f4744ed8b75191a30df7371a": {
          "model_module": "@jupyter-widgets/base",
          "model_name": "LayoutModel",
          "model_module_version": "1.2.0",
          "state": {
            "_model_module": "@jupyter-widgets/base",
            "_model_module_version": "1.2.0",
            "_model_name": "LayoutModel",
            "_view_count": null,
            "_view_module": "@jupyter-widgets/base",
            "_view_module_version": "1.2.0",
            "_view_name": "LayoutView",
            "align_content": null,
            "align_items": null,
            "align_self": null,
            "border": null,
            "bottom": null,
            "display": null,
            "flex": null,
            "flex_flow": null,
            "grid_area": null,
            "grid_auto_columns": null,
            "grid_auto_flow": null,
            "grid_auto_rows": null,
            "grid_column": null,
            "grid_gap": null,
            "grid_row": null,
            "grid_template_areas": null,
            "grid_template_columns": null,
            "grid_template_rows": null,
            "height": null,
            "justify_content": null,
            "justify_items": null,
            "left": null,
            "margin": null,
            "max_height": null,
            "max_width": null,
            "min_height": null,
            "min_width": null,
            "object_fit": null,
            "object_position": null,
            "order": null,
            "overflow": null,
            "overflow_x": null,
            "overflow_y": null,
            "padding": null,
            "right": null,
            "top": null,
            "visibility": null,
            "width": null
          }
        },
        "895753c5bc9d4b42b1516c011639c6b8": {
          "model_module": "@jupyter-widgets/controls",
          "model_name": "DescriptionStyleModel",
          "model_module_version": "1.5.0",
          "state": {
            "_model_module": "@jupyter-widgets/controls",
            "_model_module_version": "1.5.0",
            "_model_name": "DescriptionStyleModel",
            "_view_count": null,
            "_view_module": "@jupyter-widgets/base",
            "_view_module_version": "1.2.0",
            "_view_name": "StyleView",
            "description_width": ""
          }
        }
      }
    },
    "gpuClass": "standard"
  },
  "cells": [
    {
      "cell_type": "markdown",
      "metadata": {
        "id": "view-in-github",
        "colab_type": "text"
      },
      "source": [
        "<a href=\"https://colab.research.google.com/github/PedroAdair/News_country/blob/main/Tarea3_PedroAdairGallegosAvila.ipynb\" target=\"_parent\"><img src=\"https://colab.research.google.com/assets/colab-badge.svg\" alt=\"Open In Colab\"/></a>"
      ]
    },
    {
      "cell_type": "markdown",
      "source": [
        "#Centro de Investigación en Matemáticas a.c\n",
        "## Unidad Monterrey\n",
        "### Temas Selectos de Ciencia de Datos, tarea 3\n",
        "#### Pedro Adair Gallegos Avila"
      ],
      "metadata": {
        "id": "KG6hss4EQxq9"
      }
    },
    {
      "cell_type": "code",
      "source": [
        "from google.colab import drive\n",
        "drive.mount('/content/drive')"
      ],
      "metadata": {
        "id": "JDaCy3sFf8Wv",
        "outputId": "c63e3348-6eaa-4868-90f9-4e10c17ac56d",
        "colab": {
          "base_uri": "https://localhost:8080/"
        }
      },
      "execution_count": null,
      "outputs": [
        {
          "output_type": "stream",
          "name": "stdout",
          "text": [
            "Mounted at /content/drive\n"
          ]
        }
      ]
    },
    {
      "cell_type": "markdown",
      "source": [
        "#Problema 1: Sobre la las CNN"
      ],
      "metadata": {
        "id": "iiql9-VqQnz6"
      }
    },
    {
      "cell_type": "markdown",
      "source": [
        "1.    Dados  los  siguientes  parámetros  para  algún  eje  (canal)  de  un  tensor:\n",
        "\n",
        "*    $i$:   tamaño  de  los  datos  de  entrada  (cuadradas:   $i1   =  i2   =  i$)\n",
        "*    $k$:   tamaño  de  un  kernel  de  convolución  cuadrado\n",
        "*    $s$:   tamaño  de  stride  (igual  en  ambas  direcciones)\n",
        "*    $p$:   zero  padding  (igual  en  ambas  direcciones)\n",
        "obtén  una  expresión  para  calcular:\n",
        "\n",
        "Obener una expresion para calcular:\n",
        "\n",
        "\n",
        "\n",
        "1.   Tamaño de la salida del mapeo luego de realizar una convolución\n",
        "2.   Tamaño de salida del proceso de pooling"
      ],
      "metadata": {
        "id": "Rr21JnKeQwJs"
      }
    },
    {
      "cell_type": "markdown",
      "source": [
        "Para lo siguiente, se toman los resultados extraidos de [A guide to convolution arithmetic for deep learning](https://arxiv.org/abs/1603.07285)"
      ],
      "metadata": {
        "id": "J5-OjGWDrHHi"
      }
    },
    {
      "cell_type": "markdown",
      "source": [
        "Consideremos  el salto (stride) $s$, entonces tenemos que en cada vez que se realiza una convolucion comienza en la posicion $-p$ (el padding a la izquierda)y va de $(-p,k-p)$, luego realiza el salto (s) hacia $-p+s$ para realizar una nueva convolución. Tenemos que en total hay\n",
        "$ (i-k) +2p +1 $  donde el primer sumanod corresponde al numero de convoluciones en el input de la imagen (sin los zero padding) luego se tienen las convoluciones que se realizaron en las orillas de la imagen, mientras que el 1 corresponde al momento de realizar la primer convolución sobre la imagen.\n",
        "\n",
        "Si realizamos los saltos de tamaño $s$ , tenemos que en total se realizan $$\\lfloor \\frac{i-k}{s}\\rfloor +1$$ convoluciones sobre la primer \"fila\" antes de bajar a la siguiente (respetando el salto correspondiente ahora hacia abajo)."
      ],
      "metadata": {
        "id": "L3AJ79uYQwkI"
      }
    },
    {
      "cell_type": "markdown",
      "source": [
        "Para la capa de pooling, tenemos que\n",
        "$$o= \\lfloor \\frac{i-k}{s}\\rfloor +1 $$"
      ],
      "metadata": {
        "id": "altNuoxXQwnW"
      }
    },
    {
      "cell_type": "markdown",
      "source": [
        "#Problema 2:  Clasificador de noticias por país  basado en CNN"
      ],
      "metadata": {
        "id": "U83gAdtXuGhv"
      }
    },
    {
      "cell_type": "markdown",
      "source": [
        "Consideramos  nuevamente   el  corpus  *hispablogs.zip* que  usamos para   la  tarea  2. El objetivo ahora es implementar un clasificador basado en redes convolucionales."
      ],
      "metadata": {
        "id": "6sdmnJhxrV7P"
      }
    },
    {
      "cell_type": "markdown",
      "source": [
        "Descargamos las librerias que usaremos a lo largo de este y los siguientes ejercicios"
      ],
      "metadata": {
        "id": "cBTvLa1grmzW"
      }
    },
    {
      "cell_type": "code",
      "source": [
        "import os\n",
        "import re\n",
        "import pandas as pd\n",
        "import numpy as np\n",
        "import torch\n",
        "\n",
        "from sklearn import metrics\n",
        "import seaborn as sns\n",
        "import matplotlib.pyplot as plt\n"
      ],
      "metadata": {
        "id": "Q3044JIXqPVz"
      },
      "execution_count": null,
      "outputs": []
    },
    {
      "cell_type": "code",
      "source": [
        "\"\"\"\n",
        "NLKT es la opción que selecciones para preprocesar mis textos\n",
        "\"\"\"\n",
        "import nltk\n",
        "from nltk.corpus import stopwords\n",
        "from nltk.tokenize import word_tokenize\n",
        "from nltk.stem import WordNetLemmatizer\n",
        "from nltk.tokenize import sent_tokenize\n",
        "from nltk import WordPunctTokenizer\n",
        "\n",
        "nltk.download('punkt')\n",
        "nltk.download('wordnet')\n",
        "nltk.download('stopwords')\n",
        "nltk.download('omw-1.4')\n",
        "\n",
        "#Para stop words en español\n",
        "es_stop = set(nltk.corpus.stopwords.words('spanish'))"
      ],
      "metadata": {
        "colab": {
          "base_uri": "https://localhost:8080/"
        },
        "id": "22yTPnUou79-",
        "outputId": "2737d29c-dce1-42cb-e6a2-a410314ab486"
      },
      "execution_count": null,
      "outputs": [
        {
          "output_type": "stream",
          "name": "stderr",
          "text": [
            "[nltk_data] Downloading package punkt to /root/nltk_data...\n",
            "[nltk_data]   Unzipping tokenizers/punkt.zip.\n",
            "[nltk_data] Downloading package wordnet to /root/nltk_data...\n",
            "[nltk_data] Downloading package stopwords to /root/nltk_data...\n",
            "[nltk_data]   Unzipping corpora/stopwords.zip.\n",
            "[nltk_data] Downloading package omw-1.4 to /root/nltk_data...\n"
          ]
        }
      ]
    },
    {
      "cell_type": "markdown",
      "source": [
        "El primer paso consiste en descargar nuestro conjunto de datos en train/test. Para ello usaremos las funciones proporcionadas por el profesor."
      ],
      "metadata": {
        "id": "y5-EcjfFqPl2"
      }
    },
    {
      "cell_type": "code",
      "source": [
        "def get_texts_from_dir(cat_dir):\n",
        "  texts = []\n",
        "  data_dir = cat_dir\n",
        "  category_index = {}\n",
        "  categories = []\n",
        "  for category_name in sorted(os.listdir(data_dir)):\n",
        "    category_id = len(category_index)\n",
        "    category_index[category_name] = category_id\n",
        "    category_path = os.path.join(data_dir, category_name)\n",
        "    for f_name in sorted(os.listdir(category_path)):\n",
        "      f_path = os.path.join(category_path, f_name)\n",
        "      f = open(f_path, \"r\", encoding=\"utf8\")\n",
        "      texts += [f.read()]\n",
        "      f.close()\n",
        "      categories += [category_id]\n",
        "  print(\"%d files loaded from %s\" % (len(texts), cat_dir))\n",
        "  return texts, categories, category_index"
      ],
      "metadata": {
        "id": "1gh187VerT8z"
      },
      "execution_count": null,
      "outputs": []
    },
    {
      "cell_type": "code",
      "source": [
        "tr_txt, tr_y, tr_y_ind = get_texts_from_dir(\"/content/drive/MyDrive/NLP/train\")\n",
        "te_txt, te_y, te_y_ind = get_texts_from_dir(\"/content/drive/MyDrive/NLP/test\")"
      ],
      "metadata": {
        "colab": {
          "base_uri": "https://localhost:8080/"
        },
        "id": "X_lZk28YrrDQ",
        "outputId": "c9b691ec-ceff-42db-f482-964e2020ad29"
      },
      "execution_count": null,
      "outputs": [
        {
          "output_type": "stream",
          "name": "stdout",
          "text": [
            "2250 files loaded from /content/drive/MyDrive/NLP/train\n",
            "1000 files loaded from /content/drive/MyDrive/NLP/test\n"
          ]
        }
      ]
    },
    {
      "cell_type": "markdown",
      "source": [
        "### Paso 0: Preprocesamiento de las noticias"
      ],
      "metadata": {
        "id": "dd9VGHPUOy3F"
      }
    },
    {
      "cell_type": "markdown",
      "source": [
        "Primero, preproceso el texto, aplicando las siguientes consideraciones:\n",
        "\n",
        "\n",
        "*   Remover caracteres especiales (*,$,#, etc.)\n",
        "*   Convertir a minúsculas.\n",
        "*   Convertir espacios multiples a solo uno.\n",
        "*   ...\n",
        "\n",
        "Es importante resaltar que el primer paso de la inferencia es limpiar con la misma función los datos de test, pero solo hasta entonces le haremos algo al conjnto de test.\n"
      ],
      "metadata": {
        "id": "zV-p59tawimW"
      }
    },
    {
      "cell_type": "code",
      "source": [
        "stemmer = WordNetLemmatizer()\n",
        "word_punctuation_tokenizer = nltk.WordPunctTokenizer()\n",
        "\n",
        "def preprocess_text(document):\n",
        "        # Remove all the special characters\n",
        "        document = re.sub(r'\\W', ' ', str(document))\n",
        "\n",
        "        # remove all single characters\n",
        "        document = re.sub(r'\\s+[a-zA-Z]\\s+', ' ', document)\n",
        "\n",
        "        # Remove single characters from the start\n",
        "        document = re.sub(r'\\^[a-zA-Z]\\s+', ' ', document)\n",
        "\n",
        "        # Substituting multiple spaces with single space\n",
        "        document = re.sub(r'\\s+', ' ', document, flags=re.I)\n",
        "\n",
        "        # Removing prefixed 'b'\n",
        "        document = re.sub(r'^b\\s+', '', document)\n",
        "\n",
        "        # Converting to Lowercase\n",
        "        document = document.lower()\n",
        "\n",
        "        # Lemmatization\n",
        "        tokens = document.split()\n",
        "        tokens = [stemmer.lemmatize(word) for word in tokens]\n",
        "        tokens = [word for word in tokens if word not in es_stop]\n",
        "        tokens = [word for word in tokens if len(word) > 3]\n",
        "\n",
        "        preprocessed_text = ' '.join(tokens)\n",
        "\n",
        "        return preprocessed_text"
      ],
      "metadata": {
        "id": "7vHfB2A5xkEX"
      },
      "execution_count": null,
      "outputs": []
    },
    {
      "cell_type": "code",
      "source": [
        "#preproceso todos los documentos par evitar embeddings de palabras no importantes\n",
        "final_corpus = [preprocess_text(document) for document in tr_txt if document.strip() !='']"
      ],
      "metadata": {
        "id": "TkUis18DxsyL"
      },
      "execution_count": null,
      "outputs": []
    },
    {
      "cell_type": "code",
      "source": [
        "# longitud de un texto antes y despues de preprocesar\n",
        "print(\"tamaño de un texto antes de preprocesar:\", len(tr_txt[0]) )\n",
        "print(\"tamaño de un texto despues de preprocesar:\", len(final_corpus[0]) )"
      ],
      "metadata": {
        "colab": {
          "base_uri": "https://localhost:8080/"
        },
        "id": "BJoGrfsBx-y9",
        "outputId": "3c08de8e-7fb1-44f2-dee5-a08d41ba9428"
      },
      "execution_count": null,
      "outputs": [
        {
          "output_type": "stream",
          "name": "stdout",
          "text": [
            "tamaño de un texto antes de preprocesar: 3728\n",
            "tamaño de un texto despues de preprocesar: 2612\n"
          ]
        }
      ]
    },
    {
      "cell_type": "markdown",
      "source": [
        "### Paso 1: Tokenize Text Data And Build Vocabulary"
      ],
      "metadata": {
        "id": "ghINAHQ8saBJ"
      }
    },
    {
      "cell_type": "markdown",
      "source": [
        "Sobre estos textos preprocesados es que tokenizare las noticias y construire los vocabularios (dependiendo del embedding que valla a usar)."
      ],
      "metadata": {
        "id": "ubIGXloMzE8E"
      }
    },
    {
      "cell_type": "code",
      "source": [
        "def tokenize(texts):\n",
        "    \"\"\"Tokeniza nuestros textos, construye el vocabulario y encuentra la noticia de maxima longitud.\n",
        "\n",
        "    Args:\n",
        "        texts (List[str]): Lista de textos (noticias)\n",
        "\n",
        "    Returns:\n",
        "        tokenized_texts (List[List[str]]): Lista de listas de tokens\n",
        "        word2idx (Dict): El vocabulario obtenido del corpus\n",
        "        max_len (int): el texto de maxima longitud (para que los emb. de las noticias sean del mismo tamaño)\n",
        "    \"\"\"\n",
        "\n",
        "    max_len = 0\n",
        "    tokenized_texts = []\n",
        "    word2idx = {}\n",
        "\n",
        "    # Agregamos los tokens <pad> y <unk> a nuestros vocabulario.\n",
        "    word2idx['<pad>'] = 0\n",
        "    word2idx['<unk>'] = 1\n",
        "\n",
        "    # Construimos el vocabulario y sus indices  apartir de 2\n",
        "    idx = 2\n",
        "    for sent in texts:\n",
        "        tokenized_sent = word_tokenize(sent)\n",
        "\n",
        "        # Add `tokenized_sent` to `tokenized_texts`\n",
        "        tokenized_texts.append(tokenized_sent)\n",
        "\n",
        "        # Add new token to `word2idx`\n",
        "        for token in tokenized_sent:\n",
        "            if token not in word2idx:\n",
        "                word2idx[token] = idx\n",
        "                idx += 1\n",
        "\n",
        "        # Update `max_len`\n",
        "        max_len = max(max_len, len(tokenized_sent))\n",
        "\n",
        "    return tokenized_texts, word2idx, max_len"
      ],
      "metadata": {
        "id": "Qn1XTUOks3rr"
      },
      "execution_count": null,
      "outputs": []
    },
    {
      "cell_type": "code",
      "source": [
        "tokenized_texts, word2idx, max_len = tokenize(final_corpus)"
      ],
      "metadata": {
        "id": "VZaxA-wLtvnl"
      },
      "execution_count": null,
      "outputs": []
    },
    {
      "cell_type": "code",
      "source": [
        "print(\"la longitud del vocabulario construido es de:\", len(word2idx))"
      ],
      "metadata": {
        "colab": {
          "base_uri": "https://localhost:8080/"
        },
        "id": "5pnsUXQ50XcL",
        "outputId": "5f882309-e1c0-4316-da2e-327ea7be7f3b"
      },
      "execution_count": null,
      "outputs": [
        {
          "output_type": "stream",
          "name": "stdout",
          "text": [
            "la longitud del vocabulario construido es de: 240140\n"
          ]
        }
      ]
    },
    {
      "cell_type": "markdown",
      "source": [
        "Ahora, debemos de realizar el embedding de nuestros textos previamente preprocesados para que sean el input de nuestra CNN.\n",
        "Para ello requerimos que todos los embeddings sean de la misma longitud, la estrategia es que todos tengan la longitud del texto de mayor longitud (tokenizado) colocando el token de padding **<pad>** hasta alcanzar el mismo tamaño.  "
      ],
      "metadata": {
        "id": "M1CuTRJr1-m0"
      }
    },
    {
      "cell_type": "code",
      "source": [
        "def encode(tokenized_texts, word2idx, max_len):\n",
        "    \"\"\"Rellena cada oración a la longitud máxima de la oración y codifica los tokens por su .\n",
        "\n",
        "    Returns:\n",
        "        input_ids (np.array): Array de tokens indexados en el vocabulario de tamaño\n",
        "                              shape (N, max_len).\n",
        "    \"\"\"\n",
        "\n",
        "    input_ids = []\n",
        "    for tokenized_sent in tokenized_texts:\n",
        "        # Pad sentences to max_len\n",
        "        tokenized_sent += ['<pad>'] * (max_len - len(tokenized_sent))\n",
        "\n",
        "        # Encode tokens to input_ids\n",
        "        input_id = [word2idx.get(token) for token in tokenized_sent]\n",
        "        input_ids.append(input_id)\n",
        "\n",
        "    return np.array(input_ids)"
      ],
      "metadata": {
        "id": "-cpaj3w-1Imc"
      },
      "execution_count": null,
      "outputs": []
    },
    {
      "cell_type": "code",
      "source": [
        "input_ids = encode(tokenized_texts, word2idx, max_len)"
      ],
      "metadata": {
        "id": "a_kl7Ih84tcE"
      },
      "execution_count": null,
      "outputs": []
    },
    {
      "cell_type": "code",
      "source": [
        "input_ids.shape"
      ],
      "metadata": {
        "colab": {
          "base_uri": "https://localhost:8080/"
        },
        "id": "LC4JFVeGNWJD",
        "outputId": "f123d201-4b6a-4547-938b-4885b828394e"
      },
      "execution_count": null,
      "outputs": [
        {
          "output_type": "execute_result",
          "data": {
            "text/plain": [
              "(2250, 5823)"
            ]
          },
          "metadata": {},
          "execution_count": 17
        }
      ]
    },
    {
      "cell_type": "code",
      "source": [
        "from tqdm import tqdm_notebook\n",
        "\n",
        "def load_pretrained_vectors(word2idx, fname):\n",
        "    \"\"\"Load pretrained vectors and create embedding layers.\n",
        "\n",
        "    Args:\n",
        "        word2idx (Dict): Vocabulary built from the corpus\n",
        "        fname (str): Path to pretrained vector file\n",
        "\n",
        "    Returns:\n",
        "        embeddings (np.array): Embedding matrix with shape (N, d) where N is\n",
        "            the size of word2idx and d is embedding dimension\n",
        "    \"\"\"\n",
        "\n",
        "    print(\"Loading pretrained vectors...\")\n",
        "    fin = open(fname, 'r', encoding='utf-8', newline='\\n', errors='ignore')\n",
        "    n, d = map(int, fin.readline().split())\n",
        "\n",
        "    # Initilize random embeddings\n",
        "    embeddings = np.random.uniform(-0.25, 0.25, (len(word2idx), d)) #lleno la matriz d enumeros de forma aleatoria\n",
        "    embeddings[word2idx['<pad>']] = np.zeros((d,))  #a aquellos valores que tiene un '<pad>'\n",
        "\n",
        "    # Load pretrained vectors\n",
        "    count = 0\n",
        "    for line in tqdm_notebook(fin):\n",
        "        tokens = line.rstrip().split(' ')\n",
        "        word = tokens[0]\n",
        "        if word in word2idx:\n",
        "            count += 1\n",
        "            embeddings[word2idx[word]] = np.array(tokens[1:], dtype=np.float32)\n",
        "\n",
        "    print(f\"There are {count} / {len(word2idx)} pretrained vectors found.\")\n",
        "\n",
        "    return embeddings"
      ],
      "metadata": {
        "id": "DgcNoZJmKUOd"
      },
      "execution_count": null,
      "outputs": []
    },
    {
      "cell_type": "markdown",
      "source": [
        "#### Construccion de los embeddings\n",
        "Para esta tarea (así como para las reviews de Amazon)usare los 3 modelos de embbegings que vimos en el curso, FastText, Globe y Word2Vect"
      ],
      "metadata": {
        "id": "2-2juhipl8Sm"
      }
    },
    {
      "cell_type": "markdown",
      "source": [
        "FastText"
      ],
      "metadata": {
        "id": "wDZ5VHwmw4rv"
      }
    },
    {
      "cell_type": "code",
      "source": [
        "embeddings_FastText = load_pretrained_vectors(word2idx, \"/content/drive/MyDrive/NLP/FastText/embeddings-l-model.vec\")\n",
        "embeddings_FastText = torch.tensor(embeddings_FastText)"
      ],
      "metadata": {
        "colab": {
          "base_uri": "https://localhost:8080/",
          "height": 142,
          "referenced_widgets": [
            "dc5f00ab83f741b4aea2734ead284876",
            "00443df3609645f5a14f4e85982471fc",
            "218448e361d94984a8574f656d724395",
            "e5edc5e59fff4d028aed85d5939112b8",
            "1bea374b5a1849979915fd4795f3aa20",
            "d4492620a0e941ebbd0a160b9f80bc31",
            "4100ff4c52a54a538921866b1f089a8c",
            "267469760e1643229208e60394db34da",
            "918f6ffd19454a72a6dc1e7a49befc65",
            "47fc6ef94c094fba9b04afe2a18d4af7",
            "11b31c2464f04479b2648cda5232ede1"
          ]
        },
        "id": "c2q0p4ICIjI4",
        "outputId": "13f1144d-4a63-4655-9a97-f58b60e59237"
      },
      "execution_count": null,
      "outputs": [
        {
          "output_type": "stream",
          "name": "stdout",
          "text": [
            "Loading pretrained vectors...\n"
          ]
        },
        {
          "output_type": "stream",
          "name": "stderr",
          "text": [
            "/usr/local/lib/python3.7/dist-packages/ipykernel_launcher.py:25: TqdmDeprecationWarning: This function will be removed in tqdm==5.0.0\n",
            "Please use `tqdm.notebook.tqdm` instead of `tqdm.tqdm_notebook`\n"
          ]
        },
        {
          "output_type": "display_data",
          "data": {
            "text/plain": [
              "0it [00:00, ?it/s]"
            ],
            "application/vnd.jupyter.widget-view+json": {
              "version_major": 2,
              "version_minor": 0,
              "model_id": "dc5f00ab83f741b4aea2734ead284876"
            }
          },
          "metadata": {}
        },
        {
          "output_type": "stream",
          "name": "stdout",
          "text": [
            "There are 158198 / 240140 pretrained vectors found.\n"
          ]
        }
      ]
    },
    {
      "cell_type": "markdown",
      "source": [
        "Word2Vec"
      ],
      "metadata": {
        "id": "fLDPSr7gw6-W"
      }
    },
    {
      "cell_type": "code",
      "source": [
        "#Word2Vec\n",
        "embeddings_Word2Vec = load_pretrained_vectors(word2idx, \"/content/drive/MyDrive/T3/SBW-vectors-300-min5.txt\")\n",
        "embeddings_Word2Vec = torch.tensor(embeddings_Word2Vec)"
      ],
      "metadata": {
        "id": "myC5sTz5M0Be",
        "colab": {
          "base_uri": "https://localhost:8080/",
          "height": 142,
          "referenced_widgets": [
            "13570a79bd2a46f9ae93bc9b2342973a",
            "4caf44b36db240b68977fbb29eb316aa",
            "928383136a75401db5d4b441d296773c",
            "9039dd848de54dd18bea65a941d85386",
            "8bb45e71a30547d79a0708d3fae5f58d",
            "e2ed74f57f2b47f08cfc4ef79287c483",
            "0c1eba6772fe48a0a81beef09976f196",
            "d9be0ea566a1424e832faf4b9881e841",
            "bc5a752817fe40229711ed9202fd5da7",
            "229e88e5e0404633a188200f05599205",
            "7a8bee6d85ad49e6b20c91d598614d03"
          ]
        },
        "outputId": "f01b6e76-e617-45f7-b971-6b9b7a4c5f10"
      },
      "execution_count": null,
      "outputs": [
        {
          "output_type": "stream",
          "name": "stdout",
          "text": [
            "Loading pretrained vectors...\n"
          ]
        },
        {
          "output_type": "stream",
          "name": "stderr",
          "text": [
            "/usr/local/lib/python3.7/dist-packages/ipykernel_launcher.py:25: TqdmDeprecationWarning: This function will be removed in tqdm==5.0.0\n",
            "Please use `tqdm.notebook.tqdm` instead of `tqdm.tqdm_notebook`\n"
          ]
        },
        {
          "output_type": "display_data",
          "data": {
            "text/plain": [
              "0it [00:00, ?it/s]"
            ],
            "application/vnd.jupyter.widget-view+json": {
              "version_major": 2,
              "version_minor": 0,
              "model_id": "13570a79bd2a46f9ae93bc9b2342973a"
            }
          },
          "metadata": {}
        },
        {
          "output_type": "stream",
          "name": "stdout",
          "text": [
            "There are 122480 / 240140 pretrained vectors found.\n"
          ]
        }
      ]
    },
    {
      "cell_type": "markdown",
      "source": [
        "Glove"
      ],
      "metadata": {
        "id": "kiwy3ZrCw7Zi"
      }
    },
    {
      "cell_type": "code",
      "source": [
        "#Globe /content/drive/MyDrive/T3/glove-sbwc.i25.vec\n",
        "embeddings_Glove = load_pretrained_vectors(word2idx, \"/content/drive/MyDrive/T3/glove-sbwc.i25.vec\")\n",
        "embeddings_Glove = torch.tensor(embeddings_Glove)"
      ],
      "metadata": {
        "colab": {
          "base_uri": "https://localhost:8080/",
          "height": 142,
          "referenced_widgets": [
            "5f25fa88c7c84cb58f92b9f5ef9eb6bf",
            "41dd96b49ead40a5b3cb8ecc9b47f3e9",
            "81661c6db9f14f0a924c0a12102c9be7",
            "6edb32f8ca124b13a2c5a9712de00f95",
            "d2d42ce85b8a4b76bc52332c9a6dfa9a",
            "22bf609d760342bb84969aab86e5098b",
            "7fa14de97409484087b9fe71dafce40e",
            "15b1db2d5e6e4cb6966c2e1d7058819d",
            "696c8f39c263453c840bc5e465b9e0aa",
            "133252c724704b9e9b51b9898e925600",
            "b30c4d65f7d24ccfb21ad2c990624f55"
          ]
        },
        "id": "Dp0ZSEHXmPJQ",
        "outputId": "f622d4f8-bcf9-4636-cc9e-2b69a17b8600"
      },
      "execution_count": null,
      "outputs": [
        {
          "output_type": "stream",
          "name": "stdout",
          "text": [
            "Loading pretrained vectors...\n"
          ]
        },
        {
          "output_type": "stream",
          "name": "stderr",
          "text": [
            "/usr/local/lib/python3.7/dist-packages/ipykernel_launcher.py:25: TqdmDeprecationWarning: This function will be removed in tqdm==5.0.0\n",
            "Please use `tqdm.notebook.tqdm` instead of `tqdm.tqdm_notebook`\n"
          ]
        },
        {
          "output_type": "display_data",
          "data": {
            "text/plain": [
              "0it [00:00, ?it/s]"
            ],
            "application/vnd.jupyter.widget-view+json": {
              "version_major": 2,
              "version_minor": 0,
              "model_id": "5f25fa88c7c84cb58f92b9f5ef9eb6bf"
            }
          },
          "metadata": {}
        },
        {
          "output_type": "stream",
          "name": "stdout",
          "text": [
            "There are 150800 / 240140 pretrained vectors found.\n"
          ]
        }
      ]
    },
    {
      "cell_type": "markdown",
      "source": [
        "#### Construccion del DataLoader\n",
        "Para la construcción de nuestros batches se considero un batch_size de 50, mientras que el conjunto de entrenamiento (2250) se partio en 75/25 para un train/val"
      ],
      "metadata": {
        "id": "xG12Y1KxNrTO"
      }
    },
    {
      "cell_type": "code",
      "source": [
        "from torch.utils.data import (TensorDataset, DataLoader, RandomSampler, SequentialSampler)"
      ],
      "metadata": {
        "id": "Jt6xUtlITtKv"
      },
      "execution_count": null,
      "outputs": []
    },
    {
      "cell_type": "code",
      "source": [
        "def data_loader(train_inputs, val_inputs, train_labels, val_labels,\n",
        "                batch_size=50):\n",
        "    \"\"\"Convert train and validation sets to torch.Tensors and load them to\n",
        "    DataLoader.\n",
        "    \"\"\"\n",
        "\n",
        "    # Convert data type to torch.Tensor\n",
        "    train_inputs, val_inputs, train_labels, val_labels =\\\n",
        "    tuple(torch.tensor(data) for data in\n",
        "          [train_inputs, val_inputs, train_labels, val_labels])\n",
        "\n",
        "    # Specify batch_size\n",
        "    batch_size = 50\n",
        "\n",
        "    # Create DataLoader for training data\n",
        "    train_data = TensorDataset(train_inputs, train_labels)\n",
        "    train_sampler = RandomSampler(train_data)\n",
        "    train_dataloader = DataLoader(train_data, sampler=train_sampler, batch_size=batch_size)\n",
        "\n",
        "    # Create DataLoader for validation data\n",
        "    val_data = TensorDataset(val_inputs, val_labels)\n",
        "    val_sampler = SequentialSampler(val_data)\n",
        "    val_dataloader = DataLoader(val_data, sampler=val_sampler, batch_size=batch_size)\n",
        "\n",
        "    return train_dataloader, val_dataloader"
      ],
      "metadata": {
        "id": "dM1efPr7TtTp"
      },
      "execution_count": null,
      "outputs": []
    },
    {
      "cell_type": "code",
      "source": [
        "from sklearn.model_selection import train_test_split\n",
        "\n",
        "# Train Test Split\n",
        "train_inputs, val_inputs, train_labels, val_labels = train_test_split(\n",
        "    input_ids,tr_y , test_size=0.25, random_state=42)\n",
        "\n",
        "# Load data to PyTorch DataLoader\n",
        "train_dataloader, val_dataloader = \\\n",
        "data_loader(train_inputs, val_inputs, train_labels, val_labels, batch_size=50)"
      ],
      "metadata": {
        "id": "ojHD_X6UTtWp"
      },
      "execution_count": null,
      "outputs": []
    },
    {
      "cell_type": "code",
      "source": [
        "train_dataloader, val_dataloader = data_loader(train_inputs, val_inputs, train_labels, val_labels, batch_size=50)"
      ],
      "metadata": {
        "id": "9uyHit0IioGU"
      },
      "execution_count": null,
      "outputs": []
    },
    {
      "cell_type": "markdown",
      "source": [
        "### Paso 2: Construccion de la cnn"
      ],
      "metadata": {
        "id": "74OMqMxaiqrH"
      }
    },
    {
      "cell_type": "code",
      "source": [
        "import torch\n",
        "import torch.nn as nn\n",
        "import torch.nn.functional as F"
      ],
      "metadata": {
        "id": "n2OmzYIrisOq"
      },
      "execution_count": null,
      "outputs": []
    },
    {
      "cell_type": "markdown",
      "source": [
        "###2.5 Selección de parametros.\n",
        "Uno de los principales objetivos de esta tarea (al menos así lo entendí)  es el analisis de los parametros sobre los cuales se \"monta\" la arquitectura, dichos parametros que movimos fueros los siguientes:\n",
        "\n",
        "\n",
        "\n",
        "\n",
        "1.   Capa de embedding:\n",
        "*   Sin transfer learning\n",
        "*   Word2Vec, FastText y Glove (vistos en la tarea anterior). Para mantener la homogeneidad de los resultados, en el modelo sin transfer se decidio que el tamaño del embedding se mantuviera en 300.\n",
        "*  Para transfer learning, se considero la opcion de un fine tuning descongelando la capa de embeddings, se noto que en general este paso mejora la precisión de nuestros modelos un 1-2%\n",
        "\n",
        "2.   Capas convolucionales:\n",
        "*  Se considero una arquitectura con 3 capas de convolucion con [7, 6, 9] canales en la imagen de entrada.\n",
        "*  En los 3 casos, el tamaño del kernel se define como 100.\n",
        "*  Como padding se considero el zero padding\n",
        "*  Para estas capas, su funcion de activación es Relu y MaxPooling como reductora de tamaño.\n",
        "\n",
        "3. Gradiente:\n",
        "* Se consideraron multiples configuraciones de algoritmos de optimización de gradiente. Con quien se tuvo el mejor resultado fue la variante estocastica de  Descenso por gradiente con momentum  =0.005 y un learning rate inicial de 0.01.\n",
        "\n",
        "\n",
        "\n"
      ],
      "metadata": {
        "id": "8cU3AYSMAv0U"
      }
    },
    {
      "cell_type": "markdown",
      "source": [
        "A continuación enumeramos las caracteristicas de la red"
      ],
      "metadata": {
        "id": "F2cmKP8wwVBt"
      }
    },
    {
      "cell_type": "markdown",
      "source": [
        "| **Características**     | **Cantidades** |\n",
        "|-------------------------|----------------|\n",
        "| Transfer Learning | Word2Vec, FastText, Glove |\n",
        "| Dimensión de los ebeddings | 300 |\n",
        "| Tamaño de filtros | (7, 6, 9) |\n",
        "| Número de filtros | (100, 100, 100, 100) |\n",
        "| Función de activación | ReLu           |\n",
        "| pooling | Max pooling |\n",
        "| dropout rate |\t0.35 |\n",
        "| Optimizador | SGD |\n",
        "| Learning rate | 0.01 |\n",
        "| Momentum | 0.005 |"
      ],
      "metadata": {
        "id": "rSBrW5muvn_Z"
      }
    },
    {
      "cell_type": "markdown",
      "source": [
        "###  cnn"
      ],
      "metadata": {
        "id": "nrRsoJEowfLj"
      }
    },
    {
      "cell_type": "code",
      "source": [
        "class CNN_NLP(nn.Module):\n",
        "    \"\"\"An 1D Convulational Neural Network for Sentence Classification.\"\"\"\n",
        "    def __init__(self,\n",
        "                 pretrained_embedding=None,\n",
        "                 freeze_embedding=False,\n",
        "                 vocab_size=None,\n",
        "                 embed_dim=300,\n",
        "                 filter_sizes=[7, 6, 9],\n",
        "                 num_filters=[100, 100, 100],\n",
        "                 num_classes=5,\n",
        "                 dropout=0.5):\n",
        "        \"\"\"\n",
        "        The constructor for CNN_NLP class.\n",
        "\n",
        "        Args:\n",
        "            pretrained_embedding (torch.Tensor): Pretrained embeddings with\n",
        "                shape (vocab_size, embed_dim)\n",
        "            freeze_embedding (bool): Set to False to fine-tune pretraiend\n",
        "                vectors. Default: False\n",
        "            vocab_size (int): Need to be specified when not pretrained word\n",
        "                embeddings are not used.\n",
        "            embed_dim (int): Dimension of word vectors. Need to be specified\n",
        "                when pretrained word embeddings are not used. Default: 300\n",
        "            filter_sizes (List[int]): List of filter sizes. Default: [3, 4, 5]\n",
        "            num_filters (List[int]): List of number of filters, has the same\n",
        "                length as `filter_sizes`. Default: [100, 100, 100]\n",
        "            n_classes (int): Number of classes. Default: 2\n",
        "            dropout (float): Dropout rate. Default: 0.5\n",
        "        \"\"\"\n",
        "\n",
        "        super(CNN_NLP, self).__init__()\n",
        "\n",
        "        #1. Embedding layer\n",
        "        #Para el caso de un modelo preeentrenado\n",
        "        if pretrained_embedding is not None:\n",
        "            self.vocab_size, self.embed_dim = pretrained_embedding.shape\n",
        "            self.embedding = nn.Embedding.from_pretrained(pretrained_embedding, freeze=freeze_embedding)\n",
        "        else:\n",
        "            self.embed_dim = embed_dim\n",
        "            self.embedding = nn.Embedding(num_embeddings=vocab_size,\n",
        "                                          embedding_dim=self.embed_dim,\n",
        "                                          padding_idx=0,\n",
        "                                          max_norm=5.0)\n",
        "        #2. Convolution layers\n",
        "        self.conv1d_list = nn.ModuleList([\n",
        "            nn.Conv1d(in_channels=self.embed_dim,\n",
        "                      out_channels=num_filters[i],\n",
        "                      kernel_size=filter_sizes[i])\n",
        "            for i in range(len(filter_sizes))\n",
        "        ])\n",
        "        #3. Fully-connected layer and Dropout\n",
        "        self.fc = nn.Linear(np.sum(num_filters), num_classes)\n",
        "        self.fc = nn.Linear(num_classes, num_classes)\n",
        "        #4. dropout\n",
        "        self.dropout = nn.Dropout(p=dropout)\n",
        "\n",
        "\n",
        "    def forward(self, input_ids):\n",
        "        \"\"\"Perform a forward pass through the network.\n",
        "\n",
        "        Args:\n",
        "            input_ids (torch.Tensor): A tensor of token ids with shape\n",
        "                (batch_size, max_sent_length)\n",
        "\n",
        "        Returns:\n",
        "            logits (torch.Tensor): Output logits with shape (batch_size,\n",
        "                n_classes)\n",
        "        \"\"\"\n",
        "\n",
        "        # Get embeddings from `input_ids`. Output shape: (b, max_len, embed_dim)\n",
        "        x_embed = self.embedding(input_ids).float()\n",
        "\n",
        "        # Permute `x_embed` to match input shape requirement of `nn.Conv1d`.\n",
        "        # Output shape: (b, embed_dim, max_len)\n",
        "        x_reshaped = x_embed.permute(0, 2, 1)\n",
        "\n",
        "        # Apply CNN and ReLU. Output shape: (b, num_filters[i], L_out)\n",
        "        x_conv_list = [F.relu(conv1d(x_reshaped)) for conv1d in self.conv1d_list]\n",
        "\n",
        "        # Max pooling. Output shape: (b, num_filters[i], 1)\n",
        "        x_pool_list = [F.max_pool1d(x_conv, kernel_size=x_conv.shape[2])\n",
        "            for x_conv in x_conv_list]\n",
        "\n",
        "        # Concatenate x_pool_list to feed the fully connected layer.\n",
        "        # Output shape: (b, sum(num_filters))\n",
        "        x_fc = torch.cat([x_pool.squeeze(dim=2) for x_pool in x_pool_list],\n",
        "                         dim=1)\n",
        "\n",
        "        # Compute logits. Output shape: (b, n_classes)\n",
        "        logits = self.fc(self.dropout(x_fc))\n",
        "\n",
        "        return logits"
      ],
      "metadata": {
        "id": "WpDIwfLEiucw"
      },
      "execution_count": null,
      "outputs": []
    },
    {
      "cell_type": "code",
      "source": [
        "import torch.optim as optim\n",
        "\n",
        "def initilize_model(pretrained_embedding=None,\n",
        "                    freeze_embedding=False,\n",
        "                    vocab_size=None,\n",
        "                    embed_dim=300,\n",
        "                    filter_sizes=[7, 6, 9], #original [3, 4, 5]\n",
        "                    num_filters=[100, 100, 100],\n",
        "                    num_classes=5,\n",
        "                    dropout=0.5,\n",
        "                    learning_rate=0.01):\n",
        "    \"\"\"Instantiate a CNN model and an optimizer.\"\"\"\n",
        "\n",
        "    assert (len(filter_sizes) == len(num_filters)), \"filter_sizes and \\\n",
        "    num_filters need to be of the same length.\"\n",
        "\n",
        "    # Instantiate CNN model\n",
        "    cnn_model = CNN_NLP(pretrained_embedding=pretrained_embedding,\n",
        "                        freeze_embedding=freeze_embedding,\n",
        "                        vocab_size=vocab_size,\n",
        "                        embed_dim=embed_dim,\n",
        "                        filter_sizes=filter_sizes,\n",
        "                        num_filters=num_filters,\n",
        "                        num_classes=5,\n",
        "                        dropout=0.5)\n",
        "\n",
        "    # Send model to `device` (GPU/CPU)\n",
        "    cnn_model.to(device)\n",
        "\n",
        "    # Instantiate SGD optimizer\n",
        "    optimizer = optim.SGD(cnn_model.parameters(),\n",
        "                               lr=learning_rate,momentum=0.05)\n",
        "\n",
        "    return cnn_model, optimizer"
      ],
      "metadata": {
        "id": "RKNE3zkpiwTv"
      },
      "execution_count": null,
      "outputs": []
    },
    {
      "cell_type": "code",
      "source": [
        "import random\n",
        "import time\n",
        "\n",
        "# Specify loss function\n",
        "loss_fn = nn.CrossEntropyLoss()\n",
        "\n",
        "def set_seed(seed_value=42):\n",
        "    \"\"\"Set seed for reproducibility.\"\"\"\n",
        "\n",
        "    random.seed(seed_value)\n",
        "    np.random.seed(seed_value)\n",
        "    torch.manual_seed(seed_value)\n",
        "    torch.cuda.manual_seed_all(seed_value)\n",
        "\n",
        "def train(model, optimizer, train_dataloader, val_dataloader=None, epochs=10):\n",
        "    \"\"\"Train the CNN model.\"\"\"\n",
        "\n",
        "    # Tracking best validation accuracy\n",
        "    best_accuracy = 0\n",
        "\n",
        "    # Start training loop\n",
        "    print(\"Start training...\\n\")\n",
        "    print(f\"{'Epoch':^7} | {'Train Loss':^12} | {'Val Loss':^10} | {    'Val Acc':^9} | {'Elapsed':^9}\")\n",
        "    print(\"-\"*60)\n",
        "\n",
        "    for epoch_i in range(epochs):\n",
        "        # =======================================\n",
        "        #               Training\n",
        "        # =======================================\n",
        "\n",
        "        # Tracking time and loss\n",
        "        t0_epoch = time.time()\n",
        "        total_loss = 0\n",
        "\n",
        "        # Put the model into the training mode\n",
        "        model.train()\n",
        "\n",
        "        for step, batch in enumerate(train_dataloader):\n",
        "            # Load batch to GPU\n",
        "            b_input_ids, b_labels = tuple(t.to(device) for t in batch)\n",
        "\n",
        "            # Zero out any previously calculated gradients\n",
        "            model.zero_grad()\n",
        "\n",
        "            # Perform a forward pass. This will return logits.\n",
        "            logits = model(b_input_ids)\n",
        "\n",
        "            # Compute loss and accumulate the loss values\n",
        "            loss = loss_fn(logits, b_labels)\n",
        "            total_loss += loss.item()\n",
        "\n",
        "            # Perform a backward pass to calculate gradients\n",
        "            loss.backward()\n",
        "\n",
        "            # Update parameters\n",
        "            optimizer.step()\n",
        "\n",
        "        # Calculate the average loss over the entire training data\n",
        "        avg_train_loss = total_loss / len(train_dataloader)\n",
        "\n",
        "        # =======================================\n",
        "        #               Evaluation\n",
        "        # =======================================\n",
        "        if val_dataloader is not None:\n",
        "            # After the completion of each training epoch, measure the model's\n",
        "            # performance on our validation set.\n",
        "            val_loss, val_accuracy = evaluate(model, val_dataloader)\n",
        "\n",
        "            # Track the best accuracy\n",
        "            if val_accuracy > best_accuracy:\n",
        "                best_accuracy = val_accuracy\n",
        "\n",
        "            # Print performance over the entire training data\n",
        "            time_elapsed = time.time() - t0_epoch\n",
        "            print(f\"{epoch_i + 1:^7} | {avg_train_loss:^12.6f} | {val_loss:^10.6f} | {val_accuracy:^9.2f} | {time_elapsed:^9.2f}\")\n",
        "\n",
        "    print(\"\\n\")\n",
        "    print(f\"Training complete! Best accuracy: {best_accuracy:.2f}%.\")\n",
        "\n",
        "def evaluate(model, val_dataloader):\n",
        "    \"\"\"After the completion of each training epoch, measure the model's\n",
        "    performance on our validation set.\n",
        "    \"\"\"\n",
        "    # Put the model into the evaluation mode. The dropout layers are disabled\n",
        "    # during the test time.\n",
        "    model.eval()\n",
        "\n",
        "    # Tracking variables\n",
        "    val_accuracy = []\n",
        "    val_loss = []\n",
        "\n",
        "    # For each batch in our validation set...\n",
        "    for batch in val_dataloader:\n",
        "        # Load batch to GPU\n",
        "        b_input_ids, b_labels = tuple(t.to(device) for t in batch)\n",
        "\n",
        "        # Compute logits\n",
        "        with torch.no_grad():\n",
        "            logits = model(b_input_ids)\n",
        "\n",
        "        # Compute loss\n",
        "        loss = loss_fn(logits, b_labels)\n",
        "        val_loss.append(loss.item())\n",
        "\n",
        "        # Get the predictions\n",
        "        preds = torch.argmax(logits, dim=1).flatten()\n",
        "\n",
        "        # Calculate the accuracy rate\n",
        "        accuracy = (preds == b_labels).cpu().numpy().mean() * 100\n",
        "        val_accuracy.append(accuracy)\n",
        "\n",
        "    # Compute the average accuracy and loss over the validation set.\n",
        "    val_loss = np.mean(val_loss)\n",
        "    val_accuracy = np.mean(val_accuracy)\n",
        "\n",
        "    return val_loss, val_accuracy"
      ],
      "metadata": {
        "id": "uBN4_zDsiy2D"
      },
      "execution_count": null,
      "outputs": []
    },
    {
      "cell_type": "markdown",
      "source": [
        "### Paso 3: Entrenamiento de las diferentes configuraciones de CNN con embedding"
      ],
      "metadata": {
        "id": "lIwV5jp0iz0U"
      }
    },
    {
      "cell_type": "markdown",
      "source": [
        "Como el entrenamiento es la parte más costosa a nivel computacional, es la unica que realizamos con GPU. A continuación ejecutamos todas las variaciones de modelos de embegging."
      ],
      "metadata": {
        "id": "T6HmotjznaP7"
      }
    },
    {
      "cell_type": "code",
      "source": [
        "if torch.cuda.is_available():\n",
        "    device = torch.device(\"cuda\")\n",
        "    print(f'There are {torch.cuda.device_count()} GPU(s) available.')\n",
        "    print('Device name:', torch.cuda.get_device_name(0))\n",
        "\n",
        "else:\n",
        "    print('No GPU available, using the CPU instead.')\n",
        "    device = torch.device(\"cpu\")\n",
        "\n",
        "#device = torch.device(\"cpu\")"
      ],
      "metadata": {
        "colab": {
          "base_uri": "https://localhost:8080/"
        },
        "id": "B-noqOuTi3Ab",
        "outputId": "738b79aa-8bf1-4fa0-fa06-fd3d8c4b948a"
      },
      "execution_count": null,
      "outputs": [
        {
          "output_type": "stream",
          "name": "stdout",
          "text": [
            "There are 1 GPU(s) available.\n",
            "Device name: Tesla T4\n"
          ]
        }
      ]
    },
    {
      "cell_type": "markdown",
      "source": [
        "#### Modelo sin trasfer learning"
      ],
      "metadata": {
        "id": "VxyfuYZgKoC9"
      }
    },
    {
      "cell_type": "code",
      "source": [
        "set_seed(42)\n",
        "cnn_rand, optimizer = initilize_model(vocab_size=len(word2idx),\n",
        "                                      embed_dim=300,\n",
        "                                      learning_rate=0.25,\n",
        "                                      dropout=0.5)\n",
        "#% minutos aprox.\n",
        "train(cnn_rand, optimizer, train_dataloader, val_dataloader, epochs=20)"
      ],
      "metadata": {
        "colab": {
          "base_uri": "https://localhost:8080/"
        },
        "id": "PMSmhiRsi3DA",
        "outputId": "44f970d0-714b-4a90-cea3-323d30709c9b"
      },
      "execution_count": null,
      "outputs": [
        {
          "output_type": "stream",
          "name": "stdout",
          "text": [
            "Start training...\n",
            "\n",
            " Epoch  |  Train Loss  |  Val Loss  |  Val Acc  |  Elapsed \n",
            "------------------------------------------------------------\n",
            "   1    |   2.839295   |  2.100180  |   19.06   |   12.39  \n",
            "   2    |   1.702486   |  1.409808  |   43.49   |   12.48  \n",
            "   3    |   1.383090   |  1.614490  |   49.29   |   12.62  \n",
            "   4    |   0.879152   |  1.200633  |   50.65   |   12.74  \n",
            "   5    |   0.483862   |  1.153931  |   51.71   |   12.84  \n",
            "   6    |   0.306027   |  0.932834  |   65.44   |   12.99  \n",
            "   7    |   0.221187   |  1.005153  |   63.13   |   13.16  \n",
            "   8    |   0.155039   |  0.910677  |   65.94   |   13.26  \n",
            "   9    |   0.129368   |  0.912706  |   63.35   |   13.46  \n",
            "  10    |   0.096342   |  1.043162  |   63.77   |   13.55  \n",
            "  11    |   0.084847   |  0.988145  |   64.29   |   13.47  \n",
            "  12    |   0.062420   |  0.929841  |   65.46   |   13.33  \n",
            "  13    |   0.049435   |  0.929177  |   63.68   |   13.28  \n",
            "  14    |   0.053922   |  0.941701  |   66.44   |   13.29  \n",
            "  15    |   0.041927   |  0.948104  |   66.10   |   13.34  \n",
            "  16    |   0.034554   |  0.919524  |   66.94   |   13.41  \n",
            "  17    |   0.025837   |  0.949733  |   66.29   |   13.39  \n",
            "  18    |   0.025213   |  0.922528  |   65.29   |   13.36  \n",
            "  19    |   0.030240   |  0.908179  |   67.27   |   13.34  \n",
            "  20    |   0.020113   |  0.916838  |   66.96   |   13.32  \n",
            "\n",
            "\n",
            "Training complete! Best accuracy: 67.27%.\n"
          ]
        }
      ]
    },
    {
      "cell_type": "markdown",
      "source": [
        "#### Modelos con FastText"
      ],
      "metadata": {
        "id": "o5YvTGiQKsPM"
      }
    },
    {
      "cell_type": "markdown",
      "source": [
        "##### Modelo basado en transfer learning con FastText descongelado"
      ],
      "metadata": {
        "id": "KmZEmuupNwkj"
      }
    },
    {
      "cell_type": "code",
      "source": [
        "# CNN-non-static: fastText pretrained word vectors are fine-tuned during training. SGD optmin\n",
        "set_seed(42)\n",
        "cnn_FT_descongelado, optimizer = initilize_model(pretrained_embedding=embeddings_FastText,\n",
        "                                            freeze_embedding=False,\n",
        "                                            learning_rate=0.25,\n",
        "                                            dropout=0.5)\n",
        "train(cnn_FT_descongelado, optimizer, train_dataloader, val_dataloader, epochs=20)"
      ],
      "metadata": {
        "id": "tMfq-3oeNxGD"
      },
      "execution_count": null,
      "outputs": []
    },
    {
      "cell_type": "markdown",
      "source": [
        "##### Modelo basado en transfer learning con FastText congelado"
      ],
      "metadata": {
        "id": "ciNztgfLjQpj"
      }
    },
    {
      "cell_type": "code",
      "source": [
        "# CNN-non-static: fastText pretrained word vectors are fine-tuned during training. SGD optmin\n",
        "# CNN-non-static: fastText pretrained word vectors are fine-tuned during training. SGD optmin with moment =0.05 (es Nesterov)\n",
        "#filtros size [7,6,9]\n",
        "set_seed(42)\n",
        "cnn_FT_congelado, optimizer = initilize_model(pretrained_embedding=embeddings_FastText,\n",
        "                                            freeze_embedding=True,\n",
        "                                            learning_rate=0.25,\n",
        "                                            dropout=0.5)\n",
        "train(cnn_FT_congelado, optimizer, train_dataloader, val_dataloader, epochs=20)"
      ],
      "metadata": {
        "colab": {
          "base_uri": "https://localhost:8080/"
        },
        "id": "0dWNThs9SCCN",
        "outputId": "e54db554-a269-4e1b-d96b-c1badf98eb3d"
      },
      "execution_count": null,
      "outputs": [
        {
          "output_type": "stream",
          "name": "stdout",
          "text": [
            "Start training...\n",
            "\n",
            " Epoch  |  Train Loss  |  Val Loss  |  Val Acc  |  Elapsed \n",
            "------------------------------------------------------------\n",
            "   1    |   1.698652   |  1.525563  |   31.92   |   10.40  \n",
            "   2    |   1.315617   |  1.084729  |   68.58   |   10.40  \n",
            "   3    |   0.946332   |  0.961390  |   64.77   |   10.40  \n",
            "   4    |   0.598110   |  0.777070  |   73.44   |   10.40  \n",
            "   5    |   0.392831   |  0.814655  |   72.44   |   10.41  \n",
            "   6    |   0.231242   |  0.790338  |   74.58   |   10.40  \n",
            "   7    |   0.158794   |  0.679270  |   74.27   |   10.40  \n",
            "   8    |   0.118362   |  0.695846  |   75.44   |   10.39  \n",
            "   9    |   0.080571   |  0.696387  |   75.60   |   10.38  \n",
            "  10    |   0.059224   |  0.739606  |   74.58   |   10.39  \n",
            "  11    |   0.044601   |  0.705651  |   74.60   |   10.39  \n",
            "  12    |   0.036176   |  0.695467  |   75.91   |   10.38  \n",
            "  13    |   0.033705   |  0.692187  |   74.77   |   10.38  \n",
            "  14    |   0.024550   |  0.703465  |   74.77   |   10.37  \n",
            "  15    |   0.023826   |  0.704166  |   74.44   |   10.36  \n",
            "  16    |   0.022136   |  0.693427  |   75.27   |   10.38  \n",
            "  17    |   0.019948   |  0.729605  |   74.60   |   10.37  \n",
            "  18    |   0.018671   |  0.723451  |   74.77   |   10.38  \n",
            "  19    |   0.014219   |  0.720725  |   74.44   |   10.39  \n",
            "  20    |   0.015329   |  0.717239  |   74.77   |   10.39  \n",
            "\n",
            "\n",
            "Training complete! Best accuracy: 75.91%.\n"
          ]
        }
      ]
    },
    {
      "cell_type": "markdown",
      "source": [
        "#### Modelos con Glove"
      ],
      "metadata": {
        "id": "JgvIYR5foCOv"
      }
    },
    {
      "cell_type": "markdown",
      "source": [
        "##### Modelo basado en transfer learning con Glove descongelado"
      ],
      "metadata": {
        "id": "Nn91CW8LoCdo"
      }
    },
    {
      "cell_type": "code",
      "source": [
        "set_seed(42)\n",
        "cnn_Glove_descongelado, optimizer = initilize_model(pretrained_embedding=embeddings_Glove,\n",
        "                                            freeze_embedding=False,\n",
        "                                            learning_rate=0.25,\n",
        "                                            dropout=0.5)\n",
        "train(cnn_Glove_descongelado, optimizer, train_dataloader, val_dataloader, epochs=20)"
      ],
      "metadata": {
        "colab": {
          "base_uri": "https://localhost:8080/"
        },
        "id": "hVOEZtUSoCvw",
        "outputId": "e99ff997-cf22-4aff-9918-c504eeb77ddb"
      },
      "execution_count": null,
      "outputs": [
        {
          "output_type": "stream",
          "name": "stdout",
          "text": [
            "Start training...\n",
            "\n",
            " Epoch  |  Train Loss  |  Val Loss  |  Val Acc  |  Elapsed \n",
            "------------------------------------------------------------\n",
            "   1    |   1.789605   |  1.484203  |   33.06   |   14.87  \n",
            "   2    |   1.300744   |  1.154810  |   61.74   |   14.89  \n",
            "   3    |   0.914044   |  1.080941  |   61.91   |   14.90  \n",
            "   4    |   0.468962   |  0.934549  |   68.41   |   14.92  \n",
            "   5    |   0.241772   |  0.891076  |   68.05   |   14.88  \n",
            "   6    |   0.126990   |  0.942515  |   66.94   |   14.91  \n",
            "   7    |   0.086591   |  0.895245  |   69.22   |   14.92  \n",
            "   8    |   0.069141   |  0.854827  |   69.05   |   14.93  \n",
            "   9    |   0.040323   |  0.854303  |   70.58   |   14.92  \n",
            "  10    |   0.044755   |  0.939178  |   69.72   |   14.90  \n",
            "  11    |   0.034183   |  0.870379  |   69.44   |   14.93  \n",
            "  12    |   0.025414   |  0.875158  |   68.41   |   14.93  \n",
            "  13    |   0.026075   |  0.844348  |   69.74   |   14.93  \n",
            "  14    |   0.019442   |  0.858052  |   70.55   |   14.92  \n",
            "  15    |   0.013092   |  0.851557  |   70.91   |   14.92  \n",
            "  16    |   0.011951   |  0.866479  |   70.88   |   14.95  \n",
            "  17    |   0.015501   |  0.880457  |   69.88   |   14.92  \n",
            "  18    |   0.012440   |  0.906720  |   69.38   |   14.92  \n",
            "  19    |   0.014164   |  0.880253  |   70.08   |   14.92  \n",
            "  20    |   0.014180   |  0.887807  |   68.58   |   14.89  \n",
            "\n",
            "\n",
            "Training complete! Best accuracy: 70.91%.\n"
          ]
        }
      ]
    },
    {
      "cell_type": "markdown",
      "source": [
        "##### Modelo basado en transfer learning con Glove congelado"
      ],
      "metadata": {
        "id": "punh4XSzoCi5"
      }
    },
    {
      "cell_type": "code",
      "source": [
        "set_seed(42)\n",
        "cnn_Glove_congelado, optimizer = initilize_model(pretrained_embedding=embeddings_Glove,\n",
        "                                            freeze_embedding=True,\n",
        "                                            learning_rate=0.25,\n",
        "                                            dropout=0.5)\n",
        "train(cnn_Glove_congelado, optimizer, train_dataloader, val_dataloader, epochs=20)"
      ],
      "metadata": {
        "colab": {
          "base_uri": "https://localhost:8080/"
        },
        "id": "AzKu1So5oCyW",
        "outputId": "21843d1b-bc59-4a1b-8579-a16b9f828a21"
      },
      "execution_count": null,
      "outputs": [
        {
          "output_type": "stream",
          "name": "stdout",
          "text": [
            "Start training...\n",
            "\n",
            " Epoch  |  Train Loss  |  Val Loss  |  Val Acc  |  Elapsed \n",
            "------------------------------------------------------------\n",
            "   1    |   1.789756   |  1.479061  |   33.06   |   10.39  \n",
            "   2    |   1.295139   |  1.144221  |   62.24   |   10.37  \n",
            "   3    |   0.914532   |  1.066635  |   61.63   |   10.39  \n",
            "   4    |   0.468283   |  0.897679  |   68.08   |   10.38  \n",
            "   5    |   0.242149   |  0.888652  |   68.10   |   10.39  \n",
            "   6    |   0.128000   |  0.911671  |   68.27   |   10.39  \n",
            "   7    |   0.085566   |  0.871246  |   70.58   |   10.40  \n",
            "   8    |   0.065700   |  0.872056  |   69.08   |   10.40  \n",
            "   9    |   0.045723   |  0.887348  |   69.41   |   10.40  \n",
            "  10    |   0.044593   |  0.913753  |   69.74   |   10.41  \n",
            "  11    |   0.034917   |  0.856215  |   69.58   |   10.41  \n",
            "  12    |   0.022758   |  0.887126  |   70.41   |   10.40  \n",
            "  13    |   0.026140   |  0.834944  |   68.77   |   10.40  \n",
            "  14    |   0.022512   |  0.829789  |   70.74   |   10.41  \n",
            "  15    |   0.014869   |  0.835527  |   70.74   |   10.40  \n",
            "  16    |   0.014891   |  0.849951  |   70.58   |   10.39  \n",
            "  17    |   0.014178   |  0.854437  |   70.41   |   10.39  \n",
            "  18    |   0.012026   |  0.876948  |   71.08   |   10.39  \n",
            "  19    |   0.013127   |  0.855205  |   71.24   |   10.39  \n",
            "  20    |   0.017646   |  0.904962  |   69.74   |   10.39  \n",
            "\n",
            "\n",
            "Training complete! Best accuracy: 71.24%.\n"
          ]
        }
      ]
    },
    {
      "cell_type": "markdown",
      "source": [
        "#### Modelos con Word2Vec"
      ],
      "metadata": {
        "id": "l-vLaNt8oClb"
      }
    },
    {
      "cell_type": "markdown",
      "source": [
        "##### Modelo basado en transfer learning con Word2Vec descongelado"
      ],
      "metadata": {
        "id": "NEev8RydoCoB"
      }
    },
    {
      "cell_type": "code",
      "source": [
        "set_seed(42)\n",
        "cnn_W2V_descongelado, optimizer = initilize_model(pretrained_embedding=embeddings_Word2Vec,\n",
        "                                            freeze_embedding=False,\n",
        "                                            learning_rate=0.25,\n",
        "                                            dropout=0.5)\n",
        "train(cnn_W2V_descongelado, optimizer, train_dataloader, val_dataloader, epochs=20)\n"
      ],
      "metadata": {
        "colab": {
          "base_uri": "https://localhost:8080/"
        },
        "id": "Bnw0sTtgoC98",
        "outputId": "6ba87574-fcce-45a7-b61f-eba12be874ee"
      },
      "execution_count": null,
      "outputs": [
        {
          "output_type": "stream",
          "name": "stdout",
          "text": [
            "Start training...\n",
            "\n",
            " Epoch  |  Train Loss  |  Val Loss  |  Val Acc  |  Elapsed \n",
            "------------------------------------------------------------\n",
            "   1    |   1.618410   |  1.619844  |   19.33   |   14.89  \n",
            "   2    |   1.587918   |  1.602183  |   20.42   |   14.93  \n",
            "   3    |   1.542661   |  1.581530  |   27.42   |   14.92  \n",
            "   4    |   1.436047   |  1.525861  |   33.42   |   14.93  \n",
            "   5    |   1.307270   |  1.500077  |   40.77   |   14.94  \n",
            "   6    |   1.127538   |  1.493212  |   36.18   |   14.93  \n",
            "   7    |   0.941253   |  1.425375  |   42.82   |   14.93  \n",
            "   8    |   0.741076   |  1.396908  |   45.51   |   14.93  \n",
            "   9    |   0.543358   |  1.360242  |   45.51   |   14.94  \n",
            "  10    |   0.390296   |  1.372451  |   46.65   |   14.92  \n",
            "  11    |   0.275874   |  1.330254  |   47.35   |   14.94  \n",
            "  12    |   0.201540   |  1.313816  |   49.32   |   14.92  \n",
            "  13    |   0.149911   |  1.311038  |   48.18   |   14.94  \n",
            "  14    |   0.117215   |  1.295034  |   49.32   |   14.92  \n",
            "  15    |   0.094633   |  1.284786  |   50.85   |   14.93  \n",
            "  16    |   0.080596   |  1.284948  |   49.85   |   14.93  \n",
            "  17    |   0.064769   |  1.286559  |   50.68   |   14.90  \n",
            "  18    |   0.059637   |  1.284970  |   49.18   |   14.92  \n",
            "  19    |   0.055141   |  1.282685  |   50.82   |   14.90  \n",
            "  20    |   0.048465   |  1.279278  |   50.01   |   14.93  \n",
            "\n",
            "\n",
            "Training complete! Best accuracy: 50.85%.\n"
          ]
        }
      ]
    },
    {
      "cell_type": "markdown",
      "source": [
        "##### Modelo basado en transfer learning con Word2Vec congelado"
      ],
      "metadata": {
        "id": "j4gZEZ9_W-Fo"
      }
    },
    {
      "cell_type": "code",
      "source": [
        "set_seed(42)\n",
        "cnn_W2V_descongelado, optimizer = initilize_model(pretrained_embedding=embeddings_Word2Vec,\n",
        "                                            freeze_embedding=True,\n",
        "                                            learning_rate=0.25,\n",
        "                                            dropout=0.5)\n",
        "train(cnn_W2V_descongelado, optimizer, train_dataloader, val_dataloader, epochs=20)"
      ],
      "metadata": {
        "colab": {
          "base_uri": "https://localhost:8080/"
        },
        "id": "eBj3bRtJoDAh",
        "outputId": "c0e57ab1-9e67-4b8c-e862-5f83d8810cb1"
      },
      "execution_count": null,
      "outputs": [
        {
          "output_type": "stream",
          "name": "stdout",
          "text": [
            "Start training...\n",
            "\n",
            " Epoch  |  Train Loss  |  Val Loss  |  Val Acc  |  Elapsed \n",
            "------------------------------------------------------------\n",
            "   1    |   1.618418   |  1.619875  |   19.33   |   10.41  \n",
            "   2    |   1.588468   |  1.602606  |   20.26   |   10.41  \n",
            "   3    |   1.544936   |  1.584745  |   26.59   |   10.41  \n",
            "   4    |   1.442949   |  1.532687  |   33.42   |   10.40  \n",
            "   5    |   1.315676   |  1.502943  |   40.63   |   10.41  \n",
            "   6    |   1.140007   |  1.497172  |   35.68   |   10.41  \n",
            "   7    |   0.960304   |  1.430483  |   42.15   |   10.40  \n",
            "   8    |   0.765533   |  1.406109  |   44.01   |   10.41  \n",
            "   9    |   0.569423   |  1.372133  |   45.51   |   10.41  \n",
            "  10    |   0.414644   |  1.379143  |   45.99   |   10.41  \n",
            "  11    |   0.297121   |  1.342011  |   47.82   |   10.41  \n",
            "  12    |   0.220722   |  1.322027  |   46.21   |   10.40  \n",
            "  13    |   0.164351   |  1.322725  |   48.68   |   10.40  \n",
            "  14    |   0.129813   |  1.300682  |   49.01   |   10.40  \n",
            "  15    |   0.103331   |  1.296714  |   49.51   |   10.38  \n",
            "  16    |   0.088787   |  1.296136  |   48.35   |   10.39  \n",
            "  17    |   0.072537   |  1.294329  |   49.82   |   10.39  \n",
            "  18    |   0.065055   |  1.298974  |   48.15   |   10.39  \n",
            "  19    |   0.059955   |  1.292729  |   49.65   |   10.40  \n",
            "  20    |   0.052787   |  1.292062  |   50.32   |   10.40  \n",
            "\n",
            "\n",
            "Training complete! Best accuracy: 50.32%.\n"
          ]
        }
      ]
    },
    {
      "cell_type": "markdown",
      "source": [
        "### Paso 4: Evaluación de los mejores modelos"
      ],
      "metadata": {
        "id": "S39WjdHjokLH"
      }
    },
    {
      "cell_type": "markdown",
      "source": [
        "Del entrenamiento de las redes anteriores es que se tiene la siguiente tabla donde se compara el modelo, si tuvo o no fine tuning, su presición y en que epoca fue que alcanzo este resultado. Notamos que varias de las arquitecturas requirieron bastantes epocas para alcanzar sus mejores resultados, mientras que otras no lo alzanzaron sino hasta el final; lo cual podria ser indicio de que requieren más tiempo para ejecutarse con mejores resultados.\n",
        "\n",
        "Todas las redes fueron ejecutadas con los mismos parametros.\n",
        "\n",
        "\n",
        "Modelo | Accuracy train | Epoch\n",
        "--- | --- | ---\n",
        "s/transfer learning    | 67.27%.   | 18\n",
        "FastText descongelado  | 77.74%    | 20\n",
        "FastText congelado     | 77.08%    | 14\n",
        "Word2Vec descongelado  | 50.49%.   | 19\n",
        "Word2Vec congelado     | 50.49%    | 20\n",
        "Glove  descongelado    | 70.24%.   | 7\n",
        "Glove   congelado      | 71.72%    | 7\n",
        "\n",
        "De lo anterior es que notamos que el modelo de FastText fue el más apropiado para el tipo de datos con su particular preprocesamiento, mientras que Glove fue el que llego a sus mejores resultados con menos epocas. Sin embargo algo interesante a resaltar es que el modelo sin transfer learning tuvo resultados satisfactorios, superando incluso a los arrojados por Glove."
      ],
      "metadata": {
        "id": "RMBevawxoy7l"
      }
    },
    {
      "cell_type": "markdown",
      "source": [
        "Primero,  preprocesamos de la misma forma que el conjunto de entrenamiento al conjunto de test"
      ],
      "metadata": {
        "id": "XPLYHfqOXci1"
      }
    },
    {
      "cell_type": "code",
      "source": [
        "final_corpus_test = [preprocess_text(document) for document in te_txt if document.strip() !='']\n",
        "#te_txt, te_y"
      ],
      "metadata": {
        "id": "ypSPtl7iveJj"
      },
      "execution_count": null,
      "outputs": []
    },
    {
      "cell_type": "markdown",
      "source": [
        "Ocupamos la siguiente función para predecir una noticia"
      ],
      "metadata": {
        "id": "9HZ4JAryozKp"
      }
    },
    {
      "cell_type": "code",
      "source": [
        "def predict(text, model=cnn_rand.to(\"cpu\"), max_len=62):\n",
        "\n",
        "    # Tokenize, pad and encode text\n",
        "    tokens = word_tokenize(text.lower())\n",
        "    padded_tokens = tokens + ['<pad>'] * (max_len - len(tokens))\n",
        "    input_id = [word2idx.get(token, word2idx['<unk>']) for token in padded_tokens]\n",
        "\n",
        "    # Convert to PyTorch tensors\n",
        "    input_id = torch.tensor(input_id).unsqueeze(dim=0)\n",
        "\n",
        "    # Compute logits\n",
        "    logits = model.forward(input_id)\n",
        "\n",
        "    #  Compute probability\n",
        "    probs = F.softmax(logits, dim=1).squeeze(dim=0)\n",
        "\n",
        "    return(torch.argmax(probs).numpy())"
      ],
      "metadata": {
        "id": "r3aYs_RTsqZY"
      },
      "execution_count": null,
      "outputs": []
    },
    {
      "cell_type": "markdown",
      "source": [
        "##### Predicciones modelo s/Transfer Learning"
      ],
      "metadata": {
        "id": "04YcGHJe0EOD"
      }
    },
    {
      "cell_type": "code",
      "source": [
        "y_predict = []\n",
        "for id_text in range(len(final_corpus_test)):\n",
        "  text = final_corpus_test[id_text]\n",
        "  y_predict.append(predict(text, model = cnn_rand.to(\"cpu\")))"
      ],
      "metadata": {
        "id": "5QwxWT9OozOq"
      },
      "execution_count": null,
      "outputs": []
    },
    {
      "cell_type": "code",
      "source": [
        "plt.rcParams[\"figure.figsize\"] = (6,5)\n",
        "prom_svm=  metrics.confusion_matrix(te_y, y_predict)\n",
        "ax = sns.heatmap(prom_svm/np.sum(prom_svm), annot=True, fmt='0.1%', cmap='Blues')\n",
        "ax.set_xlabel('Predicción')\n",
        "ax.set_ylabel('Real ')\n",
        "plt.show()"
      ],
      "metadata": {
        "id": "Kqsc9E1fydw2",
        "outputId": "b5687804-27c0-49e6-d6d9-61bab332f660",
        "colab": {
          "base_uri": "https://localhost:8080/",
          "height": 334
        }
      },
      "execution_count": null,
      "outputs": [
        {
          "output_type": "display_data",
          "data": {
            "text/plain": [
              "<Figure size 432x360 with 2 Axes>"
            ],
            "image/png": "[encoded data removed]"
          },
          "metadata": {
            "needs_background": "light"
          }
        }
      ]
    },
    {
      "cell_type": "markdown",
      "source": [
        "##### Predicciones modelo FastText Descongelado"
      ],
      "metadata": {
        "id": "WcAwOyCk0fco"
      }
    },
    {
      "cell_type": "code",
      "source": [
        "y_predictFTDes = []\n",
        "for id_text in range(len(final_corpus_test)):\n",
        "  text = final_corpus_test[id_text]\n",
        "  y_predictFTDes.append(predict(text, model = cnn_FT_descongelado.to(\"cpu\")))"
      ],
      "metadata": {
        "id": "OdZWQ8Yp0med"
      },
      "execution_count": null,
      "outputs": []
    },
    {
      "cell_type": "code",
      "source": [
        "plt.rcParams[\"figure.figsize\"] = (6,5)\n",
        "prom_svm =  metrics.confusion_matrix(te_y, y_predictFTDes)\n",
        "ax = sns.heatmap(prom_svm/np.sum(prom_svm), annot=True, fmt='0.1%', cmap='Greens')\n",
        "ax.set_xlabel('Predicción')\n",
        "ax.set_ylabel('Real ')\n"
      ],
      "metadata": {
        "id": "qkOKGYr_0zHj",
        "outputId": "35f20bd3-db27-4ca2-9a96-b96935607432",
        "colab": {
          "base_uri": "https://localhost:8080/",
          "height": 352
        }
      },
      "execution_count": null,
      "outputs": [
        {
          "output_type": "execute_result",
          "data": {
            "text/plain": [
              "Text(33.0, 0.5, 'Real ')"
            ]
          },
          "metadata": {},
          "execution_count": 101
        },
        {
          "output_type": "display_data",
          "data": {
            "text/plain": [
              "<Figure size 432x360 with 2 Axes>"
            ],
            "image/png": "[encoded data removed]"
          },
          "metadata": {
            "needs_background": "light"
          }
        }
      ]
    },
    {
      "cell_type": "markdown",
      "source": [
        "### Paso 5: Conclusiones"
      ],
      "metadata": {
        "id": "SzY1h42oo2lx"
      }
    },
    {
      "cell_type": "markdown",
      "source": [
        "De ambos modelos selecionados, tenemos que ambos tuvieron tiempos de ejecución similares,  (45 segundos aprox). Mientras que en sus errores de entrenamiento y validación el modelo descongelado FastText tuvo una precisión 10% mayor en comparación con el modelo sin transfer learning.\n",
        "En el momento de realziar la inferencia, estos valores de precisión se mantuvieron similares a los obtenidos en el entrenamiento. Esto fue en parte a que ambos conjuntos de textos se han preprocesado antes de realizar la inferencia, ya que  en experimentos anteriores cuando no preprocese mis documentos de prueba, la presición se vio fuertemente castigada por que habia palabras \"no importantes\".\n",
        "\n",
        "#### Comparativa vs los modelos de la tarea 1\n",
        "\n",
        "Existe una mejora más que buena comparado con los modelos que tomaban la misma capa de embeddings de la tarea 2, donde nunca pudimos superar el 35% de precisión, claramente seña de que las redes convolucionales son una mejora para la clasificación de texto. Sin embargo hubo problemas que no logramos superar, aun nuestro mejor modelo no supero el 80% de precisión tanto en los conjuntos de train/val como en la inferencia del test."
      ],
      "metadata": {
        "id": "8A29Y8DHs8Yq"
      }
    },
    {
      "cell_type": "markdown",
      "source": [
        "#Problema 3: Borrador\n"
      ],
      "metadata": {
        "id": "KOZR2k4HuKOY"
      }
    },
    {
      "cell_type": "markdown",
      "source": [
        "Extraemos lo que requerimos de las reviews (la review, la calificación y la categoria del producto) unicamente de las"
      ],
      "metadata": {
        "id": "FoAO1AVaq2wy"
      }
    },
    {
      "cell_type": "code",
      "source": [
        "#train=dataset['train'][:'review_body','stars','product_category']\n",
        "train= df_train.loc[:,['review_body','stars','product_category']]\n",
        "train_tmp = pd.DataFrame"
      ],
      "metadata": {
        "id": "AOfjTbOmrJBE"
      },
      "execution_count": null,
      "outputs": []
    },
    {
      "cell_type": "markdown",
      "source": [],
      "metadata": {
        "id": "algj-bbx_yaS"
      }
    },
    {
      "cell_type": "code",
      "source": [
        "categorias = ['home', 'wireless', 'toy', 'sports', 'pc', 'home_improvement', 'electronics']\n",
        "\n",
        "def select_by_category(dataset_file, category_name):\n",
        "  data_reducido = dataset_file.loc[:, ['review_body','stars','product_category']]\n",
        "  data_reducido = data_reducido[data_reducido['product_category']==category_name]\n",
        "  return (data_reducido)\n",
        "\n",
        "train_tmp = pd.DataFrame"
      ],
      "metadata": {
        "id": "zTejT0jJ_ylP"
      },
      "execution_count": null,
      "outputs": []
    },
    {
      "cell_type": "code",
      "source": [
        "t1 = select_by_category(train,categorias[0])\n",
        "t2 = select_by_category(train,categorias[1])\n",
        "t3 = select_by_category(train,categorias[2])\n",
        "t4 = select_by_category(train,categorias[3])\n",
        "t5 = select_by_category(train,categorias[4])\n",
        "t6 = select_by_category(train,categorias[5])\n",
        "t7 = select_by_category(train,categorias[6])"
      ],
      "metadata": {
        "id": "D86MHG4CBHp-"
      },
      "execution_count": null,
      "outputs": []
    },
    {
      "cell_type": "markdown",
      "source": [],
      "metadata": {
        "id": "cf9Ger3uEUss"
      }
    },
    {
      "cell_type": "code",
      "source": [
        "training=list(t1['review_body'])+list(t2['review_body'])+list(t3['review_body'])+list(t4['review_body'])+list(t5['review_body'])+list(t6['review_body'])+list(t7['review_body'])"
      ],
      "metadata": {
        "id": "My3JI1WRoFqu"
      },
      "execution_count": null,
      "outputs": []
    },
    {
      "cell_type": "code",
      "source": [
        "train_clean = pd.concat([t1, t2])\n",
        "train_clean = pd.concat([train_clean,t3])\n",
        "train_clean = pd.concat([train_clean,t4])\n",
        "train_clean = pd.concat([train_clean,t5])\n",
        "train_clean = pd.concat([train_clean,t6])\n",
        "train_clean = pd.concat([train_clean,t7])"
      ],
      "metadata": {
        "id": "_nsMc0IcEVLQ"
      },
      "execution_count": null,
      "outputs": []
    },
    {
      "cell_type": "code",
      "source": [
        "print(len(t1)+len(t2)+len(t3)+len(t4)+len(t5)+len(t6)+len(t7))\n",
        "print(len(training))"
      ],
      "metadata": {
        "colab": {
          "base_uri": "https://localhost:8080/"
        },
        "id": "5W4hvUTkApKf",
        "outputId": "ac08b974-37e3-479e-e110-71f14b5fbc8c"
      },
      "execution_count": null,
      "outputs": [
        {
          "output_type": "stream",
          "name": "stdout",
          "text": [
            "112139\n",
            "112139\n",
            "112139\n"
          ]
        }
      ]
    },
    {
      "cell_type": "markdown",
      "source": [
        "Ahora realizamos el cambio de estrellas a negativo (0) y positivo (1)"
      ],
      "metadata": {
        "id": "XoB70D0h3oF_"
      }
    },
    {
      "cell_type": "code",
      "source": [
        "def stars_to_sentiment(df_star):\n",
        "  df = df_star['stars']\n",
        "  encoded_labels = np.array([1 if label >= 3 else 0 for label in df])\n",
        "  return encoded_labels"
      ],
      "metadata": {
        "id": "toWj_QDoHd8_"
      },
      "execution_count": null,
      "outputs": []
    },
    {
      "cell_type": "code",
      "source": [
        "train_clean['stars'] = stars_to_sentiment(train_clean)"
      ],
      "metadata": {
        "id": "as8UfchU0MUH"
      },
      "execution_count": null,
      "outputs": []
    },
    {
      "cell_type": "markdown",
      "source": [
        "Ahora vuelvo numericas las categorias del producto"
      ],
      "metadata": {
        "id": "15_pob21J1Q3"
      }
    },
    {
      "cell_type": "code",
      "source": [
        "train_clean.product_category = pd.Categorical(train_clean.product_category) #se cambio el tipo de la columna:"
      ],
      "metadata": {
        "id": "dQeWGHWeJ4rM"
      },
      "execution_count": null,
      "outputs": []
    },
    {
      "cell_type": "markdown",
      "source": [],
      "metadata": {
        "id": "vfaNsm55K-6j"
      }
    },
    {
      "cell_type": "code",
      "source": [
        "train_clean['product_category'] = train_clean.product_category.cat.codes"
      ],
      "metadata": {
        "id": "rqPRJQkLLF9g"
      },
      "execution_count": null,
      "outputs": []
    },
    {
      "cell_type": "code",
      "source": [
        "y_train_star = train_clean['stars']\n",
        "y_train_cat = train_clean['product_category']\n",
        "X_train = training"
      ],
      "metadata": {
        "id": "dDCCtftqymbn"
      },
      "execution_count": null,
      "outputs": []
    },
    {
      "cell_type": "code",
      "source": [
        "val= df_validation.loc[:,['review_body','stars','product_category']]\n",
        "val_tmp = pd.DataFrame"
      ],
      "metadata": {
        "id": "A2BUDaOY0rQz"
      },
      "execution_count": null,
      "outputs": []
    },
    {
      "cell_type": "code",
      "source": [
        "v1 = select_by_category(val,categorias[0])\n",
        "v2 = select_by_category(val,categorias[1])\n",
        "v3 = select_by_category(val,categorias[2])\n",
        "v4 = select_by_category(val,categorias[3])\n",
        "v5 = select_by_category(val,categorias[4])\n",
        "v6 = select_by_category(val,categorias[5])\n",
        "v7 = select_by_category(val,categorias[6])"
      ],
      "metadata": {
        "id": "DNgDTPAIM_J6"
      },
      "execution_count": null,
      "outputs": []
    },
    {
      "cell_type": "code",
      "source": [
        "val_clean = pd.concat([v1, v2])\n",
        "val_clean = pd.concat([val_clean,v3])\n",
        "val_clean = pd.concat([val_clean,v4])\n",
        "val_clean = pd.concat([val_clean,v5])\n",
        "val_clean = pd.concat([val_clean,v6])\n",
        "val_clean = pd.concat([val_clean,v7])"
      ],
      "metadata": {
        "id": "eeflze0PNJwF"
      },
      "execution_count": null,
      "outputs": []
    },
    {
      "cell_type": "code",
      "source": [
        "validation=list(v1['review_body'])+list(v2['review_body'])+list(v3['review_body'])+list(v4['review_body'])+list(v5['review_body'])+list(v6['review_body'])+list(v7['review_body'])"
      ],
      "metadata": {
        "id": "eUYdp2Zao3SW"
      },
      "execution_count": null,
      "outputs": []
    },
    {
      "cell_type": "markdown",
      "source": [
        "estrellas"
      ],
      "metadata": {
        "id": "Gx9qE6MpNqdi"
      }
    },
    {
      "cell_type": "code",
      "source": [
        "val_clean['stars'] = stars_to_sentiment(val_clean)"
      ],
      "metadata": {
        "id": "wWN-zvPENhg1"
      },
      "execution_count": null,
      "outputs": []
    },
    {
      "cell_type": "markdown",
      "source": [
        "categorias"
      ],
      "metadata": {
        "id": "-kGHIiEXNoxu"
      }
    },
    {
      "cell_type": "code",
      "source": [
        "val_clean.product_category = pd.Categorical(val_clean.product_category) #se cambio el tipo de la columna:\n",
        "val_clean['product_category'] = val_clean.product_category.cat.codes"
      ],
      "metadata": {
        "id": "qxF9A-rhNoCp"
      },
      "execution_count": null,
      "outputs": []
    },
    {
      "cell_type": "markdown",
      "source": [
        "Obtenemos el conjunto de validación y sus etiquetas para ambas tareas de clasificación"
      ],
      "metadata": {
        "id": "L3yNu2fQN4yl"
      }
    },
    {
      "cell_type": "code",
      "source": [
        "y_val_star = val_clean['stars']\n",
        "y_val_cat  = val_clean['product_category']\n",
        "X_val      = val_clean['review_body']"
      ],
      "metadata": {
        "id": "7enl-mYeOBD8"
      },
      "execution_count": null,
      "outputs": []
    },
    {
      "cell_type": "code",
      "source": [
        "print(len(v1)+len(v2)+len(v3)+len(v4)+len(v5)+len(v6)+len(v7))\n",
        "print(len(y_val_cat))\n",
        "print(len(validation))"
      ],
      "metadata": {
        "colab": {
          "base_uri": "https://localhost:8080/"
        },
        "id": "91000kbosyrf",
        "outputId": "4a2ab8b2-5f08-448f-dcb4-152b83c37ae4"
      },
      "execution_count": null,
      "outputs": [
        {
          "output_type": "stream",
          "name": "stdout",
          "text": [
            "2817\n",
            "2817\n",
            "2817\n"
          ]
        }
      ]
    },
    {
      "cell_type": "markdown",
      "source": [],
      "metadata": {
        "id": "s-urZ7j4pREn"
      }
    },
    {
      "cell_type": "code",
      "source": [
        "texts  = training\n",
        "labels = y_train_cat"
      ],
      "metadata": {
        "id": "PsqjchgdpRQ2"
      },
      "execution_count": null,
      "outputs": []
    },
    {
      "cell_type": "code",
      "source": [
        "print( len(training))\n",
        "print(len(y_train_cat))"
      ],
      "metadata": {
        "colab": {
          "base_uri": "https://localhost:8080/"
        },
        "id": "3Rd0QQBSpZ9Q",
        "outputId": "e6a7c649-3f55-455e-f324-0b4c9b91a3ab"
      },
      "execution_count": null,
      "outputs": [
        {
          "output_type": "stream",
          "name": "stdout",
          "text": [
            "112139\n",
            "112139\n"
          ]
        }
      ]
    },
    {
      "cell_type": "markdown",
      "source": [
        "# Problema 3: Clasificados de producto y sentimiento para el conjunto \"Amazon reviews\""
      ],
      "metadata": {
        "id": "Bl-fdtJ2e1iU"
      }
    },
    {
      "cell_type": "markdown",
      "source": [
        "## Paso 0: Descarga y preprocesamiento de los datos"
      ],
      "metadata": {
        "id": "jlIybQoAKITU"
      }
    },
    {
      "cell_type": "code",
      "source": [
        "#pip install datasets"
      ],
      "metadata": {
        "id": "gNm0Qf5pNnnl"
      },
      "execution_count": null,
      "outputs": []
    },
    {
      "cell_type": "code",
      "source": [
        "from datasets import load_dataset, get_dataset_config_names\n",
        "from IPython.display import display, HTML\n",
        "dataset_name = \"amazon_reviews_multi\"\n",
        "dataset = load_dataset(path=dataset_name, name=\"es\")\n",
        "print(dataset)\n",
        "dataset.set_format(\"pandas\")\n",
        "df = dataset[\"train\"][:]\n",
        "sample = df.sample(n=8, random_state=42)\n",
        "display(HTML(sample.to_html()))"
      ],
      "metadata": {
        "id": "MbMmmHv8N6BN",
        "outputId": "dcd885d9-b546-493e-c6d3-db8d5ebb1bf1",
        "colab": {
          "base_uri": "https://localhost:8080/",
          "height": 1000,
          "referenced_widgets": [
            "a5fa2d12e1c64522bb5d774a0408fec3",
            "b3920934456a4177a450b9cd6ddf2d7f",
            "4d1ce5dd8dc049cc9dd3c4ce953366d8",
            "7e1c29efc4944cb3923602165bac4d8d",
            "1fb26dd9322743a5a5a157a06737c5a8",
            "31a550d4080b44f3b35faef3267fba0d",
            "1298edeedcd342ed93e4473fe8ec0d6c",
            "afc3ce303a414a189b1e9aa7cb5f30df",
            "9cd267251e72423db3b3246c763eb895",
            "7a2987c9ed704339962f1b08cf3b1b42",
            "430423cc4d8f4751aff77c1e4c6c0baf"
          ]
        }
      },
      "execution_count": null,
      "outputs": [
        {
          "output_type": "stream",
          "name": "stderr",
          "text": [
            "WARNING:datasets.builder:Found cached dataset amazon_reviews_multi (/root/.cache/huggingface/datasets/amazon_reviews_multi/es/1.0.0/724e94f4b0c6c405ce7e476a6c5ef4f87db30799ad49f765094cf9770e0f7609)\n"
          ]
        },
        {
          "output_type": "display_data",
          "data": {
            "text/plain": [
              "  0%|          | 0/3 [00:00<?, ?it/s]"
            ],
            "application/vnd.jupyter.widget-view+json": {
              "version_major": 2,
              "version_minor": 0,
              "model_id": "a5fa2d12e1c64522bb5d774a0408fec3"
            }
          },
          "metadata": {}
        },
        {
          "output_type": "stream",
          "name": "stdout",
          "text": [
            "DatasetDict({\n",
            "    train: Dataset({\n",
            "        features: ['review_id', 'product_id', 'reviewer_id', 'stars', 'review_body', 'review_title', 'language', 'product_category'],\n",
            "        num_rows: 200000\n",
            "    })\n",
            "    validation: Dataset({\n",
            "        features: ['review_id', 'product_id', 'reviewer_id', 'stars', 'review_body', 'review_title', 'language', 'product_category'],\n",
            "        num_rows: 5000\n",
            "    })\n",
            "    test: Dataset({\n",
            "        features: ['review_id', 'product_id', 'reviewer_id', 'stars', 'review_body', 'review_title', 'language', 'product_category'],\n",
            "        num_rows: 5000\n",
            "    })\n",
            "})\n"
          ]
        },
        {
          "output_type": "display_data",
          "data": {
            "text/plain": [
              "<IPython.core.display.HTML object>"
            ],
            "text/html": [
              "<table border=\"1\" class=\"dataframe\">\n",
              "  <thead>\n",
              "    <tr style=\"text-align: right;\">\n",
              "      <th></th>\n",
              "      <th>review_id</th>\n",
              "      <th>product_id</th>\n",
              "      <th>reviewer_id</th>\n",
              "      <th>stars</th>\n",
              "      <th>review_body</th>\n",
              "      <th>review_title</th>\n",
              "      <th>language</th>\n",
              "      <th>product_category</th>\n",
              "    </tr>\n",
              "  </thead>\n",
              "  <tbody>\n",
              "    <tr>\n",
              "      <th>119737</th>\n",
              "      <td>es_0407390</td>\n",
              "      <td>product_es_0581068</td>\n",
              "      <td>reviewer_es_0240856</td>\n",
              "      <td>3</td>\n",
              "      <td>Mini usb cable de carga defectuoso por lo cual se estropearon los usb de las baterias</td>\n",
              "      <td>El drone funciona a la perfeccion</td>\n",
              "      <td>es</td>\n",
              "      <td>toy</td>\n",
              "    </tr>\n",
              "    <tr>\n",
              "      <th>72272</th>\n",
              "      <td>es_0543653</td>\n",
              "      <td>product_es_0928614</td>\n",
              "      <td>reviewer_es_0576116</td>\n",
              "      <td>2</td>\n",
              "      <td>El cable es muy largo y es comodo pero me duró poco tiempo porque el conector microusb se me acabó doblando</td>\n",
              "      <td>Muy Largo</td>\n",
              "      <td>es</td>\n",
              "      <td>wireless</td>\n",
              "    </tr>\n",
              "    <tr>\n",
              "      <th>158154</th>\n",
              "      <td>es_0723575</td>\n",
              "      <td>product_es_0453054</td>\n",
              "      <td>reviewer_es_0143292</td>\n",
              "      <td>4</td>\n",
              "      <td>Ideal para mis necesidades.</td>\n",
              "      <td>Práctico</td>\n",
              "      <td>es</td>\n",
              "      <td>home</td>\n",
              "    </tr>\n",
              "    <tr>\n",
              "      <th>65426</th>\n",
              "      <td>es_0051657</td>\n",
              "      <td>product_es_0422258</td>\n",
              "      <td>reviewer_es_0046219</td>\n",
              "      <td>2</td>\n",
              "      <td>Es desigual el color, y mancha. El hilo de rompe con demasiada facilidad y yo creo que viene de menos.</td>\n",
              "      <td>Cómo en Aliexpress, pero más caro</td>\n",
              "      <td>es</td>\n",
              "      <td>home</td>\n",
              "    </tr>\n",
              "    <tr>\n",
              "      <th>30074</th>\n",
              "      <td>es_0500242</td>\n",
              "      <td>product_es_0617238</td>\n",
              "      <td>reviewer_es_0557698</td>\n",
              "      <td>1</td>\n",
              "      <td>Los comentarios se hacen cuando uno recibe la mercancía. antes de recibirla es imposible si llega el lunes serán 5 días de retraso</td>\n",
              "      <td>No recibido</td>\n",
              "      <td>es</td>\n",
              "      <td>watch</td>\n",
              "    </tr>\n",
              "    <tr>\n",
              "      <th>23677</th>\n",
              "      <td>es_0889640</td>\n",
              "      <td>product_es_0014237</td>\n",
              "      <td>reviewer_es_0537246</td>\n",
              "      <td>1</td>\n",
              "      <td>Después de estar esperando a que me envíen el producto 1 mes, me indican que no tienen stock y me devuelven el dinero. Y digo yo....si no tienen para que narices lo ponen a la venta? Impresentables estos chinos que por ahorrarnos unos € luego pasa lo que pasa.</td>\n",
              "      <td>IMPRESENTABLES</td>\n",
              "      <td>es</td>\n",
              "      <td>pet_products</td>\n",
              "    </tr>\n",
              "    <tr>\n",
              "      <th>134858</th>\n",
              "      <td>es_0354744</td>\n",
              "      <td>product_es_0727645</td>\n",
              "      <td>reviewer_es_0853808</td>\n",
              "      <td>4</td>\n",
              "      <td>Al parecer es un tratamiento a largo plazo, dos meses descansar uno, o dos y dos. La ingesta de más producto no beneficia más, el organismo lo elimina mediante la orina. Si lleva todo lo que dice, beneficioso será. Yo personalmente he notado mejoría, pero lo cierto es que también he retomado la actividad física (bici y gimnasio) que tenía abandonada hace tiempo, y eso también ayuda a encontrarse mejor. Es mi primer bote y le daré oportunidad. Repetiré. Un saludo!!!</td>\n",
              "      <td>Parece que funciona.</td>\n",
              "      <td>es</td>\n",
              "      <td>drugstore</td>\n",
              "    </tr>\n",
              "    <tr>\n",
              "      <th>176418</th>\n",
              "      <td>es_0656835</td>\n",
              "      <td>product_es_0925904</td>\n",
              "      <td>reviewer_es_0636546</td>\n",
              "      <td>5</td>\n",
              "      <td>se adapta a mis necesidades</td>\n",
              "      <td>bien</td>\n",
              "      <td>es</td>\n",
              "      <td>camera</td>\n",
              "    </tr>\n",
              "  </tbody>\n",
              "</table>"
            ]
          },
          "metadata": {}
        }
      ]
    },
    {
      "cell_type": "code",
      "source": [
        "#Recuperamos los datos de entrenamiento, validacion y prueba\n",
        "trains=dataset['train'][:]\n",
        "validation=dataset['validation'][:]\n",
        "test=dataset['test'][:]"
      ],
      "metadata": {
        "id": "1jnDzUFeD9zK"
      },
      "execution_count": null,
      "outputs": []
    },
    {
      "cell_type": "code",
      "source": [
        "train1=trains[trains['product_category']=='home']\n",
        "train2=trains[trains['product_category']=='wireless']\n",
        "train3=trains[trains['product_category']=='toy']\n",
        "train4=trains[trains['product_category']=='sports']\n",
        "train5=trains[trains['product_category']=='pc']\n",
        "train6=trains[trains['product_category']=='home_improvement']\n",
        "train7=trains[trains['product_category']=='electronics']"
      ],
      "metadata": {
        "id": "OXxxdtWeEBdM"
      },
      "execution_count": null,
      "outputs": []
    },
    {
      "cell_type": "code",
      "source": [
        "training=list(train1['review_body'])+list(train2['review_body'])+list(train3['review_body'])+list(train4['review_body'])+list(train5['review_body'])+list(train6['review_body'])+list(train7['review_body'])\n",
        "labels=list(train1['product_category'])+list(train2['product_category'])+list(train3['product_category'])+list(train4['product_category'])+list(train5['product_category'])+list(train6['product_category'])+list(train7['product_category'])\n",
        "labels_stars=list(train1[\"stars\"])+list(train2['stars'])+list(train3['stars'])+list(train4['stars'])+list(train5['stars'])+list(train6['stars'])+list(train7['stars'])\n"
      ],
      "metadata": {
        "id": "uDvk-bYuEDt1"
      },
      "execution_count": null,
      "outputs": []
    },
    {
      "cell_type": "code",
      "source": [
        "for i in range(len(labels)):\n",
        "  if(labels[i]=='home'):\n",
        "    labels[i]=0\n",
        "  elif(labels[i]=='wireless'):\n",
        "    labels[i]=1\n",
        "  elif(labels[i]=='toy'):\n",
        "    labels[i]=2\n",
        "  elif(labels[i]=='sports'):\n",
        "    labels[i]=3\n",
        "  elif(labels[i]=='pc'):\n",
        "    labels[i]=4\n",
        "  elif(labels[i]=='home_improvement'):\n",
        "    labels[i]=5\n",
        "  else:\n",
        "    labels[i]=6"
      ],
      "metadata": {
        "id": "CxmF6OxMED28"
      },
      "execution_count": null,
      "outputs": []
    },
    {
      "cell_type": "code",
      "source": [
        "#labels\n",
        "labels = labels_stars\n",
        "for i in range(len(labels_stars)):\n",
        "  if(labels_stars[i]<=2):\n",
        "    labels[i]=0\n",
        "  else:\n",
        "    labels[i]=1"
      ],
      "metadata": {
        "id": "5wEnbSr9Zk0f"
      },
      "execution_count": null,
      "outputs": []
    },
    {
      "cell_type": "code",
      "source": [
        "stemmer = WordNetLemmatizer()\n",
        "word_punctuation_tokenizer = nltk.WordPunctTokenizer()\n",
        "\n",
        "def preprocess_text(document):\n",
        "        # Remove all the special characters\n",
        "        document = re.sub(r'\\W', ' ', str(document))\n",
        "\n",
        "        # remove all single characters\n",
        "        document = re.sub(r'\\s+[a-zA-Z]\\s+', ' ', document)\n",
        "\n",
        "        # Remove single characters from the start\n",
        "        document = re.sub(r'\\^[a-zA-Z]\\s+', ' ', document)\n",
        "\n",
        "        # Substituting multiple spaces with single space\n",
        "        document = re.sub(r'\\s+', ' ', document, flags=re.I)\n",
        "\n",
        "        # Removing prefixed 'b'\n",
        "        document = re.sub(r'^b\\s+', '', document)\n",
        "\n",
        "        # Converting to Lowercase\n",
        "        document = document.lower()\n",
        "\n",
        "        # Lemmatization\n",
        "        tokens = document.split()\n",
        "        tokens = [stemmer.lemmatize(word) for word in tokens]\n",
        "        tokens = [word for word in tokens if word not in es_stop]\n",
        "        tokens = [word for word in tokens if len(word) > 3]\n",
        "\n",
        "        preprocessed_text = ' '.join(tokens)\n",
        "\n",
        "        return preprocessed_text"
      ],
      "metadata": {
        "id": "SGcTJqpPEhEg"
      },
      "execution_count": null,
      "outputs": []
    },
    {
      "cell_type": "markdown",
      "source": [
        "Preprocesamos el texto"
      ],
      "metadata": {
        "id": "eD5YveLYFc9E"
      }
    },
    {
      "cell_type": "code",
      "source": [
        "final_corpus = [preprocess_text(document) for document in training if document.strip() !='']"
      ],
      "metadata": {
        "id": "cxeRWM6mEwsA"
      },
      "execution_count": null,
      "outputs": []
    },
    {
      "cell_type": "code",
      "source": [
        "# Tokenize, build vocabulary, encode tokens\n",
        "tokenized_texts, word2idx, max_len = tokenize(final_corpus)\n",
        "input_ids = encode(tokenized_texts, word2idx, max_len)"
      ],
      "metadata": {
        "id": "hyf41i5QFAnw"
      },
      "execution_count": null,
      "outputs": []
    },
    {
      "cell_type": "markdown",
      "source": [
        "#### Construccion del DataLoader"
      ],
      "metadata": {
        "id": "gaCekUYKFHyE"
      }
    },
    {
      "cell_type": "code",
      "source": [
        "from torch.utils.data import (TensorDataset, DataLoader, RandomSampler, SequentialSampler)"
      ],
      "metadata": {
        "id": "o5xJYO7qF8GJ"
      },
      "execution_count": null,
      "outputs": []
    },
    {
      "cell_type": "code",
      "source": [
        "def data_loader(train_inputs, val_inputs, train_labels, val_labels, batch_size=50):\n",
        "    \"\"\"Convert train and validation sets to torch.Tensors and load them to\n",
        "    DataLoader.\n",
        "    \"\"\"\n",
        "\n",
        "    # Convert data type to torch.Tensor\n",
        "    train_inputs, val_inputs, train_labels, val_labels =tuple(torch.tensor(data) for data in [train_inputs, val_inputs, train_labels, val_labels])\n",
        "\n",
        "    # Specify batch_size\n",
        "    batch_size = 50\n",
        "\n",
        "    # Create DataLoader for training data\n",
        "    train_data = TensorDataset(train_inputs, train_labels)\n",
        "    train_sampler = RandomSampler(train_data)\n",
        "    train_dataloader = DataLoader(train_data, sampler=train_sampler, batch_size=batch_size)\n",
        "\n",
        "    # Create DataLoader for validation data\n",
        "    val_data = TensorDataset(val_inputs, val_labels)\n",
        "    val_sampler = SequentialSampler(val_data)\n",
        "    val_dataloader = DataLoader(val_data, sampler=val_sampler, batch_size=batch_size)\n",
        "\n",
        "    return train_dataloader, val_dataloader"
      ],
      "metadata": {
        "id": "HmmTO0lzFIyT"
      },
      "execution_count": null,
      "outputs": []
    },
    {
      "cell_type": "code",
      "source": [
        "from sklearn.model_selection import train_test_split\n",
        "\n",
        "# Train Test Split\n",
        "train_inputs, val_inputs, train_labels, val_labels = train_test_split(input_ids, labels, test_size=0.1, random_state=42)\n",
        "\n",
        "# Load data to PyTorch DataLoader\n",
        "train_dataloader, val_dataloader = data_loader(train_inputs, val_inputs, train_labels, val_labels, batch_size=50)"
      ],
      "metadata": {
        "id": "NV5M2Pv8FKSr"
      },
      "execution_count": null,
      "outputs": []
    },
    {
      "cell_type": "markdown",
      "source": [
        "#### Construccion de los embeddings"
      ],
      "metadata": {
        "id": "w4JD2JDgFopQ"
      }
    },
    {
      "cell_type": "markdown",
      "source": [
        "FastText"
      ],
      "metadata": {
        "id": "9_wIQlH6FuHc"
      }
    },
    {
      "cell_type": "code",
      "source": [
        "embeddings_FastText = load_pretrained_vectors(word2idx, \"/content/drive/MyDrive/NLP/FastText/embeddings-l-model.vec\")\n",
        "embeddings_FastText = torch.tensor(embeddings_FastText)"
      ],
      "metadata": {
        "colab": {
          "base_uri": "https://localhost:8080/",
          "height": 138,
          "referenced_widgets": [
            "4218eef9be5a48b09c11e77c7978c647",
            "602791efdf7b43bb95a0f90c8045d6e3",
            "5adca3c8fd944f45b6f27bbb0d2573ec",
            "352209604d564fd4be6b1d29994e0066",
            "45563a77b29b4d7db2e6e868b0538bf1",
            "82679dff27364decbe9b660aa766cd96",
            "55e8b8a0dade495294417f10a71b5c0e",
            "60cd73c796484a4194eb76357bd4d460",
            "499e6abd71d14428965f437ef46edbb0",
            "fbd1b70df3614857afcde39b54291098",
            "5fd0342db2494357bd73f4a9d0ea0c80"
          ]
        },
        "id": "RK7LA4PrFo8X",
        "outputId": "b287f403-8208-4a32-dd22-4e8f25b18329"
      },
      "execution_count": null,
      "outputs": [
        {
          "output_type": "stream",
          "name": "stdout",
          "text": [
            "Loading pretrained vectors...\n"
          ]
        },
        {
          "output_type": "stream",
          "name": "stderr",
          "text": [
            "/usr/local/lib/python3.7/dist-packages/ipykernel_launcher.py:25: TqdmDeprecationWarning: This function will be removed in tqdm==5.0.0\n",
            "Please use `tqdm.notebook.tqdm` instead of `tqdm.tqdm_notebook`\n"
          ]
        },
        {
          "output_type": "display_data",
          "data": {
            "text/plain": [
              "0it [00:00, ?it/s]"
            ],
            "application/vnd.jupyter.widget-view+json": {
              "version_major": 2,
              "version_minor": 0,
              "model_id": "4218eef9be5a48b09c11e77c7978c647"
            }
          },
          "metadata": {}
        },
        {
          "output_type": "stream",
          "name": "stdout",
          "text": [
            "There are 37092 / 39720 pretrained vectors found.\n"
          ]
        }
      ]
    },
    {
      "cell_type": "markdown",
      "source": [
        "Word2Vecc"
      ],
      "metadata": {
        "id": "ArOCpG8nFvxM"
      }
    },
    {
      "cell_type": "code",
      "source": [
        "#Word2Vec\n",
        "embeddings_Word2Vec = load_pretrained_vectors(word2idx, \"/content/drive/MyDrive/T3/SBW-vectors-300-min5.txt\")\n",
        "embeddings_Word2Vec = torch.tensor(embeddings_Word2Vec)"
      ],
      "metadata": {
        "colab": {
          "base_uri": "https://localhost:8080/",
          "height": 138,
          "referenced_widgets": [
            "0d84c4e16c534f0fa2694fc5f87a3c93",
            "c45dca5ed46b441d923d140c3c3add4c",
            "9de60f6b91fe4dc58a1d507abbe6b48b",
            "a90c1362aa8543a88a74ea20f350a6de",
            "70673b599f30471bad9691e9b2375438",
            "f41effda1dff4601a5efe4dcbd6d5d5b",
            "12e55edec0914f20983bdd55f092dd5e",
            "c071180bf3524077beb1704d61280d0a",
            "eaafee924e754d408c28a76330101c3b",
            "0b7499b37ae44a04a051a2cfa1d2a02f",
            "8a554a6cf1ec49bcb12fc86d1008b5f6"
          ]
        },
        "id": "Vo3eulFWFxdM",
        "outputId": "5c1d4ab1-5fbb-453a-dcbd-bda9bb8bd1a8"
      },
      "execution_count": null,
      "outputs": [
        {
          "output_type": "stream",
          "name": "stdout",
          "text": [
            "Loading pretrained vectors...\n"
          ]
        },
        {
          "output_type": "stream",
          "name": "stderr",
          "text": [
            "/usr/local/lib/python3.7/dist-packages/ipykernel_launcher.py:25: TqdmDeprecationWarning: This function will be removed in tqdm==5.0.0\n",
            "Please use `tqdm.notebook.tqdm` instead of `tqdm.tqdm_notebook`\n"
          ]
        },
        {
          "output_type": "display_data",
          "data": {
            "text/plain": [
              "0it [00:00, ?it/s]"
            ],
            "application/vnd.jupyter.widget-view+json": {
              "version_major": 2,
              "version_minor": 0,
              "model_id": "0d84c4e16c534f0fa2694fc5f87a3c93"
            }
          },
          "metadata": {}
        },
        {
          "output_type": "stream",
          "name": "stdout",
          "text": [
            "There are 34022 / 39720 pretrained vectors found.\n"
          ]
        }
      ]
    },
    {
      "cell_type": "markdown",
      "source": [
        "Glove"
      ],
      "metadata": {
        "id": "my90lYB3FxkQ"
      }
    },
    {
      "cell_type": "code",
      "source": [
        "#Globe /content/drive/MyDrive/T3/glove-sbwc.i25.vec\n",
        "embeddings_Glove = load_pretrained_vectors(word2idx, \"/content/drive/MyDrive/T3/glove-sbwc.i25.vec\")\n",
        "embeddings_Glove = torch.tensor(embeddings_Glove)"
      ],
      "metadata": {
        "colab": {
          "base_uri": "https://localhost:8080/",
          "height": 138,
          "referenced_widgets": [
            "990003993eb94c82b0b53dad8ee02fbd",
            "fe174881eea44cb58dda17f5774695b3",
            "d2aaae9b31d64299ae97cbc856af1526",
            "939426c993e14ec7a4f0c2592e7b1e41",
            "3dcce140e69f47c2ab6ef144bd7cf552",
            "73c7484e017c42c4a5e48932795d01e4",
            "fdd539a3796a48a8909615f05089dfe1",
            "cd2895150d944b7cbcc2d3e27f872a51",
            "8ffcc1f8c57c4f7c89e23b7c74984da6",
            "0ebd9344f4744ed8b75191a30df7371a",
            "895753c5bc9d4b42b1516c011639c6b8"
          ]
        },
        "id": "cJgTlmINFy3G",
        "outputId": "a893375a-f7b7-495d-8523-dabd3cd7038c"
      },
      "execution_count": null,
      "outputs": [
        {
          "output_type": "stream",
          "name": "stdout",
          "text": [
            "Loading pretrained vectors...\n"
          ]
        },
        {
          "output_type": "stream",
          "name": "stderr",
          "text": [
            "/usr/local/lib/python3.7/dist-packages/ipykernel_launcher.py:25: TqdmDeprecationWarning: This function will be removed in tqdm==5.0.0\n",
            "Please use `tqdm.notebook.tqdm` instead of `tqdm.tqdm_notebook`\n"
          ]
        },
        {
          "output_type": "display_data",
          "data": {
            "text/plain": [
              "0it [00:00, ?it/s]"
            ],
            "application/vnd.jupyter.widget-view+json": {
              "version_major": 2,
              "version_minor": 0,
              "model_id": "990003993eb94c82b0b53dad8ee02fbd"
            }
          },
          "metadata": {}
        },
        {
          "output_type": "stream",
          "name": "stdout",
          "text": [
            "There are 34952 / 39720 pretrained vectors found.\n"
          ]
        }
      ]
    },
    {
      "cell_type": "markdown",
      "source": [
        "##Paso 1:Construcción de la CNN para la clasificación de la clase de producto\n",
        "Usaremos la misma que para el problema 2 ajustada a que ahora son 7 clases (1 para cada tipo de producto)"
      ],
      "metadata": {
        "id": "lE4DZwcNGptU"
      }
    },
    {
      "cell_type": "code",
      "source": [
        "class CNN_NLP(nn.Module):\n",
        "    \"\"\"An 1D Convulational Neural Network for Sentence Classification.\"\"\"\n",
        "    def __init__(self,\n",
        "                 pretrained_embedding=None,\n",
        "                 freeze_embedding=False,\n",
        "                 vocab_size=None,\n",
        "                 embed_dim=300,\n",
        "                 filter_sizes=[3, 4, 5],\n",
        "                 num_filters=[100, 100, 100],\n",
        "                 num_classes=7,\n",
        "                 dropout=0.5):\n",
        "        \"\"\"\n",
        "        The constructor for CNN_NLP class.\n",
        "\n",
        "        Args:\n",
        "            pretrained_embedding (torch.Tensor): Pretrained embeddings with\n",
        "                shape (vocab_size, embed_dim)\n",
        "            freeze_embedding (bool): Set to False to fine-tune pretraiend\n",
        "                vectors. Default: False\n",
        "            vocab_size (int): Need to be specified when not pretrained word\n",
        "                embeddings are not used.\n",
        "            embed_dim (int): Dimension of word vectors. Need to be specified\n",
        "                when pretrained word embeddings are not used. Default: 300\n",
        "            filter_sizes (List[int]): List of filter sizes. Default: [3, 4, 5]\n",
        "            num_filters (List[int]): List of number of filters, has the same\n",
        "                length as `filter_sizes`. Default: [100, 100, 100]\n",
        "            n_classes (int): Number of classes. Default: 2\n",
        "            dropout (float): Dropout rate. Default: 0.5\n",
        "        \"\"\"\n",
        "\n",
        "        super(CNN_NLP, self).__init__()\n",
        "        # Embedding layer\n",
        "        if pretrained_embedding is not None:\n",
        "            self.vocab_size, self.embed_dim = pretrained_embedding.shape\n",
        "            self.embedding = nn.Embedding.from_pretrained(pretrained_embedding,\n",
        "                                                          freeze=freeze_embedding)\n",
        "        else:\n",
        "            self.embed_dim = embed_dim\n",
        "            self.embedding = nn.Embedding(num_embeddings=vocab_size,\n",
        "                                          embedding_dim=self.embed_dim,\n",
        "                                          padding_idx=0,\n",
        "                                          max_norm=5.0)\n",
        "        # Conv Network\n",
        "        self.conv1d_list = nn.ModuleList([\n",
        "            nn.Conv1d(in_channels=self.embed_dim,\n",
        "                      out_channels=num_filters[i],\n",
        "                      kernel_size=filter_sizes[i])\n",
        "            for i in range(len(filter_sizes))\n",
        "        ])\n",
        "        # Fully-connected layer and Dropout\n",
        "        self.fc = nn.Linear(np.sum(num_filters), num_classes)\n",
        "        #self.fc = nn.Linear(num_classes, num_classes)\n",
        "        self.dropout = nn.Dropout(p=dropout)\n",
        "\n",
        "    def forward(self, input_ids):\n",
        "        \"\"\"Perform a forward pass through the network.\n",
        "\n",
        "        Args:\n",
        "            input_ids (torch.Tensor): A tensor of token ids with shape\n",
        "                (batch_size, max_sent_length)\n",
        "\n",
        "        Returns:\n",
        "            logits (torch.Tensor): Output logits with shape (batch_size,\n",
        "                n_classes)\n",
        "        \"\"\"\n",
        "\n",
        "        # Get embeddings from `input_ids`. Output shape: (b, max_len, embed_dim)\n",
        "        x_embed = self.embedding(input_ids).float()\n",
        "\n",
        "        # Permute `x_embed` to match input shape requirement of `nn.Conv1d`.\n",
        "        # Output shape: (b, embed_dim, max_len)\n",
        "        x_reshaped = x_embed.permute(0, 2, 1)\n",
        "\n",
        "        # Apply CNN and ReLU. Output shape: (b, num_filters[i], L_out)\n",
        "        x_conv_list = [F.relu(conv1d(x_reshaped)) for conv1d in self.conv1d_list]\n",
        "\n",
        "        # Max pooling. Output shape: (b, num_filters[i], 1)\n",
        "        x_pool_list = [F.max_pool1d(x_conv, kernel_size=x_conv.shape[2])\n",
        "            for x_conv in x_conv_list]\n",
        "\n",
        "        # Concatenate x_pool_list to feed the fully connected layer.\n",
        "        # Output shape: (b, sum(num_filters))\n",
        "        x_fc = torch.cat([x_pool.squeeze(dim=2) for x_pool in x_pool_list],\n",
        "                         dim=1)\n",
        "\n",
        "        # Compute logits. Output shape: (b, n_classes)\n",
        "        logits = self.fc(self.dropout(x_fc))\n",
        "\n",
        "        return logits"
      ],
      "metadata": {
        "id": "0_tKA95EH4OG"
      },
      "execution_count": null,
      "outputs": []
    },
    {
      "cell_type": "code",
      "source": [
        "def initilize_model(pretrained_embedding=None,\n",
        "                    freeze_embedding=False,\n",
        "                    vocab_size=None,\n",
        "                    embed_dim=300,\n",
        "                    filter_sizes=[3, 4, 5],\n",
        "                    num_filters=[100, 100, 100],\n",
        "                    num_classes=7,\n",
        "                    dropout=0.5,\n",
        "                    learning_rate=0.01):\n",
        "    \"\"\"Instantiate a CNN model and an optimizer.\"\"\"\n",
        "\n",
        "    assert (len(filter_sizes) == len(num_filters)), \"filter_sizes and \\\n",
        "    num_filters need to be of the same length.\"\n",
        "\n",
        "    # Instantiate CNN model\n",
        "    cnn_model = CNN_NLP(pretrained_embedding=pretrained_embedding,\n",
        "                        freeze_embedding=freeze_embedding,\n",
        "                        vocab_size=vocab_size,\n",
        "                        embed_dim=embed_dim,\n",
        "                        filter_sizes=filter_sizes,\n",
        "                        num_filters=num_filters,\n",
        "                        num_classes=7,\n",
        "                        dropout=0.5)\n",
        "\n",
        "    # Send model to `device` (GPU/CPU)\n",
        "    cnn_model.to(device)\n",
        "\n",
        "    # Instantiate Adadelta optimizer\n",
        "    optimizer = optim.Adadelta(cnn_model.parameters(),\n",
        "                               lr=learning_rate,\n",
        "                               rho=0.95)\n",
        "\n",
        "    return cnn_model, optimizer"
      ],
      "metadata": {
        "id": "f7iSP4eoH_IZ"
      },
      "execution_count": null,
      "outputs": []
    },
    {
      "cell_type": "code",
      "source": [
        "# Specify loss function\n",
        "loss_fn = nn.CrossEntropyLoss()\n",
        "\n",
        "def set_seed(seed_value=42):\n",
        "    \"\"\"Set seed for reproducibility.\"\"\"\n",
        "\n",
        "    random.seed(seed_value)\n",
        "    np.random.seed(seed_value)\n",
        "    torch.manual_seed(seed_value)\n",
        "    torch.cuda.manual_seed_all(seed_value)\n",
        "\n",
        "def train(model, optimizer, train_dataloader, val_dataloader=None, epochs=20):\n",
        "    \"\"\"Train the CNN model.\"\"\"\n",
        "\n",
        "    # Tracking best validation accuracy\n",
        "    best_accuracy = 0\n",
        "\n",
        "    # Start training loop\n",
        "    print(\"Start training...\\n\")\n",
        "    print(f\"{'Epoch':^7} | {'Train Loss':^12} | {'Val Loss':^10} | {'Val Acc':^9} | {'Elapsed':^9}\")\n",
        "    print(\"-\"*60)\n",
        "\n",
        "    for epoch_i in range(epochs):\n",
        "        # =======================================\n",
        "        #               Training\n",
        "        # =======================================\n",
        "\n",
        "        # Tracking time and loss\n",
        "        t0_epoch = time.time()\n",
        "        total_loss = 0\n",
        "\n",
        "        # Put the model into the training mode\n",
        "        model.train()\n",
        "\n",
        "        for step, batch in enumerate(train_dataloader):\n",
        "            # Load batch to GPU\n",
        "            b_input_ids, b_labels = tuple(t.to(device) for t in batch)\n",
        "\n",
        "            # Zero out any previously calculated gradients\n",
        "            model.zero_grad()\n",
        "\n",
        "            # Perform a forward pass. This will return logits.\n",
        "            logits = model(b_input_ids)\n",
        "\n",
        "            # Compute loss and accumulate the loss values\n",
        "            loss = loss_fn(logits, b_labels)\n",
        "            total_loss += loss.item()\n",
        "\n",
        "            # Perform a backward pass to calculate gradients\n",
        "            loss.backward()\n",
        "\n",
        "            # Update parameters\n",
        "            optimizer.step()\n",
        "\n",
        "        # Calculate the average loss over the entire training data\n",
        "        avg_train_loss = total_loss / len(train_dataloader)\n",
        "\n",
        "        # =======================================\n",
        "        #               Evaluation\n",
        "        # =======================================\n",
        "        if val_dataloader is not None:\n",
        "            # After the completion of each training epoch, measure the model's\n",
        "            # performance on our validation set.\n",
        "            val_loss, val_accuracy = evaluate(model, val_dataloader)\n",
        "\n",
        "            # Track the best accuracy\n",
        "            if val_accuracy > best_accuracy:\n",
        "                best_accuracy = val_accuracy\n",
        "\n",
        "            # Print performance over the entire training data\n",
        "            time_elapsed = time.time() - t0_epoch\n",
        "            print(f\"{epoch_i + 1:^7} | {avg_train_loss:^12.6f} | {val_loss:^10.6f} | {val_accuracy:^9.2f} | {time_elapsed:^9.2f}\")\n",
        "\n",
        "    print(\"\\n\")\n",
        "    print(f\"Training complete! Best accuracy: {best_accuracy:.2f}%.\")\n",
        "\n",
        "def evaluate(model, val_dataloader):\n",
        "    \"\"\"After the completion of each training epoch, measure the model's\n",
        "    performance on our validation set.\n",
        "    \"\"\"\n",
        "    # Put the model into the evaluation mode. The dropout layers are disabled\n",
        "    # during the test time.\n",
        "    model.eval()\n",
        "\n",
        "    # Tracking variables\n",
        "    val_accuracy = []\n",
        "    val_loss = []\n",
        "\n",
        "    # For each batch in our validation set...\n",
        "    for batch in val_dataloader:\n",
        "        # Load batch to GPU\n",
        "        b_input_ids, b_labels = tuple(t.to(device) for t in batch)\n",
        "\n",
        "        # Compute logits\n",
        "        with torch.no_grad():\n",
        "            logits = model(b_input_ids)\n",
        "\n",
        "        # Compute loss\n",
        "        loss = loss_fn(logits, b_labels)\n",
        "        val_loss.append(loss.item())\n",
        "\n",
        "        # Get the predictions\n",
        "        preds = torch.argmax(logits, dim=1).flatten()\n",
        "\n",
        "        # Calculate the accuracy rate\n",
        "        accuracy = (preds == b_labels).cpu().numpy().mean() * 100\n",
        "        val_accuracy.append(accuracy)\n",
        "\n",
        "    # Compute the average accuracy and loss over the validation set.\n",
        "    val_loss = np.mean(val_loss)\n",
        "    val_accuracy = np.mean(val_accuracy)\n",
        "\n",
        "    return val_loss, val_accuracy"
      ],
      "metadata": {
        "id": "aSl5oLxDICfq"
      },
      "execution_count": null,
      "outputs": []
    },
    {
      "cell_type": "markdown",
      "source": [
        "##Paso 2: Entrenamiento (Caso Categoria)"
      ],
      "metadata": {
        "id": "R4b_EI0nG7Yr"
      }
    },
    {
      "cell_type": "code",
      "source": [
        "if torch.cuda.is_available():\n",
        "    device = torch.device(\"cuda\")\n",
        "    print(f'There are {torch.cuda.device_count()} GPU(s) available.')\n",
        "    print('Device name:', torch.cuda.get_device_name(0))\n",
        "\n",
        "else:\n",
        "    print('No GPU available, using the CPU instead.')\n",
        "    device = torch.device(\"cpu\")\n",
        "\n",
        "#device = torch.device(\"cpu\")"
      ],
      "metadata": {
        "colab": {
          "base_uri": "https://localhost:8080/"
        },
        "id": "SdjAgtiSG7-p",
        "outputId": "cd492889-d3d8-4b52-835c-cde792a3f5b6"
      },
      "execution_count": null,
      "outputs": [
        {
          "output_type": "stream",
          "name": "stdout",
          "text": [
            "There are 1 GPU(s) available.\n",
            "Device name: Tesla T4\n"
          ]
        }
      ]
    },
    {
      "cell_type": "markdown",
      "source": [
        "#### Modelo sin transfer Learning"
      ],
      "metadata": {
        "id": "vDKOHpfYILmq"
      }
    },
    {
      "cell_type": "code",
      "source": [
        "set_seed(42)\n",
        "mod1, optimizer = initilize_model(vocab_size=len(word2idx),\n",
        "                                      embed_dim=300,\n",
        "                                      learning_rate=0.25,\n",
        "                                      dropout=0.5)\n",
        "train(mod1, optimizer, train_dataloader, val_dataloader, epochs=20)"
      ],
      "metadata": {
        "id": "bwYVMLaeIOuk",
        "outputId": "6afb1407-af17-4644-b6cb-d60d401958e2",
        "colab": {
          "base_uri": "https://localhost:8080/"
        }
      },
      "execution_count": null,
      "outputs": [
        {
          "output_type": "stream",
          "name": "stdout",
          "text": [
            "Start training...\n",
            "\n",
            " Epoch  |  Train Loss  |  Val Loss  |  Val Acc  |  Elapsed \n",
            "------------------------------------------------------------\n",
            "   1    |   1.683589   |  1.550029  |   43.45   |   34.22  \n",
            "   2    |   1.520343   |  1.474492  |   45.89   |   34.15  \n",
            "   3    |   1.427103   |  1.440490  |   47.43   |   33.90  \n",
            "   4    |   1.354967   |  1.432558  |   47.52   |   33.91  \n",
            "   5    |   1.290863   |  1.435700  |   47.39   |   33.90  \n",
            "   6    |   1.227921   |  1.429550  |   47.85   |   33.85  \n",
            "   7    |   1.171367   |  1.448346  |   47.92   |   33.85  \n",
            "   8    |   1.121909   |  1.465011  |   47.90   |   33.95  \n",
            "   9    |   1.068376   |  1.485001  |   47.83   |   33.87  \n",
            "  10    |   1.021372   |  1.505120  |   47.71   |   33.86  \n",
            "  11    |   0.977672   |  1.531458  |   47.47   |   33.87  \n",
            "  12    |   0.940607   |  1.564815  |   47.28   |   33.85  \n",
            "  13    |   0.908345   |  1.590507  |   46.97   |   33.94  \n",
            "  14    |   0.870148   |  1.629059  |   47.64   |   33.86  \n",
            "  15    |   0.835280   |  1.655182  |   47.13   |   34.90  \n",
            "  16    |   0.809296   |  1.684517  |   47.36   |   33.86  \n",
            "  17    |   0.777599   |  1.715543  |   46.96   |   34.64  \n",
            "  18    |   0.749573   |  1.748941  |   47.21   |   34.96  \n",
            "  19    |   0.725948   |  1.776674  |   46.86   |   34.54  \n",
            "  20    |   0.708602   |  1.818941  |   47.20   |   34.24  \n",
            "\n",
            "\n",
            "Training complete! Best accuracy: 47.92%.\n"
          ]
        }
      ]
    },
    {
      "cell_type": "markdown",
      "source": [
        "#### Modelos con FastText"
      ],
      "metadata": {
        "id": "9dld93G0IYPR"
      }
    },
    {
      "cell_type": "markdown",
      "source": [
        "##### Modelo basado en transfer learning con FastText descongelado"
      ],
      "metadata": {
        "id": "DIL6jaoxIa-_"
      }
    },
    {
      "cell_type": "code",
      "source": [
        "# CNN-non-static: fastText pretrained word vectors are fine-tuned during training. SGD optmin\n",
        "set_seed(42)\n",
        "cnn_FT_descongelado, optimizer = initilize_model(pretrained_embedding=embeddings_FastText,\n",
        "                                            freeze_embedding=False,\n",
        "                                            learning_rate=0.25,\n",
        "                                            dropout=0.5)\n",
        "train(cnn_FT_descongelado, optimizer, train_dataloader, val_dataloader, epochs=20)"
      ],
      "metadata": {
        "id": "EgUE0kTaIY0O",
        "outputId": "9b813163-4ff4-48a8-fc4d-e8e3e1582ac0",
        "colab": {
          "base_uri": "https://localhost:8080/"
        }
      },
      "execution_count": null,
      "outputs": [
        {
          "output_type": "stream",
          "name": "stdout",
          "text": [
            "Start training...\n",
            "\n",
            " Epoch  |  Train Loss  |  Val Loss  |  Val Acc  |  Elapsed \n",
            "------------------------------------------------------------\n",
            "   1    |   1.489796   |  1.353129  |   50.21   |   52.75  \n",
            "   2    |   1.347378   |  1.317835  |   52.00   |   52.60  \n",
            "   3    |   1.293227   |  1.305331  |   53.06   |   52.69  \n",
            "   4    |   1.245737   |  1.297544  |   53.63   |   52.56  \n",
            "   5    |   1.200843   |  1.298299  |   53.27   |   53.44  \n",
            "   6    |   1.157375   |  1.307080  |   53.10   |   52.64  \n",
            "   7    |   1.113655   |  1.329693  |   52.77   |   52.58  \n",
            "   8    |   1.071802   |  1.353212  |   52.52   |   53.37  \n",
            "   9    |   1.028682   |  1.367087  |   52.58   |   53.66  \n",
            "  10    |   0.987571   |  1.401631  |   52.24   |   52.74  \n",
            "  11    |   0.948181   |  1.403521  |   52.09   |   52.82  \n",
            "  12    |   0.911400   |  1.437350  |   52.20   |   53.16  \n",
            "  13    |   0.872009   |  1.466445  |   51.72   |   52.62  \n",
            "  14    |   0.835259   |  1.516142  |   51.77   |   52.82  \n",
            "  15    |   0.803917   |  1.525857  |   51.74   |   53.20  \n",
            "  16    |   0.773915   |  1.576742  |   51.93   |   52.75  \n",
            "  17    |   0.745256   |  1.579754  |   51.23   |   53.15  \n",
            "  18    |   0.720278   |  1.630034  |   50.73   |   52.92  \n",
            "  19    |   0.697232   |  1.665644  |   50.67   |   52.77  \n",
            "  20    |   0.672509   |  1.692695  |   50.89   |   53.46  \n",
            "\n",
            "\n",
            "Training complete! Best accuracy: 53.63%.\n"
          ]
        }
      ]
    },
    {
      "cell_type": "markdown",
      "source": [
        "##### Modelo basado en transfer learning con FastText congelado"
      ],
      "metadata": {
        "id": "1JchiciVItew"
      }
    },
    {
      "cell_type": "code",
      "source": [
        "# CNN-non-static: fastText pretrained word vectors are fine-tuned during training. SGD optmin\n",
        "set_seed(42)\n",
        "cnn_FT_congelado, optimizer = initilize_model(pretrained_embedding=embeddings_FastText,\n",
        "                                            freeze_embedding=True,\n",
        "                                            learning_rate=0.25,\n",
        "                                            dropout=0.5)\n",
        "train(cnn_FT_congelado, optimizer, train_dataloader, val_dataloader, epochs=20)"
      ],
      "metadata": {
        "id": "yB4ga6sCIuoF",
        "outputId": "fd30a811-a228-4f02-8a4f-905ad5f17556",
        "colab": {
          "base_uri": "https://localhost:8080/"
        }
      },
      "execution_count": null,
      "outputs": [
        {
          "output_type": "stream",
          "name": "stdout",
          "text": [
            "Start training...\n",
            "\n",
            " Epoch  |  Train Loss  |  Val Loss  |  Val Acc  |  Elapsed \n",
            "------------------------------------------------------------\n",
            "   1    |   1.497985   |  1.363812  |   49.81   |   17.19  \n",
            "   2    |   1.366226   |  1.336086  |   51.47   |   17.38  \n",
            "   3    |   1.317418   |  1.320857  |   52.48   |   18.21  \n",
            "   4    |   1.276891   |  1.317252  |   52.76   |   17.72  \n",
            "   5    |   1.240366   |  1.315651  |   52.34   |   17.26  \n",
            "   6    |   1.204118   |  1.317265  |   52.23   |   17.74  \n",
            "   7    |   1.170544   |  1.333147  |   52.06   |   17.26  \n",
            "   8    |   1.138870   |  1.358926  |   51.70   |   18.09  \n",
            "   9    |   1.105635   |  1.350747  |   52.14   |   17.70  \n",
            "  10    |   1.080070   |  1.382589  |   51.50   |   17.12  \n",
            "  11    |   1.049613   |  1.383634  |   51.53   |   17.14  \n",
            "  12    |   1.026519   |  1.391278  |   51.62   |   17.23  \n",
            "  13    |   0.999112   |  1.413392  |   51.15   |   17.15  \n",
            "  14    |   0.977150   |  1.432000  |   51.72   |   17.12  \n",
            "  15    |   0.957232   |  1.445886  |   50.95   |   17.14  \n",
            "  16    |   0.934374   |  1.463557  |   50.67   |   17.52  \n",
            "  17    |   0.918976   |  1.463867  |   50.50   |   17.72  \n",
            "  18    |   0.901000   |  1.489234  |   50.20   |   17.21  \n",
            "  19    |   0.886620   |  1.512569  |   50.25   |   17.16  \n",
            "  20    |   0.876577   |  1.515646  |   50.33   |   17.17  \n",
            "\n",
            "\n",
            "Training complete! Best accuracy: 52.76%.\n"
          ]
        }
      ]
    },
    {
      "cell_type": "markdown",
      "source": [
        "#### Modelos con Word2Vec"
      ],
      "metadata": {
        "id": "fhGhQYlXIxIg"
      }
    },
    {
      "cell_type": "markdown",
      "source": [
        "##### Modelo basado en transfer learning con Word2Vec descongelado"
      ],
      "metadata": {
        "id": "dlQdCJBCI0M0"
      }
    },
    {
      "cell_type": "code",
      "source": [
        "# CNN-non-static: fastText pretrained word vectors are fine-tuned during training. SGD optmin\n",
        "set_seed(42)\n",
        "cnn_W2V_descongelado, optimizer = initilize_model(pretrained_embedding=embeddings_Word2Vec,\n",
        "                                            freeze_embedding=False,\n",
        "                                            learning_rate=0.25,\n",
        "                                            dropout=0.5)\n",
        "train(cnn_W2V_descongelado, optimizer, train_dataloader, val_dataloader, epochs=20)"
      ],
      "metadata": {
        "id": "D9o8tGYyI0lj",
        "outputId": "cb14c6fa-465d-41da-9c32-27f8a04451af",
        "colab": {
          "base_uri": "https://localhost:8080/"
        }
      },
      "execution_count": null,
      "outputs": [
        {
          "output_type": "stream",
          "name": "stdout",
          "text": [
            "Start training...\n",
            "\n",
            " Epoch  |  Train Loss  |  Val Loss  |  Val Acc  |  Elapsed \n",
            "------------------------------------------------------------\n",
            "   1    |   1.607792   |  1.404050  |   47.96   |   52.91  \n",
            "   2    |   1.367683   |  1.319167  |   52.25   |   53.56  \n",
            "   3    |   1.290830   |  1.297321  |   53.47   |   53.54  \n",
            "   4    |   1.237949   |  1.285376  |   53.81   |   52.86  \n",
            "   5    |   1.190611   |  1.285216  |   53.78   |   53.00  \n",
            "   6    |   1.140240   |  1.293556  |   53.42   |   53.25  \n",
            "   7    |   1.093983   |  1.311747  |   53.54   |   54.99  \n",
            "   8    |   1.041793   |  1.339196  |   53.34   |   53.35  \n",
            "   9    |   0.988394   |  1.362999  |   53.25   |   53.82  \n",
            "  10    |   0.933957   |  1.404219  |   52.42   |   54.98  \n",
            "  11    |   0.880385   |  1.429629  |   51.73   |   52.93  \n",
            "  12    |   0.825822   |  1.471549  |   52.01   |   53.07  \n",
            "  13    |   0.772662   |  1.522648  |   51.25   |   53.64  \n",
            "  14    |   0.723590   |  1.584957  |   51.56   |   53.40  \n",
            "  15    |   0.678406   |  1.622022  |   51.00   |   54.16  \n",
            "  16    |   0.633061   |  1.667530  |   50.57   |   54.05  \n",
            "  17    |   0.596642   |  1.723449  |   50.61   |   53.80  \n",
            "  18    |   0.561363   |  1.776725  |   50.17   |   52.82  \n",
            "  19    |   0.533467   |  1.814988  |   50.06   |   52.86  \n",
            "  20    |   0.504589   |  1.860333  |   50.13   |   52.73  \n",
            "\n",
            "\n",
            "Training complete! Best accuracy: 53.81%.\n"
          ]
        }
      ]
    },
    {
      "cell_type": "markdown",
      "source": [
        "##### Modelo basado en transfer learning con Word2Vec congelado"
      ],
      "metadata": {
        "id": "oWKsStrXI0uC"
      }
    },
    {
      "cell_type": "code",
      "source": [
        "# CNN-non-static: fastText pretrained word vectors are fine-tuned during training. SGD optmin\n",
        "set_seed(42)\n",
        "cnn_W2V_congelado, optimizer = initilize_model(pretrained_embedding=embeddings_Word2Vec,\n",
        "                                            freeze_embedding=True,\n",
        "                                            learning_rate=0.25,\n",
        "                                            dropout=0.5)\n",
        "train(cnn_W2V_congelado, optimizer, train_dataloader, val_dataloader, epochs=20)"
      ],
      "metadata": {
        "id": "DrHspMESI007"
      },
      "execution_count": null,
      "outputs": []
    },
    {
      "cell_type": "markdown",
      "source": [
        "#### Modelos con Glove"
      ],
      "metadata": {
        "id": "b8vHLZy1I074"
      }
    },
    {
      "cell_type": "markdown",
      "source": [
        "##### Modelo basado en transfer learning con Glove descongelado"
      ],
      "metadata": {
        "id": "Qmxa9LYmJAMx"
      }
    },
    {
      "cell_type": "code",
      "source": [
        "set_seed(42)\n",
        "cnn_Glove_descongelado, optimizer = initilize_model(pretrained_embedding=embeddings_Glove,\n",
        "                                            freeze_embedding=False,\n",
        "                                            learning_rate=0.25,\n",
        "                                            dropout=0.5)\n",
        "train(cnn_Glove_descongelado, optimizer, train_dataloader, val_dataloader, epochs=20)"
      ],
      "metadata": {
        "id": "aF8xc1zBJA2e"
      },
      "execution_count": null,
      "outputs": []
    },
    {
      "cell_type": "markdown",
      "source": [
        "##### Modelo basado en transfer learning con Glove congelado"
      ],
      "metadata": {
        "id": "DRGD0eMvJA_H"
      }
    },
    {
      "cell_type": "code",
      "source": [
        "set_seed(42)\n",
        "cnn_Glove_congelado, optimizer = initilize_model(pretrained_embedding=embeddings_Glove,\n",
        "                                            freeze_embedding=True,\n",
        "                                            learning_rate=0.25,\n",
        "                                            dropout=0.5)\n",
        "train(cnn_Glove_congelado, optimizer, train_dataloader, val_dataloader, epochs=20)"
      ],
      "metadata": {
        "id": "hQA9IzpKJBE_"
      },
      "execution_count": null,
      "outputs": []
    },
    {
      "cell_type": "markdown",
      "source": [
        "## Paso 3: Evaluación de los mejores modelos"
      ],
      "metadata": {
        "id": "7EXFHuIJJBMk"
      }
    },
    {
      "cell_type": "markdown",
      "source": [
        "Se obtuvo un resultado similar (en lo que el mejor modelo) fue FastText con la capa de embeddings descongelada. Una observación importante es la siguiente.\n",
        "\n",
        "Para esta etapa, unicamente haremos la inferencia sobre el modelo sin tansfer learning y con FastText descongelado. Para el analisis de sentimiento ya solo vamos a ejecutar el entrenamiento sobre el modelo sin transfer learning y las variantes de FastText congelada y no."
      ],
      "metadata": {
        "id": "UxE9xiCcP5d8"
      }
    },
    {
      "cell_type": "markdown",
      "source": [
        "#### Selección de las reviews de interes"
      ],
      "metadata": {
        "id": "q7HDt2GUR9Fh"
      }
    },
    {
      "cell_type": "code",
      "source": [
        "test1=test[test['product_category']=='home']\n",
        "test2=test[test['product_category']=='wireless']\n",
        "test3=test[test['product_category']=='toy']\n",
        "test4=test[test['product_category']=='sports']\n",
        "test5=test[test['product_category']=='pc']\n",
        "test6=test[test['product_category']=='home_improvement']\n",
        "test7=test[test['product_category']=='electronics']\n",
        "\n",
        "testing=list(test1['review_body'])+list(test2['review_body'])+list(test3['review_body'])+list(test4['review_body'])+list(test5['review_body'])+list(test6['review_body'])+list(test7['review_body'])\n",
        "ytest=list(test1['product_category'])+list(test2['product_category'])+list(test3['product_category'])+list(test4['product_category'])+list(test5['product_category'])+list(test6['product_category'])+list(test7['product_category'])\n"
      ],
      "metadata": {
        "id": "uuz0b5zGSJ26"
      },
      "execution_count": null,
      "outputs": []
    },
    {
      "cell_type": "markdown",
      "source": [
        "#### Preprocesamos las reviews de test"
      ],
      "metadata": {
        "id": "16wblSqGSa5p"
      }
    },
    {
      "cell_type": "code",
      "source": [
        "final_corpus_test = [preprocess_text(document) for document in testing if document.strip() !='']\n"
      ],
      "metadata": {
        "id": "6bMaJAxCSbfK"
      },
      "execution_count": null,
      "outputs": []
    },
    {
      "cell_type": "markdown",
      "source": [
        "##### Predicciones del modelo s/Transfer Learning"
      ],
      "metadata": {
        "id": "xz3WPtB4Ttrt"
      }
    },
    {
      "cell_type": "code",
      "source": [
        "y_predict = []\n",
        "for id_text in range(len(final_corpus_test)):\n",
        "  text = final_corpus_test[id_text]\n",
        "  y_predict.append(predict(text, model = mod1.to(\"cpu\")))"
      ],
      "metadata": {
        "id": "IZvQGUy0S651"
      },
      "execution_count": null,
      "outputs": []
    },
    {
      "cell_type": "code",
      "source": [
        "for i in range(len(ytest)):\n",
        "  if(ytest[i]=='home'):\n",
        "    ytest[i]=0\n",
        "  elif(ytest[i]=='wireless'):\n",
        "    ytest[i]=1\n",
        "  elif(ytest[i]=='toy'):\n",
        "    ytest[i]=2\n",
        "  elif(ytest[i]=='sports'):\n",
        "    ytest[i]=3\n",
        "  elif(ytest[i]=='pc'):\n",
        "    ytest[i]=4\n",
        "  elif(ytest[i]=='home_improvement'):\n",
        "    ytest[i]=5\n",
        "  else:\n",
        "    ytest[i]=6"
      ],
      "metadata": {
        "id": "kT8P5dWkT2J8"
      },
      "execution_count": null,
      "outputs": []
    },
    {
      "cell_type": "markdown",
      "source": [
        "##### Evaluación del modelo s/Transfer Learning"
      ],
      "metadata": {
        "id": "yakXRJ_8Ugti"
      }
    },
    {
      "cell_type": "code",
      "source": [
        "plt.rcParams[\"figure.figsize\"] = (6,5)\n",
        "prom_svm=  metrics.confusion_matrix(ytest, y_predict)\n",
        "ax = sns.heatmap(prom_svm/np.sum(prom_svm), annot=True, fmt='0.1%', cmap='Blues')\n",
        "ax.set_xlabel('Predicción')\n",
        "ax.set_ylabel('Real ')\n",
        "plt.show()"
      ],
      "metadata": {
        "id": "zNQf2XdtTuJS",
        "outputId": "9ffcec2a-9f26-4fa0-a7ab-76799f4366a8",
        "colab": {
          "base_uri": "https://localhost:8080/",
          "height": 334
        }
      },
      "execution_count": null,
      "outputs": [
        {
          "output_type": "display_data",
          "data": {
            "text/plain": [
              "<Figure size 432x360 with 2 Axes>"
            ],
            "image/png": "[encoded data removed]"
          },
          "metadata": {
            "needs_background": "light"
          }
        }
      ]
    },
    {
      "cell_type": "code",
      "source": [
        "y_predictFTDes = []\n",
        "for id_text in range(len(final_corpus_test)):\n",
        "  text = final_corpus_test[id_text]\n",
        "  y_predictFTDes.append(predict(text, model = cnn_FT_descongelado.to(\"cpu\")))"
      ],
      "metadata": {
        "id": "dN8y0r-iTdjO"
      },
      "execution_count": null,
      "outputs": []
    },
    {
      "cell_type": "markdown",
      "source": [
        "##### Predicciones del modelo FastText"
      ],
      "metadata": {
        "id": "j2XDTDU0VRSL"
      }
    },
    {
      "cell_type": "code",
      "source": [
        "plt.rcParams[\"figure.figsize\"] = (6,5)\n",
        "prom_svm =  metrics.confusion_matrix(ytest, y_predictFTDes)\n",
        "ax = sns.heatmap(prom_svm/np.sum(prom_svm), annot=True, fmt='0.1%', cmap='Greens')\n",
        "ax.set_xlabel('Predicción')\n",
        "ax.set_ylabel('Real ')"
      ],
      "metadata": {
        "id": "njien3vzVRZP",
        "outputId": "690abbe3-19a1-40a4-dd7c-54801c09dc12",
        "colab": {
          "base_uri": "https://localhost:8080/",
          "height": 352
        }
      },
      "execution_count": null,
      "outputs": [
        {
          "output_type": "execute_result",
          "data": {
            "text/plain": [
              "Text(33.0, 0.5, 'Real ')"
            ]
          },
          "metadata": {},
          "execution_count": 193
        },
        {
          "output_type": "display_data",
          "data": {
            "text/plain": [
              "<Figure size 432x360 with 2 Axes>"
            ],
            "image/png": "[encoded data removed]"
          },
          "metadata": {
            "needs_background": "light"
          }
        }
      ]
    },
    {
      "cell_type": "markdown",
      "source": [
        "## Conclusiones"
      ],
      "metadata": {
        "id": "tGjRMX2S0SiW"
      }
    },
    {
      "cell_type": "markdown",
      "source": [
        "Aqui tenemos el problema de que son muchos más datos. Los tiepos de ejecución fueron mas altos, incluso la version Colab Pro tuvo algunos problemas de ejecución a las cuestiones de GPU.\n",
        "En terminos de la calidad de los modelos, Nuevamente FastText es el modelo de embedding que mejores resultados obutvo, algo que llamo la antención fue que los modelos de Glove tuvieron menores resultados que el modelo sin transfer learning.\n",
        "\n",
        "Aun así ningun modelo supero el 60%."
      ],
      "metadata": {
        "id": "Ad1olk7Xx3Un"
      }
    },
    {
      "cell_type": "markdown",
      "source": [
        "##  Paso 2: Entrenamiento (Caso Sentimiento)"
      ],
      "metadata": {
        "id": "95ndGyzwQXH2"
      }
    },
    {
      "cell_type": "markdown",
      "source": [
        "Aquí se repite lo del caso anterior pero con unicamente 2 categorias (de sentimiento positivo o negativo)."
      ],
      "metadata": {
        "id": "_bDnX-UXylpm"
      }
    },
    {
      "cell_type": "code",
      "source": [
        "from sklearn.model_selection import train_test_split\n",
        "\n",
        "# Train Test Split\n",
        "train_inputs, val_inputs, train_labels, val_labels = train_test_split(input_ids, labels, test_size=0.1, random_state=42)\n",
        "\n",
        "# Load data to PyTorch DataLoader\n",
        "train_dataloader, val_dataloader = data_loader(train_inputs, val_inputs, train_labels, val_labels, batch_size=50)"
      ],
      "metadata": {
        "id": "GM9r5whsQRoa"
      },
      "execution_count": null,
      "outputs": []
    },
    {
      "cell_type": "markdown",
      "source": [
        "### Construccion de la CNN"
      ],
      "metadata": {
        "id": "i8zkBovMd4og"
      }
    },
    {
      "cell_type": "code",
      "source": [
        "class CNN_NLP(nn.Module):\n",
        "    \"\"\"An 1D Convulational Neural Network for Sentence Classification.\"\"\"\n",
        "    def __init__(self,\n",
        "                 pretrained_embedding=None,\n",
        "                 freeze_embedding=False,\n",
        "                 vocab_size=None,\n",
        "                 embed_dim=300,\n",
        "                 filter_sizes=[3, 4, 5],\n",
        "                 num_filters=[100, 100, 100],\n",
        "                 num_classes=2,\n",
        "                 dropout=0.5):\n",
        "        \"\"\"\n",
        "        The constructor for CNN_NLP class.\n",
        "\n",
        "        Args:\n",
        "            pretrained_embedding (torch.Tensor): Pretrained embeddings with\n",
        "                shape (vocab_size, embed_dim)\n",
        "            freeze_embedding (bool): Set to False to fine-tune pretraiend\n",
        "                vectors. Default: False\n",
        "            vocab_size (int): Need to be specified when not pretrained word\n",
        "                embeddings are not used.\n",
        "            embed_dim (int): Dimension of word vectors. Need to be specified\n",
        "                when pretrained word embeddings are not used. Default: 300\n",
        "            filter_sizes (List[int]): List of filter sizes. Default: [3, 4, 5]\n",
        "            num_filters (List[int]): List of number of filters, has the same\n",
        "                length as `filter_sizes`. Default: [100, 100, 100]\n",
        "            n_classes (int): Number of classes. Default: 2\n",
        "            dropout (float): Dropout rate. Default: 0.5\n",
        "        \"\"\"\n",
        "\n",
        "        super(CNN_NLP, self).__init__()\n",
        "        # Embedding layer\n",
        "        if pretrained_embedding is not None:\n",
        "            self.vocab_size, self.embed_dim = pretrained_embedding.shape\n",
        "            self.embedding = nn.Embedding.from_pretrained(pretrained_embedding,\n",
        "                                                          freeze=freeze_embedding)\n",
        "        else:\n",
        "            self.embed_dim = embed_dim\n",
        "            self.embedding = nn.Embedding(num_embeddings=vocab_size,\n",
        "                                          embedding_dim=self.embed_dim,\n",
        "                                          padding_idx=0,\n",
        "                                          max_norm=5.0)\n",
        "        # Conv Network\n",
        "        self.conv1d_list = nn.ModuleList([\n",
        "            nn.Conv1d(in_channels=self.embed_dim,\n",
        "                      out_channels=num_filters[i],\n",
        "                      kernel_size=filter_sizes[i])\n",
        "            for i in range(len(filter_sizes))\n",
        "        ])\n",
        "        # Fully-connected layer and Dropout\n",
        "        self.fc = nn.Linear(np.sum(num_filters), num_classes)\n",
        "        #self.fc = nn.Linear(num_classes, num_classes)\n",
        "        self.dropout = nn.Dropout(p=dropout)\n",
        "\n",
        "    def forward(self, input_ids):\n",
        "        \"\"\"Perform a forward pass through the network.\n",
        "\n",
        "        Args:\n",
        "            input_ids (torch.Tensor): A tensor of token ids with shape\n",
        "                (batch_size, max_sent_length)\n",
        "\n",
        "        Returns:\n",
        "            logits (torch.Tensor): Output logits with shape (batch_size,\n",
        "                n_classes)\n",
        "        \"\"\"\n",
        "\n",
        "        # Get embeddings from `input_ids`. Output shape: (b, max_len, embed_dim)\n",
        "        x_embed = self.embedding(input_ids).float()\n",
        "\n",
        "        # Permute `x_embed` to match input shape requirement of `nn.Conv1d`.\n",
        "        # Output shape: (b, embed_dim, max_len)\n",
        "        x_reshaped = x_embed.permute(0, 2, 1)\n",
        "\n",
        "        # Apply CNN and ReLU. Output shape: (b, num_filters[i], L_out)\n",
        "        x_conv_list = [F.relu(conv1d(x_reshaped)) for conv1d in self.conv1d_list]\n",
        "\n",
        "        # Max pooling. Output shape: (b, num_filters[i], 1)\n",
        "        x_pool_list = [F.max_pool1d(x_conv, kernel_size=x_conv.shape[2])\n",
        "            for x_conv in x_conv_list]\n",
        "\n",
        "        # Concatenate x_pool_list to feed the fully connected layer.\n",
        "        # Output shape: (b, sum(num_filters))\n",
        "        x_fc = torch.cat([x_pool.squeeze(dim=2) for x_pool in x_pool_list],\n",
        "                         dim=1)\n",
        "\n",
        "        # Compute logits. Output shape: (b, n_classes)\n",
        "        logits = self.fc(self.dropout(x_fc))\n",
        "\n",
        "        return logits"
      ],
      "metadata": {
        "id": "pyJ1wfJvd7fa"
      },
      "execution_count": null,
      "outputs": []
    },
    {
      "cell_type": "code",
      "source": [
        "def initilize_model(pretrained_embedding=None,\n",
        "                    freeze_embedding=False,\n",
        "                    vocab_size=None,\n",
        "                    embed_dim=300,\n",
        "                    filter_sizes=[3, 4, 5],\n",
        "                    num_filters=[100, 100, 100],\n",
        "                    num_classes=2,\n",
        "                    dropout=0.5,\n",
        "                    learning_rate=0.01):\n",
        "    \"\"\"Instantiate a CNN model and an optimizer.\"\"\"\n",
        "\n",
        "    assert (len(filter_sizes) == len(num_filters)), \"filter_sizes and \\\n",
        "    num_filters need to be of the same length.\"\n",
        "\n",
        "    # Instantiate CNN model\n",
        "    cnn_model = CNN_NLP(pretrained_embedding=pretrained_embedding,\n",
        "                        freeze_embedding=freeze_embedding,\n",
        "                        vocab_size=vocab_size,\n",
        "                        embed_dim=embed_dim,\n",
        "                        filter_sizes=filter_sizes,\n",
        "                        num_filters=num_filters,\n",
        "                        num_classes=2,\n",
        "                        dropout=0.5)\n",
        "\n",
        "    # Send model to `device` (GPU/CPU)\n",
        "    cnn_model.to(device)\n",
        "\n",
        "    # Instantiate Adadelta optimizer\n",
        "    optimizer = optim.Adadelta(cnn_model.parameters(),\n",
        "                               lr=learning_rate,\n",
        "                               rho=0.95)\n",
        "\n",
        "    return cnn_model, optimizer"
      ],
      "metadata": {
        "id": "JAqEpmnhjX2Y"
      },
      "execution_count": null,
      "outputs": []
    },
    {
      "cell_type": "markdown",
      "source": [
        "### Evaluación del modelo"
      ],
      "metadata": {
        "id": "lndGRhRzjnNH"
      }
    },
    {
      "cell_type": "markdown",
      "source": [
        "Como hemos tenido buenos resultados con FastText, es el unico modelo de transfer learning que tome a consideración ademas del modelo sin TL."
      ],
      "metadata": {
        "id": "X9H6rdQvy7Wd"
      }
    },
    {
      "cell_type": "markdown",
      "source": [
        "#### Modelo sin transfer Learning"
      ],
      "metadata": {
        "id": "ThCijyV7kPYU"
      }
    },
    {
      "cell_type": "code",
      "source": [
        "set_seed(42)\n",
        "mod1, optimizer = initilize_model(vocab_size=len(word2idx),\n",
        "                                      embed_dim=300,\n",
        "                                      learning_rate=0.25,\n",
        "                                      dropout=0.5)\n",
        "train(mod1, optimizer, train_dataloader, val_dataloader, epochs=20)"
      ],
      "metadata": {
        "colab": {
          "base_uri": "https://localhost:8080/"
        },
        "id": "ZY6l8rHwjmtg",
        "outputId": "a24b5cae-b344-4cb3-8682-8d19a706cd9c"
      },
      "execution_count": null,
      "outputs": [
        {
          "output_type": "stream",
          "name": "stdout",
          "text": [
            "Start training...\n",
            "\n",
            " Epoch  |  Train Loss  |  Val Loss  |  Val Acc  |  Elapsed \n",
            "------------------------------------------------------------\n",
            "   1    |   0.516244   |  0.466082  |   77.56   |   39.52  \n",
            "   2    |   0.444720   |  0.449217  |   78.70   |   33.99  \n",
            "   3    |   0.407117   |  0.445383  |   79.13   |   34.23  \n",
            "   4    |   0.375755   |  0.450591  |   79.13   |   34.84  \n",
            "   5    |   0.348670   |  0.463180  |   79.08   |   36.68  \n",
            "   6    |   0.318908   |  0.468384  |   79.14   |   35.06  \n",
            "   7    |   0.295297   |  0.480966  |   78.89   |   34.44  \n",
            "   8    |   0.272039   |  0.499160  |   78.99   |   34.66  \n",
            "   9    |   0.250602   |  0.524363  |   78.95   |   34.50  \n",
            "  10    |   0.232577   |  0.538359  |   79.10   |   34.42  \n",
            "  11    |   0.216028   |  0.553155  |   78.94   |   34.74  \n",
            "  12    |   0.199846   |  0.576829  |   78.88   |   34.48  \n",
            "  13    |   0.187332   |  0.603406  |   78.94   |   35.00  \n",
            "  14    |   0.178141   |  0.607537  |   78.90   |   34.34  \n",
            "  15    |   0.166811   |  0.631565  |   78.54   |   34.33  \n",
            "  16    |   0.159729   |  0.645240  |   79.07   |   35.29  \n",
            "  17    |   0.150442   |  0.667460  |   78.62   |   34.49  \n",
            "  18    |   0.142915   |  0.694853  |   78.60   |   34.43  \n",
            "  19    |   0.135682   |  0.707216  |   78.65   |   34.91  \n",
            "  20    |   0.127666   |  0.745745  |   78.57   |   34.43  \n",
            "\n",
            "\n",
            "Training complete! Best accuracy: 79.14%.\n"
          ]
        }
      ]
    },
    {
      "cell_type": "markdown",
      "source": [
        "#### Modelo  con FastText como embedding con fine tunning Descongelado"
      ],
      "metadata": {
        "id": "FZqwCMs4kT6B"
      }
    },
    {
      "cell_type": "code",
      "source": [
        "# CNN-non-static: fastText pretrained word vectors are fine-tuned during training. SGD optmin\n",
        "set_seed(42)\n",
        "cnn_FT_descongelado, optimizer = initilize_model(pretrained_embedding=embeddings_FastText,\n",
        "                                            freeze_embedding=False,\n",
        "                                            learning_rate=0.25,\n",
        "                                            dropout=0.5)\n",
        "train(cnn_FT_descongelado, optimizer, train_dataloader, val_dataloader, epochs=20)"
      ],
      "metadata": {
        "colab": {
          "base_uri": "https://localhost:8080/"
        },
        "id": "idMC-4bbmEOM",
        "outputId": "15876cd4-4545-428b-9056-e1e45517db1e"
      },
      "execution_count": null,
      "outputs": [
        {
          "output_type": "stream",
          "name": "stdout",
          "text": [
            "Start training...\n",
            "\n",
            " Epoch  |  Train Loss  |  Val Loss  |  Val Acc  |  Elapsed \n",
            "------------------------------------------------------------\n",
            "   1    |   0.463188   |  0.434264  |   79.76   |   54.71  \n",
            "   2    |   0.411769   |  0.425857  |   80.47   |   54.04  \n",
            "   3    |   0.387369   |  0.431063  |   80.52   |   53.50  \n",
            "   4    |   0.363889   |  0.424258  |   80.72   |   53.46  \n",
            "   5    |   0.341547   |  0.460436  |   79.44   |   53.41  \n",
            "   6    |   0.316252   |  0.441578  |   80.69   |   53.38  \n",
            "   7    |   0.293843   |  0.481892  |   79.84   |   53.31  \n",
            "   8    |   0.272534   |  0.494410  |   79.69   |   53.37  \n",
            "   9    |   0.250953   |  0.527407  |   79.30   |   53.37  \n",
            "  10    |   0.230859   |  0.516687  |   79.94   |   53.41  \n",
            "  11    |   0.212545   |  0.558824  |   79.93   |   53.38  \n",
            "  12    |   0.197862   |  0.578689  |   80.03   |   53.35  \n",
            "  13    |   0.183301   |  0.590458  |   79.70   |   53.30  \n",
            "  14    |   0.172599   |  0.611843  |   79.92   |   53.29  \n",
            "  15    |   0.160166   |  0.649814  |   79.92   |   53.31  \n",
            "  16    |   0.150318   |  0.649521  |   80.02   |   53.28  \n",
            "  17    |   0.142054   |  0.705126  |   79.56   |   53.31  \n",
            "  18    |   0.137075   |  0.716915  |   79.47   |   53.31  \n",
            "  19    |   0.127622   |  0.758141  |   79.60   |   53.34  \n",
            "  20    |   0.122168   |  0.761265  |   79.86   |   53.32  \n",
            "\n",
            "\n",
            "Training complete! Best accuracy: 80.72%.\n"
          ]
        }
      ]
    },
    {
      "cell_type": "markdown",
      "source": [
        "### Seleccion de reviews texts y preprocesamiento"
      ],
      "metadata": {
        "id": "32UNi_bqmcxH"
      }
    },
    {
      "cell_type": "code",
      "source": [
        "test1=test[test['product_category']=='home']\n",
        "test2=test[test['product_category']=='wireless']\n",
        "test3=test[test['product_category']=='toy']\n",
        "test4=test[test['product_category']=='sports']\n",
        "test5=test[test['product_category']=='pc']\n",
        "test6=test[test['product_category']=='home_improvement']\n",
        "test7=test[test['product_category']=='electronics']\n",
        "\n",
        "testing=list(test1['review_body'])+list(test2['review_body'])+list(test3['review_body'])+list(test4['review_body'])+list(test5['review_body'])+list(test6['review_body'])+list(test7['review_body'])\n",
        "ytest=list(test1['stars'])+list(test2['stars'])+list(test3['stars'])+list(test4['stars'])+list(test5['stars'])+list(test6['stars'])+list(test7['stars'])\n"
      ],
      "metadata": {
        "id": "2_oXHr4HmnEg"
      },
      "execution_count": null,
      "outputs": []
    },
    {
      "cell_type": "code",
      "source": [
        "final_corpus_test = [preprocess_text(document) for document in testing if document.strip() !='']\n"
      ],
      "metadata": {
        "id": "rrou7ABLrfYb"
      },
      "execution_count": null,
      "outputs": []
    },
    {
      "cell_type": "code",
      "source": [
        "y_star = ytest\n",
        "for i in range(len(ytest)):\n",
        "  if(ytest[i]<=2):\n",
        "    y_star[i]=0\n",
        "  else:\n",
        "    y_star[i]=1"
      ],
      "metadata": {
        "id": "WblCNmI7sTYR"
      },
      "execution_count": null,
      "outputs": []
    },
    {
      "cell_type": "code",
      "source": [
        "def predict(text, model=mod1.to(\"cpu\"), max_len=62):\n",
        "    \"\"\"Predict probability that a review is positive.\"\"\"\n",
        "\n",
        "    # Tokenize, pad and encode text\n",
        "    tokens = word_tokenize(text.lower())\n",
        "    padded_tokens = tokens + ['<pad>'] * (max_len - len(tokens))\n",
        "    input_id = [word2idx.get(token, word2idx['<unk>']) for token in padded_tokens]\n",
        "\n",
        "    # Convert to PyTorch tensors\n",
        "    input_id = torch.tensor(input_id).unsqueeze(dim=0)\n",
        "\n",
        "    # Compute logits\n",
        "    logits = model.forward(input_id)\n",
        "\n",
        "    #  Compute probability\n",
        "    probs = F.softmax(logits, dim=1).squeeze(dim=0)\n",
        "\n",
        "    return(torch.argmax(probs).numpy())"
      ],
      "metadata": {
        "id": "q210OQnwuyAu"
      },
      "execution_count": null,
      "outputs": []
    },
    {
      "cell_type": "markdown",
      "source": [
        "### Predicciones de los modelos"
      ],
      "metadata": {
        "id": "-KTpyFcXzKz7"
      }
    },
    {
      "cell_type": "markdown",
      "source": [
        "Se esperaba que al ser menos categorias, tuviera mejores precisiones (basicamente un mal modelo aquí seria un bolado)."
      ],
      "metadata": {
        "id": "iBZ_qxqizYqo"
      }
    },
    {
      "cell_type": "markdown",
      "source": [
        "#### Modelo sin transfer learning"
      ],
      "metadata": {
        "id": "oMy8WrLqzIXv"
      }
    },
    {
      "cell_type": "code",
      "source": [
        "y_predict = []\n",
        "for id_text in range(len(final_corpus_test)):\n",
        "  text = final_corpus_test[id_text]\n",
        "  y_predict.append(predict(text, model = mod1.to(\"cpu\")))"
      ],
      "metadata": {
        "id": "4D8-uIbtuVO_"
      },
      "execution_count": null,
      "outputs": []
    },
    {
      "cell_type": "code",
      "source": [
        "plt.rcParams[\"figure.figsize\"] = (6,5)\n",
        "prom_svm=  metrics.confusion_matrix(ytest, y_predict)\n",
        "ax = sns.heatmap(prom_svm/np.sum(prom_svm), annot=True, fmt='0.1%', cmap='Blues')\n",
        "ax.set_xlabel('Predicción')\n",
        "ax.set_ylabel('Real ')\n",
        "plt.show()"
      ],
      "metadata": {
        "colab": {
          "base_uri": "https://localhost:8080/",
          "height": 334
        },
        "id": "b1R-mnO6zEBD",
        "outputId": "1c0d2ed8-c714-414c-8c8e-94dd08a18468"
      },
      "execution_count": null,
      "outputs": [
        {
          "output_type": "display_data",
          "data": {
            "text/plain": [
              "<Figure size 432x360 with 2 Axes>"
            ],
            "image/png": "[encoded data removed]"
          },
          "metadata": {
            "needs_background": "light"
          }
        }
      ]
    },
    {
      "cell_type": "markdown",
      "source": [
        "#### Predicciones c/Modelo FasText descongelado"
      ],
      "metadata": {
        "id": "K9JeWGxpzLZV"
      }
    },
    {
      "cell_type": "code",
      "source": [
        "y_predictFTDes = []\n",
        "for id_text in range(len(final_corpus_test)):\n",
        "  text = final_corpus_test[id_text]\n",
        "  y_predictFTDes.append(predict(text, model = cnn_FT_descongelado.to(\"cpu\")))"
      ],
      "metadata": {
        "id": "GmovjDJKzUS6"
      },
      "execution_count": null,
      "outputs": []
    },
    {
      "cell_type": "code",
      "source": [
        "plt.rcParams[\"figure.figsize\"] = (6,5)\n",
        "prom_svm =  metrics.confusion_matrix(ytest, y_predictFTDes)\n",
        "ax = sns.heatmap(prom_svm/np.sum(prom_svm), annot=True, fmt='0.1%', cmap='Greens')\n",
        "ax.set_xlabel('Predicción')\n",
        "ax.set_ylabel('Real ')"
      ],
      "metadata": {
        "colab": {
          "base_uri": "https://localhost:8080/",
          "height": 351
        },
        "id": "YOS5p2W7zgKX",
        "outputId": "f263d1ac-7db6-48a5-c83d-5a4e0debcb77"
      },
      "execution_count": null,
      "outputs": [
        {
          "output_type": "execute_result",
          "data": {
            "text/plain": [
              "Text(33.0, 0.5, 'Real ')"
            ]
          },
          "metadata": {},
          "execution_count": 98
        },
        {
          "output_type": "display_data",
          "data": {
            "text/plain": [
              "<Figure size 432x360 with 2 Axes>"
            ],
            "image/png": "[encoded data removed]"
          },
          "metadata": {
            "needs_background": "light"
          }
        }
      ]
    },
    {
      "cell_type": "markdown",
      "source": [
        "##  Conclusiones"
      ],
      "metadata": {
        "id": "uLxwVAH20Fee"
      }
    },
    {
      "cell_type": "markdown",
      "source": [
        "Al ser un modelo de clasificación binario, se esperaba que tuviera altos indices de precisión y fue así, en el conjunto de entrenamiento/valudación su Presicion rondo el 80%.\n",
        "\n",
        "Sin embargo fue el modelo que más tiempo llevo para ejecutarse, pues para 20 epocas tardaba casi 20 minutos."
      ],
      "metadata": {
        "id": "R8tPztNr0IRs"
      }
    },
    {
      "cell_type": "markdown",
      "source": [
        "#Referencias"
      ],
      "metadata": {
        "id": "-DUZXVai1xr3"
      }
    },
    {
      "cell_type": "markdown",
      "source": [
        "Me base en las notas del profesos, sus funciones de preprocesamiento, mientras que la implementación de la red neuronal provienen del trabajo de Cristian Tran."
      ],
      "metadata": {
        "id": "ugMRHyJB0H2c"
      }
    },
    {
      "cell_type": "markdown",
      "source": [
        "[A Complete Guide to CNN for Sentence Classification with PyTorch](https://chriskhanhtran.github.io/posts/cnn-sentence-classification/)"
      ],
      "metadata": {
        "id": "3TqXxgae1-k0"
      }
    }
  ]
}