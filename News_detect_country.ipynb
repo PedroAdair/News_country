{
  "nbformat": 4,
  "nbformat_minor": 0,
  "metadata": {
    "colab": {
      "provenance": [],
      "toc_visible": true,
      "include_colab_link": true
    },
    "kernelspec": {
      "name": "python3",
      "display_name": "Python 3"
    },
    "language_info": {
      "name": "python"
    },
    "gpuClass": "standard",
    "widgets": {
      "application/vnd.jupyter.widget-state+json": {
        "181b452b6f4b4d4a9938efff98069010": {
          "model_module": "@jupyter-widgets/controls",
          "model_name": "HBoxModel",
          "model_module_version": "1.5.0",
          "state": {
            "_dom_classes": [],
            "_model_module": "@jupyter-widgets/controls",
            "_model_module_version": "1.5.0",
            "_model_name": "HBoxModel",
            "_view_count": null,
            "_view_module": "@jupyter-widgets/controls",
            "_view_module_version": "1.5.0",
            "_view_name": "HBoxView",
            "box_style": "",
            "children": [
              "IPY_MODEL_3c912621dc054431804f25699fa37cb0",
              "IPY_MODEL_4fa9e4326ad0431296cc913778f14893",
              "IPY_MODEL_d64b8e2743f848ffa72f7a26303013b9"
            ],
            "layout": "IPY_MODEL_59fe071767904032b8978f09983baf4a"
          }
        },
        "3c912621dc054431804f25699fa37cb0": {
          "model_module": "@jupyter-widgets/controls",
          "model_name": "HTMLModel",
          "model_module_version": "1.5.0",
          "state": {
            "_dom_classes": [],
            "_model_module": "@jupyter-widgets/controls",
            "_model_module_version": "1.5.0",
            "_model_name": "HTMLModel",
            "_view_count": null,
            "_view_module": "@jupyter-widgets/controls",
            "_view_module_version": "1.5.0",
            "_view_name": "HTMLView",
            "description": "",
            "description_tooltip": null,
            "layout": "IPY_MODEL_b263488802c2447f98fc1e704029cb86",
            "placeholder": "​",
            "style": "IPY_MODEL_1650f892ea4e4023867d336b3f8b3677",
            "value": "Downloading: 100%"
          }
        },
        "4fa9e4326ad0431296cc913778f14893": {
          "model_module": "@jupyter-widgets/controls",
          "model_name": "FloatProgressModel",
          "model_module_version": "1.5.0",
          "state": {
            "_dom_classes": [],
            "_model_module": "@jupyter-widgets/controls",
            "_model_module_version": "1.5.0",
            "_model_name": "FloatProgressModel",
            "_view_count": null,
            "_view_module": "@jupyter-widgets/controls",
            "_view_module_version": "1.5.0",
            "_view_name": "ProgressView",
            "bar_style": "success",
            "description": "",
            "description_tooltip": null,
            "layout": "IPY_MODEL_2c4c47fa52224d61a51540328e6bc450",
            "max": 247723,
            "min": 0,
            "orientation": "horizontal",
            "style": "IPY_MODEL_2e14c96a769646a9b933da2cbb49cb0f",
            "value": 247723
          }
        },
        "d64b8e2743f848ffa72f7a26303013b9": {
          "model_module": "@jupyter-widgets/controls",
          "model_name": "HTMLModel",
          "model_module_version": "1.5.0",
          "state": {
            "_dom_classes": [],
            "_model_module": "@jupyter-widgets/controls",
            "_model_module_version": "1.5.0",
            "_model_name": "HTMLModel",
            "_view_count": null,
            "_view_module": "@jupyter-widgets/controls",
            "_view_module_version": "1.5.0",
            "_view_name": "HTMLView",
            "description": "",
            "description_tooltip": null,
            "layout": "IPY_MODEL_defbe8357e22494eb02249c905d7480e",
            "placeholder": "​",
            "style": "IPY_MODEL_3fcf34121dcb4c2499d0c9be09773059",
            "value": " 248k/248k [00:00&lt;00:00, 637kB/s]"
          }
        },
        "59fe071767904032b8978f09983baf4a": {
          "model_module": "@jupyter-widgets/base",
          "model_name": "LayoutModel",
          "model_module_version": "1.2.0",
          "state": {
            "_model_module": "@jupyter-widgets/base",
            "_model_module_version": "1.2.0",
            "_model_name": "LayoutModel",
            "_view_count": null,
            "_view_module": "@jupyter-widgets/base",
            "_view_module_version": "1.2.0",
            "_view_name": "LayoutView",
            "align_content": null,
            "align_items": null,
            "align_self": null,
            "border": null,
            "bottom": null,
            "display": null,
            "flex": null,
            "flex_flow": null,
            "grid_area": null,
            "grid_auto_columns": null,
            "grid_auto_flow": null,
            "grid_auto_rows": null,
            "grid_column": null,
            "grid_gap": null,
            "grid_row": null,
            "grid_template_areas": null,
            "grid_template_columns": null,
            "grid_template_rows": null,
            "height": null,
            "justify_content": null,
            "justify_items": null,
            "left": null,
            "margin": null,
            "max_height": null,
            "max_width": null,
            "min_height": null,
            "min_width": null,
            "object_fit": null,
            "object_position": null,
            "order": null,
            "overflow": null,
            "overflow_x": null,
            "overflow_y": null,
            "padding": null,
            "right": null,
            "top": null,
            "visibility": null,
            "width": null
          }
        },
        "b263488802c2447f98fc1e704029cb86": {
          "model_module": "@jupyter-widgets/base",
          "model_name": "LayoutModel",
          "model_module_version": "1.2.0",
          "state": {
            "_model_module": "@jupyter-widgets/base",
            "_model_module_version": "1.2.0",
            "_model_name": "LayoutModel",
            "_view_count": null,
            "_view_module": "@jupyter-widgets/base",
            "_view_module_version": "1.2.0",
            "_view_name": "LayoutView",
            "align_content": null,
            "align_items": null,
            "align_self": null,
            "border": null,
            "bottom": null,
            "display": null,
            "flex": null,
            "flex_flow": null,
            "grid_area": null,
            "grid_auto_columns": null,
            "grid_auto_flow": null,
            "grid_auto_rows": null,
            "grid_column": null,
            "grid_gap": null,
            "grid_row": null,
            "grid_template_areas": null,
            "grid_template_columns": null,
            "grid_template_rows": null,
            "height": null,
            "justify_content": null,
            "justify_items": null,
            "left": null,
            "margin": null,
            "max_height": null,
            "max_width": null,
            "min_height": null,
            "min_width": null,
            "object_fit": null,
            "object_position": null,
            "order": null,
            "overflow": null,
            "overflow_x": null,
            "overflow_y": null,
            "padding": null,
            "right": null,
            "top": null,
            "visibility": null,
            "width": null
          }
        },
        "1650f892ea4e4023867d336b3f8b3677": {
          "model_module": "@jupyter-widgets/controls",
          "model_name": "DescriptionStyleModel",
          "model_module_version": "1.5.0",
          "state": {
            "_model_module": "@jupyter-widgets/controls",
            "_model_module_version": "1.5.0",
            "_model_name": "DescriptionStyleModel",
            "_view_count": null,
            "_view_module": "@jupyter-widgets/base",
            "_view_module_version": "1.2.0",
            "_view_name": "StyleView",
            "description_width": ""
          }
        },
        "2c4c47fa52224d61a51540328e6bc450": {
          "model_module": "@jupyter-widgets/base",
          "model_name": "LayoutModel",
          "model_module_version": "1.2.0",
          "state": {
            "_model_module": "@jupyter-widgets/base",
            "_model_module_version": "1.2.0",
            "_model_name": "LayoutModel",
            "_view_count": null,
            "_view_module": "@jupyter-widgets/base",
            "_view_module_version": "1.2.0",
            "_view_name": "LayoutView",
            "align_content": null,
            "align_items": null,
            "align_self": null,
            "border": null,
            "bottom": null,
            "display": null,
            "flex": null,
            "flex_flow": null,
            "grid_area": null,
            "grid_auto_columns": null,
            "grid_auto_flow": null,
            "grid_auto_rows": null,
            "grid_column": null,
            "grid_gap": null,
            "grid_row": null,
            "grid_template_areas": null,
            "grid_template_columns": null,
            "grid_template_rows": null,
            "height": null,
            "justify_content": null,
            "justify_items": null,
            "left": null,
            "margin": null,
            "max_height": null,
            "max_width": null,
            "min_height": null,
            "min_width": null,
            "object_fit": null,
            "object_position": null,
            "order": null,
            "overflow": null,
            "overflow_x": null,
            "overflow_y": null,
            "padding": null,
            "right": null,
            "top": null,
            "visibility": null,
            "width": null
          }
        },
        "2e14c96a769646a9b933da2cbb49cb0f": {
          "model_module": "@jupyter-widgets/controls",
          "model_name": "ProgressStyleModel",
          "model_module_version": "1.5.0",
          "state": {
            "_model_module": "@jupyter-widgets/controls",
            "_model_module_version": "1.5.0",
            "_model_name": "ProgressStyleModel",
            "_view_count": null,
            "_view_module": "@jupyter-widgets/base",
            "_view_module_version": "1.2.0",
            "_view_name": "StyleView",
            "bar_color": null,
            "description_width": ""
          }
        },
        "defbe8357e22494eb02249c905d7480e": {
          "model_module": "@jupyter-widgets/base",
          "model_name": "LayoutModel",
          "model_module_version": "1.2.0",
          "state": {
            "_model_module": "@jupyter-widgets/base",
            "_model_module_version": "1.2.0",
            "_model_name": "LayoutModel",
            "_view_count": null,
            "_view_module": "@jupyter-widgets/base",
            "_view_module_version": "1.2.0",
            "_view_name": "LayoutView",
            "align_content": null,
            "align_items": null,
            "align_self": null,
            "border": null,
            "bottom": null,
            "display": null,
            "flex": null,
            "flex_flow": null,
            "grid_area": null,
            "grid_auto_columns": null,
            "grid_auto_flow": null,
            "grid_auto_rows": null,
            "grid_column": null,
            "grid_gap": null,
            "grid_row": null,
            "grid_template_areas": null,
            "grid_template_columns": null,
            "grid_template_rows": null,
            "height": null,
            "justify_content": null,
            "justify_items": null,
            "left": null,
            "margin": null,
            "max_height": null,
            "max_width": null,
            "min_height": null,
            "min_width": null,
            "object_fit": null,
            "object_position": null,
            "order": null,
            "overflow": null,
            "overflow_x": null,
            "overflow_y": null,
            "padding": null,
            "right": null,
            "top": null,
            "visibility": null,
            "width": null
          }
        },
        "3fcf34121dcb4c2499d0c9be09773059": {
          "model_module": "@jupyter-widgets/controls",
          "model_name": "DescriptionStyleModel",
          "model_module_version": "1.5.0",
          "state": {
            "_model_module": "@jupyter-widgets/controls",
            "_model_module_version": "1.5.0",
            "_model_name": "DescriptionStyleModel",
            "_view_count": null,
            "_view_module": "@jupyter-widgets/base",
            "_view_module_version": "1.2.0",
            "_view_name": "StyleView",
            "description_width": ""
          }
        },
        "ec5b8b07f8c044ccbf24eba782caa430": {
          "model_module": "@jupyter-widgets/controls",
          "model_name": "HBoxModel",
          "model_module_version": "1.5.0",
          "state": {
            "_dom_classes": [],
            "_model_module": "@jupyter-widgets/controls",
            "_model_module_version": "1.5.0",
            "_model_name": "HBoxModel",
            "_view_count": null,
            "_view_module": "@jupyter-widgets/controls",
            "_view_module_version": "1.5.0",
            "_view_name": "HBoxView",
            "box_style": "",
            "children": [
              "IPY_MODEL_dbf2e5c53dfe40c8862736d5fda29121",
              "IPY_MODEL_37ce1e57e6ba4e04a68a404f24d99d33",
              "IPY_MODEL_66d1041c57d54f1a80b3abc3d5c3ca40"
            ],
            "layout": "IPY_MODEL_58bb6902f28d48379c7225015bd895fb"
          }
        },
        "dbf2e5c53dfe40c8862736d5fda29121": {
          "model_module": "@jupyter-widgets/controls",
          "model_name": "HTMLModel",
          "model_module_version": "1.5.0",
          "state": {
            "_dom_classes": [],
            "_model_module": "@jupyter-widgets/controls",
            "_model_module_version": "1.5.0",
            "_model_name": "HTMLModel",
            "_view_count": null,
            "_view_module": "@jupyter-widgets/controls",
            "_view_module_version": "1.5.0",
            "_view_name": "HTMLView",
            "description": "",
            "description_tooltip": null,
            "layout": "IPY_MODEL_a553f95d4d4c4ea69d50b44125f2bc4d",
            "placeholder": "​",
            "style": "IPY_MODEL_abb9245fa95047579af7a9bba9208ae4",
            "value": "Downloading: 100%"
          }
        },
        "37ce1e57e6ba4e04a68a404f24d99d33": {
          "model_module": "@jupyter-widgets/controls",
          "model_name": "FloatProgressModel",
          "model_module_version": "1.5.0",
          "state": {
            "_dom_classes": [],
            "_model_module": "@jupyter-widgets/controls",
            "_model_module_version": "1.5.0",
            "_model_name": "FloatProgressModel",
            "_view_count": null,
            "_view_module": "@jupyter-widgets/controls",
            "_view_module_version": "1.5.0",
            "_view_name": "ProgressView",
            "bar_style": "success",
            "description": "",
            "description_tooltip": null,
            "layout": "IPY_MODEL_2e69dcd475844ab8b5aa0212bf5ea2ba",
            "max": 134,
            "min": 0,
            "orientation": "horizontal",
            "style": "IPY_MODEL_aa89e86ca22f4438bc9306ec71258530",
            "value": 134
          }
        },
        "66d1041c57d54f1a80b3abc3d5c3ca40": {
          "model_module": "@jupyter-widgets/controls",
          "model_name": "HTMLModel",
          "model_module_version": "1.5.0",
          "state": {
            "_dom_classes": [],
            "_model_module": "@jupyter-widgets/controls",
            "_model_module_version": "1.5.0",
            "_model_name": "HTMLModel",
            "_view_count": null,
            "_view_module": "@jupyter-widgets/controls",
            "_view_module_version": "1.5.0",
            "_view_name": "HTMLView",
            "description": "",
            "description_tooltip": null,
            "layout": "IPY_MODEL_9d2e14adde1e4fb8a66ba99e530bb3aa",
            "placeholder": "​",
            "style": "IPY_MODEL_2b6c152fdb06474eb49915940108a0e5",
            "value": " 134/134 [00:00&lt;00:00, 5.39kB/s]"
          }
        },
        "58bb6902f28d48379c7225015bd895fb": {
          "model_module": "@jupyter-widgets/base",
          "model_name": "LayoutModel",
          "model_module_version": "1.2.0",
          "state": {
            "_model_module": "@jupyter-widgets/base",
            "_model_module_version": "1.2.0",
            "_model_name": "LayoutModel",
            "_view_count": null,
            "_view_module": "@jupyter-widgets/base",
            "_view_module_version": "1.2.0",
            "_view_name": "LayoutView",
            "align_content": null,
            "align_items": null,
            "align_self": null,
            "border": null,
            "bottom": null,
            "display": null,
            "flex": null,
            "flex_flow": null,
            "grid_area": null,
            "grid_auto_columns": null,
            "grid_auto_flow": null,
            "grid_auto_rows": null,
            "grid_column": null,
            "grid_gap": null,
            "grid_row": null,
            "grid_template_areas": null,
            "grid_template_columns": null,
            "grid_template_rows": null,
            "height": null,
            "justify_content": null,
            "justify_items": null,
            "left": null,
            "margin": null,
            "max_height": null,
            "max_width": null,
            "min_height": null,
            "min_width": null,
            "object_fit": null,
            "object_position": null,
            "order": null,
            "overflow": null,
            "overflow_x": null,
            "overflow_y": null,
            "padding": null,
            "right": null,
            "top": null,
            "visibility": null,
            "width": null
          }
        },
        "a553f95d4d4c4ea69d50b44125f2bc4d": {
          "model_module": "@jupyter-widgets/base",
          "model_name": "LayoutModel",
          "model_module_version": "1.2.0",
          "state": {
            "_model_module": "@jupyter-widgets/base",
            "_model_module_version": "1.2.0",
            "_model_name": "LayoutModel",
            "_view_count": null,
            "_view_module": "@jupyter-widgets/base",
            "_view_module_version": "1.2.0",
            "_view_name": "LayoutView",
            "align_content": null,
            "align_items": null,
            "align_self": null,
            "border": null,
            "bottom": null,
            "display": null,
            "flex": null,
            "flex_flow": null,
            "grid_area": null,
            "grid_auto_columns": null,
            "grid_auto_flow": null,
            "grid_auto_rows": null,
            "grid_column": null,
            "grid_gap": null,
            "grid_row": null,
            "grid_template_areas": null,
            "grid_template_columns": null,
            "grid_template_rows": null,
            "height": null,
            "justify_content": null,
            "justify_items": null,
            "left": null,
            "margin": null,
            "max_height": null,
            "max_width": null,
            "min_height": null,
            "min_width": null,
            "object_fit": null,
            "object_position": null,
            "order": null,
            "overflow": null,
            "overflow_x": null,
            "overflow_y": null,
            "padding": null,
            "right": null,
            "top": null,
            "visibility": null,
            "width": null
          }
        },
        "abb9245fa95047579af7a9bba9208ae4": {
          "model_module": "@jupyter-widgets/controls",
          "model_name": "DescriptionStyleModel",
          "model_module_version": "1.5.0",
          "state": {
            "_model_module": "@jupyter-widgets/controls",
            "_model_module_version": "1.5.0",
            "_model_name": "DescriptionStyleModel",
            "_view_count": null,
            "_view_module": "@jupyter-widgets/base",
            "_view_module_version": "1.2.0",
            "_view_name": "StyleView",
            "description_width": ""
          }
        },
        "2e69dcd475844ab8b5aa0212bf5ea2ba": {
          "model_module": "@jupyter-widgets/base",
          "model_name": "LayoutModel",
          "model_module_version": "1.2.0",
          "state": {
            "_model_module": "@jupyter-widgets/base",
            "_model_module_version": "1.2.0",
            "_model_name": "LayoutModel",
            "_view_count": null,
            "_view_module": "@jupyter-widgets/base",
            "_view_module_version": "1.2.0",
            "_view_name": "LayoutView",
            "align_content": null,
            "align_items": null,
            "align_self": null,
            "border": null,
            "bottom": null,
            "display": null,
            "flex": null,
            "flex_flow": null,
            "grid_area": null,
            "grid_auto_columns": null,
            "grid_auto_flow": null,
            "grid_auto_rows": null,
            "grid_column": null,
            "grid_gap": null,
            "grid_row": null,
            "grid_template_areas": null,
            "grid_template_columns": null,
            "grid_template_rows": null,
            "height": null,
            "justify_content": null,
            "justify_items": null,
            "left": null,
            "margin": null,
            "max_height": null,
            "max_width": null,
            "min_height": null,
            "min_width": null,
            "object_fit": null,
            "object_position": null,
            "order": null,
            "overflow": null,
            "overflow_x": null,
            "overflow_y": null,
            "padding": null,
            "right": null,
            "top": null,
            "visibility": null,
            "width": null
          }
        },
        "aa89e86ca22f4438bc9306ec71258530": {
          "model_module": "@jupyter-widgets/controls",
          "model_name": "ProgressStyleModel",
          "model_module_version": "1.5.0",
          "state": {
            "_model_module": "@jupyter-widgets/controls",
            "_model_module_version": "1.5.0",
            "_model_name": "ProgressStyleModel",
            "_view_count": null,
            "_view_module": "@jupyter-widgets/base",
            "_view_module_version": "1.2.0",
            "_view_name": "StyleView",
            "bar_color": null,
            "description_width": ""
          }
        },
        "9d2e14adde1e4fb8a66ba99e530bb3aa": {
          "model_module": "@jupyter-widgets/base",
          "model_name": "LayoutModel",
          "model_module_version": "1.2.0",
          "state": {
            "_model_module": "@jupyter-widgets/base",
            "_model_module_version": "1.2.0",
            "_model_name": "LayoutModel",
            "_view_count": null,
            "_view_module": "@jupyter-widgets/base",
            "_view_module_version": "1.2.0",
            "_view_name": "LayoutView",
            "align_content": null,
            "align_items": null,
            "align_self": null,
            "border": null,
            "bottom": null,
            "display": null,
            "flex": null,
            "flex_flow": null,
            "grid_area": null,
            "grid_auto_columns": null,
            "grid_auto_flow": null,
            "grid_auto_rows": null,
            "grid_column": null,
            "grid_gap": null,
            "grid_row": null,
            "grid_template_areas": null,
            "grid_template_columns": null,
            "grid_template_rows": null,
            "height": null,
            "justify_content": null,
            "justify_items": null,
            "left": null,
            "margin": null,
            "max_height": null,
            "max_width": null,
            "min_height": null,
            "min_width": null,
            "object_fit": null,
            "object_position": null,
            "order": null,
            "overflow": null,
            "overflow_x": null,
            "overflow_y": null,
            "padding": null,
            "right": null,
            "top": null,
            "visibility": null,
            "width": null
          }
        },
        "2b6c152fdb06474eb49915940108a0e5": {
          "model_module": "@jupyter-widgets/controls",
          "model_name": "DescriptionStyleModel",
          "model_module_version": "1.5.0",
          "state": {
            "_model_module": "@jupyter-widgets/controls",
            "_model_module_version": "1.5.0",
            "_model_name": "DescriptionStyleModel",
            "_view_count": null,
            "_view_module": "@jupyter-widgets/base",
            "_view_module_version": "1.2.0",
            "_view_name": "StyleView",
            "description_width": ""
          }
        },
        "df7e2ee6dc9b49d8a3785b2679be9d2d": {
          "model_module": "@jupyter-widgets/controls",
          "model_name": "HBoxModel",
          "model_module_version": "1.5.0",
          "state": {
            "_dom_classes": [],
            "_model_module": "@jupyter-widgets/controls",
            "_model_module_version": "1.5.0",
            "_model_name": "HBoxModel",
            "_view_count": null,
            "_view_module": "@jupyter-widgets/controls",
            "_view_module_version": "1.5.0",
            "_view_name": "HBoxView",
            "box_style": "",
            "children": [
              "IPY_MODEL_74c1a123bfa141d2bd9b86f3e6ca2a98",
              "IPY_MODEL_9b26ed0cd9e64709a5c22b8e3c79632c",
              "IPY_MODEL_4cc57572b78c4118b4ea58da6141064b"
            ],
            "layout": "IPY_MODEL_b1585d0ab2854f4487d6908221e69758"
          }
        },
        "74c1a123bfa141d2bd9b86f3e6ca2a98": {
          "model_module": "@jupyter-widgets/controls",
          "model_name": "HTMLModel",
          "model_module_version": "1.5.0",
          "state": {
            "_dom_classes": [],
            "_model_module": "@jupyter-widgets/controls",
            "_model_module_version": "1.5.0",
            "_model_name": "HTMLModel",
            "_view_count": null,
            "_view_module": "@jupyter-widgets/controls",
            "_view_module_version": "1.5.0",
            "_view_name": "HTMLView",
            "description": "",
            "description_tooltip": null,
            "layout": "IPY_MODEL_cce45c5f192846ba9c1a1713666d2faa",
            "placeholder": "​",
            "style": "IPY_MODEL_bd55608243304b2d81b8d8e8f3aa8022",
            "value": "Downloading: 100%"
          }
        },
        "9b26ed0cd9e64709a5c22b8e3c79632c": {
          "model_module": "@jupyter-widgets/controls",
          "model_name": "FloatProgressModel",
          "model_module_version": "1.5.0",
          "state": {
            "_dom_classes": [],
            "_model_module": "@jupyter-widgets/controls",
            "_model_module_version": "1.5.0",
            "_model_name": "FloatProgressModel",
            "_view_count": null,
            "_view_module": "@jupyter-widgets/controls",
            "_view_module_version": "1.5.0",
            "_view_name": "ProgressView",
            "bar_style": "success",
            "description": "",
            "description_tooltip": null,
            "layout": "IPY_MODEL_d3281a3874574f778d802380c63db7d3",
            "max": 310,
            "min": 0,
            "orientation": "horizontal",
            "style": "IPY_MODEL_0c6b7bec593a4d3aa0ef453af79de90e",
            "value": 310
          }
        },
        "4cc57572b78c4118b4ea58da6141064b": {
          "model_module": "@jupyter-widgets/controls",
          "model_name": "HTMLModel",
          "model_module_version": "1.5.0",
          "state": {
            "_dom_classes": [],
            "_model_module": "@jupyter-widgets/controls",
            "_model_module_version": "1.5.0",
            "_model_name": "HTMLModel",
            "_view_count": null,
            "_view_module": "@jupyter-widgets/controls",
            "_view_module_version": "1.5.0",
            "_view_name": "HTMLView",
            "description": "",
            "description_tooltip": null,
            "layout": "IPY_MODEL_ff28fb48f21d4bfa97e6c37fea91e278",
            "placeholder": "​",
            "style": "IPY_MODEL_173792303db44104ae02b6315e8ce114",
            "value": " 310/310 [00:00&lt;00:00, 8.73kB/s]"
          }
        },
        "b1585d0ab2854f4487d6908221e69758": {
          "model_module": "@jupyter-widgets/base",
          "model_name": "LayoutModel",
          "model_module_version": "1.2.0",
          "state": {
            "_model_module": "@jupyter-widgets/base",
            "_model_module_version": "1.2.0",
            "_model_name": "LayoutModel",
            "_view_count": null,
            "_view_module": "@jupyter-widgets/base",
            "_view_module_version": "1.2.0",
            "_view_name": "LayoutView",
            "align_content": null,
            "align_items": null,
            "align_self": null,
            "border": null,
            "bottom": null,
            "display": null,
            "flex": null,
            "flex_flow": null,
            "grid_area": null,
            "grid_auto_columns": null,
            "grid_auto_flow": null,
            "grid_auto_rows": null,
            "grid_column": null,
            "grid_gap": null,
            "grid_row": null,
            "grid_template_areas": null,
            "grid_template_columns": null,
            "grid_template_rows": null,
            "height": null,
            "justify_content": null,
            "justify_items": null,
            "left": null,
            "margin": null,
            "max_height": null,
            "max_width": null,
            "min_height": null,
            "min_width": null,
            "object_fit": null,
            "object_position": null,
            "order": null,
            "overflow": null,
            "overflow_x": null,
            "overflow_y": null,
            "padding": null,
            "right": null,
            "top": null,
            "visibility": null,
            "width": null
          }
        },
        "cce45c5f192846ba9c1a1713666d2faa": {
          "model_module": "@jupyter-widgets/base",
          "model_name": "LayoutModel",
          "model_module_version": "1.2.0",
          "state": {
            "_model_module": "@jupyter-widgets/base",
            "_model_module_version": "1.2.0",
            "_model_name": "LayoutModel",
            "_view_count": null,
            "_view_module": "@jupyter-widgets/base",
            "_view_module_version": "1.2.0",
            "_view_name": "LayoutView",
            "align_content": null,
            "align_items": null,
            "align_self": null,
            "border": null,
            "bottom": null,
            "display": null,
            "flex": null,
            "flex_flow": null,
            "grid_area": null,
            "grid_auto_columns": null,
            "grid_auto_flow": null,
            "grid_auto_rows": null,
            "grid_column": null,
            "grid_gap": null,
            "grid_row": null,
            "grid_template_areas": null,
            "grid_template_columns": null,
            "grid_template_rows": null,
            "height": null,
            "justify_content": null,
            "justify_items": null,
            "left": null,
            "margin": null,
            "max_height": null,
            "max_width": null,
            "min_height": null,
            "min_width": null,
            "object_fit": null,
            "object_position": null,
            "order": null,
            "overflow": null,
            "overflow_x": null,
            "overflow_y": null,
            "padding": null,
            "right": null,
            "top": null,
            "visibility": null,
            "width": null
          }
        },
        "bd55608243304b2d81b8d8e8f3aa8022": {
          "model_module": "@jupyter-widgets/controls",
          "model_name": "DescriptionStyleModel",
          "model_module_version": "1.5.0",
          "state": {
            "_model_module": "@jupyter-widgets/controls",
            "_model_module_version": "1.5.0",
            "_model_name": "DescriptionStyleModel",
            "_view_count": null,
            "_view_module": "@jupyter-widgets/base",
            "_view_module_version": "1.2.0",
            "_view_name": "StyleView",
            "description_width": ""
          }
        },
        "d3281a3874574f778d802380c63db7d3": {
          "model_module": "@jupyter-widgets/base",
          "model_name": "LayoutModel",
          "model_module_version": "1.2.0",
          "state": {
            "_model_module": "@jupyter-widgets/base",
            "_model_module_version": "1.2.0",
            "_model_name": "LayoutModel",
            "_view_count": null,
            "_view_module": "@jupyter-widgets/base",
            "_view_module_version": "1.2.0",
            "_view_name": "LayoutView",
            "align_content": null,
            "align_items": null,
            "align_self": null,
            "border": null,
            "bottom": null,
            "display": null,
            "flex": null,
            "flex_flow": null,
            "grid_area": null,
            "grid_auto_columns": null,
            "grid_auto_flow": null,
            "grid_auto_rows": null,
            "grid_column": null,
            "grid_gap": null,
            "grid_row": null,
            "grid_template_areas": null,
            "grid_template_columns": null,
            "grid_template_rows": null,
            "height": null,
            "justify_content": null,
            "justify_items": null,
            "left": null,
            "margin": null,
            "max_height": null,
            "max_width": null,
            "min_height": null,
            "min_width": null,
            "object_fit": null,
            "object_position": null,
            "order": null,
            "overflow": null,
            "overflow_x": null,
            "overflow_y": null,
            "padding": null,
            "right": null,
            "top": null,
            "visibility": null,
            "width": null
          }
        },
        "0c6b7bec593a4d3aa0ef453af79de90e": {
          "model_module": "@jupyter-widgets/controls",
          "model_name": "ProgressStyleModel",
          "model_module_version": "1.5.0",
          "state": {
            "_model_module": "@jupyter-widgets/controls",
            "_model_module_version": "1.5.0",
            "_model_name": "ProgressStyleModel",
            "_view_count": null,
            "_view_module": "@jupyter-widgets/base",
            "_view_module_version": "1.2.0",
            "_view_name": "StyleView",
            "bar_color": null,
            "description_width": ""
          }
        },
        "ff28fb48f21d4bfa97e6c37fea91e278": {
          "model_module": "@jupyter-widgets/base",
          "model_name": "LayoutModel",
          "model_module_version": "1.2.0",
          "state": {
            "_model_module": "@jupyter-widgets/base",
            "_model_module_version": "1.2.0",
            "_model_name": "LayoutModel",
            "_view_count": null,
            "_view_module": "@jupyter-widgets/base",
            "_view_module_version": "1.2.0",
            "_view_name": "LayoutView",
            "align_content": null,
            "align_items": null,
            "align_self": null,
            "border": null,
            "bottom": null,
            "display": null,
            "flex": null,
            "flex_flow": null,
            "grid_area": null,
            "grid_auto_columns": null,
            "grid_auto_flow": null,
            "grid_auto_rows": null,
            "grid_column": null,
            "grid_gap": null,
            "grid_row": null,
            "grid_template_areas": null,
            "grid_template_columns": null,
            "grid_template_rows": null,
            "height": null,
            "justify_content": null,
            "justify_items": null,
            "left": null,
            "margin": null,
            "max_height": null,
            "max_width": null,
            "min_height": null,
            "min_width": null,
            "object_fit": null,
            "object_position": null,
            "order": null,
            "overflow": null,
            "overflow_x": null,
            "overflow_y": null,
            "padding": null,
            "right": null,
            "top": null,
            "visibility": null,
            "width": null
          }
        },
        "173792303db44104ae02b6315e8ce114": {
          "model_module": "@jupyter-widgets/controls",
          "model_name": "DescriptionStyleModel",
          "model_module_version": "1.5.0",
          "state": {
            "_model_module": "@jupyter-widgets/controls",
            "_model_module_version": "1.5.0",
            "_model_name": "DescriptionStyleModel",
            "_view_count": null,
            "_view_module": "@jupyter-widgets/base",
            "_view_module_version": "1.2.0",
            "_view_name": "StyleView",
            "description_width": ""
          }
        },
        "4a5416a175a0450e9afbdc7281103ced": {
          "model_module": "@jupyter-widgets/controls",
          "model_name": "HBoxModel",
          "model_module_version": "1.5.0",
          "state": {
            "_dom_classes": [],
            "_model_module": "@jupyter-widgets/controls",
            "_model_module_version": "1.5.0",
            "_model_name": "HBoxModel",
            "_view_count": null,
            "_view_module": "@jupyter-widgets/controls",
            "_view_module_version": "1.5.0",
            "_view_name": "HBoxView",
            "box_style": "",
            "children": [
              "IPY_MODEL_893b452f2e09463c9bb5077ef96b98d3",
              "IPY_MODEL_dd61e67094724ebeb23cca9d7d03fac7",
              "IPY_MODEL_015baac5e497455ba322c06b2646527e"
            ],
            "layout": "IPY_MODEL_1b2320e8e3444212bac8621ba264bea4"
          }
        },
        "893b452f2e09463c9bb5077ef96b98d3": {
          "model_module": "@jupyter-widgets/controls",
          "model_name": "HTMLModel",
          "model_module_version": "1.5.0",
          "state": {
            "_dom_classes": [],
            "_model_module": "@jupyter-widgets/controls",
            "_model_module_version": "1.5.0",
            "_model_name": "HTMLModel",
            "_view_count": null,
            "_view_module": "@jupyter-widgets/controls",
            "_view_module_version": "1.5.0",
            "_view_name": "HTMLView",
            "description": "",
            "description_tooltip": null,
            "layout": "IPY_MODEL_8e9ff43474f64ec4b8e753d6324aeb4f",
            "placeholder": "​",
            "style": "IPY_MODEL_5c4d51cab8014546b548cf66f273411f",
            "value": "Downloading: 100%"
          }
        },
        "dd61e67094724ebeb23cca9d7d03fac7": {
          "model_module": "@jupyter-widgets/controls",
          "model_name": "FloatProgressModel",
          "model_module_version": "1.5.0",
          "state": {
            "_dom_classes": [],
            "_model_module": "@jupyter-widgets/controls",
            "_model_module_version": "1.5.0",
            "_model_name": "FloatProgressModel",
            "_view_count": null,
            "_view_module": "@jupyter-widgets/controls",
            "_view_module_version": "1.5.0",
            "_view_name": "ProgressView",
            "bar_style": "success",
            "description": "",
            "description_tooltip": null,
            "layout": "IPY_MODEL_529d6024c2bf4427913769ffa5aa2f86",
            "max": 650,
            "min": 0,
            "orientation": "horizontal",
            "style": "IPY_MODEL_bb8e6e631dc94fe1bbd629dda1cb4b1c",
            "value": 650
          }
        },
        "015baac5e497455ba322c06b2646527e": {
          "model_module": "@jupyter-widgets/controls",
          "model_name": "HTMLModel",
          "model_module_version": "1.5.0",
          "state": {
            "_dom_classes": [],
            "_model_module": "@jupyter-widgets/controls",
            "_model_module_version": "1.5.0",
            "_model_name": "HTMLModel",
            "_view_count": null,
            "_view_module": "@jupyter-widgets/controls",
            "_view_module_version": "1.5.0",
            "_view_name": "HTMLView",
            "description": "",
            "description_tooltip": null,
            "layout": "IPY_MODEL_0c7d0aac20624b3ca4467bf6b282b741",
            "placeholder": "​",
            "style": "IPY_MODEL_bad301787f0b44eaac1c102f12331356",
            "value": " 650/650 [00:00&lt;00:00, 26.0kB/s]"
          }
        },
        "1b2320e8e3444212bac8621ba264bea4": {
          "model_module": "@jupyter-widgets/base",
          "model_name": "LayoutModel",
          "model_module_version": "1.2.0",
          "state": {
            "_model_module": "@jupyter-widgets/base",
            "_model_module_version": "1.2.0",
            "_model_name": "LayoutModel",
            "_view_count": null,
            "_view_module": "@jupyter-widgets/base",
            "_view_module_version": "1.2.0",
            "_view_name": "LayoutView",
            "align_content": null,
            "align_items": null,
            "align_self": null,
            "border": null,
            "bottom": null,
            "display": null,
            "flex": null,
            "flex_flow": null,
            "grid_area": null,
            "grid_auto_columns": null,
            "grid_auto_flow": null,
            "grid_auto_rows": null,
            "grid_column": null,
            "grid_gap": null,
            "grid_row": null,
            "grid_template_areas": null,
            "grid_template_columns": null,
            "grid_template_rows": null,
            "height": null,
            "justify_content": null,
            "justify_items": null,
            "left": null,
            "margin": null,
            "max_height": null,
            "max_width": null,
            "min_height": null,
            "min_width": null,
            "object_fit": null,
            "object_position": null,
            "order": null,
            "overflow": null,
            "overflow_x": null,
            "overflow_y": null,
            "padding": null,
            "right": null,
            "top": null,
            "visibility": null,
            "width": null
          }
        },
        "8e9ff43474f64ec4b8e753d6324aeb4f": {
          "model_module": "@jupyter-widgets/base",
          "model_name": "LayoutModel",
          "model_module_version": "1.2.0",
          "state": {
            "_model_module": "@jupyter-widgets/base",
            "_model_module_version": "1.2.0",
            "_model_name": "LayoutModel",
            "_view_count": null,
            "_view_module": "@jupyter-widgets/base",
            "_view_module_version": "1.2.0",
            "_view_name": "LayoutView",
            "align_content": null,
            "align_items": null,
            "align_self": null,
            "border": null,
            "bottom": null,
            "display": null,
            "flex": null,
            "flex_flow": null,
            "grid_area": null,
            "grid_auto_columns": null,
            "grid_auto_flow": null,
            "grid_auto_rows": null,
            "grid_column": null,
            "grid_gap": null,
            "grid_row": null,
            "grid_template_areas": null,
            "grid_template_columns": null,
            "grid_template_rows": null,
            "height": null,
            "justify_content": null,
            "justify_items": null,
            "left": null,
            "margin": null,
            "max_height": null,
            "max_width": null,
            "min_height": null,
            "min_width": null,
            "object_fit": null,
            "object_position": null,
            "order": null,
            "overflow": null,
            "overflow_x": null,
            "overflow_y": null,
            "padding": null,
            "right": null,
            "top": null,
            "visibility": null,
            "width": null
          }
        },
        "5c4d51cab8014546b548cf66f273411f": {
          "model_module": "@jupyter-widgets/controls",
          "model_name": "DescriptionStyleModel",
          "model_module_version": "1.5.0",
          "state": {
            "_model_module": "@jupyter-widgets/controls",
            "_model_module_version": "1.5.0",
            "_model_name": "DescriptionStyleModel",
            "_view_count": null,
            "_view_module": "@jupyter-widgets/base",
            "_view_module_version": "1.2.0",
            "_view_name": "StyleView",
            "description_width": ""
          }
        },
        "529d6024c2bf4427913769ffa5aa2f86": {
          "model_module": "@jupyter-widgets/base",
          "model_name": "LayoutModel",
          "model_module_version": "1.2.0",
          "state": {
            "_model_module": "@jupyter-widgets/base",
            "_model_module_version": "1.2.0",
            "_model_name": "LayoutModel",
            "_view_count": null,
            "_view_module": "@jupyter-widgets/base",
            "_view_module_version": "1.2.0",
            "_view_name": "LayoutView",
            "align_content": null,
            "align_items": null,
            "align_self": null,
            "border": null,
            "bottom": null,
            "display": null,
            "flex": null,
            "flex_flow": null,
            "grid_area": null,
            "grid_auto_columns": null,
            "grid_auto_flow": null,
            "grid_auto_rows": null,
            "grid_column": null,
            "grid_gap": null,
            "grid_row": null,
            "grid_template_areas": null,
            "grid_template_columns": null,
            "grid_template_rows": null,
            "height": null,
            "justify_content": null,
            "justify_items": null,
            "left": null,
            "margin": null,
            "max_height": null,
            "max_width": null,
            "min_height": null,
            "min_width": null,
            "object_fit": null,
            "object_position": null,
            "order": null,
            "overflow": null,
            "overflow_x": null,
            "overflow_y": null,
            "padding": null,
            "right": null,
            "top": null,
            "visibility": null,
            "width": null
          }
        },
        "bb8e6e631dc94fe1bbd629dda1cb4b1c": {
          "model_module": "@jupyter-widgets/controls",
          "model_name": "ProgressStyleModel",
          "model_module_version": "1.5.0",
          "state": {
            "_model_module": "@jupyter-widgets/controls",
            "_model_module_version": "1.5.0",
            "_model_name": "ProgressStyleModel",
            "_view_count": null,
            "_view_module": "@jupyter-widgets/base",
            "_view_module_version": "1.2.0",
            "_view_name": "StyleView",
            "bar_color": null,
            "description_width": ""
          }
        },
        "0c7d0aac20624b3ca4467bf6b282b741": {
          "model_module": "@jupyter-widgets/base",
          "model_name": "LayoutModel",
          "model_module_version": "1.2.0",
          "state": {
            "_model_module": "@jupyter-widgets/base",
            "_model_module_version": "1.2.0",
            "_model_name": "LayoutModel",
            "_view_count": null,
            "_view_module": "@jupyter-widgets/base",
            "_view_module_version": "1.2.0",
            "_view_name": "LayoutView",
            "align_content": null,
            "align_items": null,
            "align_self": null,
            "border": null,
            "bottom": null,
            "display": null,
            "flex": null,
            "flex_flow": null,
            "grid_area": null,
            "grid_auto_columns": null,
            "grid_auto_flow": null,
            "grid_auto_rows": null,
            "grid_column": null,
            "grid_gap": null,
            "grid_row": null,
            "grid_template_areas": null,
            "grid_template_columns": null,
            "grid_template_rows": null,
            "height": null,
            "justify_content": null,
            "justify_items": null,
            "left": null,
            "margin": null,
            "max_height": null,
            "max_width": null,
            "min_height": null,
            "min_width": null,
            "object_fit": null,
            "object_position": null,
            "order": null,
            "overflow": null,
            "overflow_x": null,
            "overflow_y": null,
            "padding": null,
            "right": null,
            "top": null,
            "visibility": null,
            "width": null
          }
        },
        "bad301787f0b44eaac1c102f12331356": {
          "model_module": "@jupyter-widgets/controls",
          "model_name": "DescriptionStyleModel",
          "model_module_version": "1.5.0",
          "state": {
            "_model_module": "@jupyter-widgets/controls",
            "_model_module_version": "1.5.0",
            "_model_name": "DescriptionStyleModel",
            "_view_count": null,
            "_view_module": "@jupyter-widgets/base",
            "_view_module_version": "1.2.0",
            "_view_name": "StyleView",
            "description_width": ""
          }
        },
        "b1cc0d095ede47a1a23cdf13c79f2e3e": {
          "model_module": "@jupyter-widgets/controls",
          "model_name": "HBoxModel",
          "model_module_version": "1.5.0",
          "state": {
            "_dom_classes": [],
            "_model_module": "@jupyter-widgets/controls",
            "_model_module_version": "1.5.0",
            "_model_name": "HBoxModel",
            "_view_count": null,
            "_view_module": "@jupyter-widgets/controls",
            "_view_module_version": "1.5.0",
            "_view_name": "HBoxView",
            "box_style": "",
            "children": [
              "IPY_MODEL_3dd2bd6c85e54c9398fc59c4a269c25a",
              "IPY_MODEL_ba3bf2ef61d34c088e863ed33dd7afad",
              "IPY_MODEL_d39c2aec97704f88861139f08c135106"
            ],
            "layout": "IPY_MODEL_aea346b4c6eb4da9867db1808bc7ba2d"
          }
        },
        "3dd2bd6c85e54c9398fc59c4a269c25a": {
          "model_module": "@jupyter-widgets/controls",
          "model_name": "HTMLModel",
          "model_module_version": "1.5.0",
          "state": {
            "_dom_classes": [],
            "_model_module": "@jupyter-widgets/controls",
            "_model_module_version": "1.5.0",
            "_model_name": "HTMLModel",
            "_view_count": null,
            "_view_module": "@jupyter-widgets/controls",
            "_view_module_version": "1.5.0",
            "_view_name": "HTMLView",
            "description": "",
            "description_tooltip": null,
            "layout": "IPY_MODEL_7c1ddd51202941a29936c162e77b0423",
            "placeholder": "​",
            "style": "IPY_MODEL_0df9b283ea064094934a2b1a54646729",
            "value": "Downloading: 100%"
          }
        },
        "ba3bf2ef61d34c088e863ed33dd7afad": {
          "model_module": "@jupyter-widgets/controls",
          "model_name": "FloatProgressModel",
          "model_module_version": "1.5.0",
          "state": {
            "_dom_classes": [],
            "_model_module": "@jupyter-widgets/controls",
            "_model_module_version": "1.5.0",
            "_model_name": "FloatProgressModel",
            "_view_count": null,
            "_view_module": "@jupyter-widgets/controls",
            "_view_module_version": "1.5.0",
            "_view_name": "ProgressView",
            "bar_style": "success",
            "description": "",
            "description_tooltip": null,
            "layout": "IPY_MODEL_e31a4b2660494ce5afecb12210eed7a0",
            "max": 439621341,
            "min": 0,
            "orientation": "horizontal",
            "style": "IPY_MODEL_046083cbdc464e3aa85261f9e6891bc3",
            "value": 439621341
          }
        },
        "d39c2aec97704f88861139f08c135106": {
          "model_module": "@jupyter-widgets/controls",
          "model_name": "HTMLModel",
          "model_module_version": "1.5.0",
          "state": {
            "_dom_classes": [],
            "_model_module": "@jupyter-widgets/controls",
            "_model_module_version": "1.5.0",
            "_model_name": "HTMLModel",
            "_view_count": null,
            "_view_module": "@jupyter-widgets/controls",
            "_view_module_version": "1.5.0",
            "_view_name": "HTMLView",
            "description": "",
            "description_tooltip": null,
            "layout": "IPY_MODEL_99b350183c924779b3de78bcd0f0ddce",
            "placeholder": "​",
            "style": "IPY_MODEL_09472fa33ae24a69951f025d40e4b57e",
            "value": " 440M/440M [00:05&lt;00:00, 83.5MB/s]"
          }
        },
        "aea346b4c6eb4da9867db1808bc7ba2d": {
          "model_module": "@jupyter-widgets/base",
          "model_name": "LayoutModel",
          "model_module_version": "1.2.0",
          "state": {
            "_model_module": "@jupyter-widgets/base",
            "_model_module_version": "1.2.0",
            "_model_name": "LayoutModel",
            "_view_count": null,
            "_view_module": "@jupyter-widgets/base",
            "_view_module_version": "1.2.0",
            "_view_name": "LayoutView",
            "align_content": null,
            "align_items": null,
            "align_self": null,
            "border": null,
            "bottom": null,
            "display": null,
            "flex": null,
            "flex_flow": null,
            "grid_area": null,
            "grid_auto_columns": null,
            "grid_auto_flow": null,
            "grid_auto_rows": null,
            "grid_column": null,
            "grid_gap": null,
            "grid_row": null,
            "grid_template_areas": null,
            "grid_template_columns": null,
            "grid_template_rows": null,
            "height": null,
            "justify_content": null,
            "justify_items": null,
            "left": null,
            "margin": null,
            "max_height": null,
            "max_width": null,
            "min_height": null,
            "min_width": null,
            "object_fit": null,
            "object_position": null,
            "order": null,
            "overflow": null,
            "overflow_x": null,
            "overflow_y": null,
            "padding": null,
            "right": null,
            "top": null,
            "visibility": null,
            "width": null
          }
        },
        "7c1ddd51202941a29936c162e77b0423": {
          "model_module": "@jupyter-widgets/base",
          "model_name": "LayoutModel",
          "model_module_version": "1.2.0",
          "state": {
            "_model_module": "@jupyter-widgets/base",
            "_model_module_version": "1.2.0",
            "_model_name": "LayoutModel",
            "_view_count": null,
            "_view_module": "@jupyter-widgets/base",
            "_view_module_version": "1.2.0",
            "_view_name": "LayoutView",
            "align_content": null,
            "align_items": null,
            "align_self": null,
            "border": null,
            "bottom": null,
            "display": null,
            "flex": null,
            "flex_flow": null,
            "grid_area": null,
            "grid_auto_columns": null,
            "grid_auto_flow": null,
            "grid_auto_rows": null,
            "grid_column": null,
            "grid_gap": null,
            "grid_row": null,
            "grid_template_areas": null,
            "grid_template_columns": null,
            "grid_template_rows": null,
            "height": null,
            "justify_content": null,
            "justify_items": null,
            "left": null,
            "margin": null,
            "max_height": null,
            "max_width": null,
            "min_height": null,
            "min_width": null,
            "object_fit": null,
            "object_position": null,
            "order": null,
            "overflow": null,
            "overflow_x": null,
            "overflow_y": null,
            "padding": null,
            "right": null,
            "top": null,
            "visibility": null,
            "width": null
          }
        },
        "0df9b283ea064094934a2b1a54646729": {
          "model_module": "@jupyter-widgets/controls",
          "model_name": "DescriptionStyleModel",
          "model_module_version": "1.5.0",
          "state": {
            "_model_module": "@jupyter-widgets/controls",
            "_model_module_version": "1.5.0",
            "_model_name": "DescriptionStyleModel",
            "_view_count": null,
            "_view_module": "@jupyter-widgets/base",
            "_view_module_version": "1.2.0",
            "_view_name": "StyleView",
            "description_width": ""
          }
        },
        "e31a4b2660494ce5afecb12210eed7a0": {
          "model_module": "@jupyter-widgets/base",
          "model_name": "LayoutModel",
          "model_module_version": "1.2.0",
          "state": {
            "_model_module": "@jupyter-widgets/base",
            "_model_module_version": "1.2.0",
            "_model_name": "LayoutModel",
            "_view_count": null,
            "_view_module": "@jupyter-widgets/base",
            "_view_module_version": "1.2.0",
            "_view_name": "LayoutView",
            "align_content": null,
            "align_items": null,
            "align_self": null,
            "border": null,
            "bottom": null,
            "display": null,
            "flex": null,
            "flex_flow": null,
            "grid_area": null,
            "grid_auto_columns": null,
            "grid_auto_flow": null,
            "grid_auto_rows": null,
            "grid_column": null,
            "grid_gap": null,
            "grid_row": null,
            "grid_template_areas": null,
            "grid_template_columns": null,
            "grid_template_rows": null,
            "height": null,
            "justify_content": null,
            "justify_items": null,
            "left": null,
            "margin": null,
            "max_height": null,
            "max_width": null,
            "min_height": null,
            "min_width": null,
            "object_fit": null,
            "object_position": null,
            "order": null,
            "overflow": null,
            "overflow_x": null,
            "overflow_y": null,
            "padding": null,
            "right": null,
            "top": null,
            "visibility": null,
            "width": null
          }
        },
        "046083cbdc464e3aa85261f9e6891bc3": {
          "model_module": "@jupyter-widgets/controls",
          "model_name": "ProgressStyleModel",
          "model_module_version": "1.5.0",
          "state": {
            "_model_module": "@jupyter-widgets/controls",
            "_model_module_version": "1.5.0",
            "_model_name": "ProgressStyleModel",
            "_view_count": null,
            "_view_module": "@jupyter-widgets/base",
            "_view_module_version": "1.2.0",
            "_view_name": "StyleView",
            "bar_color": null,
            "description_width": ""
          }
        },
        "99b350183c924779b3de78bcd0f0ddce": {
          "model_module": "@jupyter-widgets/base",
          "model_name": "LayoutModel",
          "model_module_version": "1.2.0",
          "state": {
            "_model_module": "@jupyter-widgets/base",
            "_model_module_version": "1.2.0",
            "_model_name": "LayoutModel",
            "_view_count": null,
            "_view_module": "@jupyter-widgets/base",
            "_view_module_version": "1.2.0",
            "_view_name": "LayoutView",
            "align_content": null,
            "align_items": null,
            "align_self": null,
            "border": null,
            "bottom": null,
            "display": null,
            "flex": null,
            "flex_flow": null,
            "grid_area": null,
            "grid_auto_columns": null,
            "grid_auto_flow": null,
            "grid_auto_rows": null,
            "grid_column": null,
            "grid_gap": null,
            "grid_row": null,
            "grid_template_areas": null,
            "grid_template_columns": null,
            "grid_template_rows": null,
            "height": null,
            "justify_content": null,
            "justify_items": null,
            "left": null,
            "margin": null,
            "max_height": null,
            "max_width": null,
            "min_height": null,
            "min_width": null,
            "object_fit": null,
            "object_position": null,
            "order": null,
            "overflow": null,
            "overflow_x": null,
            "overflow_y": null,
            "padding": null,
            "right": null,
            "top": null,
            "visibility": null,
            "width": null
          }
        },
        "09472fa33ae24a69951f025d40e4b57e": {
          "model_module": "@jupyter-widgets/controls",
          "model_name": "DescriptionStyleModel",
          "model_module_version": "1.5.0",
          "state": {
            "_model_module": "@jupyter-widgets/controls",
            "_model_module_version": "1.5.0",
            "_model_name": "DescriptionStyleModel",
            "_view_count": null,
            "_view_module": "@jupyter-widgets/base",
            "_view_module_version": "1.2.0",
            "_view_name": "StyleView",
            "description_width": ""
          }
        },
        "4cf073c9084047599a0fc663299851a4": {
          "model_module": "@jupyter-widgets/controls",
          "model_name": "HBoxModel",
          "model_module_version": "1.5.0",
          "state": {
            "_dom_classes": [],
            "_model_module": "@jupyter-widgets/controls",
            "_model_module_version": "1.5.0",
            "_model_name": "HBoxModel",
            "_view_count": null,
            "_view_module": "@jupyter-widgets/controls",
            "_view_module_version": "1.5.0",
            "_view_name": "HBoxView",
            "box_style": "",
            "children": [
              "IPY_MODEL_53f5a6964182408ebef7c85f08569212",
              "IPY_MODEL_bb1e9cc1939a4f7fb64669befd396a5f",
              "IPY_MODEL_7d03ec6b243e4c75a79b7541e967a57d"
            ],
            "layout": "IPY_MODEL_e0130fd78cf04e928697b5057ebaac50"
          }
        },
        "53f5a6964182408ebef7c85f08569212": {
          "model_module": "@jupyter-widgets/controls",
          "model_name": "HTMLModel",
          "model_module_version": "1.5.0",
          "state": {
            "_dom_classes": [],
            "_model_module": "@jupyter-widgets/controls",
            "_model_module_version": "1.5.0",
            "_model_name": "HTMLModel",
            "_view_count": null,
            "_view_module": "@jupyter-widgets/controls",
            "_view_module_version": "1.5.0",
            "_view_name": "HTMLView",
            "description": "",
            "description_tooltip": null,
            "layout": "IPY_MODEL_6beb31a7678c4cc4a2071b575726eb63",
            "placeholder": "​",
            "style": "IPY_MODEL_8fff5bac439b434b83573ee0cbc78915",
            "value": "Downloading: 100%"
          }
        },
        "bb1e9cc1939a4f7fb64669befd396a5f": {
          "model_module": "@jupyter-widgets/controls",
          "model_name": "FloatProgressModel",
          "model_module_version": "1.5.0",
          "state": {
            "_dom_classes": [],
            "_model_module": "@jupyter-widgets/controls",
            "_model_module_version": "1.5.0",
            "_model_name": "FloatProgressModel",
            "_view_count": null,
            "_view_module": "@jupyter-widgets/controls",
            "_view_module_version": "1.5.0",
            "_view_name": "ProgressView",
            "bar_style": "success",
            "description": "",
            "description_tooltip": null,
            "layout": "IPY_MODEL_e4af77e78d6f43118581ebbe88ca77c9",
            "max": 247723,
            "min": 0,
            "orientation": "horizontal",
            "style": "IPY_MODEL_deda74730c534072a7bd03c9228c07b3",
            "value": 247723
          }
        },
        "7d03ec6b243e4c75a79b7541e967a57d": {
          "model_module": "@jupyter-widgets/controls",
          "model_name": "HTMLModel",
          "model_module_version": "1.5.0",
          "state": {
            "_dom_classes": [],
            "_model_module": "@jupyter-widgets/controls",
            "_model_module_version": "1.5.0",
            "_model_name": "HTMLModel",
            "_view_count": null,
            "_view_module": "@jupyter-widgets/controls",
            "_view_module_version": "1.5.0",
            "_view_name": "HTMLView",
            "description": "",
            "description_tooltip": null,
            "layout": "IPY_MODEL_22e643e662e940a1bfd15ed6f5523c22",
            "placeholder": "​",
            "style": "IPY_MODEL_6e323468b12f44e6bebe3bccaf84fd56",
            "value": " 248k/248k [00:00&lt;00:00, 1.70MB/s]"
          }
        },
        "e0130fd78cf04e928697b5057ebaac50": {
          "model_module": "@jupyter-widgets/base",
          "model_name": "LayoutModel",
          "model_module_version": "1.2.0",
          "state": {
            "_model_module": "@jupyter-widgets/base",
            "_model_module_version": "1.2.0",
            "_model_name": "LayoutModel",
            "_view_count": null,
            "_view_module": "@jupyter-widgets/base",
            "_view_module_version": "1.2.0",
            "_view_name": "LayoutView",
            "align_content": null,
            "align_items": null,
            "align_self": null,
            "border": null,
            "bottom": null,
            "display": null,
            "flex": null,
            "flex_flow": null,
            "grid_area": null,
            "grid_auto_columns": null,
            "grid_auto_flow": null,
            "grid_auto_rows": null,
            "grid_column": null,
            "grid_gap": null,
            "grid_row": null,
            "grid_template_areas": null,
            "grid_template_columns": null,
            "grid_template_rows": null,
            "height": null,
            "justify_content": null,
            "justify_items": null,
            "left": null,
            "margin": null,
            "max_height": null,
            "max_width": null,
            "min_height": null,
            "min_width": null,
            "object_fit": null,
            "object_position": null,
            "order": null,
            "overflow": null,
            "overflow_x": null,
            "overflow_y": null,
            "padding": null,
            "right": null,
            "top": null,
            "visibility": null,
            "width": null
          }
        },
        "6beb31a7678c4cc4a2071b575726eb63": {
          "model_module": "@jupyter-widgets/base",
          "model_name": "LayoutModel",
          "model_module_version": "1.2.0",
          "state": {
            "_model_module": "@jupyter-widgets/base",
            "_model_module_version": "1.2.0",
            "_model_name": "LayoutModel",
            "_view_count": null,
            "_view_module": "@jupyter-widgets/base",
            "_view_module_version": "1.2.0",
            "_view_name": "LayoutView",
            "align_content": null,
            "align_items": null,
            "align_self": null,
            "border": null,
            "bottom": null,
            "display": null,
            "flex": null,
            "flex_flow": null,
            "grid_area": null,
            "grid_auto_columns": null,
            "grid_auto_flow": null,
            "grid_auto_rows": null,
            "grid_column": null,
            "grid_gap": null,
            "grid_row": null,
            "grid_template_areas": null,
            "grid_template_columns": null,
            "grid_template_rows": null,
            "height": null,
            "justify_content": null,
            "justify_items": null,
            "left": null,
            "margin": null,
            "max_height": null,
            "max_width": null,
            "min_height": null,
            "min_width": null,
            "object_fit": null,
            "object_position": null,
            "order": null,
            "overflow": null,
            "overflow_x": null,
            "overflow_y": null,
            "padding": null,
            "right": null,
            "top": null,
            "visibility": null,
            "width": null
          }
        },
        "8fff5bac439b434b83573ee0cbc78915": {
          "model_module": "@jupyter-widgets/controls",
          "model_name": "DescriptionStyleModel",
          "model_module_version": "1.5.0",
          "state": {
            "_model_module": "@jupyter-widgets/controls",
            "_model_module_version": "1.5.0",
            "_model_name": "DescriptionStyleModel",
            "_view_count": null,
            "_view_module": "@jupyter-widgets/base",
            "_view_module_version": "1.2.0",
            "_view_name": "StyleView",
            "description_width": ""
          }
        },
        "e4af77e78d6f43118581ebbe88ca77c9": {
          "model_module": "@jupyter-widgets/base",
          "model_name": "LayoutModel",
          "model_module_version": "1.2.0",
          "state": {
            "_model_module": "@jupyter-widgets/base",
            "_model_module_version": "1.2.0",
            "_model_name": "LayoutModel",
            "_view_count": null,
            "_view_module": "@jupyter-widgets/base",
            "_view_module_version": "1.2.0",
            "_view_name": "LayoutView",
            "align_content": null,
            "align_items": null,
            "align_self": null,
            "border": null,
            "bottom": null,
            "display": null,
            "flex": null,
            "flex_flow": null,
            "grid_area": null,
            "grid_auto_columns": null,
            "grid_auto_flow": null,
            "grid_auto_rows": null,
            "grid_column": null,
            "grid_gap": null,
            "grid_row": null,
            "grid_template_areas": null,
            "grid_template_columns": null,
            "grid_template_rows": null,
            "height": null,
            "justify_content": null,
            "justify_items": null,
            "left": null,
            "margin": null,
            "max_height": null,
            "max_width": null,
            "min_height": null,
            "min_width": null,
            "object_fit": null,
            "object_position": null,
            "order": null,
            "overflow": null,
            "overflow_x": null,
            "overflow_y": null,
            "padding": null,
            "right": null,
            "top": null,
            "visibility": null,
            "width": null
          }
        },
        "deda74730c534072a7bd03c9228c07b3": {
          "model_module": "@jupyter-widgets/controls",
          "model_name": "ProgressStyleModel",
          "model_module_version": "1.5.0",
          "state": {
            "_model_module": "@jupyter-widgets/controls",
            "_model_module_version": "1.5.0",
            "_model_name": "ProgressStyleModel",
            "_view_count": null,
            "_view_module": "@jupyter-widgets/base",
            "_view_module_version": "1.2.0",
            "_view_name": "StyleView",
            "bar_color": null,
            "description_width": ""
          }
        },
        "22e643e662e940a1bfd15ed6f5523c22": {
          "model_module": "@jupyter-widgets/base",
          "model_name": "LayoutModel",
          "model_module_version": "1.2.0",
          "state": {
            "_model_module": "@jupyter-widgets/base",
            "_model_module_version": "1.2.0",
            "_model_name": "LayoutModel",
            "_view_count": null,
            "_view_module": "@jupyter-widgets/base",
            "_view_module_version": "1.2.0",
            "_view_name": "LayoutView",
            "align_content": null,
            "align_items": null,
            "align_self": null,
            "border": null,
            "bottom": null,
            "display": null,
            "flex": null,
            "flex_flow": null,
            "grid_area": null,
            "grid_auto_columns": null,
            "grid_auto_flow": null,
            "grid_auto_rows": null,
            "grid_column": null,
            "grid_gap": null,
            "grid_row": null,
            "grid_template_areas": null,
            "grid_template_columns": null,
            "grid_template_rows": null,
            "height": null,
            "justify_content": null,
            "justify_items": null,
            "left": null,
            "margin": null,
            "max_height": null,
            "max_width": null,
            "min_height": null,
            "min_width": null,
            "object_fit": null,
            "object_position": null,
            "order": null,
            "overflow": null,
            "overflow_x": null,
            "overflow_y": null,
            "padding": null,
            "right": null,
            "top": null,
            "visibility": null,
            "width": null
          }
        },
        "6e323468b12f44e6bebe3bccaf84fd56": {
          "model_module": "@jupyter-widgets/controls",
          "model_name": "DescriptionStyleModel",
          "model_module_version": "1.5.0",
          "state": {
            "_model_module": "@jupyter-widgets/controls",
            "_model_module_version": "1.5.0",
            "_model_name": "DescriptionStyleModel",
            "_view_count": null,
            "_view_module": "@jupyter-widgets/base",
            "_view_module_version": "1.2.0",
            "_view_name": "StyleView",
            "description_width": ""
          }
        },
        "846ce034fe394b5fb2fa91f07182877f": {
          "model_module": "@jupyter-widgets/controls",
          "model_name": "HBoxModel",
          "model_module_version": "1.5.0",
          "state": {
            "_dom_classes": [],
            "_model_module": "@jupyter-widgets/controls",
            "_model_module_version": "1.5.0",
            "_model_name": "HBoxModel",
            "_view_count": null,
            "_view_module": "@jupyter-widgets/controls",
            "_view_module_version": "1.5.0",
            "_view_name": "HBoxView",
            "box_style": "",
            "children": [
              "IPY_MODEL_b02d4fd4961a4f65aa907b7dd3b26fb9",
              "IPY_MODEL_bb62e9b4352549b5912c48189de1edb2",
              "IPY_MODEL_41cb29f5bc2e4225880458fb42d7716f"
            ],
            "layout": "IPY_MODEL_ee0be19424a843d593ba7a3029385a8b"
          }
        },
        "b02d4fd4961a4f65aa907b7dd3b26fb9": {
          "model_module": "@jupyter-widgets/controls",
          "model_name": "HTMLModel",
          "model_module_version": "1.5.0",
          "state": {
            "_dom_classes": [],
            "_model_module": "@jupyter-widgets/controls",
            "_model_module_version": "1.5.0",
            "_model_name": "HTMLModel",
            "_view_count": null,
            "_view_module": "@jupyter-widgets/controls",
            "_view_module_version": "1.5.0",
            "_view_name": "HTMLView",
            "description": "",
            "description_tooltip": null,
            "layout": "IPY_MODEL_777bded894a7450ca6b17158d7e02f91",
            "placeholder": "​",
            "style": "IPY_MODEL_83276cec6bae49fc8127b804fbcad228",
            "value": "Downloading: 100%"
          }
        },
        "bb62e9b4352549b5912c48189de1edb2": {
          "model_module": "@jupyter-widgets/controls",
          "model_name": "FloatProgressModel",
          "model_module_version": "1.5.0",
          "state": {
            "_dom_classes": [],
            "_model_module": "@jupyter-widgets/controls",
            "_model_module_version": "1.5.0",
            "_model_name": "FloatProgressModel",
            "_view_count": null,
            "_view_module": "@jupyter-widgets/controls",
            "_view_module_version": "1.5.0",
            "_view_name": "ProgressView",
            "bar_style": "success",
            "description": "",
            "description_tooltip": null,
            "layout": "IPY_MODEL_7ddf9966434240c28ee6fdeb34ad702f",
            "max": 134,
            "min": 0,
            "orientation": "horizontal",
            "style": "IPY_MODEL_35e6931a721e4a7d97c458cdba926819",
            "value": 134
          }
        },
        "41cb29f5bc2e4225880458fb42d7716f": {
          "model_module": "@jupyter-widgets/controls",
          "model_name": "HTMLModel",
          "model_module_version": "1.5.0",
          "state": {
            "_dom_classes": [],
            "_model_module": "@jupyter-widgets/controls",
            "_model_module_version": "1.5.0",
            "_model_name": "HTMLModel",
            "_view_count": null,
            "_view_module": "@jupyter-widgets/controls",
            "_view_module_version": "1.5.0",
            "_view_name": "HTMLView",
            "description": "",
            "description_tooltip": null,
            "layout": "IPY_MODEL_e905a2d77d3e4d3c94b0721c3228e5aa",
            "placeholder": "​",
            "style": "IPY_MODEL_1614cfa1c98441eab40dff7264d3102d",
            "value": " 134/134 [00:00&lt;00:00, 4.10kB/s]"
          }
        },
        "ee0be19424a843d593ba7a3029385a8b": {
          "model_module": "@jupyter-widgets/base",
          "model_name": "LayoutModel",
          "model_module_version": "1.2.0",
          "state": {
            "_model_module": "@jupyter-widgets/base",
            "_model_module_version": "1.2.0",
            "_model_name": "LayoutModel",
            "_view_count": null,
            "_view_module": "@jupyter-widgets/base",
            "_view_module_version": "1.2.0",
            "_view_name": "LayoutView",
            "align_content": null,
            "align_items": null,
            "align_self": null,
            "border": null,
            "bottom": null,
            "display": null,
            "flex": null,
            "flex_flow": null,
            "grid_area": null,
            "grid_auto_columns": null,
            "grid_auto_flow": null,
            "grid_auto_rows": null,
            "grid_column": null,
            "grid_gap": null,
            "grid_row": null,
            "grid_template_areas": null,
            "grid_template_columns": null,
            "grid_template_rows": null,
            "height": null,
            "justify_content": null,
            "justify_items": null,
            "left": null,
            "margin": null,
            "max_height": null,
            "max_width": null,
            "min_height": null,
            "min_width": null,
            "object_fit": null,
            "object_position": null,
            "order": null,
            "overflow": null,
            "overflow_x": null,
            "overflow_y": null,
            "padding": null,
            "right": null,
            "top": null,
            "visibility": null,
            "width": null
          }
        },
        "777bded894a7450ca6b17158d7e02f91": {
          "model_module": "@jupyter-widgets/base",
          "model_name": "LayoutModel",
          "model_module_version": "1.2.0",
          "state": {
            "_model_module": "@jupyter-widgets/base",
            "_model_module_version": "1.2.0",
            "_model_name": "LayoutModel",
            "_view_count": null,
            "_view_module": "@jupyter-widgets/base",
            "_view_module_version": "1.2.0",
            "_view_name": "LayoutView",
            "align_content": null,
            "align_items": null,
            "align_self": null,
            "border": null,
            "bottom": null,
            "display": null,
            "flex": null,
            "flex_flow": null,
            "grid_area": null,
            "grid_auto_columns": null,
            "grid_auto_flow": null,
            "grid_auto_rows": null,
            "grid_column": null,
            "grid_gap": null,
            "grid_row": null,
            "grid_template_areas": null,
            "grid_template_columns": null,
            "grid_template_rows": null,
            "height": null,
            "justify_content": null,
            "justify_items": null,
            "left": null,
            "margin": null,
            "max_height": null,
            "max_width": null,
            "min_height": null,
            "min_width": null,
            "object_fit": null,
            "object_position": null,
            "order": null,
            "overflow": null,
            "overflow_x": null,
            "overflow_y": null,
            "padding": null,
            "right": null,
            "top": null,
            "visibility": null,
            "width": null
          }
        },
        "83276cec6bae49fc8127b804fbcad228": {
          "model_module": "@jupyter-widgets/controls",
          "model_name": "DescriptionStyleModel",
          "model_module_version": "1.5.0",
          "state": {
            "_model_module": "@jupyter-widgets/controls",
            "_model_module_version": "1.5.0",
            "_model_name": "DescriptionStyleModel",
            "_view_count": null,
            "_view_module": "@jupyter-widgets/base",
            "_view_module_version": "1.2.0",
            "_view_name": "StyleView",
            "description_width": ""
          }
        },
        "7ddf9966434240c28ee6fdeb34ad702f": {
          "model_module": "@jupyter-widgets/base",
          "model_name": "LayoutModel",
          "model_module_version": "1.2.0",
          "state": {
            "_model_module": "@jupyter-widgets/base",
            "_model_module_version": "1.2.0",
            "_model_name": "LayoutModel",
            "_view_count": null,
            "_view_module": "@jupyter-widgets/base",
            "_view_module_version": "1.2.0",
            "_view_name": "LayoutView",
            "align_content": null,
            "align_items": null,
            "align_self": null,
            "border": null,
            "bottom": null,
            "display": null,
            "flex": null,
            "flex_flow": null,
            "grid_area": null,
            "grid_auto_columns": null,
            "grid_auto_flow": null,
            "grid_auto_rows": null,
            "grid_column": null,
            "grid_gap": null,
            "grid_row": null,
            "grid_template_areas": null,
            "grid_template_columns": null,
            "grid_template_rows": null,
            "height": null,
            "justify_content": null,
            "justify_items": null,
            "left": null,
            "margin": null,
            "max_height": null,
            "max_width": null,
            "min_height": null,
            "min_width": null,
            "object_fit": null,
            "object_position": null,
            "order": null,
            "overflow": null,
            "overflow_x": null,
            "overflow_y": null,
            "padding": null,
            "right": null,
            "top": null,
            "visibility": null,
            "width": null
          }
        },
        "35e6931a721e4a7d97c458cdba926819": {
          "model_module": "@jupyter-widgets/controls",
          "model_name": "ProgressStyleModel",
          "model_module_version": "1.5.0",
          "state": {
            "_model_module": "@jupyter-widgets/controls",
            "_model_module_version": "1.5.0",
            "_model_name": "ProgressStyleModel",
            "_view_count": null,
            "_view_module": "@jupyter-widgets/base",
            "_view_module_version": "1.2.0",
            "_view_name": "StyleView",
            "bar_color": null,
            "description_width": ""
          }
        },
        "e905a2d77d3e4d3c94b0721c3228e5aa": {
          "model_module": "@jupyter-widgets/base",
          "model_name": "LayoutModel",
          "model_module_version": "1.2.0",
          "state": {
            "_model_module": "@jupyter-widgets/base",
            "_model_module_version": "1.2.0",
            "_model_name": "LayoutModel",
            "_view_count": null,
            "_view_module": "@jupyter-widgets/base",
            "_view_module_version": "1.2.0",
            "_view_name": "LayoutView",
            "align_content": null,
            "align_items": null,
            "align_self": null,
            "border": null,
            "bottom": null,
            "display": null,
            "flex": null,
            "flex_flow": null,
            "grid_area": null,
            "grid_auto_columns": null,
            "grid_auto_flow": null,
            "grid_auto_rows": null,
            "grid_column": null,
            "grid_gap": null,
            "grid_row": null,
            "grid_template_areas": null,
            "grid_template_columns": null,
            "grid_template_rows": null,
            "height": null,
            "justify_content": null,
            "justify_items": null,
            "left": null,
            "margin": null,
            "max_height": null,
            "max_width": null,
            "min_height": null,
            "min_width": null,
            "object_fit": null,
            "object_position": null,
            "order": null,
            "overflow": null,
            "overflow_x": null,
            "overflow_y": null,
            "padding": null,
            "right": null,
            "top": null,
            "visibility": null,
            "width": null
          }
        },
        "1614cfa1c98441eab40dff7264d3102d": {
          "model_module": "@jupyter-widgets/controls",
          "model_name": "DescriptionStyleModel",
          "model_module_version": "1.5.0",
          "state": {
            "_model_module": "@jupyter-widgets/controls",
            "_model_module_version": "1.5.0",
            "_model_name": "DescriptionStyleModel",
            "_view_count": null,
            "_view_module": "@jupyter-widgets/base",
            "_view_module_version": "1.2.0",
            "_view_name": "StyleView",
            "description_width": ""
          }
        },
        "cc023fe2721d48309957700ef4f1b26c": {
          "model_module": "@jupyter-widgets/controls",
          "model_name": "HBoxModel",
          "model_module_version": "1.5.0",
          "state": {
            "_dom_classes": [],
            "_model_module": "@jupyter-widgets/controls",
            "_model_module_version": "1.5.0",
            "_model_name": "HBoxModel",
            "_view_count": null,
            "_view_module": "@jupyter-widgets/controls",
            "_view_module_version": "1.5.0",
            "_view_name": "HBoxView",
            "box_style": "",
            "children": [
              "IPY_MODEL_12f196a11ba3459881e8c2675dfe4af1",
              "IPY_MODEL_5f2df2ebea0c42868edc756e5eaac742",
              "IPY_MODEL_9b7503d709ad4032ad0249edca586cac"
            ],
            "layout": "IPY_MODEL_36b100707b8e49cfbe638feadf2d5d53"
          }
        },
        "12f196a11ba3459881e8c2675dfe4af1": {
          "model_module": "@jupyter-widgets/controls",
          "model_name": "HTMLModel",
          "model_module_version": "1.5.0",
          "state": {
            "_dom_classes": [],
            "_model_module": "@jupyter-widgets/controls",
            "_model_module_version": "1.5.0",
            "_model_name": "HTMLModel",
            "_view_count": null,
            "_view_module": "@jupyter-widgets/controls",
            "_view_module_version": "1.5.0",
            "_view_name": "HTMLView",
            "description": "",
            "description_tooltip": null,
            "layout": "IPY_MODEL_c4f7f41c2fe44c2a9a45eb6b8419ee73",
            "placeholder": "​",
            "style": "IPY_MODEL_121a3dc010a04795899463b3774df085",
            "value": "Downloading: 100%"
          }
        },
        "5f2df2ebea0c42868edc756e5eaac742": {
          "model_module": "@jupyter-widgets/controls",
          "model_name": "FloatProgressModel",
          "model_module_version": "1.5.0",
          "state": {
            "_dom_classes": [],
            "_model_module": "@jupyter-widgets/controls",
            "_model_module_version": "1.5.0",
            "_model_name": "FloatProgressModel",
            "_view_count": null,
            "_view_module": "@jupyter-widgets/controls",
            "_view_module_version": "1.5.0",
            "_view_name": "ProgressView",
            "bar_style": "success",
            "description": "",
            "description_tooltip": null,
            "layout": "IPY_MODEL_d78244f36f17452398b52e0c3807d874",
            "max": 310,
            "min": 0,
            "orientation": "horizontal",
            "style": "IPY_MODEL_ef50b779a6ab4564b8486eb95dca771d",
            "value": 310
          }
        },
        "9b7503d709ad4032ad0249edca586cac": {
          "model_module": "@jupyter-widgets/controls",
          "model_name": "HTMLModel",
          "model_module_version": "1.5.0",
          "state": {
            "_dom_classes": [],
            "_model_module": "@jupyter-widgets/controls",
            "_model_module_version": "1.5.0",
            "_model_name": "HTMLModel",
            "_view_count": null,
            "_view_module": "@jupyter-widgets/controls",
            "_view_module_version": "1.5.0",
            "_view_name": "HTMLView",
            "description": "",
            "description_tooltip": null,
            "layout": "IPY_MODEL_dd1b6f81f59247f3aa3626c2b0080d09",
            "placeholder": "​",
            "style": "IPY_MODEL_192ec0ac30774022b4ef4eb76b1f4438",
            "value": " 310/310 [00:00&lt;00:00, 6.25kB/s]"
          }
        },
        "36b100707b8e49cfbe638feadf2d5d53": {
          "model_module": "@jupyter-widgets/base",
          "model_name": "LayoutModel",
          "model_module_version": "1.2.0",
          "state": {
            "_model_module": "@jupyter-widgets/base",
            "_model_module_version": "1.2.0",
            "_model_name": "LayoutModel",
            "_view_count": null,
            "_view_module": "@jupyter-widgets/base",
            "_view_module_version": "1.2.0",
            "_view_name": "LayoutView",
            "align_content": null,
            "align_items": null,
            "align_self": null,
            "border": null,
            "bottom": null,
            "display": null,
            "flex": null,
            "flex_flow": null,
            "grid_area": null,
            "grid_auto_columns": null,
            "grid_auto_flow": null,
            "grid_auto_rows": null,
            "grid_column": null,
            "grid_gap": null,
            "grid_row": null,
            "grid_template_areas": null,
            "grid_template_columns": null,
            "grid_template_rows": null,
            "height": null,
            "justify_content": null,
            "justify_items": null,
            "left": null,
            "margin": null,
            "max_height": null,
            "max_width": null,
            "min_height": null,
            "min_width": null,
            "object_fit": null,
            "object_position": null,
            "order": null,
            "overflow": null,
            "overflow_x": null,
            "overflow_y": null,
            "padding": null,
            "right": null,
            "top": null,
            "visibility": null,
            "width": null
          }
        },
        "c4f7f41c2fe44c2a9a45eb6b8419ee73": {
          "model_module": "@jupyter-widgets/base",
          "model_name": "LayoutModel",
          "model_module_version": "1.2.0",
          "state": {
            "_model_module": "@jupyter-widgets/base",
            "_model_module_version": "1.2.0",
            "_model_name": "LayoutModel",
            "_view_count": null,
            "_view_module": "@jupyter-widgets/base",
            "_view_module_version": "1.2.0",
            "_view_name": "LayoutView",
            "align_content": null,
            "align_items": null,
            "align_self": null,
            "border": null,
            "bottom": null,
            "display": null,
            "flex": null,
            "flex_flow": null,
            "grid_area": null,
            "grid_auto_columns": null,
            "grid_auto_flow": null,
            "grid_auto_rows": null,
            "grid_column": null,
            "grid_gap": null,
            "grid_row": null,
            "grid_template_areas": null,
            "grid_template_columns": null,
            "grid_template_rows": null,
            "height": null,
            "justify_content": null,
            "justify_items": null,
            "left": null,
            "margin": null,
            "max_height": null,
            "max_width": null,
            "min_height": null,
            "min_width": null,
            "object_fit": null,
            "object_position": null,
            "order": null,
            "overflow": null,
            "overflow_x": null,
            "overflow_y": null,
            "padding": null,
            "right": null,
            "top": null,
            "visibility": null,
            "width": null
          }
        },
        "121a3dc010a04795899463b3774df085": {
          "model_module": "@jupyter-widgets/controls",
          "model_name": "DescriptionStyleModel",
          "model_module_version": "1.5.0",
          "state": {
            "_model_module": "@jupyter-widgets/controls",
            "_model_module_version": "1.5.0",
            "_model_name": "DescriptionStyleModel",
            "_view_count": null,
            "_view_module": "@jupyter-widgets/base",
            "_view_module_version": "1.2.0",
            "_view_name": "StyleView",
            "description_width": ""
          }
        },
        "d78244f36f17452398b52e0c3807d874": {
          "model_module": "@jupyter-widgets/base",
          "model_name": "LayoutModel",
          "model_module_version": "1.2.0",
          "state": {
            "_model_module": "@jupyter-widgets/base",
            "_model_module_version": "1.2.0",
            "_model_name": "LayoutModel",
            "_view_count": null,
            "_view_module": "@jupyter-widgets/base",
            "_view_module_version": "1.2.0",
            "_view_name": "LayoutView",
            "align_content": null,
            "align_items": null,
            "align_self": null,
            "border": null,
            "bottom": null,
            "display": null,
            "flex": null,
            "flex_flow": null,
            "grid_area": null,
            "grid_auto_columns": null,
            "grid_auto_flow": null,
            "grid_auto_rows": null,
            "grid_column": null,
            "grid_gap": null,
            "grid_row": null,
            "grid_template_areas": null,
            "grid_template_columns": null,
            "grid_template_rows": null,
            "height": null,
            "justify_content": null,
            "justify_items": null,
            "left": null,
            "margin": null,
            "max_height": null,
            "max_width": null,
            "min_height": null,
            "min_width": null,
            "object_fit": null,
            "object_position": null,
            "order": null,
            "overflow": null,
            "overflow_x": null,
            "overflow_y": null,
            "padding": null,
            "right": null,
            "top": null,
            "visibility": null,
            "width": null
          }
        },
        "ef50b779a6ab4564b8486eb95dca771d": {
          "model_module": "@jupyter-widgets/controls",
          "model_name": "ProgressStyleModel",
          "model_module_version": "1.5.0",
          "state": {
            "_model_module": "@jupyter-widgets/controls",
            "_model_module_version": "1.5.0",
            "_model_name": "ProgressStyleModel",
            "_view_count": null,
            "_view_module": "@jupyter-widgets/base",
            "_view_module_version": "1.2.0",
            "_view_name": "StyleView",
            "bar_color": null,
            "description_width": ""
          }
        },
        "dd1b6f81f59247f3aa3626c2b0080d09": {
          "model_module": "@jupyter-widgets/base",
          "model_name": "LayoutModel",
          "model_module_version": "1.2.0",
          "state": {
            "_model_module": "@jupyter-widgets/base",
            "_model_module_version": "1.2.0",
            "_model_name": "LayoutModel",
            "_view_count": null,
            "_view_module": "@jupyter-widgets/base",
            "_view_module_version": "1.2.0",
            "_view_name": "LayoutView",
            "align_content": null,
            "align_items": null,
            "align_self": null,
            "border": null,
            "bottom": null,
            "display": null,
            "flex": null,
            "flex_flow": null,
            "grid_area": null,
            "grid_auto_columns": null,
            "grid_auto_flow": null,
            "grid_auto_rows": null,
            "grid_column": null,
            "grid_gap": null,
            "grid_row": null,
            "grid_template_areas": null,
            "grid_template_columns": null,
            "grid_template_rows": null,
            "height": null,
            "justify_content": null,
            "justify_items": null,
            "left": null,
            "margin": null,
            "max_height": null,
            "max_width": null,
            "min_height": null,
            "min_width": null,
            "object_fit": null,
            "object_position": null,
            "order": null,
            "overflow": null,
            "overflow_x": null,
            "overflow_y": null,
            "padding": null,
            "right": null,
            "top": null,
            "visibility": null,
            "width": null
          }
        },
        "192ec0ac30774022b4ef4eb76b1f4438": {
          "model_module": "@jupyter-widgets/controls",
          "model_name": "DescriptionStyleModel",
          "model_module_version": "1.5.0",
          "state": {
            "_model_module": "@jupyter-widgets/controls",
            "_model_module_version": "1.5.0",
            "_model_name": "DescriptionStyleModel",
            "_view_count": null,
            "_view_module": "@jupyter-widgets/base",
            "_view_module_version": "1.2.0",
            "_view_name": "StyleView",
            "description_width": ""
          }
        },
        "f34ffd01a282468db6dcc42fd6032f8a": {
          "model_module": "@jupyter-widgets/controls",
          "model_name": "HBoxModel",
          "model_module_version": "1.5.0",
          "state": {
            "_dom_classes": [],
            "_model_module": "@jupyter-widgets/controls",
            "_model_module_version": "1.5.0",
            "_model_name": "HBoxModel",
            "_view_count": null,
            "_view_module": "@jupyter-widgets/controls",
            "_view_module_version": "1.5.0",
            "_view_name": "HBoxView",
            "box_style": "",
            "children": [
              "IPY_MODEL_791425bdef314e5d85de30f1524445db",
              "IPY_MODEL_fea15402702648a1b38dc37bed8a30c5",
              "IPY_MODEL_c22bc912a32c4c9d8e009cdcad0e82ff"
            ],
            "layout": "IPY_MODEL_49a1f27ba0b94262a9be6237cbf73df1"
          }
        },
        "791425bdef314e5d85de30f1524445db": {
          "model_module": "@jupyter-widgets/controls",
          "model_name": "HTMLModel",
          "model_module_version": "1.5.0",
          "state": {
            "_dom_classes": [],
            "_model_module": "@jupyter-widgets/controls",
            "_model_module_version": "1.5.0",
            "_model_name": "HTMLModel",
            "_view_count": null,
            "_view_module": "@jupyter-widgets/controls",
            "_view_module_version": "1.5.0",
            "_view_name": "HTMLView",
            "description": "",
            "description_tooltip": null,
            "layout": "IPY_MODEL_f880a6e72b1f4776bc8bbac6a35348b9",
            "placeholder": "​",
            "style": "IPY_MODEL_5c7de097db414dec8aff0a487229eae4",
            "value": "Downloading: 100%"
          }
        },
        "fea15402702648a1b38dc37bed8a30c5": {
          "model_module": "@jupyter-widgets/controls",
          "model_name": "FloatProgressModel",
          "model_module_version": "1.5.0",
          "state": {
            "_dom_classes": [],
            "_model_module": "@jupyter-widgets/controls",
            "_model_module_version": "1.5.0",
            "_model_name": "FloatProgressModel",
            "_view_count": null,
            "_view_module": "@jupyter-widgets/controls",
            "_view_module_version": "1.5.0",
            "_view_name": "ProgressView",
            "bar_style": "success",
            "description": "",
            "description_tooltip": null,
            "layout": "IPY_MODEL_a0a31c3b3abc4696ae41d3fa7f7787b5",
            "max": 650,
            "min": 0,
            "orientation": "horizontal",
            "style": "IPY_MODEL_0b4714c6ed5b47a08583e41dd17a5ab3",
            "value": 650
          }
        },
        "c22bc912a32c4c9d8e009cdcad0e82ff": {
          "model_module": "@jupyter-widgets/controls",
          "model_name": "HTMLModel",
          "model_module_version": "1.5.0",
          "state": {
            "_dom_classes": [],
            "_model_module": "@jupyter-widgets/controls",
            "_model_module_version": "1.5.0",
            "_model_name": "HTMLModel",
            "_view_count": null,
            "_view_module": "@jupyter-widgets/controls",
            "_view_module_version": "1.5.0",
            "_view_name": "HTMLView",
            "description": "",
            "description_tooltip": null,
            "layout": "IPY_MODEL_854eb1b9b8c0415695d9984dbb816300",
            "placeholder": "​",
            "style": "IPY_MODEL_2a6d2d4180fe47a7871868e0a9a112ef",
            "value": " 650/650 [00:00&lt;00:00, 12.9kB/s]"
          }
        },
        "49a1f27ba0b94262a9be6237cbf73df1": {
          "model_module": "@jupyter-widgets/base",
          "model_name": "LayoutModel",
          "model_module_version": "1.2.0",
          "state": {
            "_model_module": "@jupyter-widgets/base",
            "_model_module_version": "1.2.0",
            "_model_name": "LayoutModel",
            "_view_count": null,
            "_view_module": "@jupyter-widgets/base",
            "_view_module_version": "1.2.0",
            "_view_name": "LayoutView",
            "align_content": null,
            "align_items": null,
            "align_self": null,
            "border": null,
            "bottom": null,
            "display": null,
            "flex": null,
            "flex_flow": null,
            "grid_area": null,
            "grid_auto_columns": null,
            "grid_auto_flow": null,
            "grid_auto_rows": null,
            "grid_column": null,
            "grid_gap": null,
            "grid_row": null,
            "grid_template_areas": null,
            "grid_template_columns": null,
            "grid_template_rows": null,
            "height": null,
            "justify_content": null,
            "justify_items": null,
            "left": null,
            "margin": null,
            "max_height": null,
            "max_width": null,
            "min_height": null,
            "min_width": null,
            "object_fit": null,
            "object_position": null,
            "order": null,
            "overflow": null,
            "overflow_x": null,
            "overflow_y": null,
            "padding": null,
            "right": null,
            "top": null,
            "visibility": null,
            "width": null
          }
        },
        "f880a6e72b1f4776bc8bbac6a35348b9": {
          "model_module": "@jupyter-widgets/base",
          "model_name": "LayoutModel",
          "model_module_version": "1.2.0",
          "state": {
            "_model_module": "@jupyter-widgets/base",
            "_model_module_version": "1.2.0",
            "_model_name": "LayoutModel",
            "_view_count": null,
            "_view_module": "@jupyter-widgets/base",
            "_view_module_version": "1.2.0",
            "_view_name": "LayoutView",
            "align_content": null,
            "align_items": null,
            "align_self": null,
            "border": null,
            "bottom": null,
            "display": null,
            "flex": null,
            "flex_flow": null,
            "grid_area": null,
            "grid_auto_columns": null,
            "grid_auto_flow": null,
            "grid_auto_rows": null,
            "grid_column": null,
            "grid_gap": null,
            "grid_row": null,
            "grid_template_areas": null,
            "grid_template_columns": null,
            "grid_template_rows": null,
            "height": null,
            "justify_content": null,
            "justify_items": null,
            "left": null,
            "margin": null,
            "max_height": null,
            "max_width": null,
            "min_height": null,
            "min_width": null,
            "object_fit": null,
            "object_position": null,
            "order": null,
            "overflow": null,
            "overflow_x": null,
            "overflow_y": null,
            "padding": null,
            "right": null,
            "top": null,
            "visibility": null,
            "width": null
          }
        },
        "5c7de097db414dec8aff0a487229eae4": {
          "model_module": "@jupyter-widgets/controls",
          "model_name": "DescriptionStyleModel",
          "model_module_version": "1.5.0",
          "state": {
            "_model_module": "@jupyter-widgets/controls",
            "_model_module_version": "1.5.0",
            "_model_name": "DescriptionStyleModel",
            "_view_count": null,
            "_view_module": "@jupyter-widgets/base",
            "_view_module_version": "1.2.0",
            "_view_name": "StyleView",
            "description_width": ""
          }
        },
        "a0a31c3b3abc4696ae41d3fa7f7787b5": {
          "model_module": "@jupyter-widgets/base",
          "model_name": "LayoutModel",
          "model_module_version": "1.2.0",
          "state": {
            "_model_module": "@jupyter-widgets/base",
            "_model_module_version": "1.2.0",
            "_model_name": "LayoutModel",
            "_view_count": null,
            "_view_module": "@jupyter-widgets/base",
            "_view_module_version": "1.2.0",
            "_view_name": "LayoutView",
            "align_content": null,
            "align_items": null,
            "align_self": null,
            "border": null,
            "bottom": null,
            "display": null,
            "flex": null,
            "flex_flow": null,
            "grid_area": null,
            "grid_auto_columns": null,
            "grid_auto_flow": null,
            "grid_auto_rows": null,
            "grid_column": null,
            "grid_gap": null,
            "grid_row": null,
            "grid_template_areas": null,
            "grid_template_columns": null,
            "grid_template_rows": null,
            "height": null,
            "justify_content": null,
            "justify_items": null,
            "left": null,
            "margin": null,
            "max_height": null,
            "max_width": null,
            "min_height": null,
            "min_width": null,
            "object_fit": null,
            "object_position": null,
            "order": null,
            "overflow": null,
            "overflow_x": null,
            "overflow_y": null,
            "padding": null,
            "right": null,
            "top": null,
            "visibility": null,
            "width": null
          }
        },
        "0b4714c6ed5b47a08583e41dd17a5ab3": {
          "model_module": "@jupyter-widgets/controls",
          "model_name": "ProgressStyleModel",
          "model_module_version": "1.5.0",
          "state": {
            "_model_module": "@jupyter-widgets/controls",
            "_model_module_version": "1.5.0",
            "_model_name": "ProgressStyleModel",
            "_view_count": null,
            "_view_module": "@jupyter-widgets/base",
            "_view_module_version": "1.2.0",
            "_view_name": "StyleView",
            "bar_color": null,
            "description_width": ""
          }
        },
        "854eb1b9b8c0415695d9984dbb816300": {
          "model_module": "@jupyter-widgets/base",
          "model_name": "LayoutModel",
          "model_module_version": "1.2.0",
          "state": {
            "_model_module": "@jupyter-widgets/base",
            "_model_module_version": "1.2.0",
            "_model_name": "LayoutModel",
            "_view_count": null,
            "_view_module": "@jupyter-widgets/base",
            "_view_module_version": "1.2.0",
            "_view_name": "LayoutView",
            "align_content": null,
            "align_items": null,
            "align_self": null,
            "border": null,
            "bottom": null,
            "display": null,
            "flex": null,
            "flex_flow": null,
            "grid_area": null,
            "grid_auto_columns": null,
            "grid_auto_flow": null,
            "grid_auto_rows": null,
            "grid_column": null,
            "grid_gap": null,
            "grid_row": null,
            "grid_template_areas": null,
            "grid_template_columns": null,
            "grid_template_rows": null,
            "height": null,
            "justify_content": null,
            "justify_items": null,
            "left": null,
            "margin": null,
            "max_height": null,
            "max_width": null,
            "min_height": null,
            "min_width": null,
            "object_fit": null,
            "object_position": null,
            "order": null,
            "overflow": null,
            "overflow_x": null,
            "overflow_y": null,
            "padding": null,
            "right": null,
            "top": null,
            "visibility": null,
            "width": null
          }
        },
        "2a6d2d4180fe47a7871868e0a9a112ef": {
          "model_module": "@jupyter-widgets/controls",
          "model_name": "DescriptionStyleModel",
          "model_module_version": "1.5.0",
          "state": {
            "_model_module": "@jupyter-widgets/controls",
            "_model_module_version": "1.5.0",
            "_model_name": "DescriptionStyleModel",
            "_view_count": null,
            "_view_module": "@jupyter-widgets/base",
            "_view_module_version": "1.2.0",
            "_view_name": "StyleView",
            "description_width": ""
          }
        },
        "28788770484e48b89afbb6a3a6b66c4a": {
          "model_module": "@jupyter-widgets/controls",
          "model_name": "HBoxModel",
          "model_module_version": "1.5.0",
          "state": {
            "_dom_classes": [],
            "_model_module": "@jupyter-widgets/controls",
            "_model_module_version": "1.5.0",
            "_model_name": "HBoxModel",
            "_view_count": null,
            "_view_module": "@jupyter-widgets/controls",
            "_view_module_version": "1.5.0",
            "_view_name": "HBoxView",
            "box_style": "",
            "children": [
              "IPY_MODEL_f1ce70a6cff04effb407a43270e89788",
              "IPY_MODEL_0a3f0f88c61f4861acbf36778460b382",
              "IPY_MODEL_526f415c21d44d21b88a8df1a5e68405"
            ],
            "layout": "IPY_MODEL_c0da23a331344e339b95c363dd443dcb"
          }
        },
        "f1ce70a6cff04effb407a43270e89788": {
          "model_module": "@jupyter-widgets/controls",
          "model_name": "HTMLModel",
          "model_module_version": "1.5.0",
          "state": {
            "_dom_classes": [],
            "_model_module": "@jupyter-widgets/controls",
            "_model_module_version": "1.5.0",
            "_model_name": "HTMLModel",
            "_view_count": null,
            "_view_module": "@jupyter-widgets/controls",
            "_view_module_version": "1.5.0",
            "_view_name": "HTMLView",
            "description": "",
            "description_tooltip": null,
            "layout": "IPY_MODEL_d9a366db73e44ecdb6a8d5bafb3c9f97",
            "placeholder": "​",
            "style": "IPY_MODEL_dc9355085b7940c2b759ddfcfbc3757d",
            "value": "Downloading: 100%"
          }
        },
        "0a3f0f88c61f4861acbf36778460b382": {
          "model_module": "@jupyter-widgets/controls",
          "model_name": "FloatProgressModel",
          "model_module_version": "1.5.0",
          "state": {
            "_dom_classes": [],
            "_model_module": "@jupyter-widgets/controls",
            "_model_module_version": "1.5.0",
            "_model_name": "FloatProgressModel",
            "_view_count": null,
            "_view_module": "@jupyter-widgets/controls",
            "_view_module_version": "1.5.0",
            "_view_name": "ProgressView",
            "bar_style": "success",
            "description": "",
            "description_tooltip": null,
            "layout": "IPY_MODEL_f03cbcae1be9481ebf615096a809d45a",
            "max": 439621341,
            "min": 0,
            "orientation": "horizontal",
            "style": "IPY_MODEL_655c8ea282374f44b0a325f0824666a8",
            "value": 439621341
          }
        },
        "526f415c21d44d21b88a8df1a5e68405": {
          "model_module": "@jupyter-widgets/controls",
          "model_name": "HTMLModel",
          "model_module_version": "1.5.0",
          "state": {
            "_dom_classes": [],
            "_model_module": "@jupyter-widgets/controls",
            "_model_module_version": "1.5.0",
            "_model_name": "HTMLModel",
            "_view_count": null,
            "_view_module": "@jupyter-widgets/controls",
            "_view_module_version": "1.5.0",
            "_view_name": "HTMLView",
            "description": "",
            "description_tooltip": null,
            "layout": "IPY_MODEL_a61c93c6c4494947b68e19a49f24eacf",
            "placeholder": "​",
            "style": "IPY_MODEL_f726cb6261d64ea68290c9330a465783",
            "value": " 440M/440M [00:08&lt;00:00, 52.2MB/s]"
          }
        },
        "c0da23a331344e339b95c363dd443dcb": {
          "model_module": "@jupyter-widgets/base",
          "model_name": "LayoutModel",
          "model_module_version": "1.2.0",
          "state": {
            "_model_module": "@jupyter-widgets/base",
            "_model_module_version": "1.2.0",
            "_model_name": "LayoutModel",
            "_view_count": null,
            "_view_module": "@jupyter-widgets/base",
            "_view_module_version": "1.2.0",
            "_view_name": "LayoutView",
            "align_content": null,
            "align_items": null,
            "align_self": null,
            "border": null,
            "bottom": null,
            "display": null,
            "flex": null,
            "flex_flow": null,
            "grid_area": null,
            "grid_auto_columns": null,
            "grid_auto_flow": null,
            "grid_auto_rows": null,
            "grid_column": null,
            "grid_gap": null,
            "grid_row": null,
            "grid_template_areas": null,
            "grid_template_columns": null,
            "grid_template_rows": null,
            "height": null,
            "justify_content": null,
            "justify_items": null,
            "left": null,
            "margin": null,
            "max_height": null,
            "max_width": null,
            "min_height": null,
            "min_width": null,
            "object_fit": null,
            "object_position": null,
            "order": null,
            "overflow": null,
            "overflow_x": null,
            "overflow_y": null,
            "padding": null,
            "right": null,
            "top": null,
            "visibility": null,
            "width": null
          }
        },
        "d9a366db73e44ecdb6a8d5bafb3c9f97": {
          "model_module": "@jupyter-widgets/base",
          "model_name": "LayoutModel",
          "model_module_version": "1.2.0",
          "state": {
            "_model_module": "@jupyter-widgets/base",
            "_model_module_version": "1.2.0",
            "_model_name": "LayoutModel",
            "_view_count": null,
            "_view_module": "@jupyter-widgets/base",
            "_view_module_version": "1.2.0",
            "_view_name": "LayoutView",
            "align_content": null,
            "align_items": null,
            "align_self": null,
            "border": null,
            "bottom": null,
            "display": null,
            "flex": null,
            "flex_flow": null,
            "grid_area": null,
            "grid_auto_columns": null,
            "grid_auto_flow": null,
            "grid_auto_rows": null,
            "grid_column": null,
            "grid_gap": null,
            "grid_row": null,
            "grid_template_areas": null,
            "grid_template_columns": null,
            "grid_template_rows": null,
            "height": null,
            "justify_content": null,
            "justify_items": null,
            "left": null,
            "margin": null,
            "max_height": null,
            "max_width": null,
            "min_height": null,
            "min_width": null,
            "object_fit": null,
            "object_position": null,
            "order": null,
            "overflow": null,
            "overflow_x": null,
            "overflow_y": null,
            "padding": null,
            "right": null,
            "top": null,
            "visibility": null,
            "width": null
          }
        },
        "dc9355085b7940c2b759ddfcfbc3757d": {
          "model_module": "@jupyter-widgets/controls",
          "model_name": "DescriptionStyleModel",
          "model_module_version": "1.5.0",
          "state": {
            "_model_module": "@jupyter-widgets/controls",
            "_model_module_version": "1.5.0",
            "_model_name": "DescriptionStyleModel",
            "_view_count": null,
            "_view_module": "@jupyter-widgets/base",
            "_view_module_version": "1.2.0",
            "_view_name": "StyleView",
            "description_width": ""
          }
        },
        "f03cbcae1be9481ebf615096a809d45a": {
          "model_module": "@jupyter-widgets/base",
          "model_name": "LayoutModel",
          "model_module_version": "1.2.0",
          "state": {
            "_model_module": "@jupyter-widgets/base",
            "_model_module_version": "1.2.0",
            "_model_name": "LayoutModel",
            "_view_count": null,
            "_view_module": "@jupyter-widgets/base",
            "_view_module_version": "1.2.0",
            "_view_name": "LayoutView",
            "align_content": null,
            "align_items": null,
            "align_self": null,
            "border": null,
            "bottom": null,
            "display": null,
            "flex": null,
            "flex_flow": null,
            "grid_area": null,
            "grid_auto_columns": null,
            "grid_auto_flow": null,
            "grid_auto_rows": null,
            "grid_column": null,
            "grid_gap": null,
            "grid_row": null,
            "grid_template_areas": null,
            "grid_template_columns": null,
            "grid_template_rows": null,
            "height": null,
            "justify_content": null,
            "justify_items": null,
            "left": null,
            "margin": null,
            "max_height": null,
            "max_width": null,
            "min_height": null,
            "min_width": null,
            "object_fit": null,
            "object_position": null,
            "order": null,
            "overflow": null,
            "overflow_x": null,
            "overflow_y": null,
            "padding": null,
            "right": null,
            "top": null,
            "visibility": null,
            "width": null
          }
        },
        "655c8ea282374f44b0a325f0824666a8": {
          "model_module": "@jupyter-widgets/controls",
          "model_name": "ProgressStyleModel",
          "model_module_version": "1.5.0",
          "state": {
            "_model_module": "@jupyter-widgets/controls",
            "_model_module_version": "1.5.0",
            "_model_name": "ProgressStyleModel",
            "_view_count": null,
            "_view_module": "@jupyter-widgets/base",
            "_view_module_version": "1.2.0",
            "_view_name": "StyleView",
            "bar_color": null,
            "description_width": ""
          }
        },
        "a61c93c6c4494947b68e19a49f24eacf": {
          "model_module": "@jupyter-widgets/base",
          "model_name": "LayoutModel",
          "model_module_version": "1.2.0",
          "state": {
            "_model_module": "@jupyter-widgets/base",
            "_model_module_version": "1.2.0",
            "_model_name": "LayoutModel",
            "_view_count": null,
            "_view_module": "@jupyter-widgets/base",
            "_view_module_version": "1.2.0",
            "_view_name": "LayoutView",
            "align_content": null,
            "align_items": null,
            "align_self": null,
            "border": null,
            "bottom": null,
            "display": null,
            "flex": null,
            "flex_flow": null,
            "grid_area": null,
            "grid_auto_columns": null,
            "grid_auto_flow": null,
            "grid_auto_rows": null,
            "grid_column": null,
            "grid_gap": null,
            "grid_row": null,
            "grid_template_areas": null,
            "grid_template_columns": null,
            "grid_template_rows": null,
            "height": null,
            "justify_content": null,
            "justify_items": null,
            "left": null,
            "margin": null,
            "max_height": null,
            "max_width": null,
            "min_height": null,
            "min_width": null,
            "object_fit": null,
            "object_position": null,
            "order": null,
            "overflow": null,
            "overflow_x": null,
            "overflow_y": null,
            "padding": null,
            "right": null,
            "top": null,
            "visibility": null,
            "width": null
          }
        },
        "f726cb6261d64ea68290c9330a465783": {
          "model_module": "@jupyter-widgets/controls",
          "model_name": "DescriptionStyleModel",
          "model_module_version": "1.5.0",
          "state": {
            "_model_module": "@jupyter-widgets/controls",
            "_model_module_version": "1.5.0",
            "_model_name": "DescriptionStyleModel",
            "_view_count": null,
            "_view_module": "@jupyter-widgets/base",
            "_view_module_version": "1.2.0",
            "_view_name": "StyleView",
            "description_width": ""
          }
        }
      }
    }
  },
  "cells": [
    {
      "cell_type": "markdown",
      "metadata": {
        "id": "view-in-github",
        "colab_type": "text"
      },
      "source": [
        "<a href=\"https://colab.research.google.com/github/PedroAdair/News_country/blob/main/News_detect_country.ipynb\" target=\"_parent\"><img src=\"https://colab.research.google.com/assets/colab-badge.svg\" alt=\"Open In Colab\"/></a>"
      ]
    },
    {
      "cell_type": "markdown",
      "source": [
        "# Identificar el pais de origen de noticias.\n",
        "### Pedro Adair Gallegos Avila"
      ],
      "metadata": {
        "id": "Ccx6wkxxvCeY"
      }
    },
    {
      "cell_type": "markdown",
      "source": [
        "En el presente có"
      ],
      "metadata": {
        "id": "jfkuVz663tnN"
      }
    },
    {
      "cell_type": "markdown",
      "source": [
        "##Instalación de librerias"
      ],
      "metadata": {
        "id": "OeHz69Ba68Ch"
      }
    },
    {
      "cell_type": "code",
      "source": [
        "from google.colab import drive\n",
        "drive.mount('/content/drive')"
      ],
      "metadata": {
        "colab": {
          "base_uri": "https://localhost:8080/"
        },
        "id": "St7cTcUC8q_V",
        "outputId": "f104a1d9-a575-446f-a4cc-781cffe0b2b4"
      },
      "execution_count": null,
      "outputs": [
        {
          "output_type": "stream",
          "name": "stdout",
          "text": [
            "Mounted at /content/drive\n"
          ]
        }
      ]
    },
    {
      "cell_type": "code",
      "source": [
        "!pip install scikit-plot"
      ],
      "metadata": {
        "colab": {
          "base_uri": "https://localhost:8080/"
        },
        "id": "98Msd7eR3-4v",
        "outputId": "a2dcce50-6ef5-45a5-96a9-562c24e1cf56"
      },
      "execution_count": null,
      "outputs": [
        {
          "output_type": "stream",
          "name": "stdout",
          "text": [
            "Looking in indexes: https://pypi.org/simple, https://us-python.pkg.dev/colab-wheels/public/simple/\n",
            "Collecting scikit-plot\n",
            "  Downloading scikit_plot-0.3.7-py3-none-any.whl (33 kB)\n",
            "Requirement already satisfied: matplotlib>=1.4.0 in /usr/local/lib/python3.8/dist-packages (from scikit-plot) (3.2.2)\n",
            "Requirement already satisfied: joblib>=0.10 in /usr/local/lib/python3.8/dist-packages (from scikit-plot) (1.2.0)\n",
            "Requirement already satisfied: scipy>=0.9 in /usr/local/lib/python3.8/dist-packages (from scikit-plot) (1.7.3)\n",
            "Requirement already satisfied: scikit-learn>=0.18 in /usr/local/lib/python3.8/dist-packages (from scikit-plot) (1.0.2)\n",
            "Requirement already satisfied: numpy>=1.11 in /usr/local/lib/python3.8/dist-packages (from matplotlib>=1.4.0->scikit-plot) (1.21.6)\n",
            "Requirement already satisfied: cycler>=0.10 in /usr/local/lib/python3.8/dist-packages (from matplotlib>=1.4.0->scikit-plot) (0.11.0)\n",
            "Requirement already satisfied: kiwisolver>=1.0.1 in /usr/local/lib/python3.8/dist-packages (from matplotlib>=1.4.0->scikit-plot) (1.4.4)\n",
            "Requirement already satisfied: python-dateutil>=2.1 in /usr/local/lib/python3.8/dist-packages (from matplotlib>=1.4.0->scikit-plot) (2.8.2)\n",
            "Requirement already satisfied: pyparsing!=2.0.4,!=2.1.2,!=2.1.6,>=2.0.1 in /usr/local/lib/python3.8/dist-packages (from matplotlib>=1.4.0->scikit-plot) (3.0.9)\n",
            "Requirement already satisfied: six>=1.5 in /usr/local/lib/python3.8/dist-packages (from python-dateutil>=2.1->matplotlib>=1.4.0->scikit-plot) (1.15.0)\n",
            "Requirement already satisfied: threadpoolctl>=2.0.0 in /usr/local/lib/python3.8/dist-packages (from scikit-learn>=0.18->scikit-plot) (3.1.0)\n",
            "Installing collected packages: scikit-plot\n",
            "Successfully installed scikit-plot-0.3.7\n"
          ]
        }
      ]
    },
    {
      "cell_type": "code",
      "source": [
        "#title Instalamos transformers\n",
        "!pip install transformers"
      ],
      "metadata": {
        "colab": {
          "base_uri": "https://localhost:8080/"
        },
        "id": "O8fnyJtTvgWB",
        "outputId": "99b5c0e2-99b3-472a-c4a3-720f56619d55"
      },
      "execution_count": null,
      "outputs": [
        {
          "output_type": "stream",
          "name": "stdout",
          "text": [
            "Looking in indexes: https://pypi.org/simple, https://us-python.pkg.dev/colab-wheels/public/simple/\n",
            "Collecting transformers\n",
            "  Downloading transformers-4.25.1-py3-none-any.whl (5.8 MB)\n",
            "\u001b[K     |████████████████████████████████| 5.8 MB 4.3 MB/s \n",
            "\u001b[?25hCollecting huggingface-hub<1.0,>=0.10.0\n",
            "  Downloading huggingface_hub-0.11.1-py3-none-any.whl (182 kB)\n",
            "\u001b[K     |████████████████████████████████| 182 kB 50.0 MB/s \n",
            "\u001b[?25hRequirement already satisfied: regex!=2019.12.17 in /usr/local/lib/python3.8/dist-packages (from transformers) (2022.6.2)\n",
            "Requirement already satisfied: tqdm>=4.27 in /usr/local/lib/python3.8/dist-packages (from transformers) (4.64.1)\n",
            "Requirement already satisfied: filelock in /usr/local/lib/python3.8/dist-packages (from transformers) (3.8.0)\n",
            "Requirement already satisfied: packaging>=20.0 in /usr/local/lib/python3.8/dist-packages (from transformers) (21.3)\n",
            "Requirement already satisfied: pyyaml>=5.1 in /usr/local/lib/python3.8/dist-packages (from transformers) (6.0)\n",
            "Requirement already satisfied: numpy>=1.17 in /usr/local/lib/python3.8/dist-packages (from transformers) (1.21.6)\n",
            "Collecting tokenizers!=0.11.3,<0.14,>=0.11.1\n",
            "  Downloading tokenizers-0.13.2-cp38-cp38-manylinux_2_17_x86_64.manylinux2014_x86_64.whl (7.6 MB)\n",
            "\u001b[K     |████████████████████████████████| 7.6 MB 14.5 MB/s \n",
            "\u001b[?25hRequirement already satisfied: requests in /usr/local/lib/python3.8/dist-packages (from transformers) (2.23.0)\n",
            "Requirement already satisfied: typing-extensions>=3.7.4.3 in /usr/local/lib/python3.8/dist-packages (from huggingface-hub<1.0,>=0.10.0->transformers) (4.4.0)\n",
            "Requirement already satisfied: pyparsing!=3.0.5,>=2.0.2 in /usr/local/lib/python3.8/dist-packages (from packaging>=20.0->transformers) (3.0.9)\n",
            "Requirement already satisfied: idna<3,>=2.5 in /usr/local/lib/python3.8/dist-packages (from requests->transformers) (2.10)\n",
            "Requirement already satisfied: chardet<4,>=3.0.2 in /usr/local/lib/python3.8/dist-packages (from requests->transformers) (3.0.4)\n",
            "Requirement already satisfied: urllib3!=1.25.0,!=1.25.1,<1.26,>=1.21.1 in /usr/local/lib/python3.8/dist-packages (from requests->transformers) (1.24.3)\n",
            "Requirement already satisfied: certifi>=2017.4.17 in /usr/local/lib/python3.8/dist-packages (from requests->transformers) (2022.9.24)\n",
            "Installing collected packages: tokenizers, huggingface-hub, transformers\n",
            "Successfully installed huggingface-hub-0.11.1 tokenizers-0.13.2 transformers-4.25.1\n"
          ]
        }
      ]
    },
    {
      "cell_type": "code",
      "source": [],
      "metadata": {
        "id": "t9PnlXjk7GJE"
      },
      "execution_count": null,
      "outputs": []
    },
    {
      "cell_type": "markdown",
      "source": [
        "##Librerias"
      ],
      "metadata": {
        "id": "Q0BMMjQ17Gzq"
      }
    },
    {
      "cell_type": "code",
      "execution_count": null,
      "metadata": {
        "id": "lOUPgcqcJBg-",
        "cellView": "form"
      },
      "outputs": [],
      "source": [
        "#@title Librerias generales\n",
        "import numpy as np\n",
        "import pandas as pd\n",
        "from sklearn.model_selection import train_test_split\n",
        "from sklearn.linear_model import LogisticRegression\n",
        "from sklearn.model_selection import GridSearchCV\n",
        "from sklearn.model_selection import cross_val_score\n",
        "import torch\n",
        "import transformers as ppb\n",
        "import warnings\n",
        "warnings.filterwarnings('ignore')\n",
        "\n",
        "import os\n",
        "import re\n",
        "from tqdm import tqdm\n",
        "import numpy as np\n",
        "import pandas as pd\n",
        "import matplotlib.pyplot as plt\n",
        "\n",
        "%matplotlib inline\n"
      ]
    },
    {
      "cell_type": "code",
      "source": [
        "#@title Especificaciones de RAM\n",
        "import torch\n",
        "\n",
        "if torch.cuda.is_available():\n",
        "    device = torch.device(\"cuda\")\n",
        "    print(f'There are {torch.cuda.device_count()} GPU(s) available.')\n",
        "    print('Device name:', torch.cuda.get_device_name(0))\n",
        "\n",
        "else:\n",
        "    print('No GPU available, using the CPU instead.')\n",
        "    device = torch.device(\"cpu\")"
      ],
      "metadata": {
        "colab": {
          "base_uri": "https://localhost:8080/"
        },
        "id": "hYJykmkQJQYq",
        "outputId": "296569d7-40b1-47f6-a3f3-1511c743ee95",
        "cellView": "form"
      },
      "execution_count": null,
      "outputs": [
        {
          "output_type": "stream",
          "name": "stdout",
          "text": [
            "No GPU available, using the CPU instead.\n"
          ]
        }
      ]
    },
    {
      "cell_type": "markdown",
      "source": [
        "##Lectura y preprocesamiento"
      ],
      "metadata": {
        "id": "IPr5VyB4JWoI"
      }
    },
    {
      "cell_type": "code",
      "source": [
        "#@title get_texts_from_dir()\n",
        "def get_texts_from_dir(cat_dir):\n",
        "  texts = []\n",
        "  data_dir = cat_dir\n",
        "  category_index = {}\n",
        "  categories = []\n",
        "  for category_name in sorted(os.listdir(data_dir)):\n",
        "    category_id = len(category_index)\n",
        "    category_index[category_name] = category_id\n",
        "    category_path = os.path.join(data_dir, category_name)\n",
        "    for f_name in sorted(os.listdir(category_path)):\n",
        "      f_path = os.path.join(category_path, f_name)\n",
        "      f = open(f_path, \"r\", encoding=\"utf8\")\n",
        "      texts += [f.read()]\n",
        "      f.close()\n",
        "      categories += [category_id]\n",
        "  print(\"%d files loaded from %s\" % (len(texts), cat_dir))\n",
        "  return texts, categories, category_index"
      ],
      "metadata": {
        "id": "jQMv-meUJ2_Y",
        "cellView": "form"
      },
      "execution_count": null,
      "outputs": []
    },
    {
      "cell_type": "code",
      "source": [
        "#@title Funciones NLTK\n",
        "\"\"\"\n",
        "NLKT es la opción que selecciones para preprocesar mis textos\n",
        "\"\"\"\n",
        "import nltk\n",
        "from nltk.corpus import stopwords\n",
        "from nltk.tokenize import word_tokenize\n",
        "from nltk.stem import WordNetLemmatizer\n",
        "from nltk.tokenize import sent_tokenize\n",
        "from nltk import WordPunctTokenizer\n",
        "\n",
        "nltk.download('punkt')\n",
        "nltk.download('wordnet')\n",
        "nltk.download('stopwords')\n",
        "nltk.download('omw-1.4')\n",
        "\n",
        "#Para stop words en español\n",
        "es_stop = set(nltk.corpus.stopwords.words('spanish'))"
      ],
      "metadata": {
        "colab": {
          "base_uri": "https://localhost:8080/"
        },
        "cellView": "form",
        "id": "h4w-3Wf_AJ7J",
        "outputId": "bf61bf62-e45f-49e9-f34b-3889dfbc60ae"
      },
      "execution_count": null,
      "outputs": [
        {
          "output_type": "stream",
          "name": "stderr",
          "text": [
            "[nltk_data] Downloading package punkt to /root/nltk_data...\n",
            "[nltk_data]   Unzipping tokenizers/punkt.zip.\n",
            "[nltk_data] Downloading package wordnet to /root/nltk_data...\n",
            "[nltk_data] Downloading package stopwords to /root/nltk_data...\n",
            "[nltk_data]   Unzipping corpora/stopwords.zip.\n",
            "[nltk_data] Downloading package omw-1.4 to /root/nltk_data...\n"
          ]
        }
      ]
    },
    {
      "cell_type": "code",
      "source": [
        "#@title Carga de noticias\n",
        "# Load the RAW text and Category labels D:/posgrado/tercer_semestre/CienciaDatos/Tarea2/hispablogs/hispablogs/test\n",
        "\n",
        "tr_txt, tr_y, tr_y_ind = get_texts_from_dir(\"/content/drive/MyDrive/Tarea4_TSCD/hispablogs/train\")\n",
        "te_txt, te_y, te_y_ind = get_texts_from_dir(\"/content/drive/MyDrive/Tarea4_TSCD/hispablogs/test\")"
      ],
      "metadata": {
        "colab": {
          "base_uri": "https://localhost:8080/"
        },
        "id": "a9o07OfuJW0G",
        "outputId": "ef1f355f-0b75-4c88-afc1-72d4eb66d540"
      },
      "execution_count": null,
      "outputs": [
        {
          "output_type": "stream",
          "name": "stdout",
          "text": [
            "2250 files loaded from /content/drive/MyDrive/Tarea4_TSCD/hispablogs/train\n",
            "1000 files loaded from /content/drive/MyDrive/Tarea4_TSCD/hispablogs/test\n"
          ]
        }
      ]
    },
    {
      "cell_type": "markdown",
      "source": [
        "Preprocesamiento"
      ],
      "metadata": {
        "id": "b36-xls_AROi"
      }
    },
    {
      "cell_type": "code",
      "source": [
        "#@title  preprocess_text()\n",
        "\n",
        "stemmer = WordNetLemmatizer()\n",
        "word_punctuation_tokenizer = nltk.WordPunctTokenizer()\n",
        "\n",
        "def preprocess_text(document):\n",
        "        # Remove all the special characters\n",
        "        document = re.sub(r'\\W', ' ', str(document))\n",
        "        document =re.sub(r'\\w+:\\/{2}[\\d\\w-]+(\\.[\\d\\w-]+)*(?:(?:\\/[^\\s/]*))*', '',document)\n",
        "        document = re.sub(r'[àáâãäå]', 'a',document)\n",
        "        document = re.sub(r'[èéêë]', 'e', document)\n",
        "        document = re.sub(r'[ìíîï]', 'i', document)\n",
        "        document = re.sub(r'[òóôõö]', 'o', document)\n",
        "        document = re.sub(r'[ùúûü]', 'u', document)\n",
        "        # remove all single characters\n",
        "        document = re.sub(r'\\s+[a-zA-Z]\\s+', ' ', document)\n",
        "\n",
        "        # Remove single characters from the start\n",
        "        document = re.sub(r'\\^[a-zA-Z]\\s+', ' ', document)\n",
        "\n",
        "        # Substituting multiple spaces with single space\n",
        "        document = re.sub(r'\\s+', ' ', document, flags=re.I)\n",
        "\n",
        "        # Removing prefixed 'b'\n",
        "        document = re.sub(r'^b\\s+', '', document)\n",
        "\n",
        "        # Converting to Lowercase\n",
        "        document = document.lower()\n",
        "\n",
        "        # Lemmatization\n",
        "        tokens = document.split()\n",
        "        tokens = [stemmer.lemmatize(word) for word in tokens]\n",
        "        tokens = [word for word in tokens if word not in es_stop]\n",
        "        tokens = [word for word in tokens if len(word) > 3]\n",
        "\n",
        "        preprocessed_text = ' '.join(tokens)\n",
        "\n",
        "        return preprocessed_text"
      ],
      "metadata": {
        "cellView": "form",
        "id": "oqMObDX6ASt5"
      },
      "execution_count": null,
      "outputs": []
    },
    {
      "cell_type": "code",
      "source": [
        "#@title Noticias preprocesadas\n",
        "#preproceso todos los documentos par evitar embeddings de palabras no importantes\n",
        "final_corpus_train = [preprocess_text(document) for document in tr_txt if document.strip() !='']\n",
        "final_corpus_test = [preprocess_text(document) for document in te_txt if document.strip() !='']"
      ],
      "metadata": {
        "cellView": "form",
        "id": "MOESnBzIBCGZ"
      },
      "execution_count": null,
      "outputs": []
    },
    {
      "cell_type": "code",
      "source": [
        "df = pd.DataFrame(list(zip(final_corpus_train, tr_y)))"
      ],
      "metadata": {
        "id": "l6Z1QV1gxGLF"
      },
      "execution_count": null,
      "outputs": []
    },
    {
      "cell_type": "markdown",
      "source": [],
      "metadata": {
        "id": "qr4YOYTcClH_"
      }
    },
    {
      "cell_type": "code",
      "source": [
        "batch_1 = df#[:2000]\n",
        "batch_1.sample(5)"
      ],
      "metadata": {
        "colab": {
          "base_uri": "https://localhost:8080/",
          "height": 206
        },
        "id": "61oGx2xSx6Sr",
        "outputId": "ede7379f-2aa7-4fdd-8a79-81608a6ab05a"
      },
      "execution_count": null,
      "outputs": [
        {
          "output_type": "execute_result",
          "data": {
            "text/plain": [
              "                                                      0  1\n",
              "76    complicado llegar casa noche despues largo lab...  0\n",
              "2216  visperas ii_guerra_mundial yorkshire reino_uni...  4\n",
              "2198  cancion refleja piensa recuerden forma pensar ...  4\n",
              "1020  ha_llegado segunda entrega entradas invitadas ...  2\n",
              "1142  presion autonomias obliga wert revisar becasel...  2"
            ],
            "text/html": [
              "\n",
              "  <div id=\"df-8e118d2d-68b5-41ac-bb5b-c2397c555df8\">\n",
              "    <div class=\"colab-df-container\">\n",
              "      <div>\n",
              "<style scoped>\n",
              "    .dataframe tbody tr th:only-of-type {\n",
              "        vertical-align: middle;\n",
              "    }\n",
              "\n",
              "    .dataframe tbody tr th {\n",
              "        vertical-align: top;\n",
              "    }\n",
              "\n",
              "    .dataframe thead th {\n",
              "        text-align: right;\n",
              "    }\n",
              "</style>\n",
              "<table border=\"1\" class=\"dataframe\">\n",
              "  <thead>\n",
              "    <tr style=\"text-align: right;\">\n",
              "      <th></th>\n",
              "      <th>0</th>\n",
              "      <th>1</th>\n",
              "    </tr>\n",
              "  </thead>\n",
              "  <tbody>\n",
              "    <tr>\n",
              "      <th>76</th>\n",
              "      <td>complicado llegar casa noche despues largo lab...</td>\n",
              "      <td>0</td>\n",
              "    </tr>\n",
              "    <tr>\n",
              "      <th>2216</th>\n",
              "      <td>visperas ii_guerra_mundial yorkshire reino_uni...</td>\n",
              "      <td>4</td>\n",
              "    </tr>\n",
              "    <tr>\n",
              "      <th>2198</th>\n",
              "      <td>cancion refleja piensa recuerden forma pensar ...</td>\n",
              "      <td>4</td>\n",
              "    </tr>\n",
              "    <tr>\n",
              "      <th>1020</th>\n",
              "      <td>ha_llegado segunda entrega entradas invitadas ...</td>\n",
              "      <td>2</td>\n",
              "    </tr>\n",
              "    <tr>\n",
              "      <th>1142</th>\n",
              "      <td>presion autonomias obliga wert revisar becasel...</td>\n",
              "      <td>2</td>\n",
              "    </tr>\n",
              "  </tbody>\n",
              "</table>\n",
              "</div>\n",
              "      <button class=\"colab-df-convert\" onclick=\"convertToInteractive('df-8e118d2d-68b5-41ac-bb5b-c2397c555df8')\"\n",
              "              title=\"Convert this dataframe to an interactive table.\"\n",
              "              style=\"display:none;\">\n",
              "        \n",
              "  <svg xmlns=\"http://www.w3.org/2000/svg\" height=\"24px\"viewBox=\"0 0 24 24\"\n",
              "       width=\"24px\">\n",
              "    <path d=\"M0 0h24v24H0V0z\" fill=\"none\"/>\n",
              "    <path d=\"M18.56 5.44l.94 2.06.94-2.06 2.06-.94-2.06-.94-.94-2.06-.94 2.06-2.06.94zm-11 1L8.5 8.5l.94-2.06 2.06-.94-2.06-.94L8.5 2.5l-.94 2.06-2.06.94zm10 10l.94 2.06.94-2.06 2.06-.94-2.06-.94-.94-2.06-.94 2.06-2.06.94z\"/><path d=\"M17.41 7.96l-1.37-1.37c-.4-.4-.92-.59-1.43-.59-.52 0-1.04.2-1.43.59L10.3 9.45l-7.72 7.72c-.78.78-.78 2.05 0 2.83L4 21.41c.39.39.9.59 1.41.59.51 0 1.02-.2 1.41-.59l7.78-7.78 2.81-2.81c.8-.78.8-2.07 0-2.86zM5.41 20L4 18.59l7.72-7.72 1.47 1.35L5.41 20z\"/>\n",
              "  </svg>\n",
              "      </button>\n",
              "      \n",
              "  <style>\n",
              "    .colab-df-container {\n",
              "      display:flex;\n",
              "      flex-wrap:wrap;\n",
              "      gap: 12px;\n",
              "    }\n",
              "\n",
              "    .colab-df-convert {\n",
              "      background-color: #E8F0FE;\n",
              "      border: none;\n",
              "      border-radius: 50%;\n",
              "      cursor: pointer;\n",
              "      display: none;\n",
              "      fill: #1967D2;\n",
              "      height: 32px;\n",
              "      padding: 0 0 0 0;\n",
              "      width: 32px;\n",
              "    }\n",
              "\n",
              "    .colab-df-convert:hover {\n",
              "      background-color: #E2EBFA;\n",
              "      box-shadow: 0px 1px 2px rgba(60, 64, 67, 0.3), 0px 1px 3px 1px rgba(60, 64, 67, 0.15);\n",
              "      fill: #174EA6;\n",
              "    }\n",
              "\n",
              "    [theme=dark] .colab-df-convert {\n",
              "      background-color: #3B4455;\n",
              "      fill: #D2E3FC;\n",
              "    }\n",
              "\n",
              "    [theme=dark] .colab-df-convert:hover {\n",
              "      background-color: #434B5C;\n",
              "      box-shadow: 0px 1px 3px 1px rgba(0, 0, 0, 0.15);\n",
              "      filter: drop-shadow(0px 1px 2px rgba(0, 0, 0, 0.3));\n",
              "      fill: #FFFFFF;\n",
              "    }\n",
              "  </style>\n",
              "\n",
              "      <script>\n",
              "        const buttonEl =\n",
              "          document.querySelector('#df-8e118d2d-68b5-41ac-bb5b-c2397c555df8 button.colab-df-convert');\n",
              "        buttonEl.style.display =\n",
              "          google.colab.kernel.accessAllowed ? 'block' : 'none';\n",
              "\n",
              "        async function convertToInteractive(key) {\n",
              "          const element = document.querySelector('#df-8e118d2d-68b5-41ac-bb5b-c2397c555df8');\n",
              "          const dataTable =\n",
              "            await google.colab.kernel.invokeFunction('convertToInteractive',\n",
              "                                                     [key], {});\n",
              "          if (!dataTable) return;\n",
              "\n",
              "          const docLinkHtml = 'Like what you see? Visit the ' +\n",
              "            '<a target=\"_blank\" href=https://colab.research.google.com/notebooks/data_table.ipynb>data table notebook</a>'\n",
              "            + ' to learn more about interactive tables.';\n",
              "          element.innerHTML = '';\n",
              "          dataTable['output_type'] = 'display_data';\n",
              "          await google.colab.output.renderOutput(dataTable, element);\n",
              "          const docLink = document.createElement('div');\n",
              "          docLink.innerHTML = docLinkHtml;\n",
              "          element.appendChild(docLink);\n",
              "        }\n",
              "      </script>\n",
              "    </div>\n",
              "  </div>\n",
              "  "
            ]
          },
          "metadata": {},
          "execution_count": 12
        }
      ]
    },
    {
      "cell_type": "code",
      "source": [
        "batch_1[1].value_counts()"
      ],
      "metadata": {
        "colab": {
          "base_uri": "https://localhost:8080/"
        },
        "id": "tvdIU--vyfam",
        "outputId": "57fc5c6b-fd92-4695-b068-61cfea6908e6"
      },
      "execution_count": null,
      "outputs": [
        {
          "output_type": "execute_result",
          "data": {
            "text/plain": [
              "0    450\n",
              "1    450\n",
              "2    450\n",
              "3    450\n",
              "4    450\n",
              "Name: 1, dtype: int64"
            ]
          },
          "metadata": {},
          "execution_count": 12
        }
      ]
    },
    {
      "cell_type": "markdown",
      "source": [
        "#Ejercicio 2"
      ],
      "metadata": {
        "id": "p7WSp0VJ8H4x"
      }
    },
    {
      "cell_type": "markdown",
      "source": [
        "##Carga del modelo pre-entrenado"
      ],
      "metadata": {
        "id": "GDHqjbSEwQII"
      }
    },
    {
      "cell_type": "markdown",
      "source": [
        "Para este trabajo, me basare unicamente en Distil BETO"
      ],
      "metadata": {
        "id": "EjWySST67VeO"
      }
    },
    {
      "cell_type": "code",
      "source": [
        "model_class = ppb.DistilBertModel\n",
        "tokenizer_class = ppb.DistilBertTokenizer\n",
        "pretrained_weights = 'dccuchile/bert-base-spanish-wwm-uncased'"
      ],
      "metadata": {
        "id": "v2JFgntDH-r6"
      },
      "execution_count": null,
      "outputs": []
    },
    {
      "cell_type": "code",
      "source": [
        "# Load pretrained model/tokenizer\n",
        "tokenizer = tokenizer_class.from_pretrained(pretrained_weights)\n",
        "model = model_class.from_pretrained(pretrained_weights)"
      ],
      "metadata": {
        "colab": {
          "base_uri": "https://localhost:8080/",
          "height": 353,
          "referenced_widgets": [
            "181b452b6f4b4d4a9938efff98069010",
            "3c912621dc054431804f25699fa37cb0",
            "4fa9e4326ad0431296cc913778f14893",
            "d64b8e2743f848ffa72f7a26303013b9",
            "59fe071767904032b8978f09983baf4a",
            "b263488802c2447f98fc1e704029cb86",
            "1650f892ea4e4023867d336b3f8b3677",
            "2c4c47fa52224d61a51540328e6bc450",
            "2e14c96a769646a9b933da2cbb49cb0f",
            "defbe8357e22494eb02249c905d7480e",
            "3fcf34121dcb4c2499d0c9be09773059",
            "ec5b8b07f8c044ccbf24eba782caa430",
            "dbf2e5c53dfe40c8862736d5fda29121",
            "37ce1e57e6ba4e04a68a404f24d99d33",
            "66d1041c57d54f1a80b3abc3d5c3ca40",
            "58bb6902f28d48379c7225015bd895fb",
            "a553f95d4d4c4ea69d50b44125f2bc4d",
            "abb9245fa95047579af7a9bba9208ae4",
            "2e69dcd475844ab8b5aa0212bf5ea2ba",
            "aa89e86ca22f4438bc9306ec71258530",
            "9d2e14adde1e4fb8a66ba99e530bb3aa",
            "2b6c152fdb06474eb49915940108a0e5",
            "df7e2ee6dc9b49d8a3785b2679be9d2d",
            "74c1a123bfa141d2bd9b86f3e6ca2a98",
            "9b26ed0cd9e64709a5c22b8e3c79632c",
            "4cc57572b78c4118b4ea58da6141064b",
            "b1585d0ab2854f4487d6908221e69758",
            "cce45c5f192846ba9c1a1713666d2faa",
            "bd55608243304b2d81b8d8e8f3aa8022",
            "d3281a3874574f778d802380c63db7d3",
            "0c6b7bec593a4d3aa0ef453af79de90e",
            "ff28fb48f21d4bfa97e6c37fea91e278",
            "173792303db44104ae02b6315e8ce114",
            "4a5416a175a0450e9afbdc7281103ced",
            "893b452f2e09463c9bb5077ef96b98d3",
            "dd61e67094724ebeb23cca9d7d03fac7",
            "015baac5e497455ba322c06b2646527e",
            "1b2320e8e3444212bac8621ba264bea4",
            "8e9ff43474f64ec4b8e753d6324aeb4f",
            "5c4d51cab8014546b548cf66f273411f",
            "529d6024c2bf4427913769ffa5aa2f86",
            "bb8e6e631dc94fe1bbd629dda1cb4b1c",
            "0c7d0aac20624b3ca4467bf6b282b741",
            "bad301787f0b44eaac1c102f12331356",
            "b1cc0d095ede47a1a23cdf13c79f2e3e",
            "3dd2bd6c85e54c9398fc59c4a269c25a",
            "ba3bf2ef61d34c088e863ed33dd7afad",
            "d39c2aec97704f88861139f08c135106",
            "aea346b4c6eb4da9867db1808bc7ba2d",
            "7c1ddd51202941a29936c162e77b0423",
            "0df9b283ea064094934a2b1a54646729",
            "e31a4b2660494ce5afecb12210eed7a0",
            "046083cbdc464e3aa85261f9e6891bc3",
            "99b350183c924779b3de78bcd0f0ddce",
            "09472fa33ae24a69951f025d40e4b57e"
          ]
        },
        "id": "kdCSHZyKIoOp",
        "outputId": "cc1aafc5-ca24-41e3-dd4d-86335757bd94"
      },
      "execution_count": null,
      "outputs": [
        {
          "output_type": "display_data",
          "data": {
            "text/plain": [
              "Downloading:   0%|          | 0.00/248k [00:00<?, ?B/s]"
            ],
            "application/vnd.jupyter.widget-view+json": {
              "version_major": 2,
              "version_minor": 0,
              "model_id": "181b452b6f4b4d4a9938efff98069010"
            }
          },
          "metadata": {}
        },
        {
          "output_type": "display_data",
          "data": {
            "text/plain": [
              "Downloading:   0%|          | 0.00/134 [00:00<?, ?B/s]"
            ],
            "application/vnd.jupyter.widget-view+json": {
              "version_major": 2,
              "version_minor": 0,
              "model_id": "ec5b8b07f8c044ccbf24eba782caa430"
            }
          },
          "metadata": {}
        },
        {
          "output_type": "display_data",
          "data": {
            "text/plain": [
              "Downloading:   0%|          | 0.00/310 [00:00<?, ?B/s]"
            ],
            "application/vnd.jupyter.widget-view+json": {
              "version_major": 2,
              "version_minor": 0,
              "model_id": "df7e2ee6dc9b49d8a3785b2679be9d2d"
            }
          },
          "metadata": {}
        },
        {
          "output_type": "display_data",
          "data": {
            "text/plain": [
              "Downloading:   0%|          | 0.00/650 [00:00<?, ?B/s]"
            ],
            "application/vnd.jupyter.widget-view+json": {
              "version_major": 2,
              "version_minor": 0,
              "model_id": "4a5416a175a0450e9afbdc7281103ced"
            }
          },
          "metadata": {}
        },
        {
          "output_type": "stream",
          "name": "stderr",
          "text": [
            "The tokenizer class you load from this checkpoint is not the same type as the class this function is called from. It may result in unexpected tokenization. \n",
            "The tokenizer class you load from this checkpoint is 'BertTokenizer'. \n",
            "The class this function is called from is 'DistilBertTokenizer'.\n",
            "You are using a model of type bert to instantiate a model of type distilbert. This is not supported for all configurations of models and can yield errors.\n"
          ]
        },
        {
          "output_type": "display_data",
          "data": {
            "text/plain": [
              "Downloading:   0%|          | 0.00/440M [00:00<?, ?B/s]"
            ],
            "application/vnd.jupyter.widget-view+json": {
              "version_major": 2,
              "version_minor": 0,
              "model_id": "b1cc0d095ede47a1a23cdf13c79f2e3e"
            }
          },
          "metadata": {}
        },
        {
          "output_type": "stream",
          "name": "stderr",
          "text": [
            "Some weights of the model checkpoint at dccuchile/bert-base-spanish-wwm-uncased were not used when initializing DistilBertModel: ['bert.encoder.layer.2.output.dense.weight', 'bert.encoder.layer.11.output.dense.bias', 'bert.encoder.layer.2.attention.self.query.weight', 'bert.encoder.layer.0.attention.self.key.weight', 'bert.encoder.layer.8.output.dense.weight', 'bert.encoder.layer.4.intermediate.dense.bias', 'bert.encoder.layer.0.attention.self.value.bias', 'bert.encoder.layer.4.attention.output.LayerNorm.bias', 'bert.encoder.layer.7.attention.output.dense.weight', 'bert.encoder.layer.11.attention.self.key.weight', 'cls.predictions.decoder.bias', 'bert.encoder.layer.4.output.dense.bias', 'bert.encoder.layer.6.output.dense.bias', 'bert.encoder.layer.1.intermediate.dense.weight', 'cls.predictions.decoder.weight', 'bert.encoder.layer.11.attention.self.query.weight', 'bert.encoder.layer.2.attention.output.dense.bias', 'bert.embeddings.position_ids', 'bert.embeddings.word_embeddings.weight', 'bert.encoder.layer.0.attention.output.dense.bias', 'bert.encoder.layer.8.attention.self.value.bias', 'bert.encoder.layer.2.attention.self.value.weight', 'bert.encoder.layer.4.attention.output.dense.bias', 'bert.encoder.layer.4.attention.output.LayerNorm.weight', 'bert.encoder.layer.2.attention.output.LayerNorm.bias', 'bert.encoder.layer.0.output.dense.weight', 'bert.encoder.layer.3.attention.output.dense.bias', 'bert.encoder.layer.8.attention.self.value.weight', 'bert.encoder.layer.2.intermediate.dense.weight', 'bert.encoder.layer.8.intermediate.dense.weight', 'bert.encoder.layer.5.output.LayerNorm.weight', 'bert.encoder.layer.6.attention.self.query.weight', 'bert.encoder.layer.9.output.LayerNorm.weight', 'bert.encoder.layer.7.output.LayerNorm.weight', 'bert.encoder.layer.10.output.LayerNorm.bias', 'bert.encoder.layer.10.attention.self.key.weight', 'bert.encoder.layer.9.output.dense.bias', 'bert.encoder.layer.8.attention.self.query.bias', 'bert.encoder.layer.7.attention.output.dense.bias', 'bert.encoder.layer.1.attention.self.value.bias', 'bert.encoder.layer.6.attention.self.key.bias', 'bert.encoder.layer.5.attention.self.value.weight', 'bert.encoder.layer.7.output.dense.weight', 'bert.encoder.layer.9.output.dense.weight', 'bert.encoder.layer.10.intermediate.dense.weight', 'bert.encoder.layer.4.attention.self.key.weight', 'bert.encoder.layer.5.intermediate.dense.weight', 'bert.encoder.layer.5.output.LayerNorm.bias', 'bert.encoder.layer.1.intermediate.dense.bias', 'bert.encoder.layer.0.attention.output.LayerNorm.bias', 'bert.encoder.layer.0.output.dense.bias', 'bert.encoder.layer.5.attention.self.key.bias', 'bert.encoder.layer.10.attention.self.key.bias', 'bert.encoder.layer.3.output.dense.bias', 'bert.encoder.layer.11.intermediate.dense.bias', 'bert.encoder.layer.10.attention.self.value.weight', 'bert.encoder.layer.4.attention.self.query.bias', 'bert.encoder.layer.3.intermediate.dense.bias', 'bert.encoder.layer.8.attention.self.query.weight', 'bert.encoder.layer.10.attention.self.query.bias', 'bert.encoder.layer.8.attention.output.dense.bias', 'bert.encoder.layer.4.attention.self.value.bias', 'bert.encoder.layer.5.intermediate.dense.bias', 'bert.encoder.layer.1.attention.self.key.bias', 'bert.encoder.layer.8.output.LayerNorm.weight', 'bert.encoder.layer.1.output.dense.weight', 'bert.encoder.layer.9.output.LayerNorm.bias', 'bert.encoder.layer.2.attention.self.key.weight', 'bert.embeddings.token_type_embeddings.weight', 'bert.encoder.layer.7.attention.self.query.weight', 'bert.encoder.layer.5.attention.output.LayerNorm.bias', 'bert.encoder.layer.0.intermediate.dense.weight', 'bert.encoder.layer.11.output.LayerNorm.weight', 'bert.encoder.layer.2.output.LayerNorm.bias', 'cls.predictions.transform.LayerNorm.bias', 'bert.encoder.layer.3.attention.self.value.bias', 'bert.encoder.layer.6.attention.output.dense.bias', 'bert.encoder.layer.0.output.LayerNorm.weight', 'bert.encoder.layer.9.intermediate.dense.bias', 'bert.encoder.layer.0.attention.self.key.bias', 'cls.predictions.transform.LayerNorm.weight', 'bert.encoder.layer.0.attention.self.value.weight', 'bert.encoder.layer.1.output.LayerNorm.bias', 'bert.encoder.layer.11.attention.self.value.bias', 'bert.encoder.layer.11.attention.output.LayerNorm.weight', 'bert.encoder.layer.8.attention.self.key.weight', 'bert.encoder.layer.11.attention.self.query.bias', 'bert.encoder.layer.2.intermediate.dense.bias', 'bert.encoder.layer.5.attention.output.dense.bias', 'bert.encoder.layer.7.output.LayerNorm.bias', 'bert.encoder.layer.7.attention.self.key.bias', 'bert.encoder.layer.11.attention.self.key.bias', 'bert.encoder.layer.1.attention.self.value.weight', 'bert.encoder.layer.1.output.dense.bias', 'bert.embeddings.LayerNorm.weight', 'bert.encoder.layer.3.attention.self.query.bias', 'bert.encoder.layer.4.attention.output.dense.weight', 'bert.encoder.layer.1.output.LayerNorm.weight', 'bert.encoder.layer.4.intermediate.dense.weight', 'bert.encoder.layer.7.attention.output.LayerNorm.bias', 'bert.encoder.layer.3.attention.self.key.bias', 'bert.encoder.layer.1.attention.self.key.weight', 'bert.encoder.layer.10.attention.self.value.bias', 'bert.encoder.layer.6.attention.self.value.weight', 'bert.encoder.layer.1.attention.output.LayerNorm.bias', 'bert.encoder.layer.7.attention.self.key.weight', 'bert.encoder.layer.2.attention.output.LayerNorm.weight', 'bert.encoder.layer.0.attention.self.query.weight', 'bert.encoder.layer.6.attention.output.dense.weight', 'bert.encoder.layer.7.attention.self.value.bias', 'cls.predictions.bias', 'bert.encoder.layer.5.output.dense.bias', 'cls.predictions.transform.dense.weight', 'bert.encoder.layer.6.attention.self.value.bias', 'bert.encoder.layer.3.output.LayerNorm.bias', 'bert.encoder.layer.1.attention.self.query.bias', 'bert.encoder.layer.5.attention.self.key.weight', 'bert.encoder.layer.3.attention.output.LayerNorm.bias', 'bert.encoder.layer.8.output.LayerNorm.bias', 'bert.encoder.layer.1.attention.output.LayerNorm.weight', 'bert.encoder.layer.6.intermediate.dense.weight', 'bert.encoder.layer.9.attention.self.value.bias', 'bert.encoder.layer.10.intermediate.dense.bias', 'bert.encoder.layer.8.attention.output.dense.weight', 'bert.encoder.layer.3.attention.self.query.weight', 'bert.encoder.layer.0.attention.self.query.bias', 'bert.encoder.layer.11.output.dense.weight', 'bert.encoder.layer.5.output.dense.weight', 'bert.encoder.layer.6.attention.self.key.weight', 'bert.encoder.layer.4.output.LayerNorm.bias', 'bert.encoder.layer.9.attention.self.value.weight', 'bert.encoder.layer.3.output.LayerNorm.weight', 'bert.encoder.layer.7.attention.self.query.bias', 'bert.encoder.layer.5.attention.self.query.bias', 'cls.predictions.transform.dense.bias', 'bert.encoder.layer.3.attention.output.LayerNorm.weight', 'bert.encoder.layer.3.output.dense.weight', 'bert.encoder.layer.10.attention.output.LayerNorm.weight', 'bert.encoder.layer.3.attention.self.value.weight', 'bert.encoder.layer.9.attention.self.key.bias', 'bert.encoder.layer.9.attention.output.LayerNorm.bias', 'bert.encoder.layer.9.attention.output.LayerNorm.weight', 'bert.encoder.layer.0.attention.output.LayerNorm.weight', 'bert.encoder.layer.10.output.dense.bias', 'bert.encoder.layer.6.output.dense.weight', 'bert.encoder.layer.7.attention.output.LayerNorm.weight', 'bert.encoder.layer.2.output.dense.bias', 'bert.encoder.layer.0.intermediate.dense.bias', 'bert.encoder.layer.2.attention.output.dense.weight', 'bert.encoder.layer.9.attention.self.query.weight', 'bert.encoder.layer.1.attention.self.query.weight', 'bert.encoder.layer.8.attention.self.key.bias', 'bert.encoder.layer.7.attention.self.value.weight', 'bert.encoder.layer.8.intermediate.dense.bias', 'bert.encoder.layer.5.attention.self.query.weight', 'bert.encoder.layer.6.intermediate.dense.bias', 'bert.encoder.layer.11.intermediate.dense.weight', 'bert.encoder.layer.3.attention.self.key.weight', 'bert.encoder.layer.8.attention.output.LayerNorm.bias', 'bert.encoder.layer.10.attention.output.dense.weight', 'bert.encoder.layer.3.attention.output.dense.weight', 'bert.encoder.layer.4.attention.self.value.weight', 'bert.encoder.layer.9.attention.output.dense.weight', 'bert.encoder.layer.9.attention.output.dense.bias', 'bert.encoder.layer.1.attention.output.dense.bias', 'bert.encoder.layer.0.attention.output.dense.weight', 'bert.encoder.layer.4.attention.self.key.bias', 'bert.encoder.layer.2.attention.self.query.bias', 'bert.encoder.layer.7.intermediate.dense.weight', 'bert.encoder.layer.9.attention.self.key.weight', 'bert.encoder.layer.10.attention.self.query.weight', 'bert.encoder.layer.11.attention.self.value.weight', 'bert.encoder.layer.8.output.dense.bias', 'bert.encoder.layer.10.output.LayerNorm.weight', 'bert.encoder.layer.5.attention.output.dense.weight', 'bert.encoder.layer.6.attention.self.query.bias', 'bert.encoder.layer.5.attention.self.value.bias', 'bert.encoder.layer.2.attention.self.value.bias', 'bert.encoder.layer.2.output.LayerNorm.weight', 'bert.encoder.layer.6.attention.output.LayerNorm.bias', 'bert.encoder.layer.11.attention.output.dense.bias', 'bert.encoder.layer.9.intermediate.dense.weight', 'bert.encoder.layer.10.attention.output.LayerNorm.bias', 'bert.encoder.layer.2.attention.self.key.bias', 'bert.encoder.layer.4.output.LayerNorm.weight', 'bert.encoder.layer.6.output.LayerNorm.weight', 'bert.encoder.layer.11.attention.output.LayerNorm.bias', 'bert.embeddings.LayerNorm.bias', 'bert.encoder.layer.11.output.LayerNorm.bias', 'bert.encoder.layer.6.attention.output.LayerNorm.weight', 'bert.encoder.layer.7.output.dense.bias', 'bert.encoder.layer.8.attention.output.LayerNorm.weight', 'bert.encoder.layer.0.output.LayerNorm.bias', 'bert.encoder.layer.10.output.dense.weight', 'bert.encoder.layer.4.output.dense.weight', 'bert.encoder.layer.10.attention.output.dense.bias', 'bert.encoder.layer.3.intermediate.dense.weight', 'bert.encoder.layer.6.output.LayerNorm.bias', 'bert.encoder.layer.4.attention.self.query.weight', 'bert.encoder.layer.9.attention.self.query.bias', 'bert.encoder.layer.7.intermediate.dense.bias', 'bert.encoder.layer.11.attention.output.dense.weight', 'bert.encoder.layer.1.attention.output.dense.weight', 'bert.embeddings.position_embeddings.weight', 'bert.encoder.layer.5.attention.output.LayerNorm.weight']\n",
            "- This IS expected if you are initializing DistilBertModel from the checkpoint of a model trained on another task or with another architecture (e.g. initializing a BertForSequenceClassification model from a BertForPreTraining model).\n",
            "- This IS NOT expected if you are initializing DistilBertModel from the checkpoint of a model that you expect to be exactly identical (initializing a BertForSequenceClassification model from a BertForSequenceClassification model).\n",
            "Some weights of DistilBertModel were not initialized from the model checkpoint at dccuchile/bert-base-spanish-wwm-uncased and are newly initialized: ['transformer.layer.1.attention.k_lin.bias', 'transformer.layer.2.attention.q_lin.bias', 'transformer.layer.6.attention.out_lin.weight', 'transformer.layer.2.attention.k_lin.bias', 'transformer.layer.3.attention.out_lin.weight', 'transformer.layer.2.sa_layer_norm.weight', 'transformer.layer.11.attention.v_lin.weight', 'transformer.layer.7.attention.v_lin.bias', 'transformer.layer.4.attention.v_lin.bias', 'transformer.layer.1.sa_layer_norm.bias', 'transformer.layer.3.ffn.lin2.weight', 'transformer.layer.10.ffn.lin1.weight', 'transformer.layer.3.attention.v_lin.weight', 'transformer.layer.11.ffn.lin1.bias', 'transformer.layer.11.attention.v_lin.bias', 'transformer.layer.2.attention.out_lin.bias', 'transformer.layer.7.attention.q_lin.bias', 'transformer.layer.11.attention.q_lin.bias', 'transformer.layer.6.attention.out_lin.bias', 'transformer.layer.1.attention.out_lin.bias', 'transformer.layer.7.ffn.lin1.weight', 'transformer.layer.0.attention.out_lin.bias', 'transformer.layer.1.ffn.lin2.weight', 'transformer.layer.3.sa_layer_norm.weight', 'transformer.layer.9.attention.v_lin.weight', 'transformer.layer.3.ffn.lin1.bias', 'transformer.layer.2.ffn.lin2.weight', 'transformer.layer.7.ffn.lin2.weight', 'transformer.layer.8.attention.k_lin.weight', 'transformer.layer.1.attention.v_lin.bias', 'transformer.layer.6.ffn.lin2.weight', 'transformer.layer.1.attention.out_lin.weight', 'transformer.layer.3.sa_layer_norm.bias', 'transformer.layer.8.attention.q_lin.bias', 'transformer.layer.5.attention.k_lin.weight', 'transformer.layer.4.attention.q_lin.weight', 'transformer.layer.0.sa_layer_norm.weight', 'transformer.layer.10.ffn.lin1.bias', 'transformer.layer.7.attention.out_lin.weight', 'transformer.layer.10.output_layer_norm.bias', 'transformer.layer.4.attention.out_lin.weight', 'transformer.layer.6.attention.q_lin.weight', 'transformer.layer.1.output_layer_norm.bias', 'transformer.layer.2.attention.out_lin.weight', 'transformer.layer.5.attention.v_lin.bias', 'transformer.layer.4.ffn.lin2.weight', 'transformer.layer.7.output_layer_norm.weight', 'transformer.layer.5.attention.v_lin.weight', 'transformer.layer.11.output_layer_norm.bias', 'transformer.layer.8.ffn.lin1.bias', 'transformer.layer.3.attention.k_lin.bias', 'transformer.layer.3.attention.q_lin.weight', 'transformer.layer.7.attention.v_lin.weight', 'transformer.layer.9.attention.k_lin.bias', 'transformer.layer.11.ffn.lin2.bias', 'transformer.layer.5.output_layer_norm.weight', 'transformer.layer.6.ffn.lin2.bias', 'transformer.layer.10.ffn.lin2.weight', 'transformer.layer.1.output_layer_norm.weight', 'transformer.layer.0.sa_layer_norm.bias', 'transformer.layer.0.ffn.lin2.weight', 'transformer.layer.5.attention.out_lin.bias', 'transformer.layer.5.ffn.lin1.weight', 'transformer.layer.4.ffn.lin1.weight', 'transformer.layer.2.ffn.lin2.bias', 'transformer.layer.9.attention.out_lin.bias', 'transformer.layer.6.output_layer_norm.weight', 'transformer.layer.10.attention.k_lin.bias', 'transformer.layer.11.sa_layer_norm.weight', 'transformer.layer.0.output_layer_norm.weight', 'transformer.layer.4.sa_layer_norm.bias', 'transformer.layer.4.attention.v_lin.weight', 'transformer.layer.8.ffn.lin2.weight', 'transformer.layer.0.attention.q_lin.bias', 'transformer.layer.2.attention.q_lin.weight', 'transformer.layer.6.ffn.lin1.bias', 'transformer.layer.0.attention.v_lin.weight', 'transformer.layer.8.output_layer_norm.bias', 'transformer.layer.11.sa_layer_norm.bias', 'transformer.layer.9.ffn.lin1.bias', 'transformer.layer.0.attention.k_lin.bias', 'transformer.layer.4.ffn.lin2.bias', 'transformer.layer.5.ffn.lin2.bias', 'transformer.layer.11.attention.out_lin.weight', 'transformer.layer.2.sa_layer_norm.bias', 'transformer.layer.2.attention.v_lin.weight', 'transformer.layer.9.attention.q_lin.bias', 'embeddings.LayerNorm.weight', 'transformer.layer.11.attention.q_lin.weight', 'transformer.layer.8.ffn.lin2.bias', 'transformer.layer.2.attention.v_lin.bias', 'transformer.layer.10.attention.k_lin.weight', 'transformer.layer.0.ffn.lin1.weight', 'transformer.layer.6.attention.v_lin.bias', 'transformer.layer.0.ffn.lin2.bias', 'transformer.layer.6.ffn.lin1.weight', 'transformer.layer.0.attention.out_lin.weight', 'transformer.layer.1.ffn.lin1.weight', 'transformer.layer.7.ffn.lin2.bias', 'transformer.layer.0.ffn.lin1.bias', 'transformer.layer.4.attention.k_lin.weight', 'transformer.layer.4.attention.out_lin.bias', 'transformer.layer.4.ffn.lin1.bias', 'transformer.layer.8.attention.out_lin.weight', 'transformer.layer.10.attention.out_lin.bias', 'transformer.layer.9.attention.v_lin.bias', 'transformer.layer.4.sa_layer_norm.weight', 'transformer.layer.5.attention.q_lin.weight', 'embeddings.position_embeddings.weight', 'transformer.layer.5.attention.k_lin.bias', 'transformer.layer.4.output_layer_norm.weight', 'transformer.layer.3.ffn.lin1.weight', 'transformer.layer.11.ffn.lin2.weight', 'transformer.layer.10.sa_layer_norm.weight', 'transformer.layer.5.attention.out_lin.weight', 'transformer.layer.5.ffn.lin1.bias', 'transformer.layer.8.attention.k_lin.bias', 'transformer.layer.8.attention.v_lin.weight', 'transformer.layer.7.attention.k_lin.bias', 'transformer.layer.10.attention.v_lin.bias', 'transformer.layer.9.ffn.lin2.weight', 'transformer.layer.9.attention.q_lin.weight', 'transformer.layer.5.sa_layer_norm.bias', 'transformer.layer.11.attention.out_lin.bias', 'transformer.layer.8.attention.out_lin.bias', 'transformer.layer.8.sa_layer_norm.weight', 'transformer.layer.3.output_layer_norm.weight', 'transformer.layer.9.ffn.lin1.weight', 'transformer.layer.11.output_layer_norm.weight', 'transformer.layer.0.attention.v_lin.bias', 'transformer.layer.1.attention.v_lin.weight', 'transformer.layer.0.output_layer_norm.bias', 'transformer.layer.3.attention.out_lin.bias', 'transformer.layer.5.ffn.lin2.weight', 'transformer.layer.9.sa_layer_norm.bias', 'transformer.layer.5.sa_layer_norm.weight', 'transformer.layer.9.attention.k_lin.weight', 'transformer.layer.7.output_layer_norm.bias', 'transformer.layer.3.ffn.lin2.bias', 'transformer.layer.7.attention.q_lin.weight', 'transformer.layer.11.attention.k_lin.bias', 'transformer.layer.1.attention.q_lin.weight', 'transformer.layer.2.output_layer_norm.bias', 'transformer.layer.6.attention.k_lin.weight', 'transformer.layer.1.attention.k_lin.weight', 'transformer.layer.6.sa_layer_norm.weight', 'transformer.layer.9.sa_layer_norm.weight', 'transformer.layer.9.output_layer_norm.bias', 'transformer.layer.4.output_layer_norm.bias', 'transformer.layer.6.output_layer_norm.bias', 'transformer.layer.10.attention.out_lin.weight', 'transformer.layer.2.ffn.lin1.weight', 'transformer.layer.3.attention.q_lin.bias', 'transformer.layer.1.ffn.lin2.bias', 'transformer.layer.3.attention.k_lin.weight', 'transformer.layer.5.output_layer_norm.bias', 'transformer.layer.8.attention.q_lin.weight', 'transformer.layer.8.attention.v_lin.bias', 'transformer.layer.2.attention.k_lin.weight', 'transformer.layer.6.attention.q_lin.bias', 'transformer.layer.6.attention.v_lin.weight', 'transformer.layer.7.attention.k_lin.weight', 'transformer.layer.9.output_layer_norm.weight', 'transformer.layer.11.attention.k_lin.weight', 'transformer.layer.8.ffn.lin1.weight', 'transformer.layer.9.ffn.lin2.bias', 'transformer.layer.11.ffn.lin1.weight', 'transformer.layer.10.attention.q_lin.weight', 'transformer.layer.6.sa_layer_norm.bias', 'embeddings.word_embeddings.weight', 'transformer.layer.1.attention.q_lin.bias', 'transformer.layer.9.attention.out_lin.weight', 'transformer.layer.10.sa_layer_norm.bias', 'transformer.layer.8.sa_layer_norm.bias', 'transformer.layer.7.ffn.lin1.bias', 'transformer.layer.0.attention.q_lin.weight', 'transformer.layer.10.ffn.lin2.bias', 'transformer.layer.10.output_layer_norm.weight', 'transformer.layer.3.output_layer_norm.bias', 'transformer.layer.3.attention.v_lin.bias', 'transformer.layer.1.ffn.lin1.bias', 'transformer.layer.6.attention.k_lin.bias', 'transformer.layer.2.output_layer_norm.weight', 'transformer.layer.4.attention.k_lin.bias', 'transformer.layer.0.attention.k_lin.weight', 'transformer.layer.8.output_layer_norm.weight', 'transformer.layer.7.sa_layer_norm.weight', 'transformer.layer.10.attention.q_lin.bias', 'embeddings.LayerNorm.bias', 'transformer.layer.4.attention.q_lin.bias', 'transformer.layer.7.sa_layer_norm.bias', 'transformer.layer.2.ffn.lin1.bias', 'transformer.layer.1.sa_layer_norm.weight', 'transformer.layer.10.attention.v_lin.weight', 'transformer.layer.5.attention.q_lin.bias', 'transformer.layer.7.attention.out_lin.bias']\n",
            "You should probably TRAIN this model on a down-stream task to be able to use it for predictions and inference.\n"
          ]
        }
      ]
    },
    {
      "cell_type": "markdown",
      "source": [
        "Tomaremos una longitud máxima de 100 palabras"
      ],
      "metadata": {
        "id": "ck9c1w4wwt0n"
      }
    },
    {
      "cell_type": "code",
      "source": [
        "tokenized = batch_1[0].apply((lambda x: tokenizer.encode(x, add_special_tokens=True,truncation=True,max_length =100)))"
      ],
      "metadata": {
        "id": "Fc62SYz7wvM1"
      },
      "execution_count": null,
      "outputs": []
    },
    {
      "cell_type": "markdown",
      "source": [],
      "metadata": {
        "id": "QvmzjJgm3CKd"
      }
    },
    {
      "cell_type": "code",
      "source": [
        "max_len = 0\n",
        "for i in tokenized.values:\n",
        "    if len(i) > max_len:\n",
        "        max_len = len(i)\n",
        "\n",
        "padded = np.array([i + [0]*(max_len-len(i)) for i in tokenized.values])"
      ],
      "metadata": {
        "id": "Rs_ZjAP13HSs"
      },
      "execution_count": null,
      "outputs": []
    },
    {
      "cell_type": "code",
      "source": [
        "np.array(padded).shape"
      ],
      "metadata": {
        "colab": {
          "base_uri": "https://localhost:8080/"
        },
        "id": "Uo_CT05i3Kts",
        "outputId": "a9f4adb8-d68c-45d7-f3f1-4cd6d94aa2e9"
      },
      "execution_count": null,
      "outputs": [
        {
          "output_type": "execute_result",
          "data": {
            "text/plain": [
              "(2250, 100)"
            ]
          },
          "metadata": {},
          "execution_count": 17
        }
      ]
    },
    {
      "cell_type": "markdown",
      "source": [
        "Creamos la mascara de atención"
      ],
      "metadata": {
        "id": "q-StTrGq3gkh"
      }
    },
    {
      "cell_type": "code",
      "source": [
        "attention_mask = np.where(padded != 0, 1, 0)\n",
        "attention_mask.shape"
      ],
      "metadata": {
        "colab": {
          "base_uri": "https://localhost:8080/"
        },
        "id": "LuOY3o_u3iQ0",
        "outputId": "f629dfe1-7aa0-4700-c1bd-597b51261838"
      },
      "execution_count": null,
      "outputs": [
        {
          "output_type": "execute_result",
          "data": {
            "text/plain": [
              "(2250, 100)"
            ]
          },
          "metadata": {},
          "execution_count": 18
        }
      ]
    },
    {
      "cell_type": "markdown",
      "source": [
        "Ahora aplicamos el modelo BERT"
      ],
      "metadata": {
        "id": "WH2u8E1p3n9-"
      }
    },
    {
      "cell_type": "code",
      "source": [
        "input_ids = torch.tensor(padded)\n",
        "attention_mask = torch.tensor(attention_mask)\n",
        "\n",
        "with torch.no_grad():\n",
        "    last_hidden_states = model(input_ids, attention_mask=attention_mask)\n",
        ""
      ],
      "metadata": {
        "id": "6gf1wwlq3oLN"
      },
      "execution_count": null,
      "outputs": []
    },
    {
      "cell_type": "markdown",
      "source": [
        "Guardo la primer capa (la del token CLS)"
      ],
      "metadata": {
        "id": "4url9ek94qpi"
      }
    },
    {
      "cell_type": "code",
      "source": [
        "features = last_hidden_states[0][:,0,:].numpy()"
      ],
      "metadata": {
        "id": "pg5UMOibPJIm"
      },
      "execution_count": null,
      "outputs": []
    },
    {
      "cell_type": "code",
      "source": [
        "features.shape"
      ],
      "metadata": {
        "colab": {
          "base_uri": "https://localhost:8080/"
        },
        "id": "sRTCGF-tPOUm",
        "outputId": "b14f4039-014e-4097-9d06-ec2219d54e29"
      },
      "execution_count": null,
      "outputs": [
        {
          "output_type": "execute_result",
          "data": {
            "text/plain": [
              "(2250, 768)"
            ]
          },
          "metadata": {},
          "execution_count": 38
        }
      ]
    },
    {
      "cell_type": "markdown",
      "source": [
        "Para evitar volver a cargar el modelo cada vez, guardare estos valores en un csv"
      ],
      "metadata": {
        "id": "O31_IfTp4qJ1"
      }
    },
    {
      "cell_type": "code",
      "source": [
        "features_df = pd.DataFrame(features)\n",
        "features_df.to_csv('  .csv')"
      ],
      "metadata": {
        "id": "5f8jJqsB4TJL"
      },
      "execution_count": null,
      "outputs": []
    },
    {
      "cell_type": "code",
      "source": [
        "labels = batch_1[1]\n",
        "train_features, test_features, train_labels, test_labels = train_test_split(features, labels)"
      ],
      "metadata": {
        "id": "mp5xjsXTPPjr"
      },
      "execution_count": null,
      "outputs": []
    },
    {
      "cell_type": "markdown",
      "source": [
        "##Representaciones en baja dimensión"
      ],
      "metadata": {
        "id": "UwR_rSE5Vluh"
      }
    },
    {
      "cell_type": "code",
      "source": [
        "df = pd.read_csv('/content/drive/MyDrive/Tarea4_TSCD/BERT/100features_bert.csv',index_col=0)"
      ],
      "metadata": {
        "id": "ToJZNpO37MR9"
      },
      "execution_count": null,
      "outputs": []
    },
    {
      "cell_type": "markdown",
      "source": [
        "###Representación PCA"
      ],
      "metadata": {
        "id": "fCaLuLGRQmuz"
      }
    },
    {
      "cell_type": "code",
      "source": [
        "from sklearn.decomposition import PCA\n",
        "pca = PCA(n_components=2)\n",
        "pca.fit(df)\n",
        "datared=pca.transform(df)\n",
        "\n",
        "import plotly.express as px\n",
        "fig = px.scatter(datared, x=0, y=1, color=tr_y)\n",
        "fig.show()"
      ],
      "metadata": {
        "colab": {
          "base_uri": "https://localhost:8080/",
          "height": 542
        },
        "id": "ZQflN29AQNoV",
        "outputId": "e4acaa30-98f0-4ec3-cf6e-f4286c332969"
      },
      "execution_count": null,
      "outputs": [
        {
          "output_type": "display_data",
          "data": {
            "text/html": [
              "<html>\n",
              "<head><meta charset=\"utf-8\" /></head>\n",
              "<body>\n",
              "    <div>            <script src=\"https://cdnjs.cloudflare.com/ajax/libs/mathjax/2.7.5/MathJax.js?config=TeX-AMS-MML_SVG\"></script><script type=\"text/javascript\">if (window.MathJax) {MathJax.Hub.Config({SVG: {font: \"STIX-Web\"}});}</script>                <script type=\"text/javascript\">window.PlotlyConfig = {MathJaxConfig: 'local'};</script>\n",
              "        <script src=\"https://cdn.plot.ly/plotly-2.8.3.min.js\"></script>                <div id=\"95845363-a2b2-41ff-8c6b-0c67dda9601b\" class=\"plotly-graph-div\" style=\"height:525px; width:100%;\"></div>            <script type=\"text/javascript\">                                    window.PLOTLYENV=window.PLOTLYENV || {};                                    if (document.getElementById(\"95845363-a2b2-41ff-8c6b-0c67dda9601b\")) {                    Plotly.newPlot(                        \"95845363-a2b2-41ff-8c6b-0c67dda9601b\",                        [{\"hovertemplate\":\"0=%{x}<br>1=%{y}<br>color=%{marker.color}<extra></extra>\",\"legendgroup\":\"\",\"marker\":{\"color\":[0,0,0,0,0,0,0,0,0,0,0,0,0,0,0,0,0,0,0,0,0,0,0,0,0,0,0,0,0,0,0,0,0,0,0,0,0,0,0,0,0,0,0,0,0,0,0,0,0,0,0,0,0,0,0,0,0,0,0,0,0,0,0,0,0,0,0,0,0,0,0,0,0,0,0,0,0,0,0,0,0,0,0,0,0,0,0,0,0,0,0,0,0,0,0,0,0,0,0,0,0,0,0,0,0,0,0,0,0,0,0,0,0,0,0,0,0,0,0,0,0,0,0,0,0,0,0,0,0,0,0,0,0,0,0,0,0,0,0,0,0,0,0,0,0,0,0,0,0,0,0,0,0,0,0,0,0,0,0,0,0,0,0,0,0,0,0,0,0,0,0,0,0,0,0,0,0,0,0,0,0,0,0,0,0,0,0,0,0,0,0,0,0,0,0,0,0,0,0,0,0,0,0,0,0,0,0,0,0,0,0,0,0,0,0,0,0,0,0,0,0,0,0,0,0,0,0,0,0,0,0,0,0,0,0,0,0,0,0,0,0,0,0,0,0,0,0,0,0,0,0,0,0,0,0,0,0,0,0,0,0,0,0,0,0,0,0,0,0,0,0,0,0,0,0,0,0,0,0,0,0,0,0,0,0,0,0,0,0,0,0,0,0,0,0,0,0,0,0,0,0,0,0,0,0,0,0,0,0,0,0,0,0,0,0,0,0,0,0,0,0,0,0,0,0,0,0,0,0,0,0,0,0,0,0,0,0,0,0,0,0,0,0,0,0,0,0,0,0,0,0,0,0,0,0,0,0,0,0,0,0,0,0,0,0,0,0,0,0,0,0,0,0,0,0,0,0,0,0,0,0,0,0,0,0,0,0,0,0,0,0,0,0,0,0,0,0,0,0,0,0,0,0,0,0,0,0,0,0,0,0,0,0,0,0,0,0,0,0,0,0,0,0,0,0,0,0,0,0,0,0,0,0,0,0,0,0,0,0,0,0,0,0,0,0,0,0,0,0,0,1,1,1,1,1,1,1,1,1,1,1,1,1,1,1,1,1,1,1,1,1,1,1,1,1,1,1,1,1,1,1,1,1,1,1,1,1,1,1,1,1,1,1,1,1,1,1,1,1,1,1,1,1,1,1,1,1,1,1,1,1,1,1,1,1,1,1,1,1,1,1,1,1,1,1,1,1,1,1,1,1,1,1,1,1,1,1,1,1,1,1,1,1,1,1,1,1,1,1,1,1,1,1,1,1,1,1,1,1,1,1,1,1,1,1,1,1,1,1,1,1,1,1,1,1,1,1,1,1,1,1,1,1,1,1,1,1,1,1,1,1,1,1,1,1,1,1,1,1,1,1,1,1,1,1,1,1,1,1,1,1,1,1,1,1,1,1,1,1,1,1,1,1,1,1,1,1,1,1,1,1,1,1,1,1,1,1,1,1,1,1,1,1,1,1,1,1,1,1,1,1,1,1,1,1,1,1,1,1,1,1,1,1,1,1,1,1,1,1,1,1,1,1,1,1,1,1,1,1,1,1,1,1,1,1,1,1,1,1,1,1,1,1,1,1,1,1,1,1,1,1,1,1,1,1,1,1,1,1,1,1,1,1,1,1,1,1,1,1,1,1,1,1,1,1,1,1,1,1,1,1,1,1,1,1,1,1,1,1,1,1,1,1,1,1,1,1,1,1,1,1,1,1,1,1,1,1,1,1,1,1,1,1,1,1,1,1,1,1,1,1,1,1,1,1,1,1,1,1,1,1,1,1,1,1,1,1,1,1,1,1,1,1,1,1,1,1,1,1,1,1,1,1,1,1,1,1,1,1,1,1,1,1,1,1,1,1,1,1,1,1,1,1,1,1,1,1,1,1,1,1,1,1,1,1,1,1,1,1,1,1,1,1,1,1,1,1,1,1,1,1,1,1,1,1,1,1,1,1,1,1,1,1,1,1,1,1,1,1,1,1,1,1,1,1,1,1,1,1,1,1,1,1,1,1,1,1,1,1,1,1,1,1,1,1,1,1,1,1,1,2,2,2,2,2,2,2,2,2,2,2,2,2,2,2,2,2,2,2,2,2,2,2,2,2,2,2,2,2,2,2,2,2,2,2,2,2,2,2,2,2,2,2,2,2,2,2,2,2,2,2,2,2,2,2,2,2,2,2,2,2,2,2,2,2,2,2,2,2,2,2,2,2,2,2,2,2,2,2,2,2,2,2,2,2,2,2,2,2,2,2,2,2,2,2,2,2,2,2,2,2,2,2,2,2,2,2,2,2,2,2,2,2,2,2,2,2,2,2,2,2,2,2,2,2,2,2,2,2,2,2,2,2,2,2,2,2,2,2,2,2,2,2,2,2,2,2,2,2,2,2,2,2,2,2,2,2,2,2,2,2,2,2,2,2,2,2,2,2,2,2,2,2,2,2,2,2,2,2,2,2,2,2,2,2,2,2,2,2,2,2,2,2,2,2,2,2,2,2,2,2,2,2,2,2,2,2,2,2,2,2,2,2,2,2,2,2,2,2,2,2,2,2,2,2,2,2,2,2,2,2,2,2,2,2,2,2,2,2,2,2,2,2,2,2,2,2,2,2,2,2,2,2,2,2,2,2,2,2,2,2,2,2,2,2,2,2,2,2,2,2,2,2,2,2,2,2,2,2,2,2,2,2,2,2,2,2,2,2,2,2,2,2,2,2,2,2,2,2,2,2,2,2,2,2,2,2,2,2,2,2,2,2,2,2,2,2,2,2,2,2,2,2,2,2,2,2,2,2,2,2,2,2,2,2,2,2,2,2,2,2,2,2,2,2,2,2,2,2,2,2,2,2,2,2,2,2,2,2,2,2,2,2,2,2,2,2,2,2,2,2,2,2,2,2,2,2,2,2,2,2,2,2,2,2,2,2,2,2,2,2,2,2,2,2,2,2,2,2,2,2,2,2,2,2,2,2,2,2,2,2,2,2,2,2,2,2,2,2,2,2,2,2,2,2,2,2,2,2,2,2,2,2,2,2,2,2,2,2,2,2,2,2,2,2,2,2,2,2,2,3,3,3,3,3,3,3,3,3,3,3,3,3,3,3,3,3,3,3,3,3,3,3,3,3,3,3,3,3,3,3,3,3,3,3,3,3,3,3,3,3,3,3,3,3,3,3,3,3,3,3,3,3,3,3,3,3,3,3,3,3,3,3,3,3,3,3,3,3,3,3,3,3,3,3,3,3,3,3,3,3,3,3,3,3,3,3,3,3,3,3,3,3,3,3,3,3,3,3,3,3,3,3,3,3,3,3,3,3,3,3,3,3,3,3,3,3,3,3,3,3,3,3,3,3,3,3,3,3,3,3,3,3,3,3,3,3,3,3,3,3,3,3,3,3,3,3,3,3,3,3,3,3,3,3,3,3,3,3,3,3,3,3,3,3,3,3,3,3,3,3,3,3,3,3,3,3,3,3,3,3,3,3,3,3,3,3,3,3,3,3,3,3,3,3,3,3,3,3,3,3,3,3,3,3,3,3,3,3,3,3,3,3,3,3,3,3,3,3,3,3,3,3,3,3,3,3,3,3,3,3,3,3,3,3,3,3,3,3,3,3,3,3,3,3,3,3,3,3,3,3,3,3,3,3,3,3,3,3,3,3,3,3,3,3,3,3,3,3,3,3,3,3,3,3,3,3,3,3,3,3,3,3,3,3,3,3,3,3,3,3,3,3,3,3,3,3,3,3,3,3,3,3,3,3,3,3,3,3,3,3,3,3,3,3,3,3,3,3,3,3,3,3,3,3,3,3,3,3,3,3,3,3,3,3,3,3,3,3,3,3,3,3,3,3,3,3,3,3,3,3,3,3,3,3,3,3,3,3,3,3,3,3,3,3,3,3,3,3,3,3,3,3,3,3,3,3,3,3,3,3,3,3,3,3,3,3,3,3,3,3,3,3,3,3,3,3,3,3,3,3,3,3,3,3,3,3,3,3,3,3,3,3,3,3,3,3,3,3,3,3,3,3,3,3,3,3,3,3,3,3,3,3,3,3,3,3,3,3,3,3,3,3,3,3,3,3,3,3,3,4,4,4,4,4,4,4,4,4,4,4,4,4,4,4,4,4,4,4,4,4,4,4,4,4,4,4,4,4,4,4,4,4,4,4,4,4,4,4,4,4,4,4,4,4,4,4,4,4,4,4,4,4,4,4,4,4,4,4,4,4,4,4,4,4,4,4,4,4,4,4,4,4,4,4,4,4,4,4,4,4,4,4,4,4,4,4,4,4,4,4,4,4,4,4,4,4,4,4,4,4,4,4,4,4,4,4,4,4,4,4,4,4,4,4,4,4,4,4,4,4,4,4,4,4,4,4,4,4,4,4,4,4,4,4,4,4,4,4,4,4,4,4,4,4,4,4,4,4,4,4,4,4,4,4,4,4,4,4,4,4,4,4,4,4,4,4,4,4,4,4,4,4,4,4,4,4,4,4,4,4,4,4,4,4,4,4,4,4,4,4,4,4,4,4,4,4,4,4,4,4,4,4,4,4,4,4,4,4,4,4,4,4,4,4,4,4,4,4,4,4,4,4,4,4,4,4,4,4,4,4,4,4,4,4,4,4,4,4,4,4,4,4,4,4,4,4,4,4,4,4,4,4,4,4,4,4,4,4,4,4,4,4,4,4,4,4,4,4,4,4,4,4,4,4,4,4,4,4,4,4,4,4,4,4,4,4,4,4,4,4,4,4,4,4,4,4,4,4,4,4,4,4,4,4,4,4,4,4,4,4,4,4,4,4,4,4,4,4,4,4,4,4,4,4,4,4,4,4,4,4,4,4,4,4,4,4,4,4,4,4,4,4,4,4,4,4,4,4,4,4,4,4,4,4,4,4,4,4,4,4,4,4,4,4,4,4,4,4,4,4,4,4,4,4,4,4,4,4,4,4,4,4,4,4,4,4,4,4,4,4,4,4,4,4,4,4,4,4,4,4,4,4,4,4,4,4,4,4,4,4,4,4,4,4,4,4,4,4,4,4,4,4,4,4,4,4,4,4,4,4,4,4,4,4,4,4,4,4,4,4,4,4,4,4,4,4,4,4,4],\"coloraxis\":\"coloraxis\",\"symbol\":\"circle\"},\"mode\":\"markers\",\"name\":\"\",\"showlegend\":false,\"x\":[-0.7234350497405799,-0.5344615162305499,-0.05662256925555548,-0.9240770158826281,-1.0700074815982135,-0.9382352998664895,1.0930517048150385,0.2092898399721424,-0.7897127481467129,0.7987892859290162,0.04703314483847107,-0.43505742292962307,1.1171845551635193,0.15552228607465912,1.035789513102167,-0.9060047863517913,-0.057071814040780336,-0.8642162327284222,1.0296895901632535,-1.1781487023220512,0.5408985291594044,0.4815880541268125,0.7970978861517375,-0.6123067008790981,-0.6210837682066526,-0.019454149666920263,-0.6058385830244221,0.180845118948946,-0.7931337832577453,0.7440696230644372,0.6891893831103506,0.5153804335745421,-1.020664104504814,-0.4770006225529827,-0.36359289922594307,0.43778401955459056,-0.692332097019887,0.1204532297374124,-0.09168220652300009,-0.8916410996835941,0.8762035925443112,-0.5769488961977318,-0.9804420832024071,0.6429695183292753,0.11853845686438702,-0.7344569502594283,-0.8768444782082235,-0.3362313275968227,-0.6921543389030101,0.5783856816021862,2.718004356117234,0.34787613592504374,-0.09552407332269278,-0.3771810633312336,2.957268675538403,-0.22942417117353409,-0.22538209235094328,0.15908749522607196,-0.5831904165737539,-1.401568559957306,-0.33564817270726055,2.004344400462958,-0.6138551273769329,-0.4890919819907661,0.1928700611894632,-0.5442496982513672,-1.0046182719309913,-0.6742513698048437,0.17001228058636475,-0.06444624680034955,0.6740770592208359,-0.2581278159223341,-0.4680343566826638,-0.33134490340644296,0.8186627897767429,-0.9517107793429387,0.24288011908236487,-0.05193910365824398,-1.1407580761509135,0.7632533156340329,0.09029329698824091,-0.05517551424558675,1.220907164158383,0.5928813877404123,-1.4159885801326078,2.2155980171977694,1.0917498650176305,-0.3743933598775237,-0.48122915525771615,0.6251833209451014,0.315211906841796,-0.7952793916050729,0.752352069968067,0.010537361683061762,0.38597448726198996,-0.8107521458470304,-0.548193605266881,-1.2070365261064586,1.98229171926718,-0.8484413038131148,-0.049237732686188834,0.7670610599046445,-0.6625249726433229,-0.12081119272945445,0.0785442898204648,0.4259914845305902,-0.5461870232326584,-1.1459503021865287,-1.1071013207755207,0.541949152558576,-1.0039124194131916,1.0530818862478535,-0.7558784465799344,-0.6959728972082098,1.0618798037134498,-0.3625480236307623,-0.5596971783850804,-1.066458885723994,-0.8631532884006813,-1.5634030210775807,0.8234581140323685,0.11895340816661701,1.6299960780722107,1.6293325664945146,0.13928464765934265,-0.9622223994284134,-1.0107362803276208,-0.519564685962253,-0.9977017126321293,-0.33204222122496097,3.181484766542839,-1.0322499498033568,0.46844589600553893,0.8655534560150289,1.0696001962377713,-0.34307281674665446,0.3291593138325168,0.08358282708798177,-1.3952871354570533,-0.5279600608636866,-0.3520326030355221,0.2518422597701069,-1.0009510532473516,-0.10916024539445687,1.4465818064458085,-0.22122531662843153,0.662849373171484,-1.5751011087967035,1.052709120111425,-0.32309073866899596,0.13690605803701233,0.5479376763462989,1.3272033270440746,0.487115729275907,2.0983096694027705,0.4202123293274649,1.0810318340100928,0.1813058818334487,-0.6081285761330022,1.361580326701476,0.5011737533209873,-0.44658763259789325,-0.24622946666699586,0.589622276685771,-0.44491256689593217,0.06426788394788421,2.9818229743211084,0.5720137329027071,0.024273632555770912,-1.2318865895658995,-0.5627627034420594,0.34248016136754067,0.6376073088906168,-1.3484235128601494,-0.830045679787565,-0.7964040173117333,-0.011178510163016638,-1.1907138681158906,0.019099495038947832,0.015044741765979586,-0.7200819201500417,0.19177481566754886,-0.17235633546975343,-0.029129055136694993,-0.20778456370388884,-0.2620801619840729,-0.37934158892976777,-0.9078773446595652,0.8368419950327318,-0.8192248554410491,0.28082165785357305,0.539756041017133,-0.45358112133145057,-0.9160258647237883,-0.51893046387813,-0.5636035537265323,-0.8546112393991265,0.843254814626389,-0.5322352965124366,-0.22490513009809648,-1.2065683299383123,-0.0888391210250496,-0.5534194031911968,-0.63368730748121,-1.172857902703837,-0.7468795331948056,1.8196391297079564,0.5191182056351966,-0.1251792065827549,-0.45115112888156256,0.9275443367197351,-0.025542373530657324,-0.5873875480301242,1.2557216977515975,0.2785319109526002,0.13027831289972044,-0.11816793868555953,-0.6388223221975208,0.015014582305066363,0.7372579169653162,-0.679771951406533,0.1700226776553444,0.12130277639613973,0.8175921593516542,3.101452980208929,-0.428057383268432,-0.32880560535939496,-1.8932432893144377,1.262466266763583,0.6219670534697751,0.2523046421576,-0.0009499136915197826,0.10836022551088847,1.0360833568033572,0.3512233436696269,-0.07295231681971287,-0.27111598693563244,-0.8942884272222196,1.3807752244105043,-0.8618590497516164,-0.34739634734215175,1.1471318962646246,-0.6689996140446459,0.9816393057512232,-0.6532253503486599,-1.6805460534740329,-0.10917870125569848,0.291616842524447,-1.0461849594540003,1.9831405928673556,0.7001755192384881,0.4033858334362598,1.5424084526513264,-1.2620228873322432,-0.2041073129328892,-0.7618425685999967,-0.9031115966658343,1.1476974975106815,0.10804052667400489,-1.0355303948855994,0.918432858434426,-0.11659030522580925,-0.14975446007787285,-0.4406629832360124,-0.30721829513960464,-0.381822728912719,-0.9026774627525208,-0.7040709979922082,-1.3578841830846824,-0.003780704966836773,-1.0257568100766723,1.0033193706203911,0.5408453677718117,-0.7790250097842023,0.14400161648137508,-0.49072721721398305,-0.9829786625591211,0.0013041328926028384,0.37900251030774534,0.7832945534396427,0.15001392115503043,-0.961030826298253,-0.5223520154220513,0.6758188684432784,-0.024946302451199914,-0.3611500461404984,-0.7081407552802782,0.09079666932091966,0.07954437115414724,-0.30828282450553673,-0.9499886843858992,-0.45316567967049914,-0.104055971820595,-0.1459834863573353,-0.1105210749549722,-0.2531148689623487,-0.1900776649709144,-0.467501060270642,-1.7430753856411205,-1.3360999653914414,-0.9014184600040043,-0.500674966003695,-0.8370459894985341,0.02412809515957387,-0.5463454734187743,1.0080908581239933,-0.7935685413463278,0.10417462396099952,-0.9287758046419545,-0.0263995397409814,0.055787890990488816,0.2595925890951321,-1.145688956636338,1.118470701869025,-0.7158848646231937,1.052126702506739,-0.757647291315106,-1.2047017693777864,-0.4988535606649641,-0.864428334918699,-0.4253409993359123,1.299684942616419,0.3050463024314224,-0.3891939377964847,0.11667846202294009,-1.7701034611260706,1.5370606011339896,-0.6635696118804439,1.077838692879631,-0.5907770132635,1.38773265432406,-0.14459367735746104,0.7230926559755307,0.19319210491730374,1.1254555827354642,0.02633690584263236,-0.2738412002145558,-0.31159651854737197,-0.2586277145470048,-0.35072046388741684,-1.3431650765935086,-0.6323190024138929,-0.7354311990451436,-0.04027891181740691,-1.231707459807544,-1.1061734283901095,-1.614306317916601,-0.03948809026490477,0.6223515288804541,0.17756156143279478,0.4988884351041169,0.18531260337240082,1.08541332109649,-0.1908735653312252,0.3186426893168975,0.7223671379105159,-0.5841173790543948,0.5144924865044856,-0.4616263304297379,-0.12734340286722565,0.05786904369711826,-1.1456985536294697,0.26850985068468053,0.4692690200805978,-0.09008122824014039,-1.123721786811637,-0.5682457620003661,-0.17103485721836367,-0.877750809582375,-0.6680489454758309,-0.7736268185294333,0.16653913958347544,-0.661348047180781,0.06731370437997156,-0.4404544203283336,-0.016035339461818184,-0.07582966410554678,0.14655902883128902,-0.6452427918327956,-0.998429387216532,-0.977513483072425,-1.166403076190452,-0.14415819071600852,-0.08813407794049889,-0.23991074351638556,-0.35017799258998894,1.036544151757624,-0.5348658296217564,-1.0588069514939225,-0.04488351371939411,-0.6627074034682698,0.20770197162914872,0.12816114476874685,-1.270081400348423,0.38999236805467247,-1.1107899888862878,1.2107454087260834,-0.37325244147412484,-0.4694251742381228,1.1926648823171508,0.6730863345484053,-0.9157384143188063,-0.6273648221578975,-0.0688881963977074,1.216975707883821,0.2385199293500679,1.2455719541108046,-1.2930392131965944,-0.0364551293323335,-0.005387223498382762,-0.4220615505655781,-1.1778517739071637,0.09018607771852336,0.3116538981931072,-0.7409505301614845,0.4001248323218297,1.0370900656793431,0.9202370927553774,-0.5727587950876947,0.29170644920307304,-0.16771580772582248,-0.7306597191156676,-0.622874494408594,-0.0474617709454274,-0.6199795477091808,-0.2667621988824405,-0.49687590746763943,-0.09412899940572132,-0.057808700280638156,-0.21273437262061157,-0.5709991244659642,-1.1461528699687191,1.3952440910249058,-0.5450801098396101,-0.2673551789411519,-0.26884770769199984,1.5245427734137187,0.46048211295312513,-0.879614806720565,-0.3951468864280658,-0.8149234667070654,2.8680276399901246,0.3095516728944019,1.1995747946411184,0.5444872770869417,-0.11700425970481905,0.415176642856943,-0.6419852336397692,0.32543054999119947,-0.5528807430055911,0.07520906369558357,1.024595504125011,0.35175280616799154,0.0973567399683784,0.5500222081925794,0.19992391070982335,-0.48832828646835746,0.8135339336127521,-1.0313746078545902,0.6932144865391489,-0.8682418813785381,-0.14594992112421695,-0.6532759238507987,-0.5586014256130589,0.14928808136943839,0.1866657412502004,0.2527865306620123,0.8795353189995793,-0.497682510549901,-0.3941298001667723,0.9567313768804389,0.41135113818322083,0.05306996580410774,4.221695929744678,-0.1804497975438338,-0.5455237182703403,-0.33206917746897596,-0.09122310266529479,1.0189909896645617,-0.9408984408990654,-0.46605494199216574,-1.3602487164705364,0.8850819321248136,0.9965843342680498,-0.5168030510023951,-0.4762644128637663,-0.3632751773040784,0.35429391201826277,0.8596062826866928,0.32096897219408405,-0.20397209878940614,0.19975820988484783,-0.25045879052081277,-0.4967418448619933,0.9949580674999844,0.6023717200777265,1.3349687084703707,0.024537311176533447,0.11601094248216988,0.8993557795558027,-0.5171116999166459,-0.238124864022712,0.9554922650722957,-0.8582903096449761,-1.1282805547094479,-0.9152954065675505,0.2705379416373752,-0.8206263359584065,0.4552852796115391,-0.31022148369171004,2.873388424013123,0.23842145349695792,-0.066836170003954,-1.2290668102971891,0.2414610345916055,0.8541220665124728,1.267119288138683,-0.8524139046947534,-0.650545111820869,-0.7229691195082749,-0.5739705733614219,0.2712040823091305,0.11515203561533845,1.1141055088393677,1.3384677745295672,0.07177509391352642,0.2260756308726361,1.044123229940058,0.3149365646577791,0.16030372669247397,-0.9714119738408462,-0.38886548999160664,0.09957280628568953,-1.2090156784806902,0.7746176040986658,-0.9097896005583301,-0.0373854788763715,0.15634517521384533,0.5068707564231365,-0.8211709710061184,-0.007977402620370472,0.7263761242076132,-1.1176449396813524,1.4108150586794668,-0.07841965451316604,0.9778462487136654,0.22917300558671572,1.0992936225775143,-0.6082352160660973,0.6314579811710446,-0.6201129961613459,-0.18077401869477328,-0.7393271498355493,0.3312827031017011,-0.8503731846323614,1.2431349448334612,0.9866612369127423,-0.007833136147175838,-0.8226059328310109,-0.4020082636416798,0.06954358228924523,-0.8939298555915649,1.2392895647871707,0.4587777025171763,0.5403366175828982,-1.0220919082029778,-0.7646554035196674,-1.178005021946201,-1.1287348456293982,0.17690426158848688,-0.4359551459937634,0.0013127453573315365,-0.4267421817131445,-0.5019546328934351,0.014644566334075716,0.006694945934537781,-1.0068944968321092,-0.4499542885626563,-0.6783947434173752,0.2185939054561194,0.16677545510024472,-0.05661500737400314,-0.9087449001308979,-0.798088422767238,-0.7323098294435533,0.2972121207348697,0.729812307954592,-0.0654313713366804,0.3509789074116237,0.5246789380280067,-0.10403334090963388,0.4324552204378856,-1.0595139490492431,-0.8989988697940783,-0.28958059278483916,0.4084405181445946,0.018435357864282804,0.37660045335125436,-0.2327176334181509,2.0781198221400614,-0.8275063755732752,-1.6080384309742022,0.44234166281508147,0.6662613245983842,1.6734895542243828,0.27891912486519876,-0.5517931309511901,-0.27034980240217943,-0.35287503576845647,-0.08860942993546725,-0.804689224752767,-0.2531782283064329,-1.112186434478669,-0.6341265006396375,0.09215088355402361,0.06866206085582446,-0.5973564117334843,0.36280905388176726,0.8772526947549198,-0.2572657077741005,1.4049460088299228,-0.741311061341542,-0.004960016562488373,-0.8802191474100033,0.855582904873381,0.19710252703869763,0.48032138350589326,1.3031931036101352,0.672454592306919,0.049905261684322785,0.24454734786247898,-0.345228843369071,-0.31203499954735575,0.275152203893515,0.06070993798081935,-0.38360030940819323,-0.34990865569654017,0.10278974585872479,-0.27966997117596726,0.033513972100792225,-0.06968684732627294,4.6929602391037974,-1.3745724965854627,-0.30459842328178016,0.3042271580649762,0.16555040007583438,-1.1813651499475115,0.2776373459276825,-1.0498588492291177,0.31151420133914415,-1.0126894558044108,-0.22871817472972975,-0.14441249359616554,-1.0868391095420558,-0.04058979878340829,-0.3780118588571975,0.07883816491760409,0.9860095504705946,-0.3206189735342089,0.5345558363753845,-0.6606885025946778,0.07842520726102137,0.8715599972580464,0.6982487574795195,-0.5762381094235303,-0.16308290375113738,-0.34956604916391176,0.5341500351983554,-0.0024179771950007954,4.055628744294037,1.9033370651715786,-1.4219788906856095,-0.18688829161690457,0.8274530430469216,-0.8855915991620386,0.09832592932944875,0.11025057512341566,1.8048971501297868,-0.024325308361784932,-0.07782324398156404,0.2625601279407405,-0.4144840807817278,-0.22686949493739977,-0.49180763322937726,-1.5552902108126054,-0.8708944572789344,-0.1770601052496412,-1.3687459339292014,0.5070330089567913,1.1080070281393128,0.769544294610697,0.2828673051329821,0.22520888625574637,-0.5158326845576142,0.542921454118736,-0.3056325301974334,-0.6606535099961355,-0.24774126949065461,-0.2778492901125797,0.24505721821448057,0.07029610794011558,0.5944131048594419,-0.14476933001592363,-1.1956479791468506,1.0918780240972685,-0.4210681578035562,0.43888330040054657,-0.4609767060429458,0.533156595654896,-0.351223256248207,-0.3213198450068604,-0.2514678604998335,-0.11774106469376464,0.22424606965931032,-1.60300134044375,1.5133059531071038,-0.0018471815712329531,0.06361038830194705,0.7220676802905586,0.02751065014841144,0.3402540612577752,-0.41265818571507673,-1.2281272017990168,1.530457551393211,-0.8703029557519382,0.21327067431417174,-0.9130376068907681,0.327835365379259,-0.02706188115194101,0.3870939763453441,0.9416296749753785,-0.2834289001054991,-0.8736579702985134,-0.012331885643593832,-0.7566803405479055,1.0836862985365292,-0.21618085267630996,1.131913097394224,0.013869480608430655,0.2954517200580295,1.5132544624547069,0.04809773473753081,1.6521043453065098,1.5054675582693735,-1.22502023499511,3.48323335405206,-1.0303623457347668,-0.7680859064720352,-0.2642181786219961,-0.23846834531222194,-0.07561866086523307,-0.20105579872940785,-0.18887818799398992,-0.3655535552661888,-0.7076295606882402,1.0060916061004064,-1.8431954574274505,1.1666320844939038,-0.601071207103286,0.43637847306733574,-0.16325479933208162,0.6435828031315036,0.634054818385662,-0.9732420674955131,0.11171995153113184,-0.3719829422204098,-0.41182081650875546,-0.4042049308153168,3.0511177577472925,-1.1796167390857057,-0.6464736569075904,-0.45398439174156646,0.06726669414979894,-0.7573705182664594,1.199678983831402,-0.29970177455561475,-0.8628964682543832,0.030146123190716276,-0.2416441365202947,1.3897442377105593,-0.30314655208867847,0.01099931858289329,-0.5058928246761085,-0.5824997903687834,0.011177160129002287,-0.5066293524948736,1.0634300542054347,-0.855318818602059,-0.060143607104994806,-0.5879571636779334,-0.1424249673123107,-0.6805159379641139,0.45326853531142053,0.4582432388846297,-0.953262935774945,0.07347246556471428,-0.842392992400496,-0.4671313104162479,0.8569961357209597,1.5680451031629268,-1.2776414477517657,1.6670064020914541,-0.7826396474503576,0.8751160053097369,-0.20130765873943002,-0.370183774056436,0.07237769069578531,-0.7562555627582516,1.4271829214145004,0.5650916266824791,-0.3881037129804973,0.015280098257638148,1.0275003914900662,-0.28479173258543944,0.23336945245069604,0.26887567103499954,0.004833343046792501,-0.35302959175871423,2.3973578796402135,1.584978229886726,-0.8733456614548447,-0.05541725655445475,-0.25071523668579493,-0.60173156555017,0.7151036051758701,0.079755961312752,0.6277890642242183,-0.34581297038134645,1.0051633226350423,-0.4717598654220606,0.3849353680336499,0.017062039138399612,1.1837172909190925,-0.3295201767300209,-0.23522907351860203,-0.6980677524593746,-0.44629177530525066,-0.6843316097700956,1.7028877430143279,-0.14644950221217057,-0.43339252579945653,-0.14861240022834546,0.1884757226248539,0.983590617496571,-0.05220803685859516,-1.5061434855051692,0.8473947097270567,0.19483252178031582,0.4015569723403789,0.023821681775824242,0.2537561033517849,-0.2820370936066612,1.7698949374406783,0.35654644079261943,0.1826021523009427,-0.01239661089608532,-0.5524858716036579,-0.15724390938077573,1.0996952434219616,-0.2380974226537523,0.19925697707609696,1.0202428889385642,-0.23018376452548184,0.7590875761947914,-0.44638332339001213,-0.9139900769683724,1.511814264353564,-0.01089709224145598,0.47968223782181035,0.0057030681228699,0.31221265375231666,1.183325219111595,1.4858234012518512,1.0841679649731202,-0.6167836639459012,-0.9858467266756208,-0.5637538669690071,-0.43646005020983375,-0.5206591428707066,-0.43374312988067076,0.16302471771615706,0.5084566387951488,-0.8709919314355157,0.9106648150415007,0.22832717031210434,0.44527134143367136,1.4945980367316216,0.18608410546797413,3.258834363456995,-1.4176878664814316,-0.1048386467416126,0.05583094082185399,0.4099116147613377,-0.928855163111605,0.5049897373694932,-0.20305679650595962,-0.3998671820807762,-0.7913183289185246,-1.235469651753074,-1.3674688552201673,0.1510592073800296,-0.4105184323202747,-0.6543303574642201,-0.4326709155287392,-0.9808569606153792,0.6301770878125238,-0.9979140317500744,-1.1357753004182256,-0.7850497599116166,-0.4810647212104753,0.6564274626940012,0.17022782571786949,0.6406108807068164,0.438935905292286,0.8184047383483142,-0.04672457582458357,-0.4921618083809617,-1.5042637510020165,-1.25314919607774,-0.5352903804521585,-0.18363403567952463,1.0797926437774232,-0.0007051811461444967,0.8280254098796289,0.9658992494014043,-0.05312575971526075,-1.0193882592226202,0.7505422287138567,1.0587449788087575,0.057438085525881956,-0.825964087724421,-0.1741051089414199,-1.0853868936245732,-0.2525901468119743,-0.10330569969109678,-0.1886294342624675,-0.1675895740770068,-0.43028426081000515,-0.6911665887049976,-0.7405380983518994,0.4257987567527425,0.11077412418069885,-0.8941092751220023,-0.7303953401229765,-0.490619094900828,-0.6281806724131043,0.09639477811329841,-1.4767941700187213,-0.5255445471320612,-0.23175283797808452,-0.18971794747583143,1.5060711192768306,0.6263431150549443,0.15970871840117257,1.1235167197454243,-1.1082630331077081,-0.7637805377722585,0.812250933477638,-0.04039054995879048,-0.3150363605765018,-0.11433515952681705,0.4149295092164259,-0.26780817470120893,-0.7647459398334833,-1.1764869772003816,-0.7465741479503596,1.7013987884178348,4.910982562501041,-0.798668931678481,0.4157597520613625,-0.5530861858643994,0.1409319188708701,0.07976474460364308,1.4913133594374466,5.859877236700544,-1.8854694476767735,0.3169026676178749,-1.126970259747848,0.10077049734104533,0.16730560080080262,0.13146826485429053,-0.8892312215637053,-0.36576785928253164,-0.6389250672524869,-0.8640331679278352,0.08830903712174942,-0.36095840202702223,0.3999302681379243,0.6990286439071691,0.1017177979696151,0.2734602360972652,-0.942189261150201,-0.8893185543089304,0.9687982773705918,-0.7051018106613169,2.332428532512514,-0.8883442305469824,-0.5819012420073255,2.1247848237871687,-0.3768258272914744,-0.4448794552034154,-1.2830092171250544,-1.2897151383797145,-1.0394500668319484,-0.30721693273219175,0.9879318875321701,0.4480447051315073,0.7383591902310721,0.16603128380585766,0.9397521827454003,-0.563396405896808,-0.44232720230566186,-0.7382023274577267,-0.05352879513203386,0.5236821172872587,-0.7561465645641398,-0.5155485634273002,-0.29250954256831346,-0.4497297771585812,-0.898952829905249,0.47907498970979207,0.2073600290627201,0.4353447275219128,0.578413172771342,-0.3139293923713593,-0.44224602620289855,0.05593302037195365,-0.6388373219128993,0.36497868934580013,-0.25684084514451755,0.6287602184359016,-0.08795462416742555,-1.0987540852305457,-0.32233554727572766,-0.4196262167695803,-0.13643624414062022,0.30674419182681595,0.22400297676312492,-1.3888935943267857,0.15964156595311352,-0.6215774211067332,0.41046617157052745,-0.25961677242438674,-0.3493343139233695,-0.1635634930759985,-0.7296831076195334,-0.7294409571225811,-0.4193707951074744,1.748076106612312,-0.8297260033462528,-0.35029388131468775,0.9679005701907171,0.1806015915084034,-0.3533795924747522,-1.0455948657285479,0.6893933112287507,-0.013171065113044077,-0.5045163316222085,0.17704422823284613,-0.34702685363744507,1.2722681614141154,-0.08519335487189506,0.3332597064737569,0.3458760809864176,0.05923401967914474,-0.409768042284109,0.29564903748631227,-0.1105235056661909,-0.1885914021357586,-0.5095369571752542,-0.12523061091571153,1.0029393928079426,0.21728363987083985,-0.1387531478040272,-0.2890043816070059,0.007955999356397393,-0.7117845177219786,0.2681662947163135,0.7157895111678099,1.099084249586692,-0.14501356710683264,0.016770869059133633,-0.9035845691107356,0.791353858606341,0.9471718047053798,0.5329542436607593,-0.832904023991779,-0.5078000055930421,-0.8821136875467402,-0.5334566210147811,-0.5947477260880807,1.1732472270763608,2.5650650301447078,-0.5321170129909878,-0.02762362375332733,-0.9814796696855586,0.04521969394113354,0.1237494625618362,-0.9130858835700904,-0.13565928183346435,0.010838301649596115,0.6382829291107972,0.4782016050819917,0.43078141521215363,0.8518580117969987,1.0070068158275043,0.33282264566955727,0.20932338234428857,1.8405051002474309,-0.05069076349149815,0.19719678454239614,-0.23786492181876606,-0.3540114659694636,0.03165004614574804,-0.331465718805826,-0.1643353576843334,-0.29463961248680737,-0.918946988984282,-0.15913189240671502,0.26072921515810776,0.8890076066256942,-1.0004076574471088,-1.3676018937777703,1.5802618368985035,-0.653540498338829,0.02728736042571072,-0.7259240281047462,-0.42991699097210745,-0.8794637560256718,-0.7596917847068757,0.3079538476774246,-0.35610088572434173,0.47990688974815454,0.6469351282014123,-0.5101349747889834,0.1639044848475415,0.46098885126874045,0.7592897328343063,-0.7466308525023148,-0.6676725657241914,0.09972043353292145,-0.6204404189635844,1.7713661084010095,-1.5579979025559831,-0.6941108405067783,-0.4247952189395716,0.9752126048639405,-0.5305761535099314,-1.5055807759665978,1.2674453441294644,-0.034049635180539856,1.2467996210125563,0.3202997287885544,-1.0425699741451364,-0.13142289047770567,-0.35536981521859845,-0.5334185500304522,-1.1665667030699962,0.41392649744236987,-0.3070222885445345,1.3315790825930416,0.20420741497224967,1.168769703303661,-0.5379682903170252,-1.6333795970332616,1.2962774016109897,-1.0699448746881517,0.24352125072119749,1.884916634314464,-0.6033490648106937,0.027534857291998373,-1.0084498164946274,0.5124715286838487,0.045517028197002325,-0.4563176023724075,-0.06489681791068341,0.4216060785459975,0.5717680862369758,2.2280689862911185,-0.7327820851958937,-0.7555260030113217,-0.33483594765431896,-0.2448129378375592,0.5414061423247665,-0.11571239143411664,0.513184048850651,0.5297847157257142,-0.8970740843484596,-0.015254150967357064,-0.06037009649791743,0.3013983755786982,-0.27158066942157316,-0.41293576313690716,0.2570029320328723,1.1456965996497295,-0.08661593131875854,-0.533084891897011,-0.30082130416842445,-0.32309301575743876,0.45234502304376384,1.246221923974117,-0.7722233369746415,-0.09034341907430542,0.7226926252593964,4.633997367373789,-0.07301104392430072,-0.712375472156174,0.5322325501690883,-0.382890837775386,0.07319937043484996,1.7508405815172359,0.026642116760437557,1.8783551053829028,-0.1399096446043754,-0.9559098341754514,0.4248724531860846,0.0002785097716084435,-0.02356195049276974,0.9870087024696936,-0.6415311052137846,-0.3796065903889284,-0.2925034342672829,0.20356549859350898,0.2579172896608693,0.41927833791219227,-1.081823569488653,1.0882209865113621,1.2595169276505305,-0.34242705825303843,2.087560547031297,0.558344560661875,0.2208284257740496,0.6094203514335153,-1.1471778491511364,-0.280935711037653,0.39795289303077636,2.504068941045154,-0.5570786502966577,-0.2876059648932047,1.057536390744959,-1.051417037605927,1.03450934335722,-0.9189085333211204,0.8062670312711562,0.0282746282861746,-0.24061123514482538,0.08541309467924328,0.48124067684873784,0.6240670507991612,2.876110577797641,0.21192916995413766,-0.8092082977868772,2.3166546453885273,-0.365716068785189,-0.4526417301454597,-0.36740051652098127,-0.5962418039800849,-0.5217420681307372,1.004041517074916,0.9040758646314262,-0.0682639719881916,-0.3374603697437434,-0.08826620602329519,0.7133379155029625,1.6582913112070938,-0.42527657449163797,-0.5376096603661251,0.8290482521746463,-1.6120076670924164,-0.16164597262891706,0.355607962607986,-1.0982365993454817,0.049583897989302954,-0.501304606066773,1.1142594184141665,1.5074755633812056,-0.9939868442185662,-0.4524360908332242,0.1621361773012333,-0.056110888035997085,-1.1413783693337642,-0.43826179667680243,0.5009992857112051,-0.11781650106944522,-0.5534985196087647,-0.36370677914306304,0.13110902583606193,-0.4584635958393224,-0.3959792002114653,0.043505738569935455,-0.312072067795522,-0.49670448651538635,0.9641307223485063,-0.4146449238776859,0.0654417434267302,-0.7723368316099322,0.3608848815122324,0.014617828230739073,0.7654360621830154,0.40840838495700243,-0.7636694272983556,0.4340511529502247,0.274556463901416,0.1805004870628804,-0.4718855428228658,-1.624410030250432,0.4160100719356177,-0.48914407102391266,-0.37292751742764785,-0.3069537467639151,-1.1396688148155065,-0.9026120844217258,-1.5904380530606943,0.8200554316824735,-0.1053459193000493,-0.09698763846205029,0.34731123216931636,-1.5366920018315116,-1.5166026561293775,0.07222864603449695,1.9581813883716854,-0.5349705947888379,-1.3620778461676135,0.8857350828183144,-0.8907406890353275,0.42990939624507213,1.0050270142190825,-0.024351400463121935,0.6564512114995712,-0.3196597873938192,0.8856606164607244,-0.7903521747851652,-0.4925985133325977,-0.8793323079469144,0.4001191992130321,0.07123025579095946,-0.8216951894545012,-0.14402377824069548,-0.9103635461882019,-0.0035987822578033984,-0.6501507838902465,-0.5622949301568285,0.45670186902907184,-0.5453304222234359,-0.688357005648055,1.4407755320084983,-0.7620433569066307,-0.3268227942978117,-0.7744296792240319,-0.03239058554926025,-0.5121732430894789,-0.23006233725325492,0.2712592276061213,-0.06612604059014741,0.15547986166328612,-0.46322793650969074,0.6763996064322569,-0.9114723681298701,0.9018591227569481,-0.3709603028245501,-0.776237427055056,4.297335529815732,-0.011542520148215371,-0.35350002294954685,-0.715709335535244,-0.6045552421653909,-1.39677533137692,0.29729201581679154,0.5176864352024073,-0.8256927772615954,-0.5426448330530107,-1.0772355410762178,-1.1783439670665015,1.3580773889625537,0.9997275827048547,0.031539155630957216,0.3780267974007228,0.4308538809269712,-1.2518255648552583,-0.8135922809723505,-0.4621229621231516,-1.1581241188951872,0.016552229955304344,-0.039632760627849525,0.9376768968105821,0.17415769952205606,1.1959453245553637,-1.0264326475123067,-0.6692574041605572,0.21851455425359567,-0.2550488170332859,0.6731182188116602,-0.3496489891690886,0.2755160679537804,-0.057444851225185486,-0.9641485783897468,1.9919491388399875,-0.06539915786911295,-0.31146414670651446,-0.24934622295277536,0.3272480085555819,2.109635828655087,-0.8807952685292451,0.05257766353195198,-0.12523912882340482,0.4598139964273218,-0.700371466174287,-0.06960670130310036,0.8138850950899601,0.6410604076633866,1.5235202076156396,0.3338954816272298,-0.9962204427229033,0.6356506492062053,-0.36007816555283945,0.5179413687671066,-0.23142617074248167,1.3909084200459993,-1.3504404869697668,1.922266774549298,-0.6154678987715245,-0.6598549484294363,-0.8995629544587113,-0.6612210655941668,0.2948242502669519,-0.19813542273926743,-0.5678786017297467,4.057787160473884,-0.31382513494789865,-1.6277962099121877,-0.4930639900107988,0.16250478815571398,-1.3104406958068275,-1.1518065390716856,0.5600246386912178,1.1006454236092147,0.3981219146329443,1.908202285753408,-0.4566364715959975,-0.6431347859756527,-0.05456137707305258,-0.050740026844474956,-0.20315618317448914,-1.0271747003443248,-0.2516857989985926,-0.024584994585900386,-0.8590117134573179,1.0963707455523077,1.4877274235953677,-0.2937580831079529,0.6108178102085141,1.437465425659664,-0.2646134263467089,-0.11994373588470732,-0.4320212628053766,-0.016876138882853615,1.789041116633162,0.9308331992715133,0.04611234309252808,-0.19049576987444566,0.027349419925411754,-1.16679493201271,-0.8533771889061613,1.7453409440367462,-1.3912777711792605,0.7297504182172473,-0.315922562468926,-0.5471144740978027,0.7762028482142694,0.7288270091317006,-0.3960484895710503,-0.6158261774167795,-1.4108136314045083,-1.1772291703479247,-0.5944122653066315,-0.8778928370831811,0.09147692501392288,-0.6570623820805633,-0.9976543461079397,-0.8126524332489331,0.10343430950420372,0.9540127320905544,0.09616992670405392,-0.5148648210010329,-0.2197280600015444,-0.05202594466763065,-0.3153442234395299,1.0983554774670963,2.9972964418867463,-0.5321861370094731,-0.2147438487390329,0.323478440893692,0.1360693701096548,-0.0856939278170446,0.565049406302099,0.2812493535435807,-0.08372516455541786,0.6154129774482746,0.8706331609802855,0.35585019092250014,-0.6426897895268229,0.23393420605496898,-0.45070098552159354,0.1806553186796218,2.493433588441654,0.3516882823411126,-1.3205846134401793,-1.1856415336654327,-0.5748664464474189,-0.7292514672415007,-1.3294537571741443,-1.0650564622731986,-1.0024283925558413,-1.288878562399561,-0.9525175161396577,0.779181870001075,-1.0121306569277586,0.570227652971242,-1.028801582423701,1.601874963133673,0.5675016759049988,-0.4267981896189488,-0.04804591847104942,-0.8272706985462999,-0.6128484934830474,-1.0731586807407567,0.3062659581664823,0.3369018043313211,-0.4841766690777155,-0.418247714057954,0.23112029502333378,-0.4071581572426772,0.09964272394440499,0.8756059325883732,-1.504210025780758,1.819894250412648,0.5237101136958857,0.3754618735494591,-0.8936641853998034,0.378243130767417,-0.39096903965549124,0.05692936492241946,-0.8217324009669997,1.0399984947955212,-0.6122631293692464,-1.9586442019195691,-1.0733479053191446,-0.21895552001751442,0.34942533987183216,-1.7566047720410483,-0.7227205820848306,0.38092022926815466,-0.5061308628379462,0.5915332525360628,-0.6957537467286967,1.0560117333802985,0.41007213600318904,0.6814432083979224,-0.14610520155397153,0.8433960569778165,0.2447899829954253,0.22554836716270574,-0.5137488072833347,0.44999330503875073,-0.22188802402938002,0.9648026021272128,-0.4068798561254517,1.978388360603856,0.3493387614014617,0.5081962800345222,0.9243597160664183,-0.22668775361129379,2.027714948938642,0.6033351481476578,0.29663201979056364,-0.05397682046374745,-0.24047079367430124,-1.0309645480936744,0.8905688672253385,0.2665392291856759,0.5697738516360519,-0.3063153391680432,1.6186572288417986,1.7363708873089023,-0.7536621415961886,0.682280615617322,-0.36603501357530516,-0.00426864613019827,-0.048098663614214256,0.04684211259371138,-0.009631970978720067,-0.019107250396126048,-1.3182818405556094,3.021554906703995,-0.9666226423556482,-1.0612571389948557,0.29680235058884497,1.432893836568756,0.36337401248669393,-0.6201705200510333,0.850238274619713,1.8714945172254502,-0.34593591952253244,0.6251506747544513,-0.6307702221266465,0.1974043996866643,-0.8369032508737195,-1.6666109419907795,1.197358485347549,1.1110591973469608,-0.4050982071671465,-0.3440443520984349,-0.26721237544760534,-0.30069247930036885,-1.2188920721646348,-1.5462277205041928,0.0368049681127282,1.7148766327589056,1.1476081877523159,-0.5112235041149655,-0.7002538305548298,0.19714673548932715,1.9807695073137497,2.2815365073451406,-0.1861775476005133,-0.14084394252586818,2.3441738986993976,-0.7386828431681944,0.7599318218976471,-0.21897659584403417,1.386312772163665,-0.8849201563453469,-0.14993865445661597,-0.349712427423018,-0.595652939414386,-0.5387245825308459,0.733260579866216,-1.0403832585391084,2.026090216207353,0.9982407947819223,-0.34799221295281463,0.44778154769873546,0.6272540360746058,0.056348896193120016,-1.1432948688986908,0.8061367601026787,-0.2952398208711282,-1.0909083833467532,-0.9016144610025719,-0.3784309908383724,0.1521154531982268,0.32525168688127726,-0.06887252892121598,-0.13524286192184204,1.1425870258015118,0.16456317325551179,-0.6255017529445985,-0.4668235020391825,-0.42628300885823756,0.17172382846384882,1.3718888616281255,0.923653310094631,-0.9595502596358212,0.8106379284078257,0.24546568885621758,2.5806635986341355,1.4387273883851828,-0.5413419005588023,-0.0856028530826209,-0.4459986103840292,0.2799364315219588,0.20086688065706854,0.38151593529086025,0.5794420228713042,-0.44175893175865744,-0.08240555629030805,-0.2451140183678696,0.09740033485522975,0.2455984305869532,-0.44062894874768255,-0.6521673104178192,-0.9898285684781837,-0.6994485029088087,-1.0069984994664363,0.406221324273627,0.890951353922077,0.6790720757029378,-0.16547298962690943,-0.028359298936995733,-0.32438811607374096,1.6667472320300112,0.8481315847153248,0.08621945015128332,0.08199469504189971,0.5527267403505625,1.2545589396662544,0.4563429417538626,-0.810385072368338,0.12052996400865465,0.5991809485367025,-0.30325400369869715,0.04494252548017551,0.31437784353808695,0.6833054968756103,-0.2615263232448182,-0.4184609186078486,0.34500412773048594,-0.9797727268333689,-0.6660680348732186,-0.5311372215231394,-0.7408607870803952,1.0130204653190678,-0.019554946838716454,0.2308481391604633,1.0554705009579273,0.6794336721521022,-0.671285255821841,-0.046704007157020846,-0.7507744498144733,1.5291745330218662,-0.9367135489780908,1.0455471748838472,-0.21592804884191613,0.45692514740992496,-1.2954017810357188,-0.9497133881161655,-0.22803526449439834,-0.4223349645161198,-0.9630233336147194,-0.5151635405321372,-1.0997420023984579,-0.22786912442281923,-0.3379138116224162,1.1446203775653214,-1.318699097448206,0.12089150584897501,-0.45398119086617517,-0.6503707369306986,0.00818300032055988,-0.031099464080619005,-0.5207827753306453,-0.9293990644642336,-0.7280269553356725,-0.6704887691530488,0.07449508682891513,-0.04819326327627149,-0.6003286010186555,2.0667739069601447,0.31406098066033267,-0.8182783746414892,0.3540358939310422,0.6395438169244807,1.471568643612025,-0.6470678329375222,0.4923776304935358,-0.869706999935608,-0.44517332054805825,1.0601434177446374,1.1605521448774372,-1.3628339662449822,-0.57617161105883,0.3061710094590959,-0.09683240259210103,-0.5557795687554826,0.7610327077061202,0.6986252241625961,0.4188054076089063,1.1545261477928606,-0.25294357988877936,-0.3563766180166681,0.3013155074310561,0.5206815657292356,-0.13311170152000437,-0.4247686081037213,0.4573806413503676,-0.4074017768659075,0.05057419138206831,0.028859999814551146,-0.911147583182462,-1.0312771594712,-1.1782745913973864,-0.6662038290395051,-1.0390648220317833,0.40986570207876105,0.17876144406891226,-0.4186119409647501,1.6875609715158708,-0.9659658620508123,0.7402363287475886,-0.7254494363855721,0.8324739348046569,-0.21748454292051578,-0.12780542506213635,-0.8974744094620073,0.003686826789097951,0.535273821127697,0.15223227059134134,-0.8881681045911299,0.42847938104848804,-0.48151166984138327,-0.4537055902132304,0.1794379639525492,0.3530008559241528,-0.006549471046453335,1.0331094586818137,1.3690089155996523,0.9047548773885018,-0.44528141342556005,-0.5783846014914767,0.43520949434007383,-0.9303841979190063,-0.07465026496689503,-0.7960710194176127,-0.04726543038416919,-0.0442985831027523,-1.5869229645522325,-0.18826990284993306,-0.2195843873372328,0.3116502002967706,-0.5144378634130878,0.1361852968096564,0.46433874801708563,-0.005620197067937996,-0.5096902797287686,0.18028051511234913,-0.2360131178680363,-0.7616799692943097,-0.042336155178316945,0.32142542081127623,0.6138188129907135,0.4620388825890195,-1.0028856617432287,-0.6825391950122324,-0.9466588571774647,-0.28325416001888626,0.3518833278111342,-0.3106227910571607,-0.5126992865623672,-0.3791378325298388,-0.9466291524877241,0.4202957057354399,-0.6370750256231065,-1.511616519222963,0.6612491013942214,0.987451215910436,0.07999788135857111,0.15253189586970226,0.14900553630978397,0.6808195043800149,0.4470897353862705,-0.15263262717665874,1.0854806085908026,-0.7092429399568183,-1.0874478792266895,2.068794961100828,1.1225754203003988,-1.2086326085187222,0.5687208504838354,-0.009123049788144788,-0.12335879822303124,0.3197721670268318,-0.5781367098414718,0.34066847250749627,0.9151825052651658,-0.7426726767583537,-0.7128205015031991,1.019034696104253,0.45937302682669845,-0.8330820306330449,0.10208526849254113,-0.6585583389013896,0.1571061164436302,0.3906310020808182,-0.7735501648539025,-0.6632207625155775,-0.8860361142519254,0.7079900351836399,-0.366159090854834,-0.2600498487309241,0.050545092164641536,1.4061418436933202,0.5178192522587679,0.4152858570480525,1.3355953671393699,-0.2680482534728502,-0.977583970269045,-1.057111037215543,0.9618486511820546,-0.11616362541990745,-0.3828705299922075,0.9521111988157672,1.7342681760435585,-0.7548419732379921,-0.3498241995717577,-0.14307023416307696,-0.32383903727568875,-0.7457570764374037,0.3134407646629248,-1.0012612320676677,-0.8713311291103166,0.8344530793594708,-0.19625706735138593,-0.8490004456383013,1.6861021856214573,-0.958022270974195,2.3759031351948523,0.027323100639520273,-0.07759516790783336,-0.5043157466708215,-1.2162320523545327,2.645352963224812,1.154941262985818,1.2016375194238353,-0.585195553422333,-0.3640784901347498,-0.09647563293206042,-0.7253807873415232,-0.7806611271013724,-0.024009812173138155,0.453916979961949,-0.8248205004510774,-0.3341747141806772,0.481128864367875,0.29660068915598126,0.09134250110731945,-0.34917830926625215,-0.0263011525109558,-0.030487958725944182,-0.7085399967328111,0.3045390048518702,-0.010941923129775682,0.3749079336181329,-1.4632701925722464,-1.3580933101554657,-0.536773940676486,-0.4980585820596144,-0.2688724851511248,-0.9033132881800758,-0.6286766155101461,-0.47679916908808706,0.44970799684504964,-0.7888250181646967,-0.19194279121473184,-0.35177985977025694,-0.7672942944949424,0.13520090196526294,0.9913175636766061,2.095156109899163,1.8864835113480072,0.7439859253593397,0.6832234373229549,1.4824790151041871,2.276063551902702,-1.0527789865986494,-1.0648505455578947,-0.6306946330464733,-0.5074244139842395,1.3214552534845256,1.4628886058901727,0.43434227435021766,0.8280835481022129,-0.5244153132707097,2.215100878015188,-0.34028051021044764,1.621786044089099,-0.056436604457555224,-0.07816391491825248,-0.07835946456139285,-0.34525329374517544,-0.7401334168922002,-1.0128346161647916,-0.48065821868129766,0.8797521339128958,-0.681711069637736,0.3785627241090278,-0.261881734371391,0.5640807742403796,-0.9217481793787509,0.18760744203393684,0.609055616052516,0.45051100797234434,0.19793040451831623,-0.356304637088221,0.2979630983875457,-0.28574084273881484,-0.14735138386096966,0.13730532929562783,0.2256879897602695,1.163839351022255,0.2538996336577456,-0.26308723500856357,2.236637354688537,-1.0710184136415277,-0.947374545361672,-0.17698470522040283,-0.66182914465197,-0.35449998480115474,-1.8234555613646797,0.3415722282857202,1.7192412904063095,-0.15323230209415015,-0.3190077653163791,-1.059908391793419,-0.060632303498513174,0.258317349032012,1.6308881158919744,0.5143156099647959,0.4367436687741583,2.4341622302838366,-1.1048069967325793,-0.32272426019506417,1.1692945869437767,-0.4099750367082076,0.96287992818572,-0.6105884164035273,0.2217434369077012,-1.1537698526560842,0.7239200680539181,0.03440462555365925,1.3215268298333955,-0.06504707379382375,1.3357252537079196,0.24109502044268338,0.0038060653585651333,-0.676949317803321,-0.6258117241665218,-0.5514213531537664,-0.021083757681763494,-0.9464846911818728,0.42513715658939955,-1.343747675981639,-0.08293906175263333,-0.2188987598866222,0.7388890082220098,-0.7256801970040376,-0.03641629454929602,3.4295324059788763,0.18211845235297736,0.13210119352330163,0.2212677103992153,-1.729164344434106,-0.3480199127436012,-0.6872033037064669,1.798746833188639,0.7160764865495649,-0.48261786634751525,-0.6097937916814908,1.9897432392030518,-1.1375815903953717,-1.1942503781310627,-0.6184581448396462,0.9976790990034133,0.14817260519873474,-0.5095545329295257,-0.7590707319509936,-1.04774807574639,-0.22969453030836182,-0.5448032008825767,-0.31124823127575707,1.9777764974828471,0.014057908659485847,0.276186688263215,-0.0542034322722843,1.0986186921007408,0.3673879602958906,0.09507442782740622,-1.1159323402543178,0.981140725792053,-1.0000947033148462,-0.3300284245057536,-0.8307432996270004,-0.6072851603157251,-0.33353712797361185,1.4083442290232115,-0.2559993184505806,0.5249305632527094,-1.1792075061651293,-1.0754607240184186,1.0630657242135055,-0.6601134248609593,0.16775672568197186,2.1429021783179527,1.3755835695514875,-0.41391776109556033,-0.1209493213661191,0.4971630523816034,0.6370104197595481,0.6257477548205757,0.029031620089795374,-0.11204990819326471,0.11029143154456225,2.2802148963634314,0.011035277752663702,-0.8930847935794258,-0.14063668231104554,0.007176013123402852,-0.3040550273372577,-0.8016680636753211,0.35443319635960735,-1.1423311523495026,0.7670196486226941,-0.8212058176481245,-0.766341656846556,0.8784972030349447,-1.650827845896703,0.5835289474603266,2.636788470215903,-0.6745056813755249,0.31040691158071815,-0.383404753931085,-0.8851660163559568,-0.4439760908075886,0.005405588603005718,-0.34407788643361475,0.11472468022622546,-0.5673224949293485,0.2335520427322743,0.2118863091569267,0.8436977100825711,0.04659901084746209,-0.17544894451781906,0.44503125933152315,0.11617299437160458,0.7477629423886701,0.8166645144856908,-0.61399014761549,0.40064473341081547,0.06986744195036577,-1.3686759773406858,0.24116717216437,0.11783169296881077,-0.9086917256845237,-1.213840599475704,-0.6255874114449307,-0.09432458037487287,0.049928140941580636,1.5661120778812552,0.3179508017513321,1.3167551993264093,1.697625739187114,-0.018840053873036434,-0.24253796274042289,0.03069685083038952,0.5254802587885403,-1.6660289019690047,-0.4530001377421761,-0.7750417386512825,0.2852174436939996,-0.43568321650253006,0.19568412692825074,0.3061144232783856,0.6310532382603433,-0.5618214076441683,-0.6473227497185241,2.6325540986234883,-0.07273766675244378,1.8082392999018628,-0.31562363360437495,-0.07975896744064737,-0.0217210469041935,-0.42413903977268974,0.20746448003864268,-0.35628767981372256,0.28824115348530155,-0.3363991737689217,-0.8826773819788705,0.8187335840414238,-1.0886229825736722,-0.31637943395522594,0.5547347901488258,-0.3090737381018266,-1.2072270501128353,-0.5849453591418396,-1.2408125980354845,0.04401812994930729,-1.0223194764018175,-0.40837863839954514,0.6391538426042037,-0.26405478615002886,0.3690209702135377,0.30055843226621126,0.03979445399629834,-0.49686643964923083,-0.8021740034532742,-0.49134687217298983,0.23590932754659022,-1.0050195825635975,0.31615601567802637,0.844885997170703,-0.00495503281029544,-0.6044908954757745,0.3378159433768461,0.38104433147699646,-0.636335679153504,-1.114489065176481,-0.23926206306840836,-0.5241534191337844,0.7080176959722191,-0.5296689353534283,-0.1476229415534623,-0.07800064526221005,-0.044469619087528396,-0.292585482407659,-0.48665660674009786,-0.40098367500121007,0.7972161855648605,-0.9185116335079075,-0.7215104341971609,1.3653966824925543,0.12588317062027882,0.9199432774332561,-1.2562969235017651,-0.004455044651872089,0.28368812195611404,0.7330881188472826,-1.3346058302145782,0.8075060624106802,-0.42827292332378597,-1.1255292520668014,-0.9962671805072846,0.18590355656703006,0.14624517584891794,1.703491855821086,0.23125482441963746,-0.8322742469644876,1.095872585146528,-0.7304123614625844,-0.17034864522995635,0.45052098311363026,-0.796845558048501,-0.05646570971961165,-0.1259102258321805,-0.6398427543820554,-0.7176787381038989,-1.3402979480000776,0.21288795820371792,-0.6676558448832648,-0.2154033096790756,0.12571435493174093,1.479409180082353,-0.18078035230268938,-1.0041336629116293,1.113770209214461,-0.038846026239357574,-1.3577648577206396,0.1776542140413013,-0.8432436055276374,-0.09124178547999319,-0.9170313813979699,0.40157299788490186],\"xaxis\":\"x\",\"y\":[0.24084152676157106,-0.01584636712257216,-0.29782268168065373,0.4987262791189059,0.2106388440429955,0.12307795535838514,-0.3628243730883693,0.3620252497578679,-0.4102050177601122,0.2179028398818449,0.4623716285706667,-0.504622011212251,0.260298418134471,-0.1749916688325473,1.047268570449654,0.28984968645700476,-0.336160714090396,-0.38331193158395355,0.44602366124628334,-0.036635935090844785,-0.48350175249605176,-0.5127486739970657,0.6594225746888079,-0.14567897248365516,0.40191791892754836,-0.7400117421418865,-0.1688145088189437,-0.7512818807096343,-0.12042686476328444,0.11691384554633512,0.3590564447780448,-0.9145842371155438,-0.47287288270691175,-0.09744257109718057,-0.1589013693060435,-0.7603775906648753,-0.053044996998825304,-0.1841278383566528,0.1310203593450514,-0.22932289348737298,0.3047818779483345,0.07681218392560428,-0.3075647945834463,0.14130393770542116,-0.37104945174997783,0.006030453639622017,-0.48259513073882065,-0.011889438614316754,1.03703993716952,0.05938554955956607,1.0147860089069314,0.18937848652747963,0.06911547780370159,-0.18784965551904018,-0.5730741693369051,0.16010819948125815,0.6304886204466096,-0.45797826065101055,-0.017058079542053746,0.12597292414508485,-0.33872478455232724,0.19660754608960584,0.6215277785460807,-0.16918189395731498,-0.5145068057642077,-0.14413588487759948,0.8320540844941127,0.6093970836723757,-0.8236224359935916,0.4521897856912684,0.1284026033208105,-0.4468903140582738,0.6231891468200851,-0.9461608250466623,0.08917781471660714,0.5198559496847953,0.4739734800520687,-0.4501737813358419,-0.5815102530473508,0.19821471825046885,-0.23211522952141966,0.016692274630153422,-0.04138383957601341,0.024580106122415395,0.46677664587942946,-0.024880896363524384,0.4418543698844383,-0.3673057992019706,0.23709198496246336,-8.576782878695621e-05,0.18890229904274744,-0.1141571401154165,0.3939570074780374,-0.09766439411618119,-0.4488166080269141,0.13200159635188466,0.4555153943450272,0.45331854504781516,-0.3392818423506705,0.03145427011678079,-0.3626179935445973,-0.11210058989354954,-0.6529847941084324,0.14264301032679325,0.707009246052467,-0.7571211591267116,0.10926446179159907,0.4813660128692781,0.5328309636778045,-0.34986730865623705,-0.3646387616151689,0.16045807459413808,-0.12825279930808597,0.31667483207811464,-0.6579772802596004,0.6963073388875356,-0.2554716467710653,0.5347922586295931,0.22893519571119192,0.21416235243598952,0.31657702296652596,-0.23191488040791736,-0.024757700713081497,0.14441964835524382,-0.6053681130356638,1.154774702603143,-0.8500601759784162,-0.03457711956786501,-0.05205481903617566,-0.834439116643912,-0.0378713998446011,-0.5494728585968445,0.14179050295098772,0.3966417524377189,0.08798998517027132,-0.2613750337772804,-0.903644781041115,0.8709245673346488,-0.4367030009215842,0.27733635552877495,0.3068171208157873,0.22478155295923624,0.4285796100467244,-0.5181802636576581,-0.1381716634752992,-0.27867747541270094,0.6023179230841049,0.1305169029485157,-0.5454903764759966,-0.45850983903621656,0.20034029058381458,-0.425537686417514,0.0772123039329869,-0.1808711864965176,-0.25733321500992384,-0.3327708658093385,-0.2454596335771539,-0.11573625387991565,-0.10558349976908167,-0.005930379214880335,-0.9356582020727906,-0.0030703391934153793,0.5072080690389719,-0.5428660447215623,-0.54146057944995,-0.01716530171146928,0.22217632773967447,-0.6024639155413374,0.5928968884005102,0.026277835623714395,0.07486859584766363,0.026555865082906707,-0.4223981505238493,-0.048529543677977585,0.13179773250411048,-0.0633369310104685,-0.42417002371889473,-0.4810005198224493,-0.3176971514778274,-0.6181552419890767,0.6040864321560475,0.4743239383977064,0.09465017809611219,0.5963348578530826,-0.029582668805025553,0.03109264641038352,-0.04288940439239291,-0.1870204648849255,0.6404930325568388,0.16967364896812756,-0.19532956272785706,-0.4827344649091343,0.07413658775539876,0.48029987366933485,-0.036160798942223696,-0.040759133063480425,0.0059446531821284905,-0.02535675169877092,-0.04925110364152738,0.7591978076058009,-0.017244495314060804,0.46862557201666055,-0.030024524300519422,-0.3246385109207905,0.3550399849946259,0.7591769467580338,-0.7028519054447676,-0.6968659053397508,-0.4971226110691161,0.38087982408205756,-0.5589236040886,0.06992259912626783,0.00600768759835691,-0.1804764707110118,-0.5398793623121563,-0.3690366048279696,-0.07562748646464543,0.43966594141398924,-0.33853489883170174,1.1031577746176244,0.13815038278873226,-0.28745142330479034,0.6015129268478395,0.023600794180875767,-0.30500478779575546,0.10411407160611102,0.5207616180628315,0.26923661737638055,-0.14264185218326964,0.9923121946923249,0.7040331580981911,0.36588369626623857,1.16941712956925,-0.006331553251821692,0.06881811707868155,0.8992142949634555,0.023622389887410597,0.09156944944136709,-0.19414602820088078,-0.4679534751104036,0.23464152532908894,-0.5010434471721222,-0.49705460899995835,-0.2088291493611722,-0.00113906116693345,1.1515005268357181,0.5260721447769217,0.13309711964389753,0.12700137389345473,-0.05288444918794419,0.28303545777957645,0.13886681877493873,-0.30618654820089597,-0.30050375280122255,0.25655481272737296,-0.1636860583826817,0.46407122144866464,-0.08443168963034314,0.2985341798515107,0.5661752121276462,0.03402637907889804,0.325896782128981,-0.6460814423606082,-0.3937365622230723,0.16701193983087945,-0.000780273426629001,-0.2559483028935658,0.21044642426012902,-0.6408597398428854,-0.17208858345355577,0.6594590307247403,-0.09707164835300641,-0.8769458043657864,0.6950502891028794,-0.25408323034788893,-0.876034482314617,-0.2629429143255721,0.26105188135966306,-0.5869928341394577,0.41347078539924476,-0.7441769986725462,0.08630155799576913,-0.03644767363679947,0.38337289282613174,0.5015621470204895,-0.485055351034653,-0.4217207026887452,-0.2019466650127537,-0.4283424543692623,0.019744420094876494,-0.013405300711342775,0.22597518076003517,0.8334857131890687,0.027660829780739957,-0.9212753237240705,0.22745661647087248,-0.3469125467192386,-0.47885951135897264,-0.48330711158303163,0.10279813926588957,0.26893725976226546,0.7657209817109902,0.24041144877340534,0.123635726674039,0.22428808358624136,0.9496087900352745,-0.3051392075890333,-0.5391367258313242,0.35914855298338855,0.36503224589724526,-0.1538665317920937,-0.16150853247518293,0.7335263873157,-0.3895660937020192,0.9152676926568377,0.23480001455245167,-0.11757414408257666,1.124906025343098,-0.66681028425632,0.4796881005876429,-0.018658927582753893,-0.5879339750305745,0.0008545268717183446,-0.5738625263691939,-0.14348055035041252,1.0654179228069578,-0.06310700111503426,0.42089606915861283,-0.5658837586285452,-0.5173659420807888,-0.15332634925781413,-0.025676130203875276,0.5206456235048365,0.1916454000596352,0.11579827814595253,-0.4336685497013736,0.24503392951374858,0.29452913903825634,0.0016519431500755435,-0.8161518557996648,-0.38460788397458434,0.34867468242839716,0.5408329949707684,-0.10110920596072198,0.17365416398419498,0.015794238272306152,0.03228271997639533,0.2965355761637671,-0.04144593802587575,-0.09423813428871873,0.0019709914444227435,0.18707954726184006,1.2117807075895861,-0.787717593786732,1.162995886322308,0.02719021871495972,-0.0028613904299886715,-0.7241893496040164,-0.6619208224326695,0.05034203187749461,-0.6156066570180185,-0.5758427516570709,0.280049435696448,0.013706101823925142,0.3633681590739724,-0.18327629250244457,-0.06816816070044132,0.8573953506776903,-0.1414547752755471,-0.35957723660388824,-0.38044212911750813,0.08522720156250618,0.6506760021217505,0.2987365110955769,-0.7258391863786336,0.03213956686361665,-0.17443583975211716,0.41331308502752867,0.7801413396539509,0.10717771107986115,0.01249924784528527,0.5482963642165566,0.7199144338988342,-0.5275991930596593,0.6008976965035004,-0.1787773600825482,-0.32739573618397005,-0.05522750603733597,-0.5292710583843889,-0.0053680085138087235,0.13371537430313102,-0.5224083118845815,-0.18240325668729684,-0.5627540283971905,-0.016815450442392927,-0.06775648134892324,-0.5091363717283657,-0.14865911882781094,-0.051559172660303104,0.06599922698743155,-0.49192935657985487,-0.028496147601141192,0.7836855127643012,0.2949112587658077,-0.11972254161973644,-0.5827295330423218,-0.11290673058695197,-0.24413855264791956,0.04496452350614824,0.23094617131247103,-0.6862388622094449,0.44324094066197023,-0.26814361285376076,-0.6086228960827561,0.18177036179882755,-0.4727195672144331,-0.18331023614719172,0.10287503925741656,-0.7946028303839252,0.7676731884423703,0.08194527692295242,-0.6011967868591851,0.2582798116468356,-0.06838417231898497,-0.4455731051085231,-0.1715887455029374,0.4823902349580696,-0.6775359723879875,0.3493352994003087,0.14588223402387918,-0.6747768748906021,0.2942808975344427,0.917582375965144,0.1349367386653443,-0.3490807909340542,0.31916447088951033,-0.31390150366492336,0.2939027354012207,-1.0303166998702793,-0.831484202092881,0.6136896078611218,0.1305364939746472,0.10369123263250396,-0.24227603729989466,-0.12521474209880162,-0.3388240295165552,0.8647148131499824,0.0627699816381628,-0.058500144199759824,0.48262736130096673,0.18197316399394112,0.9957614211644875,-0.03403584635620447,0.5746742282681263,0.3969620585424158,0.16102860789733708,-0.6064505363696138,-0.04670661490369172,0.08594380486720153,-0.8238843882816346,-0.35775041153065074,-0.6505017644692143,0.09643043751360483,-0.786974562949982,-0.1062803452959453,-0.0383120099662878,0.3073699043818139,-0.1294509595975478,-0.6532722053511083,0.6449017376058301,0.27875819943805097,0.38052671903541435,0.374951127270563,0.6177840863922722,-0.1794580869511253,-0.20986415350805707,-0.32501896293763044,-0.06382765770508937,0.5906325804702325,-0.35569851857358536,0.7514358605743698,0.10463019151054873,0.2490856827396478,-0.6547439540831355,0.06340504617092325,-0.05938641554180632,-0.5851017621784268,0.7517644678885087,0.0589860809581914,0.3371278820867251,0.6803710957050585,0.5231608874445868,-1.0273922857332107,0.009836696241879269,-0.6259409494357796,-0.4696493773409981,0.3630887528924404,0.32595847410220496,-0.27815981862790873,0.39041268114882954,-0.29912741185106584,0.3368294509492096,0.7186095608750576,-0.26614662539891504,-0.22090115016170342,-0.3931007847307076,0.7367860789012418,0.7302195743653328,-0.5472666536236128,-0.16941377800975135,-0.47402757668774836,0.06430562733959405,-0.5347460335956344,0.5222280942657102,-0.1231136137695526,0.7128698393370331,0.000633119414409764,0.30478164760028825,0.7869527288949032,-0.24060939589595307,-0.10907524803849994,-0.25516583042629,-0.21681887183962087,0.6468618399235522,0.3140599799506538,-0.7834613047565322,0.4629562738208525,0.4320910400707437,-0.3793824264437542,0.27568357697925616,0.43326487273912384,-0.2401131320039116,0.5793901411682622,-0.2248966015754809,-0.5873048020771441,0.5194425904988016,0.22049242119353157,-0.28317006285115254,0.3275174154744195,-0.7169746261643735,-0.051074609526856087,-0.2916409471425786,0.21060379146936187,1.1796352427270533,-0.453203251867929,-0.16847294024929904,0.180860796368025,-0.6367132321184272,0.12764202835572228,-0.3031009316408688,0.2234025743899241,0.03220351040552481,0.013946274048542442,-0.5708111890427128,-0.26558751442048084,0.12615511706026136,0.5104661003720503,-0.20893714115336592,-0.19528165335763317,-0.6039199181286595,0.04792566398990769,-0.4653794469950582,-0.06539325798889326,-0.253422753073478,-0.630922305226142,-0.13280221827655114,-0.46514925608674457,0.21122056809448228,0.36609943489324726,0.17267726278512288,0.6196515473660634,0.8936341931781218,-0.08832559837896431,0.32200061527697366,-0.05053210215061417,0.09336065497607529,0.47986206946537036,-0.6421035233492772,0.7446339400733996,-0.47449792918317646,-0.5959050501369976,0.6791457095770508,0.09173430253007757,0.07458330955861874,0.5158199386122299,-0.2386389472040139,0.11236370106412935,0.08211910246005488,-0.6222455080954954,-0.8958147889076371,-0.05813562054958506,-0.511953662023102,-0.14289269942117702,0.07283045075108338,0.430084588353402,0.2078800789640449,-0.36612766978589395,0.21344771480630736,0.3040464909779216,0.21861902966719698,-0.9533971041472009,-0.1936913893942119,-0.3490455443653395,-0.8559457433420046,-0.1736109272650577,-0.14463598285415344,0.2090052023344881,-0.438901985124694,0.1358901192185068,-0.13633419835869398,-0.4485660368471922,-0.8342954842751292,-0.39021696490774527,0.327379502329728,0.62527764161241,-0.2951103814535274,0.20043434358346626,0.02705879393531821,0.0501176378906103,0.8427105097266877,-0.57823934461058,-0.05332853426110026,0.49335639132727394,-0.08475512029614776,-0.40524199048151277,-0.23584485215562143,0.01094671757870877,-0.2863508158286098,-0.2713752017194125,-0.4311613781157273,-0.6757879397917619,0.2688925187230381,-0.47364029227502136,-0.4194317647094341,-0.2129540771625952,-0.11240310329027609,0.3332635453268418,0.3298401538382887,0.599578505628663,-0.20850722476291628,-0.3812097057089283,0.36270395481925677,0.4020469582957102,-0.1756984436448238,0.20657300656075428,0.5082258236340212,0.23107498695326462,0.004738244922495971,-0.1762745889107478,-0.5024369455110558,0.2831108374111492,-0.11865330172190129,-0.27859108316736153,-1.2021477828076572,-0.22014626599440879,-0.6026656354880654,-0.14881997363962224,0.7639662006868102,-0.01524209021400021,-0.2891450507868021,0.6709808216000743,-0.6750472421735783,0.007420447362321808,0.2302904283376859,0.31893482738574785,-0.3505342289844948,0.5216110299487866,-0.04662149263783222,0.2569906454073582,-0.0299273333477575,0.3027503775108811,0.2278140270487639,-0.13644165887247475,-0.40060361487009455,0.18139544187648274,-0.19163597201822216,-0.42435916379338623,0.6200487184176021,-0.39173676175718175,0.04101716818560688,0.25761853694821213,-0.03254448638234145,0.2567034316049962,0.4526337175812923,-0.2569988284058632,-0.006628271095585545,1.3968338416271027,-0.646927574423759,-0.07692562376911118,-0.42525705220051657,0.40629479841819743,0.18496540331666517,-0.3029285524120229,0.2785461592007566,-0.06936227726594318,0.2871795421133986,-0.3137195209257641,0.5716564183076782,0.09912262330454913,0.06633713885670561,-0.10682874924221125,-0.23273147847196143,0.26683049699355316,-0.0399220371689106,0.45733079812004523,0.045658501747016564,-0.2841858124972041,0.29905522707728893,0.41257207539718155,0.6702575162123783,0.4690836890960375,-0.49040974830271733,-0.4044074904115154,0.2747743310713221,0.49875412449472006,0.6118829666214027,0.9642415103394826,0.8574037461328594,-0.6494519844136439,0.28006578915924807,0.46192810676251184,0.23487735907493376,-0.08943243857304164,0.8915439671532781,-0.824445962157692,0.021613556819973685,-0.3900640669297779,-0.6811520352979545,0.8627564120026592,0.4450397017460869,0.8774417950591118,-0.7249586444377709,-0.2561526055020715,0.5970677374856055,0.2460727802088114,-0.06295227132931563,0.014867318654524201,0.6914493652723669,-0.6316487111021787,-0.27009323502688837,-0.886779336459917,-0.5163035065847278,0.2172380924795171,-0.043450582305773804,-0.9153591317789025,0.6153066704881782,-0.017046404406248716,0.34089326110904233,-0.5180887641504963,0.48823431098016845,0.03767322813540291,-0.2000737123432516,-0.3544685475532481,0.6298834359955346,-0.40994134990417713,-0.11936031341996506,-0.001843034939937406,-0.117290056564062,-0.46175347980762316,0.36135069349211474,0.6042086092168126,0.008715252761334263,0.24708060486925157,-0.5404068342238267,-0.649697482865226,0.4470753534203754,0.36377981442880286,0.5716667714289149,0.04583175716502056,-0.5537560124897516,0.1293622071723532,0.07366257572573788,-0.13869932589942624,0.4512187278414744,-0.31848379473626337,0.11850115671391463,-0.5728118893805866,0.3400206537433267,-0.2684952827244701,0.4104960896017977,0.07829601497837005,-0.363555994065693,0.41823816318397855,-0.5152289757941836,-0.6251310252025575,-0.7532770419598869,-0.10031648097690316,-0.23138982989182066,0.18771963657831234,0.012049570339371589,-0.6561873896092729,-0.4834659967719531,0.4069612265609811,0.014817106285335502,-0.01304925641666315,1.0838242110923737,-0.0316275487316873,-0.3208212002829003,-0.056580879398057206,-0.16133792346239623,-0.37020628832279,0.6276692002586095,0.285908902044967,0.9214902954041944,0.29810915307855723,-0.10007478130226695,0.275319228865689,0.1457185568759016,-0.06868593712438163,-0.13574346600400206,-0.9283692749349708,0.36065468777169374,0.24854276208947718,-1.0913564153111475,0.44134878947203227,0.15867949136779438,0.7874527465622463,0.7029804064355021,1.1597327739987577,0.5245550850027484,-0.7717114628221764,0.6261446532917907,0.2690634616368735,-0.5324218556315851,-0.3212984741525359,0.07155965857421889,0.3588986198043585,-0.516615623695831,0.38997612516454827,-0.011943896704990242,0.6787208732652152,-0.07289968337970242,0.9063214493476706,0.14916419452175142,0.028943199858098706,-0.7440125382955896,-0.3563903432413448,-0.8013739491360914,-0.220589649938205,-0.584424523626396,-0.25977392530299986,-0.15125871746115627,-0.3337944300137374,-0.49917783349837497,-0.1348655921084692,0.14884759602733066,0.20099293554640324,-0.407855628946826,-0.5754317815486999,0.05024461532206552,-0.006724078472827992,0.023190462035871856,-0.16417938235758275,-0.12822346743755025,-0.23554585979925224,0.45834191772696053,-0.51453729643949,-0.5538393025053063,0.3419698214247585,0.13556627014125777,0.30127589256758075,0.0014373395630334074,-0.32598534416273084,-0.1126481451938605,-0.04608823462461818,0.5865363956330494,-0.32242433301572204,0.6114196722953349,-0.20514112168243398,-0.3785542409542114,-0.7585433066625435,-0.14390728539869876,-0.41785814006111127,0.04200814033145894,-0.13748174885061337,0.31261218065542484,-0.18260450287763544,-0.11549836311591216,0.24377507020597064,0.016928071469375652,-0.13349928593196075,-0.3085003369425637,-0.9460352259431584,0.8553133779524068,-0.2559060195551649,0.8812113348203391,0.282036860096751,0.2647827516910161,-0.032055596016396695,0.9213473710995442,0.3678087483915563,0.9836503230124594,-0.5158417884880077,-0.059808839983987144,0.44609380680738464,0.2675187920146915,0.020104906402632045,-0.05544216740666454,-0.1699208611197691,0.6051737989344907,0.6544809902724934,0.21820047898847805,0.5347232050453521,0.031976638310311487,0.4390049612130489,0.19177993224252537,-0.17632949313645252,0.009397250366890333,-0.2922600543703702,-0.41041030774371234,0.4615562328727416,0.7344424995406613,0.02593427714864735,0.10199983417014645,0.056608586951254924,-0.01682771405102286,-0.05440280793722639,0.47435974386096225,-0.29988624337488506,0.3173894509290982,-0.5302098315478065,-0.3285494145874399,0.5830079954091125,-0.17549851597285848,-0.7584693495378683,-0.15541186926404166,0.8687281368636202,0.4944809315083528,0.1456428872893572,-0.11090116545088778,0.12843275465307652,-0.6038156698655369,-0.04578631732699933,-0.4077852918967817,-0.043458986674425965,0.30358059228761,0.038663722592328524,0.3615846885649855,-0.29409021423447124,0.5006139608218849,0.09194248333990344,-0.0488704334499651,-0.27220021981229126,0.06296405083756264,0.35235693750419916,0.5809208805796026,0.06661709413069085,-0.31782932213725,0.34252879630972244,-0.6055719408822655,0.45779849781968923,0.25653537798683534,-0.2919966662026845,0.40240042757606115,-0.37867794569092095,-0.0302101344885541,-0.32701054633266385,0.1318415776591773,0.255829466584397,-0.30397037509499614,0.07706814661393765,-0.3853859467045705,0.5755678196288764,-0.13249066310222146,-0.22092373483771052,0.0022373611324520842,-0.28504717183353334,0.03209097631380336,-0.46071502332208747,-0.5588746450473152,0.41141155071831115,-0.0019560451286875814,0.5426958299124498,0.19904423996312778,-0.29152807334507463,-0.37674811111253576,-0.24179225054251013,0.3194150456616979,0.04876083633592209,0.0699537157749475,0.43848287281162046,-0.4266775610132735,0.5338603301716662,0.17011083518769815,0.3547243721249635,-0.39032537980244963,-1.1442415738548104,-0.1177801275631158,0.051905218916838976,-0.38669336147143574,0.27269603475431287,0.8229038186533391,0.421370021068019,0.41169307144996836,-0.07645925188842773,-0.07832853304569298,0.8987995081476803,0.19296250971303858,0.8488047470184397,0.19421748115582144,-0.6537862456949913,0.8422792842570476,0.4614917873676859,0.28093897183278815,0.5511924739879543,0.3823839989929765,-0.2818953692725463,0.2434827358639263,-0.030421520210181643,-0.3733980352726949,0.021055792773565916,0.5100225365661895,-0.0125845166086423,-0.12595343840225853,-0.32184326567927735,-0.8323041096986226,0.1000144373782269,0.7442515347990208,0.39190482138140775,-0.8543494126705529,0.11062513326840026,0.03913441733983608,-0.26913969811501626,-0.1405766088253453,-0.4147423837827903,0.6247371298032346,1.091705292536379,-0.28521301928323695,-0.12245880784279828,0.34458413089722506,-0.005839416968297324,-0.1717840385287305,0.23261003408137076,0.37440116544353363,-0.5650497292116523,0.4181083210710697,-0.03374564790507116,0.23793836304365243,0.59699114822304,2.692293539334663,0.0475223917986764,-0.3674889120732908,0.3878883449995607,0.652162523260041,0.18354287896012045,0.0036629678745837523,-0.9748882647543472,0.27403432357691215,-0.35104880125378707,-0.07842445302458013,0.15076170853940965,-0.257231435453463,-0.21849295113573855,-0.04981787001975595,0.2690548693369698,-0.5871849321037703,-0.6632018895774614,-0.276133189296888,-0.4027422441054929,1.1414029772283885,-0.23134033521107888,-0.24761445079797728,-0.052341120117135015,-1.1049450207232066,-0.26291626292471465,-0.09086868412080228,-0.5525912357543069,0.06985849051294836,-0.6529875405012191,0.21977854139430208,0.04888605061589562,0.3033982601433921,-0.7062614038772308,-0.8970598510836818,0.15332531863009916,0.8445036876008721,0.04633041347265561,-0.09390805816762339,0.07924384349787345,0.6239739540350686,-0.4287063580227254,-0.3319298621224479,0.9243722606333269,-0.7612837913939785,0.4572347208145188,0.15314289745814125,0.42389560800726356,0.311498195389359,-0.35416597858567805,0.24420150567099747,0.18305376131708678,-0.37870622065834453,-0.09398837322877614,0.32480861482951817,0.5888330164813631,0.18762383058203427,0.35449952885647273,0.503120099016586,-0.5898494635215058,-0.006178128463046523,-0.1370720503213509,0.012624205973770342,0.18665840356263985,0.21718333863333728,0.2926697786842216,0.2473808923510497,-0.2682092904244347,-0.23008186260316071,-0.2799965769487598,0.26274162909427234,-0.340259121033709,0.46220130457028596,0.2805688741773167,-0.19167687558389684,-0.8799051928652059,-0.22774432887591012,-0.22240165270085813,0.09788504421052663,0.36086038222751604,0.41201214631571337,-0.5514540884271896,0.8010439043113674,0.0919745204563714,-0.13981925952837912,-0.34593264954311986,0.23531694394497252,-0.4214742327266343,0.49799546954811147,-0.05484457227391755,-0.6010746428460373,-0.38545360636746984,-0.07452129965627603,0.7245187986607026,-0.368499185536531,-0.9984831800698671,-0.12314153684059242,0.41835693560720316,-1.1818139138030692,-0.033942255585114635,-0.2525495386844703,0.16055046932840622,-0.30766961816301613,-0.8897293528813298,0.5304760613509095,0.7028143203147903,-0.14768369030151982,0.2402414398928212,0.34757822434878327,0.3795994083108779,-0.47099472547114596,0.04465237864162589,0.05975849220281349,-0.12725064085364324,-0.05262187336072799,-0.5545385041102298,-0.38092486182446267,0.5218950986885593,1.422916530090062,-0.2354516143753388,0.33136726622491597,-0.47651025694718985,-0.37118549938226925,-0.3335868026454287,0.07312215576263083,-0.09618524475564144,0.7421375836456345,-0.10142031753659717,-0.3183393890508185,0.3529914455789625,0.5579298145348035,-0.42690624139481914,-0.30870528886568704,-0.07485653764077962,0.28981624252377863,-0.4876729566757533,-0.13464417412464863,0.14099221891107816,0.28613901525449237,-0.3547676728066269,0.26443453947412376,-0.22255323803707935,-0.1562110811064547,0.13506201009500393,0.30764220185871133,-0.30802647755960655,-0.2966222704671467,-0.566769857899158,0.6212268936397015,0.3345079124285899,0.25725805284138087,-0.05434031176268164,0.0022741591978029385,0.3009447393920931,0.8435963535260556,0.07589176814828157,0.5253363168330984,0.1726248424138947,-0.40163711905875366,-0.435656271809211,-0.17218915208584054,0.2955298064288304,0.2867531397687637,0.8450446976558139,-0.08659931393356694,0.3148598920656112,-0.14461214288849575,1.8625592068722985,-0.39189674229118776,-0.28736049838382244,-0.5159149211504002,-0.673722291015936,0.5795011576795802,-0.16695246849899212,0.2799021955427231,0.1682897513065117,0.4778659103541686,-0.273865802747579,-0.9392601346704939,0.16768257545532128,-0.09866377949053834,0.40115839551629684,-0.05908706308126012,-0.19446311180459225,0.48943353691474406,-0.14230978330828298,-0.11316859586676037,0.18632076899413613,-0.7526030717163699,0.22711329966581945,-0.3884611269873721,0.2103574671393667,1.5099965785192722,-0.4647129594590311,0.639173436251103,0.34435672643024895,-0.2597614876296068,0.4544066124730364,-0.6222672690334099,-0.816894366959635,-0.11347797424634644,-0.4149505438391498,-0.6283403006170674,0.37083298821421057,-0.6767266532066791,0.023306953684922416,0.17904591192824887,-0.9112539918341974,0.603372106340684,-0.12377247110677883,0.4865342158778271,0.003751757523568447,0.35927075034193345,-0.05749867897743988,-0.2982287863216397,-1.07805855780555,0.8403798839790425,-0.3725327123791604,0.21554065756561186,0.9131548345278682,0.20798184414972629,-0.9661294284956353,0.6028495310824895,-0.47847329188991394,0.6482898991527846,-0.09287630057040107,0.012832518250757749,-0.5795315391518198,-0.09907749410728699,0.020110980364278688,-0.06826300386997562,1.3015222189022617,0.41742857664384736,-0.9475060379526957,0.04594207886120423,-1.0068764477411185,0.19533180658236243,0.26087081085523567,0.9146923497125914,-0.8527605424669535,0.7132329044111556,-0.6520603569786967,-1.3262065098789049,-0.2602708247708455,0.022678715168020377,0.7228968922154606,-0.13422695545196267,-0.4110071018905698,-0.08604922318618982,0.7989555666878132,0.23379458256787392,-0.3186465181105009,0.022578065825768115,-0.3161468313720861,-0.819078020098966,0.9057380036825091,0.7053414555549815,-0.17056542392174734,1.3157033500510116,-0.21719638976597488,-0.029102018656953624,0.0456111121779412,-0.2798680654876024,0.06324130835642455,-0.1939663943057568,-0.5471971266297722,0.18519658130173144,0.9009954547803758,0.7232073242036567,0.00023259891547969258,-0.13291486106149208,0.41652926430208476,-0.4449173818102292,0.14717820321184782,-0.24855490722133827,0.1690169260153266,-0.3694130451984964,0.5233245166304299,-0.38107324634718054,0.9987497704781543,0.03460450987285587,0.24977302422356673,0.42586726243504147,-0.6659530491877115,-0.03491291563823221,-0.12074547886773496,-0.21927784050188837,0.7570297759687827,-0.3232880352721051,-0.42244290387984074,1.004799934808493,0.32648311476183717,0.2908490668843329,-0.14526214038841553,0.3948671159826165,-0.11698935188952791,-0.2217531789119343,-0.6879484694729199,0.8147800589343104,-0.8323916545157367,0.6039623933428235,-0.31260610237007036,-0.6224615301657971,0.07974422631235129,-0.37920816773413,-0.8714587724502074,-0.16988696888304233,-0.030612538084044193,0.4583769325272521,0.5139702052107111,-0.13998405759408122,0.735657336039908,-0.2415893112950931,0.7923936151066621,0.5146849015804336,0.5516094614547558,0.22465251135625375,0.2601038122167061,-0.4311769056936866,0.3642793506117107,-0.1915694213700741,-0.06810261181065844,-0.5620280697273967,0.1294078520096415,0.40127527113138917,-0.6835148408592181,0.061842150121571016,-0.14293403889204084,-0.2327353111931809,-0.3520662503581783,-0.7999314079076081,0.2062925344533726,0.3009984724289938,0.9945490164779804,0.8214678807577235,0.06849417630770659,0.017456329033065973,0.03827504017968995,0.4173316107996715,0.07441973794184889,0.5501533697612391,0.470855509823578,-0.2532110540343482,0.680212939663165,-0.13530864454016572,-0.42924593352856777,-0.26625228274035523,-0.3364922628145766,-0.14364029246199503,0.06265876685007953,0.29522841871650235,0.2487759926629813,0.36197579145756564,-0.20942274925230409,0.21415530836953198,0.39802538755343597,-0.06258411613254516,-0.2984515034648357,0.209407918725432,0.18667641815734198,0.39176831697598763,0.17823759904116498,0.3900620827573655,-0.0012667549163810285,0.34343963141169,-0.10368265534934001,-0.06136984702839624,-0.6072851783929525,-0.027351253528952013,0.5339460391153353,-1.0696560739130976,0.04550693295928439,0.13197506784715024,0.4104514833393951,-0.4641028237075157,0.4949675754697842,-0.34444275799286694,-0.28548593165602265,-0.7595415662973123,-0.03902184097837836,-0.24750029345014316,-0.08434154003452919,-0.08754794846716478,0.4767264615720491,-0.4810229275687379,-0.35113134635614923,-0.3062352506474509,-0.2610322872231977,-0.5791625394405351,-0.23069728531294537,0.2856280458971421,-0.9632833007023209,0.649009475701045,-0.10746918877158906,0.8528174712151363,0.026421643388699647,0.13975891983144337,-0.3509954361669284,-0.323433368699819,0.30410700180257094,-0.5987587355782155,0.7811660535474334,-0.1823278416760518,-0.23303033715200544,0.5385408695307747,-0.3880841177689085,-0.22856196136612847,0.14106232324076817,0.09588945576470509,-0.28593124600666775,-0.10027693878631098,-0.3496071472774862,-0.41582398543256943,-0.2229048826656863,-0.3483348430348279,-0.09343481160818565,0.16945033949450092,0.6389240723865505,-0.06918236685948391,0.9746889217767529,-0.17166176986173357,-0.658361206795871,0.26136830747875556,-0.6459670468500265,-0.25819154195875604,0.9463973741129292,-0.07803746098938394,-0.010323257617408772,0.0005923623254518867,-0.45619459177291377,0.47657663666512573,-0.5920826426591062,-0.4030596874399008,0.762542358180742,0.004808614394927226,0.2981300278884584,0.6856887721892072,0.459349286383838,0.24156127335918315,-0.6894724741373611,0.7167450560854866,-0.6581501875814947,-0.19983269914675544,-0.21205692741632737,0.07028852918994766,-0.3597325572604027,0.19872888532777871,0.02890434079071278,0.30690975830587663,0.2956991213951551,-0.6264216226129055,-0.3429908546886463,0.23158380154659078,-0.46535248271154744,0.5708771270242677,0.5764937835256999,0.25365668658811386,-0.7325846475898327,0.15403791260202204,-0.2736522840704273,0.5712071959948322,-0.3163275998069823,0.06576660057842779,0.4064296945399092,-0.08351491308798478,-0.2971920562120273,0.11233411317141243,0.07064804992653814,-0.30139259350878334,-0.3724951462384306,-0.40444275509351113,0.27777680854107917,0.37650900362071216,0.45684247707722847,-0.5755728663295256,-0.26781935223265174,-0.2478057995531034,0.633673865053501,-0.3509807927291194,-0.6459416216473362,-0.8584348575660414,-0.3014865801776699,0.057622735013752785,0.6957775733983719,-0.08955949159159192,-0.8227250022935642,0.15257200401086132,-0.620927125993787,-0.1602603462626653,0.49924674251653456,0.39276467907035995,0.5091018372923346,0.07523208604183879,0.02487841157890406,-0.3749758878412584,-0.29603782244776233,-0.013109990518871352,0.06509981625126623,0.26428611758886206,0.0014626227736530203,0.02719060470816952,0.08234510566173234,-0.2095127318636819,0.39312276854483763,-0.4457268384088063,-0.4451848832662185,0.17692286319149614,0.194556804069992,0.06646012296403836,-0.858654652534264,-0.15376530769353577,0.3859722438530552,0.8901535024658096,-0.41780447398967024,0.6913387765413542,-0.6567770328753675,0.16819945359020894,0.563743637848488,-0.2692765459723785,-0.8722792743365484,0.12766462978642962,-0.25695337108273314,0.36463112588797947,-0.399639294126795,-0.22860039268023732,-0.09102011932288237,-0.7408182060352207,0.3209201433509336,-0.475350985102607,-0.19658475475704712,1.380147332195354,-0.4409739736294001,0.4245539065044706,0.07663566850099349,0.3334124861549977,0.2991081027829086,0.11318666197420144,-0.2277596745355267,-0.05438078685576341,0.20500903380424254,0.02732142668324651,0.3226422686988179,-0.5113806842643627,-0.6832466183596151,-0.13552963288313583,0.137619978643514,-0.1611898178864355,-0.34842932600602383,-0.6687719214300645,0.4273941222129052,0.4673480951808331,0.18592041245804813,-0.3989197816541894,-0.050850859908774915,-0.04828155387348673,0.714489057059337,0.203799132457534,0.3440828891361853,0.3812850780238193,0.23724863955358597,0.6656597117719613,0.3976195949354832,0.5082798041733791,-0.6157288732615325,0.5590137709609727,0.029371450054612273,-0.2816824996337781,0.05375948721945359,-0.12047702938030001,0.21303669869336636,-0.14648439700123297,-0.25822528461284244,0.31007460851969704,-0.3578499562623127,-1.0395082489075773,-0.07004166632615844,0.95475865258442,0.2688654064984194,-0.2600516261315301,-0.18172134752744007,0.785417216730615,-0.3895126027108787,-0.7364802571441355,0.5347792091791352,0.2543753304891253,0.22482988762928852,-0.685547485496425,-0.06527497191144056,0.9261872045177634,0.2649530263472089,-0.3422564524225962,-0.15627477338149848,-0.3271410793362132,-0.03861679846347967,-0.26791080106383425,0.007541973029342484,-0.711618668445094,-0.19982620223485528,0.10557956870206096,0.09648747658605539,-0.3598899489704342,0.10017755345502569,-0.08809233678897366,0.3406565035143811,0.8086481274098204,0.004495030788202445,-0.4585012254136136,-0.2780784160523573,-0.3108173315724576,0.33451755979267717,-0.15022434297939452,-0.5621417411160432,-0.5253205415711244,-0.20352871814774834,-0.29006638989342615,-0.6086804697771553,-0.1614168786730686,0.2750057813284441,-0.10990951014813896,0.09532660711933481,-1.011804214569967,0.5873417353027144,-0.15325227332153912,-0.16790334792980846,-0.42155294384802455,0.329785308155889,-0.17191537538980228,-0.1116013097585481,0.4601713401413221,0.24298754617582038,-0.5343792198792898,-0.8513106994070847,0.618299255586014,-0.07410796936923011,-0.5108810838183414,-0.2274789514477126,-1.0092113770456432,-0.059371006838950226,0.38393100580231354,0.5975946753983913,-0.032822676380159774,-0.07240379288100032,0.15381683906266855,-0.14047127310715038,-0.348830604156571,0.2844542240542216,0.214353770860354,-0.200678242313319,-0.22256653642131552,0.10643328325368595,-0.34406473218211187,-0.3760148976296812,-0.024172696917618506,-0.10311212179543566,-0.6884449050766529,0.017905124267021583,0.13309421618492978,0.6413836720247903,0.06901910636631124,0.6134260673269587,-0.4057242975476373,-0.5007172020579499,-0.14775568331750102,0.1759505273211215,-0.06380174550596292,-0.41709841134257253,0.17458378212940873,0.8172092929644332,-0.06450754756871466,-0.10434342613038375,0.9158091161618199,-0.345327309998117,-0.013343770401287307,-0.035926755990987644,-0.39167489260075605,0.15155226203279087,-0.25229903577979323,-0.19286661703648852,-0.06223662023309422,-0.8831739174168216,-0.07730123864908024,-0.6599610415326286,-0.40534412439930384,0.03300535864107551,0.028590155070577737,-0.5870862456467087,-0.6651356418696492,0.2555968029361841,-0.747582386696098,-0.48144797004082196,-0.18077675530344467,0.03454466366962859,0.4747421025315194,0.18645690148889388,0.10132882938932009,0.4310546784058098,0.04174360594758035,-0.2298579992357364,0.19534057634973248,0.7135751902343266,-0.12250798906191708,0.14762163917089288,0.5028692259087668,-0.17183319121061275,0.5634401945711953,0.54137755108954,-0.7073464281999842,0.12954014099103012,-0.5045602992897074,-0.30371162225611625,-0.518653301553066,0.4946762298854953,-0.22646231635484548,0.5053078403588123,0.021896456911319022,0.4163810640840861,-0.12095885404855201,0.6220445492338476,-0.4612587174556547,-0.46612796032709214,-0.536730901904301,-0.3230273542220071,-0.23867130876591586,0.1525972082704057,-0.1345089097203887,1.0790228732688791,0.3081331223431649,1.0875752518173198,-0.14635693634702499,-0.4104925103835364,-0.20649844800060566,-0.3284925908488689,0.6994008050762894,0.14718789428346585,-0.2625363478393091,-0.4448115951672591,0.003959449538588712,0.33186183601409186,-0.1880597728334713,-0.022019865255719355,0.7269887481384135,-0.30156548601346367,-0.20497793970437184,-0.8899574633688401,-0.05219297730195541,0.18305179398064317,-0.08966471518671618,-0.16601221982496642,-0.06019088351991457,0.5359300235318731,-0.4423382123412941,0.14998682320524637,-0.6769757122331521,0.33889246056824707,0.555613213335298,0.6892994408777839,-0.30991990181548246,-0.015149429554437568,-0.5227720737363889,-0.1579857374558197,-0.379919392891104,0.4207756261753829,0.22609945160719663,0.39209431550060797,0.19988735587135006,-0.1625407535397246,0.2681244906977266,-0.061037574189180537,-0.11099594901369779,0.2057296403983346,0.10983911719811795,0.865291671488594,-0.10333915010108463,-0.2345030088089161,-1.2974882220783779,0.2708916847113449,0.6038877141213729,-0.0761670035409927,0.087774677335258,0.8038314487064491,-0.3907746002868055,-0.5072225032377021,-0.21714621122891,0.42182215326359174,-0.15000087807565116,0.08036776422388346,-1.143377790853999,-1.0709933172255042,-0.11098551896372646,-0.5624488196288128,1.0453467672505639,-0.2744178869073023,-0.8671439511328309,-0.33404114604224927,0.31623576301160694,-0.043760960448616534,0.259229529433548,-0.11303396314490691,-0.5888730278120359,0.3743821639373086,-0.5435229311801855,-0.2566950844148687,0.09522776344752504,-0.21683119234894935,-0.10620107235624472,-0.1508322782815867,-0.2544880689481917,-0.5850159812411395,0.6042747806935598,0.5399621190001891,0.5570577242814134,0.8634110012996444,-0.15228184307276388,-0.5737847393053799,-0.09604486599150991,-0.6310905357627494,-0.7743172966293489,0.26191769723363884,0.2682533676190445,-0.09265645996885152,0.0717960726112588,0.022776730101015902,-0.4090090061969942,0.2855534930521173,0.08741551138843609,-0.4277359473078497,-0.142668276769195,0.2721367884300337,0.7679157919672471,-0.21788781505246507,0.5620392115534807,0.014791965585689893,-0.5514165160913073,0.3300856401163548,-0.2590338406728087,0.5186343157193527,0.46766197759670236,-0.14692785328700236,-0.24920382629762702,-0.4596833918848115,-0.7422422665681858,-0.18117987186004045,0.13468234583166253,-0.4398323756346002,-0.19819412600607553,0.32315495589583937,-0.0007470907150274389,-0.30229836584282843,0.2955781753522689,0.5101987718067064,-0.37363208622890315,-0.014195751231936421,0.009379170207320788,-0.43872888316367287,-0.3481189574414474,-0.23850213855918737,0.16395227988247923,0.09447239520580275,-0.6105169373220909,-0.22743993385952727,0.9434670206454236,0.6909385601633278,-0.3143366167136519,-0.21039377493263672,0.4519310865558997,-0.7904887253445902,-0.058599216616979935,0.31145219716229083,0.17644947279464307,0.5626889627916785,0.020742991171576332,-0.027803844406034117,0.11464293149860579,0.8545770971246447,0.3908848861569607,0.07154711601229834,-0.2081977333836968,-0.21115708016559304,-0.3990984968408696,0.13954710593196348,0.08776759013270417,0.2705724820030331,-0.1262724211612712,0.2465723147435,-0.2267024981841657,0.5885024429147443,-0.07190007031677671,-0.6556410801509591,-0.06413759391513679,0.09654151618981796,-0.011740901100676326,0.2600725469246071,0.16858867037144973,-0.492609100684782,-0.18582107333208153,0.31475837716241917,0.16032525342618795,-0.8664240015246698,-0.25099505443838527,-0.8942623103205124,-0.12645115137128504,0.468916762246703,0.025420207488310524,-0.30273382760647694,0.5611590444576462,-0.04667336699478866,-0.7795475610030244,-0.14491155457426433,0.09734535293068759,-0.054942884036867215,0.13748728091378704,-0.591057192663828,0.7263054541451484,-0.06005310043972145,0.27061338214669006,-0.01311977314323927,-0.2376303153448525,-0.15204999617464365,0.3127602468669639,-0.6535039855542022,0.58859634874305,-0.2885067656287365,-0.8007617785320953,0.16994954434476034,-0.14945883761302783,-0.5007400047090214,-0.14269282627776164,0.3544589755471461,0.4680696688430873,0.4347641949016645,-0.6178958226985803,0.35556943821929304,-0.049414427418604016,0.15171099346033884,-0.06159940992265184,-0.04099180901544587,0.23620363358568505,0.11468972843514082,-1.273363316355149,-0.616038349606169,-0.22136943705636067,0.6385521751824056,-0.11774013294777552,-0.48550911741468356,0.5555431096912176,-0.5360225846610764,-0.8509242344440027,0.04727032580616487,-0.3863789876795027,-0.30620000192583124,-0.8312494342067476,0.31706617646692636,-0.1898037599064985,0.30746503772305833,0.5235397205967689,-1.012276541999821,0.45855648984523967,0.1826802025382232,0.6941456719416998,0.09176671772215739,-0.8888135119629799,-0.46185909992227736,-0.6773276826749645,-0.021910328056183617,0.20568702558297755,-0.40580333473263663,-0.04772417236338998,-0.15823007074797685,1.0466752606092349,-0.19945196884588995,-0.3889472439702091,-0.31075697225717547,0.8395262298650279,-0.30757248932219233,0.34477931925591887,-0.06429701009642685,-0.4776214721026624,-0.3400642541956461,0.0874164923950813,0.4038870810588271,0.4777414102955887,0.7770580478980047,-0.005518172074481603,-0.4497688719509987,0.01776591540997497,-0.42779374468361797,1.0596227572622456,0.019052678570218626,-0.3977990412286434,0.3224771291696382,-0.16353350219055618,-0.41642323121860375,-0.8891512608201473,-0.7332796151000798,0.989451171971556,-0.37043246565175814,-0.010544426452529357,0.5939175620442398,0.1272612206742967,-0.18803581722205512,0.34920642692051607,0.019478218639739746,0.6971569473022444,0.48718948646618343,1.1094519860048104,-0.017705973361107727,-0.40776277277604744,-0.022872844544306797,0.19061347763929093,-0.6590058641317408,-0.4611579459237606,-0.30280139744420775,0.9570942476636318,-0.21858236380192914,-0.6660297999116724,0.4322515315318187,0.4335269952947721,-0.10821540110826444,-0.1450650137685071,0.2421223932320963,-0.29437260529529086,-0.1620167607468983,0.4572329288818453,-0.2220592768442166,-0.4226413188034088,-0.2391754284982996,-0.5971512893134643,-0.09959250006699323,0.47011219772620283,-0.8116393092105223,-0.2932691270184123,0.41635103494524883,-0.07496770377823879,-0.255014361193606,-0.18540280731712547,-0.05986299174736992,-0.528844695954138,0.15710325007959688,-0.22843659193303678,0.2489647139791646,0.18515949208491672,-0.23913258043418625,0.09179305703650453,-0.026270768347895965,0.3623356000564868,-0.5458067602277167,-0.24392934781095046,0.2803533601103325,0.01600423124056008,0.15966689790224858,-0.08633150091268782,0.6850844512223336,-0.04337861423945406,-0.6432418344508337,-0.4190228630763165,-0.4139290921282938,-1.1496854005361952,-0.8956650477504786,-0.14250156809139686,-0.1894990052540314,0.2981328161312846,-0.2965149948980413,0.393524037524823,0.1762177822113388,-0.5505833912682673,-0.2610188012354497,-0.31159477603262836,0.3703781858308326,0.16524054292798665,0.5653540242700608,-0.2751955236737409,0.36192062053611795,0.38063844756933224,0.0087338046093207,-0.2932851701358448,0.052797541140679624,0.08214330812413298,0.1206449397469459,-0.2886916740614456,-0.9751823774091848,-0.073844057632151,-0.348930093668152,0.25315989432931424,-0.4507497950873832,0.5122948484947462,-1.6493050439334664,0.17802526600566698,0.7277214211697157,-0.2871804594571453,0.1572465989960345,-0.37670522177968485,-0.01124684487310219,-0.19531285453851158,0.1753003970634778,-0.10688295882765622,-0.07789010567853295,0.6741943496560342,0.032395339544596044,-0.3623719067503681,0.4266477502059956,0.25782300117647805,-0.023599745247152866,0.20111892364704198,0.011939007789287803,-0.3746644930535276,0.8739629798871933,0.0948913120568329,0.3362351472052534,1.2652022580268092,-0.20849019886471584,1.8816725089367545,-0.5637662774722914,0.07622491513228874,0.41766978169817726,-0.23070444451370542,0.5071157896696885,0.33076409284447583,0.0811243431674117,0.09475037561336994,-0.9621679678832852,-0.2153877559922192,-0.21006524131715648,-0.12892212338312914,0.2117430436418764,0.45232973485906736,-0.5846008156092796,0.07085233438756591,-0.33534252207322357,-0.49481874710878226,-0.2973655721914059,-0.2526984288804884,0.1375544233659111,-0.43996786737729954,0.12896764162885996,-0.4396946743348944,-0.40750860882295314,-0.4049207357500756,0.6056983536121836,0.3597529977571891,1.886756258791588,0.19506833701799892,-0.23482500840437814,-0.36440660324346696,0.31197823215138437,-0.3896742815855108,-0.8442947223811132,0.5690441817782194,1.0111389136390323,-0.8025841465711935,0.059620115605215615,-0.04238432096370856,0.42294345368398706,0.4315302786751761,0.7908950918191839,0.5355419404878785,1.2602338426355675,-0.5955211034079436,0.5569303349797865,0.69316794219848,-0.38776544807897684,-0.8177644569262965,0.09915238031766714,-0.2982495685855228,0.13491903807669428,0.11608648518120657,0.10827836437375343,0.3291848998051128,0.20221863737115775,-0.11141030381312805,0.006891991986127277,-0.140346809547996,-0.32141002342044517,-0.6617355288190871,-0.133327210500149,-0.4628501897762555,-0.11078923406865797,-0.24308645211470242,0.24739684401365492,-0.37343033777346973,0.05551847694910513,0.3260288089108618,-0.1321972777912644,-0.17408170254130237,-0.41801923494383597,0.07503500572635671,0.29663155128534413,-0.4602210217285001,-0.4128975427427442,-0.4938301944885944,0.020347874366686156,-0.029395847182012914,0.08297402999485723,-0.20767410287291516,0.0767568031221274,-0.3003419964286628,0.8864304401331642,-0.39291947924199266,0.1765537878215409,1.7065076890089999,-0.23511596315475103,0.8735848577253895,-0.4179752436648821,-0.049671006898049416,0.6802131012274126,0.3215385910576049,0.45930242734432314,-0.5760587918607247,0.02951463423335241,0.31339645306847846,-0.3740832618198866,-0.10827953694126423],\"yaxis\":\"y\",\"type\":\"scattergl\"}],                        {\"template\":{\"data\":{\"bar\":[{\"error_x\":{\"color\":\"#2a3f5f\"},\"error_y\":{\"color\":\"#2a3f5f\"},\"marker\":{\"line\":{\"color\":\"#E5ECF6\",\"width\":0.5},\"pattern\":{\"fillmode\":\"overlay\",\"size\":10,\"solidity\":0.2}},\"type\":\"bar\"}],\"barpolar\":[{\"marker\":{\"line\":{\"color\":\"#E5ECF6\",\"width\":0.5},\"pattern\":{\"fillmode\":\"overlay\",\"size\":10,\"solidity\":0.2}},\"type\":\"barpolar\"}],\"carpet\":[{\"aaxis\":{\"endlinecolor\":\"#2a3f5f\",\"gridcolor\":\"white\",\"linecolor\":\"white\",\"minorgridcolor\":\"white\",\"startlinecolor\":\"#2a3f5f\"},\"baxis\":{\"endlinecolor\":\"#2a3f5f\",\"gridcolor\":\"white\",\"linecolor\":\"white\",\"minorgridcolor\":\"white\",\"startlinecolor\":\"#2a3f5f\"},\"type\":\"carpet\"}],\"choropleth\":[{\"colorbar\":{\"outlinewidth\":0,\"ticks\":\"\"},\"type\":\"choropleth\"}],\"contour\":[{\"colorbar\":{\"outlinewidth\":0,\"ticks\":\"\"},\"colorscale\":[[0.0,\"#0d0887\"],[0.1111111111111111,\"#46039f\"],[0.2222222222222222,\"#7201a8\"],[0.3333333333333333,\"#9c179e\"],[0.4444444444444444,\"#bd3786\"],[0.5555555555555556,\"#d8576b\"],[0.6666666666666666,\"#ed7953\"],[0.7777777777777778,\"#fb9f3a\"],[0.8888888888888888,\"#fdca26\"],[1.0,\"#f0f921\"]],\"type\":\"contour\"}],\"contourcarpet\":[{\"colorbar\":{\"outlinewidth\":0,\"ticks\":\"\"},\"type\":\"contourcarpet\"}],\"heatmap\":[{\"colorbar\":{\"outlinewidth\":0,\"ticks\":\"\"},\"colorscale\":[[0.0,\"#0d0887\"],[0.1111111111111111,\"#46039f\"],[0.2222222222222222,\"#7201a8\"],[0.3333333333333333,\"#9c179e\"],[0.4444444444444444,\"#bd3786\"],[0.5555555555555556,\"#d8576b\"],[0.6666666666666666,\"#ed7953\"],[0.7777777777777778,\"#fb9f3a\"],[0.8888888888888888,\"#fdca26\"],[1.0,\"#f0f921\"]],\"type\":\"heatmap\"}],\"heatmapgl\":[{\"colorbar\":{\"outlinewidth\":0,\"ticks\":\"\"},\"colorscale\":[[0.0,\"#0d0887\"],[0.1111111111111111,\"#46039f\"],[0.2222222222222222,\"#7201a8\"],[0.3333333333333333,\"#9c179e\"],[0.4444444444444444,\"#bd3786\"],[0.5555555555555556,\"#d8576b\"],[0.6666666666666666,\"#ed7953\"],[0.7777777777777778,\"#fb9f3a\"],[0.8888888888888888,\"#fdca26\"],[1.0,\"#f0f921\"]],\"type\":\"heatmapgl\"}],\"histogram\":[{\"marker\":{\"pattern\":{\"fillmode\":\"overlay\",\"size\":10,\"solidity\":0.2}},\"type\":\"histogram\"}],\"histogram2d\":[{\"colorbar\":{\"outlinewidth\":0,\"ticks\":\"\"},\"colorscale\":[[0.0,\"#0d0887\"],[0.1111111111111111,\"#46039f\"],[0.2222222222222222,\"#7201a8\"],[0.3333333333333333,\"#9c179e\"],[0.4444444444444444,\"#bd3786\"],[0.5555555555555556,\"#d8576b\"],[0.6666666666666666,\"#ed7953\"],[0.7777777777777778,\"#fb9f3a\"],[0.8888888888888888,\"#fdca26\"],[1.0,\"#f0f921\"]],\"type\":\"histogram2d\"}],\"histogram2dcontour\":[{\"colorbar\":{\"outlinewidth\":0,\"ticks\":\"\"},\"colorscale\":[[0.0,\"#0d0887\"],[0.1111111111111111,\"#46039f\"],[0.2222222222222222,\"#7201a8\"],[0.3333333333333333,\"#9c179e\"],[0.4444444444444444,\"#bd3786\"],[0.5555555555555556,\"#d8576b\"],[0.6666666666666666,\"#ed7953\"],[0.7777777777777778,\"#fb9f3a\"],[0.8888888888888888,\"#fdca26\"],[1.0,\"#f0f921\"]],\"type\":\"histogram2dcontour\"}],\"mesh3d\":[{\"colorbar\":{\"outlinewidth\":0,\"ticks\":\"\"},\"type\":\"mesh3d\"}],\"parcoords\":[{\"line\":{\"colorbar\":{\"outlinewidth\":0,\"ticks\":\"\"}},\"type\":\"parcoords\"}],\"pie\":[{\"automargin\":true,\"type\":\"pie\"}],\"scatter\":[{\"marker\":{\"colorbar\":{\"outlinewidth\":0,\"ticks\":\"\"}},\"type\":\"scatter\"}],\"scatter3d\":[{\"line\":{\"colorbar\":{\"outlinewidth\":0,\"ticks\":\"\"}},\"marker\":{\"colorbar\":{\"outlinewidth\":0,\"ticks\":\"\"}},\"type\":\"scatter3d\"}],\"scattercarpet\":[{\"marker\":{\"colorbar\":{\"outlinewidth\":0,\"ticks\":\"\"}},\"type\":\"scattercarpet\"}],\"scattergeo\":[{\"marker\":{\"colorbar\":{\"outlinewidth\":0,\"ticks\":\"\"}},\"type\":\"scattergeo\"}],\"scattergl\":[{\"marker\":{\"colorbar\":{\"outlinewidth\":0,\"ticks\":\"\"}},\"type\":\"scattergl\"}],\"scattermapbox\":[{\"marker\":{\"colorbar\":{\"outlinewidth\":0,\"ticks\":\"\"}},\"type\":\"scattermapbox\"}],\"scatterpolar\":[{\"marker\":{\"colorbar\":{\"outlinewidth\":0,\"ticks\":\"\"}},\"type\":\"scatterpolar\"}],\"scatterpolargl\":[{\"marker\":{\"colorbar\":{\"outlinewidth\":0,\"ticks\":\"\"}},\"type\":\"scatterpolargl\"}],\"scatterternary\":[{\"marker\":{\"colorbar\":{\"outlinewidth\":0,\"ticks\":\"\"}},\"type\":\"scatterternary\"}],\"surface\":[{\"colorbar\":{\"outlinewidth\":0,\"ticks\":\"\"},\"colorscale\":[[0.0,\"#0d0887\"],[0.1111111111111111,\"#46039f\"],[0.2222222222222222,\"#7201a8\"],[0.3333333333333333,\"#9c179e\"],[0.4444444444444444,\"#bd3786\"],[0.5555555555555556,\"#d8576b\"],[0.6666666666666666,\"#ed7953\"],[0.7777777777777778,\"#fb9f3a\"],[0.8888888888888888,\"#fdca26\"],[1.0,\"#f0f921\"]],\"type\":\"surface\"}],\"table\":[{\"cells\":{\"fill\":{\"color\":\"#EBF0F8\"},\"line\":{\"color\":\"white\"}},\"header\":{\"fill\":{\"color\":\"#C8D4E3\"},\"line\":{\"color\":\"white\"}},\"type\":\"table\"}]},\"layout\":{\"annotationdefaults\":{\"arrowcolor\":\"#2a3f5f\",\"arrowhead\":0,\"arrowwidth\":1},\"autotypenumbers\":\"strict\",\"coloraxis\":{\"colorbar\":{\"outlinewidth\":0,\"ticks\":\"\"}},\"colorscale\":{\"diverging\":[[0,\"#8e0152\"],[0.1,\"#c51b7d\"],[0.2,\"#de77ae\"],[0.3,\"#f1b6da\"],[0.4,\"#fde0ef\"],[0.5,\"#f7f7f7\"],[0.6,\"#e6f5d0\"],[0.7,\"#b8e186\"],[0.8,\"#7fbc41\"],[0.9,\"#4d9221\"],[1,\"#276419\"]],\"sequential\":[[0.0,\"#0d0887\"],[0.1111111111111111,\"#46039f\"],[0.2222222222222222,\"#7201a8\"],[0.3333333333333333,\"#9c179e\"],[0.4444444444444444,\"#bd3786\"],[0.5555555555555556,\"#d8576b\"],[0.6666666666666666,\"#ed7953\"],[0.7777777777777778,\"#fb9f3a\"],[0.8888888888888888,\"#fdca26\"],[1.0,\"#f0f921\"]],\"sequentialminus\":[[0.0,\"#0d0887\"],[0.1111111111111111,\"#46039f\"],[0.2222222222222222,\"#7201a8\"],[0.3333333333333333,\"#9c179e\"],[0.4444444444444444,\"#bd3786\"],[0.5555555555555556,\"#d8576b\"],[0.6666666666666666,\"#ed7953\"],[0.7777777777777778,\"#fb9f3a\"],[0.8888888888888888,\"#fdca26\"],[1.0,\"#f0f921\"]]},\"colorway\":[\"#636efa\",\"#EF553B\",\"#00cc96\",\"#ab63fa\",\"#FFA15A\",\"#19d3f3\",\"#FF6692\",\"#B6E880\",\"#FF97FF\",\"#FECB52\"],\"font\":{\"color\":\"#2a3f5f\"},\"geo\":{\"bgcolor\":\"white\",\"lakecolor\":\"white\",\"landcolor\":\"#E5ECF6\",\"showlakes\":true,\"showland\":true,\"subunitcolor\":\"white\"},\"hoverlabel\":{\"align\":\"left\"},\"hovermode\":\"closest\",\"mapbox\":{\"style\":\"light\"},\"paper_bgcolor\":\"white\",\"plot_bgcolor\":\"#E5ECF6\",\"polar\":{\"angularaxis\":{\"gridcolor\":\"white\",\"linecolor\":\"white\",\"ticks\":\"\"},\"bgcolor\":\"#E5ECF6\",\"radialaxis\":{\"gridcolor\":\"white\",\"linecolor\":\"white\",\"ticks\":\"\"}},\"scene\":{\"xaxis\":{\"backgroundcolor\":\"#E5ECF6\",\"gridcolor\":\"white\",\"gridwidth\":2,\"linecolor\":\"white\",\"showbackground\":true,\"ticks\":\"\",\"zerolinecolor\":\"white\"},\"yaxis\":{\"backgroundcolor\":\"#E5ECF6\",\"gridcolor\":\"white\",\"gridwidth\":2,\"linecolor\":\"white\",\"showbackground\":true,\"ticks\":\"\",\"zerolinecolor\":\"white\"},\"zaxis\":{\"backgroundcolor\":\"#E5ECF6\",\"gridcolor\":\"white\",\"gridwidth\":2,\"linecolor\":\"white\",\"showbackground\":true,\"ticks\":\"\",\"zerolinecolor\":\"white\"}},\"shapedefaults\":{\"line\":{\"color\":\"#2a3f5f\"}},\"ternary\":{\"aaxis\":{\"gridcolor\":\"white\",\"linecolor\":\"white\",\"ticks\":\"\"},\"baxis\":{\"gridcolor\":\"white\",\"linecolor\":\"white\",\"ticks\":\"\"},\"bgcolor\":\"#E5ECF6\",\"caxis\":{\"gridcolor\":\"white\",\"linecolor\":\"white\",\"ticks\":\"\"}},\"title\":{\"x\":0.05},\"xaxis\":{\"automargin\":true,\"gridcolor\":\"white\",\"linecolor\":\"white\",\"ticks\":\"\",\"title\":{\"standoff\":15},\"zerolinecolor\":\"white\",\"zerolinewidth\":2},\"yaxis\":{\"automargin\":true,\"gridcolor\":\"white\",\"linecolor\":\"white\",\"ticks\":\"\",\"title\":{\"standoff\":15},\"zerolinecolor\":\"white\",\"zerolinewidth\":2}}},\"xaxis\":{\"anchor\":\"y\",\"domain\":[0.0,1.0],\"title\":{\"text\":\"0\"}},\"yaxis\":{\"anchor\":\"x\",\"domain\":[0.0,1.0],\"title\":{\"text\":\"1\"}},\"coloraxis\":{\"colorbar\":{\"title\":{\"text\":\"color\"}},\"colorscale\":[[0.0,\"#0d0887\"],[0.1111111111111111,\"#46039f\"],[0.2222222222222222,\"#7201a8\"],[0.3333333333333333,\"#9c179e\"],[0.4444444444444444,\"#bd3786\"],[0.5555555555555556,\"#d8576b\"],[0.6666666666666666,\"#ed7953\"],[0.7777777777777778,\"#fb9f3a\"],[0.8888888888888888,\"#fdca26\"],[1.0,\"#f0f921\"]]},\"legend\":{\"tracegroupgap\":0},\"margin\":{\"t\":60}},                        {\"responsive\": true}                    ).then(function(){\n",
              "                            \n",
              "var gd = document.getElementById('95845363-a2b2-41ff-8c6b-0c67dda9601b');\n",
              "var x = new MutationObserver(function (mutations, observer) {{\n",
              "        var display = window.getComputedStyle(gd).display;\n",
              "        if (!display || display === 'none') {{\n",
              "            console.log([gd, 'removed!']);\n",
              "            Plotly.purge(gd);\n",
              "            observer.disconnect();\n",
              "        }}\n",
              "}});\n",
              "\n",
              "// Listen for the removal of the full notebook cells\n",
              "var notebookContainer = gd.closest('#notebook-container');\n",
              "if (notebookContainer) {{\n",
              "    x.observe(notebookContainer, {childList: true});\n",
              "}}\n",
              "\n",
              "// Listen for the clearing of the current output cell\n",
              "var outputEl = gd.closest('.output');\n",
              "if (outputEl) {{\n",
              "    x.observe(outputEl, {childList: true});\n",
              "}}\n",
              "\n",
              "                        })                };                            </script>        </div>\n",
              "</body>\n",
              "</html>"
            ]
          },
          "metadata": {}
        }
      ]
    },
    {
      "cell_type": "markdown",
      "source": [
        "###Representación kernel PCA"
      ],
      "metadata": {
        "id": "ONADV8r8Ql11"
      }
    },
    {
      "cell_type": "code",
      "source": [
        "from sklearn.decomposition import KernelPCA\n",
        "transformer = KernelPCA(n_components=2, kernel=\"rbf\", gamma=20, fit_inverse_transform=True, alpha=0.1)\n",
        "transformer.fit(df)\n",
        "datared = transformer.transform(df)\n",
        "\n",
        "import plotly.express as px\n",
        "fig = px.scatter(datared, x=0, y=1, color=tr_y)\n",
        "fig.show()"
      ],
      "metadata": {
        "colab": {
          "base_uri": "https://localhost:8080/",
          "height": 542
        },
        "id": "beH-8Sb4RYEg",
        "outputId": "17781f6f-251b-40ff-dd39-1ab16acc654c"
      },
      "execution_count": null,
      "outputs": [
        {
          "output_type": "display_data",
          "data": {
            "text/html": [
              "<html>\n",
              "<head><meta charset=\"utf-8\" /></head>\n",
              "<body>\n",
              "    <div>            <script src=\"https://cdnjs.cloudflare.com/ajax/libs/mathjax/2.7.5/MathJax.js?config=TeX-AMS-MML_SVG\"></script><script type=\"text/javascript\">if (window.MathJax) {MathJax.Hub.Config({SVG: {font: \"STIX-Web\"}});}</script>                <script type=\"text/javascript\">window.PlotlyConfig = {MathJaxConfig: 'local'};</script>\n",
              "        <script src=\"https://cdn.plot.ly/plotly-2.8.3.min.js\"></script>                <div id=\"be0f62db-9bda-4885-ba32-124bd225201b\" class=\"plotly-graph-div\" style=\"height:525px; width:100%;\"></div>            <script type=\"text/javascript\">                                    window.PLOTLYENV=window.PLOTLYENV || {};                                    if (document.getElementById(\"be0f62db-9bda-4885-ba32-124bd225201b\")) {                    Plotly.newPlot(                        \"be0f62db-9bda-4885-ba32-124bd225201b\",                        [{\"hovertemplate\":\"0=%{x}<br>1=%{y}<br>color=%{marker.color}<extra></extra>\",\"legendgroup\":\"\",\"marker\":{\"color\":[0,0,0,0,0,0,0,0,0,0,0,0,0,0,0,0,0,0,0,0,0,0,0,0,0,0,0,0,0,0,0,0,0,0,0,0,0,0,0,0,0,0,0,0,0,0,0,0,0,0,0,0,0,0,0,0,0,0,0,0,0,0,0,0,0,0,0,0,0,0,0,0,0,0,0,0,0,0,0,0,0,0,0,0,0,0,0,0,0,0,0,0,0,0,0,0,0,0,0,0,0,0,0,0,0,0,0,0,0,0,0,0,0,0,0,0,0,0,0,0,0,0,0,0,0,0,0,0,0,0,0,0,0,0,0,0,0,0,0,0,0,0,0,0,0,0,0,0,0,0,0,0,0,0,0,0,0,0,0,0,0,0,0,0,0,0,0,0,0,0,0,0,0,0,0,0,0,0,0,0,0,0,0,0,0,0,0,0,0,0,0,0,0,0,0,0,0,0,0,0,0,0,0,0,0,0,0,0,0,0,0,0,0,0,0,0,0,0,0,0,0,0,0,0,0,0,0,0,0,0,0,0,0,0,0,0,0,0,0,0,0,0,0,0,0,0,0,0,0,0,0,0,0,0,0,0,0,0,0,0,0,0,0,0,0,0,0,0,0,0,0,0,0,0,0,0,0,0,0,0,0,0,0,0,0,0,0,0,0,0,0,0,0,0,0,0,0,0,0,0,0,0,0,0,0,0,0,0,0,0,0,0,0,0,0,0,0,0,0,0,0,0,0,0,0,0,0,0,0,0,0,0,0,0,0,0,0,0,0,0,0,0,0,0,0,0,0,0,0,0,0,0,0,0,0,0,0,0,0,0,0,0,0,0,0,0,0,0,0,0,0,0,0,0,0,0,0,0,0,0,0,0,0,0,0,0,0,0,0,0,0,0,0,0,0,0,0,0,0,0,0,0,0,0,0,0,0,0,0,0,0,0,0,0,0,0,0,0,0,0,0,0,0,0,0,0,0,0,0,0,0,0,0,0,0,0,0,0,0,0,0,0,0,0,0,0,0,0,0,0,1,1,1,1,1,1,1,1,1,1,1,1,1,1,1,1,1,1,1,1,1,1,1,1,1,1,1,1,1,1,1,1,1,1,1,1,1,1,1,1,1,1,1,1,1,1,1,1,1,1,1,1,1,1,1,1,1,1,1,1,1,1,1,1,1,1,1,1,1,1,1,1,1,1,1,1,1,1,1,1,1,1,1,1,1,1,1,1,1,1,1,1,1,1,1,1,1,1,1,1,1,1,1,1,1,1,1,1,1,1,1,1,1,1,1,1,1,1,1,1,1,1,1,1,1,1,1,1,1,1,1,1,1,1,1,1,1,1,1,1,1,1,1,1,1,1,1,1,1,1,1,1,1,1,1,1,1,1,1,1,1,1,1,1,1,1,1,1,1,1,1,1,1,1,1,1,1,1,1,1,1,1,1,1,1,1,1,1,1,1,1,1,1,1,1,1,1,1,1,1,1,1,1,1,1,1,1,1,1,1,1,1,1,1,1,1,1,1,1,1,1,1,1,1,1,1,1,1,1,1,1,1,1,1,1,1,1,1,1,1,1,1,1,1,1,1,1,1,1,1,1,1,1,1,1,1,1,1,1,1,1,1,1,1,1,1,1,1,1,1,1,1,1,1,1,1,1,1,1,1,1,1,1,1,1,1,1,1,1,1,1,1,1,1,1,1,1,1,1,1,1,1,1,1,1,1,1,1,1,1,1,1,1,1,1,1,1,1,1,1,1,1,1,1,1,1,1,1,1,1,1,1,1,1,1,1,1,1,1,1,1,1,1,1,1,1,1,1,1,1,1,1,1,1,1,1,1,1,1,1,1,1,1,1,1,1,1,1,1,1,1,1,1,1,1,1,1,1,1,1,1,1,1,1,1,1,1,1,1,1,1,1,1,1,1,1,1,1,1,1,1,1,1,1,1,1,1,1,1,1,1,1,1,1,1,1,1,1,1,1,1,1,1,1,1,1,1,1,1,1,1,1,1,1,1,1,1,1,1,1,1,1,1,1,1,1,1,1,1,1,2,2,2,2,2,2,2,2,2,2,2,2,2,2,2,2,2,2,2,2,2,2,2,2,2,2,2,2,2,2,2,2,2,2,2,2,2,2,2,2,2,2,2,2,2,2,2,2,2,2,2,2,2,2,2,2,2,2,2,2,2,2,2,2,2,2,2,2,2,2,2,2,2,2,2,2,2,2,2,2,2,2,2,2,2,2,2,2,2,2,2,2,2,2,2,2,2,2,2,2,2,2,2,2,2,2,2,2,2,2,2,2,2,2,2,2,2,2,2,2,2,2,2,2,2,2,2,2,2,2,2,2,2,2,2,2,2,2,2,2,2,2,2,2,2,2,2,2,2,2,2,2,2,2,2,2,2,2,2,2,2,2,2,2,2,2,2,2,2,2,2,2,2,2,2,2,2,2,2,2,2,2,2,2,2,2,2,2,2,2,2,2,2,2,2,2,2,2,2,2,2,2,2,2,2,2,2,2,2,2,2,2,2,2,2,2,2,2,2,2,2,2,2,2,2,2,2,2,2,2,2,2,2,2,2,2,2,2,2,2,2,2,2,2,2,2,2,2,2,2,2,2,2,2,2,2,2,2,2,2,2,2,2,2,2,2,2,2,2,2,2,2,2,2,2,2,2,2,2,2,2,2,2,2,2,2,2,2,2,2,2,2,2,2,2,2,2,2,2,2,2,2,2,2,2,2,2,2,2,2,2,2,2,2,2,2,2,2,2,2,2,2,2,2,2,2,2,2,2,2,2,2,2,2,2,2,2,2,2,2,2,2,2,2,2,2,2,2,2,2,2,2,2,2,2,2,2,2,2,2,2,2,2,2,2,2,2,2,2,2,2,2,2,2,2,2,2,2,2,2,2,2,2,2,2,2,2,2,2,2,2,2,2,2,2,2,2,2,2,2,2,2,2,2,2,2,2,2,2,2,2,2,2,2,2,2,2,2,2,2,2,2,2,2,2,2,2,2,2,2,2,2,2,2,2,2,2,2,2,2,2,2,2,2,2,2,2,2,2,2,3,3,3,3,3,3,3,3,3,3,3,3,3,3,3,3,3,3,3,3,3,3,3,3,3,3,3,3,3,3,3,3,3,3,3,3,3,3,3,3,3,3,3,3,3,3,3,3,3,3,3,3,3,3,3,3,3,3,3,3,3,3,3,3,3,3,3,3,3,3,3,3,3,3,3,3,3,3,3,3,3,3,3,3,3,3,3,3,3,3,3,3,3,3,3,3,3,3,3,3,3,3,3,3,3,3,3,3,3,3,3,3,3,3,3,3,3,3,3,3,3,3,3,3,3,3,3,3,3,3,3,3,3,3,3,3,3,3,3,3,3,3,3,3,3,3,3,3,3,3,3,3,3,3,3,3,3,3,3,3,3,3,3,3,3,3,3,3,3,3,3,3,3,3,3,3,3,3,3,3,3,3,3,3,3,3,3,3,3,3,3,3,3,3,3,3,3,3,3,3,3,3,3,3,3,3,3,3,3,3,3,3,3,3,3,3,3,3,3,3,3,3,3,3,3,3,3,3,3,3,3,3,3,3,3,3,3,3,3,3,3,3,3,3,3,3,3,3,3,3,3,3,3,3,3,3,3,3,3,3,3,3,3,3,3,3,3,3,3,3,3,3,3,3,3,3,3,3,3,3,3,3,3,3,3,3,3,3,3,3,3,3,3,3,3,3,3,3,3,3,3,3,3,3,3,3,3,3,3,3,3,3,3,3,3,3,3,3,3,3,3,3,3,3,3,3,3,3,3,3,3,3,3,3,3,3,3,3,3,3,3,3,3,3,3,3,3,3,3,3,3,3,3,3,3,3,3,3,3,3,3,3,3,3,3,3,3,3,3,3,3,3,3,3,3,3,3,3,3,3,3,3,3,3,3,3,3,3,3,3,3,3,3,3,3,3,3,3,3,3,3,3,3,3,3,3,3,3,3,3,3,3,3,3,3,3,3,3,3,3,3,3,3,3,3,3,3,3,3,3,3,3,3,3,3,3,3,3,3,3,3,3,3,3,3,3,3,3,3,3,4,4,4,4,4,4,4,4,4,4,4,4,4,4,4,4,4,4,4,4,4,4,4,4,4,4,4,4,4,4,4,4,4,4,4,4,4,4,4,4,4,4,4,4,4,4,4,4,4,4,4,4,4,4,4,4,4,4,4,4,4,4,4,4,4,4,4,4,4,4,4,4,4,4,4,4,4,4,4,4,4,4,4,4,4,4,4,4,4,4,4,4,4,4,4,4,4,4,4,4,4,4,4,4,4,4,4,4,4,4,4,4,4,4,4,4,4,4,4,4,4,4,4,4,4,4,4,4,4,4,4,4,4,4,4,4,4,4,4,4,4,4,4,4,4,4,4,4,4,4,4,4,4,4,4,4,4,4,4,4,4,4,4,4,4,4,4,4,4,4,4,4,4,4,4,4,4,4,4,4,4,4,4,4,4,4,4,4,4,4,4,4,4,4,4,4,4,4,4,4,4,4,4,4,4,4,4,4,4,4,4,4,4,4,4,4,4,4,4,4,4,4,4,4,4,4,4,4,4,4,4,4,4,4,4,4,4,4,4,4,4,4,4,4,4,4,4,4,4,4,4,4,4,4,4,4,4,4,4,4,4,4,4,4,4,4,4,4,4,4,4,4,4,4,4,4,4,4,4,4,4,4,4,4,4,4,4,4,4,4,4,4,4,4,4,4,4,4,4,4,4,4,4,4,4,4,4,4,4,4,4,4,4,4,4,4,4,4,4,4,4,4,4,4,4,4,4,4,4,4,4,4,4,4,4,4,4,4,4,4,4,4,4,4,4,4,4,4,4,4,4,4,4,4,4,4,4,4,4,4,4,4,4,4,4,4,4,4,4,4,4,4,4,4,4,4,4,4,4,4,4,4,4,4,4,4,4,4,4,4,4,4,4,4,4,4,4,4,4,4,4,4,4,4,4,4,4,4,4,4,4,4,4,4,4,4,4,4,4,4,4,4,4,4,4,4,4,4,4,4,4,4,4,4,4,4,4,4,4,4,4,4,4,4,4,4,4,4,4,4],\"coloraxis\":\"coloraxis\",\"symbol\":\"circle\"},\"mode\":\"markers\",\"name\":\"\",\"showlegend\":false,\"x\":[0.0290037689991683,0.001299106475471468,-0.0021260450350695905,-0.0026918920197153244,0.0032576057403364946,-0.004003813607105157,-0.013421146170234146,-0.011106899640747632,0.01124163987610344,-0.017969045447817657,-0.0022406895188072165,0.02079695922286881,0.004875024486290242,-0.0013335136233245844,-0.001910175172648532,-0.00865594970458788,-0.0010757963433971755,-0.0023559716553715753,-0.0019474701786476253,0.008250003795933202,0.15661024399207313,6.023802100530058e-06,0.0143339378770195,-0.0031419033997960827,-0.05687210297203636,-0.04981209592189317,-0.01035316638560847,0.1373057799117226,-0.004822463353708271,-0.019434078319233307,0.02863003121105336,0.015449602608633884,0.01525482027391417,-0.0016305036184349531,-0.0020997521770154993,-0.003001288459564623,0.0003525930866155739,0.01776904513615076,-0.0009494299163853525,-0.018084096731309264,0.011225880642474114,0.0023613955980349884,-0.0145811968178904,0.005163518088866605,0.052564050437509016,-0.02488378251149635,0.013633046270587236,-0.0021929112614126,0.010468384389950245,-0.0003720855430030429,-0.014246363336911375,-0.003490204287648922,0.033427695697568156,0.0038425223048024868,-5.821430055376243e-05,-0.002803493880132172,0.06299698876483041,0.006013330391136895,-0.011923288887930213,-0.017231349621368203,-0.00747233031719432,-0.00493796590024455,-0.005569808377562294,-0.005433725699241669,-0.07005693224318778,-0.0007053044065362413,0.0011021616054347216,0.002223668328315602,0.010417758817658624,-0.0031114046354912346,0.0370762501364896,0.011276563999144576,-0.013350856303086219,-0.0007057039878331284,-0.0076418111166753205,0.017260138574552365,-0.014628980691213381,0.00277988911911749,0.005571634122791755,0.02154998945360416,-0.0017323176151355535,0.013774088502293644,0.0011090414393511946,0.024496887777336742,-0.0059875712071272135,0.017507933884934705,0.010941271267525815,-0.002489128515816309,-0.013987978526949735,-0.002655021192046345,-0.0020429365230585305,0.012593364646049139,0.006822278304095137,0.003637757742114169,0.013525513800120051,0.0006455240579092627,0.013042814458043926,0.005235006482131029,-0.0009502857440976967,0.011692812333067999,0.12448953564847909,-0.0004257121728754825,0.0023743228833967324,-0.10620884827203327,0.008595759066389205,0.004560224107125414,0.280143454904832,-0.0017904323287992422,-0.0015231617718157843,-0.0004015781807543412,0.0018271768047783926,-0.0015694532984555864,-0.007146654277708167,0.0015266263895788656,-0.017257337562792418,0.0057347144661952015,0.011663576580477664,0.0024378029214546363,-0.01217302050901959,0.0021523413074866003,0.01974999860004703,0.00245850984884882,0.01771511782246553,-0.20193300581314322,-0.002482609960577592,-0.0016023437602425076,0.00881115506426214,0.004196416570748818,0.031770127892838465,0.0015367751038770933,0.030040486371556666,-0.0003021187360514831,0.02767472344441516,-0.010048230232538084,0.004730398822658326,-0.0016898892724490605,0.0351325499537454,-0.0023153892753273574,-0.0026978067575379196,-0.0031442426617890266,-0.0008572058159197484,-0.001678056361033957,0.0006059790269292886,-0.029385661611941512,-0.038894791415248244,-0.0019035737581007013,-0.012522218176724624,0.004328951245339557,-0.016014451922080133,-0.009919460809886043,0.013808636577176382,-0.0028936587542377824,-0.002494327780125377,-0.0016150977987338187,0.0028256424817845634,-0.011044529947807238,0.15047379329213037,-0.016359331127254774,-0.011771972907534092,-0.016111325109110414,0.00792790556282262,-0.0014518824079145264,-0.0016031926849325413,0.007275496844487001,0.009106967095540392,0.004742532756671254,0.012146331248851668,-0.032358888354028385,-0.007410362353811741,-0.0021370197320310716,-0.00041020548361544936,-0.0015321989379439706,-0.012710264202462263,-0.0029409374804537534,-0.0049653467074412,-0.0022606877612688673,-0.0031278222847578403,-0.011879511182614594,-0.0008732718249913967,-0.20111441332396848,0.014482425833272859,-0.012590586536405579,0.00047576839745596604,-0.0006268928151146456,-0.0006126534865002047,-0.0037855537487743894,-0.004133933338523467,-0.0027796703211578444,0.0013734323868187196,0.003461314289738713,-0.0009673672410794469,-0.02955997647474982,0.13471341971693016,0.015231109244611594,0.00019957326815601712,-0.002886911710146763,0.017176181523971486,-0.0003262715250269923,-0.001458826854962613,0.023749882568180253,0.03666024604763214,0.019141126026585808,-0.0008144465722728682,-0.0009743174813326131,-0.001485320652499513,0.006014179367977797,-0.011269786548128947,0.000669325658342841,0.0055536590588763715,0.006682260652440417,0.0035500241117666586,0.5190143311758909,-0.004601256958840276,0.0016726745335269202,-0.00042715566135433,-0.001474583348922894,0.1168760120597611,-0.0019541083536516427,-0.0012022921605819913,-0.0012851985769948822,0.04717429916485152,-4.15771359733716e-05,-0.0016708533122271644,-0.007003274582707297,0.005994226036276425,0.001273286593148223,0.0017525712824284073,0.00019099813284052385,-0.018493034524182092,-0.004072971712564304,0.00962199840111501,-0.0007436008712536458,-0.006271369620864867,0.0010457241239717817,-0.0019016539588537025,0.10019424161230371,0.002361347218507557,0.001138201000828113,0.005444434673500358,-0.024188518444887543,-0.005600901279610765,0.0021086382337567504,0.0012372204497656139,0.057825848801578004,-0.0012140115621387415,0.009133244641581356,-0.0032897327119659806,-0.0010304998370945183,0.010472727011586259,0.00011914438442347,-0.003511087888516258,0.04738223459393319,-0.007558555367179211,0.005417012186553955,-0.0024788344687650433,-0.0029052339572676225,0.005676493063326565,-0.0006400852290919826,0.0004231936253135951,0.05862549425226732,0.0022387345980277957,0.007072990515021601,0.00040976634384436893,-0.00377761918310013,0.12961516189623784,-0.008685502434972202,-0.001259645677083465,0.003374147264077651,-0.0011926109641697677,0.00302463677944246,-0.0003337572552213109,-0.018745738251931668,0.03658170875832113,-0.0013941820796727644,0.008568612649386381,-0.0004020939671200969,0.026036550137216695,0.004744747747939857,0.00532855094682904,0.027900390758628543,-0.011273016547313164,-0.009755159871850437,-0.0021241968185257885,0.0007041058206671047,0.0019128700685082107,0.0009616963381506794,-0.002155729124103695,4.3393768702706885e-05,-0.00034129123894729204,-0.0011388675425895631,-0.011564884512404661,-0.044057272673711685,-0.0006668743777553866,0.004237528015848588,0.006087607941232023,0.013321369505156362,-0.002109236628672241,0.011013134347596786,0.0016404894635526249,2.0927139269284756e-05,-0.007731937761982471,0.017720233067469275,0.0025729621888486544,-0.08378372408810486,0.05492779009071247,0.007172675899771423,-0.0013495998392689282,0.0020396783425053744,-0.00381750216701261,0.01021037099606956,-0.005691802626796382,0.00462543858988115,0.004625017077417679,0.008082723266311544,0.00028744784987654775,-0.03494505120767369,-0.0029906523596013967,-0.002273625629028001,0.001065446814558865,0.0040039619358514964,-0.0059017430205006915,0.0004194503786911783,-0.0001989716601273157,-0.02444176023651429,0.02157159799888686,-0.0021616741713116963,-0.00022093213657983692,0.02593088812503504,0.0030055756117882935,-0.0019276436451743067,-0.0019068012060304493,-0.09647948128992606,-0.0012158360073538368,0.0005122454199003948,-0.007746010486983121,0.018486257747088286,-0.0026736726938506074,0.00970199686274242,0.003278176816944379,0.019204396519821944,-0.0018822258601840904,0.018510789747466942,0.0015855309402267473,0.042546233566244276,0.02444293054477019,0.0008601302414014865,-0.001335743178884455,-0.08034208081230071,-0.002776654677557735,-0.0008213728584755292,0.0018473294933403516,0.02967915591129186,0.025486185074412672,-0.0025217024711472573,1.6399678616230216e-05,0.0009780384227345295,-0.0011801836281532052,-0.002583360656323134,-0.0005519722774810864,0.01232325150259695,0.004856019246564734,-0.0018483954987445032,0.0025988653584945723,-0.001448741797235113,-0.00027347359746722396,-0.0013583099536403302,0.003969025265680615,-0.0019582552899407813,-0.0022254922659144635,0.01048668639467328,-0.0195528473483488,-0.00028365393291271683,-0.0020508125875997787,0.00016747503817429783,-0.0072245505467001545,0.03554714066475226,-0.00931922194230615,-0.020462926167803253,0.0045166234495033755,0.0014712511887513885,-0.0006155214704257015,-0.018931199876667946,-0.0002842068196330848,0.011315570864784394,-0.0042796788588473945,-0.00484333831902894,0.0020449824595845543,0.007956723881897533,-0.009720042552705746,-0.0006901499605708657,-0.020501877402088975,-0.009018758978860163,-0.003022201958733452,0.0005564812193160805,0.07129512534025056,-0.001973324121802189,-0.0021355170840663966,-0.009373943398411081,0.0026219068075372725,-0.004997886387097777,0.0026828441618035066,-0.001965680835691313,0.02603991111566584,0.018623186600763276,-0.0252720283758556,-0.0011447509346598698,-0.30581009188118613,0.012957428175636044,-0.002161107016604158,-0.06157985002460302,0.017558163938692074,0.009043930438243681,0.002912780565361267,-0.05809272010699301,-0.007414497435868399,0.0002993883789335118,-0.03231982927695821,0.009548944536200981,-0.01434009718972131,0.0007776062720919159,0.002813285990904249,-0.005362082937257093,-0.004336345445823964,0.015343903474513582,-0.0012727137676886494,0.005793252430934947,0.026110219532442507,0.0017566386267539764,0.0013383447186976793,0.0023483449880803784,0.002513246082159126,0.0004970680131029008,-0.0015517818065470073,-0.002536026948699059,-0.05176550363632082,0.012527709607627065,0.003026450103748324,0.0020497464948062184,-0.008811914466785736,0.007132977210581755,0.0011570053570668295,0.002113401023609972,-0.002522194569888614,-9.382588772150152e-05,0.0013397520278120747,-0.00555059891597068,2.826733073370356e-05,0.006375368194475662,-0.0013049418811700384,-0.0573640671381852,-0.006772526493792967,0.00047185815758016226,-0.009573749433785713,0.010374173323250146,-0.0021469961567902084,-0.027157666910975913,-0.010489061887829247,-0.004504380612974094,0.006423999828646184,-0.00508085049390186,0.007427878803924392,-0.000759168858972004,-0.011297247431270955,0.0032531308041760377,-0.0005772580317692903,-0.05945482855140603,0.005157014791126615,0.0024017823454969374,-0.0027727201813781805,-0.019516222098895922,-0.007191523794679495,-0.0024438010303932415,-0.014271132542206438,-0.0034184391386769463,-0.00570641242773852,5.088648919032436e-05,0.004853173163847658,0.011541512173836907,-0.0019111278145041652,-0.002173418165639673,-0.0454947273623635,-0.0019330366942075204,0.00485939251159092,-0.00047932385863815643,-0.030415479497433798,-0.0014323975237782677,-0.0013148600327203754,0.01404854817361769,0.0013140330426086213,0.00567819900783083,0.0002122352707376323,0.007580565153080323,-0.016119642601506497,-0.001941696334082789,0.0003403350456566222,-0.0012307095362220047,-0.004874633208412755,-0.004319306619578979,-0.000696712187218803,0.007377692553787704,-0.005203777401720618,-0.0038522046377327396,-0.00022670504882988193,0.009050270696960683,-0.001295847096614266,-0.001243818419094668,0.0011822611578153454,-0.001145013536433531,-0.0012912538414210778,-0.0019160182092591062,0.0024374678084253414,-0.0009115591448144083,0.0999880480950539,0.0034735284234597946,0.0055267589962405056,-0.12087944783818581,-0.0006443036096611426,0.002642745116905097,-0.002561375386710909,-0.1072258289882582,-0.03631602370767154,-0.0017671265832827187,-0.0009281124655534848,0.004867048686505118,-0.007978046250625799,-0.0011567438324585181,-0.0029953446677674377,-0.0015595102643904683,-0.01014360238165434,-0.00493365345394562,-0.009558588418446893,-0.023131747702572623,-0.006561525708154129,0.03606387501990852,-0.038886134193886535,0.014204196081896488,0.0027700933639795556,-0.1586053833509166,-0.004691863651629965,0.006804252762612063,0.0007526586450082479,0.007602597795809008,0.0024772140742316817,0.001483430330413451,-0.01715550358734362,-0.0037486874202529385,-0.00049698566357202,-0.0015431979782221492,-0.002502734470758302,-0.024938638717913884,0.003745566490323315,0.00953312876334966,0.0005853606196046728,-0.0010999994018807621,-0.0024963158036273685,0.006265837050159626,0.00325543711685452,-0.012999872972623736,0.04159746441051921,0.0002943672794648359,-0.0029581342511153428,0.0007437996419147727,-0.0013536305645041927,0.00015852878062345358,-0.00818771178081861,0.027091692724139818,0.0032590073291663573,-0.001441047307927292,0.0004005129104072149,-0.0062469283813608315,0.00026754283496663707,-0.021512442218263445,-0.0009833431391954501,-0.0024893069817624063,0.0007779806482215017,0.025973143522253613,-0.016557823713436563,-0.0023280973607845983,-0.0004807885724553502,-0.0016211350894362465,-0.0012059662599093691,0.0015336228113767276,-0.003035251193083655,-0.004330443442307713,-0.014631464642133303,-0.0019216620052588873,0.004501243895629053,0.017734784589763273,-0.0037509726036981704,0.0381276519807774,-0.0011276369767297275,-2.089128788807929e-05,-0.004672211640643276,6.799899211740098e-05,0.004465081321754121,0.03627725753891721,-0.003944714383610648,-0.0008369401587656743,0.0018369926993063333,0.0011373025616888894,0.0066359062139988104,-0.0024839351521794687,0.0006109433483219099,-0.0004709082409218679,0.003237951499398399,0.0010046317291488203,-0.0008995953753250715,-0.0069960100083642915,-0.005161495410992382,-0.03850228380284682,-0.0016137110906741844,-0.03247833722486632,-0.0006506454455277544,0.04442684005784566,0.002806085597585187,-0.0048653149957509426,0.0027727799630707806,-0.005480751737488891,-0.0037703248420392277,0.012305621722881585,-0.0031140395426227834,-0.0015985202432817656,0.0006247882959538079,-0.0018065433800161866,-0.02730501408267787,-0.0011185174332369783,0.0003210430756746856,0.0032291403864189248,-0.0041063377606192,-0.0011781225117101877,-0.00961240697226571,0.007106367378212095,0.0007266526041873816,-0.00044754103783240114,-0.005314947955709782,-0.0030728370284503546,-0.013053451386150872,-0.0036840461382239035,-0.0006383467242149454,-0.0016184511474146015,-0.0020392720752446217,0.0035142803086329667,0.0027347928486766413,0.026082064117254857,0.17490853493455272,-0.004735245400992433,-0.003385206435951637,0.017119792956612926,-0.006919263128696469,-0.0114457404236255,0.00011241886899524564,0.016107181612577178,-0.010825369107931453,-0.0004816530354502096,-0.001204804001775963,0.0016945997373565638,0.1430727532429512,-0.0017254744010052417,-0.009012327482764194,0.03483114296557443,0.05972232398963365,-0.0024492805551822277,-0.023561182649591554,1.968311342195719e-05,-0.006850382691798764,-0.002309157444006667,-0.007891677340844462,-0.0025888221131870983,-0.002148924515825856,0.0003632715952091273,-0.010093071883832645,-1.9479722923651234e-06,0.0017683950692969203,0.0008338162568034251,0.005686602464934875,-0.00212470153901028,0.003073272393583334,-0.003200829654265588,0.0008949090663676432,-0.009625384711965144,0.0004212568410613901,-0.0032801318162994078,-0.0007417840018129478,-0.001189225808687645,0.0035697674761202202,0.0005485327845998588,-0.006774333001750172,-0.008881461622475535,-0.005583497402660617,-0.004310059564093191,0.0002532547522254193,0.0010933651848782748,0.00146733316040434,-0.0009852673537757274,-0.0015828266902599805,0.0007622806656308634,0.0024413654911758123,-0.003917404510339749,0.002736384740473746,0.0011699801577021987,0.002889681823480135,-0.003422561028246686,-0.003253637731337094,-0.003845263157424955,0.028493640253169264,-0.00605285066849867,0.0009664500739309067,-0.0006128341219654674,0.0034401645507919727,-0.006658677215962489,0.004146660958802545,0.01642271454056357,-0.0021134888942370323,-0.00624057314699341,0.0009760896966047025,0.012738045278726271,-0.0022143154484097396,-0.00046558852382431554,0.0002672662108331661,0.00030175329469648134,-0.006512628869707099,-0.0013994461504426544,0.0008057923593703039,0.01149462739609814,0.0008196779082392315,-0.0003385227480136372,-0.011131549952054995,-0.004607509283790364,0.00047796877625613376,-0.005345061567466621,-0.0004728886783998905,0.022254059338142635,-0.0002746715490329055,-0.0030736752155004956,-0.007053525986420343,0.0011678832253916864,0.004266704230573874,-0.0017076554119697046,0.001535949855559731,0.004314453440196872,0.00023485536249846155,-0.0014642055679378206,-0.00247218013951564,0.0022914238826509618,-0.002085798066020752,-0.0007263373309281351,-0.002043396543486249,-0.004232162717565398,0.002892966081074385,-0.001391992794212168,-0.0020372081860103603,0.002361197163508013,0.02318451244535005,8.556344709263134e-05,-0.004090068861656279,-0.002395610652842919,-0.0039035513326267273,-0.007324834962996925,-0.0016239411174816794,9.126256610245207e-05,-0.004350911689385096,-0.0012796416921071246,-0.0005312084208396718,0.018976536046452604,-0.0065131489826838656,-0.002976905434472441,0.0034129562052448636,-0.0004554413468462462,-0.0002788860813988811,-0.002532287475751774,-4.392762087444725e-05,-0.0021312680911550336,-0.0015617201668111516,-0.0006366088538732557,-0.001279692747460583,0.0011879823319315053,0.03403444283428129,-0.002868225492872792,0.00461387429367399,-0.0013966495355683796,-0.005485286593049396,-0.001445147147157583,-0.0010067666447949586,-0.01352251446424972,-0.0018405977506540728,0.0015572866224002125,-0.0005706045907831997,-0.00427781091511057,0.002572814432384008,-0.001146672375733147,6.174693765494718e-05,-0.0004028928687037345,0.0008955735356079611,-0.001278775357612267,-0.00019080380021055626,-0.00014045520956575518,-0.004953717318084185,-0.004346091903606548,-0.006903868970120673,0.00042487390285133865,0.0009726234571008717,0.008355957299206952,0.0013346082726950225,0.008126623744429686,0.004641966413356859,0.0004325110351603996,0.0026971515191062372,-0.005202473661660056,-0.0011114469098983753,-0.0018462531024723324,0.0010454233398182813,0.002019388153050903,0.005025752657719584,-0.001693054951329128,0.00478234952731112,-0.004917253042103219,-0.002245616917486702,-0.008658842791142967,0.0018852158800382215,0.002881816206581059,-0.0014788914017544704,0.005222944416483258,0.0037868685731740816,-8.336943691987399e-05,0.0019705882285782285,0.03793402372146689,-8.143176116536072e-05,-0.0039139090698899455,9.590175971519908e-05,-0.0018476567717219223,0.003432094572407928,0.0018741043315995234,-0.0031342464203480015,-0.0010167905150031847,-0.0010645847152066315,-0.002360764403967156,-0.0031949813288400814,-0.0029706824408561906,0.00023655203482467017,0.007880644227835213,-0.002791327678183777,-0.0017427849243080167,0.012514636509240213,0.001545483633959486,-0.002664642237024687,-0.002999939436342785,-0.006239972407595188,0.005338940848103654,-0.0032742610419551755,-0.005396960996764571,0.00384865680957839,0.002038079330313739,0.0003198336290341261,-0.001276109019781418,-0.0013376498999914464,0.003258151088752351,-0.0005757383627915726,-0.0030699554385335143,0.0016575132367302632,-0.0016229130515605925,-0.0005284638323570051,-0.0029287021944549487,0.02129853895641885,0.0060071413611300336,0.025013183951155062,-0.00741381069098936,3.742971048918762e-05,-0.007107269847917803,-0.0026477055130239993,-0.004334497312462841,-0.0018709636354224438,-0.004666476372514742,-0.0015747552735819355,-0.004708559721191414,0.03253738006744007,-0.0030914655984914563,0.10239670310839696,-0.002639293286182912,-0.001809510887535706,-0.005274135840004328,-0.003533138252138447,-0.0015728788374067965,-0.001276901001614619,-0.007074443543718664,-0.001181637548592299,-0.0037253866440530316,0.015187003575409683,-0.01718573718201218,-0.007942335176276759,0.0008699390011739494,0.0007057949718223402,-0.004565794532230643,-0.004418498792893712,-0.004532544996031813,-0.000167843371023871,-0.0007076805232093349,0.029047062089326395,-0.0029233541403078152,-0.0006586414147142151,0.0006300966647872529,-0.0008992256641036598,0.006077396979714093,-0.0015060215577876773,-0.0012906947088489234,-0.00313122845326154,-0.007874008262978903,-0.0032407525283305334,0.00435291304169609,0.0024153178965084328,-0.002548506069474585,0.011606919112245326,-0.0017163461890069187,0.00045860907231335866,-0.0017108155456081954,0.013017857438720274,-0.0017836838329151762,-0.004020392907354896,-0.0017488673214415228,-0.004975779724103776,-0.007735772976148834,-0.001996668728113986,-0.003073272540335923,-0.0068990578098883535,0.0028489601511718678,0.00038939179367497996,-0.0002932288461307712,0.0023585410407517098,-0.001938727500601324,-0.0024722039840069194,-0.003835113569041304,-0.0006487433376282306,0.006346219706177029,-0.005583348858358911,-0.0067085489194068475,-0.0025707862721614746,-0.0038626356712587575,-0.005388294729540777,0.00036788691605651785,0.0023572882666711777,0.011891239981518968,-0.0002634527797160518,-0.0010521226704853998,-0.007383785686854683,-0.0011669233455646375,-0.002532682878685657,-0.00216762349817659,-0.005403574970973544,-0.0016688494093057664,-0.003913409930580406,-0.0016585609132126681,-0.0010952744736531135,-0.0008529409585279955,0.0011368341102371976,-0.0006144793368334191,-0.005494631933971826,0.000183461423939748,-0.0038942168635217487,-0.008065674720265549,0.0016429080909168804,-0.00046917897271888065,-0.004245810593294371,-0.0006410314093302046,0.0010790125168550567,0.0024430986646813424,0.000778662351547929,-0.0025833237046640743,-0.004171149214565258,-0.00029356052452920534,-0.0045922443383266546,-0.0033744632225998538,-0.007554869001357655,-0.003436513520116016,-0.003838574066537072,-0.0019544745879662684,-0.005705977816219415,-0.002523538119777591,-0.0046541647606780905,-0.0004649718136754299,-0.005111434939540552,-0.0003211510691366803,-0.004103393793226918,-0.0008967326715082512,0.0015633959234198419,-0.011496686090991767,0.001437622743345811,-0.002296463489884185,-0.002804281983547645,-0.0028037145697368164,-0.002956665118339045,-0.0018700474378418052,0.0030838100742275345,0.0038804477726461055,0.002087442903411816,-0.0040215472035317334,0.003371196799658949,-0.0015429061429239922,0.0002638930506537642,-0.0022074713942893814,-0.0005662170248267097,-0.0013279064513898092,0.00010817916388244648,-0.0047656135460360915,0.0014872884418351056,-0.005012849395705022,-0.006192330605518986,-0.004849033926118552,-0.003157053288461343,-0.003267031116704174,-0.002148939921655586,0.0007743338815277105,-0.0023019265784390125,0.0010366328010630943,0.00206331979177363,-0.0009847489607446081,-0.0009273469263036631,-0.0013915025514318145,-0.00409560252752806,-0.0010075835453063537,0.0011030156972465504,0.0035131760376445847,-0.0018037553986895315,-0.0020139063779356725,0.0024556826614766263,-0.011697452695316806,-0.0008957363301612177,-0.0023409230775979623,0.0032132775940079375,-0.004473172513534945,-0.0033798744874273686,-0.0024380403536577,-0.006330749835023234,0.003664257412816213,-0.010769126816986524,-0.003559545051536724,-0.00037210689236031344,-0.002942017194980877,0.002478660127333115,-0.00036467591325226956,0.00015694776781498065,0.0008400579989576474,0.0015934238372499443,-0.0003035139009347161,-0.006687598295924199,-0.008711590190817308,0.0021024785488970646,-0.003155524744555096,0.0020788504040097373,0.0070200172135185535,-0.004510682083041477,-0.0023218861560619485,0.0008891075379139072,-0.00217791159391197,-0.0008789590256297182,-0.0001342677471774513,-5.9622950231793905e-05,-0.005128395190884203,-0.0016106784834916553,-0.0038962020551503336,-0.0020388748261177623,-0.002802127186165086,-0.0005477956295202045,0.0005592721048093411,-0.008357347753402617,-0.001166971321582064,-0.002960170548736181,-0.007047218938079356,0.0006829144004403525,0.003535816948739591,-0.005401360731456954,0.0005995765567824479,0.009999022426866207,0.009450857428810458,0.0019480173660236572,0.00024628239781460093,-0.00014594386485619108,-0.0032984629681782137,-0.00430612938419219,-0.0018654839600785614,-0.007571206858396746,0.00916758861754291,0.0007352787631885284,-0.0008404207851750294,-0.0020814784905167382,0.010907938879828456,-0.0039034661967843947,-0.0076047930028182885,0.00037959134596515646,0.001194638956767582,-0.0011843978294326914,-0.0022376608177555484,-0.0012667087045009266,-0.004316460019857229,-0.00302250677655828,-0.001532627400886255,0.00155884031593207,0.0032631549698777266,-0.0012346937938421492,-0.00028041856154243744,-0.0008255043633903421,-0.001815513809006206,-0.0004875969679636427,-0.0025034316496661876,-0.007103549893773381,-0.004515217896749933,0.0011902613183398458,-0.0017655446920474178,0.0006498579850464152,0.005598141207181308,-0.0017028962251308855,-0.0021155312467928938,0.00027977097623423563,0.00011820146944684518,0.05176023387815462,-0.0005844557080792727,0.0023064926435290268,0.0003006155862183943,-0.03718205461392641,-0.0091840384199982,-0.0011836931205425887,0.007848012592643288,-0.0020672176296060454,0.0013657615755740186,-0.004395576477964456,-0.0035298118487547387,-0.00041990179808877007,-0.0010533721593628434,-0.0004699881209080784,-0.00030700634966515997,-0.0009541647964463895,-0.000688233208465976,-0.005087617023750122,-0.008074248385880306,-0.001653984902038572,-0.01760944590500915,0.0008929157775659011,1.2737007752895138e-05,-0.006326626264275461,-0.006640365872497782,-0.007392248216128071,-0.0012027460452790708,0.06496727087038397,-0.002577206131772984,-0.0005053660199776589,-0.0012022227005900464,-0.003233380823033573,0.001161677124648484,0.00016447460657382796,-0.005499317757445758,0.0007857332589897979,-0.00876626274121259,-0.007580512234086596,-0.0005922310782216485,-0.0006932104231091561,0.0012870045354727942,0.00031502074279058946,0.0017532458818366112,0.002636120587755814,-0.0022270247072557476,0.0008668840274073975,0.0019359979983095898,0.0013998415178330512,-0.007604886205215144,0.00014082713764601308,-0.0010926615373854948,-0.001210094840374591,-0.0002249614561290947,-0.0006354141073939288,0.032075815546831275,-0.0005932442721619373,-0.0001947043515101785,-0.0009914926366818204,0.0019959453307804224,0.06911319899670737,-0.0005788182379117705,0.00043670388636941584,-0.0009053399665758436,0.013208939264582572,-0.002130261172062766,0.0007746402286896576,-0.0023863933214961002,0.001758650317052886,-0.011445263215217587,4.777366688137833e-05,-0.006834281841187336,0.0009074995544648285,-0.002786900301727986,0.0017138293639688115,0.0006240146742586502,0.0005513064059696416,-0.0012362477622289629,7.219621776122318e-05,-0.002261267484475044,0.0017657382371050587,-0.0011693144250886206,0.0007363220327734099,-0.0009335583335879461,0.0029998581851052213,-0.0014023365768870157,-0.006089789644193585,-0.0006668600538720673,0.0007784404834132121,-0.010761184913563739,-0.007318976671191495,-0.002471206354769007,-0.0009196938147296655,-0.007890205125548982,-7.652961114098637e-05,-0.002597563929109742,0.00073959882237901,-0.0005072558406249485,-0.001682699086099424,-8.225863156983194e-05,-0.016749131425433838,-0.010112136463585327,-0.0026063770342336138,0.0028981546534299473,-0.0012076158235790298,-0.003869402308812612,-0.005023840534149563,-0.0030452200208196103,-0.000113572896901855,-0.008984870292786553,-0.0020023885902548935,-0.0021979981514539124,0.00639665560365639,-0.007559916032229826,-0.0065513677166089196,-0.0013825999802551065,-7.3982239299161945e-06,-0.0032746222238235283,0.0016553621997743245,0.0005662107886448306,-0.0024244108873097085,0.006876439366621462,0.003481369698568663,0.00021740311520419549,0.008713352490798234,-0.010116475455292774,0.000523028240489405,0.0038338619313041163,0.005887658129701883,-0.001412422777848076,-0.0002913799592075128,0.0016932171448175253,-0.0259285831012849,-0.0021816205025154117,0.00010543243829287949,-0.0017958677276996295,0.0019206482090107755,-0.0014304694646512463,-0.0006330529289053734,-0.0008023699124510647,0.0016302131622063672,-0.01716194131682854,0.0002216706414576899,-0.0021419204031286046,-0.0021497292349116856,-0.009920955838375219,-0.0034840748549187094,-0.005435061551959725,-0.000504430416462237,0.003085328442283115,-0.006488380619260472,0.0006594886341641229,0.0023473099317737897,-0.0013165010526583385,0.0005016829025253586,-0.003206634519164028,-0.0005206033565449235,-0.011739541333481332,-0.0018082116171519735,0.0011731600565521856,0.0005754042992001978,-0.0046548142831644,0.002086089738699489,-0.003150105108190814,-0.0006371459764260985,-0.006561883362410394,-0.0012527697193802313,-0.0015347246779123223,-0.0007138177127402065,-0.006913841340234085,-0.003910424572917038,-0.0033049235423548103,0.0004621721626868467,-0.002380053297804479,-0.008109858513225831,0.0016430193887686801,0.0032691661858381123,0.0016684951190779243,-0.0027142346530415157,-0.003374806817192991,0.0036184422120059865,-0.013082836017234934,-0.00013137335654839647,-0.0005123225315930103,0.0012796682943926375,-0.012351698195254014,9.229127734006846e-06,-0.0023104633987411295,-0.027275626024820806,-0.0008481596285766622,0.0007809342863242605,-0.001861573307039594,-0.0010876296319332907,-0.001696290976082822,0.001217758232407117,0.00044348552362614356,0.0011882571141120313,-0.0022820715269445137,-0.003363650533880903,-0.001768993509388358,-0.0024389034495192886,-0.002699590768030761,-0.001239430652125089,-0.000317400843636258,-0.003993436375273146,-0.000398048070051354,0.0005855141863659604,0.004607074978004169,0.0029525124574071907,-0.0015927370573652158,-0.00039338776366732917,-0.0029106246044962136,-0.000622489004615129,-0.0013839736500364497,0.00023057197611913983,-0.0024997590812883236,0.00360391833353258,-0.0027219754340267223,-0.00035603915167241903,0.0006231790990444623,0.001723595928374163,-0.006019776681321162,3.397511060338027e-05,-0.00017758856457383046,-0.021204780562368523,0.0003057469065840193,0.001313118284748602,-0.0016544907755638386,-0.0008861359568261821,-0.00113486608107893,-0.00035583246414395856,0.0022361830987104136,-0.00047126259405276885,-0.002140808407419845,-0.004509085044746589,-0.004003148455394118,-0.0021994778024990516,0.012528751027991973,-0.003916001490127803,-5.186961928338006e-05,0.005061631608588312,0.016969319785133576,0.00023030432660754545,-0.0015966048832535547,-0.00170736563845228,-0.003518677814107912,-0.0004775334150526773,-0.001559999578824918,-0.0010510761580350353,-0.00897578831481487,-0.00095425260036871,-0.0009265285264604071,0.0007907975562857467,-0.0051853757712371365,0.0012610488610173937,-0.0014852442261892246,-0.0012473904515155803,-0.00048247649125682826,0.0009676680636397623,-9.645864544056177e-05,-0.00029811552463268387,0.0006926264256273269,-0.004597408134442385,-0.008168658837058494,-0.0019248852872773218,-0.0025780904285416188,0.00027234334625552054,-0.014454648076456581,0.0010527790678801986,-0.003266080262605872,-0.0011647448381290873,0.0017123876324802024,0.0035122561668741925,-0.002194660128716112,-0.003330818388873501,-0.002069771674994592,-0.002271123070615405,-0.0011097905985312346,-0.0020061592748909164,-0.003920736841359865,0.0009050500907669543,-0.005286449254457238,-0.0002834630293630625,0.0005305011502449462,0.002417980790262663,-0.0032664687285790662,-0.0018988443171824773,0.00239604208605113,-0.0011127311120819547,-0.0024092444492800616,0.0005959592129787514,-0.0004052704243323174,-0.0035451986693958494,-0.003633692200219684,0.0005278659570274886,0.0024000946074612044,0.004654389187967431,-0.007781305351380215,-0.0004702356886840872,0.0006891780177465268,0.0019893443686670423,-0.0008350404343861346,0.002857471312626574,-0.00023649510568688647,-0.0019498548085889543,0.0007297739293743963,0.0018401253698824204,-0.0032391690167823785,0.001580525999490347,-0.0016707159818327684,0.0012789735495673054,-0.00023596419115371126,0.0022797827470007605,-0.0009284254877476818,8.514806591302973e-05,0.003381102846439185,0.003863136917994641,-0.00021909191064217612,-0.00231379909401441,-0.0005407476223895357,0.001648267066961605,-0.0010716448450403624,-0.00374813269886943,-0.00157420358263357,0.0019538497104965237,-0.0011187021378879722,0.000643803791069477,-0.0029985141217747564,-0.0011314782019265087,-0.0012367713417572902,-0.0008417119034299843,0.0006626790439463852,-0.00031189675339561194,-0.0062820858029212934,-0.0010735277195863793,0.0012104102516631403,0.0004162128283264494,-0.00045758929232019057,-0.00044923999577217596,0.001973205369699039,0.0012434772476508959,-0.009086126118985726,0.0011103170488638667,-0.000658325356527581,-0.0009921002415955115,0.0003921410864350432,-0.0006966276733756292,-0.002844608123311301,0.00770799109851638,0.00044459752905700196,0.0003963229099029153,-0.002038841996654374,-0.0012129026759464953,-0.0010029116308756885,0.0009045968944683926,-0.0006504171011218943,-0.0007292828330790045,-0.0008092736288534285,0.002926796086927634,1.8166785677516253e-05,-0.0016556253662865167,-0.0006436476683676589,-0.00011083365095861698,0.0030194968474315746,-0.0002873373619428759,-0.0013611928900439604,-0.0003175243707683829,-0.0038941238190158206,-0.004495694552800529,-0.0005380980217256937,-0.0004956080021264035,-0.0016236645962761024,0.00014681199890069613,-0.0010511599278371433,-0.001589089925959969,0.0001074517425032587,0.00217891175945323,-0.00046012395148846305,0.00013339076283651433,0.00012057333921361996,0.00205585837279126,-0.002641711714423445,-0.0011499407643230423,-0.0006704926642469978,-0.0016717065954436382,-0.000550405211340392,-0.0012404108639888368,0.002488574616054742,0.0016170234472470018,-0.0009230740917033541,-0.001733646411935891,0.0016688423085856358,-0.0011669300468360678,-0.001001815036917623,-0.0040112562883801856,-0.002199613750502027,-0.000424327102182163,-0.0014612551351801547,-0.002587196498725919,-0.0022481267360954394,-1.3085746724899282e-05,-0.0011366278169125134,-0.003936637594891373,-0.0008181145630874931,-0.00030208641979205455,-0.0014352872339215312,-0.0005221547260076733,-0.0006055526852891396,0.00014289470930931784,-0.0005368600445776391,0.0004728033351843539,-0.0012871247623169634,0.00030583800371086474,0.0020334675858977346,0.001482804089522244,-0.002014176088667765,0.0003045524372577302,-0.000972931482516147,-0.0011126185935056074,-0.0020014055551905276,-0.0029400651125243748,-0.0006003801625262673,0.0014266648862980094,-0.002763288357012789,-0.0014128567338393106,-0.0008298438328417248,-0.0005125949286037905,0.0018017148844293785,-0.0012260281764656206,-0.000647804116556408,-0.0010412484418010225,0.0002706782987459996,-0.0003631192246589626,0.0018598686803708048,-0.0017550279743183174,-0.0004805334919673438,-0.0007025170855427411,-0.0008425514375880895,0.0018713405668332895,-0.002144087552684214,-0.0009850376428137356,-0.00034608943519235204,-0.000857902349630917,0.00032818181776297104,-0.0006138003096678779,-0.0007488413749513983,-0.002236008998642733,4.085537734166146e-05,-0.001022167404915624,-0.0014370863389376026,-0.0016217829965896437,0.0007848063825240417,-0.0016052071262384103,-0.0010089142411025321,-0.0002527659276449701,-0.002670076000013634,-0.001722919388847,-0.0027951062486118094,-0.0009017472210873979,-0.0018808124429914334,-0.0005148440649759126,-0.0014202868425823275,-0.0009017990630852177,-0.0017453773527628916,0.0007629096464151223,-0.001391919443283579,-0.0013598970550733342,-0.0034503857756544736,0.00023804504520545395,0.0015385541149647672,0.0006408206323565998,-0.0024915659556694336,0.0032417293467447966,-0.0017502087740142835,0.0014597543651674158,0.00378499149256011,0.0031931142171064786,-0.0014554425679100382,-0.004024796987873754,-0.0031935583414052114,0.007026334705859078,0.0011599598637406024,-0.0007941921728281939,-9.58523509457423e-06,-0.0009063000156519908,-0.0012830158739089933,-0.0020717122618344533,-0.0003274173472176109,-0.0007613892682113661,-0.0013959529405234193,0.001512568195444694,-0.00177639107167469,0.001799511145600146,-0.0003749689152548044,-0.0004318777392959788,-0.0016435818193837677,0.0002736493448228803,-0.0008954863508171984,-0.0011746744435333885,0.0024413500098737963,-0.0005697497804535366,-0.0022197745497656335,-0.0012633619407851784,-0.00018294265133913566,0.0026811847984116247,-0.0007702637988742796,0.00043285933498981357,-0.0018146966132728682,-0.0004116815692434784,-0.0008645371448917215,-0.00018149980717175078,0.0016395376165073978,0.003291574188273511,-0.0007791690757135691,-0.001083590760350453,-5.612406410352131e-05,0.0009872296696609407,-0.001051885665560708,0.001761164681514857,-2.1664810258302118e-05,0.0016397813792689943,0.00038121829369729213,-0.0005623377027872296,-0.0015688348160019,-0.0011180480741217675,0.00564641808611463,-0.0010003025866139271,-0.00025576833847077655,-0.0031708610531623557,-0.0017694683731119929,0.0034783920012083636,0.0006287067953635457,0.0009530174618344113,-0.0008136431340539674,0.0010867255624143312,-0.0005105631728475565,-0.0016589067715240707,0.0015055294262310908,0.0011611689321113059,-0.00041712721062636703,0.0011453265754200232,-0.000787814132899015,-0.000567120264224361,-0.00019361553330784586,-0.0005991001953775214,-0.0007842316217069241,0.0024863223938015057,-0.0013008600353282408,0.0012747041712645136,-0.0013717739368166908,-0.000812603506332769,0.0042626142540760715,-0.00218923159817437,-0.0026076334551899784,-0.0004985167821906658,-0.0020187316216583595,-0.01332111258574216,0.0007791441124148992,-0.0012092359359551163,-0.0002367526643014797,-0.001730013278838114,0.00043455362897003015,0.0016764585963780568,-0.0016208700950778967,-0.00018202213769588182,-0.0015229611410264386,-0.000687803918541421,0.0021925710881556286,-0.0012808866942849305,-0.001357168572794704,0.0005662050996928621,-0.0016376944684552148,-0.0006515958959070048,-0.002513735127938253,-0.0007177033167968791,0.0008104777468579025,0.0004394081083689954,0.003236238705594354,-0.0017553719279643902,-0.0006373908648276374,-0.0020291854567118035,1.9880700360003396e-05,-0.00045226251825818353,-0.0008040087373478695,0.0002730943982977581,0.001841539152307065,-0.001359314398145391,-0.0002887371716177472,9.179134678596605e-05,-0.0008630763973510297,-0.0006940315846276954,-0.000897642969417108,-0.0007830813844969469,-0.0004996853213448761,0.001064004138482779,0.0010823702803065306,0.0007931634999307457,-0.000771528635716194,-0.0011601648705193163,-0.00043503565943369164,0.0042509738836139475,0.0024433205348012776,0.001310417045514593,-0.0010293075609012266,-0.0008560667539901592,0.0006555147713265645,0.0007103821204847692,-0.0006929292909913685,-0.0018855504793917933,-0.00046256070487041143,-0.0008609158142624721,0.0026458900676197853,-0.002111136750606786,5.879381714405177e-07,0.0005012189387890945,0.001842569446973279,-0.0012979571055063543,0.00018582018451638303,-0.0008318438671923253,0.00043573218204404486,0.0011256821386421074,-0.0020112732817122317,-0.001935970094947952,-0.0019609859472047614,-0.00018634578161978618,0.0003063749044942036,-0.0010776815076756572,-0.0025516620004099808,-0.0007731387967196709,0.0007709137935375645,0.0004658946666859549,0.0003195591292710014,0.00013344286599150393,-0.0023314372855981324,-0.0022851330524005717,-0.0018054377405142348,-0.0013962503681975453,9.323561712822138e-05,-0.0017471335219498855,-0.002352620831637088,0.00313283376592516,-0.0003797134434372144,-0.0005368692987817628,-0.002731756616874036,-0.0011233685715741435,-0.000324498273689516,-0.0004839274457599991,8.977697758703269e-05,0.0015195771483155589,-0.0001188203709425417,2.390496979635808e-05,-0.001279088025933041,0.004222486861764143,0.0025001529069844444,-0.0005140167639593369,0.001401706109853267,-0.001945612475938893,-0.00013596863297925157,-0.0013266799785710429,-0.002008432534550378,-0.0003082578926247175,-0.0022993943182093757,-0.0023431139715483947,0.000168658643640944,0.00041244541195777133,-0.002193078215256699,-0.0005387174043743635,-0.0005915620733448833,-0.00012075687378927917,0.0001252993658932424,-0.0008500530696512345,-0.0007701008944550905,-0.0011089218659872582,-0.002036596480122427,-0.0008951421020984271,-0.000288715215830407,-0.0002543789355403034,0.0011350353152115712,-0.0023655071416761172,-0.002178980192789952,-0.0016040983973670225,0.0019400783423227047,-0.001076152546587102,-0.0013324110200510766,-0.0002344350374708077,-0.0024577325409321235,6.380226312687345e-05,0.0017273465721318946,0.00024217774706341552,-0.001619612635580701,-0.0019974884528175876,-0.0009398900364744881,-5.3271622541306265e-05,-0.0017999925225094045,-0.0009717171950926676,-0.0004497079399561499,0.0010603232678014288,0.0014602125204287292,0.0004370128541614549,0.0005446062781843935,-0.00021263519055615595,0.0007963433428150076,-1.5385376185543344e-05,0.0015963481415284173,-0.0005825312573342256,-0.00048635996306899647,0.00013681693475649917,0.0005311060413975349,-0.0007952405232777694,-0.0011504337879726502,-0.0004909326258018108,-0.0013092823291769083,-1.5820833733778774e-05,-0.0009326268728363352,0.00013942252927644293,0.0006662829451732428,-0.00044389354319730354,0.00029863857686375966,-0.0003324796931609581,0.0007873213308929041,-0.0002724840032659997,-0.001841388871047603,-0.0007466244295671941,0.0005486761393028281,-0.001282717533338658,-0.0012942347585708875,-0.0029196365360727623,-1.115371076356158e-05,-7.194460356588086e-05,-7.621091139110071e-05,-0.00014187242966985937,-0.0018878160139069956,-0.0022215788281965483,-0.00129035760544807,-0.0007034184331371053,-0.0009904579731952138,0.0002858603100900285,-0.00026079712236900285,-0.0019329111136604912,-0.0010075132008744868,-0.0002081193750195003,-0.00036078018228774376,-0.0007810522287388292,-5.1973574496561595e-05,-0.0009932150469127029,-0.001641554293679485,-0.0021876650228236914,0.0008972924439531563,-0.00020077240866435664,-0.001311444048654324,-0.001163261519547306,-0.000666108714448154,-0.0006351597843249731,-0.0012039920814463857,-0.00136522637933006,-0.00031489916402189404,-0.00031877400115356267,-0.0007696829254923284,-0.001991317178802613,-0.0007489073798494228,-1.2213729758398743e-05,-0.0015453852501810057,-0.0024329611708781202,-0.0038479659739098443,-0.0013393975890699363,-0.0013291020871471254,-0.0024331192652542995,2.588672749072054e-05,0.00017982943402324107,-0.0011611801351330624,-0.0015506278168118382,-0.0009988315907296424,0.00029924844615319046,-0.001468269713033625,-0.0020915748796474618,-0.0023311499662681087,-0.0013410736574558384,-0.0013084914123044134,-0.0020074362989477143,0.00013504438184627852,-0.00114447003080574,-0.0014906885542186766,-0.001983879297894683,-0.0027513080755942913,-0.0008473240278161558,-0.000816647074865789,-0.0011344590323821865,-0.001022421937890226,-0.0021771186163811575,-0.0011591617775927345,-0.00035591438597898915,-0.0009921272065981487,-0.0009807266184226802,-0.0020717439653715163,-0.0008234420757407291,-0.0015217975076196168,-0.00026533344493363505,-0.0018509351599827473,-0.0012199374443884043,-0.0009474031023248985,-0.0010792181024887125,-0.0009499180596617289,-0.00139767689054463,-0.002290952827349019,3.7958559678844006e-05,-0.0013203684030576371,-0.0015129523049495946,-0.000594264701303147,-0.00041741326103978326,-0.001201964721278138,-0.0016972827170770156,-0.002012140477427112,-0.001066346463852642,-0.0012584955963360425,-0.0010076454083761865,-0.0010894487272910525,-0.0013157937733155693,-0.001157761456173014,-0.000888959836378553,-0.0009073310280476017,-0.0014212943781487016,-0.0013104571824262507,-0.0009520552063540093,-0.0018486631736380887,-0.0007985720073149763,-0.0013064456983767367,-0.0010234747946984857,-0.00048139378959926666,-0.00017192841603967218,-0.0013141607318229035,-0.0010179665196395815,-0.00099813650627502,-0.0008029627622411903,-0.0015281772862296725,-0.0010866833702123013,-0.001039648082362886,-0.0014630359413805227,-0.0015123333850424246,-0.0019446134978130182,-0.0026380551902341846,-0.001162541624999335,-0.0011875327554080612,-0.0011281392248600182,-0.001007863340410323,-0.0009309651376674794,-0.0013660359331937862,-0.0007242890531970241,-0.0014988752838177334,-0.0008150194390087262,-0.001222235817087999,-3.762102177784064e-05,-0.0013339227224980002,-0.001267823613658093,-0.001222783593221868,-0.0017329819107434266,-0.0020391098490056066,-0.001478756134681141,-0.0013745850601301088,-0.0012870092613014477,-0.0017418360788207159,-0.0017113354079982734,-0.0009885194537487241,-0.0007954556451396662,-0.0010791055885171178,-0.00188127592219916,-0.0011167662193870677,-0.0012618972364804167,-0.0007343447412515199,-0.0015013215185285553,-0.0018497343219955346,-0.0006333504594560092,-0.0007375745409815761,-0.0010750227064048172,-0.0013111128909838467,-0.0012416213040143185,-0.0017271596585106354,0.00020103164666056,-0.001364302609262211,-0.0009945644345458352,-0.0013107560132436529,-0.0009923561859968436,-0.001439266668123061,-0.0009103405630007129,-0.001744370768055182,-0.0007759618686985789,-0.0011517375316149436,-0.0018365851180999076,-0.0011345659544653667,-0.0009724044085910167,-0.0019435723732856927,-0.0006853593129223462,-0.0011949906431583653,-0.0005568435459315507,-0.0008937732061445738,-0.0014103384384365149,-0.0014914627619024166,-0.0007436352638655358,-0.0014622048119222045,-0.000887773199361024,-0.0015123353180566139,-0.00088047039724817,-0.00098203929834635,-0.0012237692495315497,-0.0008718833289331364,-0.0011449443885728167,-0.0014209384617000212,-0.0011993378906402662,-0.0008503833416032602,-0.0009466323503790444,-0.0009521609007452471,-0.001016347354413319,-0.0006645306990001623,-0.001063403338455999,-0.0011416076230862245,-0.0011095008627653702,-0.0010054534249280805,-0.0006339054913656353,-0.0006670367611857791,-0.001233933437565899,-0.001011685342744479,-0.0009023200273664517,-0.0012978242253754897,-0.0012161304689828495,-0.001139129575423199,-0.0010805542192564763,-0.0012891019439968063,-0.0013144815138819341,-0.0010290043119134714,-0.0009894770834959826,-0.0012776040890624199,-0.0011628042286589329,-0.001070836117529372,-0.0008309255643312683,-0.0009341365891406671,-0.0009678719620171405,-0.0006679284041377171,-0.00031547742048184757,-0.002909105447719677,-0.0011801916587764307,-0.0017363228251496667,0.0004054895824168147,-0.001297128292831377,-0.0012655100367163195,-0.0008108895149801012,-0.0010560274858362043,-0.0007352066146618165,-0.00087056463370327,-0.0002015982624740357,-0.00028993581193060295,-0.0015631426229609753,-0.0013407370704363148,-0.0011626443803351837,-0.0013787705835681615,-0.0003955924272699177,-0.00040078758594273384,-0.0002703469171155918,-0.0010365732966820763,-0.0015181262328435214,-0.0010778879588095908,-0.001085513383485559,-8.857124023725185e-05,-0.001742489453573271,-0.000844296624781101,-0.0032104135105632107,-0.001137983284976726,-0.0012385237855145172,-0.0008083345634116407,-0.0007507296381792049,-0.0009813134712996546,-0.0013638770814655519,-0.0012577570045008333,-0.004928420325122545,-0.0014072967978559618,-0.0011388572010280007,-0.00039935619737625295,-0.00037425924796730695,-0.00044066704826190234,-0.001780955650551873,-0.0008674703135072454,-0.0005097273742154713,-0.0009410873180719817,-0.0015753411525363439,-0.0009575421173000907,-0.00033883043879054945,-0.0005881319565955749,-0.001727636366669769,-0.0012927063027902844,-0.00045170783875551077,-0.0005787601506890028,0.00024105910550048927,-0.0007747423741023435,-0.0016863046792969449,-0.0014623584241244534,-0.0013491642580472387,-0.0009860110492672812,-0.0033521469459674236,-0.0010280758796782775,-0.0020408487615343395,-0.0003632723217556881,-0.0008584159503223866,-0.0005935511187973607,-0.0008138798049538539,-0.0011810739197897643,-0.0018128442691769148,-0.0015877722243225446,-0.0010400614387526947,-0.0009092848813205174,-8.645285315780809e-05,-0.0002166475788352707,-0.0014294657304240806,-0.0015551447267722618,-0.003555108951699688,-0.001292552946226381,-0.0006769673235131128,-0.0008819124239259063,-0.0009115979949758713,-0.0011555862092092605,-0.0015125295420891746,-0.00038223529668941585,-0.00041166010179485363,-0.0015883187116989795,-0.0008857137950753761,-0.001456289818440153,-0.0005475470468369382,-0.0014295833053647633,-0.0004496732311499453,-0.0011441778666328936,-0.0005141450660759056,-0.001128527707242304,-0.0006398735818512695,-0.0009272063421785442,-0.0010176802276324944,-0.0012972176225916766,-0.0013742884966388132,-0.0011658460087036599,-0.0010228631444632336,-0.0005154781540147022,-0.0015070047516139746,-0.0008700199736039145,-0.0014907381619756928,-0.0013137231176977152,-0.0012164498736158267,-0.001209310680833917,-0.0010696696107907063,-0.001079600067218884,-0.0009221917548053638,-0.0010673905663520986,-0.0007575184066653376,-0.0013494969617408477,-0.0018858839869495025,-0.0006798089881409501,-0.0014883296777375816,-0.0012007048049027112,-0.0011548901878308958,-0.0008138220738670173,-0.0010333290285751608,-0.0013814442138760583,-0.0017576628271007177,-0.0008827977066306493,-0.0005997332054839079,-0.0009245836399176655,-0.0009869662341499743,-0.0008736653779235789,-0.0013030375826024387,-0.0009550158119251075,-0.0012966209259803988,-0.00079622441828856,-0.0014435179876033934,-0.0011613207456858822,-0.0006038601626454871,-0.0007232499808357189,-0.00028656215756521394,-0.0010360573281791314,-0.0012944200912530207,-0.0009304587767702214,-0.0004987873187933,-0.0007484970240578708,-0.0007042501105750383,-0.0009484189319232998,-0.0007569782759273898,-0.0007887464681399061,-0.0005623126800915426,-0.0007813544753236327,-0.0007657745768459913,-0.0008388948044567286,-0.0009082039782033499,-0.0009058579960158718,-0.0006685981309448114,-0.0007664700316695333,-0.0012622679217866115,-0.0010216871043832033,-0.0009528766293915637,-0.0011116293778276895,-0.0005203942406875107,-0.0009920467907374077,-0.0011541916676347734,-0.0016477562370319674,-0.0009931126762438335,-0.001400753610779541,-0.0034547430944132096,-0.0004806293633741279,-0.0011713418711245026,-0.0008181104310398997,-0.0012622818733605845,-0.0014347160138269046,-0.0003225471903164503,-0.0011618352327972372,-0.0006954168016863208,-0.0008060510095559885,-0.0010526240519061457,-0.0008697390864512797,-0.0016524886070258577,-0.0007037969602793128,-0.0004007372574640108,-0.0009179129622527405,-0.0010330743133343135,-0.0012194375643233073,-0.0012340152252503175,-0.0011682117008722547,-0.0009471821671305485,-0.0006798696244077244,-0.0010781895320885312,-0.001003607366518642,-0.0009028067122556928,-0.0011271608991183734,-0.0010730623144091598,-0.0009644364101342604,-0.001051388054763439,-0.0006590994381485645,-0.0010366994909903043,-0.0010056664862733485,-0.0006889739973191494,-0.0003514696718256461,-0.0012158681122606864,-0.0011111747617605385,-0.0009764937937779359,-0.0009166566400944324,-0.0013928165337757001],\"xaxis\":\"x\",\"y\":[0.014936870298751114,-0.0012031803996387742,-0.002711370144678223,0.04815153829711883,-0.0014931570849644126,-0.0011469872101050895,-0.0019450979218078126,-0.03234776925693937,-0.009566454220833971,0.009323177413044623,-0.004164721752485819,-0.028556027326571046,0.0020583989930749126,0.004690173552781011,-0.005254005043929302,0.02136177643153557,-0.006818240427910608,0.008093741810874508,0.0005879413153693268,-0.02776942495140693,0.0183420405760727,-0.006457731360511131,-0.05562592135800353,-0.006435949487627903,0.016985005379881055,-0.004361007401615727,-0.009400637547856071,-0.057265329833502694,-0.028671268268220647,0.017925062676308282,-0.04821565912298474,-0.01597745558026135,0.022857883023582274,-0.004035529866411754,-0.004526988591891249,-0.007556394829214044,0.013924861119033289,-0.010753635149912379,-0.007377826790697107,-0.028216376694247126,0.011081259071673026,-0.006637217190432138,-0.018776975764596533,0.28867268451670064,0.06653664404559131,0.002895459858500263,-0.005418389341966226,-0.001756931418767087,-0.041166247539509766,-0.0015164456075806958,-0.005706685176155762,-0.015453663188828893,-0.03148206658173682,0.008050899048139035,-0.0015120403950876792,-0.05012934022763543,0.031898471866390506,-0.010017839614733279,-0.005298618924400722,-0.02703986509757498,0.014499809808287885,0.001816796752730289,-0.001694884838378057,-0.006467451932165261,0.021268574011356605,-0.0006127964110501725,-0.007662967198548921,-0.013510464885427368,0.008198226162173906,0.0012906284015521976,-0.04312929251257889,-0.03470032523012149,0.016906269120812025,-0.0009232724194158481,-0.0005722547816149178,-0.08905244500895418,0.009227969360385228,-0.0013189676941323264,-0.0007397371416678451,0.008610416065736716,0.0012555138700225624,0.018970450179208467,-0.0036144458374679,-0.0032311274909206183,0.012454530349854366,-0.031030811605801296,-1.181448976077487e-05,0.0021948716074957635,0.03936996941831183,-0.0017522970489536897,5.308416069403869e-06,-0.02129086268853449,0.01745391673512835,-0.0008697164945454885,0.0018536035551740306,-0.006470617384228246,0.04186470871053151,-0.019132719934939858,-0.03687127146295229,-0.021306122241230886,0.02996692991207967,-0.0021819083092642247,-0.015148618111200487,-0.26666035040292485,0.041617005425123324,-0.028224561791898452,-0.022461882180228224,-0.0019396904653645212,0.002294879817122382,-0.002796382381811435,-0.009858523904808073,0.005119710380210601,0.03245408857870398,-0.006057049971039256,0.011221561584060723,0.012471046178896345,0.0008527246935125603,-0.001438016429024059,0.0009873645239598457,-0.00634374687571352,0.016821730638796387,-0.0008625196856310587,-0.0012194348394720873,0.14981213890112902,0.03216091596226701,0.02164807107403672,-0.03866285265449683,0.007813552377275521,-0.0012188573435053603,0.001046200038923773,-0.03405214856817157,-0.0018858918484036618,-0.005707783849141034,-0.06398536783643824,0.0006354289085111476,0.0007136550656143463,-0.005570841957913953,-0.0018282706520640454,-0.00011027950839741034,-0.0020864832668558773,0.0214693910794281,-0.0028050645864149733,-0.0031625510969425347,0.04295540712455719,0.05706311799004775,-0.0020522510464447167,-0.008213603886952912,-0.04350840525792675,0.0099462851809464,0.003610422142799922,-0.03308020242520632,0.02733416071512434,0.020160707533285558,-0.00038866018843929003,-0.005497275010704499,0.03108299529036679,0.007545428734724981,-0.00537124331273529,-0.0024376218399642766,0.0453888593695739,0.009447731591150157,0.0010189640227891447,-0.03882883811773442,0.021306832405226492,0.006322674232540165,-0.012296686032416588,-0.021666011588986536,0.031284379601861256,-0.02255370110562308,0.003962688197102074,-0.0005093191848650243,0.05923923247411181,0.00268121820687681,-0.003294121537196528,-0.020784197521230063,-0.005965416611044926,0.0022735398903049545,0.0076271353233438345,0.0035375316016982125,0.11281814902375419,0.000918627379509141,0.009130874829565505,-0.0015938399438117632,-0.0045001662377429025,-0.016092733792848157,-0.00520731158644236,-0.019349058255904234,-0.0006502407181339673,-0.013215778641566431,-0.009576453034022459,-0.00540594623285834,0.01067103230227688,0.009092356800665918,-0.0017175195478063329,-0.005555597099563537,-0.00024650430828198434,-0.017237850646032355,0.00029296368526126107,-0.0013468393814447329,0.019137674756132,0.023541319361970185,-0.027328917086919074,-0.0037587051095117345,-0.0006893261995887693,0.02242501869300721,-0.01806632882405817,0.004443122500635497,-0.0005360307045505593,0.009518454895380168,-0.0005122303333651007,-0.016415044518261417,0.0642860824687586,0.019816376383341952,-0.0025493190946991586,-0.001892664019617467,-0.0008060533743639422,-0.003747233191247008,-0.0044783409034529174,-0.0019294768352837457,-0.0024824578859974217,0.02800677001185436,-0.0015896830346635576,0.0038321180538952184,-0.000491311535722256,0.01736248167513691,0.0009846232658559967,-0.015402043038356,0.004235650992351159,0.004751670074971478,0.0010559785432827516,-0.02643783738566069,-0.008373163789232155,0.024208707449685063,-0.0017024425065307021,-0.001664168991356816,0.03720982739764668,0.005092931604445783,-0.0021871386881235225,-0.012072879657513443,0.05252119639265512,0.03150767753997335,0.0011502459512725339,0.0012354813571123062,0.04571386771030441,0.02089118103318098,-0.010427296413546758,-0.0025568083040702952,-0.002038310160374785,0.02098586918381941,0.001180506614902144,-0.0014793194046011477,-0.010141896629421682,0.0005004731466980221,-0.003420786544378687,0.002091939003103948,-7.725168583682668e-05,-0.007463640207777544,0.0004267515079896258,-0.0017436847942657219,-0.012158455710070074,0.00406712740443165,-0.027036235609033,-0.02401207245799339,0.013459821334700793,0.010223950947650592,0.00953185594174701,-0.0175797397551248,-0.009206101828507016,0.0022484670636411003,-0.00045907546613614447,-0.027518092224734385,0.029783285228404226,0.006314996287663353,0.0014586186717929323,-0.001885085188744848,-0.0031794615310871627,-0.01952713731141955,-0.0011097949312834192,-0.06351174925416311,0.04362377391987847,0.012054308222455686,0.009354099456554289,-0.01888612177661938,-0.0007507233172173329,-0.010520654675160583,0.0012879913942367605,0.0028133496613861877,-0.005296518534171579,-0.007335143333394878,-0.0002188285996167861,-0.0008133358432083373,0.04949717904114162,0.0016956150751918826,-0.0014137600378396242,-0.008540012753043072,-0.034142779222550046,0.0004970282476992713,-0.007638609251423144,-0.0009443958833544435,0.029886746436125707,0.0030907890748549547,0.0027031352747840798,0.004642535212977143,0.04053876484445905,0.06198197183721093,0.0063238946951186875,-0.0009352661324832292,-0.0003005495240313406,0.001041427606251525,-0.021223884516397007,0.022701994892712934,0.6257846009500934,-0.0010991550028004403,-0.023287288734479317,-0.0038216172931851613,0.0008463017736011402,0.006574198503284782,-0.010126479598752776,-0.015802698829238182,-0.01858082002360328,0.003628092298605709,-0.00015983313018976336,-0.00023976715913580745,0.008296112049364465,-0.00388033700027055,7.257117594530774e-05,-0.006986066005006442,-0.03533464092338236,-0.00534447176930411,-0.0010062110489199034,-0.00354664397351658,0.047755248677248244,0.009181859301146279,0.0033092489380484183,-0.008793606956609256,0.006997474456860042,0.010280164699602296,-0.021428180491412076,-0.01995177223995955,-0.006111683515922178,0.008644937688142146,-0.028524209370004015,-0.06462308798432843,-0.0021226464343744797,-0.028089439897712433,-0.0017229451759013803,-0.004619730645562243,0.04056784507378706,0.0008887261503470048,0.00031184369069311107,-0.0015750819220498357,-0.004891980310731256,0.008504582982458639,0.006761092317435909,-0.005888161371492956,-0.006360953765616132,-0.003286920972213736,-0.0026625475715913245,-0.00564654251026671,-0.004902375624481934,-0.008594695985745523,0.001303269085874676,-0.004949184020265927,-0.004072977040268844,-0.018033728648232213,0.0007397822398824907,-0.06649709848640666,0.004591968006352782,-0.0029365331747656736,-0.021356569789834096,-0.06010902923410341,0.01618773516478546,-0.00266980126250362,-0.0034577671839632128,0.009534405903022335,0.008526584586281884,-0.004841043282971013,-0.00568447369539782,-0.05575316891088774,-0.0052654764817324055,0.0034489897887374633,-0.004901684820438176,-0.002197002403627709,0.0005136462990406223,0.013464014778228275,0.010734926696016651,-0.002490544889005824,0.00029121957398358446,0.008148976636353973,-0.0007421783647362484,-0.05953018611536328,0.01851786281553606,0.001398724841604738,-0.006972108337464922,-0.11236453443159625,-0.008550766765842321,0.0028677878812188836,0.013782539723834097,-0.008117035536831619,-0.004345809082626995,0.0012077813321397367,-0.0027895367738776304,-0.05638918729055207,-0.009856628963321774,-0.022780831691498575,-0.0018867137250495952,-0.057783964456557285,-0.00546395958744917,0.008984037785454202,0.03583546387128455,-0.018161286252846985,0.01130264121421725,-0.0063021657388085735,0.03216595412185685,-0.03543058626078744,-0.009758087422190614,-0.00998158129986112,-0.005801668677408356,-0.007709856113257648,0.014687926466665106,0.005332674973408961,-0.007432779841615841,0.02999836543758671,0.0012407194778042906,0.001727931312505907,-0.00039494219584986786,-0.00921414270397636,-0.011103961837070561,-0.003520789596825497,-0.0025826328686296596,-0.0060322143373311415,-0.0006450844887731524,0.0022597001020232153,0.0011523418428198834,-0.026081014351976833,-0.0010952600272484709,0.004955790183891355,-0.002852533894474224,-0.01499508985341827,-0.0018946322596246497,-0.002663507897018969,0.013171864916842942,-0.00193672336925528,-0.002625133606224626,0.00023847864643121843,0.0071840267176566065,-0.007618101037015405,0.013273066659833433,0.0008462007808155155,0.03274137415494908,-0.01779026653701933,-0.010639760137122057,-0.005200752887721374,-0.0039020916653322102,-0.001989513590453172,0.03603948397844014,0.008831918417606882,-0.005718699004372897,-0.0030164370702464595,-0.006660613146126744,-0.0067402335999137775,-0.005270013185083794,-0.029953326478568982,0.018598614493522254,0.00595780340716166,0.039359227879752226,-0.018792181628496808,0.010888343157870335,0.009978571847766935,0.01866115959086248,0.006480102102202494,-0.0033978641036251996,0.006812246577948997,-0.0036337554683229106,-0.008039531300221957,0.03244316572327702,-0.003125987905480986,0.016355134999468515,-0.02822818587946739,0.04520517996918404,-0.006235954819553746,0.0015635793848271286,-0.006020351365531262,0.00021203771556989147,-0.010975740722154848,0.0026558569094185793,-0.004471386398075753,-0.006798612409149505,-0.005007602116000619,0.0026848317581634434,-0.008377390599041698,-0.002981491554743869,0.009163556260448014,0.0009344718696392325,-0.0027091825799952737,-0.00740031982995657,0.019045375723102786,0.01887341458051905,0.006706162661408777,0.023903457405231105,0.010643467066644034,-0.000620910072130962,0.006964302980035469,2.9692484154847818e-05,0.0011935385572133797,-0.004127731239474453,0.0003165831972789401,-0.005035804230216252,0.009931003730700511,-0.006839842349082125,-0.0157889820562446,-0.010537611383066435,-0.00624996878380611,0.008734625660426232,-0.02508200676005213,-0.17610542479145871,-0.00740045474225577,0.007632138246312192,-0.002838373586673694,-0.15959372612147063,-0.020743945391427265,-0.0020416336504677475,-0.0021999033044092812,-0.006302095193347573,0.012452948640937643,-0.0030048501397176046,-0.006140014949994447,0.0017571460515992312,0.010200217520936396,0.00019225499554989525,0.005382485786620387,0.010823315378042056,0.01348066698010907,0.0006990594830952841,0.10108245713831449,-0.01870526610423043,-0.0035476320578094085,0.021778278199612415,-0.009403518416841315,0.0038266722271276324,-0.0015948746878129748,0.007878594982772295,-0.011028888701012212,-0.000960410416583625,-0.017261565832907656,0.0019005326094368258,-0.0001926586855729733,-5.9614193827304266e-05,0.004234407638537406,-0.04361472133285308,0.005986215909424373,-0.004624509083011734,0.0107639786315973,0.0028244792984738333,-0.016290729316071673,0.0108996323476797,-0.00022803188547390244,0.008411683666013468,-0.0009644887405488071,-0.001354633995904402,0.005339245642704767,0.009958688257500292,-0.014097709340104247,0.007203917114938068,0.021165539226633185,-0.05696771469388255,0.006937912751833054,0.028533117627688204,0.004112449876080668,0.010700461466160837,-0.001521495639894387,0.04637474995523144,-0.006852029237400245,0.08512867277281612,0.007133559060113554,0.04271259767145428,-0.006552340285718427,0.0171254913527949,-0.01965061764933847,-0.003420911312693465,-0.0021194001829250623,0.003915732293114693,-0.02068040497598048,-0.004763052863813878,0.01976877130068672,0.016622435898779864,-0.010339250835175024,0.03293473937677479,0.0069104616765944754,-0.06870419591120375,-0.0017616106798907464,-0.006131801026958429,0.008126580758836162,-0.0019401130953902463,0.008036928494266198,-0.006768823608449024,-0.007368472206346609,0.0013991213016925433,-0.006053920883617947,-0.008706463203786277,0.00612563775453439,0.015141635660231802,-0.013945641188800246,-0.0031507808758931737,0.0031640846124074487,0.003916750691494946,-0.005341982496907127,0.05156682820552709,0.0002657790737792102,-0.029706653633797743,0.006165019071127979,0.06186592993634338,0.001023506500536029,-0.06416480926288985,-0.0040279875859781196,0.051176538232215164,0.00022209372219675962,0.019484746518733314,-0.007341653455260997,0.017029353302135977,0.005401230299839988,-0.0026271206172610658,-0.0009046325580914466,-0.004346752358074668,0.03153387428015376,-0.0036806251522272064,-0.008050750105973661,-0.011523021145448925,0.009652201189218331,0.005220217496516875,-0.005750665724528776,-0.042920140943434146,0.0030479328229582724,0.0012762223848953042,0.003775541285885189,0.03274265015249848,0.03678542865986228,-0.0011210156930577208,-0.003521349909094674,0.023755244589760336,0.004288446414540353,-0.0019420333104255131,-0.006320915255991289,-0.04362278214514067,0.004515778991994648,-0.0008837894682189065,-0.0017616492164289873,-0.0206071530034669,0.003688649085793824,0.01685912785193763,-0.008803592740847787,-0.031167579229507268,0.033688524029545135,-0.002195260612370698,-0.002563411955848126,-0.011482963666538984,0.02272938232141652,-0.0038923759516264244,0.04353363557319811,-0.06603441317730735,-0.0046954949879845,0.002233989796076302,0.00466306043409353,0.007376639518114149,0.005637399588137778,0.0018191658047597714,-0.008676151088201429,-0.006301190776620129,0.002846038048313909,-0.001906976731503686,-0.003167095896143752,-0.0007963161999922301,0.004341210297926081,-0.0053566693853792785,0.006072396630974657,0.00011211633310045429,0.0018555892152934148,-0.0027500280853320117,-0.00304077376801762,0.009567283715588317,-0.0030357350465381855,0.017231543118146078,-0.004254405276526891,0.032122827440321314,0.0022431835856735523,0.002134340808993815,-0.00494139175418502,0.03381966867742999,0.01622687450961194,0.013683563790069493,-0.006517060927695568,-0.011175749698464568,0.003946254951320886,-0.003991336446576619,-0.010675741097874355,0.00529969803142704,-0.004149575954863588,0.0037622599625051606,-0.0073990633109072244,-0.003868006650309186,-0.009863485798148264,0.005582474618794207,-0.0031112267432639364,-0.004831781458069584,-0.013345477597043373,0.018486559715865384,-0.003814979570577519,-0.015841622190415645,-0.002451910146594546,0.01623466008718601,-0.009816502486143186,-0.017514086378622108,0.01757912113862385,-0.0029087875076177477,-0.011414412689079148,0.0031446745216929368,-0.00242845850825886,0.0024761495937576897,-0.010018493587324083,0.0009527228038383994,0.0061283313788421355,0.008589011464915051,-0.012162512331118557,0.003481802144218598,-0.0003262198636670525,0.0011965982240669062,-0.0035439905931470617,0.01315417366626853,-0.0015753082428199088,0.0014452743229857422,-0.0001066551297632327,-0.03889756682442985,-0.016789431256232383,0.0028834706698555625,0.003952266537735532,-0.004894216693692613,-0.0052598352044315915,-0.0017438510613878731,-0.008612031907234205,-0.0006309300965435838,-0.008957116492333345,-0.012561662940168992,-0.01006515188514544,0.011121561118823686,0.00016989528727749317,-0.0030874118095606667,-0.009622287339548173,0.006859707969092006,-0.0024526219975922643,0.0006491092896347901,-0.000788578117561269,0.004707143685056661,-0.007717004636329455,-0.003292583245707192,-0.008959588222474793,0.010903572174120066,0.0033427375120110756,0.027915430665525036,-0.008139669614060367,-0.02222661072793242,0.005674670281233211,0.001156655289020941,-0.0036041767834803415,0.004410493941558799,0.004668074632531832,-0.003108786620362404,-0.019519274514861608,0.0006884566219959132,-0.002816868726331818,0.017733697888475786,-0.00021697438315336704,-0.018611786407688777,0.0020896277553174806,-0.002543432010604541,-0.003338884176755737,0.006854159875990133,0.02582796173292975,0.0038602313999005736,-0.004066377134407502,0.0023078143849598835,0.005913415796768665,0.006312740136155185,-0.007891607911964384,0.008504336063639248,0.0074579006622635235,0.021029870066768555,-0.005412593072520683,0.0007536884011933669,-0.008157482155778927,0.017423785732775275,-0.01134070624284777,0.002435148098814537,-0.003266233572291713,-0.0015368231486884865,-0.006274186698272779,0.003678790107208664,0.006580328134300151,-0.0006909144130032571,0.002300697866718342,-0.00011309827323350885,-0.0026429091662845566,0.00356887411604098,-0.010806173088035366,0.0022705893750575973,-0.005631361197063428,-0.0013388745873840766,-0.008454923894248992,0.010249357870922198,-0.001337185456987108,-0.0019535879223395464,0.00393955659993178,-0.015826762875260802,-0.003952492206247081,-0.0011793546595809772,-0.017715073345868092,-0.007437251181702567,0.006576862675127581,0.00798563187837904,-0.017275584006611677,0.0185439673031039,0.002881791663834701,-0.026285086825324912,-0.019801650510465826,0.0016011751772998977,-0.007807204989164396,0.022624939609234132,-0.003435601747826393,0.003686374280874966,-0.005766212337143744,-0.001612579837111324,-0.014354815282502037,0.0041805314830769946,0.001366768934447064,-0.0014443288639530154,-0.017622814636429073,0.011781973029016946,0.0030816864895598602,0.020666815052246944,-0.012483648044504247,0.0018665893289273533,-0.0012328630649572146,-0.00015179924774901243,0.001128003648964747,-0.014879355833749617,-0.0027177672489728435,-0.002071062156759324,-0.01529117954148501,0.007431109255287206,0.017351732438181645,-0.0009620507412628583,-0.015834840247601747,-0.013591459234309933,-0.0010268051530221702,-0.0038490415284029044,0.0021000982800627424,0.006859080903261735,-0.0024589969283182966,0.005587298763913964,-0.0006693436855242232,0.019018046381720506,0.00025662769440000386,0.008871037419149715,0.006654282839800121,-0.001332262684217081,-0.0003350959345728484,0.0006020725921948235,-0.0019767476019672213,0.0030381407040393693,-0.004188948506354831,0.005094360704878017,-0.0005703452011758111,0.0034346877616171618,0.00821315033825914,0.004289510654269234,0.0025242181614587183,0.007969333222830641,0.01092767874087177,-0.0025461096380285527,-0.0074893764136312125,0.008073696036329353,-0.0010276279883173845,0.00225504822895895,-0.017495995517481662,0.018510919359280575,-0.00182204700393555,0.006751380344455253,9.393680932926125e-05,0.010186670129920637,0.0026031833598109694,-0.0014296913523152573,-0.0005953608200215743,0.04356490523244164,0.0020486861963383137,-0.0038062060694829657,-0.0024353460799571274,0.014239758869089484,0.0038989833814152986,-0.001060586256594807,-0.011524429838551625,0.006202046512055626,0.00047540804591583496,-0.02272467142256101,-0.00263252948233825,0.01812907660392162,0.0010244739574254106,0.0016112945822695183,-0.009278960794953946,0.018712488901834433,0.02177895528112729,0.0016728157985456177,0.0033378697252508336,-0.00822281945083896,-0.007519074233637864,-0.003480137845074315,0.0028689524956402963,-0.010133044122970633,0.0013669667044275515,-0.0011537764197642184,-0.004579949252000086,0.03523332987846369,0.00595224742628288,-0.002814667182491751,-0.0016080712704796799,0.011375706812491837,-0.001868813627547792,-1.586068717389594e-05,0.004086982852720081,0.029401008217889407,-0.001300762318900223,-0.003914544883445247,-0.0037284016601889835,0.00988544550428447,0.0058732101736750884,-0.001572500000053448,-0.0014455925639135225,-0.001277550870897351,0.0007200989817536715,-0.003045147846737299,-0.010826728480825458,0.01966880961538358,-0.004610378882715498,-0.0010987088162500113,-0.00424226592968298,0.011895541341755883,0.006497470209846357,0.0002891438086270306,-0.009904749407162962,0.02349691629305054,-0.002232035978847777,-0.0024943453736150658,-0.0017050731317732157,0.004910224427000473,-0.001854551463038172,-0.0024647956172202767,0.005796482332458065,-0.004774997081478631,0.0049867024845248915,0.02672909333328414,0.004778240249594832,0.006777621583678145,0.008155212920625972,-0.0007116292346786857,-0.0027129226677772775,0.017241070768815592,0.011057644831521758,1.2495434675561124e-05,-0.00412858736643072,0.008918169557161284,-0.0032141137759885362,0.0009024699010675643,-0.004628846846985825,0.0033269365769134853,0.01097841962006129,-0.0010756901482244783,-0.006183218574818959,-0.007728187855153808,-0.0018908859108087307,-0.002665726002629009,-0.00744346798478737,0.004721398535101301,0.010092667023803247,-0.002256527728437359,-0.010774636208408616,0.026824983741271822,-0.0017313465426776439,-0.0015428783896897494,-0.00420485241068518,-0.002280292209793519,0.00013988805645466664,0.005540729611778043,-0.0101954534075697,0.02314289124688852,-0.0033739862744452914,0.01206047486354401,0.002263158188734181,0.018201300105453632,-0.0041507879184270995,-0.0015282135423392495,-0.0039976396822509405,-0.001234652393069039,-0.0034514574752740603,-0.003518651147151835,-0.00804317050772075,0.010521246543358554,0.003000130669621922,-0.0031432778235327983,-0.0038052160893109564,-0.0023882986979293945,-0.003384332609972133,0.004124084039345642,-0.03211788970052377,0.02225030773003863,-0.0054094943588021156,0.0004300359840666175,-0.002619027554420951,-0.007168838228499017,-0.0009872623207951787,-0.004593065485013143,-0.007363639654837974,0.021227281485256874,-0.0032140113910652667,0.003389350129639671,-0.009429940858064575,0.024868699929818237,-0.0016855497251543118,-0.0001315556183747095,-0.006112735385990029,0.030290373345625343,-0.0007016470402778102,-0.0029459238305140543,0.00506842023732587,0.011532798658499753,-0.022110658037519538,-0.003333937376127728,-0.0054251962530516545,0.006516326620050996,-0.0036621749418793348,-0.0031718978624266335,-0.006630062025118167,-0.009017006804691814,-0.002463717834391269,-0.0020088079781351246,0.005406251417077396,0.015419520833891736,-0.003803206141572527,0.001349627386588801,-0.007647848121186313,0.005145994955182951,-0.0005138153525994996,-0.0005206138570626455,-0.008047347052973277,0.00015496922351243127,-0.005994589961984702,-0.0010882242075748278,-0.012590217532681535,0.010795502867339121,-0.0007258033138489933,-0.0015753970551930089,0.0024720133156428945,0.010525565743527742,-0.002755608636372789,0.005215114576726243,-0.005618360887332629,-0.004639936583297566,-0.007019793040379559,-0.014962121341845,-0.006065522298731403,0.009025850297434834,-0.0005392532069176793,0.00313648645053676,-0.03857493073983102,-0.007804710815444373,-0.0025747137792118072,0.0009561759789859546,-0.0019057049994381178,0.009895991061317999,-0.005106165624225244,-0.0014923427202191296,0.005233209476141512,0.0063004554597169485,-0.0008114312423777955,-0.005075338721977267,-0.0014046133377750472,-0.008498002684139614,-0.0006895478695203461,0.02037749852462597,-0.0015592167058529273,-0.006933338088432953,-0.0009855990487370792,-0.004384600969836167,0.005717637183800431,0.009814962419208956,-0.0047335419995832365,-0.0010865867181583378,0.005637483878147009,-0.00709191357781935,-0.0030462501800614635,-0.002377744265357282,0.00022376633881996484,-0.0019498486853569146,0.0008611958046379724,-0.004968334766912158,-0.003206934529736385,0.00715312534668297,-0.003977731804857626,-0.0005780568750390438,-0.004343648452882902,8.194372376933968e-05,-0.004448332936845065,-0.0029262441436621045,-0.004223228254881121,-0.0012404223327796722,0.0051990080884198,-0.001923344237097424,-0.013718654079785737,0.0024346640803189967,0.02220652495902989,-0.00265377446307342,-0.0037442842062557504,-0.005299706397206009,-0.0030775293414453436,-0.0022297821731697477,0.0006217345692980258,-0.0027715040934714885,-0.003912620162946332,-0.027638729611067638,-0.002771287519552622,0.001439662493221859,-0.0012043417275550813,-0.0007354196336665655,-0.005660643084275399,0.00933761528826772,-0.005215588875343038,-0.0008387655756809658,-0.005004903047161913,0.007810319677832576,0.0032401235911115973,0.011391115421904768,0.002445330461250718,0.00040011240101527746,0.002369850348045786,-0.005773295516085001,-0.0013857449268088072,0.004529572386484652,-0.0046685124282901894,-0.003248345060567562,-0.002052255599039286,0.00022554247245415215,-0.0047704351302384615,0.01655336183516932,0.0037008993424656332,0.0021584487846135017,-0.002213217149986754,-0.005858308326512121,-0.0010678399098872965,-0.012256162536210653,-0.011304276155037412,0.01042921564086473,-0.0023241447922816953,-0.006664753208966495,-0.002444548156594092,-0.01989665144387875,-0.00869418254094783,0.006159329063175524,-0.0019754351012897277,-0.005611729288302815,-0.001556728249681728,0.06469158739496095,0.0030144621678012836,-0.004132813808952482,-0.0015661513476219523,-0.003809185402744542,-0.042021743635174205,-0.00643186613078007,-0.01898489237780823,0.0004876260995967713,-0.005510190887274093,-0.0032145750619099254,-0.0026379881039621284,0.005180439158393352,-0.011794522236393525,0.013933738896966532,-0.0027222997940821053,-0.0031153461551584956,-0.0028907483365773934,0.013763780762796643,-0.011894254815132718,-0.007912706402287832,-0.0019234119505735442,-0.002436288493765143,0.0003198311817692432,-0.0007460458555566153,-0.005372378882876063,0.007895281747567116,-0.002714283539947823,0.0012077490488153113,-0.009596499230021923,-0.0005249107418134526,-0.0010989553561740514,0.0007528233207476852,-0.0157097027924745,0.018626586000724293,-0.0016774210468363216,0.016129379109250996,-0.006975466280544084,0.009462194554647226,-0.004340137638289474,0.00152803312141554,-0.0018508177834098043,6.453371240463608e-05,-0.002031512684031619,-0.007397176305949429,0.009622052921990745,0.023788336239639968,0.002876514330232348,-0.007848620578548772,-0.0030981446824221302,0.014660470457174505,0.0007660878031074007,0.01768999502571993,-0.005239085688419204,0.021709833455732176,0.006305020013039222,-0.0030972604009626417,-0.022061496601558213,0.014882894948443488,-0.003617791667270185,0.007420545764442933,-0.001631912450248202,-0.00419203397615652,0.003267487947833964,-0.010181341773195917,-0.0016407457850217031,0.02001633075758235,-0.031166562999022172,-0.013093480082353514,-0.021479139585740423,0.008357520251096286,-0.004417229231756853,-0.014826530973149163,-0.0011762265146860625,-0.0023526258836323996,-0.0035190363563411767,-0.0031496317744083486,-0.009080957930577654,0.03440351890915475,-0.005581272235334662,0.01304098336279174,-0.003419873946048727,-0.005295204199107242,-0.004401064858881828,-0.001744208026318208,-0.0015440110329652194,0.006366929515644998,-0.00451846564708666,0.009886590643996338,-0.004497653720619121,0.0018907968918636618,-0.0002555003973252737,0.004818772756200207,-0.007788258616896808,0.002349106518490236,-0.0020729103401890725,-0.0031661286666394314,-0.00967649767015182,-0.01451643408333635,-0.004422651094011038,-0.0020833293708268498,-0.002431377830520187,0.022125732076629295,0.003795796429264699,-0.006502038249217084,-0.00032979626991626147,-0.005843595316656283,-0.004880183183765704,0.005729809433869047,-0.0026666390496441063,0.035072197042943634,0.0002968572515836262,-0.0023167283594759526,-0.004245519928186353,0.004198151769197262,-0.0042056266434537005,0.0007726309058673978,-0.0070035312651957685,-0.0008952351252714373,0.0014579803897026592,0.0020988086200274857,0.0007938607894007079,0.0035373518919458065,0.001523761562135033,0.010309882583227924,-0.0023377934634084686,0.02861330227530032,0.0033764419079805657,0.0007711266690813882,-0.0017612992482011942,0.028532349204995918,-0.0028943190604492452,-0.007460049398035984,-0.00327847752336988,-0.0030194396177246363,-0.0024261404906637542,-0.0010742874915639004,-0.001884419364816886,-0.0019386738699488293,-0.0025754851883064154,0.0023872593745177815,-0.00016720122088091703,0.0020464853126986792,-0.015462181938163804,-0.0012721282321054071,0.002870398207622636,0.007307038683608805,0.0012153973368876233,-0.005614552510314831,-0.002170651016880468,-6.28412689678186e-05,-0.0015783126556562575,0.016646577577777977,-0.0027517487452521595,-0.008141428967744595,-0.0009538650283242949,0.0020647414835866453,-0.002326356700303369,-0.007402630680072815,-0.0016911177050544454,-0.0040927328435666505,-0.0007605624360552517,0.008746212719678313,-0.0025632949821266992,-0.0018767222088534766,-0.001418902341446606,0.022220578699204536,-0.002199874223723458,-0.005054271465852743,0.0059038188707426385,-0.007607467060983784,0.0010149136215182749,-0.0021358439587007907,-0.005991325464312925,-8.066667155308224e-05,-0.0014181576307515397,0.00566359705668461,0.0006523636305906466,-0.0016687664088819163,0.0002948517805888717,0.022385658553777416,-7.019387624718634e-06,0.015860955089727097,-0.005551591188784091,0.0005317550745363586,-0.016414391760642813,0.008578523972498942,-0.002914544850845235,0.0035029180389399405,-0.005454207312186519,0.01712527687170348,-0.0015065178267238669,-0.002597781986705577,-0.007237575459705771,0.02463195179946604,0.002908251638681978,8.287274161312416e-05,-0.002616300937840464,0.016904976457948268,-0.001887848672407821,-0.002686257570241442,-0.0014079052555628765,0.0016605843169584223,-0.0009955100180613402,0.007011191685082775,-7.963839290783077e-06,-0.0036184226137334114,-0.0012614285782815713,0.03413655505444229,-0.0054004556795798336,0.007868594606809018,-0.001157286498714504,0.030376811140287646,0.00026100646894043313,-0.0015045037387099837,0.001058567253966389,-0.0019397532273644122,-0.003523333592808167,0.001985260394992534,-0.005312070878785732,0.004815351525476708,-0.008012959643431013,-0.004222840685280809,0.004246740748901126,0.005235423628045289,-0.0010559451866902112,0.011335530533364549,-0.004110418356636253,-0.0027011682764772,-0.002415140596462825,0.006306676497784644,-0.003179805390407616,0.00795321933764408,0.004602878664167455,-0.011866656447922957,0.0032960261706560905,0.0033518964881863594,0.005885961428885724,-0.0020536441756505387,-0.000500527394591559,-0.0031924768887809196,0.0005745844579421432,0.014076308343758837,-0.0020121596472831333,-0.004015015977232479,-0.0034325942279477624,-0.0027498760133297484,-0.002601521922685889,-0.0027172702070756083,-0.006299975060118574,0.004101569503886867,-0.0025992283336018656,-0.00835633865694006,-0.011237236830521458,0.01401578375369938,-0.000722881730475515,-0.0007932013102015177,-0.008908347525860437,-0.0037120908917906864,-0.0013732727189040748,-0.008304217263262656,-0.00608639801559749,0.0051511793136223664,0.005411199736837219,0.0018454077490744096,-0.01256092527223486,0.006731961306420262,0.008066632728004279,0.004333433868308267,-0.0032617747349274586,-0.0016218278417047946,-0.0007027639038782619,-0.0021078011467396095,0.0020280628293515776,-0.0015973251683306022,-0.0014759278145433973,-0.002159654981471476,-0.003475078392245044,0.01829862692288586,0.008620480962149162,-0.0012252891605242947,0.0046566493796698465,0.0012466793722816704,-0.0023161403264457914,-0.003015854822840208,-0.00429777690281676,0.01252613851318002,-0.0036798885402367964,-0.006367459906604273,-0.004388512238237973,0.004473025335479568,-0.0008932907638155018,0.00016088628771087634,-0.008089096604008545,-0.003772657157824235,-0.0013932446346627313,-0.007977283606955585,-0.0016129398575950207,0.0007016357721480956,-0.0027102017891149884,-0.0012075144805073898,0.0037928480535750634,0.00041273863453463296,-0.00146810858991263,-0.00029149031225016457,0.00607388398412159,-0.000859118626493299,-0.002850106999505971,-0.0034835164100871533,-0.0016874250906964523,-1.555390261049232e-05,0.005610497949440461,0.007804872350591685,0.0019015378015656706,-0.0012309279438907363,-0.002792940647235662,-0.005223822898083359,0.0007612117339716024,-0.0030732260612085257,-0.00145530208695413,-0.009353102879656704,-0.008696066010946355,-0.0008877577998231784,-0.000693102920246468,-0.002503142550255104,-0.02728891539930355,0.006721752843217648,0.00014911249683161469,-0.0047633604118728825,-0.00045823978277421094,-0.0023630556664494665,-0.005577173296739689,-0.002020495741368658,-0.002810248133065749,0.0016813569218242412,0.0064152217725529665,-0.0012597991017765774,0.0008855721148828869,-0.004294861400717267,0.00229823233362,-0.0016526276036573167,-0.0035605647546736547,-0.0025022371186855918,0.005908304480827265,-0.0015794837952991592,0.0019024820062971018,-0.001249681253553916,0.0024722346851710525,-0.002617276162736673,-0.001540356177004803,-0.0028579555739445743,0.0028938896772377535,-0.00015927720798225486,-0.0024597849123994616,-0.002230312226459486,-0.002455387765222179,-0.0009852705825123397,0.003398269238742404,-0.0016245432631166782,0.005310370648687451,-0.00015606950024216057,0.0007145597332028013,-0.0012023623084572426,-0.002330747573887711,-0.002285213081664121,0.0004976892296441967,-0.004799710339221772,0.003811135396219847,-0.002199525967070392,-0.0028125822750620947,0.0008117517781078898,0.0060557156358326154,-0.0029731170863554006,-0.0012889181188691843,-0.0024347684994514046,-0.002790062623445909,-0.0036393060853253814,0.0011483884963345346,-0.0016783793791947136,0.000644729401614491,-0.003193202440039759,-0.0013095723468021815,-0.0020275416459311713,0.004436426492620505,-0.001867419130095297,-0.002489859447764267,-0.004348560871695396,-0.0005827151247620417,-0.0028187839201036587,-0.001965634601079445,-0.0025233322164849256,-3.793395353274646e-05,-0.00219110713358245,0.0007051421623022291,0.0008679883528778208,0.00263795184656883,-0.005260674993920468,-0.0020418970573574083,-0.0020844676977512465,0.00435113018900257,-0.0005049791356385933,0.0037127848452512932,-0.00022527394616354672,0.0003532276173740474,-1.9911089482392463e-05,-0.00030032328370399966,-0.0006628516099411484,0.0019342872101492687,-0.0016837972727396843,-0.008826752346179523,-0.004029378624072695,-0.00015594775063026468,-0.0013584488442459376,0.005378420862391611,-0.0023172470038612526,-0.0028652439682923126,-0.002423262270507417,-0.00587497368660421,0.003951702642653593,-0.002992426009994009,0.004450141165988363,-0.02431367041746933,-0.0015229327126908296,-0.0020062339209211914,-0.0038018554971188992,-0.011927791013583874,-0.00438891305642059,0.005078619895217802,0.007665746801502363,-0.0010216352644667511,-0.0012513990378889238,0.000136218195797603,-0.009411921956739087,-0.0006255953404149343,2.021155180397354e-06,-0.0018522753114352632,-0.006795883894330682,-0.00015276345533107044,-0.00267745309313924,-0.0029072682601496798,-0.0037817849717028656,-0.0003016232119949818,-0.0033937479275313125,-0.001093529312507325,-0.0089545000469962,0.0004520752205328769,-0.022037200217173408,0.0014066004859682576,0.0009463250691690442,-0.00011232389728144202,-0.002238734919518368,-0.001639291482067136,4.832049840296777e-06,0.001106326016665003,-0.0017594781048512263,0.004106472504456098,-0.009207738231008816,-0.006907159627075896,-0.001318894176737871,0.0047701885140153215,-0.005167047200595843,0.0022170163601073723,-0.0029033690915469443,-0.001990393613659166,-0.007431440675143898,-0.0013169697221823806,-0.003286652520999274,0.004706390131837207,-0.00021020641392423148,-0.0009912181990366284,-0.016494655004295634,0.006446263496438572,0.0018047962605969266,0.0034935502487396246,0.014801678410747584,-0.004350348484125435,0.0009286996111786849,0.0025832967022442125,-0.00289372974824795,-0.000586135895290606,0.005545393165811929,-0.0015641734680295546,-0.0018310602427372299,-0.004288785686272089,0.0014631914394800528,-0.00470972057637746,9.644149497697483e-07,0.0007254708302806166,0.0020793531205712773,-0.00029487755358945594,-0.0018614222907563037,-0.0005226295751482874,0.0005261557197980175,-0.001874867706001923,-0.0017490735722130936,0.00017640277017744963,0.003111529976993104,-0.01302509236793461,-0.0007953025833160043,0.003935702965892537,-0.0012470093154102635,0.009855874070943037,-0.00236542479335554,-0.00032715005783445804,-0.002771745053560998,-0.00045743844027294577,-0.0027621297093838163,-0.0022222991453535023,0.0025742142316235493,-0.014116331923927222,0.004917177208778339,0.0036449668820278214,-0.004043652564280352,-0.0012744700179336773,0.001739781500312067,-0.002243342120489996,0.002300530952600297,-0.0033262166338737255,0.0002996842908894312,0.0021971445193698104,-0.0034200356665647896,-0.006151948603611809,-0.0016978264066856092,0.004279234416204602,0.0010652504624600126,-0.0012934711811107714,-0.0037789088273392077,0.006529115794759855,0.001603721271808891,-0.002994267955971997,-0.003266802765415105,-0.004164890360152929,-0.0017110619368443732,-0.0019528696811941895,-0.0007767799092043779,0.0032137613159798485,-0.0019940180226523385,0.0015020218237509647,-0.0036431832259457867,0.0005860697486547884,0.010272923432441655,0.001321710927147824,0.0001600598500968139,0.001593870425836717,0.0031766799767953976,-0.0019076453716188233,-0.006312162535688443,-0.003563090981532361,-0.0028217212912119488,0.0006245082954521684,-0.005195743217467999,0.0005425630770608304,-0.003202309647779669,0.0011185855817694094,-0.0031438941797618117,0.0039521592372856965,-0.004007024112687467,-0.0013078941001219988,-0.00555495566179396,0.00484320362022644,0.0007288407115155677,0.0008062708230865548,0.001123973800715817,-0.003959427521010443,0.006467131627890543,-0.0033324642685189625,0.007880085619965695,0.003493925091540029,0.002175972639286806,0.00381201802060288,-0.005345589768664175,0.003154152971574641,0.0013233703885925847,0.00013405026220234635,0.0011754729723349596,-0.0034986071997559695,0.006341298727546907,0.0012612401367398446,0.0015281678586213487,0.0035553977446139235,-0.0029952302991162784,0.003069101175252576,-0.006195081455053873,0.0009656712445861353,0.011352084205981874,-0.005769668707608167,-0.003523254820634427,0.0018163310231590099,0.003625211415721077,-0.003061702200584155,-0.00029382776653656673,4.8544800212387945e-05,-0.0032289003482048957,0.0031124047075477444,-0.0013253898125107832,-9.598594456812623e-05,-0.0033218568825842073,-0.016056786643541092,0.0008012304650729789,0.0005440790558381458,0.006277842834286695,-0.0021752467886867097,-0.00034185031041528125,0.003382175198159816,0.005162223441152624,-0.0033291135544404656,-0.00013573672720508897,0.0030785906410178013,0.003120790997359198,0.0018251693900408765,0.0008241839086691301,-0.007914426177060242,0.004331310378020933,-0.0025658638303204667,-0.004474449659441916,0.0006833138817567462,-0.001889317477639388,0.0002505834374993403,0.0012857625506676924,0.0009607270427417308,0.0035718708012312246,-0.0013957526649072442,-0.006997737844853497,0.00419878361539156,-0.0025358449125233436,-0.002811538654773678,-0.008147220743238892,-0.0063846150870249885,-0.0033817864894230554,-0.002303520645908636,0.004799556265899842,-0.0010759212300192687,-0.00011039451203992992,0.00023764411849341952,-0.0005769464183058786,0.0011653599842237202,-0.005745403457936483,-0.0022216101677028865,-5.720991039212165e-05,-0.002066272639801607,-0.0023162265599000393,-0.003690890886706834,-0.009790396431708816,-0.004192320870348758,0.0025627705216721016,0.0009210620409790173,-0.007998022730407964,-0.0005926929287751953,0.0010422053489993915,-0.004780740252107034,-0.008027717462406906,-0.0028275078769201935,-0.0005596170206636974,-0.0009395482076116812,-0.005839165119003339,0.0013528057017368521,0.0099246773448348,0.0004355323157407325,-0.0024550373692935044,-0.00021956531776155097,0.001600394343862493,-0.0008673337206261409,-0.004989690708206174,-0.0008178892233152554,0.0023323448250081496,-0.0011223176001435747,-0.0015386662707842069,0.0015518208316546824,-0.003127615913570081,0.00035482878154601206,-0.006334159631598623,0.0037377002352243158,-0.002532989625330207,0.0008225572127363747,-0.004845904061886968,-0.0003734512402975551,0.004087769725667684,-0.004808357298042206,0.006620012774552384,0.0033148844375870375,-0.0015652028412777063,-0.002246281549791948,-0.008341142998044924,-0.001883642821018998,0.0005562986763907584,0.0018692796186511758,-0.005817152087650252,0.0008545246861272918,-0.002219249832990445,0.0007669525665948498,-0.0024787141706471313,0.005313120891060688,0.002895931393583431,-0.0016764668042703022,-0.0011099465038606636,-0.0007595611845037178,-0.0008021217352577147,-0.0015190544731325702,-2.81634560655584e-06,-0.0008116301864985962,-0.0011754422880235382,-0.00033688898704728346,0.006702562904261259,0.004752258284612256,0.004194164328669723,-0.0023454616486921526,-0.0003576623084900722,0.004991971772915569,0.003541905707312537,-0.0009532766134819081,-0.005892285412540892,0.0039938301574105155,-0.003036383163164998,-0.0028108632500339513,-0.0036344748381069597,0.0016837433088659824,-0.0016687422319184434,-0.0037175648384484552,0.0019740757034419068,0.004599055398693662,0.0030103344130355944,-0.0013530271713380212,7.180969363673047e-06,0.005140845968426169,-0.002309667846727442,0.00016387820007672776,-4.597997461027172e-05,0.004994968998082904,0.002232232649791497,-0.0014034723803023844,-1.8178134787920992e-05,0.004792857630071144,0.0037100233976391575,-0.0012296007179468458,-0.0046102111464070995,0.0022009703718825504,-0.002571689440755665,-0.00040431534010143446,-0.0013664316915955948,0.0010933677386768,0.0022553017303790046,-0.0018212554021011177,-0.003609028274962723,-2.9373643481448517e-05,-0.003650998746901028,0.001689819581699046,-0.0006586133735874652,-0.0005774306888194189,-0.002236846262502379,0.0031176847429275926,0.0007133261277859335,0.004610162830819755,0.002099684685735542,0.001563049574190452,0.000885154089614269,0.0021758124740779753,-0.004625295825060967,-0.0021507982250470615,-0.002144905640448247,0.002849696326103891,0.0026400172868791118,-0.0008078362272247028,0.00010568914305018518,-0.0008183862483217922,-0.0012975981236924084,0.0003781516299160684,-0.0021464532523674472,0.0013499476759322973,0.003251587107572735,-0.0006637562374819373,0.0011618749570678475,-0.0003257654932490691,0.002974963679306402,0.0008125330834660404,-0.0037088983238354346,-1.186090000807112e-05,-0.0020025296269371652,-0.004142744166871167,-0.0007864627836727012,-0.0007647654438673869,0.0047327822568810785,0.00014388629368273094,0.0011865302153087184,0.0032855155016463314,0.014286951354164619,-0.002204662963786154,-0.002041014261704335,-0.0008165760471878019,-0.0018518975133688447,0.0026933404952915983,-0.002825162449372968,0.003969779895773628,0.005954606509234462,-0.004370480066131258,0.0029063767456895587,-0.0026583456975942084,-0.0013395759546412159,-0.000283403937001646,-0.0016522654986599237,0.0034725256255668468,0.0050740163428045215,-0.0009274454473730032,-0.0004941964117197279,-0.000266650619635476,0.004653441911819588,-0.0005549152579480795,-0.0033715604603112405,0.0025835286866129695,-0.0017108887923123106,0.00013925827704039503,-0.002734703268018132,-0.00031938047935122925,-0.0018532477451582425,-0.0010234939797571674,-0.004191498437823862,-0.0013761592919736836,-0.0029168340069889867,-0.0015624645182838119,0.0020885424465223986,0.001268273050175113,0.0029564397820034255,0.0011901328997797932,-0.000602880710275696,-0.0014653477442404283,-0.0009365090011801603,0.0008033616091507473,0.0011605634924514523,-0.002087118021976253,0.0027190472507413496,-0.001332909496847801,0.0014582128589528537,0.0013095054354188092,-0.00038272357314260885,-0.0013979035295481434,-0.0028644072636582097,-0.001263517494165457,-0.00048562701235735763,0.0018429791180619194,-0.006858069514116534,0.0007520608970092212,0.0023772760509672033,-0.00044641124328103943,-0.0014247742419565505,0.0009052163572765554,0.0034295412909844504,-0.0017749213923176175,0.00028109486715494146,-0.00032407437063485233,0.002643886447321613,-0.00023121891442431756,-0.0021908728421277672,-0.0012497126338253224,-0.0008746183545767529,-0.00023297839503681522,-0.002012819805302804,0.0026817609176407894,-0.000442545258463665,-0.00082939136338848,-0.0011726811149178453,-1.4496908831392276e-05,0.0001539263024278602,0.00030394162201493333,-0.0013398483936708115,0.00021984345092451485,-0.000990841600895837,0.0006524291894016365,-0.0028549533374744745,5.535214618864274e-05,-0.00031961084820239494,0.0009467100459520739,-0.0014452889863841806,0.000514221580542517,-0.0005463334534288999,0.0010811952790493575,-0.00025745995405202605,-0.0025618039423595286,-0.0006792822820128641,-0.0017052753240814783,-0.00015520104695457683,-0.0015457248235767522,-0.0007443129000270744,0.004735713352329817,0.003100751237807787,-0.00018057025411576824,-0.004048212835672866,-0.0006401129706309635,0.0004584534866660369,0.0008601875589323408,0.0024003566020454766,-0.002422396339765476,-0.0006669845397086357,6.943235690448482e-05,0.0007594329879192424,0.008960500411704648,-0.0003027880141314675,0.0009027915816245788,-0.0036939609379583287,0.0012526415002400918,-0.0004108190124903559,-0.0031135566203208064,-0.005960450285668325,-8.103295322410495e-05,-0.00260478005055694,-0.0012386223539773598,0.003943051957309304,0.013962075827901654,0.0006691755223970764,3.839004924582716e-06,-0.00011364188096270576,-0.0017961868277963178,0.003417784497897905,-0.0013523143096693918,-0.002083148868467952,-0.0011040541904069753,6.54393267874424e-05,-0.0007565072774723058,0.0037069567824902553,0.00278207622868232,0.003519952048141517,3.231304551123463e-05,-0.004366371106000669,0.0022660140062547435,-0.0015483516323995096,0.00027246905487172577,-6.544675440908235e-06,-0.00426428449571822,-0.0007458570393422887,-0.0027707913992403048,-0.0029074370567976487,0.0003695720716075764,0.0034799013338207762,-0.0007312607812878875,0.00239731323792989,0.0010148463846965943,0.004155483564369423,-0.0009338011707561388,-0.0008368900364563977,0.0017031916452645527,0.00395274355193658,-0.0002765963838980906,-0.0021248275930274172,0.0009350423449760487,0.0008937578670776744,-0.0004741165517775771,-0.00446245919027188,0.0019261825455046276,0.0013209267626698355,0.00029432676559903493,0.00035654776665376323,-0.003676647135570835,0.00010436790147650255,-0.0007646442228222201,-0.00479573812083952,0.009518725550865725,-0.0011325184420337931,-0.0013017794064601271,-0.0036467338269275972,-0.003344523341216374,-0.0020764712830852825,0.0031884178614497785,-0.001223665655874496,0.0006680662873517664,0.0025200674116116198,0.0015678912921752363,-0.0013904117069444952,-0.002336195872895346,-0.0011647115856117214,-0.0020256483046846895,-0.0009282403446936781,-0.00016108888908520928,-0.0006341126967933803,-0.001622075077128436,-0.0010214670287933976,0.001287247075710214,-0.0017090521355291783,-0.000516507608491445,0.00034500298511498044,0.0011044546341234726,-0.0005589545891726915,-0.002128040358810882,-0.002936974369951409,-0.0068444045145515265,-0.0017074717035437186,0.000813349970295035,-0.004599561151224372,-0.0035930371983564045,-0.0006392187508653974,0.0003002317438570737,-0.0005225489962779443,-6.76133285135046e-05,-0.0016793889297071238,0.0003870156284266112,0.0001172004797225534,-0.003701639205614658,0.0011108048504918835,7.098701980115933e-05,-0.005048098055615326,-0.0012632854804409148,-0.0012040443167708902,0.0024320385028068587,0.0019189823254874632,-0.003009301619680317,0.0030458333131630167,-0.0010897634395897757,-0.0018038963777595534,0.0012539871289660755,9.375859748970424e-05,-0.0020288633712470796,-0.001469106115713273,-0.0055441222578927,0.0025194002784438385,0.0009997780413048376,-0.006481109243857872,0.001400133459416043,-0.0014579042707205923,0.0007363515506182779,-0.0010827464806613756,0.001179967367774671,0.0014205072536910355,-0.0003674906399566265,0.002570892226056137,-0.004275765527203539,-0.0018152078401584915,-0.000769830041090544,-0.0013841812488061423,-0.0057390971515371625,-0.0008212220315167084,0.001888046903378959,-0.0013421184128854383,0.0013503858138857246,0.00013760284003651505,0.0031677615649950497,0.0003726530072909445,0.00029775463439138026,0.0025147514562735914,0.0032376555911360154,-0.0002520824102091541,0.0002012734051304966,-0.0023441896783984494,-0.0003767865214936647,0.00030468155115443275,-0.0010543027903403344,0.00031306166059627246,0.0012964809382089513,-0.0029167508503710497,-0.002000371254925286,0.002582581536830113,-2.2372997091653657e-05,8.955277548927372e-05,0.00024490346912887104,-0.001823828014173007,-0.0006178909094052784,-0.0023793998779010187,0.00027402717780332684,-0.0007265773165811442,0.0025869914022569637,-0.0015752175194015626,-0.0021642648322472485,-0.00027533591480712234,-0.0006473382042792645,-0.0013319206753671321,6.564330695394448e-05,-8.67788721664848e-05,-0.00019481441107890304,-0.00021204017037236973,-0.0023736362956050445,-0.0011246101542721433,-0.000541320229998614,-0.0016547241078533254,-3.793450831663127e-05,-0.0008964673026951891,0.0009149236194190332,-3.1606847316059955e-05,8.103258617309588e-05,-0.0011844035357673967,0.0006316268230232787,-0.0020584625477204116,0.0033709391033070074,0.0003340724938375951,-0.0010714541561498857,-0.002330231683153133,-0.0007331182549956591,-0.0010829075353199953],\"yaxis\":\"y\",\"type\":\"scattergl\"}],                        {\"template\":{\"data\":{\"bar\":[{\"error_x\":{\"color\":\"#2a3f5f\"},\"error_y\":{\"color\":\"#2a3f5f\"},\"marker\":{\"line\":{\"color\":\"#E5ECF6\",\"width\":0.5},\"pattern\":{\"fillmode\":\"overlay\",\"size\":10,\"solidity\":0.2}},\"type\":\"bar\"}],\"barpolar\":[{\"marker\":{\"line\":{\"color\":\"#E5ECF6\",\"width\":0.5},\"pattern\":{\"fillmode\":\"overlay\",\"size\":10,\"solidity\":0.2}},\"type\":\"barpolar\"}],\"carpet\":[{\"aaxis\":{\"endlinecolor\":\"#2a3f5f\",\"gridcolor\":\"white\",\"linecolor\":\"white\",\"minorgridcolor\":\"white\",\"startlinecolor\":\"#2a3f5f\"},\"baxis\":{\"endlinecolor\":\"#2a3f5f\",\"gridcolor\":\"white\",\"linecolor\":\"white\",\"minorgridcolor\":\"white\",\"startlinecolor\":\"#2a3f5f\"},\"type\":\"carpet\"}],\"choropleth\":[{\"colorbar\":{\"outlinewidth\":0,\"ticks\":\"\"},\"type\":\"choropleth\"}],\"contour\":[{\"colorbar\":{\"outlinewidth\":0,\"ticks\":\"\"},\"colorscale\":[[0.0,\"#0d0887\"],[0.1111111111111111,\"#46039f\"],[0.2222222222222222,\"#7201a8\"],[0.3333333333333333,\"#9c179e\"],[0.4444444444444444,\"#bd3786\"],[0.5555555555555556,\"#d8576b\"],[0.6666666666666666,\"#ed7953\"],[0.7777777777777778,\"#fb9f3a\"],[0.8888888888888888,\"#fdca26\"],[1.0,\"#f0f921\"]],\"type\":\"contour\"}],\"contourcarpet\":[{\"colorbar\":{\"outlinewidth\":0,\"ticks\":\"\"},\"type\":\"contourcarpet\"}],\"heatmap\":[{\"colorbar\":{\"outlinewidth\":0,\"ticks\":\"\"},\"colorscale\":[[0.0,\"#0d0887\"],[0.1111111111111111,\"#46039f\"],[0.2222222222222222,\"#7201a8\"],[0.3333333333333333,\"#9c179e\"],[0.4444444444444444,\"#bd3786\"],[0.5555555555555556,\"#d8576b\"],[0.6666666666666666,\"#ed7953\"],[0.7777777777777778,\"#fb9f3a\"],[0.8888888888888888,\"#fdca26\"],[1.0,\"#f0f921\"]],\"type\":\"heatmap\"}],\"heatmapgl\":[{\"colorbar\":{\"outlinewidth\":0,\"ticks\":\"\"},\"colorscale\":[[0.0,\"#0d0887\"],[0.1111111111111111,\"#46039f\"],[0.2222222222222222,\"#7201a8\"],[0.3333333333333333,\"#9c179e\"],[0.4444444444444444,\"#bd3786\"],[0.5555555555555556,\"#d8576b\"],[0.6666666666666666,\"#ed7953\"],[0.7777777777777778,\"#fb9f3a\"],[0.8888888888888888,\"#fdca26\"],[1.0,\"#f0f921\"]],\"type\":\"heatmapgl\"}],\"histogram\":[{\"marker\":{\"pattern\":{\"fillmode\":\"overlay\",\"size\":10,\"solidity\":0.2}},\"type\":\"histogram\"}],\"histogram2d\":[{\"colorbar\":{\"outlinewidth\":0,\"ticks\":\"\"},\"colorscale\":[[0.0,\"#0d0887\"],[0.1111111111111111,\"#46039f\"],[0.2222222222222222,\"#7201a8\"],[0.3333333333333333,\"#9c179e\"],[0.4444444444444444,\"#bd3786\"],[0.5555555555555556,\"#d8576b\"],[0.6666666666666666,\"#ed7953\"],[0.7777777777777778,\"#fb9f3a\"],[0.8888888888888888,\"#fdca26\"],[1.0,\"#f0f921\"]],\"type\":\"histogram2d\"}],\"histogram2dcontour\":[{\"colorbar\":{\"outlinewidth\":0,\"ticks\":\"\"},\"colorscale\":[[0.0,\"#0d0887\"],[0.1111111111111111,\"#46039f\"],[0.2222222222222222,\"#7201a8\"],[0.3333333333333333,\"#9c179e\"],[0.4444444444444444,\"#bd3786\"],[0.5555555555555556,\"#d8576b\"],[0.6666666666666666,\"#ed7953\"],[0.7777777777777778,\"#fb9f3a\"],[0.8888888888888888,\"#fdca26\"],[1.0,\"#f0f921\"]],\"type\":\"histogram2dcontour\"}],\"mesh3d\":[{\"colorbar\":{\"outlinewidth\":0,\"ticks\":\"\"},\"type\":\"mesh3d\"}],\"parcoords\":[{\"line\":{\"colorbar\":{\"outlinewidth\":0,\"ticks\":\"\"}},\"type\":\"parcoords\"}],\"pie\":[{\"automargin\":true,\"type\":\"pie\"}],\"scatter\":[{\"marker\":{\"colorbar\":{\"outlinewidth\":0,\"ticks\":\"\"}},\"type\":\"scatter\"}],\"scatter3d\":[{\"line\":{\"colorbar\":{\"outlinewidth\":0,\"ticks\":\"\"}},\"marker\":{\"colorbar\":{\"outlinewidth\":0,\"ticks\":\"\"}},\"type\":\"scatter3d\"}],\"scattercarpet\":[{\"marker\":{\"colorbar\":{\"outlinewidth\":0,\"ticks\":\"\"}},\"type\":\"scattercarpet\"}],\"scattergeo\":[{\"marker\":{\"colorbar\":{\"outlinewidth\":0,\"ticks\":\"\"}},\"type\":\"scattergeo\"}],\"scattergl\":[{\"marker\":{\"colorbar\":{\"outlinewidth\":0,\"ticks\":\"\"}},\"type\":\"scattergl\"}],\"scattermapbox\":[{\"marker\":{\"colorbar\":{\"outlinewidth\":0,\"ticks\":\"\"}},\"type\":\"scattermapbox\"}],\"scatterpolar\":[{\"marker\":{\"colorbar\":{\"outlinewidth\":0,\"ticks\":\"\"}},\"type\":\"scatterpolar\"}],\"scatterpolargl\":[{\"marker\":{\"colorbar\":{\"outlinewidth\":0,\"ticks\":\"\"}},\"type\":\"scatterpolargl\"}],\"scatterternary\":[{\"marker\":{\"colorbar\":{\"outlinewidth\":0,\"ticks\":\"\"}},\"type\":\"scatterternary\"}],\"surface\":[{\"colorbar\":{\"outlinewidth\":0,\"ticks\":\"\"},\"colorscale\":[[0.0,\"#0d0887\"],[0.1111111111111111,\"#46039f\"],[0.2222222222222222,\"#7201a8\"],[0.3333333333333333,\"#9c179e\"],[0.4444444444444444,\"#bd3786\"],[0.5555555555555556,\"#d8576b\"],[0.6666666666666666,\"#ed7953\"],[0.7777777777777778,\"#fb9f3a\"],[0.8888888888888888,\"#fdca26\"],[1.0,\"#f0f921\"]],\"type\":\"surface\"}],\"table\":[{\"cells\":{\"fill\":{\"color\":\"#EBF0F8\"},\"line\":{\"color\":\"white\"}},\"header\":{\"fill\":{\"color\":\"#C8D4E3\"},\"line\":{\"color\":\"white\"}},\"type\":\"table\"}]},\"layout\":{\"annotationdefaults\":{\"arrowcolor\":\"#2a3f5f\",\"arrowhead\":0,\"arrowwidth\":1},\"autotypenumbers\":\"strict\",\"coloraxis\":{\"colorbar\":{\"outlinewidth\":0,\"ticks\":\"\"}},\"colorscale\":{\"diverging\":[[0,\"#8e0152\"],[0.1,\"#c51b7d\"],[0.2,\"#de77ae\"],[0.3,\"#f1b6da\"],[0.4,\"#fde0ef\"],[0.5,\"#f7f7f7\"],[0.6,\"#e6f5d0\"],[0.7,\"#b8e186\"],[0.8,\"#7fbc41\"],[0.9,\"#4d9221\"],[1,\"#276419\"]],\"sequential\":[[0.0,\"#0d0887\"],[0.1111111111111111,\"#46039f\"],[0.2222222222222222,\"#7201a8\"],[0.3333333333333333,\"#9c179e\"],[0.4444444444444444,\"#bd3786\"],[0.5555555555555556,\"#d8576b\"],[0.6666666666666666,\"#ed7953\"],[0.7777777777777778,\"#fb9f3a\"],[0.8888888888888888,\"#fdca26\"],[1.0,\"#f0f921\"]],\"sequentialminus\":[[0.0,\"#0d0887\"],[0.1111111111111111,\"#46039f\"],[0.2222222222222222,\"#7201a8\"],[0.3333333333333333,\"#9c179e\"],[0.4444444444444444,\"#bd3786\"],[0.5555555555555556,\"#d8576b\"],[0.6666666666666666,\"#ed7953\"],[0.7777777777777778,\"#fb9f3a\"],[0.8888888888888888,\"#fdca26\"],[1.0,\"#f0f921\"]]},\"colorway\":[\"#636efa\",\"#EF553B\",\"#00cc96\",\"#ab63fa\",\"#FFA15A\",\"#19d3f3\",\"#FF6692\",\"#B6E880\",\"#FF97FF\",\"#FECB52\"],\"font\":{\"color\":\"#2a3f5f\"},\"geo\":{\"bgcolor\":\"white\",\"lakecolor\":\"white\",\"landcolor\":\"#E5ECF6\",\"showlakes\":true,\"showland\":true,\"subunitcolor\":\"white\"},\"hoverlabel\":{\"align\":\"left\"},\"hovermode\":\"closest\",\"mapbox\":{\"style\":\"light\"},\"paper_bgcolor\":\"white\",\"plot_bgcolor\":\"#E5ECF6\",\"polar\":{\"angularaxis\":{\"gridcolor\":\"white\",\"linecolor\":\"white\",\"ticks\":\"\"},\"bgcolor\":\"#E5ECF6\",\"radialaxis\":{\"gridcolor\":\"white\",\"linecolor\":\"white\",\"ticks\":\"\"}},\"scene\":{\"xaxis\":{\"backgroundcolor\":\"#E5ECF6\",\"gridcolor\":\"white\",\"gridwidth\":2,\"linecolor\":\"white\",\"showbackground\":true,\"ticks\":\"\",\"zerolinecolor\":\"white\"},\"yaxis\":{\"backgroundcolor\":\"#E5ECF6\",\"gridcolor\":\"white\",\"gridwidth\":2,\"linecolor\":\"white\",\"showbackground\":true,\"ticks\":\"\",\"zerolinecolor\":\"white\"},\"zaxis\":{\"backgroundcolor\":\"#E5ECF6\",\"gridcolor\":\"white\",\"gridwidth\":2,\"linecolor\":\"white\",\"showbackground\":true,\"ticks\":\"\",\"zerolinecolor\":\"white\"}},\"shapedefaults\":{\"line\":{\"color\":\"#2a3f5f\"}},\"ternary\":{\"aaxis\":{\"gridcolor\":\"white\",\"linecolor\":\"white\",\"ticks\":\"\"},\"baxis\":{\"gridcolor\":\"white\",\"linecolor\":\"white\",\"ticks\":\"\"},\"bgcolor\":\"#E5ECF6\",\"caxis\":{\"gridcolor\":\"white\",\"linecolor\":\"white\",\"ticks\":\"\"}},\"title\":{\"x\":0.05},\"xaxis\":{\"automargin\":true,\"gridcolor\":\"white\",\"linecolor\":\"white\",\"ticks\":\"\",\"title\":{\"standoff\":15},\"zerolinecolor\":\"white\",\"zerolinewidth\":2},\"yaxis\":{\"automargin\":true,\"gridcolor\":\"white\",\"linecolor\":\"white\",\"ticks\":\"\",\"title\":{\"standoff\":15},\"zerolinecolor\":\"white\",\"zerolinewidth\":2}}},\"xaxis\":{\"anchor\":\"y\",\"domain\":[0.0,1.0],\"title\":{\"text\":\"0\"}},\"yaxis\":{\"anchor\":\"x\",\"domain\":[0.0,1.0],\"title\":{\"text\":\"1\"}},\"coloraxis\":{\"colorbar\":{\"title\":{\"text\":\"color\"}},\"colorscale\":[[0.0,\"#0d0887\"],[0.1111111111111111,\"#46039f\"],[0.2222222222222222,\"#7201a8\"],[0.3333333333333333,\"#9c179e\"],[0.4444444444444444,\"#bd3786\"],[0.5555555555555556,\"#d8576b\"],[0.6666666666666666,\"#ed7953\"],[0.7777777777777778,\"#fb9f3a\"],[0.8888888888888888,\"#fdca26\"],[1.0,\"#f0f921\"]]},\"legend\":{\"tracegroupgap\":0},\"margin\":{\"t\":60}},                        {\"responsive\": true}                    ).then(function(){\n",
              "                            \n",
              "var gd = document.getElementById('be0f62db-9bda-4885-ba32-124bd225201b');\n",
              "var x = new MutationObserver(function (mutations, observer) {{\n",
              "        var display = window.getComputedStyle(gd).display;\n",
              "        if (!display || display === 'none') {{\n",
              "            console.log([gd, 'removed!']);\n",
              "            Plotly.purge(gd);\n",
              "            observer.disconnect();\n",
              "        }}\n",
              "}});\n",
              "\n",
              "// Listen for the removal of the full notebook cells\n",
              "var notebookContainer = gd.closest('#notebook-container');\n",
              "if (notebookContainer) {{\n",
              "    x.observe(notebookContainer, {childList: true});\n",
              "}}\n",
              "\n",
              "// Listen for the clearing of the current output cell\n",
              "var outputEl = gd.closest('.output');\n",
              "if (outputEl) {{\n",
              "    x.observe(outputEl, {childList: true});\n",
              "}}\n",
              "\n",
              "                        })                };                            </script>        </div>\n",
              "</body>\n",
              "</html>"
            ]
          },
          "metadata": {}
        }
      ]
    },
    {
      "cell_type": "markdown",
      "source": [
        "###RepresentaciónMDS"
      ],
      "metadata": {
        "id": "mFiqXxgSUzkN"
      }
    },
    {
      "cell_type": "code",
      "source": [
        "from sklearn.manifold import MDS\n",
        "embedding = MDS(n_components=2)\n",
        "datared = embedding.fit_transform(df)\n",
        "\n",
        "import plotly.express as px\n",
        "fig = px.scatter(datared, x=0, y=1, color=tr_y)\n",
        "fig.show()"
      ],
      "metadata": {
        "colab": {
          "base_uri": "https://localhost:8080/",
          "height": 542
        },
        "id": "765A33DEUzqg",
        "outputId": "880d43fe-67d0-4dbd-ac1b-5bbcdabac274"
      },
      "execution_count": null,
      "outputs": [
        {
          "output_type": "display_data",
          "data": {
            "text/html": [
              "<html>\n",
              "<head><meta charset=\"utf-8\" /></head>\n",
              "<body>\n",
              "    <div>            <script src=\"https://cdnjs.cloudflare.com/ajax/libs/mathjax/2.7.5/MathJax.js?config=TeX-AMS-MML_SVG\"></script><script type=\"text/javascript\">if (window.MathJax) {MathJax.Hub.Config({SVG: {font: \"STIX-Web\"}});}</script>                <script type=\"text/javascript\">window.PlotlyConfig = {MathJaxConfig: 'local'};</script>\n",
              "        <script src=\"https://cdn.plot.ly/plotly-2.8.3.min.js\"></script>                <div id=\"65811d89-9f5e-4baf-a0dc-f97863f711b7\" class=\"plotly-graph-div\" style=\"height:525px; width:100%;\"></div>            <script type=\"text/javascript\">                                    window.PLOTLYENV=window.PLOTLYENV || {};                                    if (document.getElementById(\"65811d89-9f5e-4baf-a0dc-f97863f711b7\")) {                    Plotly.newPlot(                        \"65811d89-9f5e-4baf-a0dc-f97863f711b7\",                        [{\"hovertemplate\":\"0=%{x}<br>1=%{y}<br>color=%{marker.color}<extra></extra>\",\"legendgroup\":\"\",\"marker\":{\"color\":[0,0,0,0,0,0,0,0,0,0,0,0,0,0,0,0,0,0,0,0,0,0,0,0,0,0,0,0,0,0,0,0,0,0,0,0,0,0,0,0,0,0,0,0,0,0,0,0,0,0,0,0,0,0,0,0,0,0,0,0,0,0,0,0,0,0,0,0,0,0,0,0,0,0,0,0,0,0,0,0,0,0,0,0,0,0,0,0,0,0,0,0,0,0,0,0,0,0,0,0,0,0,0,0,0,0,0,0,0,0,0,0,0,0,0,0,0,0,0,0,0,0,0,0,0,0,0,0,0,0,0,0,0,0,0,0,0,0,0,0,0,0,0,0,0,0,0,0,0,0,0,0,0,0,0,0,0,0,0,0,0,0,0,0,0,0,0,0,0,0,0,0,0,0,0,0,0,0,0,0,0,0,0,0,0,0,0,0,0,0,0,0,0,0,0,0,0,0,0,0,0,0,0,0,0,0,0,0,0,0,0,0,0,0,0,0,0,0,0,0,0,0,0,0,0,0,0,0,0,0,0,0,0,0,0,0,0,0,0,0,0,0,0,0,0,0,0,0,0,0,0,0,0,0,0,0,0,0,0,0,0,0,0,0,0,0,0,0,0,0,0,0,0,0,0,0,0,0,0,0,0,0,0,0,0,0,0,0,0,0,0,0,0,0,0,0,0,0,0,0,0,0,0,0,0,0,0,0,0,0,0,0,0,0,0,0,0,0,0,0,0,0,0,0,0,0,0,0,0,0,0,0,0,0,0,0,0,0,0,0,0,0,0,0,0,0,0,0,0,0,0,0,0,0,0,0,0,0,0,0,0,0,0,0,0,0,0,0,0,0,0,0,0,0,0,0,0,0,0,0,0,0,0,0,0,0,0,0,0,0,0,0,0,0,0,0,0,0,0,0,0,0,0,0,0,0,0,0,0,0,0,0,0,0,0,0,0,0,0,0,0,0,0,0,0,0,0,0,0,0,0,0,0,0,0,0,0,0,0,0,0,0,0,0,0,0,0,0,0,0,1,1,1,1,1,1,1,1,1,1,1,1,1,1,1,1,1,1,1,1,1,1,1,1,1,1,1,1,1,1,1,1,1,1,1,1,1,1,1,1,1,1,1,1,1,1,1,1,1,1,1,1,1,1,1,1,1,1,1,1,1,1,1,1,1,1,1,1,1,1,1,1,1,1,1,1,1,1,1,1,1,1,1,1,1,1,1,1,1,1,1,1,1,1,1,1,1,1,1,1,1,1,1,1,1,1,1,1,1,1,1,1,1,1,1,1,1,1,1,1,1,1,1,1,1,1,1,1,1,1,1,1,1,1,1,1,1,1,1,1,1,1,1,1,1,1,1,1,1,1,1,1,1,1,1,1,1,1,1,1,1,1,1,1,1,1,1,1,1,1,1,1,1,1,1,1,1,1,1,1,1,1,1,1,1,1,1,1,1,1,1,1,1,1,1,1,1,1,1,1,1,1,1,1,1,1,1,1,1,1,1,1,1,1,1,1,1,1,1,1,1,1,1,1,1,1,1,1,1,1,1,1,1,1,1,1,1,1,1,1,1,1,1,1,1,1,1,1,1,1,1,1,1,1,1,1,1,1,1,1,1,1,1,1,1,1,1,1,1,1,1,1,1,1,1,1,1,1,1,1,1,1,1,1,1,1,1,1,1,1,1,1,1,1,1,1,1,1,1,1,1,1,1,1,1,1,1,1,1,1,1,1,1,1,1,1,1,1,1,1,1,1,1,1,1,1,1,1,1,1,1,1,1,1,1,1,1,1,1,1,1,1,1,1,1,1,1,1,1,1,1,1,1,1,1,1,1,1,1,1,1,1,1,1,1,1,1,1,1,1,1,1,1,1,1,1,1,1,1,1,1,1,1,1,1,1,1,1,1,1,1,1,1,1,1,1,1,1,1,1,1,1,1,1,1,1,1,1,1,1,1,1,1,1,1,1,1,1,1,1,1,1,1,1,1,1,1,1,1,1,1,1,1,1,1,1,1,1,1,1,1,1,1,1,1,1,1,1,1,1,2,2,2,2,2,2,2,2,2,2,2,2,2,2,2,2,2,2,2,2,2,2,2,2,2,2,2,2,2,2,2,2,2,2,2,2,2,2,2,2,2,2,2,2,2,2,2,2,2,2,2,2,2,2,2,2,2,2,2,2,2,2,2,2,2,2,2,2,2,2,2,2,2,2,2,2,2,2,2,2,2,2,2,2,2,2,2,2,2,2,2,2,2,2,2,2,2,2,2,2,2,2,2,2,2,2,2,2,2,2,2,2,2,2,2,2,2,2,2,2,2,2,2,2,2,2,2,2,2,2,2,2,2,2,2,2,2,2,2,2,2,2,2,2,2,2,2,2,2,2,2,2,2,2,2,2,2,2,2,2,2,2,2,2,2,2,2,2,2,2,2,2,2,2,2,2,2,2,2,2,2,2,2,2,2,2,2,2,2,2,2,2,2,2,2,2,2,2,2,2,2,2,2,2,2,2,2,2,2,2,2,2,2,2,2,2,2,2,2,2,2,2,2,2,2,2,2,2,2,2,2,2,2,2,2,2,2,2,2,2,2,2,2,2,2,2,2,2,2,2,2,2,2,2,2,2,2,2,2,2,2,2,2,2,2,2,2,2,2,2,2,2,2,2,2,2,2,2,2,2,2,2,2,2,2,2,2,2,2,2,2,2,2,2,2,2,2,2,2,2,2,2,2,2,2,2,2,2,2,2,2,2,2,2,2,2,2,2,2,2,2,2,2,2,2,2,2,2,2,2,2,2,2,2,2,2,2,2,2,2,2,2,2,2,2,2,2,2,2,2,2,2,2,2,2,2,2,2,2,2,2,2,2,2,2,2,2,2,2,2,2,2,2,2,2,2,2,2,2,2,2,2,2,2,2,2,2,2,2,2,2,2,2,2,2,2,2,2,2,2,2,2,2,2,2,2,2,2,2,2,2,2,2,2,2,2,2,2,2,2,2,2,2,2,2,2,2,2,2,2,2,2,2,2,2,2,2,2,2,2,2,2,2,2,2,2,2,2,2,2,3,3,3,3,3,3,3,3,3,3,3,3,3,3,3,3,3,3,3,3,3,3,3,3,3,3,3,3,3,3,3,3,3,3,3,3,3,3,3,3,3,3,3,3,3,3,3,3,3,3,3,3,3,3,3,3,3,3,3,3,3,3,3,3,3,3,3,3,3,3,3,3,3,3,3,3,3,3,3,3,3,3,3,3,3,3,3,3,3,3,3,3,3,3,3,3,3,3,3,3,3,3,3,3,3,3,3,3,3,3,3,3,3,3,3,3,3,3,3,3,3,3,3,3,3,3,3,3,3,3,3,3,3,3,3,3,3,3,3,3,3,3,3,3,3,3,3,3,3,3,3,3,3,3,3,3,3,3,3,3,3,3,3,3,3,3,3,3,3,3,3,3,3,3,3,3,3,3,3,3,3,3,3,3,3,3,3,3,3,3,3,3,3,3,3,3,3,3,3,3,3,3,3,3,3,3,3,3,3,3,3,3,3,3,3,3,3,3,3,3,3,3,3,3,3,3,3,3,3,3,3,3,3,3,3,3,3,3,3,3,3,3,3,3,3,3,3,3,3,3,3,3,3,3,3,3,3,3,3,3,3,3,3,3,3,3,3,3,3,3,3,3,3,3,3,3,3,3,3,3,3,3,3,3,3,3,3,3,3,3,3,3,3,3,3,3,3,3,3,3,3,3,3,3,3,3,3,3,3,3,3,3,3,3,3,3,3,3,3,3,3,3,3,3,3,3,3,3,3,3,3,3,3,3,3,3,3,3,3,3,3,3,3,3,3,3,3,3,3,3,3,3,3,3,3,3,3,3,3,3,3,3,3,3,3,3,3,3,3,3,3,3,3,3,3,3,3,3,3,3,3,3,3,3,3,3,3,3,3,3,3,3,3,3,3,3,3,3,3,3,3,3,3,3,3,3,3,3,3,3,3,3,3,3,3,3,3,3,3,3,3,3,3,3,3,3,3,3,3,3,3,3,3,3,3,3,3,3,3,3,3,3,3,3,3,3,3,3,3,3,4,4,4,4,4,4,4,4,4,4,4,4,4,4,4,4,4,4,4,4,4,4,4,4,4,4,4,4,4,4,4,4,4,4,4,4,4,4,4,4,4,4,4,4,4,4,4,4,4,4,4,4,4,4,4,4,4,4,4,4,4,4,4,4,4,4,4,4,4,4,4,4,4,4,4,4,4,4,4,4,4,4,4,4,4,4,4,4,4,4,4,4,4,4,4,4,4,4,4,4,4,4,4,4,4,4,4,4,4,4,4,4,4,4,4,4,4,4,4,4,4,4,4,4,4,4,4,4,4,4,4,4,4,4,4,4,4,4,4,4,4,4,4,4,4,4,4,4,4,4,4,4,4,4,4,4,4,4,4,4,4,4,4,4,4,4,4,4,4,4,4,4,4,4,4,4,4,4,4,4,4,4,4,4,4,4,4,4,4,4,4,4,4,4,4,4,4,4,4,4,4,4,4,4,4,4,4,4,4,4,4,4,4,4,4,4,4,4,4,4,4,4,4,4,4,4,4,4,4,4,4,4,4,4,4,4,4,4,4,4,4,4,4,4,4,4,4,4,4,4,4,4,4,4,4,4,4,4,4,4,4,4,4,4,4,4,4,4,4,4,4,4,4,4,4,4,4,4,4,4,4,4,4,4,4,4,4,4,4,4,4,4,4,4,4,4,4,4,4,4,4,4,4,4,4,4,4,4,4,4,4,4,4,4,4,4,4,4,4,4,4,4,4,4,4,4,4,4,4,4,4,4,4,4,4,4,4,4,4,4,4,4,4,4,4,4,4,4,4,4,4,4,4,4,4,4,4,4,4,4,4,4,4,4,4,4,4,4,4,4,4,4,4,4,4,4,4,4,4,4,4,4,4,4,4,4,4,4,4,4,4,4,4,4,4,4,4,4,4,4,4,4,4,4,4,4,4,4,4,4,4,4,4,4,4,4,4,4,4,4,4,4,4,4,4,4,4,4,4,4,4,4,4,4,4,4,4,4,4,4,4,4,4,4,4,4,4,4,4,4],\"coloraxis\":\"coloraxis\",\"symbol\":\"circle\"},\"mode\":\"markers\",\"name\":\"\",\"showlegend\":false,\"x\":[-1.2283726747378292,-1.0586797322719674,-0.36809200385986507,-2.9194105595542985,-2.0317333365908903,-2.705326019377648,2.2928311212535775,2.345078550204035,-0.4527515181100955,1.8242242701248035,-2.022588007565852,-0.1256627889410927,2.565380246110862,0.3300033178985253,3.181243780475066,-2.483071324250231,-0.09141415518238803,-2.0330278996758677,2.140937984777381,-3.4538087690411885,1.2678187161905599,1.2281085727318028,1.9584210774324469,-2.3024776416914405,-2.2747219018207616,-1.3532433039726572,-1.0162504993750119,1.642784145737444,-3.586036358311224,1.957270177554336,1.7945500166676045,1.3142305206346978,-2.6518797420285267,-0.6442928127585668,-1.959100251285771,1.027772530774446,-1.4334468509543061,0.17126072221536706,0.7834288833459696,-3.1405293652965534,2.9272519240225052,-1.0070500680439383,-2.249798578005012,1.5769678443767812,0.26066575782847556,-1.4305282916451374,-1.5482381273528292,-1.5737772116519733,-2.100676667401377,1.6658057125786017,4.661941522544699,1.088361539666066,-0.2558663175911626,-1.2167265054798717,4.792562328651165,-0.8836739385494323,-1.7658006476134214,0.43229410819549663,-0.8912755743023093,-3.3905371600736895,-1.5439397644500323,4.026990542688467,-2.435543661476794,-1.801591331008376,0.35331781856150357,-1.4630480240548598,-2.7336873744848726,-1.4251761003605548,1.7706239356842361,0.0007232815199686996,3.0597968781370173,-0.343773554199631,-0.5604828043069509,-1.0166573611440697,2.0913760070289418,-2.3412448527273315,0.8138833325477494,-0.5507158475184185,-2.763206041332982,1.7708984591921115,1.1835699237538526,-0.1366504269224978,2.5584417300089184,1.421155945350609,-4.0621171282635835,3.314776832072621,2.2922223232888355,-0.5365112984303223,-1.8106570600993428,2.4705704170434934,1.2599819910087948,-1.7508423056752573,2.9491143908479347,0.8893587468347582,2.049201884242349,-1.3549219048842818,-1.322332267382277,-3.6916333892400615,3.4832860708846565,-3.226772431049097,0.06799970552735878,1.9669004088869273,-2.980253368564712,-0.7817459800087205,1.472739433850541,2.972804952284354,-1.240559529129597,-3.061185469429741,-2.7663128230878944,1.235240565034076,-2.635518139800832,2.5658940874531577,-1.6327202401723848,-2.6132273345544816,3.126259997770221,-1.4033580915252144,-0.4290363054699165,-2.322664980408383,-3.1270822014195745,-3.449531159259106,2.415437618033912,1.3548064044018464,3.9294419623818864,3.194111237702967,2.5151135289416464,-3.5079735348509713,-3.2215976950240095,-1.2342037078267547,-3.4606451703342516,0.14841525387888202,4.172198075830972,-3.5957343844193463,2.3185710474828625,2.009483073737138,2.4853777422582475,-2.11454757474856,0.7863572034765663,0.039445458038520745,-3.7168750945863738,-0.8602443866114112,-1.5084279994193484,0.43992231327871556,-3.0963335633473568,0.766230466828965,2.765443111911171,-0.7517465478172225,1.618326138446026,-4.81208044922928,2.505368126828036,-1.526227922430702,1.6582384776892722,1.5889580800567764,3.7617830335876636,1.298558138220953,3.148325215769055,0.8817899365151207,2.6902574337737963,1.6249479880959687,-2.335634195181542,2.4588506534432173,1.5793301509404722,-1.250573409205801,-0.9851905963444268,0.9800702325883146,-1.8049186375984816,0.7742760823040428,4.20021367940791,1.94917566980381,-0.21825500904304532,-3.02912244577896,-1.1127217104974552,2.4350031495117137,2.8704279742825243,-3.663674434335492,-1.9546899329744865,-3.6331699011359855,-0.05719155977846697,-2.6462176151099683,1.170267800495909,1.255233705136466,-2.4829239413176984,0.17398553947907822,-0.09543639818190336,0.619316584701982,-0.7282654405761355,0.23161751381644027,0.23517153554891787,-3.178383553088165,2.091195410218604,-2.2882137266860756,0.8404964727457959,2.100454884777529,-2.252726013997488,-2.6324259851890957,-2.0246743403657055,-2.5699669479857756,-1.7558707198003871,2.4278068120775727,-1.743941667484487,0.12661358425040606,-3.3381091452100455,-0.14223433003087485,-2.7781225292664127,-1.3915084324150198,-2.9500266362304806,-3.0262716402281495,3.580101568085019,2.2817942397692113,0.9722837544235416,-0.5218208984083228,2.450173046815453,1.5743160832087018,-0.9857935979682536,2.713231200038962,2.2471497604417263,0.29888172786547845,1.2454057101300133,-1.2537628767185882,-0.18573853310563473,1.7294703796622481,-2.4394983487384785,0.6996031762009383,1.2061237717842206,1.8529520310362768,4.496502443864227,-3.090986885648216,-1.2870421038879127,-4.637654641088015,3.453560340514808,2.6967043527178594,0.5917750777768759,-0.08260563917479069,1.4847248936345947,2.4322740486546937,0.8316302876980807,0.520106954285212,-0.3876250757075088,-3.0122095040794266,3.17541692849309,-3.3373465089822765,-0.41044671806552124,2.722875705219051,-1.3461513256855588,3.0481304693033686,-2.1984170035815374,-4.6483941839320835,-0.719952071024096,-3.2830258118192157,-2.1414275770223785,3.565480221248862,1.501558380502595,0.9287283841657823,2.895228226937164,-2.985874711721993,-0.2674235278608017,-2.798765417480907,-2.096624394633359,2.2306192521540398,1.6388474954128336,-4.055593461497715,2.0612222801068794,0.5895128715360655,0.9285557107784862,-0.6841235730672534,-1.4151852884315004,-0.20151789969590037,-2.752437584387405,-1.5712319283585943,-3.266367422619228,1.0945678048118623,-2.27487162504599,2.499946174534897,2.627745821247799,-3.148920589894616,1.5396087166189119,-1.1489207996614994,-3.0927939698629094,-0.43284990649891164,2.12267737627795,3.1046177740970577,2.087496769081954,-2.110332014939939,-0.9604245717235104,1.699541331397623,0.7042240329521828,0.2122018062861002,-1.151862315975443,1.0090824485516925,1.4518192602972326,-1.0350737547018853,-2.2570371304748105,-1.469955986961035,-0.5811981530921737,0.6393738578074033,0.4284455356959317,0.04498465673303052,-0.7228684570749969,-0.7864043104730896,-3.6978930587840217,-3.2076740274858664,-3.122416300741295,0.03154790747313622,-1.5884270353121024,0.9559351404504146,-2.691105367707891,2.344344016473297,-1.799013492695024,1.1129192154882352,-2.070114281945826,0.713322698801724,0.0751742079106212,0.43563960486062747,-2.860544100710942,3.75464848497896,-3.0462921977795867,3.1390016382236703,-2.562623011690055,-2.8008887028401426,-0.41633529871575387,-1.8252987000880394,-0.7537458527974044,2.611044081619932,0.4930916270690508,-2.0129209170183384,0.3180627185839928,-3.8540067963365487,3.1469531899633267,-1.1951881488476106,2.3543730117468047,-3.1592109796579395,3.365833276879206,-0.1385418229371933,2.47432273945412,2.3731894439332257,3.52772363550006,1.0973934095211375,-0.5665224235073849,-1.3276596885180327,0.38098088372735384,-0.9634880075885442,-3.437496060430025,-0.6499220348313666,-3.2545792044548985,0.8138857071539987,-2.589579672156263,-3.3803973579466366,-3.4686560344227475,-0.24063813308635423,1.5080899872660822,0.399924781356712,1.1841730253747433,1.797602911039157,3.3495771879514455,0.588875258824207,2.730466029034507,2.606490098963586,-1.3058307935891722,1.9806944500883317,-0.7598677864036051,0.24282487499257227,1.7492979351795443,-3.396127771742463,0.11369210577287371,0.7360920548676729,-0.2144365564522323,-2.8298320637830643,-0.624745771592836,-0.778206767472715,-2.7956815116481777,-3.241100368869561,-2.41988660033534,0.3268816304348904,-1.0430645890406776,1.8220289239318905,-1.3780531240917226,-0.2972853998355373,-0.4074767004707647,1.3069799268005728,-2.3821841261196806,-2.739536102436114,-2.9923279159636214,-2.389284822397736,-0.9404039548885784,0.9336868529908322,0.22594309119537287,-0.5320183271695383,1.888116931891149,-1.1129545400268168,-3.4979744881833827,0.7647676592464683,-1.7849230128103428,0.4809574306591834,0.6751050896276017,-2.572509497513654,1.7812852629365372,-2.359722803088088,2.787661174258053,-0.908228392952669,0.1560640778498688,2.798567934054304,1.6519785065695574,-1.767982560920413,-4.162486465888845,-0.6011921857201737,2.816043364780728,0.6199075880758332,2.8038951842325273,-3.071396016399039,-0.6557469733533692,-0.011763107511883092,-1.736152710127013,-3.0882144219643837,0.6190766065127026,2.05202265219915,-2.1572678199944453,-0.8405659805008204,2.5827978216500576,2.0174183114704953,0.2924157036646621,0.5699018894620707,0.24250662141588494,-2.0600607045535466,-1.1467281212044338,0.7114773122033957,-1.8273515433672562,-0.3346247534980442,-2.080013629422598,-0.5948847184349175,-0.4541039923143836,-0.14202887028932726,-1.032270901197338,-3.012954821270315,2.9660725005602564,-2.05960267093764,-0.03857835121396727,-0.35692173207831135,2.8341464528758595,1.2859573666880098,-3.2001471648668316,-0.2532407456534527,-2.3307605576824892,4.2465475896205485,0.7800381420240257,2.8365539761773966,1.0136570567962973,0.1992346765361153,1.0312819803309028,-1.3201838667154888,0.30900266735924553,-2.542108127720398,0.12482321530655176,3.250341819919128,0.6497482871661437,1.2294421775352118,1.4535301857721188,1.9237337698701482,-0.9091420303409067,2.2616207585691583,-2.076478077697149,2.713323369929493,-1.7214995891849947,-0.8479141560657933,-2.2711625210789816,-2.3500228020016647,0.4667808337206145,0.24121302627524843,0.6167972290056545,1.9848148664760934,-1.9774082798373818,-1.74243449159249,2.230300425803725,1.677027939046423,0.06441332810918411,5.2767662955329495,0.21485450046410515,-0.975842739615244,0.44199147842434117,1.3197522564278246,2.1727913507325414,-2.090547753093853,-0.8675926342376161,-3.7708346206122636,2.595917276445162,3.414907176361575,-1.0821987527430332,-0.9968157568064977,-1.6159653773124782,0.9425486259845762,2.514843778201709,0.7762941759120271,-0.1752063187678041,0.5739990542673473,-2.8516198051492103,-1.6542567634552232,3.7009175090582853,1.3594279235574918,2.806511168049109,1.3473025364779454,0.27989412791412993,2.226276565879193,-0.508622712292053,0.24310622880082075,2.1761710600802266,-2.3415598806110958,-4.020726370611802,-2.5325314534230188,0.5453175533658873,-2.4803796165365566,1.2520552022770461,0.37248088490520626,4.120507640978514,0.7037697545628329,1.2368632716601868,-3.4231948848899902,2.3375456422131213,3.4311063842582725,2.3676529563513813,-3.032598126707867,-1.2719484512381833,-2.6698546950856685,-1.4679810298587759,1.5749744823346365,0.28216162279017704,2.4098922067021955,3.1384401157767616,1.2109833833814447,0.7412490645428841,2.6421800045054478,0.789225436628362,2.06112134970463,-3.29887611868196,0.09161106860228364,0.20045124938161088,-2.6894154787991034,1.5994410650511746,-3.3412239042356364,1.4321832319146464,0.08446757290551382,1.616994797479775,-1.850560668668053,-0.2284376257901131,1.7084465466430092,-2.8325706446471863,4.15075940423511,0.2599056797182081,2.1130281274745792,1.8905386141488705,2.3007800430637446,-2.381385635454975,1.3868699263870352,-1.7036540873940305,-1.0997251705179036,-1.6011412688469235,-2.209670726292392,-2.320359545379429,3.0922172062206097,2.0728606902548585,1.14202064757798,-1.63643893311508,-1.8219578836540558,1.9362670259946622,-2.9655698913776773,2.5438033836171887,1.1971181777268292,1.4862082308038909,-2.57603212889699,-2.7625405797885514,-3.0064175884888886,-2.3460334135075045,0.43655441269925865,-0.48954910656633094,-0.05091214195371614,-0.6224096582341878,-0.5901469597154699,-0.006063097360160164,0.21935896758624424,-2.9295008940621563,-2.0428634309029348,-2.3742967894537013,0.8205220630803508,1.5658245593003477,-0.5070353800804029,-2.799948289550266,-1.524142554842908,-2.1380168967357696,0.691724353997665,1.5906439424941707,0.5228818114313462,1.998035280408398,0.9966884251143032,0.29599641850695046,1.1026379725684967,-2.456271374997231,-1.4781230536975385,-1.3149610148335253,0.9960944565964225,-0.13265486098305548,1.405363009556687,-1.4938547151984944,3.098326289989625,-1.4378676472092478,-3.5000732351489443,2.5073536368611844,2.434720564911941,3.367000624617587,0.6769275000281211,-0.7644967962520961,-2.4384544545426876,-1.1935793232135588,0.7073725155827696,-1.681845239401593,-1.159683634168137,-2.5742439347718635,-1.438863509893313,0.2292193567068119,0.7251663379228676,-1.0147973502196794,0.741141459739466,2.8897753937446673,-1.364067056570851,2.692949265755952,-1.5623170688208914,1.3580869944557976,-1.8339253523899623,2.573929380365627,0.5118904334303044,1.4789340650921226,2.779822672468232,2.2629367927723893,0.5397495577347988,1.2315194108611527,-0.10948133387319567,-0.32986467609842157,0.5398167811884379,0.4871045648477169,-0.8329770937177797,-0.7531506135876266,0.20548352743528123,-0.5484514075912361,0.14518132643362144,-0.32812272517950697,5.867312772890285,-2.4015694691663287,-1.0433713135590965,0.8385591691563519,0.4479226405174585,-3.4089166612825665,0.6886715341732826,-2.42974794868055,0.9038868653298991,-2.77670683282737,-0.1326915588247593,-0.7431917986124015,-2.9594673781150034,1.1611577900092838,-1.6562645215493776,0.8318137365610843,2.120728318030276,-0.5446599097018529,2.7732031345697012,-2.072567288796188,0.10270215192349305,1.912794724185576,2.768276621329819,-2.4833861295469486,-0.7736128366365594,-0.26096333034566244,1.3157448410529913,-0.2808361419631569,5.065707948048842,3.5306977131151185,-2.582925791428322,-0.054051946484237647,1.7650984595427557,-1.7647076688677978,1.4096037764730287,0.03687149587769154,3.231673587034659,-0.30410527923040964,0.039101243784111936,0.6763281738691878,0.31035136298457844,-0.5830017859456692,-0.3165984946198189,-3.048433887972724,-2.3061048558793082,-0.6633210553492674,-2.829663855050485,1.2495593602589243,3.000860230694504,2.625574123444266,0.6125455064686085,1.36491400896279,-1.0938276418966566,3.114662029138473,-1.2599853654315047,-1.6739709671557403,-0.06540056115106682,-0.3769783998557622,0.6102103092278951,0.1706562349449243,1.5389374069872108,0.5596851941957267,-3.141084468814167,2.4091584245361295,-0.8102973790852724,2.630605060638982,-0.8832678937343544,2.4906027834259876,-0.01916098206970885,-0.056635777809247556,-0.953664342712267,-0.595394068407525,0.5492167334517231,-3.5448300543790205,2.8011814073966637,-0.35668058998404817,0.19363378496362535,1.7266696415468406,0.2958247072643523,0.8299971995491546,-0.6486866240015844,-2.8691032647193104,3.970403709435202,-1.5621017671471815,0.46352158422293077,-1.6494169037212132,0.649682649139127,-0.4248448521467569,0.4662908100851037,2.110834256188937,-1.54158680009288,-1.8674618307109059,0.14091056878201993,-2.06909068376766,2.0739793575763343,-1.207743299764165,2.334488802349575,0.7146865003402979,0.5957834952961599,3.4205264672891147,0.19032683778300535,3.103182922733855,3.049206123512287,-4.606296976256527,5.3069976437822755,-2.5737922884890065,-2.6724205103737364,-0.2467823656771538,-0.2641499587045648,0.4305175456311983,1.0182605011039636,1.5183078410987296,-1.1320093477840176,-1.7772617174242655,2.1971999329174734,-3.2264756416540954,2.4531437095580455,-0.439896877028817,2.0827197178498182,-0.8305627471834629,1.645496615903717,2.5018728422847487,-2.289786763941638,0.1003019762797159,-0.8208697737285848,-0.6256776948473789,-0.7977782090467578,4.222936377275056,-2.9545676733899624,-2.388584181203447,-1.1449034135839065,0.052774698096827284,-1.9003369270366457,2.7368020620959475,-1.4623528301417308,-1.6390502967571579,0.8988621244288346,-0.03689993665215542,2.826242264931609,-1.1150382731507804,-0.23471757557895118,-1.0093486632250182,-2.2214246248131726,-0.1499640949221653,-1.963541239742495,2.3497843520058717,-3.4657207301176465,0.8453657626025878,-0.5872982926249332,-1.3399695618714245,-1.3644927315201791,1.6009417723475756,2.786514293689737,-1.744237455258288,0.9224820082117244,-2.3147216225019784,-1.082087084412332,1.8857146953507502,3.8308321131066907,-3.015699088095021,2.995977111496147,-2.433289000943677,1.9963359156103726,-0.8826244172945158,-0.3796196910393006,-0.011518637872017385,-1.5176841051351988,3.855746401383954,1.2303623733979439,-1.8588990033616963,-0.10388715024452823,2.1532088721156772,0.23351076842778276,2.116277104495218,0.6642162204313973,-3.766545653463778,-0.5161095155994959,3.858780975372509,2.8516170081348506,-3.0668113089075852,-0.24911694135275575,0.631347453714793,-2.9480435012455706,2.404233477043001,1.1754803057630479,1.3643158284145536,-1.4588434110969497,2.287761485623962,-2.1218737236435627,1.1382266066322488,0.017776872310876917,3.2129133384506328,-0.4242091634179896,0.6693098652891922,-1.669379014250538,-1.5401882217447056,-0.9713663830737507,3.9990753505038006,-0.8032842910430211,-1.4721377975803955,1.1047514453807619,0.4103823649771857,3.030680180686435,-0.08249133183709059,-3.5431599022212708,1.9581356144321047,-0.0027642616833641587,0.9211167224758247,-0.003972762241851791,0.9960924943731171,-1.266431872267706,4.184452001041269,1.1448608293407438,2.002954489685843,1.5377884034788476,-0.661799272783912,-1.780060275130424,2.345908027405305,-1.0511467771227947,1.5823550800631245,2.837809832321076,1.5138545069471705,1.7262667576426676,-0.9263147865552811,-2.9039077101924358,3.1703750920028724,-0.32482021113059595,2.567330706068426,-0.29807469468212466,1.002939468817317,2.571644267079503,2.91352619637823,2.2660129984294004,-1.4169193707692713,-3.3972688511520217,-1.865078599212969,-1.6760820010211415,0.07793671277428646,-0.8488093550769317,0.8509237578204205,2.2614931699283796,-2.9445782512211016,3.2197051077996774,0.3296885332422534,1.1428529299698627,2.7823205809374723,0.17059577249591945,4.931194204832051,-3.696303682707394,-0.6157492726719557,-0.25255009114814014,1.1011984527958292,-2.200986056410282,1.765839173497539,-0.6692263546999278,-0.004610798157796565,-2.306718532010749,-2.7928591994839023,-3.2549246358558594,1.946003737943968,-2.1119666390468446,-1.1915990758309345,-1.641024445859587,-2.05875368076012,1.7681266551786636,-2.423423790469317,-1.5542889221996008,-2.313006061251731,-1.7937455928207504,1.7069589610202465,0.5779797327216213,1.6096297461994469,1.1499011731196984,1.4291688961675029,-2.307932590324564,-0.12939690350354802,-3.614448644150502,-3.112772351232462,-0.25510929836353885,0.01626339866535836,2.2162198391923904,1.1563448666532858,1.9759853840743604,3.1340758270524582,1.4494809634675183,-3.2382674112875423,1.9604021570727403,2.287298844029934,1.2092847447964985,-2.7892045599573705,0.3735940399112986,-3.553133406881835,-1.3009367312516802,-0.5080421032393067,-0.9110649567203428,-0.7524097960038001,-1.8180920684611503,-3.5915442755486304,-2.0399260213601687,0.887791930357594,1.8017119154460528,-1.9840700933535984,-2.8161106331794445,-0.9505836996237781,-1.8676111722013768,-0.05116539344719856,-3.4457779225366694,-1.0324964952783031,-1.7094979463510873,0.21965023020811092,3.4187372777948695,2.439855602113067,1.4585497301283927,2.43705078240551,-2.1280328645068245,-2.8405985430198264,1.868999514092155,0.6126167052985262,0.017566549625075055,1.1331221602234751,2.5153768194309,-3.743297228142738,-1.689035802460154,-3.5417488466530234,-1.6465385523025398,3.150727069624497,6.812102997068643,-1.8294164640253674,1.9425396942815412,-2.1741931160921433,0.34128147156200744,1.3911099021763174,3.031856733532471,7.563197825076979,-3.638846429871751,2.0163364547651663,-2.356842591974425,1.2329292546219437,1.6992183214016015,1.012413579384662,-2.6453359564294447,-2.310622180126613,-1.5139686182179686,-1.70763667369006,1.4817475155413093,-1.777673268271853,1.01198079507276,2.6289106767528994,1.2624232081275029,1.0066618503940818,-2.1319068884960095,-1.5672550246085168,3.3587329964826305,-2.5940959075779286,4.002554075893051,-2.331998646000349,-1.275501861573365,4.141698632690553,-0.8485046977356633,-0.26498095134080574,-2.8202640507321632,-2.769454836490465,-3.5551574381148496,-1.156403108278231,3.058714308729107,0.5175043869922173,1.707373123805703,-0.29302831051667877,3.2490725258399187,-1.0144299865993485,-1.5896396538084436,-1.3749742402964762,1.327890533800423,1.3799180341068864,-2.6985375911875082,-0.5910418897270633,-0.3886382747776567,-1.2042021424352998,-1.999447703479763,2.079621122317836,1.0257837893926929,1.1366818921009827,1.1219480212111037,-1.686924240503484,-2.2983571182954403,0.04444811899842758,-1.1152473048449785,0.9353327995534296,-0.5700617963906007,2.0498082614005253,0.6564268028211657,-2.981564620580585,-1.1503332667439943,-0.559908486409894,-0.6323436287152614,0.6032564758153661,0.2939253504836939,-3.12575378349794,2.6660294555763753,-0.9436076378878768,2.1445813754666436,0.05845574769397935,-0.15836558968753006,-1.217839432290936,-3.0653181453817346,-2.2523106258197836,-1.2571307902638458,3.313795253008235,-1.789444348981946,-0.4726000270996761,2.358214608843017,1.4084889635983826,-1.389499777846698,-2.573918428097918,1.5609568625261343,-0.26260697163570695,-1.8369280348678585,1.2709968304775021,0.4074329946344684,2.6967532987183476,-0.67308241071755,1.3905495025629877,1.822057429333039,1.1897885400650206,-1.8833402195591271,-0.023798162661217488,0.21388364100604546,-0.9254837860971069,-2.3335884307862043,-0.5581140590136561,2.204383401130758,0.6477227795949336,0.08187146800210576,-0.44264636732252716,-1.4238662515307772,-1.4270609110717927,0.6210785531929423,2.543427220360804,2.4573165715046867,0.09629141352735428,-0.31035279392793164,-2.305137713807199,1.666322489798041,2.957243978261474,1.2774702387562584,-2.654639208498442,-2.021325645969429,-2.361245305468025,-2.1049388873958215,-1.5198983950719405,2.5647026149757424,4.455852115204946,-0.18375651407868576,-0.1651823994262937,-2.7666011885687545,1.8290635180736994,0.7396907128951583,-2.6687186382559402,0.7089749900756193,1.3911619620421687,1.8945523592604967,1.3116996653568394,0.944469469724079,2.146480073187499,2.337337005423571,0.8894688244596214,0.5066915084344181,3.908823604360388,0.2301708020150254,0.13550415822890696,-1.1537844824743544,-0.47110983087806907,-0.017214306881563175,-0.30123333468213603,0.7031395761548807,0.27735210025928286,-2.198949339104809,0.09948079931179167,1.5981201900533677,2.424404578370149,-1.9700327297423816,-2.549985982044961,3.6725140235430755,-2.511093959054821,-0.1871721656943419,-1.716478541889191,-0.7904678162179155,-1.5460399222777443,-1.3319988062567232,0.8389260601009078,-0.5575707870291817,1.2106994225980876,1.7626640260321718,-3.3654013629287176,1.1603776747307222,1.6301376674838934,1.7906923476424264,-1.740735095058069,-2.8238404606912906,0.5109119038578563,-2.454001207270317,4.284864223796553,-3.381194543527323,-2.1817951144551997,-1.3491202636509612,2.5792149658360426,-3.8497831489959466,-2.9385973586138077,2.3299371107172964,-0.1887043188777997,3.2426868921047585,0.6882319406103319,-2.293260658057009,0.455710811088627,-0.048982213190399325,-2.2896406683488455,-3.790016646481422,1.6486726835878052,-1.5584101579526612,3.379727939220039,0.34167232737476694,2.7589018652741193,-1.2057242602286822,-4.122049846676048,2.694317648486596,-2.2928546883521044,1.170756314983369,3.5059075174283505,-1.3419763698153162,-0.9194705650027489,-2.8689968523913727,1.5140426973938017,0.6168251125800168,-0.8292066356183329,-0.13126207467241907,1.6433136620593813,1.3751090690980474,4.095412801151886,-1.4255834233847364,-1.316325751309892,-0.2954154077714483,-0.04118598858583877,1.5014036656431429,0.2759688812444686,1.0476156369377658,1.5219249067690745,-2.4920068872971894,0.6779930222913292,0.3636583815797106,0.6129789412008312,-1.869978993794625,-1.6858411614943978,0.8572729443738742,3.817716701629347,-0.25795661765989997,-1.9768429574873791,0.31306951664134997,-1.1940537930605772,2.643870506537429,2.6292411988780797,-2.200637636850243,-1.4068285588411726,2.555306163154928,5.6867328849043846,0.07665164703144776,-3.2152301008300985,1.0802836955564026,-0.5267419846971771,0.1525666363944126,3.763412236630979,-0.2103666867411644,3.032708778295134,0.28929530022019206,-2.296440717059442,2.225898341713437,-0.25893721605554654,-0.26193182416941585,2.255393848603277,-2.1778496222114643,-0.6359868604792087,-2.5865105510118593,0.47464302969620686,0.9130684198988455,1.0408898368786028,-3.436823609579362,2.886732643942034,2.7210840484493404,-0.5221118792297734,4.66150180003158,2.5769443872471496,2.6116894053960222,2.353322802632276,-2.3872019705538903,-1.1964246743448121,1.0235912868422499,3.8096127482816358,0.059209956320494035,-0.35128134147509027,2.4254599999414244,-3.426363114112524,2.2989481528200946,-2.6884394813642367,2.838319001681737,0.9758332115084165,-0.42097700403333305,0.8744087243642331,2.2887457244553584,2.2593256247862255,4.289673555761761,0.4980704458758056,-1.5452879451197228,4.193648123348317,-1.9056956663360678,-1.8395346531155221,-0.12475565853094911,-3.2794711602340834,-1.1020993681134474,3.220677722979512,2.4017621404183602,-0.7095291413903992,-1.0990245864011328,-0.20599430227253288,2.7840232759294508,2.860146689011448,-0.7919895394590423,-2.0245383029089443,2.9495487899200414,-3.813005131849505,-0.8041384473296153,0.7750777615869429,-2.70882473459816,1.6302878026406662,-0.48277339428906363,3.0809386337486444,2.971303489956364,-2.353386861779275,-1.9306468472925646,-0.19022984598922746,-0.34946902154389864,-2.637779277323266,0.7786841696022536,1.6761685613276607,1.0143162077123449,-2.4964707107706428,-0.626316924299974,0.35570129271167655,-3.5200801416284566,-1.3568177034544506,1.129229812614417,-1.3220033958719857,-2.5365384977601173,1.9945696090695755,-0.8110860607847339,1.082753238613236,-1.3463554332072674,1.434092068298492,0.5279389158282032,1.8859949738436017,3.0022636859180767,-2.1907645656065995,1.5254487615068013,1.9640846314272185,0.43755882226501774,-1.5481215496767062,-3.9975397140250646,2.636685858839395,-0.2362461337052231,-1.526082889531314,-1.193179175176395,-2.323546214282862,-3.3627647812768684,-3.8970804346280286,1.9999727438216535,-0.04380909309212209,0.13198714211021817,0.8610153300573672,-4.458512656301656,-5.10442981317762,1.4232098551314023,3.4331710051880266,-1.2996541241688486,-3.237877483841293,1.9950824878498032,-1.8328402467582035,1.0354270149211957,2.6866372824744116,0.33350842095223754,1.5725489197248423,-0.2144810806542031,3.121672862831667,-1.6068573721382282,-2.077550610515931,-3.7283294608844453,0.8053606617584329,0.1727949686698024,-2.3486528621949803,-0.9563871011321311,-1.6231694403632793,-0.14830684421119755,-1.1410389696367937,-1.8814190130761317,1.1357681668142603,-1.350561111103469,-1.342646677229889,3.737795229433664,-1.7958967799967236,-1.4340177338276394,-2.957291549891734,-0.5187328349689188,-0.8166498147773598,0.3255867363471186,2.0496163520723303,0.6698698756284162,0.27295276988796485,-1.8623851221202223,1.713182520483529,-2.8084375293860986,2.5383914405223695,-2.0137552301466526,-2.1507257039273058,5.502700035736481,-0.18820473223286951,-1.0111464212212506,-2.5760648357813865,-2.339541274745829,-3.5163905104126956,0.6633726130361803,1.3373544088619373,-2.738596658884528,-0.8565923045227785,-3.1412141321496883,-3.7305318118862836,2.686339413166224,2.8783486637849816,0.48233852247185965,0.9671950850685046,1.167718395288021,-2.9433220073615622,-0.4466460093595924,-1.0020338210756452,-3.455588541971037,0.964544676520692,0.2799846093400006,2.8995111117608663,0.5671702402414658,3.227582263225202,-2.565273120088677,-1.5535685985252574,1.425175313937543,-1.2112100909999597,2.740678964312728,-1.846684333899521,0.691870244379226,-0.47473239340814094,-2.0255641491596803,3.3941117907300957,0.1546457211344448,-0.8407858642105681,-0.6768490593478911,1.3295360082369032,3.45889087425058,-2.7319284523921383,0.12022828224909103,-0.4319035402852086,1.9764220094956975,-2.531693437295223,0.9151391920430174,2.0350008839193046,1.4225470530558477,2.9261495144742624,0.9446154253589529,-3.139660845789017,1.5719076679225836,-2.1580715253756586,1.4680659641442737,-0.6370530187022658,3.06396474520045,-3.4803185374633436,3.401902834691474,-1.6084524924776686,-2.56082781401247,-2.7939440060902068,-1.911134914017947,2.10149630193796,0.27622979177279594,-0.7969710633050171,5.210617459273491,-1.3014889726186996,-3.545259711548422,-1.7417480535123528,1.5330085298344074,-3.645797378852739,-2.4015392116864147,1.2088563396363268,3.7288408602805903,2.158418478702681,3.6124532059328267,-0.7872712368832353,-2.4423041358853848,-0.6888599087056984,0.5756496275716799,-1.2295881691154962,-2.76168791081527,-1.1337903526557551,-0.5222725332224641,-3.042887409209059,2.460705286572089,2.518095739956732,-0.4392008439691969,1.5564632526264168,3.6370861456795707,0.7187172964683756,0.3418029084571052,-0.6266264271481193,-0.19976127894686146,3.3166342601695944,1.8578721872321409,1.8731443173982525,-0.7844362530423821,1.2253423282233997,-3.477337022129073,-1.7163902765938321,3.169895487184407,-3.240441384795576,1.829341342053041,-0.9234062560944032,-2.228542673201125,2.2523251982161705,1.8101692567759613,-1.648778328555368,-2.1076092034316183,-2.969597779244032,-3.0017755495305884,-1.204410350291881,-1.9006576325478133,1.8892252592702878,-0.5208470220773218,-1.9690435607417394,-3.5401191875727114,0.20940599253912903,1.4003801987503874,1.6418830677434242,-0.7911659371156512,-0.240896857818562,0.15745198056743576,-0.6397457353423732,2.4616471675881506,5.105524987624383,-1.648096533271213,-0.6273613536994707,1.5756333447457134,0.3289316929635295,0.6659167269669772,1.4884972156334069,0.7360288822379407,0.5041252693850538,1.4396836941790578,2.5822827995771758,2.4337425015666256,-2.7199836486817164,0.5694523750312184,-1.901049363560115,0.12520210396496095,3.803544599860137,1.4203490696278083,-2.262034691974156,-2.526134070619438,-2.3405337072999335,-2.321429129789585,-3.0018710458683993,-2.445947620447294,-2.165330764059328,-4.1240657193638315,-1.8063354896936616,3.3622935007476595,-2.5300698049945507,2.508603450680235,-3.4185353232480273,4.126114825344656,2.00348087201121,-0.7773073539420857,-0.33691433301669593,-1.8326240985093873,-0.7162921305419048,-2.1252536499644936,1.788731717557492,0.7641057930060855,-1.9166955858155672,-1.0771948349902976,2.1953140004893377,-1.6599526147492722,1.5527211320840557,3.3887268285548475,-3.9150280815282477,3.6650507173672953,1.3249285541302687,1.347061807498059,-2.8076324063085756,1.0230081956733277,-1.5432349127982194,-0.006464427703254482,-1.8222844111359633,2.8521848299011348,-1.272202066992261,-5.277500091908651,-2.4862516950406444,-1.0284182832776854,2.131700944334656,-4.162021106621143,-2.8023547870086616,2.382735789428898,-0.3999919731195828,1.8725329449624362,-1.949501639089843,3.416208501878539,1.831953054787508,2.1842117379992905,-0.744431806839554,3.392348166010047,1.8044032649285358,0.6303175621231933,-1.5928574253887915,1.035259859383972,0.11621394723261941,2.747085627704838,-1.529267604576394,3.8320972648619516,1.6623276227128143,2.9439732924286877,2.1416252605400854,-0.3927838327101765,3.9316095163380766,1.9966023024136392,0.8543970933892158,-0.5812707312209922,-0.44810868185590197,-2.729716382382496,1.555603442921997,1.1157102587913972,2.979385117357527,-1.4692748834937277,2.8080845891526587,3.5731668439175057,-1.6404035566490494,2.910670569006677,-1.4521180499923676,0.8988682506311559,0.6607996802089863,-0.04312902244325032,-0.5102290746831404,1.896873699220179,-2.849510179022892,5.148989562478444,-2.7361640314038254,-3.0471289605570844,2.0416609288261736,2.7765235187885615,1.24849376282403,-1.252370523266762,3.3768637087605384,3.4915769243343564,-0.5190712681742972,1.7907432183365395,-1.2619956972660014,0.03848146198808483,-1.6241578625425186,-3.186534457948334,3.2076665261571224,3.6326124645674875,-2.3010805218782187,-0.035872464842448694,-1.0777877058836747,-2.030097471969345,-2.418205293636222,-4.209183592207722,0.06579666535225716,3.384988787041123,3.5188903920812895,-0.600327815316934,-1.4463439735491266,0.44818378105389217,3.365884957714888,3.7979700455444605,-0.7910260702570162,0.5991404389423493,3.4687454108188196,-2.588603250315805,1.8567948202869542,-1.0440192020773853,2.680683540840693,-2.7303802453339605,0.870706707070352,-0.648864069919633,-1.1667752868619532,-2.1499624544455065,1.7728035445243469,-2.183168306973661,3.205690996847619,3.1068723239279414,-0.30573434430006885,1.216562795526783,1.9581968677520996,0.06905904757348764,-3.2636577362076786,2.854288930808063,-0.8818402168296264,-3.4785736226825663,-2.2288232097821155,-0.551129669763495,1.3984263766534637,1.2583800634737432,-0.30053085092079646,0.011619269931007151,2.661853654324596,0.22187787197991332,-1.3216180804544182,-1.3722818730116975,-0.6897511701866508,-0.025730318558007975,3.174537264574261,2.9483835897999704,-2.4993494238373617,1.8254010790467687,1.8327293460597545,4.088363730930497,3.545649982620615,-0.8356242270099594,-0.03753137001613751,-2.1755587623355632,0.715926524594979,1.9045844245006351,0.988991963753388,2.305459537104362,-0.9715677502416323,0.26215046413649623,-0.28650149505464584,1.1670426737653816,0.7477872521282098,0.143018746706231,-1.122828007206542,-1.8575909172061928,-2.774331013156788,-3.1894764041136345,0.9008025436055981,1.9451333094022194,2.8462799142996493,-0.865951098999782,-0.19224521943361408,0.4012517248491214,4.037409884032613,2.112110659042068,0.14624269275117008,1.1252110560324013,1.3166503917364127,2.4654789410920923,1.1477410884756898,-2.5127424740869038,1.7135168858250702,1.5030466018507014,-0.6437697940690186,0.09773548102273892,1.3280442979610296,1.8100861956134364,-0.0018381771408987686,-0.7249291267168594,0.7684566286254179,-2.417583012050613,-1.152883451219912,0.2140439387318458,-2.072125779009328,2.0235669378303,0.38925716822852907,1.833151411939194,2.8816546768724165,2.6953083083329434,-1.7626137210163901,-0.3404721019884444,-2.4371052602782446,3.7036722365625603,-3.561895059860741,3.0738508526638344,-2.3296347101823995,1.2971617358573917,-2.921980030492147,-2.0663516730563853,-1.252475750867318,-0.8596776772072632,-2.9136302350688372,-0.8753833281884648,-2.0947340502764793,-1.076549478677127,0.1069373392866768,3.144140494473131,-3.6703224395879,0.3822811405045992,-0.007494164435002701,-2.666722679936246,-0.43850362247515134,-0.2399334505109061,-2.0015528809609946,-3.58488330703466,-2.159210539747399,-3.2914167874300913,1.5146580285017153,0.9358217884636316,-1.0563093183048662,3.3548679984460303,0.7869589129634343,-3.455321811789969,2.4481537363476393,1.5688287285109757,3.218239877412196,-1.7769746011372989,1.3681823647261726,-3.126469383204733,-3.605830861240259,2.346685832439902,3.1394404486665524,-4.067532840822878,-1.6719001654015957,0.7519226841318821,-0.5837844728041083,-1.5366865923356385,2.0129636086284552,1.7738949629998413,1.0772559021612758,2.3072579416614007,-0.9495339277039608,-1.347209990413355,2.292790115763627,2.776068509647816,-1.1838319127870933,-0.8013059152695845,2.644784546353791,-1.529006136352109,0.6514267909375968,-0.2873993985459049,-2.9409254776188347,-3.7442251185902142,-2.4624241911621825,-2.572154524941857,-3.233217510969196,1.1476939761650382,0.9332506273442127,-1.3451188800436185,2.8975842070974878,-1.7152910356168836,3.047332288308719,-1.2646443097563205,2.747571064022645,0.859194743194062,0.8546721271281522,-1.6716625523025672,0.5752233458244227,1.4167253348260014,1.97667450965175,-3.346136839403584,1.1280226878804531,-1.688851930454559,-1.3983472046740613,1.748900515779443,1.8460610903305832,1.144836006088681,2.2777591897340472,3.4824107465555008,2.120315883388223,-1.1035348276850967,-2.287275982354222,1.2171911557968695,-3.3726542466096583,1.3505810791122874,-2.874870591805584,-0.48426731648891364,-0.57212760504308,-4.554679744500905,-0.1628787689968633,-2.5048729072179805,2.509792977452599,-1.3739151571262114,-1.43455269115765,1.1882620846887586,0.8635993420135523,-0.600364593612265,0.45187986834319926,0.8593653125644091,-1.8557130368474393,-1.3808642881051598,0.5558512481111832,2.944576025303974,2.3493433478479395,-2.6277230103559717,-1.3520895411909506,-3.203643867808327,-0.17269510077344155,3.122346095683465,-1.1202414324819352,-2.7198087600014134,-0.4164528168936116,-2.307215057263108,1.2105800619695959,-1.2874499109841007,-2.9979164491997383,1.4873961138859924,1.7622829569077432,0.24826017700434655,0.12336358053317767,0.269498832011845,1.737537899245393,1.0960597207557063,0.5660295540671959,2.3529712694493887,-1.1014725683645992,-3.7487778263871223,3.3298616767953533,2.2485701626327788,-1.9602497981417004,1.4934351229474805,0.03137308788249573,0.2209048601847031,1.4466702029896017,-0.831693704193744,1.1579208909682972,1.970688437708205,-0.41736161074763745,-2.6893271985688956,2.1916868779127525,2.317892681388228,-1.6129856779820944,1.0874470157835925,-2.188643400916983,0.28563319029434514,0.8814163570404498,-3.093185296445159,-1.5674485296951246,-2.96221348642666,1.626333455961224,-1.4398371082895913,-1.1021330269465321,-0.11915016176213906,3.669090750227685,1.2859827485540318,1.6989830161192343,2.670473427833446,-1.6227812638808874,-3.0513660190840053,-1.945417627409876,2.424989497307766,-0.8702580273639303,-0.13208629853504442,2.1990450538280597,4.392581745927375,-2.3637929450985458,-1.4765466251232693,-0.7568091023177398,-0.1044958374276495,-1.6088900644052673,0.673476691706512,-1.9637953505349135,-2.428728337399529,3.295090319474707,-0.7615424704726471,-3.228078740801891,3.039096804693909,-2.704543409275682,4.22294933221203,0.9918461843467091,0.8145483423571336,-1.2321422413390357,-2.556787605796956,4.001603241849578,2.489489733405398,2.5145850499202638,-1.6197832621869606,-0.6645273922589107,0.3566404761170636,-1.4689018818312383,-2.330109052371852,1.0672499303795935,0.6410559456516312,-2.0201044165582043,-0.7490237070810817,1.8341765600589988,1.0591349457016208,-0.4078748764573082,-0.7857071478379473,-0.4953468753012017,-0.12976265880269391,-1.4878026698172626,0.7893879683853388,-0.29666510591547923,0.7491500415642202,-4.357803509897993,-2.731620981381427,-2.507327692402791,-1.882263696037482,0.14270069060212753,-2.8453644385655847,-2.33975606920722,-0.8577905753736239,1.2232963821647391,-1.8290449900549077,-0.4883429569794681,-0.42190039287081627,-1.20808130970002,0.37745312252747915,2.139328372404633,3.5515592919207295,3.557106384863735,1.8904083758616468,1.8234527560580278,3.829145648657198,4.34692324338453,-3.058204492115993,-2.274446226587972,-2.2997297574856153,-0.6983445056809489,3.8100743242352864,3.195485600752507,1.0879512886291316,2.2354109544838625,-1.001921814445051,3.8289395792412866,-1.187435276631701,3.8557352894691466,-0.390292595651619,0.04242573595669281,0.6382581393373937,-0.7839651873082694,-2.213803376153039,-2.217639399831314,-0.7405071708800727,2.113365828275838,-2.233598569406019,2.103205996053095,0.5416362439605865,1.2318137995398024,-3.2073185926311067,0.4241151234517872,2.7048214378972903,2.254800782219027,2.2156693709901236,-0.6842315667720389,0.613225427242988,-0.3726885103166915,-0.9931112930803692,1.4287913006685102,0.3459234230819948,3.887727007996697,1.497692981429727,-0.9397890811325889,3.6977112789147464,-3.2568885537999224,-3.321655935242341,-1.1232160522825823,-2.0539321026176802,-0.3569702410847159,-3.4993143233142177,0.7753925531064277,3.3757625265965685,-0.5362720295299471,-1.2924295844750313,-3.1534775726793116,-0.37978670616791926,2.137864029582276,3.1952011355442407,1.4553490955485853,-7.159824437206435,3.9393018706249827,-3.4222572391381028,-0.3596920169283441,2.3999631843222358,-1.1995556682079491,2.615071559323521,-2.1943307251105706,0.5262482857558165,-2.5828177701627153,1.70850976593361,-0.2449515218963752,3.0519287207497454,0.5080826968171632,2.516036174661285,1.7158330559994175,-0.3519441618146894,-1.6059880961622102,-0.8978192458609323,-1.257882213499114,-0.12448654384521969,-1.9729011491192947,2.503798575728951,-2.223087815708995,0.5228658253336316,-0.40366177569223544,2.8130626516444948,-2.573381200400995,-0.4290991463273504,4.700312040952982,0.4128983558503327,1.7639396118580626,1.3664483846144846,-4.391502637062862,-0.9555905238756607,-1.1338954718977698,3.181965313529934,1.4044636347941895,-1.7286325788433743,-1.8985477945148281,4.081112222790478,-3.7328218203071595,-3.9774949127855947,-1.1682938722155591,2.2937534498003953,0.16102277804815376,-1.7579341648899458,-3.1351260121514404,-2.787734150643657,0.2141553208315579,-2.237229592805937,-0.1812600915997449,3.333606595925611,-0.46355392554013575,0.8568972949886059,0.4439329031244692,2.386514150000952,0.9294796910676378,1.0215147929893666,-3.0986783466135877,2.982571397843812,-2.05431673027335,-0.3848877583697896,-2.0470020665600854,-1.0026934605526265,-0.49829232708512927,3.2877036946030262,-0.3081586891010527,1.247558633080129,-2.5521213482792136,-2.58023932938143,2.141964932372997,-1.7651765126792345,0.42384282738931434,3.48057841984868,2.694609336909222,-1.5866339935049996,-0.6199774027458401,2.9249850367459698,1.9424447749993508,2.555716727727249,0.5476470746602469,1.0669902720967874,0.9392559212924189,3.599163783047808,1.2146843815732948,-1.7678004378754792,-1.31168262254881,1.3269107608272592,-0.6306766101021882,-2.9122004309450724,1.174782840454944,-2.889100916140256,3.414869934117263,-1.7551507036767662,-1.933583576076108,3.261926883980341,-4.280668059665462,2.271364678962474,4.291733379379559,-1.5999665234511087,2.171410081553567,-0.42819047398695087,-2.963472752108892,-2.4892022562462093,0.17712324602428162,-1.7411232073917915,1.126259372555191,-1.2932549880302338,1.8965208383911152,0.5973990400963548,2.6045602602655045,1.5040461074691485,-0.10086069388598298,2.521980058571926,1.4529715333915856,2.704250832730897,3.098289377283312,-3.1427950303128136,1.0448998125320224,0.23400389272503738,-3.4796732949354356,0.44291409965143075,1.4718247844579708,-2.286104232929989,-3.4484746144929925,-1.075907160480806,-0.03270870457583615,-0.07715654069490362,3.5856729291718814,0.9085302057250828,3.182624036516188,2.989842970303835,1.5420494983924435,-0.937523112833772,-0.11189112404322317,1.2329961151103932,-3.7399395154061215,-2.579865710679046,-2.9444813062864568,2.215165585218608,-1.8251359902965392,0.23263629706440608,2.3180841508755057,1.5452264901021169,-0.7903630329924907,-1.2129091338260491,3.957932707589651,-0.9040161351255387,3.2526791467869756,-0.23747470077445745,0.7426567738383262,0.8748843789601944,-1.0573307392028604,1.2551107021230032,0.2883685384131733,1.6450420923380733,-0.22871571238121388,-3.0031976842770796,2.922163919830849,-3.2946005995854875,-1.286628382069199,1.6326601949602053,-0.7194254688524404,-3.239539529876599,-0.8952316699322274,-3.0581158362856944,1.9429449921451396,-1.8916772817155216,-1.8697059057070162,1.4918318251896985,0.5957223614779934,0.9793761825713774,2.2669128780625236,1.6359004034782954,-0.5096810574797732,-2.9310998177894683,-0.8112094745468914,0.46209415472760906,-1.8843320517375384,1.9439992165443547,2.729895720773016,1.801970526832319,-1.532648080519259,0.8414772841567723,0.631879631742295,-2.326473909611531,-2.121299505401872,-0.9675821473411401,-1.2595468754722774,2.2948955690841464,-2.569868071182144,-0.7920875407395481,-0.4276960550051295,1.7566928425592656,-0.27107003420729936,-1.8139857129018484,-1.399476182057303,1.457790497286165,-3.24949613556113,-1.991839299894509,2.932516774840747,0.9462942364522329,3.1007777745610845,-3.6670969185568185,0.23854560312174486,1.8090255929702228,3.313232967730886,-2.942060070265071,2.3839340878801267,-2.0830943475257406,-2.3504400476893053,-3.8120559165549874,0.3301880096285099,1.2249488974852445,3.490907543717447,0.5105767162501185,-1.9248024121975287,3.11537863558117,-2.370524310199173,-0.7388134158099398,1.2767973862162318,-2.64593717577324,0.9286229653292548,0.49225586078447026,-1.3028502963458022,-1.2438198199916712,-3.9820028448987492,0.7618389002934647,-0.9049555041180595,-2.4389825172067026,0.4418396915810007,3.452955471094488,-2.866742869310005,-2.9377226200510704,2.6315376236642134,-0.24179172931372545,-3.5642926823932277,2.1784323976762017,-2.2778109618248124,0.1634215453377158,-2.9354209175086803,-0.19998189223889384],\"xaxis\":\"x\",\"y\":[1.6845657480459917,0.11098256551979398,-2.6648293256664344,-0.22247027941327271,0.4963684782246321,-0.5339333425251032,-2.4550329168774416,2.701074787069,3.720921843040051,-1.724357216420151,-2.780527254257225,2.9406358321658526,-1.217254689007214,-1.0322519704968869,1.1931080291640674,1.025287488533194,-0.34961266502009525,0.05769360522461003,-4.628184116784996,0.6151561353076846,-3.556056165067351,-3.208317096879025,-3.1991874937959452,-1.7401103607972543,-1.5257028366453835,-3.6376145639546595,0.22432021271983157,2.2972023176337504,-0.39469460000044876,-0.7780026411712221,-2.761227113412081,-2.5105066571715984,1.5007016986557513,1.8965605276407111,-2.788639125802728,-1.0168711313397356,1.0262193415793626,-1.5710382286794138,2.349675927176546,-0.9813602936589271,1.011988455492751,-0.03114190448259036,1.397069147034861,-3.3839003976526123,-0.3245657792375324,3.0150193941546806,0.8639702417737481,-1.4263811682752916,2.0491178864128945,-2.7388455423434626,-3.1379929005300764,-3.098713190020785,3.4327933515982423,-1.0144793193206523,-0.41967855889833733,-3.5430573428155516,2.6806923727260075,-2.619021675201319,0.30661237986359724,-0.05881024261818626,-2.632064849188338,-0.516900838898325,2.7802403710712156,-2.5416468569995603,-3.5993040964636918,-0.29095727048894926,3.0785660311467518,0.2114715816716679,2.8925674178655085,-0.018636790894644057,1.9257712055046965,0.7730720574346165,2.7160627792956795,3.2895151126210727,-1.340897653392844,1.7297469721517664,-1.748422972804643,-2.215730681930336,1.7801918510104824,-3.01045361692069,1.6219125477205931,-0.48715165744198397,-0.6509071419800084,-1.0228960309836486,-2.464321291245636,-1.064927148231512,-0.2724446443185663,0.05483403822486243,-2.1134463709613365,1.1293667649395143,0.48453575150741435,2.1558660579708038,1.0741238402941382,2.0090097329388286,1.5723794004266094,0.29279743742230346,2.0985392421159252,-1.8625621915253663,-0.9583966219049453,-0.8885944287021693,0.1416674725135966,-2.6263165928197454,-2.0983466476824275,-2.1737227013347598,1.8963611165118746,1.158348596240288,-0.2982262171171202,1.4185497790352193,1.6027041735773344,-0.2051576405320693,2.298052060508171,-0.30871486233628326,2.3360720532899277,-2.71990730391854,0.7934670106446087,-0.9727177756250938,3.923598910019378,2.272523729966115,-0.562057604464692,1.2255511533099563,-0.8563077088934908,2.3091526609747173,1.088819661054234,-2.4669700447341394,3.156316514498972,-0.6122119425217788,-1.6443866871649775,-0.6156700925399791,-0.7775365756961584,2.940585190499488,-1.2458878652579417,-0.45274402016911097,1.3351913944543188,-2.696221656535785,-0.2006636420498434,-2.0344459988982626,-1.7844611924465177,-2.466930122462683,0.6795090878972866,2.72492116253874,-2.1598350486827713,-3.402459109267687,0.2775299068894471,2.685002503465238,-1.42993037436581,-0.926776291159542,-0.6325357070239556,1.0658436260463127,-0.2949338213934521,-2.996700647175057,2.9228641844397663,-0.021638574893421254,-0.027156110396104775,-1.9320171035451665,-1.1745326421822153,-0.25169050963096956,0.11234509704597477,2.093505635764853,-1.5915144724976593,-0.7070334259109363,-1.2967591627188315,-0.3497272477111048,-1.877601888394306,-3.9125270431358854,2.409368856989313,0.6660001412720774,-1.0316938653709804,0.08721626334283614,-3.284788431645782,-0.02688761657645009,1.3626097610175194,3.484912754318549,1.7783370082149959,1.0498079477280093,1.6477395838257898,-1.5568448485601485,-1.243592206897201,1.1656933054945795,2.027515713887256,1.7307108722062914,-1.366042518326142,-3.4392115993672023,0.6431727009864645,1.291281837312003,-1.2228594723145114,2.776289258373971,3.225242416312689,-3.0975864415763015,-2.382766449593568,0.19673840369996853,-2.447576495417544,0.8606087128951738,-2.7333924914430936,-0.5679862155784033,-1.4031124057291886,-1.1281772738722151,-0.00501235855829688,0.1155877654603681,-0.693723561618475,2.2102123676399876,-0.647944223915662,-0.08308833106902529,-2.176527779409125,1.678200852444671,0.0404617386363579,2.0791371385996746,-1.7045973755900232,0.8209520570074647,3.5413696631309612,2.20134236250959,0.08151524101657161,3.2386378700857454,3.106424812343422,-1.2490489109558613,1.9864966168167655,-0.42381731415364615,3.507667850956745,0.9039862784718238,-2.641514983654838,-0.9196865333200593,-0.8316669907251647,0.24859075533636082,1.2358732011914988,-1.1846078493970726,-2.5205717065753097,-1.6169573440750635,-1.778021556607016,3.392472180420986,0.9344667870808084,1.517791747591303,-1.3755173690020048,-1.7518626616693618,2.593012497244556,-1.5981617433385529,-0.14913334228325187,1.3879468190712279,0.5780277399983991,-0.9537747533444749,-0.4148310225245358,-2.0239796540175665,2.0610637216232286,-1.5939141510642274,2.6923695503414113,-0.5540899033403749,-1.1419257611639093,0.07157865047631229,-2.857611215886118,-2.724467133057149,0.4586340500314298,-0.8223957049110097,-0.260698228011762,0.11592430089607027,-2.3635640730635594,-0.2820650692372819,0.41932476525887336,-2.106035380711804,0.9049914379287012,-0.5819518034088172,2.513515938617797,-0.3681022186048718,-3.1047705886769252,2.2579885742530803,3.1313135084728803,3.8476982212011954,-1.811894786661642,2.1792215355158566,-0.8427668117743348,-0.1299087881509418,1.9634967206732024,2.737369115748034,2.24172666485338,-1.1388676759967038,1.877506797104338,-0.22982190549191875,1.6115794367565603,3.191439282776436,0.6439334022870773,-2.086334374784356,2.252724084403793,1.8420847999183858,2.884102021634056,0.681760940782661,1.63681056989783,-2.524972079044678,1.6294195969105607,2.8872922977844153,0.5061356165461307,1.8167943118019407,2.420719493896856,-1.127691278431707,2.171979519622456,-0.47294315246596735,-2.9191000072700284,2.665150667764931,1.956168608868165,2.0486646329394387,-1.30142220395566,1.5576805315845357,0.9593654287004184,1.4853561030477727,0.3804484487963945,4.019971171948749,2.821231819542881,1.770337268517083,-2.0438603739355785,-2.1913400027497327,-0.12747638241435605,1.4705500766224529,3.560387334626718,1.1680336813903596,-0.8207534844211993,-3.176544861549292,1.6049666590038782,1.5392579277668916,1.0485366875564666,0.653049903109379,-2.21469686261597,2.44718823997586,3.836135958305578,0.9634108806081333,1.4687680551147118,-0.6752350729133328,-3.0900645715299673,-2.42908833932782,-1.1768648441306098,0.9369199156356299,-0.9341260554388432,2.111134293579193,-1.4615295079354353,1.6650021435813471,0.09767779691894025,0.25330573390924643,0.9498948891076409,3.3411630142518085,1.8383420743573444,2.2137087600303027,2.670818303776834,-1.544549942125506,2.565844006628886,-0.5328940005208602,-0.40907602754837136,3.498933386330648,-3.294059287850735,1.6595588083351027,0.26000121117962577,-0.5631689983503825,0.3181055893074425,-3.127181161231907,-2.6629569482306525,-2.689763723209223,-0.5191014415739997,2.4940381933289952,-2.891318445051632,2.7463309669658282,2.8960954982881444,0.8843884188039615,1.3151486072969134,0.691775657152498,3.2660635902104795,1.4459446182789903,2.964124472476506,0.46200178714605605,-3.8858108151069892,-0.14075388063567773,-0.2902801535628326,-0.4077396355558831,3.3247024917059442,-2.5906567764579727,-1.0608935467075156,-1.2665657965312378,0.8843928831264166,-2.332289211160928,2.596715621584964,2.726824918872279,-1.183390627864447,-2.2844735386441557,-3.183925881622538,1.3173332417405275,-1.1521213507815211,-0.6178156108438794,-1.5376441446617508,0.29440488790900227,-3.1643776097464293,2.5098284573840233,2.4199657733327307,0.10967535790046687,-0.59235551049778,1.7550742194886308,-0.01523362161202379,1.5081191623206611,2.204389516535873,0.005035636352559209,0.664995057687977,0.8044335365786244,0.44653971006675547,-0.1414783352071156,-0.07567646443870044,-0.6686193295372728,3.6109385966140066,-0.3158155230524749,-2.4714924194352776,1.2897391613944122,-0.4592876275225796,-1.924579216765484,-1.0450014731459054,0.07423709119150984,2.7379539614946684,1.2063249887581748,-3.252675233140199,-0.5267119437720045,2.7432474292278237,1.6797999041319827,1.1083963768917302,1.6991185434764093,-0.7154399956781882,-4.497263145644227,-1.463256368889303,-1.4426105975797505,3.9956985436997163,-0.14325861359210013,1.7645405905234142,1.4617861719379632,2.322339951946507,4.887897761112052,-1.04141428557935,3.177257315355484,2.3915888427741185,-1.6081230507952615,-2.7196532635121593,1.186651943026605,3.1274881736171447,1.3745789762178515,-0.7311740296069733,-1.0696221452255277,1.8630463206940566,0.46888904982503826,-3.5613933253741887,-0.7867782281015391,-0.8026350577100009,3.208432975731145,1.9742436613220735,-0.7766695940915549,-2.9147144513907577,-1.4105811915481816,-0.6445585237583383,1.3466929895392423,-3.0533745025531966,3.3209862280112485,-4.084136797839128,-2.5276961341390325,-0.41946532271826686,0.5816604900312525,-0.7641437729541618,1.4444363947267982,-2.0688534860916685,2.2142519243187464,1.3316196694290474,-1.0297190197167219,1.5440927091609544,1.6110884337712588,1.1247974846002806,-3.250275007980769,-0.9324796634526924,-3.135830439119271,-2.3942840409365145,-2.7932682616775075,-1.467908016663841,-1.3040985265412322,-3.067427669806399,-1.9445565865535577,-2.2949081612265387,0.6319930721644476,-0.7106663969246634,-1.0890455815576368,2.5301310382519757,0.8820687492749009,3.2347081497232284,3.3420723569620185,-1.957957817985893,3.366357592003542,2.2370295769782875,2.1620086796038076,0.4323930270406535,1.37516374069828,-0.2872222086324658,-0.3461903389928092,-3.1577109236990806,-1.0750613416733654,0.4065647115695583,-1.34315377397675,0.800797613118082,0.1437752217593114,-3.7200996559203934,-0.7167283037492136,1.213250184784638,-2.457311707914534,-0.9857975474854692,2.051430549485576,-2.0284311160734214,0.018414168382307892,2.8109372521805307,2.3340244179750167,-1.106705767020431,2.6982307437992086,0.41279431802504585,0.2891753682390768,-3.152442172408855,-0.8044877815918307,-2.8151244312236323,2.8689358706391017,-1.457477295439513,-2.5634569220519228,3.010946395668682,-0.5236724089952467,2.837286812560313,1.6051874826432926,-0.7958376169385315,-1.2337293471362976,2.4310879736441238,-2.0774268441948256,-0.7327311422905435,1.233214616351363,-0.22344333506443437,-1.2750519629489756,0.007505313656487084,2.3071409963475378,-2.1997274269836904,-0.013491126584613253,-0.7335425005871681,2.9129922318413106,0.06423660990626003,3.375110913873729,-1.8937247480372386,2.528096627829266,-1.1190500880862637,-2.3023958186282965,3.598622647880094,-2.8259146179464896,0.4230725690284793,2.741004514374011,-1.260004058381065,-2.1777696232371553,2.145202358783674,0.5068127817814357,1.0857398645891592,-2.467091309733951,1.9730464923489366,-0.1682660822893537,-1.1030709989122502,-0.8140256004807753,-0.44721673277213386,-1.9686282143498732,0.8081634729406612,-3.2647661431429547,-0.5941639647679801,-2.017518380938644,-0.5410178497518059,2.673860392656608,3.157559150927844,-2.2154947030081433,3.060946964105274,-1.683650322986639,-1.0094297162678239,-0.3199827458488232,-1.9693712073300154,1.6306049794815693,-1.6042075911611475,1.702770381053172,1.1085656755925852,-0.6796510250741437,2.2594712977771207,-0.7086543197739217,0.6875393846571813,3.6463072411248403,-1.2115594799957738,0.191871449175496,-0.1416661565571953,-1.8504630548302343,1.960901128318648,0.34040205660984957,1.4690314473831299,-1.9762072819347871,0.34153382920507697,2.0035616482387986,3.6793400357243113,-1.7816380109050796,-0.5137214569028505,1.6049696244601581,1.3017468314476117,-4.275957331146243,1.3526895065697828,-2.5769998276101087,0.11452477705097126,0.7215792259686858,-2.6638558043558125,-0.9382065809673831,-2.3648822780177623,-3.04672805157791,-1.7115498001393974,-0.9677462041006325,3.231948064126226,0.799324373603196,2.066561955811297,0.6966382913266685,-0.48481721487144563,-2.2464453179282433,2.5823371483469297,-3.5851799426617084,-2.35331553292626,2.3398064748874527,2.3977297775224193,-3.1972238077090327,2.3197186980943907,1.5753697649206115,-0.9969761686084254,0.5140034499520566,0.3817547679743663,-3.733179284765214,1.1024483248812456,-2.9784361968833157,-2.738882376013382,0.12382123330092729,2.223438120399953,1.9936908817559884,0.4870751777605866,-1.1333407700967195,-1.5848190021783033,-3.2482217282923522,-1.4374841627099604,0.7529914316931047,0.7251598641557309,2.3012369139657087,3.044232156470434,-0.9691753335472458,0.25022832424748953,2.7141133576229004,-0.206496200906978,-0.513904014075421,2.2789525846248364,-0.04583048416149893,-2.183475563463068,-0.4422163984373491,0.5614781156223279,-3.3394026558714107,-2.902907768333582,-1.332682830605944,2.0251401837516907,-2.7200763616175876,0.976250094674404,-1.3509275628205781,0.35311994327644264,1.624125986632113,-1.6645236447395086,1.4224700619823536,3.193169010896429,-2.645590397422939,0.9891030345797901,-0.43609798448472425,-0.21995762106269237,2.0872375920465167,-0.34785514358760816,-0.9043752036512904,-3.6743433545994804,1.4201549742605588,-2.627148612517417,-2.2588841012460357,2.236341633101556,-3.370729752858422,-1.6277272845874717,-1.1095392861073536,-2.1817454170447186,0.5033996182488978,1.3410224992991215,-1.5929560268772147,3.2880158840522777,2.5066711641113826,-2.910458487285006,-1.457665513825323,-1.6788313982554925,0.36375112548251404,-0.7016984365786593,3.599387979376407,-0.6136211618593046,3.127711418172721,0.3915119683854641,-0.132317164850341,-2.813401945709996,0.945658911416352,-1.7867149232062336,0.18936038832158045,0.7233275653373852,-0.4648470299135667,0.9823220668237349,0.05608010934687809,1.8115577449492117,-1.6396354034037879,-0.38950696545878083,1.7179508571949176,0.2262233924591582,-2.256502244269604,-0.14519490553934364,-2.7425531213177514,2.4417496429569283,-0.49302540245152826,-0.9688008283264515,1.2001301195817065,1.8499061994900037,0.10535539236378885,1.3876052722371486,4.116666877271918,3.4726530232190322,-1.5141663564658532,-2.3537039794017462,3.3737367280418153,1.4535647474709537,-1.824012016450507,-1.8930608909253372,-1.9545279855428752,-3.321985975585373,0.25563020865651903,-0.9712564071429632,1.293718550220484,0.22034505167390359,0.6094164318530814,3.735395676493616,-1.3666910511162915,2.0773626967034593,-3.333648004261894,-2.172838253580525,-3.6019133393873366,-1.9387485879733053,-4.100344399964261,1.046034167767475,0.0852320043762669,-0.47320583197127497,-0.8744743575434116,-2.0311201654880877,-3.8168005941291607,3.232318740622929,-1.9544076133200168,-0.5079441893108294,3.773870737032201,-1.8108044543371058,-2.0395046739258795,-1.6995903597018713,-3.9823596936514565,0.18126965073627152,-2.3850131292627728,1.1058079992172245,1.8408518924655586,1.5183285892161418,3.757428037637676,4.7197390004555,-0.8248128702079475,2.142810861741418,-1.7229500389727865,1.2492985240363592,-1.4452099926023223,3.966772865404532,1.5494419006874944,-2.4231868500495026,-0.8613319784793732,1.2772693329760805,1.6411553721696743,-2.5625162340947703,3.6979691505563186,0.42654552136434987,1.047588546261451,-1.3278557936445805,0.5192129051962362,-2.2093288627538135,-0.710452665373026,-1.8176036949278795,2.3871684431040188,-0.16550748434722826,2.6432940197118255,1.0616784324311233,1.579633683935907,1.9893769765120843,-2.117845722938938,-1.3696938200304318,-1.386841516448115,2.465329306404793,-1.73999384896987,-1.860754422604222,-1.9979938314521517,-3.2154706368481993,2.528096484529786,3.069868203914858,3.335559925807827,-2.41558794116575,-0.0808485924687106,0.3062459432668643,2.5731429436715025,3.4004265390916597,-2.823120106678048,1.5180344398345855,1.3766013809690183,-2.152852967279466,0.39877799892188986,0.6883307416450314,-2.1620314950569575,-0.555247706468946,-2.0703847494535577,-1.6342760033028516,2.606030549870429,-2.420653359986767,2.5071900748316045,0.9397077759707068,-3.3988391485756146,-3.4589581951144197,-2.2189847509402725,-1.4333948345140635,3.1350536063723604,2.6300376693290826,-1.5445786600589326,-0.6053340127694659,0.19618118289540315,-3.014664184409416,-0.6546871535051273,-1.8904432471637185,-0.6750515100407404,3.539797200616867,1.067329156131811,0.7742592618406181,1.3037030161952388,-0.737790859494302,-2.78460559170838,-2.185008451532377,-2.080186877427626,-1.281345892447618,-1.1240782682487174,-0.04040087044065178,0.4025132261393599,3.3659072670482786,1.9024605804848709,-1.1764157040895982,3.2473321082308226,-1.440575505731787,-1.8719945936469418,-1.680689700527948,3.9191899924269715,-3.0237913950047206,0.4164530284903297,-0.1835981628888517,0.49827231432187075,-0.1840620997629769,-4.258618751004492,-3.331508653011679,-0.9892698729646889,0.3837597881352012,-2.156287474335174,0.4696544794630062,-1.1953395175143593,2.6637570854014707,2.430863601280288,2.7889095412508014,3.5648069251425105,-2.3736005136401275,-1.9023301612564902,1.7316939778571017,0.601874622219914,3.499620582529113,-0.7434233433090599,0.9887245806394019,1.4314628241283889,-0.6768241289234582,-1.9726425999982276,2.183457369046863,-2.788971771304625,-1.6063289055932222,-0.9184951089766417,-0.5554593758649313,-0.363669175746782,1.9268793745496569,0.39645517410536874,-3.978540747296901,-1.1686139763577832,3.936726159064267,3.002616051549696,0.6541841889133385,1.3589054741050688,1.596922129680812,0.8506663003318032,-3.095596306520382,-2.4852329126145505,-1.0654583721599602,-2.7553836341683344,-0.8970713305310054,-0.25949642192337424,-2.7198211702227266,-3.1977577688098324,-2.431951163903094,2.2155442635710436,-2.45413409858085,-0.8505108256627503,3.061182374684503,0.9207237997992151,0.7511066355973097,0.4950572764092565,2.443596823492409,-2.5131129908609964,2.8287010872655265,-2.8033544725244193,2.892066727302395,-0.10568289398060957,3.0646586085484206,4.010552439677036,-0.9374719572035366,-2.412595940180395,-0.21286673925589109,-3.4991546515749583,-1.9229653958926463,-0.6744450068488522,-0.6268347275418487,2.0991520167062823,3.5290265228534037,0.839153905019875,1.2874990375965152,3.2225228852663808,1.1110617872756723,-0.4008191499700572,2.191840641442459,-1.4495934173514087,1.303983987897589,2.302327684971135,0.8266269266049631,-2.2907277299708206,-1.0714942937541072,2.485612160002511,1.2068486146321213,2.1252074024229906,-1.450383193466402,-3.339240671638834,-3.4531871973764763,-2.903026008045394,-3.349355492593467,-1.4677561834818438,2.431147062390136,-0.5928379509355197,-0.3145229611878016,2.4021738669282477,3.0396447900347066,-1.5103699763443372,2.1178377124388263,-0.590356137820183,-3.222292155168685,0.8660821444112132,2.174501919420301,-4.041429669578794,2.0105011326468847,-0.2990051562508055,0.887578547224802,1.3257092606722314,-2.1063962159499456,0.21151012412849146,-1.8777634202843572,-1.4297917406528973,1.4629414390067086,3.3544931275407324,2.982025138654152,1.9599136228022702,1.5173701071254861,1.5010168728205422,1.113359146775204,0.25126867862342406,-1.7505326024570573,-0.32160389995831523,1.7231040485227707,0.3732167031974923,-1.3576271561923463,-1.644976197551161,2.822469458962035,-0.3222775145567023,-1.9605446792921244,1.4615589184165545,1.4157862533000203,0.6858367395517985,1.7144210361212788,2.708974254752762,0.9006566337876379,1.2598026028526528,-2.548460130099094,2.8592988283521006,2.121069860517413,2.4961073705297627,-2.973403303969001,-2.364305506812058,0.7985585317692809,1.7800830377414052,0.28743538784312633,1.393125808335027,0.40631087898817797,1.6151423835460303,2.0546277596183082,-0.46505386776628715,0.7138441298235666,1.4187119993399662,-0.08070084565205478,1.8401052237789097,3.067631926195955,1.692549148260789,0.7058901351738291,0.08914473346480443,-1.4912807724756807,0.46689183020247416,-3.24606251557314,-0.36069477079960527,-2.937578624343212,1.1733990160008505,1.7751316604217187,-0.9483554760252872,2.3806316663081217,3.145290147137921,-1.5205487159621274,-1.480844328080559,3.1263852976796924,1.627100787611513,-0.515911373149208,2.258932960647832,1.0856558490769217,0.7287092285406008,-1.9841111978940495,-3.7237386084952937,-3.055344616572273,-1.4958507626175597,-2.2484282643842217,2.799232218712472,-1.6450261340126986,-0.3699543514136688,-0.10225688091127894,3.3479088804057513,2.0830172866420695,-2.799275917534745,1.5786064087412908,-3.493216162547275,-0.5626734207864571,-3.554440702609652,0.17829771675369968,3.9365717074880004,3.5080966260572617,1.2483396631067063,2.001079841195229,3.013543595580783,-3.606033467644984,-1.5650165274653156,3.0175469382496094,1.575047987477078,-1.7275735965362233,0.22107931870967676,1.7322547766616971,-2.9720589979208456,1.413345344357864,-1.5602407715921816,2.0113095697204266,-3.3282677300741903,-2.0011301647152786,-0.9154166665539769,3.5838509766230247,3.0726033228570175,-1.50025008555486,-2.9015094919011037,0.5841014215430168,0.8777624462701012,2.3231475546808507,-1.8229050259636332,-3.5249637362336963,1.2154604054776776,-3.517730905100446,-2.765276844004186,-1.0999600648213004,-2.7025287089084027,-2.4627716550263496,1.2915876266492752,0.3031631485722864,-3.3425284154828385,2.404717473143546,-2.4881471305568152,0.10825166874460469,-0.9232056482057863,1.0040086883552923,-3.2789498418968304,1.9702331766473682,-3.403165979579405,0.7134854586596614,-2.8689066925920246,-0.3108733739254203,-1.6147783991486442,-0.548408254481642,-2.080748807938867,-0.16870696209738775,-2.507096429194069,-0.642488325195478,3.8070161072998796,-1.943528689021384,1.9995306420191838,2.6165490647941336,0.7543398429207411,-0.7957052905124038,2.6221253065272223,2.718422496645921,0.38851884335255854,-3.0162915244871917,-3.0062852368966495,-1.2960796593445911,-1.1512003639636192,-2.0385381954546613,-2.9674872241130887,0.022547600306051678,0.7542687669265213,-3.3993528610406374,-2.0333413334903723,0.8775400960331974,-2.1207303754166125,1.9147254798412643,3.012337263199895,2.645143576118948,2.7889467608570335,1.6774684663061201,0.9913346997961578,-1.8419573407550898,0.7507135708110724,0.4370626669571357,0.11673384931169514,-2.028599850103471,-2.352647142823761,1.9013796782532855,1.263864617529239,0.7171908486405177,2.9932565620841785,-0.5134385641441145,0.579563904690392,-3.961564710257319,-3.0427881546305224,-2.546854484525725,0.9754304429070065,0.18780446878980586,-2.1881242619946573,0.9576261822228194,-2.089570262013981,0.48028612915624735,-2.8674797068849975,0.3846546853174775,1.0697157517748768,1.070766983117624,-0.947863011733921,0.1492469397349628,1.202920399769899,0.8665806341998723,-0.7372324378162552,-0.7823931818507747,0.31688024341259546,-1.9419989999202405,1.8140117210769573,3.007769037043934,3.673377937954608,-3.1688223237698456,-0.9597696079138693,0.817554276332853,-1.6667454572584135,-0.15344084297836938,-2.716967930179374,-1.994838703798899,1.1574035611575808,-0.7422180953890471,-2.575665530169267,2.6377129132205566,0.5897563524356668,-0.28138536783617774,0.1916440695931317,-2.6210463123090775,2.356677208227586,-0.24384434505236782,0.8505864718924506,1.7872485105412201,-0.4114034478625196,0.23227374974400994,-0.004573069312166126,-0.31572553607886433,0.5824694679717237,0.5425680929144474,2.4893566724915903,1.5652336175504782,-2.372018726639703,1.9589518390333518,-0.19091750074418093,-1.146311130513185,2.1551904202186822,1.8700259853873475,1.0457480234250416,-0.8707637811271839,-2.0175125090302215,-1.851498906318657,-2.558672713609535,1.763605707456108,-0.43295227347560594,-1.5089586984462073,2.766430092983237,-1.2526835633871496,2.0812826143385075,-1.773241505356818,-0.5623538222117959,-2.8565106405126244,0.6836122994820371,-2.101965098482938,0.6742442806732124,-2.6539886282554304,-3.2917311882923386,1.2839722806899103,-1.227253691577625,0.14354931184792258,-3.3385852740883895,-0.9475722959783669,1.6586857270894604,0.818294936256751,1.7290384354678856,-2.6037286300117817,-2.5057046331887864,-3.0653153567668463,-1.5595169929205768,-0.023750208273801133,-1.3543839568809215,-2.1702411120057032,3.8688375407294817,-1.8756279265231897,-1.3360254970306906,-0.1814662488558946,-2.3235127890588685,-0.09567851058264365,0.6892023507898455,1.7464030888088782,3.2660175599466723,0.7795339757363813,1.1042582099349836,-2.0993545053342424,-0.8634258853126047,-0.7175822903148161,3.394067531604643,2.1800212574873084,-2.684370370022797,-1.578862572022341,-1.9202425925080178,2.694542183221042,2.3999135426460803,2.540907476514542,-0.13460400861843924,1.0935119442346704,-0.4713622124207568,1.058057189813596,-4.139695735974009,-0.40000259557718476,2.650045357924054,-2.700558248456694,-2.9017738587790225,-4.908861169142299,2.716973132059338,1.8550604461114213,2.2504557499095985,0.9205443598692771,-1.8757128435399408,-3.431990527117373,-1.0690180884696214,-0.3310883973902689,1.2079842434620216,-1.1739068099392398,1.9352794046047879,-2.0467879674825946,1.3504217995829213,0.42855896461831466,-2.929443972925887,-3.387966036010739,0.8502150834351518,3.378464645752153,2.7012729144999894,0.5092180286580055,-0.6226557851774679,0.253390929807352,-2.3210688442220233,-4.1356511024340925,-0.9967617393881738,2.0824492634929013,4.99312173984577,-2.6656662741455817,2.9306243527364715,-2.2067339482460366,1.4478741699270954,-0.7335777515863326,-1.0901819166291213,1.6552679588214942,2.0797351373289286,-2.472262944997491,-2.3801749914182575,-1.714224083323688,0.8944266446896363,1.7587963238422282,0.46126899298992513,0.48963063765866993,3.336445426873067,-2.8154763317205562,1.0115076321348602,-1.0064368797870749,0.3137514849587698,1.8382997970439254,-1.4356305331855705,-0.7579226606244288,0.6940382373120318,2.5012230043003463,3.0991488937934157,-1.4110942258707846,-2.6267208097477415,0.5253447645789869,0.011663215090733271,2.3146780106090485,-2.6212201209613957,0.16047377458796633,0.851032165411165,-3.9124174598373473,-0.7150145121138581,-2.523555355886832,2.0770733315265524,-2.017949808455591,1.7970382646344099,0.9218157246460128,-0.7853955506074974,1.4303061375000152,-1.993308103135727,-1.7595208168688947,0.48820815772826953,-1.3557156069254284,1.7857519370460888,0.9387509481782176,1.2594436500684232,-1.8813918087673989,-1.0446715700921152,-3.044685334504868,-1.8172306186006597,2.1296546356618062,-3.888867704019595,2.49593527014722,-1.3139144765903612,0.9232533491553522,1.914256107419535,-5.10929491359065,1.5638374802965516,3.18890982302564,0.41954057472472567,1.429761500655848,-3.1966523102575426,-1.3688442144656272,-3.1969066918725066,2.8132348120220376,2.324747283182722,1.9633858093629974,2.3060868961790186,-1.4121911405689818,-2.807084502041388,-3.110478870695583,0.4788108629040662,-0.0006426360307300583,-2.9851731265208867,-0.555817522602997,-1.2402407295213607,-1.672630283161796,-0.876553923885118,-1.551750677820851,-1.4194095521728982,-0.2516392596305672,-0.06263667533954291,-1.6949979831576223,-1.511293559419435,2.0585795934788704,-0.8441831329046773,-0.6519164111838754,-2.3228217229772574,0.29413403246799064,0.836828070252833,0.06557499122488751,-1.464980627393823,2.457956330945167,-5.015149556359227,-0.3726331119838856,-0.22886997838591586,2.103613801806446,0.605179988715348,0.533951659247397,0.2557044563067846,0.05449370179876784,1.8170407773462542,-0.00984449230040863,1.1459316044752406,-3.3312431819807298,1.3652880720525498,-2.5893550519180786,-2.615908450562749,-3.1948851927444952,0.4493934133946173,-1.436895845876452,0.7296242133971924,-0.38096882201497617,-0.6856063727231823,0.6018652743140694,-0.8698968487653344,2.9839506034051375,-1.4614071719338482,-0.8286997312722274,0.7449149583435377,-1.681107873120401,2.654541573471207,-0.20448286700171997,-2.339161614779986,-2.7122450808773255,-0.5977658495147004,0.5985887520932465,-1.0292286115327745,3.4076845179550705,-1.2230045847135378,-0.6792759393663107,-0.11896601783156838,1.5649507092534793,-0.7007122193379263,-0.5540037258352295,1.4967699303069095,-0.33968141662486084,-0.7799027758855895,1.8756467231626945,1.9100286266794166,3.906434750528321,-1.5045973779809318,-2.961197231586386,0.5413795899506331,-1.3504917265868734,1.7560238367538143,2.1226287019346515,1.3704016047192105,-0.29400423641398865,0.7322411080299643,1.1295038439664402,-0.5468541676363796,0.39385335528866244,-2.1201469133222512,-4.183672593925391,1.5498819901390166,-2.3571368844208593,-0.32018501332998006,-2.1878188838438346,-3.887149135366827,-2.1183295808579627,-2.1806996775210203,-0.6555926396303905,0.08793793429931855,-2.5558333181017954,0.6855557470888065,3.391210681506844,1.4072344172854694,1.5133725660245312,-1.1120290117752052,-2.232582638522325,-0.978823210735561,3.9112098623959555,-1.4099478332413966,2.0321854818244964,-0.09983499835199515,1.3520925057188076,-1.9389488446950458,2.2253594660562777,-2.472775375100612,1.3738979692025657,-0.46031511501829714,-1.191915230927353,-3.209743859253565,-1.7309316009273592,-1.3577415216845385,1.878330055482446,0.9238166563853029,1.8563483402786685,1.76224893640875,2.7510487701151876,3.6559756776757926,2.5559213992148417,1.233912863614524,-1.6560118345239438,-0.3573013791001178,3.155419669979574,2.181660097709222,-0.012098328865165254,0.5141179739543101,0.9031834140334828,-0.3439278328588184,-1.764603156410886,2.5979511752958837,-0.8766827728318445,0.8166423181105348,-2.1581970262347405,1.9547018451493496,-2.498779546214173,-0.38831410617630324,1.8812319852456512,-2.7299535640231003,0.5434672378072768,2.2322653090708466,-1.5015609459044483,-1.3011548544656935,-2.7539021475365413,-2.9908738907531034,-1.3098702136516251,0.22073332708684607,0.667104591143226,1.4278675329751358,-3.853195487478324,0.17613009921526915,0.8481948664486939,-0.05323482952732801,1.6385146395429062,1.3844152683316755,2.9491815460192776,2.274327989794401,0.0714572733480636,1.448133311554627,1.7903622075759247,0.9467149228100138,0.8081602299697669,1.6229994997867927,-1.3441235083054757,0.7498292735132243,3.068916400032048,1.1073587847258315,1.4284295730464667,-1.9535449493571737,-1.4906957408742623,2.5558868924140885,2.2723933774377603,-2.1192932027277798,2.1526342999376777,1.5274371324042708,1.2454735755366282,-3.6671794109042644,-0.14394109498451643,0.2446428802457385,-1.11933318373673,-1.0972871193496883,-4.426196859343933,-3.114892236178131,0.8488520218382571,0.1072179492946809,0.4255242276217548,-0.9368050825444836,-0.16269274742301085,-2.377631598972277,1.5409115992062488,-0.2412141304922532,-1.411928375998649,2.414680237302697,2.8022125765036896,0.1754438715203629,0.01798470472707592,0.3378058026676286,0.9806725874610972,0.5598745315321128,-3.3217536331986275,2.5831012345037028,1.6871068894565135,-2.14373424391685,-0.7926422381852976,-0.7311937840211948,1.8696870325714885,-0.21265989515463143,-2.234987921710755,-0.6841240059270717,0.9814501034993115,2.5020032464481345,-3.2107990184071964,-0.16672664203700294,-0.2484475770078009,0.48183008239518577,-2.7355000180247395,-1.741327604837258,1.0232130614342112,0.07936539439901533,-0.4207881360671541,0.5832916296400382,2.3606810915384147,-2.3261141945018813,-1.1390625975278603,-0.035233153410919565,1.7602954264643156,1.8219779168601118,-1.9658329569072877,1.5210587226965369,1.8171465730919583,-1.6396192372703622,-1.772533305222852,3.498406659685241,1.385880919646642,-0.3131304694615388,1.3004369869863857,0.11497814351947247,2.023530276004673,-2.072717279905824,0.045296099025370094,3.7674384741262688,1.999316166728767,-1.7051632177162102,0.6423236402875203,-0.4859163156437814,0.08892083118041577,-3.528787962060983,2.4484523347924987,1.0221692601603305,-0.07951128243306067,1.5135130696640613,1.342613110388424,2.7799320509395447,-2.788125339045338,-2.885154792554392,0.6455865728408032,-0.05225790297138683,-3.2419165423281937,-0.34857349499121415,0.8392976508281693,3.8268890804721094,4.282917805913331,-1.878853345067166,-0.9004956787884951,-0.9972238600430547,-1.1893466055768414,2.575232466397907,-1.36751334835467,-1.4520460139030598,-1.5474795677270743,-2.2287848574727884,-0.5201446222493562,0.6843131004788031,3.170916105861162,-0.02231290005274342,0.9384969478212756,-2.349967180894387,-1.306652496028929,1.2222122164006326,-1.0537224983968365,1.0297356297438383,1.6808474491904986,-1.7446562244468562,0.29225876391989025,-1.7038483503577069,-1.1364164853914438,1.1536833629136467,-0.9027841185247548,-0.05466798077401624,2.226858319192571,1.1845680434033148,1.6195480131157276,0.1961167221019817,-0.7714718912557915,0.7843055859492084,-0.43996503614224497,-2.433685553577032,1.9370587431657669,-0.49214750268651997,1.1280898512155053,-3.870890827277567,0.071378438692611,0.347244667982702,-0.35654037189783266,-1.9948224355192041,1.9376344566476882,-2.0052059488947505,-0.033724804434862456,2.2973562925332924,0.1475594538151326,0.33756495734085845,-1.6929741161235754,2.790537690707198,-0.4639360953863487,1.0146682014949926,0.6239545975212052,2.7335144817061052,0.12891902474962338,1.068491887346861,-2.3335906671106557,3.534946094691641,0.12601609147873666,0.48887430841240076,-2.2689572154656346,-0.913481784174179,-0.5879576493300042,-1.0975562583583092,1.5641429756555092,-2.653013786423028,-1.9920682861190115,2.8600064893607606,0.6679198684290799,-1.7055187462347627,-2.1662694084051712,1.8469126657365957,-3.681362705636787,-1.6943127747922404,-0.013316684009668343,-0.5896293635488598,2.363861500308835,-2.768423162204906,-0.35425963332971394,-2.099463069325945,-5.05092623244186,-0.6029446242753401,2.6872304121580566,0.7473573320267327,-3.2007721752927742,2.4003676444514417,0.31211659828397886,4.054165383117755,1.6709423339901797,-1.8247091114475351,0.689058071782555,1.8659939698902825,-0.024889405708833433,1.4867527330577313,0.23187208876603585,-1.1080995539701097,-1.6112840711872685,-1.102908789221818,-0.3585706681936198,0.6240220100285382,-0.3437076048053687,-2.2035568466362396,0.13697324985709405,-0.13741607193616442,-2.5520436272352898,0.948591982889487,0.25989005648341834,2.3683992852611864,0.22597114992575454,-2.415506588375918,2.6800124469786972,0.29840336702599485,1.6139977198954611,-0.42367163939067437,3.9680334933007426,-0.532974208147121,-3.1137369595287856,-1.013958572290582,-2.3114923686715407,-1.2853768880448966,-0.1734682155491204,0.8737245502823262,0.7686823653110969,3.1047755799877805,1.0286313742683835,-1.5808499944804952,-1.5579969188792435,0.6971426479326993,2.17182680674587,-1.6944926132936695,-0.4922950156676882,1.9877181016909273,-2.8833741509791255,-1.6232003473172891,-1.353589676645957,-1.6712771060949592,0.20320587861942918,0.718124947172251,1.7593367491364134,-1.0878012942926487,-2.5493342289939096,0.6187617331171702,-0.0017573673148105135,-0.6869264963555719,-0.08042036672336401,-0.8339244803735824,-1.5915856731045355,-3.071274763589459,2.2232231552018584,1.9062240558772594,-2.9031279914481556,0.6121460221591143,2.195917227470558,-1.6116818927919296,1.0429039982694308,-2.467659770416975,-0.741589471915928,0.4443724335779528,1.2670092951757324,-1.9889057182403247,2.0613205465315994,-1.7067385884709596,0.48883787026053466,-0.8645364792685749,-1.2621736658947749,1.1943625100244022,1.4414953379755282,3.3853417389920906,-0.929802849336419,3.396932723876604,3.0542042923509087,2.921994861020396,1.1124728860807496,-3.178502874058333,2.405584598996792,-1.2477562864554708,-2.127282409077485,-1.9150850846201741,3.2604517381762927,2.06155800311073,1.2874027343921643,3.393751251073196,-1.7968098238940458,0.48794037577610677,-1.904356886700738,-0.6558453214828527,-2.101124805168511,-2.3879403887938064,-0.7808369385750771,3.303894124265864,-1.1829958997655012,-2.2420386436885824,-3.126709892463858,0.42345322175174593,0.9797330966182757,1.636997136560792,2.707053662442561,3.057220606520831,-3.5313740857722635,-1.8054914312649497,3.7874513042086733,2.5013988663577518,-2.8614940570987626,3.533525497055216,1.3796330089589055,-2.4737310521424574,-0.662285453955487,1.7724853524083073,1.6975886750246085,-0.007749177295252218,2.2976117171397363,-0.32445987213493604,1.469942576668913,3.2896857709008835,-1.6959733254243625,-2.617449229820867,2.4458225586799873,3.3229421332155997,-3.269221200626165,2.7031010901443704,0.5892646526123726,0.03130647825699798,-0.56095878912871,0.050528664456834065,-3.3604947149444095,-2.606000947045568,-1.4267683010081431,-3.1765237697908195,0.6822400726980046,-1.9937589837532583,2.8627263083063523,-1.3931192642086518,-0.9910610467122526,-2.300058213392074,0.6184890237454063,-2.248761209147034,-0.17378557923849638,1.5568914360789923,0.771935740593364,0.11105736030316987,-0.953374276034183,-1.5590519487607803,4.239234116978173,-1.9401378862850975,-0.04339373135718606,1.415005928663123,0.8426322941235677,1.2283076030620121,-2.5697605908250525,-2.380212206414995,-3.344711778783287,-1.8342465249207627,0.5707113439585313,2.3893926031627095,-1.6769765723192633,-2.5217385397927954,-3.325615176432689,-2.7566250498562517,0.9066427840679339,-0.466569148523613,0.6872577624465627,-2.5015279832451474,-2.293565369949775,1.9168659934385608,3.65265011373997,0.2876988935719369,-2.3321904326567093,2.429821852314548,-0.7165406221708442,1.026343638174041,-0.8755387643925264,-1.5105472766393007,-2.328704431639169,2.9227411082174752,0.05225809182797742,-3.4692952877919216,0.140835041443708,1.8202844746549636,0.8268516278771397,-2.4175394807204222,0.10184941107612679,-1.8670406031955897,2.1288697405333807,-0.8534645415343054,2.338679897881531,2.2393088142925497,3.367320026306516,1.1958804474181375,-3.307689482942797,-0.5545798869563182,-1.9415846971403432,2.575133465183993,2.9795532465823884,2.583426006898101,0.1375943335546232,0.14069725961285262,3.034907688582165,-4.113101350952542,0.6451562951894977,3.2417502143827934,0.5488862833702455,0.2884926786065926,3.691474010646995,0.15450175513973272,-2.6060879498930802,-0.562853650539316,1.7019687456769625,-1.261059900387406,-1.5487514306751784,-0.2702713280007973,0.40543301306043833,0.950284149501729,-2.885556422077544,-1.1558110889762663,2.7129602033349016,-0.7181772379760277,2.71509572706078,0.4619899382304392,-1.2683030685085361,2.0464096319219114,-0.37654586303874726,1.3977577076704077,3.785895877611329,-1.6926027762874851,-1.5514188738714634,-1.4400183350281017,-2.42503771399812,-2.0724279467609508,-0.35415604942121187,1.1130872362075581,-1.2483156073041677,2.678034389044021,2.4632393617583825,-1.997907610754559,2.2912554593963588,0.621539924477307,-1.590489122100483,-2.934616877149235,0.2641933672115049,3.5885567161758485,-1.1815328319870846,-1.58867567807559,0.5385657141632829,-1.452292867443243,0.4839067089033861,1.9970690767619899,-0.153547709595855,-3.695000225103178,1.289120467642302,1.9401458604535142,-2.0814225359721927,-1.0435167915028196,1.4397914760494348,3.4473732067930647,-0.7065931702937768,-1.3993166849865455,-1.0618740389266181,1.6490951045795235,1.4351986044631297,2.713496213081912,0.2689214158186886,-0.25217312995400715,1.7211674878799235,-2.7539453023795177,2.797646601898087,-3.172355041717839,2.1517882177809438,1.1259427882836428,-1.2861802986925273,-0.8166716626300587,0.9989388744699476,-2.0888439028639434,-3.5122524614508355,-0.703288205263459,1.928208583912649,4.11918275631285,-0.01328978743879889,-1.3132529092209804,-0.8048023131150734,-3.4237638475574212,-1.0656713885343558,-3.0662663490326816,1.6921719478199735,-2.6700912186943895,-1.6508786943042706,-2.890855015475415,-1.4763964940164593,3.2131604837226124,2.2295819459076296,-2.7550746062164784,-0.7981930998327184,0.24742858841520776,-0.507054292239397,-2.430446014404979,2.96357813599453,-2.2950262342619383,-3.0619388996517447,-0.35459647890784696,1.6867682137020914,-0.5634873349863215,1.655677118968628,-3.403852929668852,1.3124965162119893,3.40935447171007,1.3490858716352976,-0.8842898887605677,1.1511471215816431,2.002159522999877,3.5567923897916973,3.5765190932858553,0.6006436999795184,1.234417775625248,-1.1428038652516563,-1.961415902925331,-1.1129126854726967,-2.4460786368695193,2.1285470860115154,0.9197558640993145,1.3922294510172837,-0.6281613605474843,3.1227831060619407,-2.074645001180356,-0.3913723138583198,-2.2025428056169307,-1.0323163901723627,-0.2345071180442253,-1.807448398918371,-0.7198898540819397,2.635656164220586,-2.9045750439171503,-3.084394944793872,-2.994553495998538,-1.3737456759811366,-0.05129967218660317,2.2723287215089045,-2.3589293013427506,1.9161338631288811,-1.2837130047375287,2.890750025462622,-1.967914875140624,1.1748142055067905,-0.44328365019967486,-1.5078774688536465,1.3989407672606393,0.5609721055371926,0.4917720971495882,1.0529285121260488,1.1290774828884222,2.9854775202328496,2.4780434486510936,0.7113339223190481,-1.6647287182861623,0.30221684396799275,-1.0369499727578497,3.986195142949551,-0.1759068059456105,-0.1202665366125703,2.8813685185751385,-0.922445506591417,-0.7517008408544446,-1.7415273871878179,-1.2592298285666743,-1.4884998208871831,2.338795683658111,0.2153590589037933,1.21273075669831,0.48302471161106264,3.012997943250349,1.05249374773209,-1.3361087334079824,2.6710532451097735,-0.08524982328449947,-3.321165672840715,2.8776514919174208,-4.670670916319034,-0.7193342412080467,-3.1466599115320797,0.9722323817248762,2.1654565934676095,0.6241199896709909,2.8224992119025707,1.3583244228264628,1.3849607928281433,0.8996582348114104,-0.7190089427144742,-0.13587916295524272,2.0477809897470016,1.2600111972546204,-0.870599905424945,0.5383504952951446,2.958593685362559,-3.172921555030738,1.35678844508638,-0.06855003409654602,2.202243015403937,-0.0031409578887665298,0.22289229990096818,2.693938181335764,0.8774252295591181,2.3305881076550716,3.7170065539380492,0.9356170055506999,5.197821743187548,-3.821426815801509,-1.5711002551571576,-0.7085034105362136,0.29582454343970943,-0.1264474242195679,1.5293212252147477,2.7463300559788824,-0.06519761394911196,0.5938327281872513,0.4303387303095765,-3.411442557328766,0.14276079451938412,-2.0390759074758567,-0.6062653055288635,-3.019224969745537,3.5215062191265005,-1.232803812401252,-2.9684060273675903,-1.2049702905766224,0.25698075891681876,-1.8714659751881733,-1.4923165672332306,2.161578160614253,-1.260085094546526,-3.584350770205481,2.8932433561870163,-2.3106440878852124,3.0624016154551614,0.6113354290142131,-1.720120068671896,-3.2673514686098963,-0.8892289172554594,2.834671396201266,2.4293445211188858,2.147949523954591,-0.24045602360584306,0.43185282454693374,2.968377066328294,1.163550944484585,2.3942492388864087,-0.8145618015862508,0.9172213447680465,-0.36868679707804586,-2.7991074078738394,-0.01690244072127723,-0.4892226062762084,-0.28032550941951623,3.1875106285662715,-0.07680866508076441,3.257655608286768,2.6746730596000314,-2.4764718294913424,-0.09132906813811091,3.7587874095687717,-2.8288519851024536,2.4070544003150904,3.0370173693246723,3.157508044986748,-0.567992631338483,2.4624949727787837,-3.3161939817298465,3.3777855279562092,1.6204135266349686,-0.31166025371744277,3.3166630294601607,-0.47486869691693345,-1.2547353783414816,-3.8603934534248823,-1.2542834320882952,2.9248708395374994,-2.5560995582304256,2.1389937171801465,0.49166602286706645,-2.709261484432686,-2.033116038295099,-1.150970173256036,3.5225184586756173,1.4256816919801083,-1.7846989916742992,-1.3359224290657188,-0.5319219040695199,-0.9955768909746533,-0.4205750270055071,-0.7845750732808275,0.8792672715229488,1.2539460227519972,0.4580356176300403,0.33125417217850284,1.2201760876871544,1.8860115676383717,2.500393580896067,0.4391927540164018,-1.7579242934326051,1.544077196269295,-0.8907431870543427,-0.10550992162915457,-2.1258406509790295,-0.5021330674262301,-2.716388806566121,0.4058034093453819,2.1912081710123,-0.38210373244884144,-1.7771931828623735,-1.5737932914317496,-1.7153726884015372,2.7993558245144956,2.268124256147779,0.6745852835107333,0.8126064952784504,0.029515303955166678,0.30958087238462234,3.9761483976364804,3.088294619383707,-0.22341773234668555,-0.09275699220603169,-0.2863968720711104,0.14715125241394905,-1.4754426401796266,-1.7755678674571367,0.1519766481680789,2.674450797705057,2.6963495935744213,0.6367850726853489,-1.168424783154989,-4.6605850568340905],\"yaxis\":\"y\",\"type\":\"scattergl\"}],                        {\"template\":{\"data\":{\"bar\":[{\"error_x\":{\"color\":\"#2a3f5f\"},\"error_y\":{\"color\":\"#2a3f5f\"},\"marker\":{\"line\":{\"color\":\"#E5ECF6\",\"width\":0.5},\"pattern\":{\"fillmode\":\"overlay\",\"size\":10,\"solidity\":0.2}},\"type\":\"bar\"}],\"barpolar\":[{\"marker\":{\"line\":{\"color\":\"#E5ECF6\",\"width\":0.5},\"pattern\":{\"fillmode\":\"overlay\",\"size\":10,\"solidity\":0.2}},\"type\":\"barpolar\"}],\"carpet\":[{\"aaxis\":{\"endlinecolor\":\"#2a3f5f\",\"gridcolor\":\"white\",\"linecolor\":\"white\",\"minorgridcolor\":\"white\",\"startlinecolor\":\"#2a3f5f\"},\"baxis\":{\"endlinecolor\":\"#2a3f5f\",\"gridcolor\":\"white\",\"linecolor\":\"white\",\"minorgridcolor\":\"white\",\"startlinecolor\":\"#2a3f5f\"},\"type\":\"carpet\"}],\"choropleth\":[{\"colorbar\":{\"outlinewidth\":0,\"ticks\":\"\"},\"type\":\"choropleth\"}],\"contour\":[{\"colorbar\":{\"outlinewidth\":0,\"ticks\":\"\"},\"colorscale\":[[0.0,\"#0d0887\"],[0.1111111111111111,\"#46039f\"],[0.2222222222222222,\"#7201a8\"],[0.3333333333333333,\"#9c179e\"],[0.4444444444444444,\"#bd3786\"],[0.5555555555555556,\"#d8576b\"],[0.6666666666666666,\"#ed7953\"],[0.7777777777777778,\"#fb9f3a\"],[0.8888888888888888,\"#fdca26\"],[1.0,\"#f0f921\"]],\"type\":\"contour\"}],\"contourcarpet\":[{\"colorbar\":{\"outlinewidth\":0,\"ticks\":\"\"},\"type\":\"contourcarpet\"}],\"heatmap\":[{\"colorbar\":{\"outlinewidth\":0,\"ticks\":\"\"},\"colorscale\":[[0.0,\"#0d0887\"],[0.1111111111111111,\"#46039f\"],[0.2222222222222222,\"#7201a8\"],[0.3333333333333333,\"#9c179e\"],[0.4444444444444444,\"#bd3786\"],[0.5555555555555556,\"#d8576b\"],[0.6666666666666666,\"#ed7953\"],[0.7777777777777778,\"#fb9f3a\"],[0.8888888888888888,\"#fdca26\"],[1.0,\"#f0f921\"]],\"type\":\"heatmap\"}],\"heatmapgl\":[{\"colorbar\":{\"outlinewidth\":0,\"ticks\":\"\"},\"colorscale\":[[0.0,\"#0d0887\"],[0.1111111111111111,\"#46039f\"],[0.2222222222222222,\"#7201a8\"],[0.3333333333333333,\"#9c179e\"],[0.4444444444444444,\"#bd3786\"],[0.5555555555555556,\"#d8576b\"],[0.6666666666666666,\"#ed7953\"],[0.7777777777777778,\"#fb9f3a\"],[0.8888888888888888,\"#fdca26\"],[1.0,\"#f0f921\"]],\"type\":\"heatmapgl\"}],\"histogram\":[{\"marker\":{\"pattern\":{\"fillmode\":\"overlay\",\"size\":10,\"solidity\":0.2}},\"type\":\"histogram\"}],\"histogram2d\":[{\"colorbar\":{\"outlinewidth\":0,\"ticks\":\"\"},\"colorscale\":[[0.0,\"#0d0887\"],[0.1111111111111111,\"#46039f\"],[0.2222222222222222,\"#7201a8\"],[0.3333333333333333,\"#9c179e\"],[0.4444444444444444,\"#bd3786\"],[0.5555555555555556,\"#d8576b\"],[0.6666666666666666,\"#ed7953\"],[0.7777777777777778,\"#fb9f3a\"],[0.8888888888888888,\"#fdca26\"],[1.0,\"#f0f921\"]],\"type\":\"histogram2d\"}],\"histogram2dcontour\":[{\"colorbar\":{\"outlinewidth\":0,\"ticks\":\"\"},\"colorscale\":[[0.0,\"#0d0887\"],[0.1111111111111111,\"#46039f\"],[0.2222222222222222,\"#7201a8\"],[0.3333333333333333,\"#9c179e\"],[0.4444444444444444,\"#bd3786\"],[0.5555555555555556,\"#d8576b\"],[0.6666666666666666,\"#ed7953\"],[0.7777777777777778,\"#fb9f3a\"],[0.8888888888888888,\"#fdca26\"],[1.0,\"#f0f921\"]],\"type\":\"histogram2dcontour\"}],\"mesh3d\":[{\"colorbar\":{\"outlinewidth\":0,\"ticks\":\"\"},\"type\":\"mesh3d\"}],\"parcoords\":[{\"line\":{\"colorbar\":{\"outlinewidth\":0,\"ticks\":\"\"}},\"type\":\"parcoords\"}],\"pie\":[{\"automargin\":true,\"type\":\"pie\"}],\"scatter\":[{\"marker\":{\"colorbar\":{\"outlinewidth\":0,\"ticks\":\"\"}},\"type\":\"scatter\"}],\"scatter3d\":[{\"line\":{\"colorbar\":{\"outlinewidth\":0,\"ticks\":\"\"}},\"marker\":{\"colorbar\":{\"outlinewidth\":0,\"ticks\":\"\"}},\"type\":\"scatter3d\"}],\"scattercarpet\":[{\"marker\":{\"colorbar\":{\"outlinewidth\":0,\"ticks\":\"\"}},\"type\":\"scattercarpet\"}],\"scattergeo\":[{\"marker\":{\"colorbar\":{\"outlinewidth\":0,\"ticks\":\"\"}},\"type\":\"scattergeo\"}],\"scattergl\":[{\"marker\":{\"colorbar\":{\"outlinewidth\":0,\"ticks\":\"\"}},\"type\":\"scattergl\"}],\"scattermapbox\":[{\"marker\":{\"colorbar\":{\"outlinewidth\":0,\"ticks\":\"\"}},\"type\":\"scattermapbox\"}],\"scatterpolar\":[{\"marker\":{\"colorbar\":{\"outlinewidth\":0,\"ticks\":\"\"}},\"type\":\"scatterpolar\"}],\"scatterpolargl\":[{\"marker\":{\"colorbar\":{\"outlinewidth\":0,\"ticks\":\"\"}},\"type\":\"scatterpolargl\"}],\"scatterternary\":[{\"marker\":{\"colorbar\":{\"outlinewidth\":0,\"ticks\":\"\"}},\"type\":\"scatterternary\"}],\"surface\":[{\"colorbar\":{\"outlinewidth\":0,\"ticks\":\"\"},\"colorscale\":[[0.0,\"#0d0887\"],[0.1111111111111111,\"#46039f\"],[0.2222222222222222,\"#7201a8\"],[0.3333333333333333,\"#9c179e\"],[0.4444444444444444,\"#bd3786\"],[0.5555555555555556,\"#d8576b\"],[0.6666666666666666,\"#ed7953\"],[0.7777777777777778,\"#fb9f3a\"],[0.8888888888888888,\"#fdca26\"],[1.0,\"#f0f921\"]],\"type\":\"surface\"}],\"table\":[{\"cells\":{\"fill\":{\"color\":\"#EBF0F8\"},\"line\":{\"color\":\"white\"}},\"header\":{\"fill\":{\"color\":\"#C8D4E3\"},\"line\":{\"color\":\"white\"}},\"type\":\"table\"}]},\"layout\":{\"annotationdefaults\":{\"arrowcolor\":\"#2a3f5f\",\"arrowhead\":0,\"arrowwidth\":1},\"autotypenumbers\":\"strict\",\"coloraxis\":{\"colorbar\":{\"outlinewidth\":0,\"ticks\":\"\"}},\"colorscale\":{\"diverging\":[[0,\"#8e0152\"],[0.1,\"#c51b7d\"],[0.2,\"#de77ae\"],[0.3,\"#f1b6da\"],[0.4,\"#fde0ef\"],[0.5,\"#f7f7f7\"],[0.6,\"#e6f5d0\"],[0.7,\"#b8e186\"],[0.8,\"#7fbc41\"],[0.9,\"#4d9221\"],[1,\"#276419\"]],\"sequential\":[[0.0,\"#0d0887\"],[0.1111111111111111,\"#46039f\"],[0.2222222222222222,\"#7201a8\"],[0.3333333333333333,\"#9c179e\"],[0.4444444444444444,\"#bd3786\"],[0.5555555555555556,\"#d8576b\"],[0.6666666666666666,\"#ed7953\"],[0.7777777777777778,\"#fb9f3a\"],[0.8888888888888888,\"#fdca26\"],[1.0,\"#f0f921\"]],\"sequentialminus\":[[0.0,\"#0d0887\"],[0.1111111111111111,\"#46039f\"],[0.2222222222222222,\"#7201a8\"],[0.3333333333333333,\"#9c179e\"],[0.4444444444444444,\"#bd3786\"],[0.5555555555555556,\"#d8576b\"],[0.6666666666666666,\"#ed7953\"],[0.7777777777777778,\"#fb9f3a\"],[0.8888888888888888,\"#fdca26\"],[1.0,\"#f0f921\"]]},\"colorway\":[\"#636efa\",\"#EF553B\",\"#00cc96\",\"#ab63fa\",\"#FFA15A\",\"#19d3f3\",\"#FF6692\",\"#B6E880\",\"#FF97FF\",\"#FECB52\"],\"font\":{\"color\":\"#2a3f5f\"},\"geo\":{\"bgcolor\":\"white\",\"lakecolor\":\"white\",\"landcolor\":\"#E5ECF6\",\"showlakes\":true,\"showland\":true,\"subunitcolor\":\"white\"},\"hoverlabel\":{\"align\":\"left\"},\"hovermode\":\"closest\",\"mapbox\":{\"style\":\"light\"},\"paper_bgcolor\":\"white\",\"plot_bgcolor\":\"#E5ECF6\",\"polar\":{\"angularaxis\":{\"gridcolor\":\"white\",\"linecolor\":\"white\",\"ticks\":\"\"},\"bgcolor\":\"#E5ECF6\",\"radialaxis\":{\"gridcolor\":\"white\",\"linecolor\":\"white\",\"ticks\":\"\"}},\"scene\":{\"xaxis\":{\"backgroundcolor\":\"#E5ECF6\",\"gridcolor\":\"white\",\"gridwidth\":2,\"linecolor\":\"white\",\"showbackground\":true,\"ticks\":\"\",\"zerolinecolor\":\"white\"},\"yaxis\":{\"backgroundcolor\":\"#E5ECF6\",\"gridcolor\":\"white\",\"gridwidth\":2,\"linecolor\":\"white\",\"showbackground\":true,\"ticks\":\"\",\"zerolinecolor\":\"white\"},\"zaxis\":{\"backgroundcolor\":\"#E5ECF6\",\"gridcolor\":\"white\",\"gridwidth\":2,\"linecolor\":\"white\",\"showbackground\":true,\"ticks\":\"\",\"zerolinecolor\":\"white\"}},\"shapedefaults\":{\"line\":{\"color\":\"#2a3f5f\"}},\"ternary\":{\"aaxis\":{\"gridcolor\":\"white\",\"linecolor\":\"white\",\"ticks\":\"\"},\"baxis\":{\"gridcolor\":\"white\",\"linecolor\":\"white\",\"ticks\":\"\"},\"bgcolor\":\"#E5ECF6\",\"caxis\":{\"gridcolor\":\"white\",\"linecolor\":\"white\",\"ticks\":\"\"}},\"title\":{\"x\":0.05},\"xaxis\":{\"automargin\":true,\"gridcolor\":\"white\",\"linecolor\":\"white\",\"ticks\":\"\",\"title\":{\"standoff\":15},\"zerolinecolor\":\"white\",\"zerolinewidth\":2},\"yaxis\":{\"automargin\":true,\"gridcolor\":\"white\",\"linecolor\":\"white\",\"ticks\":\"\",\"title\":{\"standoff\":15},\"zerolinecolor\":\"white\",\"zerolinewidth\":2}}},\"xaxis\":{\"anchor\":\"y\",\"domain\":[0.0,1.0],\"title\":{\"text\":\"0\"}},\"yaxis\":{\"anchor\":\"x\",\"domain\":[0.0,1.0],\"title\":{\"text\":\"1\"}},\"coloraxis\":{\"colorbar\":{\"title\":{\"text\":\"color\"}},\"colorscale\":[[0.0,\"#0d0887\"],[0.1111111111111111,\"#46039f\"],[0.2222222222222222,\"#7201a8\"],[0.3333333333333333,\"#9c179e\"],[0.4444444444444444,\"#bd3786\"],[0.5555555555555556,\"#d8576b\"],[0.6666666666666666,\"#ed7953\"],[0.7777777777777778,\"#fb9f3a\"],[0.8888888888888888,\"#fdca26\"],[1.0,\"#f0f921\"]]},\"legend\":{\"tracegroupgap\":0},\"margin\":{\"t\":60}},                        {\"responsive\": true}                    ).then(function(){\n",
              "                            \n",
              "var gd = document.getElementById('65811d89-9f5e-4baf-a0dc-f97863f711b7');\n",
              "var x = new MutationObserver(function (mutations, observer) {{\n",
              "        var display = window.getComputedStyle(gd).display;\n",
              "        if (!display || display === 'none') {{\n",
              "            console.log([gd, 'removed!']);\n",
              "            Plotly.purge(gd);\n",
              "            observer.disconnect();\n",
              "        }}\n",
              "}});\n",
              "\n",
              "// Listen for the removal of the full notebook cells\n",
              "var notebookContainer = gd.closest('#notebook-container');\n",
              "if (notebookContainer) {{\n",
              "    x.observe(notebookContainer, {childList: true});\n",
              "}}\n",
              "\n",
              "// Listen for the clearing of the current output cell\n",
              "var outputEl = gd.closest('.output');\n",
              "if (outputEl) {{\n",
              "    x.observe(outputEl, {childList: true});\n",
              "}}\n",
              "\n",
              "                        })                };                            </script>        </div>\n",
              "</body>\n",
              "</html>"
            ]
          },
          "metadata": {}
        }
      ]
    },
    {
      "cell_type": "markdown",
      "source": [
        "###Representación $t$-SNE"
      ],
      "metadata": {
        "id": "ACEq_Y-OVYDY"
      }
    },
    {
      "cell_type": "code",
      "source": [
        "from sklearn.manifold import TSNE\n",
        "datared = TSNE( n_components=2, n_iter=1000, n_iter_without_progress=150, n_jobs=-1,\n",
        "               random_state=0).fit_transform(df)\n",
        "import plotly.express as px\n",
        "fig = px.scatter(datared, x=0, y=1, color=tr_y)\n",
        "fig.show()"
      ],
      "metadata": {
        "colab": {
          "base_uri": "https://localhost:8080/",
          "height": 542
        },
        "id": "jIDt_6yuWE8i",
        "outputId": "613085e5-51f0-4d21-a5b7-8c81a51a01e3"
      },
      "execution_count": null,
      "outputs": [
        {
          "output_type": "display_data",
          "data": {
            "text/html": [
              "<html>\n",
              "<head><meta charset=\"utf-8\" /></head>\n",
              "<body>\n",
              "    <div>            <script src=\"https://cdnjs.cloudflare.com/ajax/libs/mathjax/2.7.5/MathJax.js?config=TeX-AMS-MML_SVG\"></script><script type=\"text/javascript\">if (window.MathJax) {MathJax.Hub.Config({SVG: {font: \"STIX-Web\"}});}</script>                <script type=\"text/javascript\">window.PlotlyConfig = {MathJaxConfig: 'local'};</script>\n",
              "        <script src=\"https://cdn.plot.ly/plotly-2.8.3.min.js\"></script>                <div id=\"a024b35f-6c09-4f32-82cb-afbb82fd4796\" class=\"plotly-graph-div\" style=\"height:525px; width:100%;\"></div>            <script type=\"text/javascript\">                                    window.PLOTLYENV=window.PLOTLYENV || {};                                    if (document.getElementById(\"a024b35f-6c09-4f32-82cb-afbb82fd4796\")) {                    Plotly.newPlot(                        \"a024b35f-6c09-4f32-82cb-afbb82fd4796\",                        [{\"hovertemplate\":\"0=%{x}<br>1=%{y}<br>color=%{marker.color}<extra></extra>\",\"legendgroup\":\"\",\"marker\":{\"color\":[0,0,0,0,0,0,0,0,0,0,0,0,0,0,0,0,0,0,0,0,0,0,0,0,0,0,0,0,0,0,0,0,0,0,0,0,0,0,0,0,0,0,0,0,0,0,0,0,0,0,0,0,0,0,0,0,0,0,0,0,0,0,0,0,0,0,0,0,0,0,0,0,0,0,0,0,0,0,0,0,0,0,0,0,0,0,0,0,0,0,0,0,0,0,0,0,0,0,0,0,0,0,0,0,0,0,0,0,0,0,0,0,0,0,0,0,0,0,0,0,0,0,0,0,0,0,0,0,0,0,0,0,0,0,0,0,0,0,0,0,0,0,0,0,0,0,0,0,0,0,0,0,0,0,0,0,0,0,0,0,0,0,0,0,0,0,0,0,0,0,0,0,0,0,0,0,0,0,0,0,0,0,0,0,0,0,0,0,0,0,0,0,0,0,0,0,0,0,0,0,0,0,0,0,0,0,0,0,0,0,0,0,0,0,0,0,0,0,0,0,0,0,0,0,0,0,0,0,0,0,0,0,0,0,0,0,0,0,0,0,0,0,0,0,0,0,0,0,0,0,0,0,0,0,0,0,0,0,0,0,0,0,0,0,0,0,0,0,0,0,0,0,0,0,0,0,0,0,0,0,0,0,0,0,0,0,0,0,0,0,0,0,0,0,0,0,0,0,0,0,0,0,0,0,0,0,0,0,0,0,0,0,0,0,0,0,0,0,0,0,0,0,0,0,0,0,0,0,0,0,0,0,0,0,0,0,0,0,0,0,0,0,0,0,0,0,0,0,0,0,0,0,0,0,0,0,0,0,0,0,0,0,0,0,0,0,0,0,0,0,0,0,0,0,0,0,0,0,0,0,0,0,0,0,0,0,0,0,0,0,0,0,0,0,0,0,0,0,0,0,0,0,0,0,0,0,0,0,0,0,0,0,0,0,0,0,0,0,0,0,0,0,0,0,0,0,0,0,0,0,0,0,0,0,0,0,0,0,0,0,0,0,0,0,0,0,0,0,0,0,1,1,1,1,1,1,1,1,1,1,1,1,1,1,1,1,1,1,1,1,1,1,1,1,1,1,1,1,1,1,1,1,1,1,1,1,1,1,1,1,1,1,1,1,1,1,1,1,1,1,1,1,1,1,1,1,1,1,1,1,1,1,1,1,1,1,1,1,1,1,1,1,1,1,1,1,1,1,1,1,1,1,1,1,1,1,1,1,1,1,1,1,1,1,1,1,1,1,1,1,1,1,1,1,1,1,1,1,1,1,1,1,1,1,1,1,1,1,1,1,1,1,1,1,1,1,1,1,1,1,1,1,1,1,1,1,1,1,1,1,1,1,1,1,1,1,1,1,1,1,1,1,1,1,1,1,1,1,1,1,1,1,1,1,1,1,1,1,1,1,1,1,1,1,1,1,1,1,1,1,1,1,1,1,1,1,1,1,1,1,1,1,1,1,1,1,1,1,1,1,1,1,1,1,1,1,1,1,1,1,1,1,1,1,1,1,1,1,1,1,1,1,1,1,1,1,1,1,1,1,1,1,1,1,1,1,1,1,1,1,1,1,1,1,1,1,1,1,1,1,1,1,1,1,1,1,1,1,1,1,1,1,1,1,1,1,1,1,1,1,1,1,1,1,1,1,1,1,1,1,1,1,1,1,1,1,1,1,1,1,1,1,1,1,1,1,1,1,1,1,1,1,1,1,1,1,1,1,1,1,1,1,1,1,1,1,1,1,1,1,1,1,1,1,1,1,1,1,1,1,1,1,1,1,1,1,1,1,1,1,1,1,1,1,1,1,1,1,1,1,1,1,1,1,1,1,1,1,1,1,1,1,1,1,1,1,1,1,1,1,1,1,1,1,1,1,1,1,1,1,1,1,1,1,1,1,1,1,1,1,1,1,1,1,1,1,1,1,1,1,1,1,1,1,1,1,1,1,1,1,1,1,1,1,1,1,1,1,1,1,1,1,1,1,1,1,1,1,1,1,1,1,1,1,1,1,1,1,1,1,1,1,1,1,1,1,1,1,1,1,2,2,2,2,2,2,2,2,2,2,2,2,2,2,2,2,2,2,2,2,2,2,2,2,2,2,2,2,2,2,2,2,2,2,2,2,2,2,2,2,2,2,2,2,2,2,2,2,2,2,2,2,2,2,2,2,2,2,2,2,2,2,2,2,2,2,2,2,2,2,2,2,2,2,2,2,2,2,2,2,2,2,2,2,2,2,2,2,2,2,2,2,2,2,2,2,2,2,2,2,2,2,2,2,2,2,2,2,2,2,2,2,2,2,2,2,2,2,2,2,2,2,2,2,2,2,2,2,2,2,2,2,2,2,2,2,2,2,2,2,2,2,2,2,2,2,2,2,2,2,2,2,2,2,2,2,2,2,2,2,2,2,2,2,2,2,2,2,2,2,2,2,2,2,2,2,2,2,2,2,2,2,2,2,2,2,2,2,2,2,2,2,2,2,2,2,2,2,2,2,2,2,2,2,2,2,2,2,2,2,2,2,2,2,2,2,2,2,2,2,2,2,2,2,2,2,2,2,2,2,2,2,2,2,2,2,2,2,2,2,2,2,2,2,2,2,2,2,2,2,2,2,2,2,2,2,2,2,2,2,2,2,2,2,2,2,2,2,2,2,2,2,2,2,2,2,2,2,2,2,2,2,2,2,2,2,2,2,2,2,2,2,2,2,2,2,2,2,2,2,2,2,2,2,2,2,2,2,2,2,2,2,2,2,2,2,2,2,2,2,2,2,2,2,2,2,2,2,2,2,2,2,2,2,2,2,2,2,2,2,2,2,2,2,2,2,2,2,2,2,2,2,2,2,2,2,2,2,2,2,2,2,2,2,2,2,2,2,2,2,2,2,2,2,2,2,2,2,2,2,2,2,2,2,2,2,2,2,2,2,2,2,2,2,2,2,2,2,2,2,2,2,2,2,2,2,2,2,2,2,2,2,2,2,2,2,2,2,2,2,2,2,2,2,2,2,2,2,2,2,2,2,2,2,2,2,2,2,2,2,2,2,2,2,2,2,2,2,2,2,3,3,3,3,3,3,3,3,3,3,3,3,3,3,3,3,3,3,3,3,3,3,3,3,3,3,3,3,3,3,3,3,3,3,3,3,3,3,3,3,3,3,3,3,3,3,3,3,3,3,3,3,3,3,3,3,3,3,3,3,3,3,3,3,3,3,3,3,3,3,3,3,3,3,3,3,3,3,3,3,3,3,3,3,3,3,3,3,3,3,3,3,3,3,3,3,3,3,3,3,3,3,3,3,3,3,3,3,3,3,3,3,3,3,3,3,3,3,3,3,3,3,3,3,3,3,3,3,3,3,3,3,3,3,3,3,3,3,3,3,3,3,3,3,3,3,3,3,3,3,3,3,3,3,3,3,3,3,3,3,3,3,3,3,3,3,3,3,3,3,3,3,3,3,3,3,3,3,3,3,3,3,3,3,3,3,3,3,3,3,3,3,3,3,3,3,3,3,3,3,3,3,3,3,3,3,3,3,3,3,3,3,3,3,3,3,3,3,3,3,3,3,3,3,3,3,3,3,3,3,3,3,3,3,3,3,3,3,3,3,3,3,3,3,3,3,3,3,3,3,3,3,3,3,3,3,3,3,3,3,3,3,3,3,3,3,3,3,3,3,3,3,3,3,3,3,3,3,3,3,3,3,3,3,3,3,3,3,3,3,3,3,3,3,3,3,3,3,3,3,3,3,3,3,3,3,3,3,3,3,3,3,3,3,3,3,3,3,3,3,3,3,3,3,3,3,3,3,3,3,3,3,3,3,3,3,3,3,3,3,3,3,3,3,3,3,3,3,3,3,3,3,3,3,3,3,3,3,3,3,3,3,3,3,3,3,3,3,3,3,3,3,3,3,3,3,3,3,3,3,3,3,3,3,3,3,3,3,3,3,3,3,3,3,3,3,3,3,3,3,3,3,3,3,3,3,3,3,3,3,3,3,3,3,3,3,3,3,3,3,3,3,3,3,3,3,3,3,3,3,3,3,3,3,3,3,3,3,3,3,3,3,3,3,3,3,3,3,3,3,4,4,4,4,4,4,4,4,4,4,4,4,4,4,4,4,4,4,4,4,4,4,4,4,4,4,4,4,4,4,4,4,4,4,4,4,4,4,4,4,4,4,4,4,4,4,4,4,4,4,4,4,4,4,4,4,4,4,4,4,4,4,4,4,4,4,4,4,4,4,4,4,4,4,4,4,4,4,4,4,4,4,4,4,4,4,4,4,4,4,4,4,4,4,4,4,4,4,4,4,4,4,4,4,4,4,4,4,4,4,4,4,4,4,4,4,4,4,4,4,4,4,4,4,4,4,4,4,4,4,4,4,4,4,4,4,4,4,4,4,4,4,4,4,4,4,4,4,4,4,4,4,4,4,4,4,4,4,4,4,4,4,4,4,4,4,4,4,4,4,4,4,4,4,4,4,4,4,4,4,4,4,4,4,4,4,4,4,4,4,4,4,4,4,4,4,4,4,4,4,4,4,4,4,4,4,4,4,4,4,4,4,4,4,4,4,4,4,4,4,4,4,4,4,4,4,4,4,4,4,4,4,4,4,4,4,4,4,4,4,4,4,4,4,4,4,4,4,4,4,4,4,4,4,4,4,4,4,4,4,4,4,4,4,4,4,4,4,4,4,4,4,4,4,4,4,4,4,4,4,4,4,4,4,4,4,4,4,4,4,4,4,4,4,4,4,4,4,4,4,4,4,4,4,4,4,4,4,4,4,4,4,4,4,4,4,4,4,4,4,4,4,4,4,4,4,4,4,4,4,4,4,4,4,4,4,4,4,4,4,4,4,4,4,4,4,4,4,4,4,4,4,4,4,4,4,4,4,4,4,4,4,4,4,4,4,4,4,4,4,4,4,4,4,4,4,4,4,4,4,4,4,4,4,4,4,4,4,4,4,4,4,4,4,4,4,4,4,4,4,4,4,4,4,4,4,4,4,4,4,4,4,4,4,4,4,4,4,4,4,4,4,4,4,4,4,4,4,4,4,4,4,4,4,4,4,4,4,4,4,4,4,4,4,4,4,4,4,4,4],\"coloraxis\":\"coloraxis\",\"symbol\":\"circle\"},\"mode\":\"markers\",\"name\":\"\",\"showlegend\":false,\"x\":[6.172697067260742,5.311224937438965,-0.4273397624492645,10.697315216064453,13.248014450073242,9.214310646057129,-16.92786979675293,-19.54440689086914,1.020310878753662,-15.030915260314941,3.306647300720215,-9.926637649536133,-10.983236312866211,-6.683102607727051,-13.758112907409668,12.989189147949219,2.727304458618164,10.14932632446289,-13.021963119506836,8.795111656188965,-3.2509982585906982,-7.435724258422852,-15.785463333129883,7.018373012542725,16.355846405029297,-0.7797049283981323,5.118910312652588,1.9517267942428589,12.536369323730469,-6.990009784698486,1.0137302875518799,-0.6862227320671082,10.685442924499512,4.2262654304504395,2.516679525375366,-6.645137310028076,8.241531372070312,-6.128240585327148,8.720695495605469,13.337574005126953,-9.796805381774902,11.335693359375,7.871936321258545,-7.348440647125244,0.7650266885757446,-9.038833618164062,7.922362327575684,-7.229135513305664,6.128176689147949,-8.615538597106934,-13.150110244750977,-15.388702392578125,-3.7732813358306885,2.1806087493896484,-12.301163673400879,11.653531074523926,0.40021297335624695,-5.76758337020874,5.405954837799072,13.961884498596191,11.25979232788086,-12.15433120727539,-5.407081127166748,3.819664478302002,-3.8038268089294434,5.805769920349121,4.822628498077393,3.814737558364868,-1.867438554763794,-1.1028690338134766,-7.517670154571533,-2.203782796859741,6.921453952789307,-0.4647645950317383,-11.778685569763184,8.696133613586426,-3.133718729019165,2.1818394660949707,8.963395118713379,-8.94405460357666,5.213975429534912,-0.995795488357544,-8.775518417358398,-6.716714382171631,17.330427169799805,-12.764829635620117,-11.843514442443848,2.5913989543914795,4.255246639251709,-5.764764785766602,-6.674442291259766,4.262908458709717,-4.0989670753479,-6.560070991516113,2.1219043731689453,7.834052085876465,2.2283942699432373,6.387258052825928,-10.756783485412598,14.20582103729248,-1.864441156387329,-6.539368152618408,1.8303853273391724,-1.3891220092773438,-1.9549096822738647,-19.043407440185547,8.079832077026367,8.84659194946289,6.325417995452881,-2.9305295944213867,10.795234680175781,-10.160073280334473,13.026373863220215,0.5170116424560547,-9.825146675109863,1.6675015687942505,-2.4224629402160645,10.166431427001953,14.225552558898926,10.921451568603516,-4.976253986358643,-6.324588298797607,-7.8994879722595215,-10.362010955810547,0.3487204313278198,9.970843315124512,12.436976432800293,6.313751697540283,4.851962566375732,-7.397151947021484,-13.399394035339355,9.21696662902832,2.1637613773345947,-11.265924453735352,-7.363044261932373,16.311861038208008,-4.318246841430664,-13.124704360961914,13.292478561401367,-2.2876832485198975,-8.997319221496582,-7.707472801208496,10.078276634216309,4.841179847717285,-11.696944236755371,8.708897590637207,-11.208624839782715,16.90705680847168,-9.426426887512207,3.657775640487671,-3.0910468101501465,-0.693287193775177,-14.02113151550293,-4.073763370513916,-12.139988899230957,-3.4314920902252197,-7.376402854919434,-0.4252813756465912,0.96854168176651,-9.772614479064941,1.0953220129013062,-1.7270801067352295,4.086781978607178,-0.8863659501075745,-1.2612963914871216,1.5396764278411865,-13.677042961120605,-6.6902360916137695,-0.6641532182693481,12.288606643676758,5.760061264038086,-15.524901390075684,-6.301642417907715,7.889679431915283,16.770709991455078,0.625511109828949,2.207376718521118,12.281448364257812,-0.4335523247718811,-5.416836261749268,19.501239776611328,-7.038450717926025,-2.3531382083892822,-0.7072495818138123,1.6776865720748901,4.859561443328857,-1.1530425548553467,2.519423723220825,-15.416510581970215,7.110658168792725,5.241884231567383,-8.99011516571045,4.16149377822876,5.17820930480957,2.585991144180298,-0.2579564154148102,6.11382532119751,-1.6421977281570435,3.6765527725219727,5.78627347946167,10.370685577392578,0.5514106750488281,20.649362564086914,10.888858795166016,13.464740753173828,14.620752334594727,-14.645565032958984,-2.323131799697876,-7.966501235961914,0.003880108939483762,-2.933628559112549,-3.458491563796997,11.310205459594727,-11.621321678161621,1.5909423828125,0.4682089686393738,15.29696273803711,7.2289581298828125,2.0153963565826416,-12.925929069519043,-3.49544358253479,-0.32375961542129517,-8.455916404724121,-6.0651140213012695,-13.082547187805176,-5.821232795715332,5.703933238983154,15.440168380737305,-10.896470069885254,-11.056133270263672,-10.613636016845703,7.369363784790039,-7.928311347961426,-6.992448806762695,-4.507835388183594,-7.5635986328125,3.7961974143981934,15.545220375061035,-9.65455150604248,11.163532257080078,11.68996524810791,-11.420289993286133,-2.890371084213257,-7.569217681884766,1.8851289749145508,13.632139205932617,6.299307823181152,-18.54096221923828,11.31318187713623,-11.632938385009766,-10.296309471130371,-4.608092784881592,-9.327590942382812,16.59189224243164,3.528571844100952,-2.707028388977051,9.93982982635498,-11.4033784866333,-13.666016578674316,10.801554679870605,-5.256746768951416,7.028029441833496,9.214285850524902,1.5833901166915894,8.071063041687012,2.4672412872314453,6.1074042320251465,4.764623641967773,13.916996002197266,2.3451614379882812,8.783238410949707,-4.592513561248779,0.774909496307373,7.696377754211426,0.14948168396949768,2.267638683319092,10.160526275634766,2.8282129764556885,-5.962372303009033,-12.536415100097656,-15.719496726989746,14.236748695373535,14.311980247497559,-9.812085151672363,-8.069356918334961,3.430725574493408,10.957676887512207,-13.518576622009277,-6.609283447265625,-4.193154335021973,12.653901100158691,5.223951816558838,0.05016545578837395,0.6913496851921082,-0.6272833943367004,1.5169757604599,2.211930513381958,1.4386881589889526,13.23033332824707,10.801565170288086,13.721312522888184,10.897873878479004,7.040658473968506,2.826413869857788,4.858358860015869,-14.167460441589355,8.589542388916016,1.4630433320999146,6.835732460021973,-10.448808670043945,0.13956548273563385,-7.100862979888916,7.8697123527526855,-8.115193367004395,18.88741683959961,-16.19495391845703,3.323993682861328,7.513929843902588,-1.862351894378662,11.668631553649902,2.1480793952941895,-9.45499038696289,-11.035818099975586,-9.351749420166016,-5.5141215324401855,16.26051139831543,-11.739368438720703,6.17850923538208,-15.60094928741455,3.0426483154296875,-10.897136688232422,-2.2981202602386475,-7.695427894592285,-16.565073013305664,-9.545143127441406,-1.9562772512435913,4.776644229888916,-0.1619226336479187,-0.47903957962989807,0.34642669558525085,13.437110900878906,11.66300106048584,12.479602813720703,0.8387689590454102,13.926596641540527,11.503199577331543,14.40473461151123,-12.160148620605469,-16.97832489013672,-5.046595096588135,-5.456891059875488,13.928053855895996,-15.435527801513672,-6.183861255645752,-12.480133056640625,-8.050554275512695,4.84064245223999,-0.7215610146522522,8.480094909667969,5.593417167663574,2.2838926315307617,11.103949546813965,-9.38545036315918,-5.395522117614746,0.8945877552032471,13.61298656463623,-6.342175483703613,4.355130195617676,16.648874282836914,6.542213439941406,16.713714599609375,-12.245614051818848,4.0335893630981445,-9.734552383422852,-2.8902573585510254,-1.0807344913482666,-6.426113605499268,-2.5822672843933105,4.524470329284668,8.674430847167969,11.371806144714355,9.446761131286621,-2.9364986419677734,3.626193046569824,-7.039376735687256,5.679443836212158,-8.004534721374512,0.4735802114009857,12.768199920654297,-3.9795567989349365,3.7309935092926025,0.820334255695343,3.281593084335327,11.694001197814941,-8.186741828918457,8.255010604858398,-9.083488464355469,5.970624923706055,-8.469393730163574,-7.8069658279418945,-6.830496788024902,8.754440307617188,13.347322463989258,3.0675220489501953,-9.981911659240723,2.9993410110473633,-9.805498123168945,12.53886604309082,0.5668414831161499,1.0627195835113525,10.873456001281738,13.342599868774414,-1.469172716140747,-0.25070470571517944,9.518810272216797,-7.643679141998291,-11.513328552246094,-8.948402404785156,2.780344247817993,-1.9818302392959595,0.03493238240480423,-4.310007095336914,6.540681838989258,8.76846694946289,3.036881685256958,0.19583413004875183,6.448953151702881,4.241944313049316,-2.2901315689086914,3.403940439224243,-0.5978546142578125,9.785835266113281,-13.643617630004883,-0.7733047008514404,-5.35974645614624,-0.5753564238548279,-18.219581604003906,-3.156283140182495,3.4814999103546143,-3.081899642944336,1.797189474105835,-13.826568603515625,-7.1184210777282715,-9.66515827178955,-4.6711106300354,-9.335016250610352,-4.580775260925293,3.8939924240112305,-2.6023781299591064,-13.710375785827637,0.27677398920059204,-13.015447616577148,-9.211836814880371,-11.549571990966797,-9.228014945983887,4.697747707366943,2.312248706817627,-4.661731243133545,10.805963516235352,-0.23909014463424683,10.816815376281738,-0.9762653708457947,16.296253204345703,-6.708389759063721,-5.537884712219238,-5.475262641906738,-7.326371669769287,-5.167030334472656,7.7112884521484375,-1.5866578817367554,-0.5252825617790222,-9.974675178527832,-0.20931893587112427,-14.433871269226074,3.871912717819214,4.281003952026367,6.350066661834717,-7.431073188781738,-13.264819145202637,1.798133134841919,9.145675659179688,8.72661304473877,-13.532919883728027,-3.3355331420898438,4.248903751373291,3.5700790882110596,-2.3171021938323975,-8.331228256225586,-11.996186256408691,-3.8636927604675293,3.6860544681549072,-2.853132963180542,0.37804746627807617,3.1591291427612305,-8.640838623046875,-3.73124623298645,-12.42468547821045,6.305141448974609,2.6202666759490967,-9.457540512084961,18.467191696166992,18.803321838378906,-11.689013481140137,-15.01560115814209,5.630497455596924,3.6115360260009766,-0.21944090723991394,10.037920951843262,-17.556550979614258,2.3932254314422607,-13.29201602935791,-1.9650616645812988,-4.866403102874756,8.795401573181152,0.32322195172309875,-16.94533348083496,-7.081426620483398,6.177491664886475,3.5927913188934326,3.6035470962524414,-2.8558483123779297,4.332842826843262,-5.438834190368652,-14.029014587402344,-8.873443603515625,-9.997581481933594,-8.34776496887207,-13.74132251739502,-5.705922603607178,1.2410155534744263,5.37046480178833,8.05522346496582,-5.163090705871582,3.9119913578033447,-5.923804759979248,15.628096580505371,-2.7975521087646484,-2.782219409942627,-10.471672058105469,1.4286065101623535,-2.019907236099243,-17.74210548400879,13.51037883758545,-13.827256202697754,2.0357213020324707,-7.867878437042236,-0.6032279133796692,-9.75235366821289,4.643578052520752,-5.0197367668151855,7.919981956481934,4.161768436431885,10.650657653808594,-7.1373772621154785,10.113446235656738,-6.9304280281066895,-12.16275691986084,-12.215547561645508,10.285993576049805,8.449034690856934,-6.579275131225586,0.9288812875747681,-9.095606803894043,-3.696108341217041,-3.4087953567504883,12.3211030960083,5.032425403594971,12.8216552734375,13.888981819152832,-1.1262749433517456,11.92807674407959,0.3705131411552429,4.08981466293335,0.3280967175960541,-6.1890740394592285,-2.3751726150512695,2.8927931785583496,6.1139349937438965,7.9301228523254395,1.7273266315460205,-5.072361469268799,-9.185361862182617,9.617795944213867,7.043178081512451,18.39672088623047,5.468314170837402,-8.047426223754883,-2.6145033836364746,-1.074418544769287,-2.732964038848877,-5.453233242034912,-7.082436561584473,11.620539665222168,7.664863586425781,-2.079808235168457,-10.90932559967041,-10.183538436889648,0.18816260993480682,11.491928100585938,-12.738576889038086,11.687335014343262,11.831009864807129,-3.2622454166412354,-6.377999782562256,-11.27595043182373,-5.628925800323486,3.923811435699463,4.862973690032959,4.510490417480469,4.939776420593262,16.73056983947754,4.991905212402344,6.030273914337158,9.586264610290527,-1.1185908317565918,-3.1405069828033447,8.38841438293457,-12.699033737182617,-6.501814365386963,8.093311309814453,-8.260655403137207,3.8041670322418213,-3.4966001510620117,13.241153717041016,-7.825084686279297,-5.38720703125,-5.126593112945557,-12.058538436889648,-5.353426933288574,-5.552038669586182,-4.067165851593018,10.720438003540039,10.965943336486816,-6.648278713226318,-3.9089865684509277,17.393718719482422,5.619917392730713,3.489508628845215,8.574772834777832,2.6192212104797363,-0.049883004277944565,-14.478433609008789,13.828580856323242,5.127404689788818,-4.980702877044678,-3.561373710632324,14.626409530639648,-14.293559074401855,4.278285026550293,-1.4699002504348755,10.216667175292969,2.1216578483581543,6.021218776702881,10.719605445861816,-6.649985313415527,0.7050215005874634,-4.62101411819458,-13.151802062988281,6.5465407371521,-0.8745096325874329,3.9213104248046875,-5.405625343322754,-18.083126068115234,-13.25659465789795,9.293669700622559,7.600861072540283,-8.622777938842773,-7.1890549659729,-7.825961589813232,-14.384486198425293,-11.243430137634277,12.511674880981445,8.136474609375,-6.638978004455566,7.422379493713379,1.23652982711792,6.530120849609375,-14.075121879577637,-1.1683239936828613,1.5766618251800537,-10.988258361816406,9.014473915100098,5.379930019378662,4.853960990905762,9.061905860900879,8.754764556884766,9.050007820129395,11.3246431350708,-7.297170162200928,-14.811894416809082,-7.619931697845459,-7.6477885246276855,2.4607932567596436,3.8316597938537598,-18.66107749938965,-1.996218204498291,11.146848678588867,11.182856559753418,1.5073928833007812,-2.016383409500122,0.10863180458545685,-16.267602920532227,11.056192398071289,14.351836204528809,-12.222501754760742,2.3461575508117676,-1.1304588317871094,6.245509624481201,-5.96623420715332,-0.6276543736457825,14.242749214172363,0.9057877063751221,1.5772392749786377,2.525958776473999,12.896073341369629,-12.693666458129883,-1.4369810819625854,-11.277124404907227,1.9129972457885742,1.0416908264160156,-9.987488746643066,5.988742351531982,12.432126998901367,-12.460966110229492,6.834709644317627,-2.5755579471588135,0.6987925171852112,-6.494769096374512,-1.7202215194702148,-7.16129207611084,-12.450106620788574,2.4472713470458984,12.47606372833252,-8.391071319580078,0.8008906841278076,-8.21039867401123,2.0957932472229004,-17.987117767333984,9.865823745727539,-8.172408103942871,-10.66834545135498,-12.819050788879395,-9.635743141174316,-14.409655570983887,2.32194185256958,-12.247282981872559,9.278684616088867,9.176080703735352,5.973846912384033,6.065904140472412,-1.6511390209197998,4.439424991607666,1.4898121356964111,6.566832065582275,14.403847694396973,-16.99269676208496,15.189255714416504,-10.981197357177734,-0.987994372844696,-7.6036763191223145,-5.413607597351074,-4.515543460845947,-6.598412990570068,3.2859432697296143,1.9247156381607056,-2.354483127593994,6.342005729675293,4.262005805969238,-14.33430004119873,9.393072128295898,18.718517303466797,4.259182929992676,-9.33591365814209,-2.7593870162963867,-8.009428977966309,-11.482352256774902,11.184468269348145,12.402847290039062,3.357171058654785,-6.601781368255615,2.759763717651367,-5.800546169281006,-2.7729454040527344,10.73674488067627,-9.039082527160645,3.8881406784057617,-6.748980522155762,15.211761474609375,-13.374442100524902,16.53304100036621,-4.777640342712402,12.095306396484375,-9.511974334716797,-14.876152038574219,-4.508578777313232,-12.5054292678833,11.391308784484863,6.563356876373291,-7.623315811157227,-5.830349445343018,13.334609985351562,-10.60935115814209,9.179265022277832,-12.27932357788086,-5.712856292724609,5.750090599060059,1.225119709968567,7.210360050201416,-17.89579200744629,-2.605208396911621,12.063094139099121,-5.3170390129089355,-10.97995662689209,0.07691368460655212,-12.325470924377441,-7.436362266540527,-17.558612823486328,6.301224231719971,-17.542510986328125,-12.946435928344727,1.1576080322265625,-7.963118553161621,6.587427616119385,-0.664864718914032,-3.179168701171875,-1.9689897298812866,-9.413477897644043,8.188986778259277,-10.073616027832031,-0.08118782192468643,1.657914638519287,1.2710440158843994,-13.971481323242188,6.9538774490356445,-3.7421178817749023,-3.663618326187134,4.766940116882324,8.427197456359863,-7.10495138168335,-7.194157123565674,5.916532039642334,2.9624712467193604,-3.4317328929901123,-5.26945161819458,1.198643445968628,11.262971878051758,-6.100788593292236,-2.408080816268921,-3.4197275638580322,0.509251594543457,-2.350363254547119,-10.822604179382324,-13.429312705993652,0.12394462525844574,-15.016792297363281,10.950331687927246,16.774686813354492,3.425891637802124,-6.44783878326416,1.0264924764633179,-0.212349072098732,-7.116156578063965,-4.265768527984619,-6.568018913269043,3.4023923873901367,16.829891204833984,-10.536623001098633,5.601190567016602,2.1762092113494873,-2.1126155853271484,-5.560555458068848,-8.494322776794434,-7.822630882263184,-12.289291381835938,6.513913631439209,7.865077018737793,9.297163009643555,-0.8335117697715759,0.26865947246551514,5.685723304748535,-7.979376316070557,-7.8939433097839355,0.3117201030254364,-12.472756385803223,-9.396318435668945,-13.523077011108398,-9.219042778015137,-2.80609130859375,-13.902877807617188,13.100187301635742,-1.4014792442321777,-14.283642768859863,3.5571906566619873,7.204823017120361,-11.75811767578125,1.131097674369812,12.26296615600586,8.750804901123047,10.362866401672363,16.79744529724121,-8.43464469909668,-3.337400436401367,15.69471263885498,9.476460456848145,4.4683380126953125,-10.167719841003418,8.021595001220703,9.316067695617676,-3.966355323791504,15.013575553894043,-8.778197288513184,3.0922787189483643,-5.091254234313965,-8.424820899963379,-7.81813383102417,5.546555995941162,8.177867889404297,9.82542610168457,11.791507720947266,3.202258825302124,-1.90702486038208,-8.746061325073242,-9.665091514587402,-2.0735056400299072,-8.064172744750977,2.008481025695801,13.302145004272461,-8.905474662780762,-12.649214744567871,-0.11081380397081375,1.3010530471801758,1.841259241104126,-5.4256672859191895,18.59416961669922,-14.228376388549805,1.5198725461959839,2.5436389446258545,13.231307029724121,10.264663696289062,8.03067684173584,-5.460636615753174,-9.236303329467773,17.942893981933594,-0.6010106205940247,15.657954216003418,11.794354438781738,-12.842305183410645,13.93485164642334,5.429874897003174,3.86161208152771,7.073625564575195,-10.130416870117188,-6.24368143081665,-4.890032768249512,-5.857748508453369,10.092645645141602,8.229854583740234,-2.47882342338562,-3.1854400634765625,2.9004580974578857,-0.8753860592842102,-6.996499061584473,13.08452033996582,0.1280902475118637,15.492308616638184,8.807867050170898,-11.407711029052734,-14.845004081726074,11.888847351074219,-3.3982961177825928,6.749064922332764,-4.449267864227295,-13.715673446655273,-13.271661758422852,-14.419116020202637,15.337509155273438,-6.103945255279541,11.380973815917969,-9.222172737121582,6.028772830963135,-10.924446105957031,7.249068260192871,-0.6555261611938477,4.153618335723877,14.001599311828613,-5.3496317863464355,2.12658429145813,-0.7143570184707642,-6.103363037109375,-2.337531089782715,-5.976222038269043,10.077119827270508,9.426295280456543,-16.04029655456543,3.0608372688293457,-12.990175247192383,13.312119483947754,12.951027870178223,-17.384288787841797,2.5539939403533936,16.843109130859375,12.86957836151123,6.5579633712768555,14.626320838928223,6.27955436706543,-9.113755226135254,-11.533970832824707,-10.805547714233398,-3.098402261734009,-4.190697193145752,0.36358189582824707,4.791100025177002,18.580854415893555,-15.641995429992676,-5.332005977630615,10.682184219360352,-5.492825508117676,-7.1473164558410645,13.605557441711426,-2.887206792831421,-3.0802512168884277,1.0221890211105347,-0.446140855550766,-5.881193161010742,0.9390048384666443,2.517242670059204,-0.19946739077568054,8.840521812438965,-3.575744390487671,0.12749126553535461,-4.884006023406982,-2.268320322036743,16.65352439880371,-9.23019027709961,3.746772050857544,2.5354676246643066,-5.82349157333374,-3.6691372394561768,9.437222480773926,8.855782508850098,-0.08498401939868927,1.4915529489517212,-5.4185075759887695,13.250917434692383,-3.3306143283843994,7.452535152435303,-0.4973078966140747,2.8074896335601807,-8.353769302368164,12.066352844238281,6.433304786682129,1.5106714963912964,-2.016087770462036,1.8289908170700073,3.4659388065338135,-0.9069808125495911,0.19057512283325195,4.382014751434326,-9.12845516204834,-10.21673583984375,-8.866068840026855,-5.01547908782959,-11.451929092407227,-2.159965753555298,-7.821436882019043,-1.1993645429611206,-10.085256576538086,-1.2056057453155518,-3.4335920810699463,6.146842956542969,0.009150732308626175,-10.622929573059082,-1.3050915002822876,3.2204971313476562,1.340590476989746,-7.826840877532959,11.045190811157227,-5.031669616699219,-0.9093387126922607,-14.050732612609863,4.035562515258789,-2.488757371902466,8.67974853515625,-2.12088680267334,-11.621926307678223,1.0396300554275513,8.80139446258545,1.3331552743911743,8.146158218383789,16.34048080444336,9.394043922424316,-14.792778968811035,-12.080100059509277,8.439469337463379,-2.01020884513855,18.243200302124023,1.7598034143447876,-12.049825668334961,11.378497123718262,4.320847034454346,-0.39653119444847107,-5.009175777435303,-10.899739265441895,-5.954233646392822,-8.331071853637695,-13.968693733215332,0.6210535168647766,-11.551791191101074,-15.734027862548828,-4.007513523101807,-1.7877939939498901,17.35130500793457,4.082930088043213,3.3356239795684814,1.3328235149383545,2.063218116760254,5.191766738891602,14.2022123336792,4.19383430480957,-0.9012746810913086,-5.293758392333984,10.412386894226074,12.366506576538086,-7.523698806762695,3.999708652496338,-1.0804439783096313,-0.6399412751197815,3.361886501312256,9.50158405303955,10.15807056427002,-1.8628289699554443,5.715640544891357,-10.985541343688965,-6.159029006958008,-6.622230529785156,-1.5895025730133057,3.212632656097412,0.32744544744491577,5.073786735534668,8.147451400756836,-1.8925455808639526,8.777874946594238,-6.142724990844727,13.611051559448242,4.715743064880371,-3.135838270187378,-11.576393127441406,0.49097391963005066,12.722285270690918,-10.56118106842041,0.42220091819763184,-12.997693061828613,-5.127418518066406,14.189568519592285,1.2706925868988037,-6.013851165771484,-11.694124221801758,8.933815956115723,-13.1860933303833,7.869150638580322,-11.990203857421875,-8.145334243774414,-4.4642181396484375,10.212221145629883,13.80465316772461,-6.285764694213867,7.476852893829346,-7.110781669616699,-13.786503791809082,4.170032024383545,-4.350549221038818,-0.1166834756731987,-6.079957485198975,5.62744665145874,6.648909568786621,-4.7722883224487305,-4.988976955413818,-8.99852466583252,-13.861881256103516,10.046765327453613,10.252145767211914,0.8221151828765869,-8.313065528869629,-10.122527122497559,-5.048070430755615,-2.9817044734954834,-6.31642484664917,10.585728645324707,2.318735361099243,1.2045700550079346,-5.798410415649414,0.3627092242240906,13.207611083984375,12.367619514465332,-18.221025466918945,3.063654899597168,5.33768367767334,-0.15077409148216248,0.8308464288711548,-17.979381561279297,-8.845467567443848,4.170810222625732,6.671961307525635,-12.203041076660156,-14.468999862670898,1.3054059743881226,9.217523574829102,-15.397737503051758,2.999023199081421,-7.1958136558532715,-12.377288818359375,-0.5889299511909485,-11.877408027648926,-7.586813926696777,5.432881832122803,-6.984302520751953,-16.98963737487793,7.571969985961914,-9.52819538116455,6.860259532928467,5.694398403167725,7.483771324157715,-4.094296455383301,-14.254281997680664,-4.859436988830566,-5.213537693023682,-9.669401168823242,-6.984523296356201,3.946291446685791,-11.19817066192627,-14.610823631286621,12.985801696777344,-6.884268283843994,7.62136173248291,1.5264081954956055,-2.4003281593322754,-13.382884979248047,1.4760119915008545,1.0968748331069946,-3.5020697116851807,6.289312362670898,-10.502763748168945,18.524429321289062,-3.327268600463867,-5.073911666870117,-4.4148101806640625,-2.990293502807617,-2.688143730163574,-2.724500894546509,-12.532093048095703,-0.8851120471954346,5.122061729431152,-11.056035041809082,-3.9734723567962646,17.59438705444336,6.972857475280762,10.714313507080078,9.530808448791504,-14.136025428771973,-5.549973964691162,-3.6617870330810547,6.196506023406982,-4.730357646942139,-10.992441177368164,-11.358282089233398,-0.07838770002126694,-5.723072528839111,-5.594494342803955,13.319259643554688,7.650146484375,13.033390998840332,14.013543128967285,-1.177700161933899,4.782227039337158,-6.876791477203369,-9.187304496765137,12.238329887390137,-12.598604202270508,0.0940803587436676,-7.6470208168029785,12.276890754699707,-17.505023956298828,-17.712865829467773,-8.103129386901855,-7.817627429962158,3.7548770904541016,-3.3481476306915283,8.035548210144043,6.811891555786133,0.8016961216926575,-10.236456871032715,7.448761463165283,-9.937860488891602,4.909210681915283,-0.9180783629417419,13.483107566833496,0.22211691737174988,8.716018676757812,-16.733644485473633,-18.82143211364746,15.513408660888672,-2.3413219451904297,3.8104188442230225,-3.846078872680664,3.86065936088562,10.953165054321289,-13.464742660522461,19.520227432250977,-8.081610679626465,-12.379278182983398,11.253485679626465,11.708627700805664,14.177777290344238,-2.3205668926239014,1.4015992879867554,-4.792549133300781,-7.016901969909668,14.29877758026123,17.653594970703125,-2.4374876022338867,-11.50187873840332,6.026191234588623,8.779393196105957,-7.457478046417236,10.116951942443848,-0.7515979409217834,-12.503951072692871,-1.1308397054672241,-7.49368953704834,12.238130569458008,-5.862684726715088,5.103654861450195,-10.449117660522461,9.141180992126465,-1.1833245754241943,-5.692227363586426,10.685027122497559,13.00908374786377,10.617594718933105,-0.32177096605300903,6.880064010620117,7.525136947631836,-3.5430052280426025,11.500041961669922,2.624891757965088,-8.431183815002441,6.329346656799316,0.43208810687065125,12.477420806884766,14.6513671875,9.23052978515625,5.956917762756348,-2.319852113723755,2.7789769172668457,0.48795077204704285,4.417850017547607,-7.2573699951171875,3.4150125980377197,-11.138778686523438,2.623258113861084,5.909856796264648,-14.212406158447266,-2.084620475769043,8.777912139892578,-4.721704006195068,4.798139572143555,11.794455528259277,-1.654262661933899,-1.6583137512207031,15.442182540893555,18.469173431396484,7.748888969421387,13.934211730957031,-17.62799072265625,-4.14998197555542,0.19629110395908356,-6.089205265045166,-1.0398958921432495,5.310972690582275,3.908693790435791,4.886671543121338,12.607217788696289,-11.2264986038208,-7.849987506866455,-4.475985050201416,-9.503284454345703,-5.972408771514893,10.537169456481934,2.9162375926971436,-8.882445335388184,-3.953366994857788,-3.6210484504699707,5.2839484214782715,-8.147736549377441,-9.361560821533203,10.137347221374512,-16.1273250579834,2.875697612762451,4.624624729156494,3.6676416397094727,-6.683990478515625,-13.116107940673828,5.394028663635254,-8.031668663024902,-3.562634229660034,-5.055595874786377,15.480124473571777,0.38842830061912537,-10.790651321411133,-6.643113136291504,-8.863677978515625,-4.7707600593566895,12.136818885803223,-1.0827010869979858,4.5019755363464355,0.6656743884086609,1.7827576398849487,-9.7489595413208,15.360240936279297,-13.172629356384277,7.88755989074707,6.4896674156188965,13.6850004196167,2.5140628814697266,3.189857244491577,-13.004767417907715,10.95124340057373,-14.047171592712402,-0.2624342441558838,15.676411628723145,2.312751531600952,-0.5006716251373291,12.495110511779785,9.631876945495605,-3.3143341541290283,-11.070455551147461,-5.228979587554932,-12.170143127441406,5.909697532653809,1.5800676345825195,-13.161436080932617,2.975686550140381,1.5804228782653809,9.271910667419434,11.935484886169434,-15.034134864807129,4.762902736663818,-3.1124074459075928,-10.809986114501953,5.656668663024902,0.7753668427467346,-9.32967758178711,-4.501149654388428,-1.637308120727539,4.516394138336182,-2.822291851043701,-14.83146858215332,-11.250540733337402,-17.799039840698242,7.841303825378418,0.6734782457351685,13.246703147888184,11.609519958496094,-12.564764022827148,-4.042243957519531,-14.481212615966797,3.353541374206543,8.437922477722168,-2.344158411026001,-14.954395294189453,11.016414642333984,14.612961769104004,8.701786994934082,11.71534538269043,-5.727356910705566,8.56648063659668,-8.558513641357422,5.978899002075195,11.149968147277832,6.034250259399414,-3.3451662063598633,-8.25808048248291,0.12342989444732666,-2.3369176387786865,2.0270140171051025,3.4912705421447754,11.489287376403809,-9.796441078186035,-14.855229377746582,4.423810958862305,10.954902648925781,-10.038267135620117,-5.4914140701293945,-3.9165987968444824,-10.807642936706543,-2.831854820251465,-2.7681941986083984,-9.08510684967041,-9.85248851776123,-12.09284496307373,-4.3923234939575195,-1.2112812995910645,2.3355765342712402,-9.561958312988281,-13.32492733001709,-6.273292541503906,12.615496635437012,11.751839637756348,-0.8594645261764526,16.364322662353516,10.146865844726562,9.947315216064453,13.018710136413574,7.294052600860596,1.0478708744049072,-1.4732519388198853,9.279717445373535,-1.8545832633972168,11.339329719543457,-5.986859321594238,-5.942340850830078,3.922025680541992,-3.3607211112976074,9.035151481628418,3.817182779312134,8.339679718017578,-2.7582271099090576,0.013937086798250675,-4.482900142669678,6.989357948303223,-11.029589653015137,6.144619941711426,0.46179085969924927,-7.839116096496582,17.56309700012207,-10.640544891357422,-5.224681854248047,-13.097774505615234,4.7572431564331055,-7.950985908508301,-3.5867185592651367,-4.318821430206299,11.144372940063477,-13.528241157531738,-0.04892825335264206,15.470956802368164,11.32027530670166,-1.8492969274520874,-0.21750494837760925,15.356804847717285,12.068031311035156,3.839543104171753,9.265302658081055,-1.9206981658935547,17.49645233154297,-16.336467742919922,-3.1959567070007324,-4.6157073974609375,-3.4958789348602295,-10.496247291564941,-3.043743133544922,-10.2855224609375,8.249695777893066,-2.621988534927368,-12.419814109802246,-8.197378158569336,6.83119010925293,-7.435653209686279,-4.154253005981445,-11.150524139404297,-0.318428635597229,7.609703540802002,-12.116509437561035,-3.872854709625244,-1.9946444034576416,-10.906233787536621,5.226194858551025,10.253007888793945,-10.357768058776855,-3.5288312435150146,-6.320870876312256,7.266443729400635,-8.802038192749023,-12.492997169494629,5.528436183929443,-15.940244674682617,-4.662301540374756,-5.567079067230225,-1.826926827430725,0.6048281788825989,17.207040786743164,3.3838067054748535,11.650227546691895,-13.219135284423828,7.72063684463501,6.419480323791504,-3.6721372604370117,-10.031169891357422,-1.9624968767166138,8.583392143249512,-10.907602310180664,-12.5488920211792,7.33922004699707,-1.9278393983840942,2.89925217628479,0.9400434494018555,6.719175338745117,12.943889617919922,-4.964399337768555,-14.92489242553711,-15.977149963378906,5.084557056427002,-3.5952179431915283,7.985024929046631,9.498162269592285,10.765228271484375,-3.190540075302124,-12.984463691711426,-17.714195251464844,8.121208190917969,17.556644439697266,-4.309432506561279,-11.335370063781738,-12.417642593383789,2.3011465072631836,1.8919774293899536,-12.22048568725586,8.236824035644531,-10.279304504394531,-0.83426433801651,-10.643732070922852,12.11767292022705,0.13158467411994934,8.59142017364502,7.603353977203369,-0.010029561817646027,-16.366050720214844,10.328011512756348,-13.611968040466309,-9.532525062561035,9.39412784576416,-0.19951143860816956,-6.519365310668945,-2.020054578781128,11.042783737182617,-10.595810890197754,1.785869836807251,5.9650678634643555,8.201576232910156,4.143496036529541,-4.118031024932861,-1.8601999282836914,1.0893423557281494,-3.645496129989624,-10.070451736450195,-17.440855026245117,7.613716125488281,5.035970211029053,1.1674658060073853,-8.370973587036133,-12.346691131591797,-8.34774112701416,8.948418617248535,-7.837681293487549,0.1521299183368683,-13.195801734924316,-10.871561050415039,6.519386291503906,-0.49402135610580444,-0.9856507778167725,0.46817123889923096,-1.6816331148147583,-4.307679176330566,-13.274885177612305,-0.6577324867248535,0.7720774412155151,1.4521244764328003,6.717564105987549,-1.2375857830047607,20.660619735717773,6.833111763000488,10.95732307434082,2.297224283218384,14.347397804260254,-3.339240550994873,-10.790302276611328,-4.472051620483398,-7.231581687927246,3.119877576828003,-0.7752203941345215,-9.095701217651367,-9.086577415466309,-1.7692701816558838,1.4867445230484009,-8.999896049499512,-9.568716049194336,-12.11490535736084,10.260369300842285,-11.09316349029541,-1.8642350435256958,1.4334787130355835,5.33123779296875,-17.545873641967773,-7.450043201446533,-12.586283683776855,-0.9634775519371033,-11.414877891540527,-1.9575570821762085,4.746326446533203,6.8753662109375,-4.397712707519531,-4.783632755279541,1.206667423248291,-9.584181785583496,-5.179305076599121,-13.244292259216309,5.227632522583008,3.30098032951355,-2.6939611434936523,-15.701089859008789,10.449358940124512,-8.064228057861328,7.1810102462768555,3.677762985229492,11.540718078613281,12.102115631103516,-1.7666367292404175,-0.85819411277771,9.276018142700195,-1.1831761598587036,10.049345016479492,15.638049125671387,7.029369354248047,-8.081615447998047,14.331869125366211,-3.5632269382476807,8.327704429626465,21.0721492767334,-9.750532150268555,-5.891950607299805,3.391552686691284,18.44248390197754,9.415215492248535,14.590312004089355,-9.74198055267334,5.42252779006958,5.444813251495361,-11.685079574584961,0.7277643084526062,3.3746471405029297,-18.183456420898438,-8.878360748291016,-13.276166915893555,5.923064231872559,-4.084136009216309,-8.711858749389648,14.322299003601074,-8.822918891906738,-14.726945877075195,9.84686279296875,-10.821782112121582,-8.709322929382324,1.4990726709365845,8.233972549438477,-12.285971641540527,-4.131407737731934,-12.439098358154297,-8.088674545288086,10.055459022521973,4.837530612945557,5.538322925567627,-10.005996704101562,-5.4088287353515625,4.790126800537109,-0.10537987947463989,-1.6097520589828491,0.7961787581443787,3.3915083408355713,16.881025314331055,15.442169189453125,5.07397985458374,14.210107803344727,2.766490936279297,-3.6407418251037598,0.18592065572738647,-2.807533025741577,-9.344489097595215,11.626952171325684,-9.113537788391113,5.84732723236084,-15.508794784545898,-13.660865783691406,6.73079252243042,0.9765228033065796,-8.935015678405762,-1.1549432277679443,-8.19160270690918,4.574268817901611,-2.500351905822754,0.5131925344467163,19.575790405273438,17.461816787719727,-7.578592300415039,7.936954021453857,-16.411514282226562,-6.310370922088623,-10.290238380432129,1.3020185232162476,7.384552955627441,-8.488412857055664,7.3579912185668945,-8.808661460876465,1.5492135286331177,-6.619184970855713,-3.038723945617676,16.53038215637207,-0.2821206748485565,15.313029289245605,-12.293627738952637,1.190826177597046,2.0349111557006836,-2.46284556388855,12.748425483703613,-7.658010005950928,-10.9992094039917,1.975558876991272,2.446577548980713,-5.436269760131836,-2.3150711059570312,-2.746171712875366,-4.4420485496521,0.2758263349533081,10.005776405334473,16.602516174316406,-3.20160174369812,-6.52394962310791,1.5052311420440674,19.799043655395508,2.2436883449554443,2.9756195545196533,0.9400683641433716,11.360466957092285,10.66965103149414,-4.143087863922119,-6.882802963256836,-1.0669199228286743,-7.6886067390441895,-12.479636192321777,-13.710390090942383,-19.523113250732422,11.002081871032715,-6.778468608856201,13.428863525390625,13.059545516967773,-13.087335586547852,-8.036703109741211,10.826315879821777,-8.405214309692383,1.1309889554977417,1.467514991760254,0.9628430008888245,8.51003360748291,-1.8617370128631592,-6.1517653465271,12.353864669799805,17.484909057617188,-8.867499351501465,-10.980664253234863,12.12923526763916,-4.476584434509277,4.573328018188477,0.859900176525116,-19.352394104003906,-1.2733105421066284,9.12202262878418,-3.3752691745758057,-3.5461442470550537,6.0880608558654785,2.099876642227173,-3.8377604484558105,-9.608373641967773,-6.03399133682251,-1.3175344467163086,-11.429839134216309,-4.832695007324219,7.814869403839111,10.620450019836426,-7.190154075622559,6.081377983093262,5.033671855926514,-10.658109664916992,-11.192636489868164,4.817821025848389,3.640077829360962,15.323716163635254,-1.7627592086791992,7.739267349243164,-5.463271141052246,11.631379127502441,7.724309921264648,-4.652083396911621,-4.033228397369385,3.3973870277404785,-13.40761947631836,8.030076026916504,-12.01246166229248,1.3226685523986816,-1.1409786939620972,-6.266210079193115,11.194792747497559,-12.552579879760742,-7.795241832733154,-13.267571449279785,4.334608554840088,7.42736291885376,-8.986185073852539,10.548266410827637,6.681342124938965,2.3222904205322266,2.5605673789978027,12.667174339294434,16.88343048095703,-5.846836090087891,-3.1363372802734375,11.644676208496094,10.859539985656738,-2.9113380908966064,1.9915634393692017,4.6085896492004395,-5.1989827156066895,-6.838915824890137,-3.230868101119995,12.225419998168945,9.481185913085938,15.043153762817383,12.539613723754883,6.620150089263916,7.836361408233643,-0.004654373042285442,8.0242338180542,-1.89786958694458,3.3996529579162598,-2.004051923751831,3.3199777603149414,5.776739597320557,1.8315868377685547,-4.747363567352295,-12.21353816986084,-9.493598937988281,-1.2567322254180908,-0.5517268776893616,-11.658398628234863,-12.490579605102539,13.374211311340332,8.648865699768066,10.148963928222656,-4.967041492462158,-16.423797607421875,-7.88961935043335,-13.774935722351074,-8.95709228515625,3.998929500579834,-14.035696029663086,3.928725242614746,-10.572281837463379,-7.96815824508667,3.4159932136535645,-11.522065162658691,2.851362466812134,4.789961814880371,14.246697425842285,3.170827865600586,-17.431034088134766,4.1705641746521,5.4962310791015625,20.984411239624023,-4.859316349029541,10.32997989654541,-0.10117296129465103,-16.567607879638672,-5.967722415924072,-11.540647506713867,6.484951972961426,-2.6465399265289307,2.583040237426758,-6.7846598625183105,5.506794452667236,-7.465813159942627,-14.263572692871094,3.719618082046509,-4.379197597503662,-13.468271255493164,21.080774307250977,10.299386024475098,17.719318389892578,12.133484840393066,-2.228816032409668,11.87411880493164,-3.9405677318573,-10.722125053405762,-0.2154524326324463,-4.472915172576904,4.7766523361206055,1.5086227655410767,0.17793364822864532,-15.471508979797363,-3.3061985969543457,-16.193944931030273,-13.850852966308594,9.24161148071289,2.5716161727905273,-13.431169509887695,9.443757057189941,-8.92803955078125,13.712779998779297,1.0289584398269653,2.7378695011138916,-5.293790817260742,-14.853547096252441,-8.116142272949219,8.131813049316406,-11.468545913696289,-3.8725953102111816,-12.208047866821289,0.8699697852134705,8.33307933807373,7.237452030181885,2.402834177017212,13.624098777770996,4.200074672698975,13.137686729431152,8.003545761108398,0.2954692542552948,-14.41437816619873,2.85899019241333,-8.007827758789062,-14.046634674072266,-8.554339408874512,-2.3997209072113037,-6.877352237701416,12.3497314453125,13.236523628234863,14.299178123474121,-16.495258331298828,-5.741972923278809,3.5412538051605225,7.32889986038208,-10.957677841186523,9.259407043457031,10.333590507507324,2.4731605052948,-6.278448104858398,4.432647705078125,6.043067932128906,7.532793998718262,4.368100166320801,1.2010735273361206,5.9783477783203125,-2.763340711593628,-12.623699188232422,13.048419952392578,-1.5439653396606445,-1.838281273841858,-8.001957893371582,-4.4874491691589355,-0.1746516078710556,14.605171203613281,-12.243400573730469,8.008641242980957,-0.7945928573608398,8.302590370178223,-5.106250762939453,8.695561408996582,-6.671749591827393,3.0901763439178467,-4.855698585510254,10.485796928405762,10.994041442871094,-11.495951652526855,-4.637092113494873,-4.750667095184326,-13.395666122436523,-11.339855194091797,12.270133018493652,-7.3880391120910645,-1.8880094289779663,-10.059807777404785,-9.070059776306152,-3.3897500038146973,-9.2907075881958,-13.413065910339355,-11.98807430267334,-9.812722206115723,9.108227729797363,-2.139885902404785,1.8871636390686035,-10.876538276672363,6.928868293762207,-9.724431991577148,12.62532901763916,-10.449149131774902,6.841742992401123,10.787225723266602,-3.2663259506225586,5.83092737197876,-14.9605073928833,-13.488068580627441,10.755199432373047,-10.238310813903809,5.378605842590332,12.248553276062012,2.6900153160095215,1.920647144317627,-2.7836225032806396,-1.5214163064956665,7.60468864440918,4.612980842590332,-0.7926658987998962,-15.637314796447754,-3.1367979049682617,0.507365882396698,-14.667470932006836,-3.5835325717926025,-9.021585464477539,10.593767166137695,16.49005889892578,-10.242341041564941,-5.303579807281494,14.019989967346191,-0.21253569424152374,-0.5736493468284607,7.69242525100708,7.749551773071289,8.160344123840332,6.111194133758545,-8.508110046386719,-10.713766098022461,-7.579140663146973,-12.232941627502441,-17.923025131225586,-0.5820468664169312,0.013232044875621796,1.2767480611801147,-5.649089813232422,16.276500701904297,7.096718788146973,13.764805793762207,-13.481966972351074,9.070075988769531,8.80443000793457,-10.164100646972656,0.9819443821907043,5.642895698547363,1.8867131471633911,-13.354212760925293,-11.130245208740234,-11.808934211730957,-0.09506721049547195,2.5063388347625732,-3.194972276687622,7.922696590423584,0.41286033391952515,6.293144702911377,-11.831135749816895,9.77405834197998,14.587791442871094,-15.0175142288208,7.988665580749512,-7.930859088897705,-2.172689914703369,1.967109203338623,13.136337280273438,10.3157958984375,12.375404357910156,-15.504353523254395,13.955053329467773,1.5339059829711914,-10.322758674621582,8.724054336547852,-7.408876419067383,0.00268837483599782,-6.863224506378174,6.009427070617676,5.0090484619140625,-2.626424551010132,0.600161075592041,12.602707862854004,1.1028395891189575,-12.80556869506836,-9.084212303161621,3.765583038330078,-10.79188346862793,-9.673788070678711,15.717936515808105,18.723350524902344,-4.249550819396973,3.5672051906585693,-12.524746894836426,11.994795799255371,2.9410688877105713,3.3749585151672363,-8.676466941833496,9.63845157623291,15.851508140563965,5.74398946762085,-9.747507095336914,9.451180458068848,13.554891586303711,-15.598769187927246,-7.268310070037842,-13.472471237182617,11.176384925842285,5.2134480476379395,-5.191812515258789,-9.807025909423828,14.67151927947998,-10.54090404510498,5.1757612228393555,8.615239143371582,10.604095458984375,-2.173506259918213,0.339855432510376,-12.176972389221191,-4.260461330413818,6.905301094055176,-2.5870566368103027,8.50119686126709,-2.014571189880371,-5.544921398162842,5.683343410491943,-16.177526473999023,2.3534183502197266,4.513399600982666,10.124299049377441,15.580780982971191,-1.33815336227417,8.900120735168457,-14.512950897216797,3.7334792613983154,-12.015607833862305,7.897109031677246,13.921869277954102,-17.730817794799805,1.8344807624816895,15.21440315246582,1.2143640518188477,3.23826265335083,-4.53321647644043,15.46875,-6.034829616546631],\"xaxis\":\"x\",\"y\":[-11.02035903930664,-3.570220470428467,-4.23867130279541,-5.529783725738525,-4.388795852661133,-9.562026023864746,10.165914535522461,4.982422351837158,-15.681254386901855,8.198824882507324,12.51717758178711,-10.332046508789062,9.578628540039062,5.348117351531982,8.072434425354004,-7.116571426391602,3.6311416625976562,-0.34822407364845276,7.685107231140137,0.7126803398132324,-4.804445266723633,3.2295684814453125,6.353413105010986,0.5387246012687683,-12.845254898071289,-12.821799278259277,-4.254804611206055,11.500099182128906,-1.8086267709732056,10.799708366394043,13.32486343383789,10.743170738220215,4.382235050201416,4.919189453125,7.047037124633789,-1.6853878498077393,0.5299081802368164,-5.174729347229004,2.1238770484924316,-14.242023468017578,2.109985113143921,-2.5202157497406006,-6.484967231750488,1.0925670862197876,6.054965019226074,-3.4989688396453857,-2.089852809906006,0.8923961520195007,-7.493144512176514,-0.12090183794498444,12.5365571975708,-8.033087730407715,-2.141312837600708,0.563984751701355,16.492528915405273,-2.2838478088378906,2.666363000869751,-5.685546875,-2.5471856594085693,2.4846394062042236,1.1659233570098877,13.391715049743652,-16.043807983398438,7.860174179077148,-0.5035577416419983,-4.0336408615112305,-16.11376190185547,-3.9650981426239014,3.270397901535034,-0.044712428003549576,11.453530311584473,-2.8679471015930176,-15.636975288391113,-10.37490463256836,9.17231273651123,-8.8964262008667,1.2926194667816162,-12.358993530273438,-4.183424949645996,2.7421576976776123,3.9803640842437744,3.4002063274383545,11.058676719665527,0.17114117741584778,-2.287382125854492,14.89962387084961,9.177576065063477,-2.7393877506256104,4.0564799308776855,11.548052787780762,2.828031301498413,1.7846332788467407,14.530613899230957,-5.268240928649902,11.322937965393066,-6.462159156799316,-0.9758285880088806,-9.37774658203125,14.356352806091309,-10.057159423828125,-4.495520114898682,12.87013053894043,-13.152817726135254,-2.964080572128296,0.23905301094055176,-0.053871069103479385,2.2542359828948975,-7.064578056335449,-8.839093208312988,8.206491470336914,-13.97988224029541,14.560519218444824,-6.602336406707764,-2.518460273742676,12.008590698242188,-10.461573600769043,-7.647753715515137,-6.260618686676025,-4.097089767456055,-8.77342414855957,11.719626426696777,-6.246216773986816,11.819097518920898,8.793014526367188,-13.847434043884277,-11.431864738464355,1.7072056531906128,-1.3853528499603271,-14.29426383972168,-6.204780101776123,16.177448272705078,5.078711032867432,-3.979787826538086,6.745396137237549,11.1424560546875,7.287290096282959,5.239202976226807,1.1027286052703857,-4.309793472290039,-18.252470016479492,-0.4130170941352844,-2.050328016281128,-11.244308471679688,1.4044311046600342,13.888148307800293,5.109272480010986,6.734500408172607,-7.5374650955200195,12.490886688232422,-17.534271240234375,2.6705408096313477,10.596251487731934,12.070340156555176,8.351309776306152,15.362128257751465,5.653640270233154,12.75477409362793,-13.943513870239258,-10.904556274414062,10.418595314025879,11.109519958496094,-9.158273696899414,3.9092764854431152,5.302491664886475,-5.220775604248047,-0.637221097946167,16.04540252685547,-1.3455686569213867,5.568970680236816,-5.24638032913208,1.4280812740325928,-4.910511493682861,-2.7336249351501465,-1.9539637565612793,-6.27871561050415,-1.3008462190628052,-9.409528732299805,-0.5187171101570129,-10.30854320526123,-2.3896186351776123,2.1386287212371826,3.9193601608276367,-3.3399598598480225,-2.7747161388397217,2.9126808643341064,-12.24712085723877,-6.028629779815674,-10.101035118103027,5.040497303009033,-6.471246242523193,5.319204330444336,6.568241596221924,2.768113851547241,-6.925149917602539,-8.719372749328613,1.1872018575668335,-11.687315940856934,10.518352508544922,-9.553718566894531,-7.756870269775391,-4.860725402832031,-0.37977084517478943,-2.4566190242767334,2.66145396232605,-5.867254257202148,-8.099225044250488,13.653477668762207,12.068178176879883,-2.1154375076293945,0.01595780998468399,13.397919654846191,-4.0751118659973145,-10.21684741973877,11.134785652160645,9.505955696105957,-13.850337028503418,4.670704364776611,-6.487002849578857,2.4291460514068604,5.094993591308594,-1.7526981830596924,-10.248284339904785,4.420202732086182,9.457534790039062,15.133905410766602,-9.537067413330078,-14.918914794921875,-4.879246711730957,10.422774314880371,0.7667353749275208,1.6318988800048828,3.4434895515441895,-7.176333427429199,9.658272743225098,5.550926208496094,-7.885011672973633,1.6306079626083374,-2.3830361366271973,13.481071472167969,-10.346941947937012,-13.353974342346191,11.908912658691406,-9.90054702758789,12.875173568725586,-3.1957931518554688,7.734644412994385,-8.686494827270508,-1.6555562019348145,-8.16435432434082,15.095002174377441,5.963890075683594,6.306948184967041,15.128166198730469,-0.16150318086147308,-4.024905681610107,-6.275195121765137,-11.46684455871582,9.879144668579102,-7.064557075500488,-11.623151779174805,10.311595916748047,4.1419291496276855,10.952614784240723,8.060434341430664,-10.696510314941406,-3.0234055519104004,-11.691502571105957,-0.6778262257575989,-3.536489725112915,9.03389835357666,-12.463723182678223,16.01436996459961,7.402580738067627,-6.474925994873047,0.6728971600532532,4.895460605621338,-3.7725167274475098,2.6607654094696045,-3.5336358547210693,5.285200595855713,0.4141862988471985,-2.0328001976013184,1.0883827209472656,5.111927032470703,3.8002402782440186,2.8754115104675293,2.5871527194976807,-1.1990171670913696,-1.7072755098342896,-6.166374206542969,-1.0132611989974976,2.745368242263794,-3.888158082962036,1.9046602249145508,-12.275903701782227,3.808612823486328,3.3560428619384766,1.3541408777236938,3.831026077270508,-3.6894376277923584,-9.73377799987793,-7.048917770385742,-4.093060493469238,8.106895446777344,-7.948659896850586,5.354849815368652,-4.768002033233643,9.213735580444336,1.354682445526123,-0.0665779635310173,0.5689911842346191,-1.379739761352539,-0.5858755707740784,15.683752059936523,-2.739659547805786,7.443151950836182,-3.5785958766937256,-14.748359680175781,-5.065918922424316,-8.321887969970703,8.947554588317871,12.606703758239746,-0.37221285700798035,-9.49177074432373,3.2728052139282227,-5.062783241271973,12.199572563171387,-2.8407459259033203,11.61247444152832,-2.5688068866729736,10.963445663452148,-2.7870397567749023,7.587198257446289,-3.3590786457061768,5.828646659851074,-4.140325546264648,-4.466206073760986,-2.900850534439087,4.513900279998779,-11.19784164428711,-9.367232322692871,7.400089263916016,-9.1847562789917,6.048553466796875,-4.189070224761963,-7.066228866577148,-2.1496214866638184,-0.9550591707229614,-0.6266406774520874,-4.537362575531006,3.1998167037963867,-16.308429718017578,5.047848224639893,-7.202085971832275,2.415639638900757,18.546537399291992,-3.4743502140045166,7.0164875984191895,-1.369201898574829,-2.278031349182129,6.148921489715576,0.7212489247322083,-8.191426277160645,3.173079252243042,0.6234439015388489,-0.9583147168159485,-5.186441421508789,-2.6527833938598633,-0.3375002145767212,-1.270889163017273,2.0298664569854736,-0.18381822109222412,-10.640800476074219,-15.454351425170898,-6.332431793212891,1.1514270305633545,-10.650203704833984,1.4893627166748047,-1.8853939771652222,-4.834832191467285,0.05735989660024643,-7.806098461151123,-1.249047875404358,-1.805286169052124,-7.817622661590576,-4.685023784637451,11.81208324432373,-13.796475410461426,1.4325460195541382,4.478031158447266,-7.268249988555908,7.105732440948486,1.623279333114624,-1.37131667137146,2.2674756050109863,-11.166963577270508,11.96018123626709,-0.2596355378627777,-3.6814281940460205,9.890030860900879,-0.04931655898690224,-5.8226494789123535,-10.529390335083008,5.289447784423828,11.7465238571167,5.27866792678833,10.020271301269531,-6.023193359375,-0.30241894721984863,2.0897672176361084,2.7535054683685303,-10.300045013427734,-11.484209060668945,-4.774579048156738,-5.4015936851501465,-1.360499620437622,13.059755325317383,9.267111778259277,-14.674495697021484,0.1614505499601364,-4.6811652183532715,-6.648482322692871,-5.954013824462891,-1.4735504388809204,-7.067901134490967,-1.0455206632614136,8.554242134094238,-15.581541061401367,-12.399003028869629,-5.1738433837890625,-12.369725227355957,-6.615555763244629,11.63129711151123,-0.06856665760278702,-6.873840808868408,-1.3143070936203003,12.99288272857666,3.570387601852417,-13.597949028015137,-8.917764663696289,-2.8062758445739746,16.722522735595703,7.3111252784729,5.542347431182861,0.6624642610549927,-2.7216978073120117,-2.9589786529541016,0.4591408967971802,13.616207122802734,1.0388360023498535,-1.1751446723937988,6.659153461456299,1.9989033937454224,-2.328059196472168,4.274997234344482,6.157597064971924,-3.3387248516082764,6.886353492736816,-4.225189208984375,7.039209365844727,1.781482219696045,7.834231853485107,-1.348000168800354,-0.6165586113929749,2.8447530269622803,-8.581555366516113,1.6870845556259155,10.217059135437012,6.219358921051025,-1.0882904529571533,11.532336235046387,1.8948473930358887,-3.5614500045776367,16.630857467651367,-8.535416603088379,-6.451202392578125,11.129362106323242,-2.713695526123047,5.2422356605529785,-14.544055938720703,-8.007519721984863,-7.424652099609375,10.123528480529785,13.304372787475586,-2.5516300201416016,-7.005676746368408,-3.1452980041503906,6.146093368530273,0.47993913292884827,2.1594367027282715,2.356525421142578,-0.8542699813842773,-13.737693786621094,-11.413053512573242,11.404521942138672,5.410499572753906,9.651206016540527,2.6739463806152344,1.555078387260437,3.9664249420166016,-4.891727924346924,-6.330902576446533,8.151712417602539,-12.43626594543457,-17.653728485107422,-2.480072259902954,-1.3069779872894287,-11.241145133972168,1.8806567192077637,1.8942784070968628,16.141759872436523,9.382497787475586,-1.276267647743225,-5.013945579528809,7.077773571014404,6.0909857749938965,12.946368217468262,-14.081053733825684,-0.9311131834983826,-10.879557609558105,-6.099950790405273,5.293498516082764,-3.2261996269226074,5.32505464553833,10.945486068725586,-6.6596903800964355,-1.2570888996124268,11.238229751586914,0.14367766678333282,5.531403541564941,-9.290258407592773,4.357737064361572,-14.732332229614258,-12.27316951751709,2.241194725036621,-7.009963512420654,-12.816313743591309,-2.377840280532837,3.973100423812866,-7.614363670349121,3.0658118724823,7.972203731536865,-11.527673721313477,9.430331230163574,4.782253265380859,8.972627639770508,5.958215236663818,11.942060470581055,-1.2590954303741455,5.448572158813477,-6.088799953460693,2.689706563949585,-1.7452301979064941,-4.418556213378906,0.9509637951850891,15.244441032409668,7.5032525062561035,-4.74220609664917,5.988043785095215,1.2779603004455566,-0.5381154417991638,-8.830763816833496,10.364535331726074,6.927776336669922,10.586640357971191,-7.055058479309082,-11.00196647644043,-7.826180458068848,-5.160743713378906,2.42590069770813,-12.04721736907959,-2.2839677333831787,-0.5233690142631531,-3.913498640060425,-1.9404345750808716,-1.0989971160888672,-6.111001968383789,5.164261341094971,-13.735081672668457,9.284652709960938,1.6032886505126953,-1.8778257369995117,-1.3401603698730469,-10.939136505126953,-8.568686485290527,2.2275233268737793,4.891808986663818,-7.455282688140869,-6.726501941680908,8.595888137817383,-8.299389839172363,-11.647624969482422,-0.3959203362464905,-0.1831149458885193,-2.6336233615875244,4.48353385925293,-3.188845157623291,-14.128945350646973,6.95470666885376,14.226951599121094,2.1907413005828857,-4.498091220855713,6.91727876663208,11.744608879089355,15.275559425354004,-0.21083861589431763,0.195195272564888,-12.293044090270996,-15.879981994628906,6.728692054748535,0.08527585864067078,11.215909004211426,-4.775511264801025,-9.247840881347656,-1.915711522102356,-3.878291130065918,-9.87793254852295,-1.6656227111816406,10.43935489654541,-14.059942245483398,16.77035903930664,0.7086832523345947,-2.912364959716797,0.20490102469921112,10.026777267456055,-2.333873987197876,3.6226441860198975,10.64478588104248,14.747650146484375,1.9320942163467407,4.536917209625244,-13.038991928100586,-13.69601058959961,-0.3014563024044037,-0.39562180638313293,-11.677315711975098,-2.3783679008483887,-0.2812923491001129,-12.55079460144043,1.273780107498169,9.918370246887207,16.718229293823242,-5.172181606292725,7.598686218261719,7.9697957038879395,-1.4580403566360474,-7.019822597503662,-1.3930842876434326,-13.30094051361084,10.487801551818848,-9.64757251739502,-1.170720100402832,-4.626314640045166,4.699245929718018,-6.348268032073975,-16.020519256591797,1.4759407043457031,7.681046962738037,-3.565431833267212,10.861467361450195,-5.422553539276123,-0.8611381649971008,8.265204429626465,7.721897125244141,-6.38360071182251,3.731842279434204,-0.08192519843578339,6.345932483673096,-1.329506516456604,16.668987274169922,14.731578826904297,-6.561826705932617,-4.675238132476807,14.260194778442383,-0.7692515850067139,-6.410901069641113,-3.58795166015625,12.922691345214844,-10.291019439697266,0.24036693572998047,0.36047273874282837,5.664605617523193,-0.731904923915863,-8.653392791748047,-4.438558578491211,3.302797317504883,-16.1297664642334,-9.34753704071045,8.966313362121582,9.454285621643066,6.251774311065674,3.49180269241333,1.2974320650100708,-4.0599589347839355,8.894983291625977,-0.1944560408592224,0.33401674032211304,-8.1942720413208,-0.6901553273200989,2.0127460956573486,-6.406856060028076,1.2822225093841553,7.529717922210693,0.9531059265136719,5.443606853485107,-10.66244888305664,-15.294760704040527,-9.227712631225586,1.0966097116470337,-1.6689624786376953,-11.027180671691895,-6.127511978149414,-0.6230170130729675,-5.855683326721191,-6.558865070343018,14.705390930175781,-1.830496072769165,-2.1225717067718506,17.240886688232422,-4.841282844543457,-0.937831461429596,-7.4741692543029785,-1.0016366243362427,6.661728382110596,-4.570478916168213,2.103297710418701,-7.936062335968018,1.3542332649230957,-1.275791049003601,-3.1789841651916504,4.364686489105225,-12.744937896728516,-0.7650761008262634,-0.09700291603803635,-7.994866371154785,11.07906723022461,-2.3716561794281006,8.915878295898438,-12.230520248413086,-10.339325904846191,11.08938217163086,-10.914220809936523,15.665099143981934,7.9738030433654785,-12.445852279663086,18.25972557067871,-0.46689099073410034,-2.1688177585601807,0.6970555186271667,-5.893110275268555,-13.483489990234375,9.297144889831543,-17.41741371154785,2.4752724170684814,-4.639543056488037,9.791723251342773,-3.1866343021392822,4.575129985809326,-8.290468215942383,5.397232532501221,-16.12389373779297,3.371877431869507,5.970849990844727,-13.095381736755371,4.725354194641113,-1.6708214282989502,-0.0517096109688282,0.7734972834587097,16.51673698425293,0.34599435329437256,-4.651991367340088,-2.924354076385498,1.0108253955841064,-12.66551685333252,12.115595817565918,-6.755950450897217,0.8214089274406433,-10.626142501831055,5.925346374511719,9.42091178894043,3.381355047225952,-0.3328010141849518,-1.1273807287216187,-13.116796493530273,-12.224421501159668,-13.49503231048584,11.575042724609375,-14.760385513305664,-3.003434896469116,-9.223099708557129,-6.063037395477295,-0.5819416642189026,1.9685695171356201,-5.884022235870361,-11.263213157653809,2.86312198638916,-8.335801124572754,-1.0498335361480713,8.625393867492676,7.658060550689697,-3.2918777465820312,15.88420581817627,-10.382638931274414,6.451611042022705,-9.299539566040039,-4.931319236755371,-10.652979850769043,1.1938443183898926,8.323712348937988,15.292351722717285,5.140785217285156,-15.276103019714355,8.630367279052734,-14.8564453125,-7.983652591705322,-3.7083733081817627,3.913649797439575,-5.804296016693115,9.021151542663574,12.579708099365234,-12.562999725341797,-0.0065315961837768555,2.913706064224243,-11.541495323181152,8.184063911437988,-6.98949670791626,3.8098723888397217,12.982882499694824,7.47938871383667,-6.4156012535095215,-4.65092658996582,-6.395208835601807,6.341960430145264,1.21311616897583,-3.096191883087158,-8.135533332824707,-8.566492080688477,-0.6700299978256226,12.821995735168457,-3.7139081954956055,-12.498678207397461,3.717365026473999,-11.405243873596191,12.96154499053955,2.159572124481201,-9.835911750793457,9.294713020324707,4.109996795654297,5.780843257904053,6.606759071350098,2.7179925441741943,-11.12874698638916,13.286955833435059,4.818873882293701,-12.428919792175293,9.215266227722168,0.3957124352455139,-18.211111068725586,6.602569580078125,-0.8499401807785034,-5.156968116760254,9.55235481262207,-13.457159996032715,10.50401782989502,-2.31076717376709,-7.841971397399902,12.971688270568848,-2.384481430053711,5.314681053161621,-10.621192932128906,6.535323143005371,9.614217758178711,12.171895980834961,9.188961029052734,-2.4072506427764893,-6.609447002410889,8.256073951721191,-5.580844879150391,-10.341606140136719,10.169769287109375,0.9900289177894592,4.426385879516602,-11.622748374938965,1.103806972503662,3.6238973140716553,3.1953046321868896,14.304986000061035,1.697763204574585,16.242891311645508,-4.814932823181152,1.54495108127594,-4.436877250671387,10.940604209899902,-5.243451118469238,3.282301187515259,-0.017427675426006317,4.037740707397461,5.118533134460449,-4.641664505004883,-7.808865070343018,-0.4980965554714203,-2.67319655418396,-10.31658935546875,9.725076675415039,-5.1014533042907715,6.011735439300537,-10.502668380737305,-2.8034651279449463,-7.855693340301514,-13.583094596862793,7.536793231964111,-4.363687038421631,-0.8673575520515442,6.150505065917969,9.446842193603516,-17.685157775878906,6.731172561645508,-7.950343608856201,-5.132531642913818,0.9203833937644958,-4.6222028732299805,11.419051170349121,1.352705955505371,8.705540657043457,14.185300827026367,4.718235969543457,8.012475967407227,4.363790035247803,9.117767333984375,12.529752731323242,-4.869452476501465,-6.677565574645996,-8.361282348632812,0.5937081575393677,2.438544273376465,-2.01412296295166,-16.278257369995117,7.37322998046875,-0.35116252303123474,-11.629541397094727,5.131083011627197,1.7208870649337769,-9.575128555297852,-14.650060653686523,-10.017746925354004,7.416606426239014,-4.1748456954956055,-1.1178700923919678,-1.1922272443771362,-6.618179798126221,-5.312363147735596,17.619857788085938,4.835071563720703,3.0060408115386963,13.437803268432617,-4.924648761749268,12.987386703491211,13.3762845993042,-12.21434497833252,-8.059013366699219,2.3705358505249023,-0.4843590557575226,8.50173568725586,-6.267776012420654,2.597618818283081,-1.6279854774475098,17.627567291259766,16.6951961517334,0.8345521688461304,10.540847778320312,2.5921003818511963,0.683519184589386,-7.104613780975342,8.061010360717773,17.090896606445312,-2.764516830444336,5.035726070404053,-6.972989559173584,-5.533032417297363,3.9413671493530273,-8.258434295654297,-1.5623154640197754,5.478603363037109,-5.818820476531982,-6.770848274230957,2.3924825191497803,9.52365493774414,3.840179443359375,2.1921017169952393,-16.24585723876953,3.4301605224609375,-7.7680511474609375,-6.289933204650879,4.152550220489502,-2.6991398334503174,12.7216796875,7.355330944061279,-3.9179959297180176,8.921979904174805,-4.099534511566162,2.0413219928741455,-8.709830284118652,-9.303329467773438,-3.3246798515319824,-11.819519996643066,8.542989730834961,1.6931443214416504,4.166020393371582,7.197512149810791,13.609627723693848,-6.434506893157959,-4.387387752532959,0.42087608575820923,2.6382687091827393,5.901909351348877,1.3412117958068848,-10.9093656539917,-7.832156658172607,-9.733187675476074,-6.730119228363037,1.7470911741256714,3.9510626792907715,-10.23381233215332,0.8538527488708496,-15.058544158935547,-7.782211780548096,-0.6070476770401001,-10.891664505004883,11.850744247436523,-4.016069412231445,10.10635757446289,0.49905043840408325,-3.315248727798462,-3.6716463565826416,-12.012611389160156,10.036178588867188,1.052588701248169,1.2220431566238403,-9.322504043579102,-14.73813533782959,-18.58025360107422,9.416360855102539,-3.2411723136901855,7.312129497528076,1.1145166158676147,-7.621626853942871,-9.564764022827148,-10.361130714416504,13.07104778289795,-2.7985339164733887,-5.7578125,10.135736465454102,-7.983607292175293,-13.795771598815918,-9.737521171569824,14.059462547302246,3.304175615310669,-11.920331001281738,-12.173622131347656,-8.844314575195312,13.729279518127441,-6.400192737579346,2.0465238094329834,4.154921054840088,2.1302428245544434,-3.704577684402466,-4.078433513641357,0.04268127679824829,-14.595629692077637,14.1405029296875,-5.14586877822876,8.440471649169922,12.382689476013184,5.813180446624756,-2.3135757446289062,-16.554609298706055,-0.4710754454135895,5.8915839195251465,14.032198905944824,7.99880838394165,5.015106678009033,6.421757698059082,-8.642838478088379,-15.348612785339355,5.280937194824219,4.136596202850342,3.1387741565704346,-4.496938705444336,-9.627422332763672,-12.962017059326172,2.2381370067596436,13.668048858642578,14.874106407165527,-10.06590747833252,-0.011038805358111858,-2.1854324340820312,-2.2851619720458984,-0.7297094464302063,0.8426692485809326,7.86529541015625,-17.27501106262207,7.916488170623779,-13.270414352416992,11.90153980255127,8.759995460510254,6.5599684715271,6.111149787902832,-3.3254804611206055,14.551159858703613,-4.874663352966309,-13.64797592163086,-11.528480529785156,2.530740976333618,-0.09005045145750046,-6.760666847229004,-0.7685370445251465,-2.7646000385284424,8.396621704101562,-1.8849104642868042,-1.1018178462982178,13.518123626708984,-6.238718032836914,-4.849334239959717,13.582342147827148,-0.6359413862228394,-7.455281734466553,-7.616057872772217,2.2822344303131104,-3.1383981704711914,0.8933642506599426,4.692731857299805,1.7359477281570435,0.21670237183570862,2.154984474182129,-13.419459342956543,7.817615509033203,8.712770462036133,7.805840015411377,-1.673301339149475,2.3031747341156006,-0.30732396245002747,4.221884250640869,13.661240577697754,-5.412520885467529,0.17148707807064056,-4.086709499359131,0.7483587861061096,-1.933837652206421,-8.628729820251465,13.641621589660645,1.063252329826355,10.376592636108398,0.22922752797603607,8.358983039855957,-14.067301750183105,-11.60028076171875,-2.457400321960449,-13.173449516296387,-2.906646251678467,1.2007888555526733,10.504192352294922,-4.522377967834473,16.05124855041504,-1.590986967086792,6.781783580780029,9.562531471252441,-1.405297875404358,1.7027939558029175,13.199299812316895,-5.4371418952941895,-4.201391220092773,-18.232624053955078,1.4723970890045166,8.615939140319824,5.688012599945068,-1.095551609992981,3.19854474067688,6.570248603820801,14.44536018371582,-6.426464557647705,-1.6861236095428467,-4.819432258605957,-3.4566922187805176,3.027418851852417,-5.898793697357178,5.41611909866333,-2.5722594261169434,-11.06324577331543,-8.812540054321289,-2.468071699142456,1.0433361530303955,-13.83920669555664,7.287383079528809,9.773316383361816,12.914411544799805,1.8071212768554688,-5.460902214050293,-16.690563201904297,-8.979914665222168,5.403668403625488,7.693637371063232,-1.3183752298355103,6.579468250274658,7.381466388702393,16.789993286132812,1.2710537910461426,-14.544866561889648,-3.729492425918579,0.3746991753578186,-3.74898624420166,12.408135414123535,-2.326505661010742,14.111599922180176,6.400123596191406,-1.7460685968399048,3.1746344566345215,-0.755803644657135,5.328159332275391,6.854150772094727,-10.121407508850098,-2.5041723251342773,-7.691209316253662,8.342994689941406,-9.944185256958008,-0.9317939281463623,-10.026578903198242,13.51602554321289,14.261618614196777,-3.762002468109131,13.735754013061523,-2.61059308052063,8.777837753295898,12.93967342376709,-8.362442970275879,-5.355340957641602,1.4855800867080688,15.839337348937988,-11.192962646484375,-14.04542064666748,12.045403480529785,-1.9520810842514038,16.72200584411621,-7.696794509887695,15.616841316223145,-1.4235913753509521,-2.2425551414489746,-6.129096031188965,4.374754428863525,15.273414611816406,16.755939483642578,2.490638494491577,-9.014130592346191,16.01543617248535,-8.081827163696289,4.761684894561768,-6.89846658706665,-1.082024097442627,-5.316859245300293,5.363804817199707,8.739766120910645,-4.637753009796143,-5.712303638458252,-5.912070274353027,4.138092517852783,15.109150886535645,-18.386751174926758,-12.705083847045898,7.5452704429626465,-5.360573768615723,-3.3261499404907227,8.497386932373047,0.0014768007677048445,-11.64675235748291,-13.071113586425781,14.370436668395996,10.481643676757812,-6.961634635925293,-9.387187957763672,9.992713928222656,-8.162508964538574,1.5090056657791138,-5.00818395614624,0.6217556595802307,-5.6121931076049805,-7.534392356872559,-10.575638771057129,5.610886573791504,7.5146708488464355,-12.247431755065918,0.5298304557800293,-3.3486459255218506,-7.515900611877441,13.48405647277832,1.534642219543457,-0.4755449593067169,-7.705603122711182,3.313345432281494,-15.881832122802734,2.778062582015991,2.9827005863189697,0.4487272799015045,3.202192783355713,14.435354232788086,-1.3344981670379639,-13.474658012390137,-1.6011240482330322,1.966738224029541,2.1533396244049072,-4.5383100509643555,-12.497188568115234,-6.021035194396973,-16.226030349731445,2.483421564102173,13.437068939208984,-1.3995662927627563,-5.322608947753906,7.207787990570068,0.026502294465899467,-3.8558475971221924,-2.686739683151245,16.408214569091797,-1.4694805145263672,-4.483965873718262,8.171499252319336,-0.10850498825311661,5.465794563293457,4.068498611450195,-3.647765874862671,14.890183448791504,-12.056995391845703,5.261901378631592,-0.39409926533699036,-5.825706958770752,6.644599437713623,3.762317419052124,-1.1937310695648193,-9.931548118591309,8.20758056640625,4.606906890869141,-2.5119779109954834,-2.2350196838378906,-2.5322718620300293,7.230285167694092,-2.411313533782959,-14.241109848022461,12.696619987487793,-4.563490390777588,-5.123333930969238,7.843851089477539,5.266750812530518,-13.964134216308594,4.158712863922119,1.2149031162261963,-5.29960298538208,-2.191974401473999,4.63046407699585,-5.279276371002197,4.248836517333984,8.105334281921387,3.294266700744629,-6.729477405548096,16.81157875061035,-4.415571689605713,3.8354268074035645,-5.484750270843506,0.41913846135139465,-5.5224409103393555,7.362762928009033,7.386197566986084,0.577752411365509,-7.67931604385376,-3.315148115158081,-7.926022529602051,8.39728832244873,6.450439453125,1.677718162536621,4.868642330169678,-0.26955506205558777,-10.799178123474121,-4.311375617980957,-1.7824045419692993,-2.320164442062378,-2.0480940341949463,-5.344025135040283,4.629594802856445,-5.634108066558838,16.5615234375,-2.9118611812591553,-7.97043514251709,5.160173416137695,-12.496820449829102,2.760416269302368,6.104804992675781,-8.351810455322266,0.732266902923584,-4.549488544464111,14.499128341674805,0.4939763844013214,0.5616185665130615,-0.7908567786216736,2.784421682357788,14.06849479675293,-5.81099796295166,6.338683128356934,-3.0966784954071045,5.98628044128418,-1.025321125984192,-7.868304252624512,6.652268886566162,-13.278884887695312,10.314353942871094,-0.3004603087902069,-4.043112754821777,3.6289656162261963,-10.275752067565918,11.609435081481934,0.8522993326187134,11.81308364868164,-3.108741044998169,14.215506553649902,2.365516185760498,-5.734122276306152,-7.770603656768799,-0.7049009799957275,4.896369457244873,-5.531564235687256,-16.98250389099121,16.776212692260742,-9.280902862548828,-3.9973225593566895,-0.7868746519088745,1.2891926765441895,2.8927223682403564,-7.3285627365112305,7.079385757446289,5.497302532196045,4.556859016418457,13.730856895446777,-7.353737831115723,-8.635612487792969,-5.634627342224121,1.203626036643982,0.2558760941028595,-7.219507694244385,5.124446868896484,6.360407829284668,-5.53170108795166,8.843186378479004,13.452630043029785,3.6936371326446533,14.832002639770508,11.94625473022461,-4.265899658203125,-6.446628570556641,-14.118762969970703,-5.00163459777832,11.821073532104492,2.313066005706787,7.549582481384277,-4.348865985870361,-15.999540328979492,-2.6055073738098145,-4.691778659820557,18.22538185119629,-6.599738121032715,4.239657402038574,-9.020650863647461,0.06428110599517822,7.86801815032959,3.613687753677368,3.0079824924468994,5.2368927001953125,-8.697516441345215,-6.483712196350098,-9.349594116210938,-6.755723476409912,-14.194366455078125,-2.688871145248413,2.6465048789978027,-7.82542610168457,-3.50858473777771,9.43676471710205,-0.9958916306495667,-1.562604546546936,-0.6959084272384644,2.2432639598846436,-2.436323404312134,9.188708305358887,15.824125289916992,-9.16448974609375,-9.736136436462402,-1.0067579746246338,-3.1416332721710205,-3.4994449615478516,2.852973222732544,-0.3313974142074585,-8.803126335144043,3.06272292137146,7.298604488372803,-0.6877128481864929,-9.664759635925293,2.1898033618927,-5.013967037200928,-5.758260250091553,16.284393310546875,4.980066299438477,-6.603963851928711,2.9309139251708984,-12.385315895080566,-1.2367310523986816,-4.3954548835754395,-4.710608959197998,-3.8874006271362305,1.4921340942382812,-5.188153266906738,-10.504733085632324,-7.7930803298950195,11.617987632751465,-4.968724727630615,15.518399238586426,-4.367583751678467,3.8100438117980957,-2.6290061473846436,-6.1305646896362305,5.999003887176514,-7.254307270050049,7.385534763336182,0.685251772403717,-11.154413223266602,7.457563877105713,-8.436637878417969,0.4638395607471466,4.882019996643066,3.5829079151153564,-1.6565366983413696,14.910874366760254,-5.7030720710754395,1.83866548538208,-1.972869634628296,2.307708263397217,-16.81220245361328,3.3964130878448486,-6.125739574432373,11.132173538208008,-8.982308387756348,-4.224964141845703,-0.47327059507369995,-0.035570841282606125,9.018538475036621,-6.195022106170654,-14.658902168273926,9.570287704467773,8.097297668457031,6.386696815490723,-1.6924458742141724,14.47055721282959,0.40163859724998474,8.857622146606445,-5.874584197998047,5.469498634338379,6.997397422790527,-1.5679905414581299,0.35039961338043213,5.770669937133789,-4.619154930114746,15.484524726867676,-7.584781169891357,13.881080627441406,6.790022373199463,6.602421760559082,12.6962251663208,-7.449629783630371,16.257673263549805,2.2401301860809326,-9.394466400146484,-5.875934600830078,-2.723646879196167,-9.619537353515625,7.909546375274658,3.3681886196136475,4.164635181427002,8.068445205688477,14.425517082214355,11.666433334350586,-3.7724294662475586,11.169637680053711,-1.7018752098083496,6.611677646636963,9.371125221252441,-2.3222157955169678,4.7630743980407715,6.264317512512207,-1.8825531005859375,16.772886276245117,-14.362566947937012,-0.11517970263957977,4.00456428527832,17.69162368774414,9.210485458374023,-7.583562850952148,7.685459613800049,11.350665092468262,-2.414865493774414,0.4580988883972168,-5.364925861358643,-7.3893232345581055,-9.256133079528809,-1.7556723356246948,11.809100151062012,10.363899230957031,-1.938217282295227,-9.684962272644043,-16.776058197021484,-9.62060546875,-5.3167643547058105,-7.3227105140686035,-14.258371353149414,11.904915809631348,11.44965648651123,8.673327445983887,4.759645462036133,-9.226518630981445,14.702428817749023,15.529949188232422,-6.963376522064209,0.7764788269996643,16.05691909790039,-13.90640640258789,3.9619524478912354,3.429171323776245,14.469011306762695,-2.7342660427093506,2.026470184326172,-1.6230980157852173,-3.279275894165039,-6.709595203399658,14.44435977935791,-6.431005954742432,14.64337158203125,2.4342498779296875,-2.758371591567993,1.7930337190628052,10.347516059875488,0.36330410838127136,-7.177610397338867,9.793580055236816,0.5484789609909058,1.8525903224945068,-17.82120132446289,-6.495912551879883,-7.503597736358643,2.725921154022217,7.054920196533203,-1.589569330215454,11.30082893371582,-4.977116584777832,0.14215365052223206,-10.868097305297852,-3.675739049911499,-10.398103713989258,7.638997554779053,9.28492259979248,-3.1985442638397217,16.627717971801758,-1.539678692817688,15.039960861206055,12.219809532165527,6.085298538208008,-2.411681652069092,-6.060028076171875,7.7989182472229,5.926048278808594,1.2711857557296753,-0.19069518148899078,-7.641584873199463,3.606288433074951,-10.527101516723633,1.6033474206924438,0.3914501667022705,-6.125715255737305,-2.6818063259124756,-9.887415885925293,-10.954263687133789,1.1419992446899414,2.9191129207611084,5.866138935089111,8.661590576171875,2.540605068206787,-1.173081874847412,-3.355874538421631,14.540767669677734,13.675461769104004,-5.907148838043213,6.865042209625244,6.587888717651367,15.573946952819824,3.127216100692749,-8.989862442016602,-8.135603904724121,4.766892433166504,-6.7753376960754395,5.367452621459961,-2.5507946014404297,14.882757186889648,-4.406345844268799,-2.0191686153411865,6.1327972412109375,-9.152944564819336,-8.69692611694336,-15.7734375,-9.530131340026855,10.20233154296875,2.447571277618408,-5.915596008300781,10.389208793640137,-2.8913209438323975,-4.466460704803467,-1.7377197742462158,-10.79238224029541,11.543959617614746,4.949956893920898,4.898674964904785,3.9920358657836914,9.150723457336426,-4.909337043762207,-0.5059247016906738,-13.54116153717041,-7.5974578857421875,-0.3743598163127899,-4.575344562530518,-8.888814926147461,-9.8580322265625,9.752801895141602,18.52907371520996,-5.80026388168335,3.425891160964966,9.657380104064941,-4.3011250495910645,-15.42361068725586,-4.418501377105713,-4.759267807006836,-5.268374919891357,-0.7950273752212524,-5.429073333740234,5.1693525314331055,12.398776054382324,-5.9423041343688965,15.513227462768555,3.8915517330169678,-14.668295860290527,7.363078594207764,1.8228930234909058,9.49298095703125,-9.829206466674805,7.529144763946533,-12.611807823181152,-1.871659755706787,14.23648452758789,10.377269744873047,0.12573224306106567,-11.169474601745605,1.7448261976242065,2.0136168003082275,-4.988345146179199,6.594720363616943,2.5522000789642334,3.952913284301758,9.843328475952148,2.70708966255188,-7.083062648773193,9.009405136108398,0.20130093395709991,-3.6671266555786133,-6.7944416999816895,15.20124340057373,-2.9495017528533936,5.467381000518799,8.607433319091797,-6.284988880157471,-6.979753494262695,-4.628975868225098,3.368351936340332,-12.865222930908203,10.336894989013672,4.681288242340088,-8.807849884033203,14.62302017211914,-5.581594944000244,-1.1493463516235352,3.7842960357666016,2.7345168590545654,-8.633474349975586,12.233040809631348,-3.1185450553894043,5.204948902130127,16.763107299804688,-8.734580039978027,-8.67914867401123,10.216253280639648,-12.084861755371094,-0.7013669013977051,3.1493470668792725,6.333832740783691,10.931981086730957,8.049921989440918,8.37454891204834,7.811102867126465,-7.323640823364258,0.28881990909576416,0.49978840351104736,-8.641371726989746,6.369547367095947,-7.638653755187988,-13.281587600708008,-0.4080294668674469,-4.958872318267822,1.1482175588607788,3.4032087326049805,2.983158588409424,6.2181549072265625,7.59675931930542,3.4113399982452393,11.934500694274902,-10.53162956237793,-4.377602577209473,11.784334182739258,-12.752191543579102,-3.6156210899353027,4.138271331787109,1.4981732368469238,10.333678245544434,-8.393218040466309,3.565244674682617,-3.3157083988189697,-14.152036666870117,11.69908332824707,-17.122133255004883,-9.41437816619873,-9.495709419250488,-14.891763687133789,-9.84782600402832,3.5665628910064697,-3.6592142581939697,8.263931274414062,11.516690254211426,-5.851456165313721,3.4318854808807373,3.897650957107544,3.6778650283813477,5.005488872528076,9.130973815917969,8.154410362243652,4.881825923919678,-13.312417030334473,14.085648536682129,9.545762062072754,-7.0238871574401855,7.983638763427734,0.16503264009952545,-9.520453453063965,5.734902858734131,-4.529142379760742,8.229740142822266,8.296189308166504,0.566558301448822,4.7469048500061035,7.752188682556152,3.812281370162964,-3.2980716228485107,-2.9470608234405518,-8.467962265014648,9.337759971618652,1.6675829887390137,-9.293986320495605,-11.976120948791504,-12.202280044555664,11.855955123901367,-0.20452982187271118,-19.159143447875977,4.390257835388184,10.382521629333496,4.398763656616211,8.444873809814453,9.846336364746094,-14.224595069885254,-7.7357659339904785,11.955087661743164,7.348209857940674,7.426969528198242,6.5571608543396,10.883123397827148,8.872257232666016,-6.833368301391602,-17.48684310913086,-8.039533615112305,6.500929832458496,-4.094756603240967,5.952948093414307,-3.543811321258545,-8.719677925109863,3.3430697917938232,0.5036837458610535,-14.470415115356445,13.846648216247559,-11.473772048950195,14.720151901245117,-1.5031025409698486,7.401561260223389,-8.473254203796387,-4.388686180114746,15.519791603088379,10.84286880493164,5.243442535400391,-3.5013694763183594,-11.394588470458984,-12.274670600891113,-2.9698894023895264,-3.6040871143341064,14.706435203552246,13.275737762451172,-10.435006141662598,4.714969635009766,3.97989559173584,0.24675975739955902,-18.11142921447754,-13.426641464233398,-8.600193977355957,-6.702261447906494,-3.16878604888916,1.2447144985198975,3.905371904373169,3.368428945541382,-0.16032111644744873,-3.175771713256836,-11.769420623779297,-11.990796089172363,5.681560516357422,-6.1308794021606445,-8.722247123718262,0.8378010392189026,6.06002950668335,-5.541037559509277,-9.010919570922852,-4.291337490081787,1.8443187475204468,11.536934852600098,12.600205421447754,16.08303451538086,16.637693405151367,4.7009406089782715,8.808911323547363,8.141169548034668,15.192891120910645,-4.382801532745361,-1.7524539232254028,-1.284226417541504,-12.303543090820312,12.734622955322266,14.93505573272705,3.505601167678833,9.36922550201416,7.1202778816223145,14.531899452209473,-3.4241087436676025,12.554519653320312,-3.444287061691284,-9.596348762512207,-3.2890944480895996,-5.930391788482666,0.6740341186523438,-6.988776683807373,-5.516717910766602,4.016146659851074,-0.5250461101531982,3.9552106857299805,-7.9225969314575195,10.153984069824219,2.6634647846221924,6.2821245193481445,5.2423176765441895,7.433119297027588,-9.895892143249512,-1.1088056564331055,1.5447783470153809,-6.974773406982422,-13.226993560791016,-4.884806156158447,-14.820112228393555,13.00059700012207,7.363622188568115,-3.022784948348999,14.460014343261719,-4.298862457275391,-7.966447830200195,-1.548487663269043,2.824148654937744,-1.1442826986312866,-7.542255878448486,2.1718249320983887,11.839934349060059,-6.815548419952393,-0.2824976146221161,-8.752575874328613,-10.538325309753418,8.633343696594238,12.412257194519043,5.92855167388916,-7.171889305114746,14.943206787109375,6.73580265045166,-2.5772902965545654,7.505896091461182,2.4703750610351562,7.0370097160339355,2.5165438652038574,1.100021481513977,-3.6612887382507324,9.267288208007812,1.5143548250198364,5.04237699508667,-14.024523735046387,13.472330093383789,8.336285591125488,-6.335840702056885,-8.818001747131348,-14.717849731445312,-0.6426443457603455,1.6470978260040283,-8.577852249145508,12.028635025024414,-1.9146692752838135,5.269434452056885,-11.886059761047363,-0.12432228773832321,-15.071163177490234,-10.331053733825684,16.726276397705078,-5.450030326843262,5.161815643310547,5.193662643432617,-8.921088218688965,-10.25907039642334,-8.949529647827148,8.838032722473145,7.4316487312316895,-8.379098892211914,-3.1430864334106445,14.870172500610352,-1.615832805633545,-2.8260371685028076,-15.00827693939209,11.241377830505371,10.502513885498047,-13.203144073486328,-5.760238170623779,-4.203543186187744,-3.6330888271331787,-12.470571517944336,-0.4783921241760254,14.099037170410156,-15.54212474822998,7.277717113494873,-4.522821426391602,9.77164077758789,0.3486305773258209,8.813185691833496,-3.346456289291382,4.212831497192383,-2.130889415740967,-5.925573348999023,-3.0672948360443115,-7.717187881469727,4.0919060707092285,17.136409759521484,-2.3894481658935547,5.308062553405762,7.1531291007995605,-2.066065788269043,9.687797546386719,-18.41301155090332,5.180206775665283,13.307852745056152,12.527575492858887,-3.212979793548584,-1.8556225299835205,5.9479079246521,7.945440769195557,-6.320253849029541,-0.3370751440525055,-7.101246356964111,1.2932405471801758,15.95194149017334,-5.076547145843506,-3.0185563564300537,-4.6438140869140625,7.137021541595459,-13.277050971984863,-10.036349296569824,-5.449055194854736,-7.829697608947754,7.753039836883545,-0.19477702677249908,-15.463502883911133,9.575952529907227,-17.646137237548828,9.076436996459961,15.8484525680542,-13.097368240356445,-1.467286229133606,5.254542350769043,-12.376140594482422,-0.5347113013267517,17.23979949951172,-5.468138694763184,1.6410828828811646,3.2346372604370117,13.410490989685059,5.36533784866333,0.5165948867797852,17.19649887084961,-4.193119525909424,-2.614314556121826,-10.397624969482422,8.536648750305176,12.037195205688477,-12.758831024169922,1.7690623998641968,2.580496072769165,-5.226405143737793,1.5741994380950928,3.360499620437622,-12.893762588500977,3.1213362216949463,-10.603312492370605,0.21258963644504547,7.504156589508057,13.611370086669922,0.22946791350841522,13.524823188781738,8.970235824584961,2.7911736965179443,-3.9304277896881104,7.546580791473389,6.665789604187012,-4.952928066253662,9.9126558303833,-7.707820415496826,3.1646029949188232,1.3448982238769531,-16.080181121826172,-6.903570652008057,13.238053321838379,-3.011068820953369,-6.699831485748291,16.04447364807129,-5.9222612380981445,14.276354789733887,-7.045278549194336,4.556697368621826,5.353656768798828,1.04230535030365,2.6076254844665527,0.19819647073745728,2.1521451473236084,2.061929225921631,-5.06057071685791,7.26285457611084,-0.12720121443271637,-8.636585235595703,4.884018421173096,-2.540818214416504,3.8162472248077393,-2.0318217277526855,1.5691715478897095,-1.249247431755066,-12.807645797729492,-11.848938941955566,5.118524074554443,-15.817342758178711,4.5984272956848145,10.013075828552246,-9.620697021484375,-10.12603759765625,2.9320473670959473,-10.775687217712402,-2.506430149078369,-8.006333351135254,7.202159404754639,9.045583724975586,2.0178756713867188,-7.269430160522461,-0.0036098510026931763,-2.585029125213623,-8.894031524658203,-6.251213550567627,-5.780252456665039,-7.2320427894592285,5.275699615478516,5.184484958648682,6.527350902557373,-1.7040804624557495,-2.357630968093872,1.4156255722045898,-9.077775001525879,8.548666000366211,5.69011116027832,4.11886739730835,-0.18396155536174774,11.465397834777832,1.038123369216919,10.365469932556152,-2.9420700073242188,3.676013231277466,-6.389909744262695,9.93841552734375,-1.0244804620742798,6.7993669509887695,1.6879749298095703,-4.7262492179870605,-6.087031364440918,3.100620746612549,4.53568172454834,18.201244354248047,1.5352470874786377,-3.5856728553771973,10.830367088317871,-4.091203212738037,-7.7815775871276855,4.29000997543335,-17.492900848388672,-7.131144046783447,-0.42986181378364563,-6.445560932159424,0.8890831470489502,-10.575819969177246,4.530722141265869,-3.239989757537842,-0.1843583583831787,7.58996057510376,10.046568870544434,1.380225419998169,-12.795907974243164,8.08200740814209,-4.69085693359375,-6.131563663482666,3.087949752807617,-11.475045204162598,-0.5893036127090454,1.6742793321609497,-4.47728967666626],\"yaxis\":\"y\",\"type\":\"scattergl\"}],                        {\"template\":{\"data\":{\"bar\":[{\"error_x\":{\"color\":\"#2a3f5f\"},\"error_y\":{\"color\":\"#2a3f5f\"},\"marker\":{\"line\":{\"color\":\"#E5ECF6\",\"width\":0.5},\"pattern\":{\"fillmode\":\"overlay\",\"size\":10,\"solidity\":0.2}},\"type\":\"bar\"}],\"barpolar\":[{\"marker\":{\"line\":{\"color\":\"#E5ECF6\",\"width\":0.5},\"pattern\":{\"fillmode\":\"overlay\",\"size\":10,\"solidity\":0.2}},\"type\":\"barpolar\"}],\"carpet\":[{\"aaxis\":{\"endlinecolor\":\"#2a3f5f\",\"gridcolor\":\"white\",\"linecolor\":\"white\",\"minorgridcolor\":\"white\",\"startlinecolor\":\"#2a3f5f\"},\"baxis\":{\"endlinecolor\":\"#2a3f5f\",\"gridcolor\":\"white\",\"linecolor\":\"white\",\"minorgridcolor\":\"white\",\"startlinecolor\":\"#2a3f5f\"},\"type\":\"carpet\"}],\"choropleth\":[{\"colorbar\":{\"outlinewidth\":0,\"ticks\":\"\"},\"type\":\"choropleth\"}],\"contour\":[{\"colorbar\":{\"outlinewidth\":0,\"ticks\":\"\"},\"colorscale\":[[0.0,\"#0d0887\"],[0.1111111111111111,\"#46039f\"],[0.2222222222222222,\"#7201a8\"],[0.3333333333333333,\"#9c179e\"],[0.4444444444444444,\"#bd3786\"],[0.5555555555555556,\"#d8576b\"],[0.6666666666666666,\"#ed7953\"],[0.7777777777777778,\"#fb9f3a\"],[0.8888888888888888,\"#fdca26\"],[1.0,\"#f0f921\"]],\"type\":\"contour\"}],\"contourcarpet\":[{\"colorbar\":{\"outlinewidth\":0,\"ticks\":\"\"},\"type\":\"contourcarpet\"}],\"heatmap\":[{\"colorbar\":{\"outlinewidth\":0,\"ticks\":\"\"},\"colorscale\":[[0.0,\"#0d0887\"],[0.1111111111111111,\"#46039f\"],[0.2222222222222222,\"#7201a8\"],[0.3333333333333333,\"#9c179e\"],[0.4444444444444444,\"#bd3786\"],[0.5555555555555556,\"#d8576b\"],[0.6666666666666666,\"#ed7953\"],[0.7777777777777778,\"#fb9f3a\"],[0.8888888888888888,\"#fdca26\"],[1.0,\"#f0f921\"]],\"type\":\"heatmap\"}],\"heatmapgl\":[{\"colorbar\":{\"outlinewidth\":0,\"ticks\":\"\"},\"colorscale\":[[0.0,\"#0d0887\"],[0.1111111111111111,\"#46039f\"],[0.2222222222222222,\"#7201a8\"],[0.3333333333333333,\"#9c179e\"],[0.4444444444444444,\"#bd3786\"],[0.5555555555555556,\"#d8576b\"],[0.6666666666666666,\"#ed7953\"],[0.7777777777777778,\"#fb9f3a\"],[0.8888888888888888,\"#fdca26\"],[1.0,\"#f0f921\"]],\"type\":\"heatmapgl\"}],\"histogram\":[{\"marker\":{\"pattern\":{\"fillmode\":\"overlay\",\"size\":10,\"solidity\":0.2}},\"type\":\"histogram\"}],\"histogram2d\":[{\"colorbar\":{\"outlinewidth\":0,\"ticks\":\"\"},\"colorscale\":[[0.0,\"#0d0887\"],[0.1111111111111111,\"#46039f\"],[0.2222222222222222,\"#7201a8\"],[0.3333333333333333,\"#9c179e\"],[0.4444444444444444,\"#bd3786\"],[0.5555555555555556,\"#d8576b\"],[0.6666666666666666,\"#ed7953\"],[0.7777777777777778,\"#fb9f3a\"],[0.8888888888888888,\"#fdca26\"],[1.0,\"#f0f921\"]],\"type\":\"histogram2d\"}],\"histogram2dcontour\":[{\"colorbar\":{\"outlinewidth\":0,\"ticks\":\"\"},\"colorscale\":[[0.0,\"#0d0887\"],[0.1111111111111111,\"#46039f\"],[0.2222222222222222,\"#7201a8\"],[0.3333333333333333,\"#9c179e\"],[0.4444444444444444,\"#bd3786\"],[0.5555555555555556,\"#d8576b\"],[0.6666666666666666,\"#ed7953\"],[0.7777777777777778,\"#fb9f3a\"],[0.8888888888888888,\"#fdca26\"],[1.0,\"#f0f921\"]],\"type\":\"histogram2dcontour\"}],\"mesh3d\":[{\"colorbar\":{\"outlinewidth\":0,\"ticks\":\"\"},\"type\":\"mesh3d\"}],\"parcoords\":[{\"line\":{\"colorbar\":{\"outlinewidth\":0,\"ticks\":\"\"}},\"type\":\"parcoords\"}],\"pie\":[{\"automargin\":true,\"type\":\"pie\"}],\"scatter\":[{\"marker\":{\"colorbar\":{\"outlinewidth\":0,\"ticks\":\"\"}},\"type\":\"scatter\"}],\"scatter3d\":[{\"line\":{\"colorbar\":{\"outlinewidth\":0,\"ticks\":\"\"}},\"marker\":{\"colorbar\":{\"outlinewidth\":0,\"ticks\":\"\"}},\"type\":\"scatter3d\"}],\"scattercarpet\":[{\"marker\":{\"colorbar\":{\"outlinewidth\":0,\"ticks\":\"\"}},\"type\":\"scattercarpet\"}],\"scattergeo\":[{\"marker\":{\"colorbar\":{\"outlinewidth\":0,\"ticks\":\"\"}},\"type\":\"scattergeo\"}],\"scattergl\":[{\"marker\":{\"colorbar\":{\"outlinewidth\":0,\"ticks\":\"\"}},\"type\":\"scattergl\"}],\"scattermapbox\":[{\"marker\":{\"colorbar\":{\"outlinewidth\":0,\"ticks\":\"\"}},\"type\":\"scattermapbox\"}],\"scatterpolar\":[{\"marker\":{\"colorbar\":{\"outlinewidth\":0,\"ticks\":\"\"}},\"type\":\"scatterpolar\"}],\"scatterpolargl\":[{\"marker\":{\"colorbar\":{\"outlinewidth\":0,\"ticks\":\"\"}},\"type\":\"scatterpolargl\"}],\"scatterternary\":[{\"marker\":{\"colorbar\":{\"outlinewidth\":0,\"ticks\":\"\"}},\"type\":\"scatterternary\"}],\"surface\":[{\"colorbar\":{\"outlinewidth\":0,\"ticks\":\"\"},\"colorscale\":[[0.0,\"#0d0887\"],[0.1111111111111111,\"#46039f\"],[0.2222222222222222,\"#7201a8\"],[0.3333333333333333,\"#9c179e\"],[0.4444444444444444,\"#bd3786\"],[0.5555555555555556,\"#d8576b\"],[0.6666666666666666,\"#ed7953\"],[0.7777777777777778,\"#fb9f3a\"],[0.8888888888888888,\"#fdca26\"],[1.0,\"#f0f921\"]],\"type\":\"surface\"}],\"table\":[{\"cells\":{\"fill\":{\"color\":\"#EBF0F8\"},\"line\":{\"color\":\"white\"}},\"header\":{\"fill\":{\"color\":\"#C8D4E3\"},\"line\":{\"color\":\"white\"}},\"type\":\"table\"}]},\"layout\":{\"annotationdefaults\":{\"arrowcolor\":\"#2a3f5f\",\"arrowhead\":0,\"arrowwidth\":1},\"autotypenumbers\":\"strict\",\"coloraxis\":{\"colorbar\":{\"outlinewidth\":0,\"ticks\":\"\"}},\"colorscale\":{\"diverging\":[[0,\"#8e0152\"],[0.1,\"#c51b7d\"],[0.2,\"#de77ae\"],[0.3,\"#f1b6da\"],[0.4,\"#fde0ef\"],[0.5,\"#f7f7f7\"],[0.6,\"#e6f5d0\"],[0.7,\"#b8e186\"],[0.8,\"#7fbc41\"],[0.9,\"#4d9221\"],[1,\"#276419\"]],\"sequential\":[[0.0,\"#0d0887\"],[0.1111111111111111,\"#46039f\"],[0.2222222222222222,\"#7201a8\"],[0.3333333333333333,\"#9c179e\"],[0.4444444444444444,\"#bd3786\"],[0.5555555555555556,\"#d8576b\"],[0.6666666666666666,\"#ed7953\"],[0.7777777777777778,\"#fb9f3a\"],[0.8888888888888888,\"#fdca26\"],[1.0,\"#f0f921\"]],\"sequentialminus\":[[0.0,\"#0d0887\"],[0.1111111111111111,\"#46039f\"],[0.2222222222222222,\"#7201a8\"],[0.3333333333333333,\"#9c179e\"],[0.4444444444444444,\"#bd3786\"],[0.5555555555555556,\"#d8576b\"],[0.6666666666666666,\"#ed7953\"],[0.7777777777777778,\"#fb9f3a\"],[0.8888888888888888,\"#fdca26\"],[1.0,\"#f0f921\"]]},\"colorway\":[\"#636efa\",\"#EF553B\",\"#00cc96\",\"#ab63fa\",\"#FFA15A\",\"#19d3f3\",\"#FF6692\",\"#B6E880\",\"#FF97FF\",\"#FECB52\"],\"font\":{\"color\":\"#2a3f5f\"},\"geo\":{\"bgcolor\":\"white\",\"lakecolor\":\"white\",\"landcolor\":\"#E5ECF6\",\"showlakes\":true,\"showland\":true,\"subunitcolor\":\"white\"},\"hoverlabel\":{\"align\":\"left\"},\"hovermode\":\"closest\",\"mapbox\":{\"style\":\"light\"},\"paper_bgcolor\":\"white\",\"plot_bgcolor\":\"#E5ECF6\",\"polar\":{\"angularaxis\":{\"gridcolor\":\"white\",\"linecolor\":\"white\",\"ticks\":\"\"},\"bgcolor\":\"#E5ECF6\",\"radialaxis\":{\"gridcolor\":\"white\",\"linecolor\":\"white\",\"ticks\":\"\"}},\"scene\":{\"xaxis\":{\"backgroundcolor\":\"#E5ECF6\",\"gridcolor\":\"white\",\"gridwidth\":2,\"linecolor\":\"white\",\"showbackground\":true,\"ticks\":\"\",\"zerolinecolor\":\"white\"},\"yaxis\":{\"backgroundcolor\":\"#E5ECF6\",\"gridcolor\":\"white\",\"gridwidth\":2,\"linecolor\":\"white\",\"showbackground\":true,\"ticks\":\"\",\"zerolinecolor\":\"white\"},\"zaxis\":{\"backgroundcolor\":\"#E5ECF6\",\"gridcolor\":\"white\",\"gridwidth\":2,\"linecolor\":\"white\",\"showbackground\":true,\"ticks\":\"\",\"zerolinecolor\":\"white\"}},\"shapedefaults\":{\"line\":{\"color\":\"#2a3f5f\"}},\"ternary\":{\"aaxis\":{\"gridcolor\":\"white\",\"linecolor\":\"white\",\"ticks\":\"\"},\"baxis\":{\"gridcolor\":\"white\",\"linecolor\":\"white\",\"ticks\":\"\"},\"bgcolor\":\"#E5ECF6\",\"caxis\":{\"gridcolor\":\"white\",\"linecolor\":\"white\",\"ticks\":\"\"}},\"title\":{\"x\":0.05},\"xaxis\":{\"automargin\":true,\"gridcolor\":\"white\",\"linecolor\":\"white\",\"ticks\":\"\",\"title\":{\"standoff\":15},\"zerolinecolor\":\"white\",\"zerolinewidth\":2},\"yaxis\":{\"automargin\":true,\"gridcolor\":\"white\",\"linecolor\":\"white\",\"ticks\":\"\",\"title\":{\"standoff\":15},\"zerolinecolor\":\"white\",\"zerolinewidth\":2}}},\"xaxis\":{\"anchor\":\"y\",\"domain\":[0.0,1.0],\"title\":{\"text\":\"0\"}},\"yaxis\":{\"anchor\":\"x\",\"domain\":[0.0,1.0],\"title\":{\"text\":\"1\"}},\"coloraxis\":{\"colorbar\":{\"title\":{\"text\":\"color\"}},\"colorscale\":[[0.0,\"#0d0887\"],[0.1111111111111111,\"#46039f\"],[0.2222222222222222,\"#7201a8\"],[0.3333333333333333,\"#9c179e\"],[0.4444444444444444,\"#bd3786\"],[0.5555555555555556,\"#d8576b\"],[0.6666666666666666,\"#ed7953\"],[0.7777777777777778,\"#fb9f3a\"],[0.8888888888888888,\"#fdca26\"],[1.0,\"#f0f921\"]]},\"legend\":{\"tracegroupgap\":0},\"margin\":{\"t\":60}},                        {\"responsive\": true}                    ).then(function(){\n",
              "                            \n",
              "var gd = document.getElementById('a024b35f-6c09-4f32-82cb-afbb82fd4796');\n",
              "var x = new MutationObserver(function (mutations, observer) {{\n",
              "        var display = window.getComputedStyle(gd).display;\n",
              "        if (!display || display === 'none') {{\n",
              "            console.log([gd, 'removed!']);\n",
              "            Plotly.purge(gd);\n",
              "            observer.disconnect();\n",
              "        }}\n",
              "}});\n",
              "\n",
              "// Listen for the removal of the full notebook cells\n",
              "var notebookContainer = gd.closest('#notebook-container');\n",
              "if (notebookContainer) {{\n",
              "    x.observe(notebookContainer, {childList: true});\n",
              "}}\n",
              "\n",
              "// Listen for the clearing of the current output cell\n",
              "var outputEl = gd.closest('.output');\n",
              "if (outputEl) {{\n",
              "    x.observe(outputEl, {childList: true});\n",
              "}}\n",
              "\n",
              "                        })                };                            </script>        </div>\n",
              "</body>\n",
              "</html>"
            ]
          },
          "metadata": {}
        }
      ]
    },
    {
      "cell_type": "markdown",
      "source": [
        "###Representación Isomap"
      ],
      "metadata": {
        "id": "Ga6vbWa8XNh7"
      }
    },
    {
      "cell_type": "code",
      "source": [
        "from sklearn.manifold import Isomap\n",
        "embedding = Isomap(n_components=2)\n",
        "datared = embedding.fit_transform(features)\n",
        "\n",
        "import plotly.express as px\n",
        "fig = px.scatter(datared, x=0, y=1, color=tr_y)\n",
        "fig.show()"
      ],
      "metadata": {
        "colab": {
          "base_uri": "https://localhost:8080/",
          "height": 542
        },
        "id": "NS2ZzYQwZTJc",
        "outputId": "2f09f89e-6039-4ae5-d1a0-97e2ce5af5d9"
      },
      "execution_count": null,
      "outputs": [
        {
          "output_type": "display_data",
          "data": {
            "text/html": [
              "<html>\n",
              "<head><meta charset=\"utf-8\" /></head>\n",
              "<body>\n",
              "    <div>            <script src=\"https://cdnjs.cloudflare.com/ajax/libs/mathjax/2.7.5/MathJax.js?config=TeX-AMS-MML_SVG\"></script><script type=\"text/javascript\">if (window.MathJax) {MathJax.Hub.Config({SVG: {font: \"STIX-Web\"}});}</script>                <script type=\"text/javascript\">window.PlotlyConfig = {MathJaxConfig: 'local'};</script>\n",
              "        <script src=\"https://cdn.plot.ly/plotly-2.8.3.min.js\"></script>                <div id=\"7373a34c-684c-4fcd-a207-2e0218cd2a57\" class=\"plotly-graph-div\" style=\"height:525px; width:100%;\"></div>            <script type=\"text/javascript\">                                    window.PLOTLYENV=window.PLOTLYENV || {};                                    if (document.getElementById(\"7373a34c-684c-4fcd-a207-2e0218cd2a57\")) {                    Plotly.newPlot(                        \"7373a34c-684c-4fcd-a207-2e0218cd2a57\",                        [{\"hovertemplate\":\"0=%{x}<br>1=%{y}<br>color=%{marker.color}<extra></extra>\",\"legendgroup\":\"\",\"marker\":{\"color\":[0,0,0,0,0,0,0,0,0,0,0,0,0,0,0,0,0,0,0,0,0,0,0,0,0,0,0,0,0,0,0,0,0,0,0,0,0,0,0,0,0,0,0,0,0,0,0,0,0,0,0,0,0,0,0,0,0,0,0,0,0,0,0,0,0,0,0,0,0,0,0,0,0,0,0,0,0,0,0,0,0,0,0,0,0,0,0,0,0,0,0,0,0,0,0,0,0,0,0,0,0,0,0,0,0,0,0,0,0,0,0,0,0,0,0,0,0,0,0,0,0,0,0,0,0,0,0,0,0,0,0,0,0,0,0,0,0,0,0,0,0,0,0,0,0,0,0,0,0,0,0,0,0,0,0,0,0,0,0,0,0,0,0,0,0,0,0,0,0,0,0,0,0,0,0,0,0,0,0,0,0,0,0,0,0,0,0,0,0,0,0,0,0,0,0,0,0,0,0,0,0,0,0,0,0,0,0,0,0,0,0,0,0,0,0,0,0,0,0,0,0,0,0,0,0,0,0,0,0,0,0,0,0,0,0,0,0,0,0,0,0,0,0,0,0,0,0,0,0,0,0,0,0,0,0,0,0,0,0,0,0,0,0,0,0,0,0,0,0,0,0,0,0,0,0,0,0,0,0,0,0,0,0,0,0,0,0,0,0,0,0,0,0,0,0,0,0,0,0,0,0,0,0,0,0,0,0,0,0,0,0,0,0,0,0,0,0,0,0,0,0,0,0,0,0,0,0,0,0,0,0,0,0,0,0,0,0,0,0,0,0,0,0,0,0,0,0,0,0,0,0,0,0,0,0,0,0,0,0,0,0,0,0,0,0,0,0,0,0,0,0,0,0,0,0,0,0,0,0,0,0,0,0,0,0,0,0,0,0,0,0,0,0,0,0,0,0,0,0,0,0,0,0,0,0,0,0,0,0,0,0,0,0,0,0,0,0,0,0,0,0,0,0,0,0,0,0,0,0,0,0,0,0,0,0,0,0,0,0,0,0,0,0,0,0,0,0,0,0,0,1,1,1,1,1,1,1,1,1,1,1,1,1,1,1,1,1,1,1,1,1,1,1,1,1,1,1,1,1,1,1,1,1,1,1,1,1,1,1,1,1,1,1,1,1,1,1,1,1,1,1,1,1,1,1,1,1,1,1,1,1,1,1,1,1,1,1,1,1,1,1,1,1,1,1,1,1,1,1,1,1,1,1,1,1,1,1,1,1,1,1,1,1,1,1,1,1,1,1,1,1,1,1,1,1,1,1,1,1,1,1,1,1,1,1,1,1,1,1,1,1,1,1,1,1,1,1,1,1,1,1,1,1,1,1,1,1,1,1,1,1,1,1,1,1,1,1,1,1,1,1,1,1,1,1,1,1,1,1,1,1,1,1,1,1,1,1,1,1,1,1,1,1,1,1,1,1,1,1,1,1,1,1,1,1,1,1,1,1,1,1,1,1,1,1,1,1,1,1,1,1,1,1,1,1,1,1,1,1,1,1,1,1,1,1,1,1,1,1,1,1,1,1,1,1,1,1,1,1,1,1,1,1,1,1,1,1,1,1,1,1,1,1,1,1,1,1,1,1,1,1,1,1,1,1,1,1,1,1,1,1,1,1,1,1,1,1,1,1,1,1,1,1,1,1,1,1,1,1,1,1,1,1,1,1,1,1,1,1,1,1,1,1,1,1,1,1,1,1,1,1,1,1,1,1,1,1,1,1,1,1,1,1,1,1,1,1,1,1,1,1,1,1,1,1,1,1,1,1,1,1,1,1,1,1,1,1,1,1,1,1,1,1,1,1,1,1,1,1,1,1,1,1,1,1,1,1,1,1,1,1,1,1,1,1,1,1,1,1,1,1,1,1,1,1,1,1,1,1,1,1,1,1,1,1,1,1,1,1,1,1,1,1,1,1,1,1,1,1,1,1,1,1,1,1,1,1,1,1,1,1,1,1,1,1,1,1,1,1,1,1,1,1,1,1,1,1,1,1,1,1,1,1,1,1,1,1,1,1,1,1,1,1,1,1,1,1,1,1,1,2,2,2,2,2,2,2,2,2,2,2,2,2,2,2,2,2,2,2,2,2,2,2,2,2,2,2,2,2,2,2,2,2,2,2,2,2,2,2,2,2,2,2,2,2,2,2,2,2,2,2,2,2,2,2,2,2,2,2,2,2,2,2,2,2,2,2,2,2,2,2,2,2,2,2,2,2,2,2,2,2,2,2,2,2,2,2,2,2,2,2,2,2,2,2,2,2,2,2,2,2,2,2,2,2,2,2,2,2,2,2,2,2,2,2,2,2,2,2,2,2,2,2,2,2,2,2,2,2,2,2,2,2,2,2,2,2,2,2,2,2,2,2,2,2,2,2,2,2,2,2,2,2,2,2,2,2,2,2,2,2,2,2,2,2,2,2,2,2,2,2,2,2,2,2,2,2,2,2,2,2,2,2,2,2,2,2,2,2,2,2,2,2,2,2,2,2,2,2,2,2,2,2,2,2,2,2,2,2,2,2,2,2,2,2,2,2,2,2,2,2,2,2,2,2,2,2,2,2,2,2,2,2,2,2,2,2,2,2,2,2,2,2,2,2,2,2,2,2,2,2,2,2,2,2,2,2,2,2,2,2,2,2,2,2,2,2,2,2,2,2,2,2,2,2,2,2,2,2,2,2,2,2,2,2,2,2,2,2,2,2,2,2,2,2,2,2,2,2,2,2,2,2,2,2,2,2,2,2,2,2,2,2,2,2,2,2,2,2,2,2,2,2,2,2,2,2,2,2,2,2,2,2,2,2,2,2,2,2,2,2,2,2,2,2,2,2,2,2,2,2,2,2,2,2,2,2,2,2,2,2,2,2,2,2,2,2,2,2,2,2,2,2,2,2,2,2,2,2,2,2,2,2,2,2,2,2,2,2,2,2,2,2,2,2,2,2,2,2,2,2,2,2,2,2,2,2,2,2,2,2,2,2,2,2,2,2,2,2,2,2,2,2,2,2,2,2,2,2,2,2,2,2,2,2,2,2,2,2,2,2,2,2,2,2,2,2,2,2,2,3,3,3,3,3,3,3,3,3,3,3,3,3,3,3,3,3,3,3,3,3,3,3,3,3,3,3,3,3,3,3,3,3,3,3,3,3,3,3,3,3,3,3,3,3,3,3,3,3,3,3,3,3,3,3,3,3,3,3,3,3,3,3,3,3,3,3,3,3,3,3,3,3,3,3,3,3,3,3,3,3,3,3,3,3,3,3,3,3,3,3,3,3,3,3,3,3,3,3,3,3,3,3,3,3,3,3,3,3,3,3,3,3,3,3,3,3,3,3,3,3,3,3,3,3,3,3,3,3,3,3,3,3,3,3,3,3,3,3,3,3,3,3,3,3,3,3,3,3,3,3,3,3,3,3,3,3,3,3,3,3,3,3,3,3,3,3,3,3,3,3,3,3,3,3,3,3,3,3,3,3,3,3,3,3,3,3,3,3,3,3,3,3,3,3,3,3,3,3,3,3,3,3,3,3,3,3,3,3,3,3,3,3,3,3,3,3,3,3,3,3,3,3,3,3,3,3,3,3,3,3,3,3,3,3,3,3,3,3,3,3,3,3,3,3,3,3,3,3,3,3,3,3,3,3,3,3,3,3,3,3,3,3,3,3,3,3,3,3,3,3,3,3,3,3,3,3,3,3,3,3,3,3,3,3,3,3,3,3,3,3,3,3,3,3,3,3,3,3,3,3,3,3,3,3,3,3,3,3,3,3,3,3,3,3,3,3,3,3,3,3,3,3,3,3,3,3,3,3,3,3,3,3,3,3,3,3,3,3,3,3,3,3,3,3,3,3,3,3,3,3,3,3,3,3,3,3,3,3,3,3,3,3,3,3,3,3,3,3,3,3,3,3,3,3,3,3,3,3,3,3,3,3,3,3,3,3,3,3,3,3,3,3,3,3,3,3,3,3,3,3,3,3,3,3,3,3,3,3,3,3,3,3,3,3,3,3,3,3,3,3,3,3,3,3,3,3,3,3,3,3,3,3,3,3,3,3,3,3,3,3,3,3,3,3,3,3,3,3,3,4,4,4,4,4,4,4,4,4,4,4,4,4,4,4,4,4,4,4,4,4,4,4,4,4,4,4,4,4,4,4,4,4,4,4,4,4,4,4,4,4,4,4,4,4,4,4,4,4,4,4,4,4,4,4,4,4,4,4,4,4,4,4,4,4,4,4,4,4,4,4,4,4,4,4,4,4,4,4,4,4,4,4,4,4,4,4,4,4,4,4,4,4,4,4,4,4,4,4,4,4,4,4,4,4,4,4,4,4,4,4,4,4,4,4,4,4,4,4,4,4,4,4,4,4,4,4,4,4,4,4,4,4,4,4,4,4,4,4,4,4,4,4,4,4,4,4,4,4,4,4,4,4,4,4,4,4,4,4,4,4,4,4,4,4,4,4,4,4,4,4,4,4,4,4,4,4,4,4,4,4,4,4,4,4,4,4,4,4,4,4,4,4,4,4,4,4,4,4,4,4,4,4,4,4,4,4,4,4,4,4,4,4,4,4,4,4,4,4,4,4,4,4,4,4,4,4,4,4,4,4,4,4,4,4,4,4,4,4,4,4,4,4,4,4,4,4,4,4,4,4,4,4,4,4,4,4,4,4,4,4,4,4,4,4,4,4,4,4,4,4,4,4,4,4,4,4,4,4,4,4,4,4,4,4,4,4,4,4,4,4,4,4,4,4,4,4,4,4,4,4,4,4,4,4,4,4,4,4,4,4,4,4,4,4,4,4,4,4,4,4,4,4,4,4,4,4,4,4,4,4,4,4,4,4,4,4,4,4,4,4,4,4,4,4,4,4,4,4,4,4,4,4,4,4,4,4,4,4,4,4,4,4,4,4,4,4,4,4,4,4,4,4,4,4,4,4,4,4,4,4,4,4,4,4,4,4,4,4,4,4,4,4,4,4,4,4,4,4,4,4,4,4,4,4,4,4,4,4,4,4,4,4,4,4,4,4,4,4,4,4,4,4,4,4,4,4,4,4,4,4,4,4,4,4,4,4,4,4,4,4,4,4,4,4,4,4,4,4,4],\"coloraxis\":\"coloraxis\",\"symbol\":\"circle\"},\"mode\":\"markers\",\"name\":\"\",\"showlegend\":false,\"x\":[-3.1481441987300927,-7.513171797293074,0.17679831986224626,-5.515050725002268,-6.654485620208277,-2.8217994402674442,5.9109899414021445,-3.347288283576603,-4.809037647787999,3.70117398034825,1.0441950582834805,3.1254830961768234,4.270927960375992,1.1494319810735079,-0.11922586939721021,-4.347055088780969,5.3537386170890695,-6.544665395713831,1.263725526659662,-6.904657971391081,6.759123353506318,0.6984891563926339,1.7877236062656738,-7.00449865748188,-4.334436285752963,-5.07180751883467,-4.408809106357633,4.274357839691338,-0.8598236171214155,2.349502559563286,0.6359043343017226,8.13538320607279,-3.1598677509645854,1.2325887183212956,2.6047461760266604,-0.6844779814848464,-3.11672919198584,7.155543573091856,-3.0941446534599306,2.6714428828193486,2.2156965277700142,-1.9968163702235926,-6.786003132870136,1.6270626771308196,-2.1057744249470676,-1.5169662241075703,-2.1318665901317257,-1.656749541513004,-0.655709716129278,3.4801181987874883,8.149879235224738,5.384896044140161,-3.1397621720701046,-4.330549166677777,5.614832370688259,-5.24206678249132,-6.887921549216583,1.5881722324948027,-1.181757324953964,-7.063784973338734,-0.7339547996296863,5.838884375086072,-5.0041183550601085,2.670906491054894,4.193052899338262,-2.780143545216586,-4.513288405860926,-1.0346183931245767,-1.6938890392977344,0.9999379562458311,1.637459033245591,-3.7065163089929016,-6.576597274643901,5.622817964743083,1.5240629738960836,1.2234222950881182,-2.4209985261385243,4.562915676582929,-1.3982597985505911,4.508903672857555,2.0119675504486936,-2.2428760923479625,8.648939919974614,-3.4258303893805415,-0.788248999267276,9.163482796466143,10.40089747431814,-3.015702818662559,2.5602355528421485,7.127837072172002,-2.709052907383299,-3.1293351735451127,4.699540855194316,2.125750968824142,-0.466376425008639,0.8188616599773061,-3.2101008241327236,-5.926001948893611,9.047339879419912,-5.143405588977358,-1.5986320670612186,2.7986208918644557,-2.3336063139650594,3.2767903426914513,-0.024845012765805367,2.2913833594178294,0.14616097692983046,-3.8145240351359666,-6.291723248026519,0.5117258340719903,2.894339352325896,5.210667351455693,-4.619705589934957,-7.456843791123351,7.073709353009892,1.9105830260037684,-2.5693468695523807,-6.199020622011093,-3.2861434275000927,0.3473410424674425,4.549443088246382,-4.5015945936651915,5.9582976299750205,3.762595352498112,3.7773596562546476,-5.807825757644546,-3.172490949907568,-0.49753394795389305,-6.685711379172826,-0.6671934968119303,14.482544629622163,-9.76875100512124,2.0913852725759012,-0.19535971419327178,8.779577512310949,3.91638952439797,4.5993053029778475,4.8421631147212025,-3.2100005708748616,-5.6111318035955104,-1.9922771808758348,3.879308701270418,-3.292019827095211,0.1284328305443412,1.8150036699259744,-5.907174909359813,3.8706407363385127,-6.6160525777482,4.789022559898063,3.8554548496327947,3.8041122233072158,1.407629507924008,4.826887493720223,-1.571397122343148,8.90874672206189,-3.6875208098985306,-4.184862095066265,-2.024456273824985,-0.12845146032573304,5.874699824346656,4.168077663124172,5.681662676042243,-3.7732198665141063,4.505868629158911,-6.056030173267422,-1.2029783217427794,14.458964701779403,5.945416538684051,-1.8451607736729723,-4.058320694316615,4.711432485469334,0.2528425678239204,2.7329679902622006,-7.083192115422547,-6.006604213452211,-0.998554986479644,-0.6172835628329048,-0.8140125266075136,0.6057116404421817,-1.2387719068448249,-4.864683371898991,3.6889091226433464,0.2122718029450086,-5.734345741843482,-1.1614706192053221,-0.8588601809061107,-0.1296921407105633,-0.5887687519100826,5.428728840158619,-0.43394435799824005,2.544416233882477,4.312308191457998,-6.122737987419962,-5.374983494733245,-5.257866203310956,-3.711922628688394,-5.9525204562369485,3.9058102346422374,-6.38554110684962,-3.2835915067987202,-3.252479746051518,0.30705302056863415,-5.263693560496432,-5.926974193673816,-5.49399589651229,-3.1239507327754255,5.194766270170116,-1.6723350121637295,2.341148075862666,-6.442316039323588,0.2625185646496568,0.2839462502538867,-3.2117539372426616,3.7422338823408734,4.825552948682728,4.543503472666382,-3.1707689815842,-3.509264317532431,-7.139756105937959,4.071834548144956,-2.300005569585175,-1.5513869682837376,-0.9533647040280372,1.6033130511584026,16.99727337061665,0.6278336670543223,1.6673200748286108,3.2995023865963318,9.261021267348763,-3.367730627326335,5.6671114793589235,-0.5046445306839308,5.224018767842935,5.131276350237749,4.577313919610612,-0.13865066072968857,4.112308014505721,-3.4818484715692626,4.927673105533079,-4.477413833137015,-5.780159325812749,4.253192943965247,-3.7998633822205115,5.3394556788908965,3.0977751917633864,2.031784382559719,0.31084411779194754,-6.791718617238846,-0.49865274043744234,5.012366094037992,5.798001826391502,-1.847184790542393,6.657716422147364,-1.2665149905662767,3.673509990198192,-4.106084801934825,-5.622650755881156,6.112298621466378,4.095363004216883,-4.1764120506932665,5.026710705620498,4.016842991775611,-0.3917969165626587,0.003726311892503061,-2.3192359665399342,-0.2644609729536169,-2.325489213256227,-5.428027707213451,-6.984852673190718,-4.441637458923851,-7.215535059880325,2.5536121486596826,-0.4156312819865731,0.8177531368119936,3.6406335503040683,-1.9263150899776371,-2.5887949179204424,2.1274040357699127,-2.1636897357554097,3.05523564817648,3.6220838874443455,-2.097407822097816,-4.269422040540385,5.165728137730678,-0.5366947725342542,-1.5913585411699303,-4.984750168113541,2.293168090856379,-0.4570567650004912,-0.7331761812524785,-0.054564059526872065,-4.456474416401053,3.8628197834800098,-0.6457705664446755,-5.390839200615509,-2.83094204486449,-5.677814525264651,-0.9176355702571313,-6.163188071253555,-0.3096594304015724,-5.651356743586541,-4.1994039182993665,-3.9360180746936715,1.4862701467132413,-4.560537834234822,3.0495289616010117,-4.973790611300449,4.636002117334711,-5.866876994573312,-2.263431487661486,-1.113714548983327,-1.686811186170731,-2.761915949602264,3.7926432858319195,-5.332737809928109,5.648906191146056,-2.942892652791497,-5.550373971472235,4.285288016063526,-2.4986498318724473,-2.066526162341525,5.606824281651055,1.6329161953414446,-3.5799624981827396,1.7744966589344702,-7.363740028063402,6.93562695545085,-3.5922991567519986,3.5981481449550827,2.8495336196026093,6.256760471298438,1.423004651178937,5.18917157284357,-6.581058570147551,4.779025329128654,-0.9207146672032633,-2.657966583304207,-4.518003525559912,-0.36028632316638404,-0.381570327114059,-4.967590310506526,-7.2405801205227975,0.36434870653081186,1.898417263450067,-4.737924533193472,-1.8023700990193976,-0.23612641197758594,4.559474624127203,2.4108511666181665,4.741476049613118,5.935287076264919,1.4554616565415035,3.3626318274524873,-1.3551605463508831,0.515157120574431,-0.32433604612627853,-1.3686788868932056,5.703273640425587,2.9322702708864963,1.327742400928346,-2.5203882718441126,-6.065344453931765,6.255257607805728,1.8337507391741643,-6.383278794086622,-0.2566041148643015,0.8781484530649524,-0.8533648662787998,-2.9387186716892737,-4.1385302159822475,-4.9310892775671356,3.318176160446995,-6.0301053122893515,5.573040612574333,-1.274306695095365,1.0787666127150357,-1.353014175495425,-1.8268162630434053,0.006521709974417308,0.7252427467236748,-3.6105116465754885,-1.6464554016473696,3.4823366408824934,-5.342559451118504,-4.356838003976939,-4.621203323631144,1.3172766989146671,-6.61710474031691,-6.739127106027667,4.507563888877884,2.5803043398535106,0.7682225456927398,1.782853114988339,-1.3711250869753884,2.3892433291536825,-5.463905473227404,-0.34943920911380016,-5.4761169217315775,-1.7411343506666777,5.439293803990163,1.1116456784544335,-5.67778314702404,1.9362870603060238,2.5046979266803593,6.924890906529059,3.4179366053333453,4.979813990156085,-5.737640441749685,5.114525093776419,2.2747446382197736,-0.23383712919639907,-6.862784967600627,2.067640566436592,-2.1378677857121673,-3.0682761009963624,5.446941002889172,-5.855204505593829,5.366767539603341,3.0616675862497686,5.271408144205185,1.3899798492771518,2.3356499930098247,2.8514981590515434,1.4517770617320773,3.5461067310053362,-7.581920764885345,4.089513084132107,0.7971053287759966,-0.2858513145279261,-4.4266929114583125,2.864173712986416,-4.842241091068556,0.7832743948379927,-1.7931326765954128,3.4306115829748705,0.831446564364826,9.262871706399244,2.706667028715841,-5.648211032398158,-1.1253551083861963,-6.333334515878953,11.638730797625751,4.256932899221323,5.524695111292119,0.7729586275495199,-3.241235070135752,4.393475254935088,-6.0974054647304845,4.961198995366952,-5.972051674872286,-2.619219865495746,6.309246999965412,2.0896791965579085,2.882750315173862,7.280144936236219,-4.115395392418791,1.4752149283619054,-6.086913128424926,1.7163858586622678,5.561613751259772,0.6256443871509209,-6.250958889921006,4.04682681244926,-3.990901555575536,6.408558194378672,5.5412493198076875,1.2329036085260576,5.8393932737724565,-3.4753084640663365,-0.16200099999365947,1.4384802685586495,3.051051156446719,-1.4001325396540842,15.13987774533069,2.823086364912044,-0.33470807604160235,-5.4540656509519625,4.130093225601621,6.110212116498636,-7.150819724385635,3.1500427703597467,-3.8875327183139237,2.8997071997034487,5.765498615356036,-4.549535297122938,-0.9356617199846322,1.5905477234466712,-1.1333000464620029,4.086908796946597,5.799572444270321,-1.6645665255712614,-4.807012730113654,0.5446527530909512,-1.1598033889443695,5.360763600254525,4.921521101793859,6.279092080616998,-0.2362762716966505,-0.4188654284992734,1.2620489095876117,0.09622664096433366,1.2805096463269832,1.8886280355395777,-0.27401298955368014,-1.253909950238557,2.9246821987684255,-2.1793291341378445,-2.7978104422186125,0.21386461913374388,1.0429722036592326,11.501392867023041,1.981822556845564,-3.4047088363769493,-4.830365659720767,3.793373910109018,5.701696557556727,5.43054660565307,1.6688047560291297,0.2583310941008184,-2.0959739398300674,-2.560231099885947,0.3249330532554768,2.6971807868630147,3.988439171213898,-1.3705510942133625,2.617921781611969,0.0010972480582841396,1.7444929316073272,-2.6212008081933327,1.3735118723902087,-1.2432322582915678,3.0858572359274596,5.464794243669108,-3.7359500823899223,-0.19021167433598238,3.1325754691240713,-4.119813400284264,-3.176455653996285,-0.11312637416561964,-1.8023676271389613,-2.8224816610007633,4.576954905831442,1.0697440484330645,7.297929905526305,-4.8082919406368925,3.643330373598898,-7.723054245037638,3.9185206311470755,-2.7508602849963286,4.776360549795057,0.09573992568086638,-2.149287963083656,-0.18298885397308268,-1.1085376764414518,-5.685706355310702,4.238422427844214,4.541672828830258,1.401874716968761,-2.9411728362276377,2.9055783245629025,-2.43790513322337,-4.366465123085243,-1.876652595450632,3.199134403315982,-2.5673003416426465,3.4736135067771756,0.9339727150882728,-2.6267708869070847,-6.240399082920517,-3.9457484760480903,-4.260502878073051,-1.4959450933132346,-0.4241536923043564,0.31775610883175737,-1.1543042151107754,1.5250080325879616,-6.72356662495973,-1.779640653347157,-4.791097117754889,-6.3268676998175275,-4.186940075424387,-0.3822053280917387,-5.4802712000316385,-0.17531929685211345,-0.415469905848603,2.4340579799224753,-0.06663154729142551,-1.59752723185506,3.1781194006579923,-2.1219747451534405,3.1962494935819135,1.6941284076364278,-3.8517614200943426,-5.106940434614994,-4.615689948808452,0.09334272118048885,0.7034423076445435,0.34142336852202804,2.6550818929100295,4.152563181785698,-0.483285647660114,-5.9298718842861025,-0.906034725876048,2.081490199639974,5.605329435529135,0.9877487497880906,-2.365638274415803,-4.822368915945332,-1.7590680247184365,-0.8695470938457694,-7.096982596761231,1.031994679262099,0.54504274989925,-1.2201774031078325,-0.5079880956004987,-5.527074371975916,-6.780115523489101,-5.346507737904587,0.4769969461973201,-4.524002632578641,9.670357091387602,-5.2784678368944595,-5.75279150762392,-5.482179923271842,3.442341649393598,3.483729091731449,-3.1216704427802098,7.736538208901777,2.6063840075483635,5.162580419283227,2.3051856300101026,-3.523463789607732,2.37126888116423,-5.411987114993124,-2.3653919449042777,-3.470861953032602,0.3911159850469897,2.01780748731153,-0.6451851817439634,3.987552103757838,-4.927462653590844,14.188682789609006,-6.089688268827326,-0.4530602709201212,-2.08777970397535,0.2323283305567297,-4.433498875821329,1.2621829248487264,-4.524084563091227,7.005507007312324,-3.2390683497095676,-1.3356812017752073,-6.411362910743793,-1.266679255163157,-0.32886422443693847,-4.673255158717926,4.472106738576136,5.230378539637945,-1.1506533929971619,3.296002471985291,4.106303145497368,-6.100391507673475,4.9728985407843105,5.832383249094777,-5.186886263673366,4.805005891936947,-0.9663544799453928,4.728072598469364,2.739318362524935,14.308336531388015,6.822877340060058,-5.49703161418831,-3.755213270351218,1.7576430975840147,2.436804265517558,-2.154978312436745,-1.9913569561007982,3.446976767725239,-0.5184236007145269,-4.4887956455729805,-2.6910117151898962,-1.5093878867285027,-2.401731542274936,-2.0968296343089814,-6.439645030985665,-3.2966446787033066,-6.038547357288471,-6.617899913572433,-4.634084961221863,5.393197657457878,8.226589718606618,7.883550087228331,-2.4642204198008946,1.1071656511496535,1.9466412945260525,-2.520532189943454,-7.1195263168586544,-5.184566311452838,0.10031186087581798,0.023451295415835686,2.447183099044557,-1.7808741938565273,2.5293883410371265,-3.0477135890222113,2.6163129750987983,-2.614548721841606,5.2306277593277315,-6.156714035124529,6.146642878679774,-2.8811013115524022,3.7729800076999314,-4.184054510660621,1.412512839466516,5.813383624712542,-4.9995004391845645,7.784657583547551,-4.509877011398522,-3.0688517263600144,2.138679989895847,1.8030414815688065,-2.7077688459766103,-3.891484999777721,-6.90078888577679,2.0522940595153387,-5.014352495099265,4.309098647564789,-4.360813697556262,6.245932746477068,-7.884393095979621,1.2109226415833225,0.28560628859070014,0.0089153519360671,-2.951548613102897,1.6227490348115046,-6.321370810191143,4.030369756895202,-0.26438061957065273,5.673332333745805,-0.26010615313930485,-6.236207625992356,8.915947857320072,1.6352874510803486,0.4567126285963433,4.269582763643241,-4.891058878231649,10.219225074374258,-3.7099450359275217,-0.4757612760528773,-6.165130318256136,3.0112066505871837,-4.180912976660874,-3.229422247363527,-1.2152102502255886,-4.258390236012514,-1.497684710782725,-0.7429015006385872,-4.440158494762491,3.7814560327616102,6.546459631327416,2.2160068756665434,-3.876722836680279,-6.631552734864702,3.3368738815404813,-4.366548021794708,3.8968099314662537,0.6394421913038175,-3.5451704264272252,1.1518034076851824,11.52052026047159,-5.429185703650986,-3.5945734882684817,2.048457090413908,4.941395840020419,-4.561301855684792,3.8911500866551014,-2.8478844266520844,-5.058662237610541,-4.646703189860465,-2.323815073532942,5.051874905178716,-1.874729616160188,1.6612257923120877,0.14986419530001371,-1.3089610995493886,-1.8413790114813473,0.007864597425307497,5.030195421852851,-5.3811834783217,-0.5831454063816617,-4.105245814230721,-1.2958491853798808,-1.35568154731154,3.125192442487406,2.2562967260146785,-1.0612865156172924,-1.4114495357739663,-0.70164519135365,-1.1000112271404905,6.0036928960021925,3.5537790299435112,-3.38741765956865,6.379100839788844,-7.396578302891844,1.807580143001875,-4.888661179485794,-4.021730615882779,-2.6489484860082464,-5.527358196685227,6.491661300859112,0.9075263682177565,0.21677827996210422,0.753653588415565,6.1719843545824515,2.348068741536316,1.6388501488920588,0.28880498701878116,5.819985879650168,3.5905718629187517,6.479984703880679,5.74631368771062,-6.640424419367216,0.9773295265458742,-2.2705150925343736,-1.8073543164397974,3.117772762556129,4.4598044744289576,-0.27407221138094096,1.7858232141520143,8.795075509508631,-1.058230586291764,-1.3907806680273833,-3.7344236016649766,1.0888983176143365,-1.1197320632182866,0.2137018599648293,-0.375370506231452,-1.2293375221328373,-3.4400483773372854,7.817066971534726,-3.3841872093972567,-2.143663851473604,-1.4249831039244159,-0.7300924394013696,-4.242248727423081,-2.1074336592488754,-4.979026068320955,2.901442687977713,0.9115141192000212,-0.737141031365136,-2.775187509495271,2.5177034003686543,-2.3493237436743453,8.12304097482705,-2.0143473089415056,0.589279680353073,2.4952603425551416,-4.341519425550342,-1.4953826145986884,1.1030509884776991,0.8460537536040443,2.7768518139720038,-3.827029924609861,-0.222095463022071,-0.6136076623131368,-1.2339424700938457,-0.8613224190810582,7.242265527039132,-6.299067044920147,2.838578993713767,0.009777162118567486,0.649689576081708,7.791996843743523,5.512745389180243,5.672922902962872,-0.5406866505104545,0.007193896913776491,-6.445132949012775,-3.2357599965355495,-0.531782555035656,2.551883840489942,-1.1916260055408878,5.80519213909573,-1.926570254947795,-4.633661934782402,-1.9465318409655492,2.0171116470301036,3.810446718209988,4.102620437425027,9.613267598452872,-0.2837499007888109,-2.09994879464561,-5.769177186384634,4.725128124870441,-6.213054428237591,5.757256816914053,2.2862857527379035,-2.6434082266262626,-5.719970530171039,-2.0045488342311315,-1.7172504960249868,-3.922160736156501,-1.3256585082923502,-1.1106324661977949,-5.371213474895732,-5.587069612826143,3.2045150185662097,1.5256258826933622,-7.9570915895817125,-6.680734973826919,-2.5570502993194086,3.037511745880505,-1.5028392300144178,1.7609646503526497,3.128419308784354,-1.7281147885159558,-0.5315644298359352,-5.008858691754834,-5.743932866072821,-5.836471139126895,-3.395520862541621,3.4108455708953227,4.979428408521948,2.03118896823625,5.4380733077526155,7.608556192944629,3.497023153744435,-2.835742605540782,2.6939405705705455,0.9354583221986166,0.4735254700416516,-5.223790989465488,-2.4163110814528874,-4.467977953366017,-1.9480261252844566,4.108895239597049,-6.93145624488998,2.161651399731292,-3.1575891285001982,-2.356248610094625,-3.1312948122522477,1.130263740161108,1.5366836979732255,-6.008837525710635,-1.0817823129961328,-4.918553218640491,-4.458052512225957,-7.412835525932218,-7.161991428716743,1.063168198703875,-5.404171204695609,-5.3549025344870484,4.41499764840898,3.1337081434466865,0.24483620051573582,3.4444410049106393,-6.091970280198947,2.067823196285985,5.586624126401465,2.1905423003245943,-0.8890490515274043,-0.839913534947508,-3.2101661742863965,-6.79676932418323,-5.80703368645545,0.9959186233179913,-2.0360476841905055,12.643271988195199,15.190562485226614,-6.65877900491391,5.378163046424921,-6.717178227216818,4.057151992500395,0.3340150881474271,5.318426393478462,15.045337373642626,-7.394630535908423,4.422107885136548,-1.1727439577925696,-5.692849856480341,3.85387499082096,-2.3249004726081237,-5.65215211487446,-5.212579361568375,-2.008040841281037,-3.5353627398120477,4.286319400456625,-2.7848899928274604,4.760943979466034,3.8784682680416074,1.416905391712579,4.233385372797356,-2.1225798871033503,1.874596329429907,3.378223341134438,-0.9357877730242938,4.53547196377442,-1.6568596396134985,0.9086375023596935,6.8847285215943685,0.7817265933511625,-0.4675228538421345,-6.407913106419427,-6.4848863418011105,-5.692464926539319,-3.7650768888565147,3.475248652119113,2.3232110979791942,2.1055768705693896,4.4325576338486075,-0.9801237553622736,-5.147970039508066,2.6421435814816827,0.5297703716351824,2.7445804778468403,2.978438324007061,1.3373141464233669,-0.2383573680924505,-5.807595511976806,-2.473646290211598,-1.4314709660268305,3.83414536789942,0.9064831764682926,3.2094335234323994,6.241806172440489,1.9037002682368926,-0.29106100111949096,1.8530178758876747,0.8050143946547752,5.402245201788534,-2.779655666417466,1.3299512653142092,-1.1198877223870944,-1.3880236816965452,-3.152750267119722,4.109280154032947,-5.6668470649476035,1.8560753691083056,-3.4565305366887107,-5.504214200032964,-1.1662351013083574,2.172141896251748,2.0817975949750442,-3.9030641377938786,0.9034048405091062,0.8511155231618004,-3.5833016593329905,-3.5832621451628874,-1.3266136470920094,4.857137066760834,-2.8962406698676992,-4.257050983740715,5.385091319768609,0.5229486890419125,-2.733609613274669,-5.974007556271083,2.1788812546367753,-4.655185280738054,-0.31976696847295166,4.9891828998558365,-6.011117309564662,8.050667849271864,2.630596914196993,5.727839781957032,5.526890295963811,0.018551439113480745,-1.378834131727925,-1.9211534797117484,0.7520511315775111,5.95916185854021,-1.4288782519016827,-4.6789212631319765,4.710401851673873,-2.8954149318396665,4.937870217466034,1.1295417913000247,4.212098356128729,-1.7680065728262262,-0.5137360100178929,2.8737921981854995,0.189296439497581,-2.0844784083426195,-1.8000999614606228,-7.529358810862363,6.076383960288314,5.639193784064548,-4.988287063222489,-2.7472704383099678,2.601189173683838,-5.441211569572766,-3.503593760868794,-1.3988436709156549,3.167748437014599,7.466214053108944,-5.8151800869132595,1.478307105570142,-0.1148615056462273,-4.9003470077274,-1.7359491887972194,-2.4302357419963454,-1.336330091924468,1.3068311512275488,-2.0137791900946165,6.3311388553199714,5.178547786129085,6.845405815091374,5.502194266532159,5.949425593736603,-6.329867082745282,5.235186167884208,-2.71659689084612,-4.181801207211908,1.6512443995701627,-2.053295646938597,-1.3118149192805642,-2.0393413058790175,-3.4819518917873653,-2.1712382004573962,-0.37699400318495363,-7.259876032275037,1.686223343126496,2.9070170663442316,-6.839417438503951,-5.97853658788008,8.844327078611625,1.1737821161634943,-3.1503947872010865,-4.298789786000814,0.8598448576840475,-3.9001923441433246,-0.9454657352666425,-1.575643117936384,-2.6281031764753773,-2.014571053289287,2.7213462079537107,-6.652951617316723,2.447148502197181,3.799054258708902,2.3772501308909897,-2.293687377981458,-1.6487497923438912,2.0527971799838896,1.412184897516694,3.7198298169161315,-5.629345746997012,-2.974209932864084,0.06686343362975207,4.913233370172448,-1.9816626074899577,-5.29346290199452,3.2850694554229305,1.8646120889886337,1.7886609588657432,2.763504851882515,-6.756160271896798,-0.9901166943756735,-0.04702608288085617,-2.529880471896192,-2.900024092309979,-2.581504428225755,-2.524286548967663,5.0247236738506205,-2.709746390465293,6.545084002501249,-1.0746728246095318,-1.9294105950681257,2.7185674034310012,-4.416190848200351,1.1430106136542482,2.9750689316659633,-1.6433277897833736,1.2290774662216468,-1.5732224179210235,2.5560951773064766,3.264284712028573,2.6251965716191306,-0.33225136622719115,-3.4121599313638384,2.0128433876377554,5.788375392406128,-3.578677082887911,-4.019980720051274,2.704741683199055,-4.25677495218217,-1.7319241284866718,2.970945369827773,4.5874813296152155,1.4746651972416027,-0.515855988679777,-5.4022141353835496,1.5706247305904264,-0.3662716357152104,-1.9507607801966864,-1.523899048344608,-3.602172138184193,6.1695414142145095,-5.054173799811191,-4.743209116030327,2.966448445146296,-3.2463336996132837,1.5016468154184883,4.878459072430614,-7.5542692982690545,-2.8605743615897663,1.2089917437097235,15.228141963559972,2.663001435046185,-3.7704088829556497,6.169017658951727,-5.943401035863951,1.966226162304648,1.4907359586345623,-1.2931922995288538,5.78535369288368,0.33986354973754945,-3.318616391314606,4.63436995683166,8.278108600670803,2.911414300083122,1.5393316337522784,-5.410816311175909,-2.4605702523825927,5.327477663957628,-1.0408518736311323,4.91014274564127,0.5789082474246386,-5.569936117150538,2.9726414174023206,8.107486652506752,3.779840300237014,4.995916386207374,8.46321178263304,-2.274002028898847,3.565944264254835,-6.328401109260283,2.403420414554524,-1.1674927680445755,13.671428789779709,-5.165462211278723,-3.280282262971307,1.251609045438521,-6.883438760985522,2.644293985629353,1.2218663744447056,4.671230806961524,2.225030015485251,3.7263223126651175,-0.10014504317062874,2.526615770158736,1.8080495230617888,7.8850797608032535,3.2095722642122726,-4.511108316332417,15.149498486574627,0.47030817286698323,1.6944818277085352,1.5828765548754606,-2.130919308882726,-6.630799020091712,1.772935258456065,5.816698692836562,-0.05897066459675553,-3.5723627027578764,-2.222050045040251,1.03479175725749,0.8562848442490234,-4.217321375346103,1.7849605492006504,4.371251553518636,-3.14760070110068,-2.279647017671515,1.0199555949456256,-1.812988412997587,1.2518557042490506,-0.5802422460499718,-0.8358451299697469,2.926106801952412,-2.26671832757567,-4.341554902331026,-3.5520026727318372,1.9466479539630903,-1.7846153379561718,0.013260058472262378,-0.44209045084602444,0.6173836394815178,-2.535187215826917,-3.2849395749161387,5.203484284360764,0.5676172162251821,-1.8477681577031695,3.8064897712848857,1.3054668542891865,-2.5530668206579987,6.23200834474715,-6.634199961118451,1.83588565586262,-0.0683731484345946,4.270643973065284,5.0041810816430194,0.1753371511773272,3.031948164874638,-3.6323014153638007,3.677816085041327,-1.3489401563062329,2.471746914068824,-4.892142699208902,-4.290112694149075,6.2443670761745445,-1.6838555688249237,-4.462155651475474,-0.5987126339454993,-6.574594226430986,-3.844148337083409,1.0609453441017231,-1.3903922118166363,-5.6742141856120725,-3.505766316512881,3.290067595458716,-3.9777779050840922,-2.767253968064197,2.257146736304466,6.608524516369473,0.058240450527969646,-6.2325735284951085,4.192146006150084,-3.272438824020992,-3.5065996073006387,6.000079793970541,2.451313779244916,0.6441853408377263,-2.6030937843135997,-1.8925400315290082,-3.4061795824979084,-0.7452352294635041,-6.807825266093697,3.3660607437771857,2.7923506035128915,-1.4096809064861875,0.7481118509742788,0.19226370743504953,2.9907539996122816,-4.7351393362923835,-1.4578571230655972,3.253809908267065,-0.40289660308210734,-2.7115516300068916,7.142828631241584,-0.24535184793840703,-5.1977493707545115,-1.291083633646415,1.3511684202812806,-5.014435568386586,-0.6505543853958848,-1.2195564747020693,2.4093774062340847,3.1594036936380996,-1.9910031539932929,4.987315809718446,0.08888921542226808,4.048628248372841,0.2648965445769358,-7.543721915210654,9.490969682671462,-3.2117038022916864,2.7997184865563995,-5.483464907565667,-2.019091352287392,-5.6994959524613815,2.088774073545208,1.25431107295039,-0.8378236510625174,-0.5475369397992608,-1.3029391643184507,-6.8760838472283075,5.0377337932357635,0.5170148191998489,-1.4742319873676473,2.108768858395024,2.7690450857865856,0.3500315076705404,-5.109073692585681,2.4467028507521604,-4.550625182744444,1.7519759653988167,1.0300962871924748,4.622498938841437,-4.861781350825796,-0.16514252324613735,-1.6658068747218064,-1.7604256780361192,-1.069214454190077,-4.060182824860111,3.9475347450322045,-4.601126484976506,3.952219448169513,0.7536749238492871,-0.492797598822009,10.361389640420862,-0.9170951565824765,-3.3322851219311316,-0.7480091289370506,2.3270019574623775,9.09916731551552,-2.6838672131270576,2.9683527834687693,-4.318694548104252,-1.366852534858817,-6.062237229500611,-2.1046943050903963,1.232435494626578,5.3699778354821905,6.497935247150225,-1.440841439285683,-0.09279156885787944,1.8050191408559573,1.9684057544352949,-0.8564880152927068,-5.017474960162546,9.511662761936162,-4.732689524720517,6.630850683321413,-5.827935313203121,-1.101795531373913,-2.0014729913820184,-0.961932227641639,2.9617433729279945,-2.299219193183932,3.0975632686736354,11.428965207268286,-3.5664279754832107,-4.977323654416154,-3.3457415324861763,-5.686241210500619,-2.159550114437381,-4.091932682958408,-2.894769122055549,3.4410282007766684,1.1554734328144665,6.224125042026403,-3.7120475154517516,3.6532069832289564,-2.5622386100955192,-4.951096705870358,0.044653189136758344,-1.4975808900879817,-0.727882287168181,-0.10345130795730276,-6.554227284207373,3.866235957323752,4.718978044315843,0.7204427596534518,-2.957395462107984,3.319297947852027,0.07267865285958952,-3.4174844226083487,4.577876563538913,2.0514331854796146,5.370315020313671,7.362985196680434,2.5924749035516617,-6.758266858623386,-7.310762670002119,-5.348992669026976,-0.7266361167510094,4.006740095595059,-4.695161643016749,5.882951691461613,-4.6988406568835135,3.2567780864562863,5.333480033570141,-4.0335933765194385,-2.8214254517090915,1.1774162470325866,-1.9530028612523325,-6.732798759065142,-3.83613931545058,-5.464739483990648,2.526835044516447,-3.385605395026977,-5.278634159457908,-0.43204756240404446,-3.785293346304122,4.490256353837105,-1.3238714815717232,-5.304519789361956,-2.513707647856905,4.467549447208328,1.8345030929784656,3.487292538905502,9.86905662499759,0.17432870993796623,2.3242897915029475,-2.3464404685571503,-0.10250768108901999,2.98885836534065,1.3334796329482603,1.9647152070913756,-1.4889075553591875,-5.054927644199974,-6.965053260808363,-0.28974815280548794,-0.4734716290400022,-1.2972251391714817,-3.712070125447518,-3.4968007651654696,12.798726844308158,2.984135716076104,-6.146883998936971,-5.206262821758035,-4.540808036088864,-1.2351925988719064,-6.863896490794806,-3.328898559790582,-0.5178521732067435,-3.2613656514958937,-5.691369342536926,6.838956045663443,-6.75386424353936,3.51400175940431,-0.5396936697684324,4.953045514684603,4.803168374943776,-2.641379097319492,-3.9659021508526613,-6.899756530179611,-0.37010736203394784,0.7010359761849109,-0.6357976183042704,6.300492349152921,-1.8867970832986576,-0.09363721761709431,-0.7472265135415576,-3.0384206516850574,-2.0101833773407214,1.9692923491469723,-6.6368065934089016,8.619474459595121,5.880896547967224,-1.741536179586537,-5.76382694254957,3.2459064524891836,-5.199912745935245,-0.6015818681306907,-6.446826287167029,2.219389765492386,0.7435429583961654,-8.686029418241805,-6.494766475066692,4.607648576888274,-7.411630086221247,-6.9780531393839444,-6.834277996871181,3.198256846465305,1.2037102184379185,0.7083991509521164,-4.3184695307655705,5.37814584983287,3.2280482923134715,1.3742182314823737,3.0356236765285947,-2.8271868661900776,1.2630586931827694,5.004586588664291,-0.05133705751476726,-1.331254174941105,-1.7898121424155589,-0.21367806604994385,1.4658738465553778,7.104655029033824,-0.6229645991801821,1.2051019034930222,10.138468228228927,-2.5723965999842386,9.84843456834603,-0.24610813249000388,5.80940361209897,1.4693418891065992,-1.7323926612424037,-4.59118105149724,-1.003553003639634,1.0553252831224882,5.966026963680572,-3.776684784500078,10.407789611847988,5.904878011042659,0.28687161099785097,3.098522306566613,-2.4470845927177267,3.9420895893241323,-0.3315420023125575,2.61786360602101,2.4247461319012786,-3.263350406448713,-3.732655239256496,6.884048008735808,-6.68706613547138,-4.857512132035272,0.9712798976931214,7.566895907255265,-3.320004600911138,2.440100609065272,5.074610688040963,10.75462739851612,2.269194121759812,0.5929848816523862,0.6995610055369927,3.901831320794943,-3.3615261884163656,-4.355956223238257,7.148375855076048,0.6490054650471582,-4.970980792992925,-3.9267031188266466,-4.503462909542108,-2.065798672098787,-0.24674539002302917,-6.469506217741336,-3.3355779173350184,5.698102315922611,6.009552093990509,-6.538478662808876,-3.3250242292603422,2.3650539934381425,8.143871258312334,7.402621889515471,-3.9440730674410505,1.7644958311918337,13.67193170061348,-1.3763465182618326,7.895120585502764,-2.797338708628889,8.464416121306815,-5.612388297576114,0.9647079421392187,-7.307474449560749,-6.652733663998686,-3.8763438112395017,2.5242526356839265,-4.1660701639063715,9.995816419929,8.218559061959336,-3.358021179219913,3.127285036754265,-0.7337152205957596,1.0580513796050186,-5.188489408350341,5.055544226931782,-2.9003182473473874,3.234197040419142,-5.659554475988029,-3.1876539975500404,1.7482099255395502,2.3183422979114496,-1.7670473651989729,3.9923916141838958,5.580478705799307,1.1134676658356366,-5.7196959157330225,-2.0372444194564396,0.8624897759597429,-3.164007887710999,4.885434873807941,2.9029148346902263,-1.6760018445453715,3.0745351508065504,-2.2715262966779917,9.653146545749106,5.54860124222342,-7.097422281973175,-6.724853529090811,-5.723253197422643,-2.3044279292129017,-2.3587062823966773,5.053198831950021,2.045004932081626,-5.687884805246453,-4.072337235807634,3.6909636789504545,5.940456439745154,-0.0533441476044048,-4.981765244699658,-5.374168926291786,-6.579498439013738,-7.079159131270452,-1.5634575576596343,-1.9337816422975056,7.327996218226783,0.8650852795854321,-4.827002153110329,5.116379838848651,-4.221802570387583,10.60033324963058,0.04931480158824512,-4.2495989103864735,3.71550160012247,0.6923840323764004,4.584220944318664,2.9622640334614223,-3.6920265624839197,-1.258298056145416,3.6539353884243853,2.7561894018593303,2.115895072653758,0.5861331972028707,3.655608256439081,-3.2339578247601826,-0.43228514360787373,1.6020992132784517,-2.516813969541675,-2.165514723266162,-3.385943052090398,2.074741610879995,1.2322397817143873,-2.063054823887922,2.1494945870797433,1.229475683436895,5.904483091394912,-4.548705791185918,-1.2413483285285298,2.870628288984143,8.057649003547995,-1.3633639043345038,-0.7208227587471989,0.026951135061939916,-4.783491665575604,-5.946613054598309,2.882889057356989,2.28395013895859,-1.4971278478718653,2.8432614662094116,-5.25539192850474,-6.715290117830597,-7.200025815812307,2.56593502676492,3.8230623913903297,-6.503037795310365,-4.93417097158533,1.0598707459941317,-5.711950811976675,2.9752539514929652,0.04930398729098976,0.963266919637247,-5.608103864805364,-2.8702928288179588,-2.6060832783767762,3.869551206804228,4.078348362542903,-6.429502424539735,4.997308519531506,-3.094096509543011,-2.871556078901654,4.398901327954766,6.056105724971296,7.513641805732073,-2.794005459688967,3.016714279020527,-2.953369071865996,-4.166478018144822,6.261739993742398,4.854985976783102,2.2004710985222067,1.4270604543682706,-6.128614397358454,-6.527648041836426,-5.977055797420155,1.1540646480901846,3.729975293114272,3.1025447835041087,9.832322266661388,-2.081202186919662,-0.8636167817725041,3.4547113852380384,5.3085668816639275,-0.5622640194199778,-3.029338550834848,2.945204082324866,3.428283457241976,-2.5231936103609667,0.10527043228955117,-6.704424974825263,-4.177289985359301,-5.605522677670508,0.37128112653177975,-5.307099497373953,-5.000738789991061,-0.147731313136622,-2.737074054649169,7.673984727093746,1.8545888018326389,2.3187690561731498,-4.509033446340875,3.180251344404336,2.5058909136093575,1.7988328954596253,-1.0514698036711196,2.7879615447419295,3.634357958009967,1.5918369938252306,0.01886133557611295,4.539383507323269,-4.131960574161845,-6.872891642695363,-0.7399690378547744,3.2718919938612276,1.4782908362238718,3.928673009793983,0.6283627254789873,2.3798060024460157,1.7715190632693258,-0.13321560932144694,1.877524533039416,-5.509277189806276,6.092157538149041,-4.6275077393322555,-1.8177125827010894,-0.33035516905023615,-6.80553368690977,0.5682048652573339,2.9750849889525792,1.3271195074796618,4.407987157851144,-4.8519752364680775,-4.512093245790583,-3.717384959496698,-7.198620252332677,3.6986835038091144,3.3221994917210713,-3.8453337548695044,1.8698200737304878,0.37832386910181637,-0.4786442724273836,3.381054284478589,-3.319807273065525,-6.53696099632355,2.574524283086629,-2.169640430256663,-2.485454821480015,1.0763050367068248,-3.2708667700076712,-3.7300761764772687,-4.2589131525227355,2.3598547759586928,0.14503989888012986,-1.8127131752385528,2.5071343371917254,5.4739467499401515,1.0544725247380502,-4.54620280432614,6.603563288273491,4.448568599526409,-0.4288786576246865,2.436364072984332,-4.41516838852226,-5.120727303013817,-0.34940224030344474,7.607670327316464,4.79333537136048,-3.6053697922100296,4.154111163503813,4.478244478730337,-5.709659740185608,1.8414271463774312,-2.622266015385696,0.8557106440015835,0.7827042173638598,-3.3043331451377553,-2.6460662165358255,9.498689092681026,2.9056646143831517,-2.9872961182062068,2.3234472362596064,-6.264881637429101,5.262456973969859,4.367096693123431,-3.951279566443511,-3.71347409845108,-5.221024895814761,7.507838464649502,-0.9220484811256178,4.061918534298463,-3.1928384594595585,5.307329808734613,0.6097586863778633,5.123446948182761,4.39996761379936,1.6764423566681186,-4.347498548207984,-3.0469190144979317,4.127509854153919,-0.6767356846160834,-1.9976598466543494,-1.2267326084092012,7.28825810057913,1.8701391226477444,-0.8786232804696326,-1.7912065425687138,-4.1404420250781016,-1.029609747786231,-1.0570975514903038,-5.7840376311268225,-4.904172285885304,5.1113169789937505,1.2111530144073281,-2.497139128053648,6.113738031629376,-2.293381257117404,3.561851989863689,-2.380702090314137,0.37869592912082606,0.3642627226396993,-4.924886035700178,11.5511578345365,3.0548284926653233,4.112713215545753,-3.0682590191201675,-3.1478210595245617,-6.633449273967038,-2.9378582431102944,2.2445733917149946,-4.493248045559424,2.0719973668769174,-2.159542908053575,-0.16930298058239246,2.948440532800655,-3.829932541822763,0.4328404189154549,-1.9165760955026652,1.8918492462975174,0.4406596120237934,-4.077396148496012,-1.3685655300134059,-0.7619543233708097,3.1363427723379362,-7.1639006759846735,-6.276633800426382,-4.634481443503072,4.0918546098419,-5.705530804615399,-4.1568808784217515,1.732415722380257,1.299543964232801,-0.3403938939906745,-5.325296508851536,-7.04779480132119,-1.6461775327341224,0.31911201597471067,2.153084932114915,4.616850364214344,5.864148516938398,4.4897070817202245,-1.4982567647035345,1.2368381108501803,4.040630594076546,10.387240345046655,-4.385004208435045,-7.4947556518307685,-7.131115177182627,-5.057881401101388,4.649488261599489,3.247544662764164,-3.021656709589262,2.0372246948140447,1.8192706831670107,4.2206749861442905,-0.045267579335221624,1.2515851861559295,2.9519019282040952,-3.4301454265476408,1.4057936111355207,2.06865033157306,-4.330595575148114,-1.7411718801677827,1.24154656484561,5.199466239032431,3.5890874371343044,4.461282266513531,2.3011034732196127,3.351682258302942,-5.494263538749733,1.810643538018229,1.7461657574113199,4.726853207166426,2.4366217270663064,-0.6367581650011613,0.5870091688902453,-1.7319407820039017,-1.7197468325415985,0.912262187240828,4.491200784423328,-1.2849893057144333,-1.9802352241020849,2.751084351007951,6.635521901565613,1.0759164299674282,3.777178789992581,4.982142692988529,-5.696883983323238,-0.6778177722462967,-7.353664376857003,2.516605432318071,8.532662189508422,1.1701909440521494,-1.0480808002108797,-0.08651997060870593,3.6219126675609643,2.525406116127374,6.133895460337467,2.330292912602469,-1.8000829352995675,5.37668176206706,-7.071293973312474,-2.267683024969905,3.1488197578722685,-5.681773986621096,0.5536940255852388,-5.561958083961886,-0.4258890536865952,-4.671561318383637,3.160875351598767,2.5830489285947493,4.267764204755148,-3.544549141560361,1.619115055335687,0.858170780432136,-0.5459235371296147,2.089781945372119,-1.7444838381630983,0.2941763335392331,-1.4093330893458684,-2.7758826146081463,4.003587999989097,-2.847098803349177,2.026890489921226,-1.5432178596388506,1.0954731243098608,-2.5283587738807567,2.6326154042985443,8.421158094900482,1.7048894173472076,-0.5653787927279856,2.443745840168092,-6.356889625457479,-4.842547387944301,-2.8966428191657334,8.443571538014044,-1.5582401463479343,-6.322476441363765,-4.85031947007977,7.522658483899701,-6.911585380810219,-6.98314191029288,1.032865582919628,-0.13328805818904055,7.902631636607084,-5.889965471903366,-2.397930245699738,-1.0515171172181383,-2.8245820582275787,-6.557079547941622,2.986755277600093,8.277985718487981,2.7191703708077783,-3.811827484840966,1.68989966455936,3.9596484157879885,2.09662095733871,5.163178064603441,-3.8555918030600775,4.136240025048171,-3.237992265095623,-5.575483831870108,-2.4432098516720004,-4.913745510347689,2.116850326224532,4.427520415441815,1.8020113695361077,2.1218529773273698,-3.909322854441682,-5.285457024453901,2.775861589440002,-0.3297282113118918,0.8992008905478747,7.506916773269132,7.627012957288864,0.5941150493731728,-1.462284930414674,-2.1681543606581397,5.089529152413061,3.654778644663121,-3.5394467736764765,4.161565024023517,-2.9656504791826355,3.0045158119967272,-4.557855408571318,-0.13379881803595758,4.926371326096824,-5.443539547128615,-2.5583931670565883,-5.841225240825273,-1.1562640439066507,-5.228371136455146,7.0577442596867055,-1.1520036805535705,3.9711710303472967,1.7256156702385441,-3.3916685514126734,2.282011415756287,14.727130748707166,-3.01834623109414,-1.8032280439065163,0.0025018607521670546,0.42168227566549865,0.7346734369301869,-5.631440665873241,-1.5225706743671263,4.247688644681539,-0.916110782505808,-2.630080908640324,-2.0983970393797162,10.051466174001376,0.22488211724446994,4.927727250798927,5.97452446782171,-2.0929528610149104,2.1403957732518624,5.933526120092669,-5.32944170071421,2.867446221704076,-3.9948943455799633,-0.7377317810581105,-5.290443512706773,0.010594031046988474,-6.658424800218433,-5.337601854463402,-6.010700996518753,-0.9928656444861836,-6.527699548242868,5.830652363606422,4.4044310300839395,6.934639356576167,0.18614644719275153,5.428812334836957,0.2355109786098429,0.5029903445536477,-4.761853695578613,-6.877417549296798,2.9411585853594304,1.0639797995604876,0.3260761002444256,2.4995375545620133,4.109491488862694,3.4905965939207935,4.959302308202,0.34157795680906944,2.75416980794453,12.730269107011086,0.9265029091456095,10.770656509515968,-4.214256113107205,1.222436003414577,1.5521830684868834,-2.2764344327564188,-0.7682193162066906,3.544502799103359,3.163954985347632,1.2859352412595755,1.3876467334528586,6.703127282079821,3.435734641539472,-4.975464076785309,-0.9284106777337646,-2.437841142545454,-4.146255883420657,-5.288122243927963,-4.059100400122367,-2.2862088207893523,-6.448698525280135,-4.705962266074803,1.7086659261796053,-7.258596148037173,2.9239698037206847,-2.7952281758913964,-2.5554861406534775,-4.857047497923363,-4.763428790634409,-0.18525282580952845,0.3690296390252909,-5.464944551013188,-0.42689900572964695,1.4077518261067694,-0.33490090376983467,-0.12229041057026102,3.3680481784137903,1.4172119763833249,-2.936834488909513,0.8995048587606898,-1.8524520588582012,-0.5503262326888775,4.073256042636793,-8.238102914366765,2.490746672303825,-3.5600812769371846,-0.9559927655513132,3.6743966026366635,-1.5692201879066743,2.146408369330401,4.568853597574641,-5.344257028880743,0.6264580585783934,5.065741088531756,5.0497442123355265,5.016235117076283,-7.377252509383939,-2.279685702474218,1.2712225315524273,3.912552001635358,-8.560518188793397,3.894497445374202,-1.9438763578150164,1.8018793111611549,-1.6483011339153366,1.7542742535303448,-0.045136361989206314,5.98983126729662,-0.7302392120876819,-1.0668090124155976,2.587035417748634,-3.4383713429323457,-1.792296356327039,4.853092286773909,-4.942764160107573,1.4264897864139312,-3.611221397234966,1.1800200634019982,1.5495158842042245,-1.0859184073976693,-2.2689619858018175,-2.0988932267584413,-7.769946438017928,-0.7812780724665712,-0.4162791757696517,-0.064857475854693,-3.308593222736707,3.9601186123681402,5.999260517853993,-3.5670092770632564,-1.2016452196818153,-4.942326719880817,-1.0671271300674117,-4.813321200312026,-1.3841086629905894],\"xaxis\":\"x\",\"y\":[-0.49269974498893526,1.7540615052401156,-1.9291566761617005,-1.25262505605292,-4.78692330587808,-0.6510887123905801,-1.5919598964473916,1.5728024463636996,1.1177048223407915,-0.05662432836574702,2.2448693078392545,-1.3596676297472532,-2.7764896651367446,-1.7687836458820898,1.1145968867385543,-2.833280126127972,5.819957506074459,-2.011727125174589,-1.3833410305290517,2.407769180014037,-3.2405784413670666,-2.114164518515518,-0.5019583797210994,2.164096163384972,-1.3576426622222808,-3.584778109484125,-1.7986825873076848,-0.9985190470670016,0.12498329548972069,-1.8168814904207657,-1.2592377973075082,-1.1417488833967966,3.0734604546441275,0.3126682917603479,-1.0626928092141872,2.030129170182858,-1.5486104021735052,3.1653026598008003,3.2659165759561395,6.6416574655540215,0.9825996081043455,0.9184522443958673,2.8073014171279675,-2.4951966188277024,-0.7063092735596629,3.555153070491222,2.0287310715726874,-2.3367802962982425,1.362747576359561,-2.267277388662704,6.289630735871016,-0.24871682141901869,1.9016004987399209,2.676265033971806,2.7821990705597295,-0.05036298722703356,4.266396127710658,-4.059273180027821,0.027729377825611176,-2.2803837185072515,4.465221298144102,-2.0817799564979955,-4.904858963983604,-3.6913010716958663,0.2665016604995257,-0.24779214812173353,-1.3954726003032965,0.12213744250073102,-0.009823777674041148,-1.9730165769005685,6.812723589944378,-3.519699821279093,3.297950334492264,4.6911096708061555,-3.710505802679367,-1.6296776430711413,1.254370934294679,0.7627528457268168,-0.03775662665874432,-1.1514679850443397,-1.410365814814944,-3.8288261790158193,-0.12204346141494932,2.87349046629113,2.731997802130548,4.890058037056256,-1.2404666499192336,-1.9419288759376274,-1.0421269946196634,0.7877132837712232,1.997635853561297,-1.4813562962351297,2.0173432672894673,-2.223341089050715,2.3133281762259275,-0.6819605514922008,2.6859366942678347,-4.7390123153356365,0.4572985281068139,-0.29021133140341876,-1.1086779189936402,-0.3363139563274207,-2.4995542205449186,3.4224173285156434,-2.9803708896717893,0.8977519726332743,0.8857298855387977,0.9060836841750293,2.3601019154084706,-1.5783584976198808,4.173587476304492,-2.489545074675218,0.37191495102580846,-2.572926755922087,-0.23589250730322062,-0.6994400900871339,1.0363460008134033,1.5636432283316792,-4.113470423046646,-2.8022624540051093,1.5430324433226437,4.2562389752863075,0.3413143019441542,-2.0032925509809347,-1.3910466697082926,-0.1999778102560052,-1.469973764034747,-3.9925681580539067,4.3575708525992916,-0.3436055701432072,-1.3754668132149945,-0.5862831418376664,0.07921765295015948,0.4581148963378881,1.8656765346227977,-0.7013692438134979,-0.029909892116718458,-1.835719247510593,1.0880938860956815,0.8847164404283313,3.6045853544861997,5.069137049766903,-2.2278925961248173,4.49890234136893,-2.2426930607098705,-1.3451932097757435,2.0203031311463264,1.2129894402091745,-0.532774301839926,-1.567565098455976,-0.23519205315446348,-0.0547065421304595,-0.15457782216188728,1.5156692214261245,4.06896372705647,3.582908937913046,-1.6895848650985545,2.6867199375173367,-0.6592058385344884,-0.7951376502105242,-2.0969338972448353,-1.0321838894454367,-2.3064464762579417,0.32711495422547077,-3.7591189848801143,-2.210490405382443,-1.3426467522556373,-1.4347903188329234,-3.435603583630118,3.580654185722755,-1.6013177713868836,-2.2598265700300275,-3.074809932992328,-4.087941608015666,3.654937508911373,3.356163144139793,1.2118659330648673,-0.9714861599400747,0.21343898427019456,-1.4359905048718316,0.21957423638348794,0.7671642466590908,1.7548494493715707,-0.9074738327261646,-2.0925111277200887,-0.06150166984759773,-1.2666807963647844,1.1944320327288707,-2.937558483473023,2.833220535563274,1.6032351935791944,-0.0709795160584563,1.782351065056263,3.9390035730541295,3.3091392040907186,3.676652897811374,3.8703425905854614,-0.2612219993982787,-3.5509555865102835,3.448742472726313,-0.9559393190586494,-3.813966867885593,-2.052798857182428,-3.5073936515356077,1.7681126533306843,-4.620330855169114,-1.6981447474859621,1.4059966899355112,-0.6431454438456625,3.2979060959972304,0.680427154960586,4.760477986190614,-0.9490037112471424,1.625480286456135,-1.151359022731216,-0.7480842587615347,-3.495207091352632,-0.5022666405153966,1.4900033011165852,1.4752056535963503,-2.0381983887395068,0.4985560073517025,-1.020251791264001,3.2123968420191833,-1.2045047716062884,-0.9392361456030653,-0.5780896416314659,-1.9038656532374463,2.637784454405823,5.30036199410122,-0.9638594910885376,1.457043835558078,-1.137679233562275,-4.220447036589417,4.9385493477496745,1.167355399173163,-2.253349391067773,-4.594376493771105,1.3741810459106483,-1.5212487433866402,6.636828685329931,-2.566620755448892,3.3881267633258205,0.49861920830072615,-2.0715055043788175,0.9841322319027501,0.2594417835200294,4.706220846936249,-3.3022661353425997,5.568311175701563,-2.617972718429577,-1.5924008324525594,-1.2428171799929633,-2.7321976725775134,0.5807686203732554,-1.8602074714158936,1.3892502057523863,0.3551616040837379,0.5886101109617978,-1.0699167129390876,5.737833496411186,-0.9570186659879436,-3.4127435118379226,1.0152070586944542,2.871310539764515,2.253804929017713,2.814372683485797,6.376915487822996,3.123080831091854,-1.6542170615513818,-3.30965567816586,-2.1611302755418493,-0.5959797063544573,3.4358766058617722,1.8805819991001582,-1.7799264059070092,-3.1711323724886076,2.924769520068716,1.720953310425909,-0.7298807014078501,-1.5561560586492844,-2.3505359474535203,2.7489544888298587,2.700164816720239,-0.06868690696448758,0.04417211108912455,-3.6544001251469544,-0.09162093662556323,-0.32597075087361405,1.8285314153684253,-1.933697400217574,-1.337734364250419,-1.408289893033055,-1.1752121193423124,2.5036968738073,3.242492518714715,0.6464647958737282,-0.2630204583691977,3.342349339265868,1.3862407546003552,-4.773226501314296,-0.6914318820757754,3.672225144681512,-0.20464779729824142,2.4344974053474453,-0.06248275902294548,0.6887353881890932,1.0866638049642958,-3.837132454738102,-2.861745857316758,-1.3041773079793415,2.0049535413439235,1.8030796246003438,-0.4569602178163083,-5.396843765218654,7.013105491869047,-1.001830254732967,-2.9570907980633234,-2.6939944420309754,-0.5329324625118425,-2.1618870735316187,0.3729226480357298,2.8521313746572923,-2.946323986870201,0.641686078301076,1.6385952272837883,4.35413515215135,2.0907446182032565,-1.1020504340532564,2.2028913130232515,-0.2157949460983031,-0.03888803156912002,-1.2708849075971926,4.886401232657142,4.743898191653271,1.1121397306278729,-2.630816392075299,4.548788820523638,-3.3136596229130797,-4.759842483301428,-1.3434842353710401,4.418859393171552,0.10385055531725805,0.8538491255534327,-4.568000876159908,-2.7503284994283135,1.748481537969591,-2.459738715445454,-0.5139671344494653,-3.5040062384779977,-3.189800706512304,-0.7637021807916151,-3.4752908875119655,-3.6319012858494424,-0.5885467656618049,-2.4896806982453317,-2.401126180080732,-0.5117329678649651,-2.476502504773964,-0.008743594201872982,0.2079769138767539,-1.6840593962216084,-1.9797125168445346,-0.0664227170419511,1.2523091298656488,-1.300427072074441,1.6970716114541964,-0.6553246462154146,0.5568372248987183,1.1205938921252743,-4.661726902825204,-1.3639218140959983,0.10984779215531382,-2.6423560224302323,0.9700525207916332,2.9653307273315,3.392722294729916,4.166870429041012,-2.545183179669761,0.01218386947578078,-1.3558071884001757,-1.2918770507341026,-2.0533008140048032,4.158695574791398,4.0533828588120455,-1.9093713278204612,0.4778071271782041,-2.6725451239770175,5.330359124801083,-1.3864445376338248,-0.6541251826343883,2.830221665709661,0.26402766121112436,0.8158894156382026,2.9717145624186934,-2.353484229095772,-3.555426097958133,-2.0587164940664895,-0.3929795042287584,3.788242552514893,5.8392363678990895,-1.8197433034904995,2.9864385105169897,5.051784833387841,-3.0182749048201947,1.2328867853148575,2.195427428876975,-0.41364865373305,-1.863392779000841,0.013225653312497901,-0.010968069448211415,2.1489260820651923,1.8199889027475118,-2.035127884643441,2.9709288841585813,1.8162169177634293,-3.8306638242015527,-2.2227105568923378,-2.03595447251105,2.78108729202283,5.228451559813565,1.5188843312421192,0.5038892493732179,0.04479157915935856,-4.764046339333929,1.9508432813104053,2.868050130826676,-5.24812707607763,1.1436941911068552,0.7001932518910544,0.6139873077978143,1.2576467675441176,4.419168256308414,-0.6253693671503102,1.937167453521663,-0.9957757378759949,0.9412427236284866,-0.38805301613196497,-1.7829126655353658,-0.6932557590870124,-1.8905249832291737,1.4012347416469155,-0.24367230880151844,-0.8334363561867312,-1.285548091677181,3.938139028841819,-3.4330817746990974,-1.2982373222363184,-2.9666373139995517,-1.8498472274280884,-1.4824594656093366,0.02513761439021102,2.1942716775288567,-0.3548679194908915,3.2671734856155195,-4.444146748760193,0.3019007683384544,-5.218362251988415,-3.8580467738230952,-1.7320320481384481,-2.5777661046179396,2.9864623278897344,-1.875542708681783,-3.4060554629500013,4.023052206875834,0.7212550057966627,-1.1241747324519495,-2.47122791094103,2.1701574115642566,1.2806015634046295,0.9729945863495637,-2.8516215538438807,-1.6282097491829377,1.3264509851834663,-3.308327126137204,5.575938642111342,-0.3794718879043879,-1.2734017415670056,3.9802351803093994,-2.2291552581169465,-2.5991384631753247,-4.209940696860645,-0.8039513844085658,5.4811226267337885,3.4205186181905103,-0.8033993055197974,-2.864161348207739,-0.194961674141146,4.1718062082724465,3.121817597745382,1.044634384687666,-3.569761809965231,-0.4011048655654813,0.5941950203006469,-1.3639053347852665,2.4148385651663067,-0.351240401127346,-2.6099410902210813,-0.6172330008620374,-3.5689871602395913,1.0362306984209944,0.2904665078176277,-1.7342256787930652,-2.3404526330917865,-4.126198423585706,4.027705210536401,-3.611850381530691,-2.9706847036094226,-2.187459264849712,-1.1184804425516461,-1.0291969947826571,0.40111489619047935,-4.625100975224615,4.092138483554888,-2.5424590150573962,5.340881611095299,-0.9282438178824644,2.165893446938769,-0.6110416995505066,-3.448071704261988,0.8867115996353668,-1.6499409801263647,2.2189755127234023,3.736094455953032,-0.514466887432802,-2.288963412395485,5.196901760365448,-1.9201808175065938,-4.112591898114587,-0.6566742566129355,1.171382776747788,0.3505635784434242,-3.7552228312799256,-3.7193523081805786,-4.6536152713710885,5.463875161900933,-0.6261059350802828,-3.5292842396395456,3.3092971230554227,-1.6699073208163884,-0.5717457923960853,2.886568796788863,0.2510273913648814,2.6283063469290924,-1.8263292883248532,0.40286221776856806,-2.933264917312566,-1.199266965293433,-1.267071640638092,-0.7225410463085521,-2.5806977487717098,-5.163355491391629,-0.4659920380306498,3.557368602695643,-1.1557662982972574,4.375765585068539,0.05734431355074351,2.67660928646697,0.7908730971329189,-0.47558555637281474,-2.5510623887855695,3.9231171343415854,2.1017258874494784,1.023344295082931,0.8643641672206867,-3.8455230852377906,3.3310579929140576,0.7645881364212663,-3.6343852894856883,-0.23399696270296685,-2.559615378490729,-3.2278882179975237,-1.190024228961207,-1.942066845359528,1.3355133026928,4.987317672348026,1.565020637766576,4.17528512610782,-0.951963025049701,2.886515879166182,-2.332707580183837,-1.8110647182300383,5.868491143404453,-3.361706521083771,-3.428327525905621,-0.6166136288912585,-3.708427787165195,-1.3299138711006773,-0.4260842629462692,4.852133167919351,-3.2333195291595063,1.0107912720688366,-2.1384022929729056,-1.5965856139899859,0.37925589996189196,3.201193044267726,0.6590193482750729,2.2661543340147117,-2.1270800965137617,-2.350164363261541,-0.7987044043067298,2.666972703078112,-1.563050739656455,-0.7155207821503413,2.627265374403689,-2.558483891377232,0.16902898889148213,3.8406430302211505,-1.6213497081892578,-1.323270959362243,4.201079336779767,-0.446275464646836,0.15860858065857023,-1.4291500466182945,2.331186763536954,5.574639483115556,-2.4097327198389653,-2.33887862139125,-1.135216254708621,-0.4133901468682978,-0.4850810854149658,-2.251681115311551,-1.2043969196339959,-3.0390365166741855,4.89468970621686,0.011078940055395357,4.700705812596585,-4.2564674351057645,-4.0587010127734775,2.4157848172215703,-2.1606181426693047,0.5698892418146876,-2.001854402187491,4.058093329435356,0.3196079018637191,2.432767532618121,0.6339771851691487,-1.6018997692279142,-2.2487486539951167,2.577769250927844,0.30932509484300286,0.5335531727026076,-0.6203472231469463,2.8453813642838703,-2.118201780654052,2.0508890235847463,3.920472307115307,-3.8601754092717493,2.9276020814703965,2.9130950154788087,1.7672834171669407,-0.5455261107796208,2.242901292672604,-5.6164769430291495,4.414393248010283,0.6049004925883636,-2.1912855450492206,-3.0318081093481126,0.2830469094138229,-2.1861092992592157,1.9899250285164254,3.92359079938244,6.846889442002665,-2.638393735450004,-3.0816259464499094,-1.311544292965387,5.6388136152607515,5.571892296967714,-2.2856381440242868,-0.03391292891436779,-0.2794533045579338,-4.493335996386588,-4.538628241289597,-3.5416745509581258,0.6159773355944367,0.27504209694765946,-1.008248197548871,4.272816285807671,4.557977964941558,-2.981428941073208,-2.904699335143855,1.154231243160369,-0.9046862095394353,-1.0340083768733233,4.218800780743088,0.8267395401163352,-0.7514334169688327,-1.3303907336364187,-5.028011960938607,1.9832395086941232,0.679988187019276,-1.5114187820417984,-1.6316907411614698,-3.535873941704554,-1.6795614757008568,-2.656348836137315,-2.9628851043992084,-0.8705288410012788,-1.4137702057723942,-1.3691384189873739,-0.9404625360552034,-1.374263815655254,-1.2925576343692056,3.8388465130149587,-3.280728322869329,2.1723368499040667,-1.2070901516118504,2.969046671178515,2.5235646469982185,2.1884156422362833,-0.401861268091225,-2.285127506632611,-3.2304841151742623,0.8100980788492163,-2.0878324436251177,1.204296785890808,-2.1705827753335805,1.035036077116012,-0.06270304637404965,-1.0558385325405193,-3.1322111015490073,4.9484833049176356,-3.2438726734613,2.2991779575401705,-1.5301210683278206,2.562501639847367,-1.8242756759188943,-0.8142135567211441,-1.9943776959776498,5.707558453863918,-2.848957411553027,-1.2385123300021432,-1.8194523523238568,-1.6452477137422403,-0.07601969405951774,-2.66372966275779,-0.9623478582335138,4.166447677197235,-1.5825729505978283,4.04002885025198,-0.728827884467595,-5.059210608156747,1.4928392064294245,2.387677509168635,-1.8868492743013217,1.5000463503473915,-2.3618837234015015,-1.2483309848921265,3.685343373076344,-1.5667475197545104,0.7798414426801198,0.004701443462354069,4.860939966350269,3.1500228290495107,-1.0469423120238974,-1.0478439473321757,-3.8277513961022214,1.930826292030629,0.44999951948316996,3.6237621420374917,-0.2736004585265237,3.016473272101086,-1.6912801843653325,1.3587457873116926,-2.4324718759735067,-2.306245105946696,-0.597201428030064,-2.3213599276390107,1.6975622527079122,3.5801603145046164,2.2688691005861115,3.0488245188159864,-1.88738885316752,-2.577678140551694,0.3048285982371703,4.488824158740127,-0.9036063451731503,-0.28495057938510077,-0.005769660954582738,0.707649699922345,0.0011469737560369784,-0.2687723451149085,0.5503126125831684,-2.151066989158469,-3.3712344555704195,1.217730646210698,-1.63841076171854,-0.07961064682658367,4.0212107577564575,-1.1288742535738991,-5.554189526307459,-4.105400112043827,3.5347448312868543,4.270819220230268,1.0362608903997081,-0.49680348063895263,2.293740172139086,2.1786137307460174,-0.5655670992923945,-0.35738419411064454,3.4824038423569412,0.247956163506223,-4.489350236073539,-1.7561117194049702,2.5227539010271527,-6.160196505326464,-1.26111328806936,4.3242838880566445,4.749216330157164,-3.563282502093823,2.3969888989136505,-0.8570264450291871,-0.13270079125545217,6.332058577737758,-0.31173712276623455,3.651945525910142,1.8456133245704507,4.924465035665258,-0.2026267042311551,-2.6373635687125376,-4.068144175052851,0.7993340871188831,0.9773797485551862,-2.9526366100964534,-4.580156079603549,-0.6824286884839204,0.7167288775644911,-0.7919572097450016,4.811982188694946,2.755154364371262,5.109081969484051,0.48702189224705106,-0.17148870444366876,-1.3364063795545453,2.234697016958918,0.28022921208907636,1.9398136864147486,-3.046316517901585,1.5803183746773837,-4.6326680965066,0.16958317886895188,0.427676032899216,-1.962603884515453,-3.618553357237105,0.7214383083015959,3.893634988215353,3.830698496864363,2.2178993750220424,-2.267789773389007,0.3093016065591969,0.3037014348349879,-0.6863125428490633,3.6715585950388636,-0.34353437877329435,-0.8331014262230536,-2.664113693136397,-1.5108113087471695,3.057224758836655,-4.345604626395672,-0.662042475933337,-3.0943008467601647,2.4358889341192502,1.1277030437860525,-3.0769537909760256,0.6611856655801205,3.5136845488679347,2.4626790551710784,-1.6082695072625437,5.079764862929794,1.3847374410012079,1.5097260611016803,0.5050124426933749,-2.538875796624651,-0.0677698572919907,-1.426241184680715,-5.3742009079951885,-3.359526436281821,0.4770913762333627,-2.227757925756633,0.20510128427291666,0.24750139030097054,-2.2202846467000015,-0.7695921975969164,-2.6397153822053165,-1.9081044785465846,-4.464886636255589,5.1311031969522345,-0.5850098623079909,0.3936910948711724,1.993187189205805,1.5988269948309113,-1.0975601835715485,1.9116714778466788,4.428632792364316,-3.2892274924326217,-1.1876002862820139,0.4061412498842615,-1.6184206549110252,-3.4299885026755264,-2.753288706923478,-0.009641023329322927,-1.174816462976876,-0.729812167049681,-1.2791043438915954,1.1362393993038387,-0.17282244465974084,-3.185780241407072,0.7486550896752934,3.0898993992868196,-1.7716812490431115,-3.246426091432155,0.8818394499077405,-2.1161174830600467,-0.2647491482748124,-1.3019704505662433,-3.928032813674221,-1.6340929560193764,0.46227049985568924,0.005797842262523458,4.9667314227833534,1.1355449121603858,3.8988468214722376,-0.015412554811954212,5.755433818670694,-2.1070076058358795,1.823590946576128,-2.4889715993586,1.9097326928949667,2.320760688432,-1.7530869280042614,0.3420675451979107,1.089830933732529,1.264939157141772,4.510665023821539,-2.04146423067217,3.010790053837838,-1.0086836202148028,-0.9287558254508159,2.4362466713641737,-2.4697336038199458,-0.9771930150663727,1.5706033769818355,0.5091941085024472,-2.0305709963009053,4.743206367303322,6.597757352136333,-5.326941692857221,0.8574698478824943,0.48045554517624595,3.1359757116566214,-0.3235172026467491,6.367783169648556,-1.3128817213156603,1.1693076213721674,3.3198257729963365,-2.006359243475228,-0.8037908695793053,-0.6891693271888862,-2.0940561984327792,-0.12436745158760097,2.647529409494217,0.8762601227172986,2.7256532263036073,-3.8650262155306088,0.5808415579493469,1.0466063024516645,1.2270427995002913,-0.8109766443917068,-3.0572183646401805,1.1264198412013393,-1.6216883238635478,3.140990056682229,0.0006405484524275557,-1.6901389074068403,-1.0690130923334669,-0.12306785691515418,3.3653219699857573,1.5720741048225138,3.9517528637821338,-1.3262470782594302,-1.5545225504715061,2.7494702713925014,2.9425762594418288,-2.5999316544769573,0.34436392642694885,-2.829414337042702,3.3086564923096358,4.0994917723700635,3.257936830950235,-2.5280763709117915,2.6029520962035906,-1.2652935346868608,0.5484864958372218,-1.3925861992718698,2.140380130778179,-0.6173123097954332,-0.5684843361634118,-1.7323652482784462,3.7886291743209184,-3.9753211084691413,2.9469489113743457,1.9358293796545836,-0.36422548375522995,-1.2622897811004217,-0.3232187751597199,5.370658690347582,2.508204116304239,0.2865447635355962,2.0578760910032825,-1.320035576548832,-1.2844999653725764,-0.40782869114245524,-1.5395084084324073,0.5722043819711544,-1.3033418962993053,1.2357710740950083,-2.348154969993226,-2.593626653658907,-0.704889069402156,-0.4387667464824809,-2.9422339219732097,3.3793290051592937,-1.7932798597542876,1.5949902080242315,-0.7172547638442208,-1.165184461121212,0.8693529231032837,1.9842883149688457,-0.47940364786955325,-0.9017073997455881,-0.5476550774076792,1.6062810639477305,2.279241556216866,0.1024479820727768,-3.1459944067880086,1.63130209640157,-1.4566284219168182,-1.2718748829645468,-3.8093758033568172,-0.3013149889733404,-3.1302476265192296,-0.13880456401248642,-4.074549843458958,1.5196716994189279,-3.1989808713552885,-0.12056133017120022,-0.940856663362627,0.3308071299445673,-2.9875298439737037,1.5897326943104104,5.502670392348694,-1.9585717983279582,-2.9016435471859565,-2.819980981805566,-2.0178180404604604,2.220473901602375,-0.40258616911095824,-2.6386457547402924,-2.819247897289482,1.7751673076205663,0.6973469332817548,2.757987151779366,-1.8996041931807919,-3.9378017325034906,-2.357919749988151,-2.04526739193619,-1.9913238003105285,-4.155491879014425,1.7216867584637028,1.212150509291869,0.07221809710079101,2.9264857179477226,-1.5745620821960684,-1.7500626658757665,0.17715162816114394,-0.3129138602241895,1.0375123579649461,-1.5788325449509508,-1.4752491749292993,-1.1622432980856119,-2.0771217262997443,3.6093069326958127,1.5650104308475146,4.359970103136452,5.435674162807133,5.889179945537702,-4.14065489385367,-2.4384835832451137,-0.3085001642333561,0.6709662310702101,-5.0622845944902775,-1.3273217636198273,0.2784419775482103,0.8149695366981701,2.275352688020297,4.5306594076149125,2.4221337812480797,3.7205812675248233,1.8120642376575593,-3.999310698054349,-1.761796486595239,-0.6220375218432479,-0.06736392089898698,0.3844619488739783,0.3577535166434621,-2.4897408548030455,4.229689503731613,-1.5761569957983443,4.677980475026035,-2.7300379787097295,-0.06765265618056433,-1.682917391259154,0.7686765688122884,-1.277229470790639,1.6329088226928352,-1.6135845145448229,1.2274806069030355,-2.45812093316332,-2.1149608942070404,-2.0163879291887303,-4.336841391746828,3.4569414013408397,1.9268988386786785,5.0764010522393495,5.434075995868603,1.924001794731421,1.1144404383602557,1.7676583252925513,-2.4393467698861975,-3.2902029108297755,-2.309562052007679,-0.6745547365377667,5.008875027202259,-0.9800722915625638,-3.5851824110792108,-3.110757192635128,-1.114904035504316,-2.11598800354332,1.9889733788481747,3.438174554716412,-1.4176886249964589,-2.4357072761198593,-1.0618668105000204,-0.9339222744916688,0.3014264380876209,0.5635157317069865,-2.58192089815087,-3.3958455359713295,-1.0600693486333082,-2.0872822341820214,-4.30596375511831,0.15986388378997615,-2.686097592219092,2.7526351416618726,-0.688212482665321,-4.3350214787071755,-1.1152917819065868,0.21502670158213238,-1.0086266273288917,-1.1632816781006803,1.6479317919748033,0.8138528756696797,-0.20736390823112197,-0.544133700429513,0.06119302520638036,-1.8507188687546288,-0.863506840430047,2.3356358881643335,4.385351641061711,-1.4788474973382808,-2.419728153165285,-3.0971277829585224,-0.2864034257010541,0.029078512947867705,-2.0858088500562575,-3.678163119472797,-1.0819805794483472,-0.548314608115884,-0.5837779169086695,-1.2022826833906601,-2.5260239444840193,-1.8932215635754892,6.330332910105511,-1.8538199442698255,4.852178779016205,-0.43158722862745014,-3.754694223113824,2.1862386826443965,-2.254884550172976,-2.1140020573512768,3.0942541750376944,-1.9471130651939252,4.689478509553194,-0.35580647980543156,0.4503354549188648,-1.9637457098950948,-1.6979820571286883,0.8073233073941908,-0.2218023635226683,-0.4485420521884183,2.244754687965634,-2.0629846831702596,-0.9791961641723687,-2.5195952708223137,-1.0943178444902164,-0.9786662871586077,3.0031212487805954,-0.07905715392499779,3.0549963098643884,0.627396420872394,2.9813223616500264,2.080793560841,-1.9001783396614775,-1.008015260433265,1.418409099991236,-3.223734369817026,-2.518147709430585,-1.7205424381641095,-2.352116369564194,4.444984077274172,-3.52911099083812,-1.5152259879520826,1.3179238123869867,0.18804529373765605,-0.7707220408063434,0.5246110544950233,3.4237974537745774,-3.1488241346528185,3.4473818732772226,-0.7942406022702015,1.4295853891205783,-0.6827638005919332,-4.520240390350887,2.9855023238680256,-2.2055084131554756,-2.82644577984817,-1.4776829059923082,-3.986676640916533,-1.7887876124279551,1.6885882374110692,-2.5828517302872793,-2.5308095491717415,-0.00912590662066043,4.518016005569596,-1.3551941447595568,-3.2664136283183347,1.6558079647896857,1.15559752881191,-0.5034400326153106,0.6983975071737375,2.635364115740927,2.4695895034963145,-1.019899495180847,0.7787157782196621,0.42108689095054996,-1.7585892078662262,-1.90703964596051,3.4252880481083485,-1.40128278325782,1.3046165926657263,-0.433985935282153,5.397681305554341,2.2110345052449407,2.363390076844984,2.602462132224255,2.248209480676855,-0.5137638631674929,0.2512415810136328,-2.5965075258292942,-2.1189696645602125,2.9666958544753355,-0.458951738555402,2.9636379476526384,0.7755542846603177,-3.185623040092445,-1.8515395731464435,-3.1742715844611373,1.9012101818232814,-4.448612320571213,-0.8244956451557702,2.253170402865488,2.11661462494679,-0.17709728946610126,-1.2291807967793644,-4.618921583469067,-2.290531734755545,-1.7520869607655596,-0.004340785356834849,0.3860519394252231,-1.8852473332923796,1.2812129132236325,4.760262013595577,3.8631379478396193,-4.874140943327869,-0.10680036993235506,1.7305038725776383,-4.049144287879964,-2.6663479940626447,-4.513934236159589,-1.0367913873259453,1.7317052966997324,3.188770779630564,-0.7639307750241547,-2.280055706393531,2.8842157258248586,-1.88897255699643,-1.9984499000232268,-3.132046880653739,0.3419612271613589,1.844932228812462,3.0537390454937596,1.5858453735357567,1.2830567050926627,0.3028268561712895,2.9163424369329323,2.510770320580962,1.299680231628384,0.3456378742279508,-4.500746612349812,2.6161850219726386,1.034372879945117,0.214684210412155,-2.3563847504901623,3.1938078439798283,-2.3580444738366815,-2.638827072309194,-1.9850651217226642,-0.13798427790950987,-4.5701367944286835,-2.730394099157226,2.1063209344840965,0.5574352496127043,-3.8632579558492326,3.461562473612038,0.1729143846404343,-0.15985125554565238,-1.7752019021853578,2.9030434410827635,-1.1073103877545074,2.546339029339504,-1.061787749290651,1.7386582730947344,-3.5162186470041292,2.750706424843142,1.1949407315202543,-0.6797136969332244,3.2749961346067558,7.5101961236955095,2.3025981151903068,-1.2828666656192915,0.5038872868802216,1.9043729997068757,-2.7573607568424694,1.255390219367399,-0.29412060280525587,4.297401622443065,3.47172632502122,0.023983333755286898,2.3821285661789284,-1.1301397299173468,-1.8689421570661156,-2.637898619927768,2.2403912187453714,-1.4333758125950449,6.866842574441201,2.985573189691863,-2.0477371283469528,2.7095163002482385,-2.5487364097491256,2.170700828100614,-0.7805091388426771,0.26675145516577753,2.5721253472967236,0.9206438838631117,-0.4354996617443342,5.6942811062931264,0.4777768795812379,4.840776542275179,-1.473293597686736,0.14543657667931997,2.8523552703443955,-3.6780916110000574,-2.0814058637002386,-0.5425392913796573,3.9012940209259543,-0.7354139738767421,3.010005813371176,0.8165818510340681,-1.2458802052474567,-2.443417032945194,5.365646692079362,4.133008979598481,0.378594763727603,-1.3052620548516976,-3.7909328611835513,-3.025589707981133,1.3475246258981195,3.1830054869113646,1.7846361249236424,2.138065847278595,-0.34757557704456005,0.3073558886866664,3.1168882527829846,4.631907401400245,-1.8667534099681038,-1.8257699722234781,1.6361412957279937,0.9092756691293462,1.253151475578515,-1.6084905306352464,-1.5217394670393452,-0.27775502746202374,2.1359508252624595,-3.343978577821283,0.451734894262685,-3.653744722545676,2.82645134462517,1.5497768755463173,-3.462850764429241,2.083624523324344,0.5880865211263859,3.3332960778782246,-0.891852556662271,-2.603726166289728,-0.6442040028621289,-1.424798666064069,-1.2728715062698182,-1.128045668655255,1.6604933287040393,-2.77362014179949,-1.302217503020444,1.327840230473885,3.2364541979995063,-1.3149187453836573,-2.45210328339305,-3.626980100767514,-0.41665120759027074,5.5867051917823485,0.7697583278807602,-0.49032397544791595,-0.22488942507926069,-0.19182437807669767,-1.3714690224104904,1.6107938135440656,4.003019584314556,1.6592831464881688,0.7136198872510242,-3.2971497744989926,-3.0383212877809047,3.912174510375806,-0.20182216437819375,-0.6560477677369245,2.1260588578379256,4.2060846127973885,-0.7380932639506345,3.0134377680511673,0.6437792132909048,1.5882671815951372,2.1682613732879474,3.459373247027024,2.3642307261017956,4.293702525138823,-4.359055556389224,3.540863667063595,1.7332069566889972,-1.1188080121717294,-3.5511720348593063,-0.3857206683916477,-1.1292603554311123,-0.5322366027779077,1.7959774213815392,-0.12039731803367647,-1.4024519673183555,4.58135110366806,2.337488577265471,-1.8589538571302415,-3.016305369423269,0.9016128467214174,-0.07403061879604048,-0.5841755536328401,-2.4956344001411916,-2.0150168894526095,-0.7179650311388309,5.509471869953717,2.891637781634381,-2.764214241872226,-2.043211765609085,-2.189993939819887,-0.08043449532647574,0.31005332815932407,-0.7889612603798303,-5.221504190152161,0.730324836899276,0.7391084300556748,-0.6157836065898111,-0.856560603871985,1.9064770498320616,4.151749226996135,-1.3286773661334055,-2.0617990514908575,2.3276272037409633,-0.7494910933440191,0.26443801336339146,3.9838241696182015,4.049572829534185,-1.5130734266903272,-1.8676974123826913,0.6240196294436798,-2.5275618802730375,-5.3839366169603835,3.7606201165529143,-0.38193191815121874,-2.108218566018224,-4.120945839853948,3.484875581402306,2.701558240852083,3.2326569568051404,-1.933561019474614,-1.348514138944155,4.939280620019076,-2.360110667232174,-1.0147980365437417,1.8265417628681748,4.2279049152890815,1.0401315623324132,-2.008948669141182,0.9523953004403555,-1.5802099124178022,5.018719260760877,0.551591514286166,-3.8070345264394123,0.9798564559344488,1.3989013903525127,-0.7708300416728341,0.46695400845126406,3.4956156037497315,-0.6548249436196858,1.2589681732478157,-0.6810872067449739,-2.8789336466547137,-4.877433487081305,2.1118134658889387,3.7132983466674894,5.18500378534697,-0.8423598276396415,-1.8426715994665708,2.6224481841774527,-2.5476111241884394,-3.909764025192275,-2.639505600222867,-4.679253389834723,4.719925223954198,-0.22975473381349718,0.4041421739915778,1.4476516194364042,-1.8665663746469912,-2.145705588202744,2.2181905142281333,-0.897239057090657,5.850004733909282,-0.5617099644944851,2.9078566692450254,2.4674310661329755,-1.1375868067295272,-0.7448187364757041,0.001677972731558261,4.2081543090994895,0.6169235750369579,-0.053863442189644374,-1.7690631211388501,-1.0612535570421084,-0.611285410772439,1.1381528996517087,-1.922043491784453,-0.28050310450203125,-3.013969949343405,2.1766300168385753,0.22430444457869025,6.144780605839869,2.3715031676300753,-1.7429930380824912,-1.7575728217308855,-0.8161541059235605,-1.1835440267039437,-3.8382486778154896,-1.7698924557254727,-0.6084006249740481,1.541904516411835,-2.808669803747959,0.22101098311388723,-1.7769378665465407,0.12898782206878537,-2.7897733911108995,-2.7209477019101005,-2.025082015672598,1.5351445466684595,1.132933915175125,2.033578590874557,-4.169298685732824,-0.5107569830141415,0.8215067641079216,-0.7390545435885169,-1.206736541939508,-0.8000170032435904,0.8132341040706788,0.5859225768318127,2.1058112626024643,-2.239857165136667,0.37491818199184573,-1.3621911296231086,-1.0370974513376015,-0.9718172676672319,-1.2144103438499714,1.6009560362193735,-2.5666034880593154,-3.1265391836660896,0.7556812414760483,-0.9244525148550584,2.1262309284026837,0.6097490127669445,3.453577130867556,0.5235942527299815,0.9022367431392163,-0.5309201663316331,-4.532602159993575,1.2646393156015496,-0.21769257267288056,2.6047840639883812,-2.744981946869105,0.1970175254026371,-1.9435739931155402,-1.300307756319536,2.7106633406235128,2.0257431554529166,2.9731672980535264,-3.8318591696926716,-3.5267868442442363,-0.366252867659502,0.28741096981283304,0.674844471399696,-4.398958176817545,0.7886115673749821,-4.631105582287183,2.218537502348816,-1.414527052714131,-3.361437091085025,-0.7840222082293399,0.6568226151457843,6.829626610213669,-1.1976271264650875,-0.7037134606993306,2.1213502995155755,-1.0811028571042127,-1.4134809118048413,4.412258385518246,-3.640157276973126,0.1988949313996268,-1.7291312231955998,-0.9709473876922422,-5.2820173997441,0.8792283842895634,-2.3942032269918254,0.3886572308412561,-2.762571788071392,-1.7013121173537296,3.390329376819971,-1.1726960510635507,3.0160182447634414,3.5313798817746265,5.921760703721781,-2.8767664607595247,3.640805674251511,4.112461714555835,1.767144634718366,2.6103790621275844,0.07255705548518059,3.1964154782158585,-3.272192024267141,-0.8665122732285004,6.11763785117731,-0.6882745714962932,-3.6954496877518057,3.9252536971767,-0.8599362385516867,-3.3470488844963153,2.68901921769859,2.8236044507495732,4.976166686831263,-0.790068916830971,0.6122205746497926,-1.6440390915591008,-3.0048501786439856,3.5700019981448206,4.160538775752132,-1.1870967804818182,-1.6523899970835685,0.23484553673290892,-3.430675359619674,2.2027079454080054,-0.9693515710033183,2.063504024253468,1.3082453346964564,2.5634172266388595,0.6304068688437161,1.0726009448272744,-2.92475527074864,0.3875738521012798,0.5552435023791069,1.494454326468818,-0.9671029910008854,0.473732943195846,3.5002726514819895,3.4656466915050417,-3.1419169188116554,-1.5207129152893646,-1.797376876714606,5.0248001364836234,2.413846962346516,-3.719840919908352,0.9952612394951299,4.257510306751108,-3.036730178912533,2.0469872175049386,6.246339757309149,5.983623044499528,3.011051674538975,1.0745541722500072,4.438278964492753,-0.3758443282673678,-4.447428467929516,3.906308527529474,-3.2796302188844817,-0.23042517161341342,-2.841137218649649,0.4701522460212202,4.399424595100001,1.0902936573048396,-1.754928875088461,-2.6479385409090432,0.7282304583587264,-1.909771886612032,-4.896522771485817,2.346874250990002,0.0884343136500345,5.55880444482534,-1.2799484192665882,4.406890133507721,2.5573429912618018,-4.334986187153984,-6.457674477470986,5.122525152742546,-1.7516835602047311,1.9478368746228851,0.32452638867857037,3.621565469077668,0.884024065807863,2.867535689373674,0.7149386208948396,-0.11741921001775343,3.9409784636652407,-3.5158835064882235,-2.0540683069839742,4.02124130668342,3.4014600890361826,-1.2039069106408447,4.895074768999143,1.7565182355380549,-2.2565195184343496,1.0817667216670326,-1.720056986954715,-4.35887088213537,-3.446029489498215,-2.943412587739783,0.0008655089526044314,-1.4442027209625004,1.815814033005011,1.1872220628787586,-1.1768229971370223,-5.401474308030482,4.4042436419252695,-1.382862122439766,-2.3595732363129427,-5.487318408109838,0.5310446548611529,-5.051493202214201,-0.6593957671716898,-1.235858664338692,-1.9576183814572805,-1.1705942852399007,-0.21415577683173845,4.5853871519850795,-4.226453989987661,1.2704590547932357,-1.6205018588487416,-2.487231190953445,2.6996378124117113,-0.4587928839988979,-3.34298098406144,-3.672217806567457,-3.058862689586212,3.8104365072359987,0.09801005353373528,-3.5090095312201464,-1.696754579509952,4.6111884319680545,-2.0299366258264504,4.7642321640116485,7.34516397094842,2.6460589625179405,-0.8992576977493384,-1.1290340244703123,1.985291381708994,-2.252048916888283,-3.0556515791571313,-4.5174145011843105,0.8133507180192222,1.2536517283089514,4.28782854966322,1.2043239913572783,2.622924200765371,-0.6294998164674394,0.5061379526659677,-0.02860554164108721,3.0384875089393657,-1.2625522361688342,2.492813411475737,-5.207152536225021,3.1218202046727725,-0.6214414996284953,-4.649994922808469,-2.6506182545123584,4.9649881373027736,-2.0445145543376078,-3.461318099248275,2.9360185066450337,-1.450017527506264,2.710620169328082,-0.1624371803968633,-4.263473834871907,-3.623246180358647,-3.5844780165569556,-2.8065916779284303,2.7954983495950065,0.26761192779832077,2.7346364725419674,-0.601264423913043,-1.5336611234405289,0.03442277368946631,-1.9346163732132742,1.4548744098126611,-2.9379627122929,-4.546348456233366,-1.527624014652753,-5.043773928616183,-1.844966055476842,0.07783864415746915,-3.387045736728815,1.7439607031113915,-0.38764061583390014,3.672483644406632,1.1134913190259759,0.9332282175901697,3.637001954068751,-2.538817808396302,-0.8664370911785516,5.485069997986193,-1.5057897799062308,2.575396272610265,1.7024664767145188,-1.9206527045447712,-0.90911969779745,-3.367468997506858,-0.8687654264722869,4.940742157894518,-1.6755919928331768,-0.8048771716887372,-0.0543979802844388,5.175740183854394,-2.70545143826707,-1.5864390724838495,-2.9725743355656857,0.9823832780840905,-1.3568659763532114,-2.1882945057656,-3.323212008829465,-1.13900342253023,2.43406907814542,0.3904165632049181,0.6181975534964865,-2.1803095785566136,-1.1916482354114741,-1.5770800249239423,4.196990990519587,2.4010180506325813,-3.5760238247197735,0.4529099573658613,-2.786199265265845,-2.411976698954545,-2.5580501463127328,-1.6078857820321462,-3.465500204031017,6.918998762759094,-2.963164331157554,2.9597063812860895,0.5479844185987792,1.122087199836452,1.1366446442286462,1.3290439416106665,0.1406911588788776,3.4898212153643526,1.649926125409272,-1.0399828731508634,0.9301748105320016,5.4116388032879374,-2.280568169405112,-3.2503006158612213,0.2131680170440562,-2.0613428636024222,-0.357762090120889,-0.8455859621415605,-1.8703366176477558,3.8672601290531685,-0.5406915624334717,1.930506462757375,-1.6819696447814265,-2.6031030902088035,3.059708134279793,1.0562542507484265,-2.7587166220900126,0.9709551956182385,-3.009499204251622,-0.9151999864131487,3.520719388304221,0.8456011278194756,3.5875888897271815,-2.880169749868929,0.566748971084431,2.4726179624698315,-0.23488326962781628,-2.4443730887831365,-2.375021294714147,-5.1077177341000395,-2.0164058892975762,4.379600369391129,3.1049595183531125,-3.924928075455655,1.6417998276318568,1.7257557830279115,5.5209634409236985,1.4890817871899826,-3.941152435331879,4.504381035123692,-2.5661422283590465,-0.2403276174601378,-1.8711220571724207,-2.3662706259573425,-1.2474314713067927,-0.06975414165654624,4.880062248439385,-0.07132752163219094,0.8935700550934236,2.7206458848505934,0.03362128783686149,0.7116959717892085,-2.459999793381992,-1.6383295928384722,-1.999423031584987,-0.9433330762474224,-3.384520218288261,-0.23600420429614924,-3.717211614724665,-1.6061740549025276,2.1748644552479406,-4.329205433660364,-1.7143739490974648,5.686451063436497,-1.028361500548385,-2.289101234922228,-1.3426477675240294,-2.5155579598654114,-2.951812575341684,-3.83536307344917,-1.1804433369887821,2.086865417296537,-0.6542076977388811,-1.172657754094464,1.4074527508530663,-1.6625477868670744,-1.1429465161324381,2.561659240786336,-1.996722082334828,-2.4959847050395827,-0.18668012902717027,1.4083478269657237,-1.584096742839945,-2.540555487527805,0.6215073882126663,4.913829838242323,-0.6101350253277321,0.44521857311821705,-4.249233427668547,1.4513483581156879,4.778849889453711,-1.6034615626097104,-1.4432037072163826,0.12018927384433362,-1.9889974568270863,1.3924726272063572,3.9196864926960697,-1.310312179042856,2.038129990739822,-4.187313106046026,3.932709377954265,-2.61330032466082,4.20562017324252,-0.33222133309134394,-3.8556474039631077,-1.7624790530261847,1.104167376005139,3.3986590732360193,-0.14011575890747693,2.840590030992723,-3.3246103241774723,0.26847585509652405,-2.047672067403916,-3.799767398591283,-0.9840186409446221,2.190850936619217,5.924009846295852,4.081200811676234,-3.180579401709768,-0.7431962637977452,-0.20842619340559573,0.8605219147316953,-5.413328463308311,2.093407121319861,3.6089041328373814,3.3558294630372956,-0.43218447005633165,0.2540509714225644,0.4409576276037629,2.283550579760217,3.835793039548397,5.193233879841115,-0.5808952170102708,-3.671469840309927,3.476649955433064,0.5468503151187384,4.964395991057276,2.136721382276263,-0.7879640686946602,-3.942468802124022,2.770253542998594,-0.29265027607905336,0.23866207278151128,-1.9627216673250412,-2.4050321170338056,1.044984814589732,-1.0212254626800241,0.9327449033933286,-1.1496618296308365,3.6964774153827213,0.33015817039179063,-3.8139940431354633,0.7221567698979372,2.119700725044988,-3.0212377073778653,-2.0531512695672696,2.5886923514695104,-0.012418407528599627,-0.13090336677928857,3.714661506900386,1.2737155409645267,-0.24224558777442548,-1.2992691135691865,0.6215476418504604,-0.5315258441740263,0.8099959651634121,1.6047652713142357,-2.3963372757875656,-2.7788669592579125,2.620117227932911,1.892409430998947,2.9888435999923044,0.527603925855577,-1.0635325536867735,3.339305392074182,-3.4289282895423816,-1.1237862986749112,-3.453974760555706,-1.5586644467246704,1.2400788104684561,-5.046165477547446,-2.2392051681670115,2.558005725068363,-0.6700456519606895,-1.5885287230577776,-0.3052143452225233,-3.6860700340263057,-2.120478903599533,-3.069520618654632,0.027439559123835888,-0.4978444304911807,-2.0942745753326957,-3.641979937103747,-1.5196103030384291,-1.1136996361998146,1.4089126899755848,2.314251770723399,-0.9173905034279808,-3.8478670822451524,-3.863287322219518,-1.6300381503819699,-0.7426219440901582,-3.471395963355526,1.1192098375791215,-2.1162014234583593,4.656861750209496,2.7915661757390087,1.1103093244440394,-2.6525713023046893,-1.9575640540147832,0.200434155485149,3.463657385898728,0.1243585562339755,2.1562757737008806,-4.734176001476656,-2.1694587795186586,-3.2941079071994595,2.4524602921425918,-1.9053353699461322,2.4592063048752166,-2.109319503873434,4.027761765285468,-0.3410020435349617,3.557774496079261,-0.16334977509607565,-3.24849300943455,0.12649969315880719,3.581476644499854,-1.3808559388154769,3.6508499421036515,-1.917901277264959,-2.1474627255836354,3.9607603540659677,-2.0965093278357996,-2.0167266493464697,2.136815813988785,1.476572967273309,0.07882123795194323,-0.11817931176936904,0.4822845134608291,-2.927457603377619,-0.41219132895270866,2.6104316509517047,-3.7404573230805207,-0.5281634139370314,4.809894262937711,1.0118155056709786,-1.8124018972801585,-2.793974289695303,-1.8240926727157467,-2.632331699698951,1.3945533501715388,1.6752914921378044,2.2553696830789445,2.3780430158899857,-4.390379981044764,4.310994328988511,-1.43255645779325,3.158650948842548,-0.055894714077770656,-4.147269711100393,2.0067907603903343,1.4085989427626089,3.7256917317639804,-4.655096768201072,-1.4711247193150845,0.1645741832656312,-2.7015042400496574,5.454880442644762,1.9049218969514436,-0.1770854365192813,5.457240154798888,0.9559708253667317,-4.899532933800301,-2.3912682940004135,-1.0847510079082443,0.9745409112396974,-0.24323711653741975,-2.2771567230083534,1.4348150892539,-3.8404606647821895,-0.12823786756687958,-1.1431727706472092,-0.7325688579343483,-0.12253897621970243,0.1587874579423263,-2.15733371255853,4.6197155273758135,-2.9613606413130595,-1.7061097228613862,-2.4189175936082887,1.1083993088847082,1.1820655064819536,-1.2669735339728105,1.40041602058768,2.805491601630679,-1.8526353162772489,-1.3192837750660125,2.373257960469976,-0.6800469025861302,1.0397409614209152,-4.958638671644174,-2.434308268433612,-1.0910568121369064,0.581414761024541,2.656107964047096,4.255851637021364,2.3943145657606113,1.1314698207254208,-0.7270287773618808,-3.260144588461472,2.6761216390752396,3.560387381788421,-1.9304153868042768,-3.373941071859882,0.5333553512169215,0.28335393515870655,-1.5607743482041594,-3.3219065138639956,0.9060596601534492,-2.3163142342871783,-0.9854018566617305,-4.284877509234066,3.086281956166637,-1.5060649072627765,2.692552376851432,0.022292269633486572,-1.2992104809916372,-1.7158332413887396,4.901797298239816,5.4738444591946465,-0.8995666206592319,-2.7523814654678507,-0.6909769575054318,2.9805773374787607,0.8981738602442233,-0.8466203864966867,1.7320944704911825],\"yaxis\":\"y\",\"type\":\"scattergl\"}],                        {\"template\":{\"data\":{\"bar\":[{\"error_x\":{\"color\":\"#2a3f5f\"},\"error_y\":{\"color\":\"#2a3f5f\"},\"marker\":{\"line\":{\"color\":\"#E5ECF6\",\"width\":0.5},\"pattern\":{\"fillmode\":\"overlay\",\"size\":10,\"solidity\":0.2}},\"type\":\"bar\"}],\"barpolar\":[{\"marker\":{\"line\":{\"color\":\"#E5ECF6\",\"width\":0.5},\"pattern\":{\"fillmode\":\"overlay\",\"size\":10,\"solidity\":0.2}},\"type\":\"barpolar\"}],\"carpet\":[{\"aaxis\":{\"endlinecolor\":\"#2a3f5f\",\"gridcolor\":\"white\",\"linecolor\":\"white\",\"minorgridcolor\":\"white\",\"startlinecolor\":\"#2a3f5f\"},\"baxis\":{\"endlinecolor\":\"#2a3f5f\",\"gridcolor\":\"white\",\"linecolor\":\"white\",\"minorgridcolor\":\"white\",\"startlinecolor\":\"#2a3f5f\"},\"type\":\"carpet\"}],\"choropleth\":[{\"colorbar\":{\"outlinewidth\":0,\"ticks\":\"\"},\"type\":\"choropleth\"}],\"contour\":[{\"colorbar\":{\"outlinewidth\":0,\"ticks\":\"\"},\"colorscale\":[[0.0,\"#0d0887\"],[0.1111111111111111,\"#46039f\"],[0.2222222222222222,\"#7201a8\"],[0.3333333333333333,\"#9c179e\"],[0.4444444444444444,\"#bd3786\"],[0.5555555555555556,\"#d8576b\"],[0.6666666666666666,\"#ed7953\"],[0.7777777777777778,\"#fb9f3a\"],[0.8888888888888888,\"#fdca26\"],[1.0,\"#f0f921\"]],\"type\":\"contour\"}],\"contourcarpet\":[{\"colorbar\":{\"outlinewidth\":0,\"ticks\":\"\"},\"type\":\"contourcarpet\"}],\"heatmap\":[{\"colorbar\":{\"outlinewidth\":0,\"ticks\":\"\"},\"colorscale\":[[0.0,\"#0d0887\"],[0.1111111111111111,\"#46039f\"],[0.2222222222222222,\"#7201a8\"],[0.3333333333333333,\"#9c179e\"],[0.4444444444444444,\"#bd3786\"],[0.5555555555555556,\"#d8576b\"],[0.6666666666666666,\"#ed7953\"],[0.7777777777777778,\"#fb9f3a\"],[0.8888888888888888,\"#fdca26\"],[1.0,\"#f0f921\"]],\"type\":\"heatmap\"}],\"heatmapgl\":[{\"colorbar\":{\"outlinewidth\":0,\"ticks\":\"\"},\"colorscale\":[[0.0,\"#0d0887\"],[0.1111111111111111,\"#46039f\"],[0.2222222222222222,\"#7201a8\"],[0.3333333333333333,\"#9c179e\"],[0.4444444444444444,\"#bd3786\"],[0.5555555555555556,\"#d8576b\"],[0.6666666666666666,\"#ed7953\"],[0.7777777777777778,\"#fb9f3a\"],[0.8888888888888888,\"#fdca26\"],[1.0,\"#f0f921\"]],\"type\":\"heatmapgl\"}],\"histogram\":[{\"marker\":{\"pattern\":{\"fillmode\":\"overlay\",\"size\":10,\"solidity\":0.2}},\"type\":\"histogram\"}],\"histogram2d\":[{\"colorbar\":{\"outlinewidth\":0,\"ticks\":\"\"},\"colorscale\":[[0.0,\"#0d0887\"],[0.1111111111111111,\"#46039f\"],[0.2222222222222222,\"#7201a8\"],[0.3333333333333333,\"#9c179e\"],[0.4444444444444444,\"#bd3786\"],[0.5555555555555556,\"#d8576b\"],[0.6666666666666666,\"#ed7953\"],[0.7777777777777778,\"#fb9f3a\"],[0.8888888888888888,\"#fdca26\"],[1.0,\"#f0f921\"]],\"type\":\"histogram2d\"}],\"histogram2dcontour\":[{\"colorbar\":{\"outlinewidth\":0,\"ticks\":\"\"},\"colorscale\":[[0.0,\"#0d0887\"],[0.1111111111111111,\"#46039f\"],[0.2222222222222222,\"#7201a8\"],[0.3333333333333333,\"#9c179e\"],[0.4444444444444444,\"#bd3786\"],[0.5555555555555556,\"#d8576b\"],[0.6666666666666666,\"#ed7953\"],[0.7777777777777778,\"#fb9f3a\"],[0.8888888888888888,\"#fdca26\"],[1.0,\"#f0f921\"]],\"type\":\"histogram2dcontour\"}],\"mesh3d\":[{\"colorbar\":{\"outlinewidth\":0,\"ticks\":\"\"},\"type\":\"mesh3d\"}],\"parcoords\":[{\"line\":{\"colorbar\":{\"outlinewidth\":0,\"ticks\":\"\"}},\"type\":\"parcoords\"}],\"pie\":[{\"automargin\":true,\"type\":\"pie\"}],\"scatter\":[{\"marker\":{\"colorbar\":{\"outlinewidth\":0,\"ticks\":\"\"}},\"type\":\"scatter\"}],\"scatter3d\":[{\"line\":{\"colorbar\":{\"outlinewidth\":0,\"ticks\":\"\"}},\"marker\":{\"colorbar\":{\"outlinewidth\":0,\"ticks\":\"\"}},\"type\":\"scatter3d\"}],\"scattercarpet\":[{\"marker\":{\"colorbar\":{\"outlinewidth\":0,\"ticks\":\"\"}},\"type\":\"scattercarpet\"}],\"scattergeo\":[{\"marker\":{\"colorbar\":{\"outlinewidth\":0,\"ticks\":\"\"}},\"type\":\"scattergeo\"}],\"scattergl\":[{\"marker\":{\"colorbar\":{\"outlinewidth\":0,\"ticks\":\"\"}},\"type\":\"scattergl\"}],\"scattermapbox\":[{\"marker\":{\"colorbar\":{\"outlinewidth\":0,\"ticks\":\"\"}},\"type\":\"scattermapbox\"}],\"scatterpolar\":[{\"marker\":{\"colorbar\":{\"outlinewidth\":0,\"ticks\":\"\"}},\"type\":\"scatterpolar\"}],\"scatterpolargl\":[{\"marker\":{\"colorbar\":{\"outlinewidth\":0,\"ticks\":\"\"}},\"type\":\"scatterpolargl\"}],\"scatterternary\":[{\"marker\":{\"colorbar\":{\"outlinewidth\":0,\"ticks\":\"\"}},\"type\":\"scatterternary\"}],\"surface\":[{\"colorbar\":{\"outlinewidth\":0,\"ticks\":\"\"},\"colorscale\":[[0.0,\"#0d0887\"],[0.1111111111111111,\"#46039f\"],[0.2222222222222222,\"#7201a8\"],[0.3333333333333333,\"#9c179e\"],[0.4444444444444444,\"#bd3786\"],[0.5555555555555556,\"#d8576b\"],[0.6666666666666666,\"#ed7953\"],[0.7777777777777778,\"#fb9f3a\"],[0.8888888888888888,\"#fdca26\"],[1.0,\"#f0f921\"]],\"type\":\"surface\"}],\"table\":[{\"cells\":{\"fill\":{\"color\":\"#EBF0F8\"},\"line\":{\"color\":\"white\"}},\"header\":{\"fill\":{\"color\":\"#C8D4E3\"},\"line\":{\"color\":\"white\"}},\"type\":\"table\"}]},\"layout\":{\"annotationdefaults\":{\"arrowcolor\":\"#2a3f5f\",\"arrowhead\":0,\"arrowwidth\":1},\"autotypenumbers\":\"strict\",\"coloraxis\":{\"colorbar\":{\"outlinewidth\":0,\"ticks\":\"\"}},\"colorscale\":{\"diverging\":[[0,\"#8e0152\"],[0.1,\"#c51b7d\"],[0.2,\"#de77ae\"],[0.3,\"#f1b6da\"],[0.4,\"#fde0ef\"],[0.5,\"#f7f7f7\"],[0.6,\"#e6f5d0\"],[0.7,\"#b8e186\"],[0.8,\"#7fbc41\"],[0.9,\"#4d9221\"],[1,\"#276419\"]],\"sequential\":[[0.0,\"#0d0887\"],[0.1111111111111111,\"#46039f\"],[0.2222222222222222,\"#7201a8\"],[0.3333333333333333,\"#9c179e\"],[0.4444444444444444,\"#bd3786\"],[0.5555555555555556,\"#d8576b\"],[0.6666666666666666,\"#ed7953\"],[0.7777777777777778,\"#fb9f3a\"],[0.8888888888888888,\"#fdca26\"],[1.0,\"#f0f921\"]],\"sequentialminus\":[[0.0,\"#0d0887\"],[0.1111111111111111,\"#46039f\"],[0.2222222222222222,\"#7201a8\"],[0.3333333333333333,\"#9c179e\"],[0.4444444444444444,\"#bd3786\"],[0.5555555555555556,\"#d8576b\"],[0.6666666666666666,\"#ed7953\"],[0.7777777777777778,\"#fb9f3a\"],[0.8888888888888888,\"#fdca26\"],[1.0,\"#f0f921\"]]},\"colorway\":[\"#636efa\",\"#EF553B\",\"#00cc96\",\"#ab63fa\",\"#FFA15A\",\"#19d3f3\",\"#FF6692\",\"#B6E880\",\"#FF97FF\",\"#FECB52\"],\"font\":{\"color\":\"#2a3f5f\"},\"geo\":{\"bgcolor\":\"white\",\"lakecolor\":\"white\",\"landcolor\":\"#E5ECF6\",\"showlakes\":true,\"showland\":true,\"subunitcolor\":\"white\"},\"hoverlabel\":{\"align\":\"left\"},\"hovermode\":\"closest\",\"mapbox\":{\"style\":\"light\"},\"paper_bgcolor\":\"white\",\"plot_bgcolor\":\"#E5ECF6\",\"polar\":{\"angularaxis\":{\"gridcolor\":\"white\",\"linecolor\":\"white\",\"ticks\":\"\"},\"bgcolor\":\"#E5ECF6\",\"radialaxis\":{\"gridcolor\":\"white\",\"linecolor\":\"white\",\"ticks\":\"\"}},\"scene\":{\"xaxis\":{\"backgroundcolor\":\"#E5ECF6\",\"gridcolor\":\"white\",\"gridwidth\":2,\"linecolor\":\"white\",\"showbackground\":true,\"ticks\":\"\",\"zerolinecolor\":\"white\"},\"yaxis\":{\"backgroundcolor\":\"#E5ECF6\",\"gridcolor\":\"white\",\"gridwidth\":2,\"linecolor\":\"white\",\"showbackground\":true,\"ticks\":\"\",\"zerolinecolor\":\"white\"},\"zaxis\":{\"backgroundcolor\":\"#E5ECF6\",\"gridcolor\":\"white\",\"gridwidth\":2,\"linecolor\":\"white\",\"showbackground\":true,\"ticks\":\"\",\"zerolinecolor\":\"white\"}},\"shapedefaults\":{\"line\":{\"color\":\"#2a3f5f\"}},\"ternary\":{\"aaxis\":{\"gridcolor\":\"white\",\"linecolor\":\"white\",\"ticks\":\"\"},\"baxis\":{\"gridcolor\":\"white\",\"linecolor\":\"white\",\"ticks\":\"\"},\"bgcolor\":\"#E5ECF6\",\"caxis\":{\"gridcolor\":\"white\",\"linecolor\":\"white\",\"ticks\":\"\"}},\"title\":{\"x\":0.05},\"xaxis\":{\"automargin\":true,\"gridcolor\":\"white\",\"linecolor\":\"white\",\"ticks\":\"\",\"title\":{\"standoff\":15},\"zerolinecolor\":\"white\",\"zerolinewidth\":2},\"yaxis\":{\"automargin\":true,\"gridcolor\":\"white\",\"linecolor\":\"white\",\"ticks\":\"\",\"title\":{\"standoff\":15},\"zerolinecolor\":\"white\",\"zerolinewidth\":2}}},\"xaxis\":{\"anchor\":\"y\",\"domain\":[0.0,1.0],\"title\":{\"text\":\"0\"}},\"yaxis\":{\"anchor\":\"x\",\"domain\":[0.0,1.0],\"title\":{\"text\":\"1\"}},\"coloraxis\":{\"colorbar\":{\"title\":{\"text\":\"color\"}},\"colorscale\":[[0.0,\"#0d0887\"],[0.1111111111111111,\"#46039f\"],[0.2222222222222222,\"#7201a8\"],[0.3333333333333333,\"#9c179e\"],[0.4444444444444444,\"#bd3786\"],[0.5555555555555556,\"#d8576b\"],[0.6666666666666666,\"#ed7953\"],[0.7777777777777778,\"#fb9f3a\"],[0.8888888888888888,\"#fdca26\"],[1.0,\"#f0f921\"]]},\"legend\":{\"tracegroupgap\":0},\"margin\":{\"t\":60}},                        {\"responsive\": true}                    ).then(function(){\n",
              "                            \n",
              "var gd = document.getElementById('7373a34c-684c-4fcd-a207-2e0218cd2a57');\n",
              "var x = new MutationObserver(function (mutations, observer) {{\n",
              "        var display = window.getComputedStyle(gd).display;\n",
              "        if (!display || display === 'none') {{\n",
              "            console.log([gd, 'removed!']);\n",
              "            Plotly.purge(gd);\n",
              "            observer.disconnect();\n",
              "        }}\n",
              "}});\n",
              "\n",
              "// Listen for the removal of the full notebook cells\n",
              "var notebookContainer = gd.closest('#notebook-container');\n",
              "if (notebookContainer) {{\n",
              "    x.observe(notebookContainer, {childList: true});\n",
              "}}\n",
              "\n",
              "// Listen for the clearing of the current output cell\n",
              "var outputEl = gd.closest('.output');\n",
              "if (outputEl) {{\n",
              "    x.observe(outputEl, {childList: true});\n",
              "}}\n",
              "\n",
              "                        })                };                            </script>        </div>\n",
              "</body>\n",
              "</html>"
            ]
          },
          "metadata": {}
        }
      ]
    },
    {
      "cell_type": "markdown",
      "source": [
        "##Ajuste de Clasificadores"
      ],
      "metadata": {
        "id": "BWAobaSy73sk"
      }
    },
    {
      "cell_type": "markdown",
      "source": [
        "A continuación realizo la clasificación de noticias basados en\n",
        "* SVC:\n",
        "  * lineal\n",
        "  * rbf\n",
        "* RFC:\n"
      ],
      "metadata": {
        "id": "fmJ8vuzf4xYF"
      }
    },
    {
      "cell_type": "code",
      "source": [
        "from sklearn.svm import SVC\n",
        "from sklearn.ensemble import RandomForestClassifier\n",
        "from sklearn.metrics import plot_confusion_matrix\n",
        "from sklearn.metrics import confusion_matrix,f1_score\n",
        "from sklearn.metrics import accuracy_score\n",
        "from sklearn.metrics import classification_report\n",
        "\n",
        "import seaborn as sns\n",
        "import scikitplot as skplt\n",
        "\n",
        "\n",
        "train_features, test_features, train_labels, test_labels = train_test_split(df, tr_y)\n"
      ],
      "metadata": {
        "id": "TN-FkHHL785T"
      },
      "execution_count": null,
      "outputs": []
    },
    {
      "cell_type": "code",
      "source": [
        "#@title PlotGraphics()\n",
        "import scikitplot as skplt\n",
        "target_classes = ['ar', 'cl', 'es', 'mx', 'pe']\n",
        "def PlotGraphics(Y_actual, Y_preds):\n",
        "  print(\"Test Accuracy : {:.2f}\".format(accuracy_score(Y_actual, Y_preds)))\n",
        "  print(\"F1 Score : {:.2f}\".format(f1_score(Y_actual, Y_preds, average='weighted')))\n",
        "  print(\"\\nConfusion Matrix : \")\n",
        "  skplt.metrics.plot_confusion_matrix([target_classes[i] for i in Y_actual], [target_classes[i] for i in Y_preds],\n",
        "                                    normalize=True,\n",
        "                                    title=\"Confusion Matrix\",\n",
        "                                    cmap=\"Blues\",\n",
        "                                    hide_zeros=True,\n",
        "                                    figsize=(5,5)\n",
        "                                    );\n",
        "  plt.xticks(rotation=90);"
      ],
      "metadata": {
        "cellView": "form",
        "id": "wQoSeeYw3yoF"
      },
      "execution_count": null,
      "outputs": []
    },
    {
      "cell_type": "markdown",
      "source": [
        "###SVC Lineal"
      ],
      "metadata": {
        "id": "dM92iuxR5U3Q"
      }
    },
    {
      "cell_type": "code",
      "source": [
        "svc_lineal = SVC(kernel='linear')\n",
        "svc_lineal.fit(train_features, train_labels)\n",
        "\n",
        "y_pred_scv_lineal = svc_lineal.predict(test_features)\n",
        "\n",
        "#Se visualiza la matriz de confusión\n",
        "PlotGraphics(test_labels, y_pred_scv_lineal)"
      ],
      "metadata": {
        "colab": {
          "base_uri": "https://localhost:8080/",
          "height": 384
        },
        "id": "QmGtQbas02Vd",
        "outputId": "8259c8d1-86d4-48ee-c6b3-97b984f4ffe5"
      },
      "execution_count": null,
      "outputs": [
        {
          "output_type": "stream",
          "name": "stdout",
          "text": [
            "Test Accuracy : 0.25\n",
            "F1 Score : 0.25\n",
            "\n",
            "Confusion Matrix : \n"
          ]
        },
        {
          "output_type": "display_data",
          "data": {
            "text/plain": [
              "<Figure size 360x360 with 2 Axes>"
            ],
            "image/png": "[encoded data removed]"
          },
          "metadata": {
            "needs_background": "light"
          }
        }
      ]
    },
    {
      "cell_type": "markdown",
      "source": [
        "###RFC"
      ],
      "metadata": {
        "id": "q3PD9h-i5T6W"
      }
    },
    {
      "cell_type": "code",
      "source": [
        "rfc = RandomForestClassifier(max_depth=2, random_state=0)\n",
        "rfc.fit(train_features, train_labels)\n",
        "\n",
        "y_pred_rfc = rfc.predict(test_features)\n",
        "\n",
        "#Se visualiza la matriz de confusión\n",
        "PlotGraphics(test_labels, y_pred_rfc)"
      ],
      "metadata": {
        "colab": {
          "base_uri": "https://localhost:8080/",
          "height": 384
        },
        "id": "tnzzbzms5Z-F",
        "outputId": "0408f719-807e-47f2-b5c4-b9dfbbc05b8b"
      },
      "execution_count": null,
      "outputs": [
        {
          "output_type": "stream",
          "name": "stdout",
          "text": [
            "Test Accuracy : 0.20\n",
            "F1 Score : 0.15\n",
            "\n",
            "Confusion Matrix : \n"
          ]
        },
        {
          "output_type": "display_data",
          "data": {
            "text/plain": [
              "<Figure size 360x360 with 2 Axes>"
            ],
            "image/png": "[encoded data removed]"
          },
          "metadata": {
            "needs_background": "light"
          }
        }
      ]
    },
    {
      "cell_type": "markdown",
      "source": [
        "#BERT"
      ],
      "metadata": {
        "id": "yosnLYQz6a64"
      }
    },
    {
      "cell_type": "markdown",
      "source": [
        "modelos   de   clasificación  usando  BERT  con  fine-tunning"
      ],
      "metadata": {
        "id": "U0-2F8rF8Xal"
      }
    },
    {
      "cell_type": "code",
      "source": [
        "#final_corpus_train  tr_y  final_corpus_test te_y"
      ],
      "metadata": {
        "id": "wYnRa6nnFoSU"
      },
      "execution_count": null,
      "outputs": []
    },
    {
      "cell_type": "code",
      "source": [
        "from sklearn.model_selection import train_test_split\n",
        "X= final_corpus_train\n",
        "y = tr_y\n",
        "\n",
        "X_train, X_val, y_train, y_val = train_test_split(X, y, test_size=0.1, random_state=2020)\n",
        "\n"
      ],
      "metadata": {
        "id": "lDhiB6R28MFO"
      },
      "execution_count": null,
      "outputs": []
    },
    {
      "cell_type": "code",
      "source": [
        "test_data = df = pd.DataFrame(list(zip(final_corpus_test,te_y)))\n",
        "test_data.columns =['Noticia', 'Pais']\n",
        "test_data = test_data[['Noticia', 'Pais'] ]\n",
        "test_data.sample(5)"
      ],
      "metadata": {
        "colab": {
          "base_uri": "https://localhost:8080/",
          "height": 206
        },
        "id": "1n58Tv2fHwiu",
        "outputId": "6596b554-8319-4a14-a45a-1f23979f3cfc"
      },
      "execution_count": null,
      "outputs": [
        {
          "output_type": "execute_result",
          "data": {
            "text/plain": [
              "                                               Noticia  Pais\n",
              "150  ayer descubri golf centro principiantes ciudad...     0\n",
              "92   venite sabado abril horas teatro auditorium pr...     0\n",
              "809  reconocimiento qhapac patrimonio humanidad par...     4\n",
              "103  regalo podes perder radio rock nacional espera...     0\n",
              "50   ahora les_traemos video portadas periodicos im...     0"
            ],
            "text/html": [
              "\n",
              "  <div id=\"df-42140300-47b7-4647-9ff7-1930994a8991\">\n",
              "    <div class=\"colab-df-container\">\n",
              "      <div>\n",
              "<style scoped>\n",
              "    .dataframe tbody tr th:only-of-type {\n",
              "        vertical-align: middle;\n",
              "    }\n",
              "\n",
              "    .dataframe tbody tr th {\n",
              "        vertical-align: top;\n",
              "    }\n",
              "\n",
              "    .dataframe thead th {\n",
              "        text-align: right;\n",
              "    }\n",
              "</style>\n",
              "<table border=\"1\" class=\"dataframe\">\n",
              "  <thead>\n",
              "    <tr style=\"text-align: right;\">\n",
              "      <th></th>\n",
              "      <th>Noticia</th>\n",
              "      <th>Pais</th>\n",
              "    </tr>\n",
              "  </thead>\n",
              "  <tbody>\n",
              "    <tr>\n",
              "      <th>150</th>\n",
              "      <td>ayer descubri golf centro principiantes ciudad...</td>\n",
              "      <td>0</td>\n",
              "    </tr>\n",
              "    <tr>\n",
              "      <th>92</th>\n",
              "      <td>venite sabado abril horas teatro auditorium pr...</td>\n",
              "      <td>0</td>\n",
              "    </tr>\n",
              "    <tr>\n",
              "      <th>809</th>\n",
              "      <td>reconocimiento qhapac patrimonio humanidad par...</td>\n",
              "      <td>4</td>\n",
              "    </tr>\n",
              "    <tr>\n",
              "      <th>103</th>\n",
              "      <td>regalo podes perder radio rock nacional espera...</td>\n",
              "      <td>0</td>\n",
              "    </tr>\n",
              "    <tr>\n",
              "      <th>50</th>\n",
              "      <td>ahora les_traemos video portadas periodicos im...</td>\n",
              "      <td>0</td>\n",
              "    </tr>\n",
              "  </tbody>\n",
              "</table>\n",
              "</div>\n",
              "      <button class=\"colab-df-convert\" onclick=\"convertToInteractive('df-42140300-47b7-4647-9ff7-1930994a8991')\"\n",
              "              title=\"Convert this dataframe to an interactive table.\"\n",
              "              style=\"display:none;\">\n",
              "        \n",
              "  <svg xmlns=\"http://www.w3.org/2000/svg\" height=\"24px\"viewBox=\"0 0 24 24\"\n",
              "       width=\"24px\">\n",
              "    <path d=\"M0 0h24v24H0V0z\" fill=\"none\"/>\n",
              "    <path d=\"M18.56 5.44l.94 2.06.94-2.06 2.06-.94-2.06-.94-.94-2.06-.94 2.06-2.06.94zm-11 1L8.5 8.5l.94-2.06 2.06-.94-2.06-.94L8.5 2.5l-.94 2.06-2.06.94zm10 10l.94 2.06.94-2.06 2.06-.94-2.06-.94-.94-2.06-.94 2.06-2.06.94z\"/><path d=\"M17.41 7.96l-1.37-1.37c-.4-.4-.92-.59-1.43-.59-.52 0-1.04.2-1.43.59L10.3 9.45l-7.72 7.72c-.78.78-.78 2.05 0 2.83L4 21.41c.39.39.9.59 1.41.59.51 0 1.02-.2 1.41-.59l7.78-7.78 2.81-2.81c.8-.78.8-2.07 0-2.86zM5.41 20L4 18.59l7.72-7.72 1.47 1.35L5.41 20z\"/>\n",
              "  </svg>\n",
              "      </button>\n",
              "      \n",
              "  <style>\n",
              "    .colab-df-container {\n",
              "      display:flex;\n",
              "      flex-wrap:wrap;\n",
              "      gap: 12px;\n",
              "    }\n",
              "\n",
              "    .colab-df-convert {\n",
              "      background-color: #E8F0FE;\n",
              "      border: none;\n",
              "      border-radius: 50%;\n",
              "      cursor: pointer;\n",
              "      display: none;\n",
              "      fill: #1967D2;\n",
              "      height: 32px;\n",
              "      padding: 0 0 0 0;\n",
              "      width: 32px;\n",
              "    }\n",
              "\n",
              "    .colab-df-convert:hover {\n",
              "      background-color: #E2EBFA;\n",
              "      box-shadow: 0px 1px 2px rgba(60, 64, 67, 0.3), 0px 1px 3px 1px rgba(60, 64, 67, 0.15);\n",
              "      fill: #174EA6;\n",
              "    }\n",
              "\n",
              "    [theme=dark] .colab-df-convert {\n",
              "      background-color: #3B4455;\n",
              "      fill: #D2E3FC;\n",
              "    }\n",
              "\n",
              "    [theme=dark] .colab-df-convert:hover {\n",
              "      background-color: #434B5C;\n",
              "      box-shadow: 0px 1px 3px 1px rgba(0, 0, 0, 0.15);\n",
              "      filter: drop-shadow(0px 1px 2px rgba(0, 0, 0, 0.3));\n",
              "      fill: #FFFFFF;\n",
              "    }\n",
              "  </style>\n",
              "\n",
              "      <script>\n",
              "        const buttonEl =\n",
              "          document.querySelector('#df-42140300-47b7-4647-9ff7-1930994a8991 button.colab-df-convert');\n",
              "        buttonEl.style.display =\n",
              "          google.colab.kernel.accessAllowed ? 'block' : 'none';\n",
              "\n",
              "        async function convertToInteractive(key) {\n",
              "          const element = document.querySelector('#df-42140300-47b7-4647-9ff7-1930994a8991');\n",
              "          const dataTable =\n",
              "            await google.colab.kernel.invokeFunction('convertToInteractive',\n",
              "                                                     [key], {});\n",
              "          if (!dataTable) return;\n",
              "\n",
              "          const docLinkHtml = 'Like what you see? Visit the ' +\n",
              "            '<a target=\"_blank\" href=https://colab.research.google.com/notebooks/data_table.ipynb>data table notebook</a>'\n",
              "            + ' to learn more about interactive tables.';\n",
              "          element.innerHTML = '';\n",
              "          dataTable['output_type'] = 'display_data';\n",
              "          await google.colab.output.renderOutput(dataTable, element);\n",
              "          const docLink = document.createElement('div');\n",
              "          docLink.innerHTML = docLinkHtml;\n",
              "          element.appendChild(docLink);\n",
              "        }\n",
              "      </script>\n",
              "    </div>\n",
              "  </div>\n",
              "  "
            ]
          },
          "metadata": {},
          "execution_count": 13
        }
      ]
    },
    {
      "cell_type": "markdown",
      "source": [
        "Se realiza un preprocesamiento extra"
      ],
      "metadata": {
        "id": "A4YTli_TJNkR"
      }
    },
    {
      "cell_type": "code",
      "source": [
        "def text_preprocessing(text):\n",
        "    \"\"\"\n",
        "    - Remove entity mentions (eg. '@united')\n",
        "    - Correct errors (eg. '&' to '&')\n",
        "    @param    text (str): a string to be processed.\n",
        "    @return   text (Str): the processed string.\n",
        "    \"\"\"\n",
        "    # Remove '@name'\n",
        "    text = re.sub(r'(@.*?)[\\s]', ' ', text)\n",
        "\n",
        "    # Replace '&' with '&'\n",
        "    text = re.sub(r'&', '&', text)\n",
        "\n",
        "    # Remove trailing whitespace\n",
        "    text = re.sub(r'\\s+', ' ', text).strip()\n",
        "\n",
        "    return text"
      ],
      "metadata": {
        "id": "zydoy1Kc-P7s"
      },
      "execution_count": null,
      "outputs": []
    },
    {
      "cell_type": "code",
      "source": [
        "from transformers import BertTokenizer\n",
        "\n",
        "# Load the BERT tokenizer\n",
        "tokenizer = BertTokenizer.from_pretrained('dccuchile/bert-base-spanish-wwm-uncased', do_lower_case=True)\n",
        "\n",
        "# Create a function to tokenize a set of texts\n",
        "def preprocessing_for_bert(data):\n",
        "    \"\"\"Perform required preprocessing steps for pretrained BERT.\n",
        "    @param    data (np.array): Array of texts to be processed.\n",
        "    @return   input_ids (torch.Tensor): Tensor of token ids to be fed to a model.\n",
        "    @return   attention_masks (torch.Tensor): Tensor of indices specifying which\n",
        "                  tokens should be attended to by the model.\n",
        "    \"\"\"\n",
        "    # Create empty lists to store outputs\n",
        "    input_ids = []\n",
        "    attention_masks = []\n",
        "\n",
        "    # For every sentence...\n",
        "    for sent in data:\n",
        "        # `encode_plus` will:\n",
        "        #    (1) Tokenize the sentence\n",
        "        #    (2) Add the `[CLS]` and `[SEP]` token to the start and end\n",
        "        #    (3) Truncate/Pad sentence to max length\n",
        "        #    (4) Map tokens to their IDs\n",
        "        #    (5) Create attention mask\n",
        "        #    (6) Return a dictionary of outputs\n",
        "        encoded_sent = tokenizer.encode_plus(\n",
        "            text=text_preprocessing(sent),  # Preprocess sentence\n",
        "            add_special_tokens=True,        # Add `[CLS]` and `[SEP]`\n",
        "            truncation=True,\n",
        "            max_length=MAX_LEN,             # Max length to truncate/pad\n",
        "            pad_to_max_length=True,         # Pad sentence to max length\n",
        "            #return_tensors='pt',           # Return PyTorch tensor\n",
        "            return_attention_mask=True      # Return attention mask\n",
        "            )\n",
        "\n",
        "        # Add the outputs to the lists\n",
        "        input_ids.append(encoded_sent.get('input_ids'))\n",
        "        attention_masks.append(encoded_sent.get('attention_mask'))\n",
        "\n",
        "    # Convert lists to tensors\n",
        "    input_ids = torch.tensor(input_ids)\n",
        "    attention_masks = torch.tensor(attention_masks)\n",
        "\n",
        "    return input_ids, attention_masks"
      ],
      "metadata": {
        "colab": {
          "base_uri": "https://localhost:8080/",
          "height": 145,
          "referenced_widgets": [
            "4cf073c9084047599a0fc663299851a4",
            "53f5a6964182408ebef7c85f08569212",
            "bb1e9cc1939a4f7fb64669befd396a5f",
            "7d03ec6b243e4c75a79b7541e967a57d",
            "e0130fd78cf04e928697b5057ebaac50",
            "6beb31a7678c4cc4a2071b575726eb63",
            "8fff5bac439b434b83573ee0cbc78915",
            "e4af77e78d6f43118581ebbe88ca77c9",
            "deda74730c534072a7bd03c9228c07b3",
            "22e643e662e940a1bfd15ed6f5523c22",
            "6e323468b12f44e6bebe3bccaf84fd56",
            "846ce034fe394b5fb2fa91f07182877f",
            "b02d4fd4961a4f65aa907b7dd3b26fb9",
            "bb62e9b4352549b5912c48189de1edb2",
            "41cb29f5bc2e4225880458fb42d7716f",
            "ee0be19424a843d593ba7a3029385a8b",
            "777bded894a7450ca6b17158d7e02f91",
            "83276cec6bae49fc8127b804fbcad228",
            "7ddf9966434240c28ee6fdeb34ad702f",
            "35e6931a721e4a7d97c458cdba926819",
            "e905a2d77d3e4d3c94b0721c3228e5aa",
            "1614cfa1c98441eab40dff7264d3102d",
            "cc023fe2721d48309957700ef4f1b26c",
            "12f196a11ba3459881e8c2675dfe4af1",
            "5f2df2ebea0c42868edc756e5eaac742",
            "9b7503d709ad4032ad0249edca586cac",
            "36b100707b8e49cfbe638feadf2d5d53",
            "c4f7f41c2fe44c2a9a45eb6b8419ee73",
            "121a3dc010a04795899463b3774df085",
            "d78244f36f17452398b52e0c3807d874",
            "ef50b779a6ab4564b8486eb95dca771d",
            "dd1b6f81f59247f3aa3626c2b0080d09",
            "192ec0ac30774022b4ef4eb76b1f4438",
            "f34ffd01a282468db6dcc42fd6032f8a",
            "791425bdef314e5d85de30f1524445db",
            "fea15402702648a1b38dc37bed8a30c5",
            "c22bc912a32c4c9d8e009cdcad0e82ff",
            "49a1f27ba0b94262a9be6237cbf73df1",
            "f880a6e72b1f4776bc8bbac6a35348b9",
            "5c7de097db414dec8aff0a487229eae4",
            "a0a31c3b3abc4696ae41d3fa7f7787b5",
            "0b4714c6ed5b47a08583e41dd17a5ab3",
            "854eb1b9b8c0415695d9984dbb816300",
            "2a6d2d4180fe47a7871868e0a9a112ef"
          ]
        },
        "id": "Qamiaq8F-kF2",
        "outputId": "a4d29767-0de1-48a5-92a8-b3f8af21c413"
      },
      "execution_count": null,
      "outputs": [
        {
          "output_type": "display_data",
          "data": {
            "text/plain": [
              "Downloading:   0%|          | 0.00/248k [00:00<?, ?B/s]"
            ],
            "application/vnd.jupyter.widget-view+json": {
              "version_major": 2,
              "version_minor": 0,
              "model_id": "4cf073c9084047599a0fc663299851a4"
            }
          },
          "metadata": {}
        },
        {
          "output_type": "display_data",
          "data": {
            "text/plain": [
              "Downloading:   0%|          | 0.00/134 [00:00<?, ?B/s]"
            ],
            "application/vnd.jupyter.widget-view+json": {
              "version_major": 2,
              "version_minor": 0,
              "model_id": "846ce034fe394b5fb2fa91f07182877f"
            }
          },
          "metadata": {}
        },
        {
          "output_type": "display_data",
          "data": {
            "text/plain": [
              "Downloading:   0%|          | 0.00/310 [00:00<?, ?B/s]"
            ],
            "application/vnd.jupyter.widget-view+json": {
              "version_major": 2,
              "version_minor": 0,
              "model_id": "cc023fe2721d48309957700ef4f1b26c"
            }
          },
          "metadata": {}
        },
        {
          "output_type": "display_data",
          "data": {
            "text/plain": [
              "Downloading:   0%|          | 0.00/650 [00:00<?, ?B/s]"
            ],
            "application/vnd.jupyter.widget-view+json": {
              "version_major": 2,
              "version_minor": 0,
              "model_id": "f34ffd01a282468db6dcc42fd6032f8a"
            }
          },
          "metadata": {}
        }
      ]
    },
    {
      "cell_type": "markdown",
      "source": [
        "Ejemplo de las mascaras de atención"
      ],
      "metadata": {
        "id": "b_d4FJWp_E8v"
      }
    },
    {
      "cell_type": "code",
      "source": [
        "\n",
        "sequence_a = \"Ayer fue un dia soleado.\"\n",
        "sequence_b = \"En las mañananas me gusta comer pan tostado, en las tardes comer manzanas y cenar cereal\"\n",
        "\n",
        "encoded_sequence_a = tokenizer(sequence_a)[\"input_ids\"]\n",
        "encoded_sequence_b = tokenizer(sequence_b)[\"input_ids\"]\n",
        "\n",
        "print('lengths of sequences:',len(encoded_sequence_a), len(encoded_sequence_b))\n",
        "padded_sequences = tokenizer([sequence_a, sequence_b], padding=True)\n",
        "print('Tokenized sequences after padding:\\n', padded_sequences[\"input_ids\"])\n",
        "print('Attention mask:\\n', padded_sequences[\"attention_mask\"])"
      ],
      "metadata": {
        "colab": {
          "base_uri": "https://localhost:8080/"
        },
        "id": "EzfrzHaO_FKz",
        "outputId": "b5be911d-61d4-4de2-aa14-218580ede147"
      },
      "execution_count": null,
      "outputs": [
        {
          "output_type": "stream",
          "name": "stdout",
          "text": [
            "lengths of sequences: 9 21\n",
            "Tokenized sequences after padding:\n",
            " [[4, 5023, 1247, 1044, 7085, 7695, 1082, 1008, 5, 1, 1, 1, 1, 1, 1, 1, 1, 1, 1, 1, 1], [4, 1035, 1085, 2243, 2843, 1094, 2331, 1987, 2463, 7783, 1473, 1019, 1035, 1085, 10095, 1987, 16458, 1040, 7320, 26688, 5]]\n",
            "Attention mask:\n",
            " [[1, 1, 1, 1, 1, 1, 1, 1, 1, 0, 0, 0, 0, 0, 0, 0, 0, 0, 0, 0, 0], [1, 1, 1, 1, 1, 1, 1, 1, 1, 1, 1, 1, 1, 1, 1, 1, 1, 1, 1, 1, 1]]\n"
          ]
        }
      ]
    },
    {
      "cell_type": "code",
      "source": [
        "# Concatenate train data and test data\n",
        "all_tweets = np.concatenate([X, test_data.Noticia.values])\n",
        "\n",
        "# Encode our concatenated data\n",
        "encoded_tweets = [tokenizer.encode(sent, add_special_tokens=True,truncation=True,max_length =100) for sent in all_tweets]\n",
        "\n",
        "# Find the maximum length\n",
        "max_len = max([len(sent) for sent in encoded_tweets])\n",
        "print('Max length: ', max_len)"
      ],
      "metadata": {
        "colab": {
          "base_uri": "https://localhost:8080/"
        },
        "id": "mOQjk4ySKEKN",
        "outputId": "4426d3d7-c70b-488a-8aeb-dd7e242ef008"
      },
      "execution_count": null,
      "outputs": [
        {
          "output_type": "stream",
          "name": "stdout",
          "text": [
            "Max length:  100\n"
          ]
        }
      ]
    },
    {
      "cell_type": "code",
      "source": [
        "# Specify `MAX_LEN`\n",
        "MAX_LEN = 100\n",
        "\n",
        "# Print sentence 0 and its encoded token ids\n",
        "token_ids = list(preprocessing_for_bert([X[0]])[0].squeeze().numpy())\n",
        "print('Original: ', X[0])\n",
        "print('Token IDs: ', token_ids)\n",
        "\n",
        "# Run function `preprocessing_for_bert` on the train set and the validation set\n",
        "print('Tokenizing data...')\n",
        "train_inputs, train_masks = preprocessing_for_bert(X_train)\n",
        "val_inputs, val_masks = preprocessing_for_bert(X_val)"
      ],
      "metadata": {
        "colab": {
          "base_uri": "https://localhost:8080/"
        },
        "id": "C8-i_Xfq_t7x",
        "outputId": "6df80df7-cdaa-4135-968e-6c0454996f26"
      },
      "execution_count": null,
      "outputs": [
        {
          "output_type": "stream",
          "name": "stdout",
          "text": [
            "Original:  brother where thou significo exito basado lejanamente odisea homero historia transcurre mississippi decada sigue tres convictos acaban escapar prision objetivo recuperar botin atraco banco lider enterrado pelicula resalta habilidades comicas george_clooney ulysses everett carta kretina furiosos fanaticos defensores modelo cubano venezolano quiero modelo propio argentina igual trato evadirme realidad cada_vez hago compras lleva desesperarme inflacion impresionante entiendo hace familia hijos mantenerse tendran tarjetas credito sueldos seran alto aquellos disculpen reflexion discriminativa genero creo mayores contaminantes planeta mujeres primero primeras consumidoras comodidad hacen usar hijos pañales descartables años comienzan jardin preescolar recien enseñan controlen necesidades franjas pobreza mujeres absorbentes sanitarios gatos diatomita tierra diatomeas tambien conocida diahydro kieselguhr kieselgur celite roca sedimentaria silicea formada micro fosiles diatomeas alga marina unicelulares secretan esqueleto siliceo llamado frustula alga unicelulares mueren restos esqueleto depositan lechos pareja decide terminar vinculacion viene momento dificil dividir bienes bienes_materiales tambien existen bienes inmateriales afectos instancia complicada pareja toda persona rodean acompañaron vinculacion parientes amigo personales cada_uno amigo hicieron circula redes_sociales informe aqueja muchas_personas actualidad artistas periodistas politico enfermedad larga historia termino origina antigua_grecia exagerada confianza orgullo aquellas_personas relacionadas poder aquel dioses quieren destruir primero resultados google fecha julio inmenso oceano lenguaje binario me_gusta referirme internet entonces recorrido agua inhospitas agua multitudinarias buenas_malas experiencias creci aprendi reformule mirandome distintos cristales intente siempre honesta mostrarme creo toda gente amiga comunidad respeto siempre saben cuanto trabaje humilde presencia años asistire quiero escuchar lamen culo kretina leyes empezaron lucharse supieramos leyes aprobaron politico izquierda toda gente apoyo seis cada diez hombre años eligieron mujeres post tambien señalaron puntos hablan parejas hijos enlace fuente tal_vez marketing belleza carteles autopista moda tapa revista sobrecargadas photoshop lleven creer objeto deseo_sexual mujer joven envase matriarcado from madre sigal on_vimeo significado viene diccionario organizacion social tradicionalmente atribuida pueblo primitivos mando residia mujer estudiosos doctor antropologia joan manuel cabezas explica matriarcado nunca oposicion patriarcado mujeres mandaban\n",
            "Token IDs:  [4, 2725, 5205, 1005, 21303, 1844, 24035, 4959, 30957, 1158, 1543, 6588, 30539, 1200, 7071, 15235, 23640, 2312, 11869, 1036, 29331, 20080, 30956, 2808, 1804, 11484, 1142, 10976, 5653, 6672, 3073, 7297, 25830, 1037, 30774, 4009, 9173, 13492, 29105, 13758, 1047, 9089, 24446, 2282, 5061, 965, 11236, 21255, 4071, 4650, 7434, 12214, 30902, 3350, 17870, 3259, 18793, 30958, 3185, 4236, 1574, 11282, 4209, 16718, 19635, 1563, 4209, 3478, 4148, 2401, 4266, 24596, 1150, 1190, 2870, 1748, 965, 1434, 3800, 8505, 3664, 8886, 2614, 1305, 19624, 1497, 9316, 3342, 1647, 2067, 2963, 12739, 2327, 1029, 10939, 13515, 1049, 17848, 13156, 5]\n",
            "Tokenizing data...\n"
          ]
        }
      ]
    },
    {
      "cell_type": "markdown",
      "source": [
        "Data Loader"
      ],
      "metadata": {
        "id": "tLPNyhtSBEOs"
      }
    },
    {
      "cell_type": "code",
      "source": [
        "from torch.utils.data import TensorDataset, DataLoader, RandomSampler, SequentialSampler\n",
        "\n",
        "# Convert other data types to torch.Tensor\n",
        "train_labels = torch.tensor(y_train)\n",
        "val_labels = torch.tensor(y_val)\n",
        "\n",
        "# For fine-tuning BERT, the authors recommend a batch size of 16 or 32.\n",
        "batch_size = 16\n",
        "\n",
        "# Create the DataLoader for our training set\n",
        "train_data = TensorDataset(train_inputs, train_masks, train_labels)\n",
        "train_sampler = RandomSampler(train_data)\n",
        "train_dataloader = DataLoader(train_data, sampler=train_sampler, batch_size=batch_size)\n",
        "\n",
        "# Create the DataLoader for our validation set\n",
        "val_data = TensorDataset(val_inputs, val_masks, val_labels)\n",
        "val_sampler = SequentialSampler(val_data)\n",
        "val_dataloader = DataLoader(val_data, sampler=val_sampler, batch_size=batch_size)"
      ],
      "metadata": {
        "id": "aoEkTCSnBAOV"
      },
      "execution_count": null,
      "outputs": []
    },
    {
      "cell_type": "markdown",
      "source": [
        "BETO model\n",
        "**Nota** Aquí cambie algunas cosas"
      ],
      "metadata": {
        "id": "W_EXlJPGBPRL"
      }
    },
    {
      "cell_type": "code",
      "source": [
        "%%time\n",
        "import torch\n",
        "import torch.nn as nn\n",
        "from transformers import BertModel\n",
        "\n",
        "# Create the BertClassfier class\n",
        "class BertClassifier(nn.Module):\n",
        "    \"\"\"Bert Model for Classification Tasks.\n",
        "    \"\"\"\n",
        "    def __init__(self, freeze_bert=True):\n",
        "        \"\"\"\n",
        "        @param    bert: a BertModel object\n",
        "        @param    classifier: a torch.nn.Module classifier\n",
        "        @param    freeze_bert (bool): Set `False` to fine-tune the BERT model\n",
        "        \"\"\"\n",
        "        super(BertClassifier, self).__init__()\n",
        "        # Specify hidden size of BERT, hidden size of our classifier, and number of labels\n",
        "        D_in, H, D_out = 768, 50, 5\n",
        "\n",
        "        # Instantiate BERT model\n",
        "        self.bert = BertModel.from_pretrained('dccuchile/bert-base-spanish-wwm-uncased')\n",
        "\n",
        "        # Instantiate an one-layer feed-forward classifier\n",
        "        self.classifier = nn.Sequential(\n",
        "            nn.Linear(D_in, H),\n",
        "            nn.ReLU(),\n",
        "            #nn.Dropout(0.5),\n",
        "            nn.Linear(H, D_out)\n",
        "        )\n",
        "\n",
        "        # Freeze the BERT model\n",
        "        if freeze_bert:\n",
        "            for param in self.bert.parameters():\n",
        "                param.requires_grad = False\n",
        "\n",
        "    def forward(self, input_ids, attention_mask):\n",
        "        \"\"\"\n",
        "        Feed input to BERT and the classifier to compute logits.\n",
        "        @param    input_ids (torch.Tensor): an input tensor with shape (batch_size,\n",
        "                      max_length)\n",
        "        @param    attention_mask (torch.Tensor): a tensor that hold attention mask\n",
        "                      information with shape (batch_size, max_length)\n",
        "        @return   logits (torch.Tensor): an output tensor with shape (batch_size,\n",
        "                      num_labels)\n",
        "        \"\"\"\n",
        "        # Feed input to BERT\n",
        "        outputs = self.bert(input_ids=input_ids,\n",
        "                            attention_mask=attention_mask)\n",
        "\n",
        "        # Extract the last hidden state of the token `[CLS]` for classification task\n",
        "        last_hidden_state_cls = outputs[0][:, 0, :]\n",
        "\n",
        "        # Feed input to classifier to compute logits\n",
        "        logits = self.classifier(last_hidden_state_cls)\n",
        "\n",
        "        return logits"
      ],
      "metadata": {
        "colab": {
          "base_uri": "https://localhost:8080/"
        },
        "id": "AEuHwAWcBLN7",
        "outputId": "45ba94d2-ebd0-430f-99f1-e4ccb75c8085"
      },
      "execution_count": null,
      "outputs": [
        {
          "output_type": "stream",
          "name": "stdout",
          "text": [
            "CPU times: user 58.5 ms, sys: 1 ms, total: 59.5 ms\n",
            "Wall time: 64.9 ms\n"
          ]
        }
      ]
    },
    {
      "cell_type": "code",
      "source": [
        "from transformers import AdamW, get_linear_schedule_with_warmup\n",
        "\n",
        "def initialize_model(epochs=4, freeze_bert=True):\n",
        "    \"\"\"Initialize the Bert Classifier, the optimizer and the learning rate scheduler.\n",
        "    \"\"\"\n",
        "    # Instantiate Bert Classifier\n",
        "    bert_classifier = BertClassifier(freeze_bert)\n",
        "\n",
        "    # Tell PyTorch to run the model on GPU\n",
        "    bert_classifier.to(device)\n",
        "\n",
        "    # Create the optimizer\n",
        "    optimizer = AdamW(bert_classifier.parameters(),\n",
        "                      lr=5e-5,    # Default learning rate\n",
        "                      eps=1e-8    # Default epsilon value\n",
        "                      )\n",
        "\n",
        "    # Total number of training steps\n",
        "    total_steps = len(train_dataloader) * epochs\n",
        "\n",
        "    # Set up the learning rate scheduler\n",
        "    scheduler = get_linear_schedule_with_warmup(optimizer,\n",
        "                                                num_warmup_steps=0, # Default value\n",
        "                                                num_training_steps=total_steps)\n",
        "    return bert_classifier, optimizer, scheduler"
      ],
      "metadata": {
        "id": "b3HWu7_FBSek"
      },
      "execution_count": null,
      "outputs": []
    },
    {
      "cell_type": "code",
      "source": [
        "import random\n",
        "import time\n",
        "\n",
        "# Specify loss function\n",
        "loss_fn = nn.CrossEntropyLoss()\n",
        "\n",
        "def set_seed(seed_value=42):\n",
        "    \"\"\"Set seed for reproducibility.\n",
        "    \"\"\"\n",
        "    random.seed(seed_value)\n",
        "    np.random.seed(seed_value)\n",
        "    torch.manual_seed(seed_value)\n",
        "    torch.cuda.manual_seed_all(seed_value)\n",
        "\n",
        "def train(model, train_dataloader, val_dataloader=None, epochs=4, evaluation=False):\n",
        "    \"\"\"Train the BertClassifier model.\n",
        "    \"\"\"\n",
        "    # Start training loop\n",
        "    print(\"Start training...\\n\")\n",
        "    for epoch_i in range(epochs):\n",
        "        # =======================================\n",
        "        #               Training\n",
        "        # =======================================\n",
        "        # Print the header of the result table\n",
        "        print(f\"{'Epoch':^7} | {'Batch':^7} | {'Train Loss':^12} | {'Val Loss':^10} | {'Val Acc':^9} | {'Elapsed':^9}\")\n",
        "        print(\"-\"*70)\n",
        "\n",
        "        # Measure the elapsed time of each epoch\n",
        "        t0_epoch, t0_batch = time.time(), time.time()\n",
        "\n",
        "        # Reset tracking variables at the beginning of each epoch\n",
        "        total_loss, batch_loss, batch_counts = 0, 0, 0\n",
        "\n",
        "        # Put the model into the training mode\n",
        "        model.train()\n",
        "\n",
        "        # For each batch of training data...\n",
        "        for step, batch in enumerate(train_dataloader):\n",
        "            batch_counts +=1\n",
        "            # Load batch to GPU\n",
        "            b_input_ids, b_attn_mask, b_labels = tuple(t.to(device) for t in batch)\n",
        "\n",
        "            # Zero out any previously calculated gradients\n",
        "            model.zero_grad()\n",
        "\n",
        "            # Perform a forward pass. This will return logits.\n",
        "            logits = model(b_input_ids, b_attn_mask)\n",
        "\n",
        "            # Compute loss and accumulate the loss values\n",
        "            loss = loss_fn(logits, b_labels)\n",
        "            batch_loss += loss.item()\n",
        "            total_loss += loss.item()\n",
        "\n",
        "            # Perform a backward pass to calculate gradients\n",
        "            loss.backward()\n",
        "\n",
        "            # Clip the norm of the gradients to 1.0 to prevent \"exploding gradients\"\n",
        "            torch.nn.utils.clip_grad_norm_(model.parameters(), 1.0)\n",
        "\n",
        "            # Update parameters and the learning rate\n",
        "            optimizer.step()\n",
        "            scheduler.step()\n",
        "\n",
        "            # Print the loss values and time elapsed for every 20 batches\n",
        "            if (step % 20 == 0 and step != 0) or (step == len(train_dataloader) - 1):\n",
        "                # Calculate time elapsed for 20 batches\n",
        "                time_elapsed = time.time() - t0_batch\n",
        "\n",
        "                # Print training results\n",
        "                print(f\"{epoch_i + 1:^7} | {step:^7} | {batch_loss / batch_counts:^12.6f} | {'-':^10} | {'-':^9} | {time_elapsed:^9.2f}\")\n",
        "\n",
        "                # Reset batch tracking variables\n",
        "                batch_loss, batch_counts = 0, 0\n",
        "                t0_batch = time.time()\n",
        "\n",
        "        # Calculate the average loss over the entire training data\n",
        "        avg_train_loss = total_loss / len(train_dataloader)\n",
        "\n",
        "        print(\"-\"*70)\n",
        "        # =======================================\n",
        "        #               Evaluation\n",
        "        # =======================================\n",
        "        if evaluation == True:\n",
        "            # After the completion of each training epoch, measure the model's performance\n",
        "            # on our validation set.\n",
        "            val_loss, val_accuracy = evaluate(model, val_dataloader)\n",
        "\n",
        "            # Print performance over the entire training data\n",
        "            time_elapsed = time.time() - t0_epoch\n",
        "\n",
        "            print(f\"{epoch_i + 1:^7} | {'-':^7} | {avg_train_loss:^12.6f} | {val_loss:^10.6f} | {val_accuracy:^9.2f} | {time_elapsed:^9.2f}\")\n",
        "            print(\"-\"*70)\n",
        "        print(\"\\n\")\n",
        "\n",
        "    print(\"Training complete!\")\n",
        "\n",
        "\n",
        "def evaluate(model, val_dataloader):\n",
        "    \"\"\"After the completion of each training epoch, measure the model's performance\n",
        "    on our validation set.\n",
        "    \"\"\"\n",
        "    # Put the model into the evaluation mode. The dropout layers are disabled during\n",
        "    # the test time.\n",
        "    model.eval()\n",
        "\n",
        "    # Tracking variables\n",
        "    val_accuracy = []\n",
        "    val_loss = []\n",
        "\n",
        "    # For each batch in our validation set...\n",
        "    for batch in val_dataloader:\n",
        "        # Load batch to GPU\n",
        "        b_input_ids, b_attn_mask, b_labels = tuple(t.to(device) for t in batch)\n",
        "\n",
        "        # Compute logits\n",
        "        with torch.no_grad():\n",
        "            logits = model(b_input_ids, b_attn_mask)\n",
        "\n",
        "        # Compute loss\n",
        "        loss = loss_fn(logits, b_labels)\n",
        "        val_loss.append(loss.item())\n",
        "\n",
        "        # Get the predictions\n",
        "        preds = torch.argmax(logits, dim=1).flatten()\n",
        "\n",
        "        # Calculate the accuracy rate\n",
        "        accuracy = (preds == b_labels).cpu().numpy().mean() * 100\n",
        "        val_accuracy.append(accuracy)\n",
        "\n",
        "    # Compute the average accuracy and loss over the validation set.\n",
        "    val_loss = np.mean(val_loss)\n",
        "    val_accuracy = np.mean(val_accuracy)\n",
        "\n",
        "    return val_loss, val_accuracy\n"
      ],
      "metadata": {
        "id": "D1LztbP5BZBQ"
      },
      "execution_count": null,
      "outputs": []
    },
    {
      "cell_type": "code",
      "source": [
        "set_seed(42)    # Set seed for reproducibility\n",
        "bert_classifier, optimizer, scheduler = initialize_model(epochs=2, freeze_bert = False)\n",
        "train(bert_classifier, train_dataloader, val_dataloader, epochs=2, evaluation=True)"
      ],
      "metadata": {
        "colab": {
          "base_uri": "https://localhost:8080/",
          "height": 520,
          "referenced_widgets": [
            "28788770484e48b89afbb6a3a6b66c4a",
            "f1ce70a6cff04effb407a43270e89788",
            "0a3f0f88c61f4861acbf36778460b382",
            "526f415c21d44d21b88a8df1a5e68405",
            "c0da23a331344e339b95c363dd443dcb",
            "d9a366db73e44ecdb6a8d5bafb3c9f97",
            "dc9355085b7940c2b759ddfcfbc3757d",
            "f03cbcae1be9481ebf615096a809d45a",
            "655c8ea282374f44b0a325f0824666a8",
            "a61c93c6c4494947b68e19a49f24eacf",
            "f726cb6261d64ea68290c9330a465783"
          ]
        },
        "id": "fC_Yi8TCBs5Q",
        "outputId": "d5b6b0b0-f402-48ad-f049-1e36a72bea95"
      },
      "execution_count": null,
      "outputs": [
        {
          "output_type": "display_data",
          "data": {
            "text/plain": [
              "Downloading:   0%|          | 0.00/440M [00:00<?, ?B/s]"
            ],
            "application/vnd.jupyter.widget-view+json": {
              "version_major": 2,
              "version_minor": 0,
              "model_id": "28788770484e48b89afbb6a3a6b66c4a"
            }
          },
          "metadata": {}
        },
        {
          "output_type": "stream",
          "name": "stderr",
          "text": [
            "Some weights of the model checkpoint at dccuchile/bert-base-spanish-wwm-uncased were not used when initializing BertModel: ['cls.predictions.decoder.weight', 'cls.predictions.bias', 'cls.predictions.transform.dense.weight', 'cls.predictions.transform.LayerNorm.bias', 'cls.predictions.decoder.bias', 'cls.predictions.transform.LayerNorm.weight', 'cls.predictions.transform.dense.bias']\n",
            "- This IS expected if you are initializing BertModel from the checkpoint of a model trained on another task or with another architecture (e.g. initializing a BertForSequenceClassification model from a BertForPreTraining model).\n",
            "- This IS NOT expected if you are initializing BertModel from the checkpoint of a model that you expect to be exactly identical (initializing a BertForSequenceClassification model from a BertForSequenceClassification model).\n",
            "Some weights of BertModel were not initialized from the model checkpoint at dccuchile/bert-base-spanish-wwm-uncased and are newly initialized: ['bert.pooler.dense.weight', 'bert.pooler.dense.bias']\n",
            "You should probably TRAIN this model on a down-stream task to be able to use it for predictions and inference.\n"
          ]
        },
        {
          "output_type": "stream",
          "name": "stdout",
          "text": [
            "Start training...\n",
            "\n",
            " Epoch  |  Batch  |  Train Loss  |  Val Loss  |  Val Acc  |  Elapsed \n",
            "----------------------------------------------------------------------\n",
            "   1    |   20    |   1.591547   |     -      |     -     |  331.68  \n",
            "   1    |   40    |   1.335213   |     -      |     -     |  316.70  \n",
            "   1    |   60    |   1.277693   |     -      |     -     |  319.94  \n",
            "   1    |   80    |   1.283748   |     -      |     -     |  333.66  \n",
            "   1    |   100   |   1.166422   |     -      |     -     |  331.91  \n",
            "   1    |   120   |   1.260498   |     -      |     -     |  329.48  \n",
            "   1    |   126   |   1.196468   |     -      |     -     |   94.70  \n",
            "----------------------------------------------------------------------\n",
            "   1    |    -    |   1.315534   |  0.959711  |   66.25   |  2125.85 \n",
            "----------------------------------------------------------------------\n",
            "\n",
            "\n",
            " Epoch  |  Batch  |  Train Loss  |  Val Loss  |  Val Acc  |  Elapsed \n",
            "----------------------------------------------------------------------\n",
            "   2    |   20    |   1.045570   |     -      |     -     |  346.81  \n",
            "   2    |   40    |   0.941637   |     -      |     -     |  331.18  \n",
            "   2    |   60    |   0.936178   |     -      |     -     |  330.50  \n"
          ]
        }
      ]
    },
    {
      "cell_type": "code",
      "source": [
        "print(bert_classifier.Linear(x).size())"
      ],
      "metadata": {
        "colab": {
          "base_uri": "https://localhost:8080/",
          "height": 287
        },
        "id": "ho6YEccpCdrH",
        "outputId": "f09184b3-d8d6-47c5-fd9e-d030128c6c40"
      },
      "execution_count": null,
      "outputs": [
        {
          "output_type": "error",
          "ename": "AttributeError",
          "evalue": "ignored",
          "traceback": [
            "\u001b[0;31m---------------------------------------------------------------------------\u001b[0m",
            "\u001b[0;31mAttributeError\u001b[0m                            Traceback (most recent call last)",
            "\u001b[0;32m<ipython-input-44-72049bed6ff6>\u001b[0m in \u001b[0;36m<module>\u001b[0;34m\u001b[0m\n\u001b[0;32m----> 1\u001b[0;31m \u001b[0mprint\u001b[0m\u001b[0;34m(\u001b[0m\u001b[0mbert_classifier\u001b[0m\u001b[0;34m.\u001b[0m\u001b[0mLinear\u001b[0m\u001b[0;34m(\u001b[0m\u001b[0mx\u001b[0m\u001b[0;34m)\u001b[0m\u001b[0;34m.\u001b[0m\u001b[0msize\u001b[0m\u001b[0;34m(\u001b[0m\u001b[0;34m)\u001b[0m\u001b[0;34m)\u001b[0m\u001b[0;34m\u001b[0m\u001b[0;34m\u001b[0m\u001b[0m\n\u001b[0m",
            "\u001b[0;32m/usr/local/lib/python3.8/dist-packages/torch/nn/modules/module.py\u001b[0m in \u001b[0;36m__getattr__\u001b[0;34m(self, name)\u001b[0m\n\u001b[1;32m   1263\u001b[0m             \u001b[0;32mif\u001b[0m \u001b[0mname\u001b[0m \u001b[0;32min\u001b[0m \u001b[0mmodules\u001b[0m\u001b[0;34m:\u001b[0m\u001b[0;34m\u001b[0m\u001b[0;34m\u001b[0m\u001b[0m\n\u001b[1;32m   1264\u001b[0m                 \u001b[0;32mreturn\u001b[0m \u001b[0mmodules\u001b[0m\u001b[0;34m[\u001b[0m\u001b[0mname\u001b[0m\u001b[0;34m]\u001b[0m\u001b[0;34m\u001b[0m\u001b[0;34m\u001b[0m\u001b[0m\n\u001b[0;32m-> 1265\u001b[0;31m         raise AttributeError(\"'{}' object has no attribute '{}'\".format(\n\u001b[0m\u001b[1;32m   1266\u001b[0m             type(self).__name__, name))\n\u001b[1;32m   1267\u001b[0m \u001b[0;34m\u001b[0m\u001b[0m\n",
            "\u001b[0;31mAttributeError\u001b[0m: 'BertClassifier' object has no attribute 'Linear'"
          ]
        }
      ]
    }
  ]
}